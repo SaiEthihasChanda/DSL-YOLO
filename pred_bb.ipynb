{
 "cells": [
  {
   "cell_type": "code",
   "execution_count": 1,
   "id": "e406aa45-4372-4bab-afd4-09f7c42c6b0b",
   "metadata": {},
   "outputs": [
    {
     "name": "stderr",
     "output_type": "stream",
     "text": [
      "C:\\Users\\saiet\\anaconda3\\Lib\\site-packages\\paramiko\\transport.py:219: CryptographyDeprecationWarning: Blowfish has been deprecated and will be removed in a future release\n",
      "  \"class\": algorithms.Blowfish,\n"
     ]
    }
   ],
   "source": [
    "import numpy as np \n",
    "import matplotlib.pyplot as plt\n",
    "import glob\n",
    "import cv2\n",
    "import os\n",
    "import seaborn as sns\n",
    "import pandas as pd\n",
    "from skimage.filters import sobel\n",
    "from skimage.feature import graycomatrix, graycoprops\n",
    "from skimage.measure import shannon_entropy\n",
    "from tqdm import tqdm\n",
    "from ultralytics import YOLO\n",
    "import torch\n",
    "import joblib"
   ]
  },
  {
   "cell_type": "code",
   "execution_count": 2,
   "id": "098afe8e-23b5-4dea-b5d5-4810b507b1d4",
   "metadata": {},
   "outputs": [
    {
     "name": "stdout",
     "output_type": "stream",
     "text": [
      "##############################################\n",
      "best_neu.pt\n"
     ]
    },
    {
     "name": "stderr",
     "output_type": "stream",
     "text": [
      "Processing:   0%|                                                                             | 0/1800 [00:00<?, ?it/s]"
     ]
    },
    {
     "name": "stdout",
     "output_type": "stream",
     "text": [
      "\n",
      "0: 640x640 2 crazings, 19.2ms\n",
      "Speed: 7.8ms preprocess, 19.2ms inference, 185.3ms postprocess per image at shape (1, 3, 640, 640)\n"
     ]
    },
    {
     "name": "stderr",
     "output_type": "stream",
     "text": [
      "Processing:   0%|                                                                   | 1/1800 [00:03<1:46:15,  3.54s/it]"
     ]
    },
    {
     "name": "stdout",
     "output_type": "stream",
     "text": [
      "\n",
      "0: 640x640 3 crazings, 19.2ms\n",
      "Speed: 4.9ms preprocess, 19.2ms inference, 3.3ms postprocess per image at shape (1, 3, 640, 640)\n"
     ]
    },
    {
     "name": "stderr",
     "output_type": "stream",
     "text": [
      "Processing:   0%|                                                                     | 2/1800 [00:03<47:50,  1.60s/it]"
     ]
    },
    {
     "name": "stdout",
     "output_type": "stream",
     "text": [
      "\n",
      "0: 640x640 2 crazings, 18.2ms\n",
      "Speed: 5.2ms preprocess, 18.2ms inference, 3.2ms postprocess per image at shape (1, 3, 640, 640)\n"
     ]
    },
    {
     "name": "stderr",
     "output_type": "stream",
     "text": [
      "Processing:   0%|                                                                     | 3/1800 [00:03<28:16,  1.06it/s]"
     ]
    },
    {
     "name": "stdout",
     "output_type": "stream",
     "text": [
      "\n",
      "0: 640x640 2 crazings, 19.2ms\n",
      "Speed: 5.4ms preprocess, 19.2ms inference, 3.1ms postprocess per image at shape (1, 3, 640, 640)\n"
     ]
    },
    {
     "name": "stderr",
     "output_type": "stream",
     "text": [
      "Processing:   0%|▏                                                                    | 4/1800 [00:04<19:09,  1.56it/s]"
     ]
    },
    {
     "name": "stdout",
     "output_type": "stream",
     "text": [
      "\n",
      "0: 640x640 3 crazings, 17.8ms\n",
      "Speed: 5.3ms preprocess, 17.8ms inference, 3.0ms postprocess per image at shape (1, 3, 640, 640)\n"
     ]
    },
    {
     "name": "stderr",
     "output_type": "stream",
     "text": [
      "Processing:   0%|▏                                                                    | 5/1800 [00:04<14:53,  2.01it/s]"
     ]
    },
    {
     "name": "stdout",
     "output_type": "stream",
     "text": [
      "\n",
      "0: 640x640 2 crazings, 16.0ms\n",
      "Speed: 6.0ms preprocess, 16.0ms inference, 3.1ms postprocess per image at shape (1, 3, 640, 640)\n"
     ]
    },
    {
     "name": "stderr",
     "output_type": "stream",
     "text": [
      "Processing:   0%|▏                                                                    | 6/1800 [00:04<11:39,  2.56it/s]"
     ]
    },
    {
     "name": "stdout",
     "output_type": "stream",
     "text": [
      "\n",
      "0: 640x640 2 crazings, 1 patches, 9.3ms\n",
      "Speed: 3.3ms preprocess, 9.3ms inference, 3.0ms postprocess per image at shape (1, 3, 640, 640)\n"
     ]
    },
    {
     "name": "stderr",
     "output_type": "stream",
     "text": [
      "Processing:   0%|▎                                                                    | 7/1800 [00:04<09:56,  3.00it/s]"
     ]
    },
    {
     "name": "stdout",
     "output_type": "stream",
     "text": [
      "\n",
      "0: 640x640 3 crazings, 15.8ms\n",
      "Speed: 3.8ms preprocess, 15.8ms inference, 3.5ms postprocess per image at shape (1, 3, 640, 640)\n"
     ]
    },
    {
     "name": "stderr",
     "output_type": "stream",
     "text": [
      "Processing:   0%|▎                                                                    | 8/1800 [00:05<09:08,  3.26it/s]"
     ]
    },
    {
     "name": "stdout",
     "output_type": "stream",
     "text": [
      "\n",
      "0: 640x640 4 crazings, 17.9ms\n",
      "Speed: 5.2ms preprocess, 17.9ms inference, 3.1ms postprocess per image at shape (1, 3, 640, 640)\n"
     ]
    },
    {
     "name": "stderr",
     "output_type": "stream",
     "text": [
      "Processing:   0%|▎                                                                    | 9/1800 [00:05<09:08,  3.27it/s]"
     ]
    },
    {
     "name": "stdout",
     "output_type": "stream",
     "text": [
      "\n",
      "0: 640x640 3 crazings, 15.6ms\n",
      "Speed: 5.0ms preprocess, 15.6ms inference, 3.5ms postprocess per image at shape (1, 3, 640, 640)\n"
     ]
    },
    {
     "name": "stderr",
     "output_type": "stream",
     "text": [
      "Processing:   1%|▍                                                                   | 10/1800 [00:05<08:29,  3.51it/s]"
     ]
    },
    {
     "name": "stdout",
     "output_type": "stream",
     "text": [
      "\n",
      "0: 640x640 2 crazings, 21.6ms\n",
      "Speed: 5.5ms preprocess, 21.6ms inference, 3.0ms postprocess per image at shape (1, 3, 640, 640)\n"
     ]
    },
    {
     "name": "stderr",
     "output_type": "stream",
     "text": [
      "Processing:   1%|▍                                                                   | 11/1800 [00:05<07:23,  4.03it/s]"
     ]
    },
    {
     "name": "stdout",
     "output_type": "stream",
     "text": [
      "\n",
      "0: 640x640 3 crazings, 14.3ms\n",
      "Speed: 5.6ms preprocess, 14.3ms inference, 4.1ms postprocess per image at shape (1, 3, 640, 640)\n"
     ]
    },
    {
     "name": "stderr",
     "output_type": "stream",
     "text": [
      "Processing:   1%|▍                                                                   | 12/1800 [00:05<07:25,  4.01it/s]"
     ]
    },
    {
     "name": "stdout",
     "output_type": "stream",
     "text": [
      "\n",
      "0: 640x640 4 crazings, 14.8ms\n",
      "Speed: 5.5ms preprocess, 14.8ms inference, 3.0ms postprocess per image at shape (1, 3, 640, 640)\n"
     ]
    },
    {
     "name": "stderr",
     "output_type": "stream",
     "text": [
      "Processing:   1%|▍                                                                   | 13/1800 [00:06<07:42,  3.86it/s]"
     ]
    },
    {
     "name": "stdout",
     "output_type": "stream",
     "text": [
      "\n",
      "0: 640x640 3 crazings, 17.6ms\n",
      "Speed: 5.5ms preprocess, 17.6ms inference, 2.6ms postprocess per image at shape (1, 3, 640, 640)\n"
     ]
    },
    {
     "name": "stderr",
     "output_type": "stream",
     "text": [
      "Processing:   1%|▌                                                                   | 14/1800 [00:06<07:31,  3.95it/s]"
     ]
    },
    {
     "name": "stdout",
     "output_type": "stream",
     "text": [
      "\n",
      "0: 640x640 3 crazings, 17.9ms\n",
      "Speed: 5.0ms preprocess, 17.9ms inference, 2.9ms postprocess per image at shape (1, 3, 640, 640)\n"
     ]
    },
    {
     "name": "stderr",
     "output_type": "stream",
     "text": [
      "Processing:   1%|▌                                                                   | 15/1800 [00:06<07:24,  4.02it/s]"
     ]
    },
    {
     "name": "stdout",
     "output_type": "stream",
     "text": [
      "\n",
      "0: 640x640 2 crazings, 16.0ms\n",
      "Speed: 3.5ms preprocess, 16.0ms inference, 3.2ms postprocess per image at shape (1, 3, 640, 640)\n"
     ]
    },
    {
     "name": "stderr",
     "output_type": "stream",
     "text": [
      "Processing:   1%|▌                                                                   | 16/1800 [00:06<06:41,  4.45it/s]"
     ]
    },
    {
     "name": "stdout",
     "output_type": "stream",
     "text": [
      "\n",
      "0: 640x640 3 crazings, 17.6ms\n",
      "Speed: 5.1ms preprocess, 17.6ms inference, 3.4ms postprocess per image at shape (1, 3, 640, 640)\n"
     ]
    },
    {
     "name": "stderr",
     "output_type": "stream",
     "text": [
      "Processing:   1%|▋                                                                   | 17/1800 [00:07<06:51,  4.34it/s]"
     ]
    },
    {
     "name": "stdout",
     "output_type": "stream",
     "text": [
      "\n",
      "0: 640x640 4 crazings, 17.0ms\n",
      "Speed: 5.7ms preprocess, 17.0ms inference, 2.9ms postprocess per image at shape (1, 3, 640, 640)\n"
     ]
    },
    {
     "name": "stderr",
     "output_type": "stream",
     "text": [
      "Processing:   1%|▋                                                                   | 18/1800 [00:07<07:39,  3.88it/s]"
     ]
    },
    {
     "name": "stdout",
     "output_type": "stream",
     "text": [
      "\n",
      "0: 640x640 2 crazings, 16.3ms\n",
      "Speed: 8.1ms preprocess, 16.3ms inference, 2.8ms postprocess per image at shape (1, 3, 640, 640)\n"
     ]
    },
    {
     "name": "stderr",
     "output_type": "stream",
     "text": [
      "Processing:   1%|▋                                                                   | 19/1800 [00:07<06:55,  4.29it/s]"
     ]
    },
    {
     "name": "stdout",
     "output_type": "stream",
     "text": [
      "\n",
      "0: 640x640 2 crazings, 16.3ms\n",
      "Speed: 4.4ms preprocess, 16.3ms inference, 2.8ms postprocess per image at shape (1, 3, 640, 640)\n"
     ]
    },
    {
     "name": "stderr",
     "output_type": "stream",
     "text": [
      "Processing:   1%|▊                                                                   | 20/1800 [00:07<06:18,  4.70it/s]"
     ]
    },
    {
     "name": "stdout",
     "output_type": "stream",
     "text": [
      "\n",
      "0: 640x640 2 crazings, 10.7ms\n",
      "Speed: 4.2ms preprocess, 10.7ms inference, 3.7ms postprocess per image at shape (1, 3, 640, 640)\n"
     ]
    },
    {
     "name": "stderr",
     "output_type": "stream",
     "text": [
      "Processing:   1%|▊                                                                   | 21/1800 [00:07<05:36,  5.29it/s]"
     ]
    },
    {
     "name": "stdout",
     "output_type": "stream",
     "text": [
      "\n",
      "0: 640x640 3 crazings, 17.1ms\n",
      "Speed: 4.7ms preprocess, 17.1ms inference, 3.3ms postprocess per image at shape (1, 3, 640, 640)\n"
     ]
    },
    {
     "name": "stderr",
     "output_type": "stream",
     "text": [
      "Processing:   1%|▊                                                                   | 22/1800 [00:08<06:09,  4.81it/s]"
     ]
    },
    {
     "name": "stdout",
     "output_type": "stream",
     "text": [
      "\n",
      "0: 640x640 2 crazings, 23.2ms\n",
      "Speed: 4.9ms preprocess, 23.2ms inference, 3.9ms postprocess per image at shape (1, 3, 640, 640)\n"
     ]
    },
    {
     "name": "stderr",
     "output_type": "stream",
     "text": [
      "Processing:   1%|▊                                                                   | 23/1800 [00:08<05:55,  5.00it/s]"
     ]
    },
    {
     "name": "stdout",
     "output_type": "stream",
     "text": [
      "\n",
      "0: 640x640 2 crazings, 12.9ms\n",
      "Speed: 5.5ms preprocess, 12.9ms inference, 3.7ms postprocess per image at shape (1, 3, 640, 640)\n"
     ]
    },
    {
     "name": "stderr",
     "output_type": "stream",
     "text": [
      "Processing:   1%|▉                                                                   | 24/1800 [00:08<05:21,  5.52it/s]"
     ]
    },
    {
     "name": "stdout",
     "output_type": "stream",
     "text": [
      "\n",
      "0: 640x640 2 crazings, 17.0ms\n",
      "Speed: 4.7ms preprocess, 17.0ms inference, 3.6ms postprocess per image at shape (1, 3, 640, 640)\n"
     ]
    },
    {
     "name": "stderr",
     "output_type": "stream",
     "text": [
      "Processing:   1%|▉                                                                   | 25/1800 [00:08<05:17,  5.59it/s]"
     ]
    },
    {
     "name": "stdout",
     "output_type": "stream",
     "text": [
      "\n",
      "0: 640x640 2 crazings, 25.3ms\n",
      "Speed: 5.1ms preprocess, 25.3ms inference, 3.3ms postprocess per image at shape (1, 3, 640, 640)\n"
     ]
    },
    {
     "name": "stderr",
     "output_type": "stream",
     "text": [
      "Processing:   1%|▉                                                                   | 26/1800 [00:08<05:17,  5.59it/s]"
     ]
    },
    {
     "name": "stdout",
     "output_type": "stream",
     "text": [
      "\n",
      "0: 640x640 1 crazing, 14.4ms\n",
      "Speed: 5.3ms preprocess, 14.4ms inference, 4.3ms postprocess per image at shape (1, 3, 640, 640)\n",
      "\n",
      "0: 640x640 4 crazings, 18.4ms\n",
      "Speed: 5.4ms preprocess, 18.4ms inference, 3.8ms postprocess per image at shape (1, 3, 640, 640)\n"
     ]
    },
    {
     "name": "stderr",
     "output_type": "stream",
     "text": [
      "Processing:   2%|█                                                                   | 28/1800 [00:09<05:43,  5.17it/s]"
     ]
    },
    {
     "name": "stdout",
     "output_type": "stream",
     "text": [
      "\n",
      "0: 640x640 3 crazings, 15.4ms\n",
      "Speed: 5.3ms preprocess, 15.4ms inference, 3.4ms postprocess per image at shape (1, 3, 640, 640)\n"
     ]
    },
    {
     "name": "stderr",
     "output_type": "stream",
     "text": [
      "Processing:   2%|█                                                                   | 29/1800 [00:09<06:11,  4.76it/s]"
     ]
    },
    {
     "name": "stdout",
     "output_type": "stream",
     "text": [
      "\n",
      "0: 640x640 4 crazings, 18.0ms\n",
      "Speed: 4.8ms preprocess, 18.0ms inference, 3.4ms postprocess per image at shape (1, 3, 640, 640)\n"
     ]
    },
    {
     "name": "stderr",
     "output_type": "stream",
     "text": [
      "Processing:   2%|█▏                                                                  | 30/1800 [00:09<07:00,  4.21it/s]"
     ]
    },
    {
     "name": "stdout",
     "output_type": "stream",
     "text": [
      "\n",
      "0: 640x640 1 crazing, 22.7ms\n",
      "Speed: 5.2ms preprocess, 22.7ms inference, 2.6ms postprocess per image at shape (1, 3, 640, 640)\n"
     ]
    },
    {
     "name": "stderr",
     "output_type": "stream",
     "text": [
      "Processing:   2%|█▏                                                                  | 31/1800 [00:09<06:01,  4.89it/s]"
     ]
    },
    {
     "name": "stdout",
     "output_type": "stream",
     "text": [
      "\n",
      "0: 640x640 3 crazings, 17.3ms\n",
      "Speed: 4.7ms preprocess, 17.3ms inference, 3.9ms postprocess per image at shape (1, 3, 640, 640)\n"
     ]
    },
    {
     "name": "stderr",
     "output_type": "stream",
     "text": [
      "Processing:   2%|█▏                                                                  | 32/1800 [00:10<06:23,  4.61it/s]"
     ]
    },
    {
     "name": "stdout",
     "output_type": "stream",
     "text": [
      "\n",
      "0: 640x640 3 crazings, 15.4ms\n",
      "Speed: 4.9ms preprocess, 15.4ms inference, 4.0ms postprocess per image at shape (1, 3, 640, 640)\n"
     ]
    },
    {
     "name": "stderr",
     "output_type": "stream",
     "text": [
      "Processing:   2%|█▏                                                                  | 33/1800 [00:10<06:36,  4.45it/s]"
     ]
    },
    {
     "name": "stdout",
     "output_type": "stream",
     "text": [
      "\n",
      "0: 640x640 3 crazings, 14.5ms\n",
      "Speed: 5.2ms preprocess, 14.5ms inference, 3.3ms postprocess per image at shape (1, 3, 640, 640)\n"
     ]
    },
    {
     "name": "stderr",
     "output_type": "stream",
     "text": [
      "Processing:   2%|█▎                                                                  | 34/1800 [00:10<06:47,  4.33it/s]"
     ]
    },
    {
     "name": "stdout",
     "output_type": "stream",
     "text": [
      "\n",
      "0: 640x640 3 crazings, 20.6ms\n",
      "Speed: 5.4ms preprocess, 20.6ms inference, 3.8ms postprocess per image at shape (1, 3, 640, 640)\n"
     ]
    },
    {
     "name": "stderr",
     "output_type": "stream",
     "text": [
      "Processing:   2%|█▎                                                                  | 35/1800 [00:10<06:56,  4.23it/s]"
     ]
    },
    {
     "name": "stdout",
     "output_type": "stream",
     "text": [
      "\n",
      "0: 640x640 4 crazings, 22.6ms\n",
      "Speed: 6.9ms preprocess, 22.6ms inference, 3.7ms postprocess per image at shape (1, 3, 640, 640)\n"
     ]
    },
    {
     "name": "stderr",
     "output_type": "stream",
     "text": [
      "Processing:   2%|█▎                                                                  | 36/1800 [00:11<07:58,  3.69it/s]"
     ]
    },
    {
     "name": "stdout",
     "output_type": "stream",
     "text": [
      "\n",
      "0: 640x640 3 crazings, 17.5ms\n",
      "Speed: 3.9ms preprocess, 17.5ms inference, 2.7ms postprocess per image at shape (1, 3, 640, 640)\n"
     ]
    },
    {
     "name": "stderr",
     "output_type": "stream",
     "text": [
      "Processing:   2%|█▍                                                                  | 37/1800 [00:11<07:40,  3.83it/s]"
     ]
    },
    {
     "name": "stdout",
     "output_type": "stream",
     "text": [
      "\n",
      "0: 640x640 2 crazings, 17.1ms\n",
      "Speed: 4.8ms preprocess, 17.1ms inference, 3.5ms postprocess per image at shape (1, 3, 640, 640)\n"
     ]
    },
    {
     "name": "stderr",
     "output_type": "stream",
     "text": [
      "Processing:   2%|█▍                                                                  | 38/1800 [00:11<06:58,  4.21it/s]"
     ]
    },
    {
     "name": "stdout",
     "output_type": "stream",
     "text": [
      "\n",
      "0: 640x640 2 crazings, 23.1ms\n",
      "Speed: 5.5ms preprocess, 23.1ms inference, 5.1ms postprocess per image at shape (1, 3, 640, 640)\n"
     ]
    },
    {
     "name": "stderr",
     "output_type": "stream",
     "text": [
      "Processing:   2%|█▍                                                                  | 39/1800 [00:11<06:28,  4.54it/s]"
     ]
    },
    {
     "name": "stdout",
     "output_type": "stream",
     "text": [
      "\n",
      "0: 640x640 2 crazings, 15.7ms\n",
      "Speed: 4.3ms preprocess, 15.7ms inference, 2.7ms postprocess per image at shape (1, 3, 640, 640)\n"
     ]
    },
    {
     "name": "stderr",
     "output_type": "stream",
     "text": [
      "Processing:   2%|█▌                                                                  | 40/1800 [00:12<06:07,  4.79it/s]"
     ]
    },
    {
     "name": "stdout",
     "output_type": "stream",
     "text": [
      "\n",
      "0: 640x640 2 crazings, 24.5ms\n",
      "Speed: 11.6ms preprocess, 24.5ms inference, 4.7ms postprocess per image at shape (1, 3, 640, 640)\n"
     ]
    },
    {
     "name": "stderr",
     "output_type": "stream",
     "text": [
      "Processing:   2%|█▌                                                                  | 41/1800 [00:12<06:00,  4.88it/s]"
     ]
    },
    {
     "name": "stdout",
     "output_type": "stream",
     "text": [
      "\n",
      "0: 640x640 3 crazings, 1 patches, 17.1ms\n",
      "Speed: 5.6ms preprocess, 17.1ms inference, 3.9ms postprocess per image at shape (1, 3, 640, 640)\n"
     ]
    },
    {
     "name": "stderr",
     "output_type": "stream",
     "text": [
      "Processing:   2%|█▌                                                                  | 42/1800 [00:12<06:55,  4.23it/s]"
     ]
    },
    {
     "name": "stdout",
     "output_type": "stream",
     "text": [
      "\n",
      "0: 640x640 2 crazings, 82.2ms\n",
      "Speed: 5.5ms preprocess, 82.2ms inference, 12.0ms postprocess per image at shape (1, 3, 640, 640)\n"
     ]
    },
    {
     "name": "stderr",
     "output_type": "stream",
     "text": [
      "Processing:   2%|█▌                                                                  | 43/1800 [00:12<07:32,  3.88it/s]"
     ]
    },
    {
     "name": "stdout",
     "output_type": "stream",
     "text": [
      "\n",
      "0: 640x640 3 crazings, 14.6ms\n",
      "Speed: 5.3ms preprocess, 14.6ms inference, 2.7ms postprocess per image at shape (1, 3, 640, 640)\n"
     ]
    },
    {
     "name": "stderr",
     "output_type": "stream",
     "text": [
      "Processing:   2%|█▋                                                                  | 44/1800 [00:13<07:21,  3.97it/s]"
     ]
    },
    {
     "name": "stdout",
     "output_type": "stream",
     "text": [
      "\n",
      "0: 640x640 3 crazings, 18.3ms\n",
      "Speed: 4.1ms preprocess, 18.3ms inference, 2.2ms postprocess per image at shape (1, 3, 640, 640)\n"
     ]
    },
    {
     "name": "stderr",
     "output_type": "stream",
     "text": [
      "Processing:   2%|█▋                                                                  | 45/1800 [00:13<07:13,  4.05it/s]"
     ]
    },
    {
     "name": "stdout",
     "output_type": "stream",
     "text": [
      "\n",
      "0: 640x640 1 crazing, 18.0ms\n",
      "Speed: 5.6ms preprocess, 18.0ms inference, 3.2ms postprocess per image at shape (1, 3, 640, 640)\n"
     ]
    },
    {
     "name": "stderr",
     "output_type": "stream",
     "text": [
      "Processing:   3%|█▋                                                                  | 46/1800 [00:13<05:57,  4.90it/s]"
     ]
    },
    {
     "name": "stdout",
     "output_type": "stream",
     "text": [
      "\n",
      "0: 640x640 2 crazings, 17.5ms\n",
      "Speed: 5.5ms preprocess, 17.5ms inference, 3.1ms postprocess per image at shape (1, 3, 640, 640)\n"
     ]
    },
    {
     "name": "stderr",
     "output_type": "stream",
     "text": [
      "Processing:   3%|█▊                                                                  | 47/1800 [00:13<05:33,  5.26it/s]"
     ]
    },
    {
     "name": "stdout",
     "output_type": "stream",
     "text": [
      "\n",
      "0: 640x640 3 crazings, 17.9ms\n",
      "Speed: 5.1ms preprocess, 17.9ms inference, 2.2ms postprocess per image at shape (1, 3, 640, 640)\n"
     ]
    },
    {
     "name": "stderr",
     "output_type": "stream",
     "text": [
      "Processing:   3%|█▊                                                                  | 48/1800 [00:13<05:52,  4.97it/s]"
     ]
    },
    {
     "name": "stdout",
     "output_type": "stream",
     "text": [
      "\n",
      "0: 640x640 3 crazings, 1 patches, 18.7ms\n",
      "Speed: 4.9ms preprocess, 18.7ms inference, 3.2ms postprocess per image at shape (1, 3, 640, 640)\n"
     ]
    },
    {
     "name": "stderr",
     "output_type": "stream",
     "text": [
      "Processing:   3%|█▊                                                                  | 49/1800 [00:14<06:39,  4.38it/s]"
     ]
    },
    {
     "name": "stdout",
     "output_type": "stream",
     "text": [
      "\n",
      "0: 640x640 3 crazings, 13.9ms\n",
      "Speed: 5.7ms preprocess, 13.9ms inference, 3.3ms postprocess per image at shape (1, 3, 640, 640)\n"
     ]
    },
    {
     "name": "stderr",
     "output_type": "stream",
     "text": [
      "Processing:   3%|█▉                                                                  | 50/1800 [00:14<06:41,  4.36it/s]"
     ]
    },
    {
     "name": "stdout",
     "output_type": "stream",
     "text": [
      "\n",
      "0: 640x640 2 crazings, 17.4ms\n",
      "Speed: 5.5ms preprocess, 17.4ms inference, 3.0ms postprocess per image at shape (1, 3, 640, 640)\n"
     ]
    },
    {
     "name": "stderr",
     "output_type": "stream",
     "text": [
      "Processing:   3%|█▉                                                                  | 51/1800 [00:14<06:01,  4.84it/s]"
     ]
    },
    {
     "name": "stdout",
     "output_type": "stream",
     "text": [
      "\n",
      "0: 640x640 2 crazings, 18.5ms\n",
      "Speed: 4.7ms preprocess, 18.5ms inference, 2.8ms postprocess per image at shape (1, 3, 640, 640)\n"
     ]
    },
    {
     "name": "stderr",
     "output_type": "stream",
     "text": [
      "Processing:   3%|█▉                                                                  | 52/1800 [00:14<05:46,  5.04it/s]"
     ]
    },
    {
     "name": "stdout",
     "output_type": "stream",
     "text": [
      "\n",
      "0: 640x640 2 crazings, 13.2ms\n",
      "Speed: 5.6ms preprocess, 13.2ms inference, 3.3ms postprocess per image at shape (1, 3, 640, 640)\n"
     ]
    },
    {
     "name": "stderr",
     "output_type": "stream",
     "text": [
      "Processing:   3%|██                                                                  | 53/1800 [00:14<05:25,  5.36it/s]"
     ]
    },
    {
     "name": "stdout",
     "output_type": "stream",
     "text": [
      "\n",
      "0: 640x640 2 crazings, 16.7ms\n",
      "Speed: 3.5ms preprocess, 16.7ms inference, 2.6ms postprocess per image at shape (1, 3, 640, 640)\n"
     ]
    },
    {
     "name": "stderr",
     "output_type": "stream",
     "text": [
      "Processing:   3%|██                                                                  | 54/1800 [00:15<05:14,  5.55it/s]"
     ]
    },
    {
     "name": "stdout",
     "output_type": "stream",
     "text": [
      "\n",
      "0: 640x640 3 crazings, 18.0ms\n",
      "Speed: 6.9ms preprocess, 18.0ms inference, 6.1ms postprocess per image at shape (1, 3, 640, 640)\n"
     ]
    },
    {
     "name": "stderr",
     "output_type": "stream",
     "text": [
      "Processing:   3%|██                                                                  | 55/1800 [00:15<05:47,  5.03it/s]"
     ]
    },
    {
     "name": "stdout",
     "output_type": "stream",
     "text": [
      "\n",
      "0: 640x640 2 crazings, 1 inculsion, 16.3ms\n",
      "Speed: 6.2ms preprocess, 16.3ms inference, 3.2ms postprocess per image at shape (1, 3, 640, 640)\n"
     ]
    },
    {
     "name": "stderr",
     "output_type": "stream",
     "text": [
      "Processing:   3%|██                                                                  | 56/1800 [00:15<05:56,  4.89it/s]"
     ]
    },
    {
     "name": "stdout",
     "output_type": "stream",
     "text": [
      "\n",
      "0: 640x640 2 crazings, 13.8ms\n",
      "Speed: 4.9ms preprocess, 13.8ms inference, 3.3ms postprocess per image at shape (1, 3, 640, 640)\n"
     ]
    },
    {
     "name": "stderr",
     "output_type": "stream",
     "text": [
      "Processing:   3%|██▏                                                                 | 57/1800 [00:15<05:30,  5.27it/s]"
     ]
    },
    {
     "name": "stdout",
     "output_type": "stream",
     "text": [
      "\n",
      "0: 640x640 2 crazings, 19.9ms\n",
      "Speed: 5.3ms preprocess, 19.9ms inference, 3.0ms postprocess per image at shape (1, 3, 640, 640)\n"
     ]
    },
    {
     "name": "stderr",
     "output_type": "stream",
     "text": [
      "Processing:   3%|██▏                                                                 | 58/1800 [00:15<05:20,  5.43it/s]"
     ]
    },
    {
     "name": "stdout",
     "output_type": "stream",
     "text": [
      "\n",
      "0: 640x640 2 crazings, 1 inculsion, 15.3ms\n",
      "Speed: 5.4ms preprocess, 15.3ms inference, 3.1ms postprocess per image at shape (1, 3, 640, 640)\n"
     ]
    },
    {
     "name": "stderr",
     "output_type": "stream",
     "text": [
      "Processing:   3%|██▏                                                                 | 59/1800 [00:16<05:48,  4.99it/s]"
     ]
    },
    {
     "name": "stdout",
     "output_type": "stream",
     "text": [
      "\n",
      "0: 640x640 3 crazings, 15.6ms\n",
      "Speed: 5.6ms preprocess, 15.6ms inference, 4.2ms postprocess per image at shape (1, 3, 640, 640)\n"
     ]
    },
    {
     "name": "stderr",
     "output_type": "stream",
     "text": [
      "Processing:   3%|██▎                                                                 | 60/1800 [00:16<06:06,  4.75it/s]"
     ]
    },
    {
     "name": "stdout",
     "output_type": "stream",
     "text": [
      "\n",
      "0: 640x640 3 crazings, 12.6ms\n",
      "Speed: 6.2ms preprocess, 12.6ms inference, 3.0ms postprocess per image at shape (1, 3, 640, 640)\n"
     ]
    },
    {
     "name": "stderr",
     "output_type": "stream",
     "text": [
      "Processing:   3%|██▎                                                                 | 61/1800 [00:16<06:13,  4.66it/s]"
     ]
    },
    {
     "name": "stdout",
     "output_type": "stream",
     "text": [
      "\n",
      "0: 640x640 3 crazings, 12.5ms\n",
      "Speed: 4.9ms preprocess, 12.5ms inference, 6.1ms postprocess per image at shape (1, 3, 640, 640)\n"
     ]
    },
    {
     "name": "stderr",
     "output_type": "stream",
     "text": [
      "Processing:   3%|██▎                                                                 | 62/1800 [00:16<06:27,  4.48it/s]"
     ]
    },
    {
     "name": "stdout",
     "output_type": "stream",
     "text": [
      "\n",
      "0: 640x640 3 crazings, 16.9ms\n",
      "Speed: 5.3ms preprocess, 16.9ms inference, 3.7ms postprocess per image at shape (1, 3, 640, 640)\n"
     ]
    },
    {
     "name": "stderr",
     "output_type": "stream",
     "text": [
      "Processing:   4%|██▍                                                                 | 63/1800 [00:17<06:32,  4.43it/s]"
     ]
    },
    {
     "name": "stdout",
     "output_type": "stream",
     "text": [
      "\n",
      "0: 640x640 3 crazings, 25.6ms\n",
      "Speed: 6.0ms preprocess, 25.6ms inference, 1.8ms postprocess per image at shape (1, 3, 640, 640)\n"
     ]
    },
    {
     "name": "stderr",
     "output_type": "stream",
     "text": [
      "Processing:   4%|██▍                                                                 | 64/1800 [00:17<06:39,  4.34it/s]"
     ]
    },
    {
     "name": "stdout",
     "output_type": "stream",
     "text": [
      "\n",
      "0: 640x640 6 crazings, 17.1ms\n",
      "Speed: 4.3ms preprocess, 17.1ms inference, 3.6ms postprocess per image at shape (1, 3, 640, 640)\n"
     ]
    },
    {
     "name": "stderr",
     "output_type": "stream",
     "text": [
      "Processing:   4%|██▍                                                                 | 65/1800 [00:17<08:21,  3.46it/s]"
     ]
    },
    {
     "name": "stdout",
     "output_type": "stream",
     "text": [
      "\n",
      "0: 640x640 2 crazings, 16.1ms\n",
      "Speed: 5.7ms preprocess, 16.1ms inference, 2.7ms postprocess per image at shape (1, 3, 640, 640)\n"
     ]
    },
    {
     "name": "stderr",
     "output_type": "stream",
     "text": [
      "Processing:   4%|██▍                                                                 | 66/1800 [00:17<07:15,  3.98it/s]"
     ]
    },
    {
     "name": "stdout",
     "output_type": "stream",
     "text": [
      "\n",
      "0: 640x640 2 crazings, 14.1ms\n",
      "Speed: 4.6ms preprocess, 14.1ms inference, 3.4ms postprocess per image at shape (1, 3, 640, 640)\n"
     ]
    },
    {
     "name": "stderr",
     "output_type": "stream",
     "text": [
      "Processing:   4%|██▌                                                                 | 67/1800 [00:18<06:30,  4.44it/s]"
     ]
    },
    {
     "name": "stdout",
     "output_type": "stream",
     "text": [
      "\n",
      "0: 640x640 3 crazings, 18.8ms\n",
      "Speed: 5.3ms preprocess, 18.8ms inference, 3.7ms postprocess per image at shape (1, 3, 640, 640)\n"
     ]
    },
    {
     "name": "stderr",
     "output_type": "stream",
     "text": [
      "Processing:   4%|██▌                                                                 | 68/1800 [00:18<06:35,  4.38it/s]"
     ]
    },
    {
     "name": "stdout",
     "output_type": "stream",
     "text": [
      "\n",
      "0: 640x640 2 crazings, 18.1ms\n",
      "Speed: 5.3ms preprocess, 18.1ms inference, 5.0ms postprocess per image at shape (1, 3, 640, 640)\n"
     ]
    },
    {
     "name": "stderr",
     "output_type": "stream",
     "text": [
      "Processing:   4%|██▌                                                                 | 69/1800 [00:18<06:05,  4.73it/s]"
     ]
    },
    {
     "name": "stdout",
     "output_type": "stream",
     "text": [
      "\n",
      "0: 640x640 2 crazings, 16.5ms\n",
      "Speed: 5.9ms preprocess, 16.5ms inference, 4.2ms postprocess per image at shape (1, 3, 640, 640)\n"
     ]
    },
    {
     "name": "stderr",
     "output_type": "stream",
     "text": [
      "Processing:   4%|██▋                                                                 | 70/1800 [00:18<05:43,  5.04it/s]"
     ]
    },
    {
     "name": "stdout",
     "output_type": "stream",
     "text": [
      "\n",
      "0: 640x640 1 crazing, 17.4ms\n",
      "Speed: 4.9ms preprocess, 17.4ms inference, 3.5ms postprocess per image at shape (1, 3, 640, 640)\n",
      "\n",
      "0: 640x640 3 crazings, 24.3ms\n",
      "Speed: 7.6ms preprocess, 24.3ms inference, 3.2ms postprocess per image at shape (1, 3, 640, 640)\n"
     ]
    },
    {
     "name": "stderr",
     "output_type": "stream",
     "text": [
      "Processing:   4%|██▋                                                                 | 72/1800 [00:18<05:23,  5.34it/s]"
     ]
    },
    {
     "name": "stdout",
     "output_type": "stream",
     "text": [
      "\n",
      "0: 640x640 3 crazings, 17.6ms\n",
      "Speed: 5.3ms preprocess, 17.6ms inference, 3.2ms postprocess per image at shape (1, 3, 640, 640)\n"
     ]
    },
    {
     "name": "stderr",
     "output_type": "stream",
     "text": [
      "Processing:   4%|██▊                                                                 | 73/1800 [00:19<05:31,  5.21it/s]"
     ]
    },
    {
     "name": "stdout",
     "output_type": "stream",
     "text": [
      "\n",
      "0: 640x640 4 crazings, 14.9ms\n",
      "Speed: 4.7ms preprocess, 14.9ms inference, 3.7ms postprocess per image at shape (1, 3, 640, 640)\n"
     ]
    },
    {
     "name": "stderr",
     "output_type": "stream",
     "text": [
      "Processing:   4%|██▊                                                                 | 74/1800 [00:19<06:31,  4.41it/s]"
     ]
    },
    {
     "name": "stdout",
     "output_type": "stream",
     "text": [
      "\n",
      "0: 640x640 2 crazings, 17.6ms\n",
      "Speed: 5.6ms preprocess, 17.6ms inference, 3.8ms postprocess per image at shape (1, 3, 640, 640)\n"
     ]
    },
    {
     "name": "stderr",
     "output_type": "stream",
     "text": [
      "Processing:   4%|██▊                                                                 | 75/1800 [00:19<06:07,  4.70it/s]"
     ]
    },
    {
     "name": "stdout",
     "output_type": "stream",
     "text": [
      "\n",
      "0: 640x640 2 crazings, 18.2ms\n",
      "Speed: 4.0ms preprocess, 18.2ms inference, 3.6ms postprocess per image at shape (1, 3, 640, 640)\n"
     ]
    },
    {
     "name": "stderr",
     "output_type": "stream",
     "text": [
      "Processing:   4%|██▊                                                                 | 76/1800 [00:19<05:39,  5.07it/s]"
     ]
    },
    {
     "name": "stdout",
     "output_type": "stream",
     "text": [
      "\n",
      "0: 640x640 2 crazings, 18.9ms\n",
      "Speed: 5.6ms preprocess, 18.9ms inference, 3.8ms postprocess per image at shape (1, 3, 640, 640)\n"
     ]
    },
    {
     "name": "stderr",
     "output_type": "stream",
     "text": [
      "Processing:   4%|██▉                                                                 | 77/1800 [00:19<05:27,  5.26it/s]"
     ]
    },
    {
     "name": "stdout",
     "output_type": "stream",
     "text": [
      "\n",
      "0: 640x640 2 crazings, 1 patches, 17.0ms\n",
      "Speed: 6.0ms preprocess, 17.0ms inference, 3.7ms postprocess per image at shape (1, 3, 640, 640)\n"
     ]
    },
    {
     "name": "stderr",
     "output_type": "stream",
     "text": [
      "Processing:   4%|██▉                                                                 | 78/1800 [00:20<05:52,  4.88it/s]"
     ]
    },
    {
     "name": "stdout",
     "output_type": "stream",
     "text": [
      "\n",
      "0: 640x640 1 crazing, 17.0ms\n",
      "Speed: 5.1ms preprocess, 17.0ms inference, 2.6ms postprocess per image at shape (1, 3, 640, 640)\n",
      "\n",
      "0: 640x640 2 crazings, 13.1ms\n",
      "Speed: 3.9ms preprocess, 13.1ms inference, 1.9ms postprocess per image at shape (1, 3, 640, 640)\n"
     ]
    },
    {
     "name": "stderr",
     "output_type": "stream",
     "text": [
      "Processing:   4%|███                                                                 | 80/1800 [00:20<04:42,  6.08it/s]"
     ]
    },
    {
     "name": "stdout",
     "output_type": "stream",
     "text": [
      "\n",
      "0: 640x640 3 crazings, 14.6ms\n",
      "Speed: 5.6ms preprocess, 14.6ms inference, 4.6ms postprocess per image at shape (1, 3, 640, 640)\n"
     ]
    },
    {
     "name": "stderr",
     "output_type": "stream",
     "text": [
      "Processing:   4%|███                                                                 | 81/1800 [00:20<05:16,  5.43it/s]"
     ]
    },
    {
     "name": "stdout",
     "output_type": "stream",
     "text": [
      "\n",
      "0: 640x640 2 crazings, 14.8ms\n",
      "Speed: 4.1ms preprocess, 14.8ms inference, 3.8ms postprocess per image at shape (1, 3, 640, 640)\n"
     ]
    },
    {
     "name": "stderr",
     "output_type": "stream",
     "text": [
      "Processing:   5%|███                                                                 | 82/1800 [00:20<05:11,  5.52it/s]"
     ]
    },
    {
     "name": "stdout",
     "output_type": "stream",
     "text": [
      "\n",
      "0: 640x640 2 crazings, 16.0ms\n",
      "Speed: 3.6ms preprocess, 16.0ms inference, 2.7ms postprocess per image at shape (1, 3, 640, 640)\n"
     ]
    },
    {
     "name": "stderr",
     "output_type": "stream",
     "text": [
      "Processing:   5%|███▏                                                                | 83/1800 [00:21<04:56,  5.79it/s]"
     ]
    },
    {
     "name": "stdout",
     "output_type": "stream",
     "text": [
      "\n",
      "0: 640x640 3 crazings, 15.2ms\n",
      "Speed: 6.0ms preprocess, 15.2ms inference, 4.0ms postprocess per image at shape (1, 3, 640, 640)\n"
     ]
    },
    {
     "name": "stderr",
     "output_type": "stream",
     "text": [
      "Processing:   5%|███▏                                                                | 84/1800 [00:21<05:29,  5.21it/s]"
     ]
    },
    {
     "name": "stdout",
     "output_type": "stream",
     "text": [
      "\n",
      "0: 640x640 2 crazings, 13.1ms\n",
      "Speed: 6.1ms preprocess, 13.1ms inference, 3.5ms postprocess per image at shape (1, 3, 640, 640)\n"
     ]
    },
    {
     "name": "stderr",
     "output_type": "stream",
     "text": [
      "Processing:   5%|███▏                                                                | 85/1800 [00:21<05:19,  5.37it/s]"
     ]
    },
    {
     "name": "stdout",
     "output_type": "stream",
     "text": [
      "\n",
      "0: 640x640 2 crazings, 84.3ms\n",
      "Speed: 7.9ms preprocess, 84.3ms inference, 17.4ms postprocess per image at shape (1, 3, 640, 640)\n"
     ]
    },
    {
     "name": "stderr",
     "output_type": "stream",
     "text": [
      "Processing:   5%|███▏                                                                | 86/1800 [00:21<06:16,  4.56it/s]"
     ]
    },
    {
     "name": "stdout",
     "output_type": "stream",
     "text": [
      "\n",
      "0: 640x640 4 crazings, 16.9ms\n",
      "Speed: 4.6ms preprocess, 16.9ms inference, 3.5ms postprocess per image at shape (1, 3, 640, 640)\n"
     ]
    },
    {
     "name": "stderr",
     "output_type": "stream",
     "text": [
      "Processing:   5%|███▎                                                                | 87/1800 [00:22<07:14,  3.94it/s]"
     ]
    },
    {
     "name": "stdout",
     "output_type": "stream",
     "text": [
      "\n",
      "0: 640x640 2 crazings, 19.3ms\n",
      "Speed: 6.5ms preprocess, 19.3ms inference, 7.3ms postprocess per image at shape (1, 3, 640, 640)\n"
     ]
    },
    {
     "name": "stderr",
     "output_type": "stream",
     "text": [
      "Processing:   5%|███▎                                                                | 88/1800 [00:22<06:38,  4.30it/s]"
     ]
    },
    {
     "name": "stdout",
     "output_type": "stream",
     "text": [
      "\n",
      "0: 640x640 4 crazings, 17.8ms\n",
      "Speed: 7.4ms preprocess, 17.8ms inference, 3.7ms postprocess per image at shape (1, 3, 640, 640)\n"
     ]
    },
    {
     "name": "stderr",
     "output_type": "stream",
     "text": [
      "Processing:   5%|███▎                                                                | 89/1800 [00:22<07:17,  3.91it/s]"
     ]
    },
    {
     "name": "stdout",
     "output_type": "stream",
     "text": [
      "\n",
      "0: 640x640 4 crazings, 18.6ms\n",
      "Speed: 5.2ms preprocess, 18.6ms inference, 3.7ms postprocess per image at shape (1, 3, 640, 640)\n"
     ]
    },
    {
     "name": "stderr",
     "output_type": "stream",
     "text": [
      "Processing:   5%|███▍                                                                | 90/1800 [00:22<07:24,  3.84it/s]"
     ]
    },
    {
     "name": "stdout",
     "output_type": "stream",
     "text": [
      "\n",
      "0: 640x640 3 crazings, 17.3ms\n",
      "Speed: 8.3ms preprocess, 17.3ms inference, 3.0ms postprocess per image at shape (1, 3, 640, 640)\n"
     ]
    },
    {
     "name": "stderr",
     "output_type": "stream",
     "text": [
      "Processing:   5%|███▍                                                                | 91/1800 [00:23<07:22,  3.86it/s]"
     ]
    },
    {
     "name": "stdout",
     "output_type": "stream",
     "text": [
      "\n",
      "0: 640x640 3 crazings, 17.1ms\n",
      "Speed: 5.7ms preprocess, 17.1ms inference, 3.4ms postprocess per image at shape (1, 3, 640, 640)\n"
     ]
    },
    {
     "name": "stderr",
     "output_type": "stream",
     "text": [
      "Processing:   5%|███▍                                                                | 92/1800 [00:23<07:10,  3.96it/s]"
     ]
    },
    {
     "name": "stdout",
     "output_type": "stream",
     "text": [
      "\n",
      "0: 640x640 2 crazings, 22.4ms\n",
      "Speed: 5.4ms preprocess, 22.4ms inference, 2.3ms postprocess per image at shape (1, 3, 640, 640)\n"
     ]
    },
    {
     "name": "stderr",
     "output_type": "stream",
     "text": [
      "Processing:   5%|███▌                                                                | 93/1800 [00:23<06:30,  4.37it/s]"
     ]
    },
    {
     "name": "stdout",
     "output_type": "stream",
     "text": [
      "\n",
      "0: 640x640 2 crazings, 18.6ms\n",
      "Speed: 4.7ms preprocess, 18.6ms inference, 3.3ms postprocess per image at shape (1, 3, 640, 640)\n"
     ]
    },
    {
     "name": "stderr",
     "output_type": "stream",
     "text": [
      "Processing:   5%|███▌                                                                | 94/1800 [00:23<06:06,  4.65it/s]"
     ]
    },
    {
     "name": "stdout",
     "output_type": "stream",
     "text": [
      "\n",
      "0: 640x640 2 crazings, 26.1ms\n",
      "Speed: 8.0ms preprocess, 26.1ms inference, 3.2ms postprocess per image at shape (1, 3, 640, 640)\n"
     ]
    },
    {
     "name": "stderr",
     "output_type": "stream",
     "text": [
      "Processing:   5%|███▌                                                                | 95/1800 [00:23<05:54,  4.80it/s]"
     ]
    },
    {
     "name": "stdout",
     "output_type": "stream",
     "text": [
      "\n",
      "0: 640x640 2 crazings, 15.3ms\n",
      "Speed: 6.8ms preprocess, 15.3ms inference, 2.5ms postprocess per image at shape (1, 3, 640, 640)\n"
     ]
    },
    {
     "name": "stderr",
     "output_type": "stream",
     "text": [
      "Processing:   5%|███▋                                                                | 96/1800 [00:24<05:40,  5.01it/s]"
     ]
    },
    {
     "name": "stdout",
     "output_type": "stream",
     "text": [
      "\n",
      "0: 640x640 2 crazings, 19.6ms\n",
      "Speed: 5.3ms preprocess, 19.6ms inference, 4.3ms postprocess per image at shape (1, 3, 640, 640)\n"
     ]
    },
    {
     "name": "stderr",
     "output_type": "stream",
     "text": [
      "Processing:   5%|███▋                                                                | 97/1800 [00:24<05:32,  5.13it/s]"
     ]
    },
    {
     "name": "stdout",
     "output_type": "stream",
     "text": [
      "\n",
      "0: 640x640 4 crazings, 17.1ms\n",
      "Speed: 5.5ms preprocess, 17.1ms inference, 4.0ms postprocess per image at shape (1, 3, 640, 640)\n"
     ]
    },
    {
     "name": "stderr",
     "output_type": "stream",
     "text": [
      "Processing:   5%|███▋                                                                | 98/1800 [00:24<06:34,  4.31it/s]"
     ]
    },
    {
     "name": "stdout",
     "output_type": "stream",
     "text": [
      "\n",
      "0: 640x640 2 crazings, 15.1ms\n",
      "Speed: 5.3ms preprocess, 15.1ms inference, 3.3ms postprocess per image at shape (1, 3, 640, 640)\n"
     ]
    },
    {
     "name": "stderr",
     "output_type": "stream",
     "text": [
      "Processing:   6%|███▋                                                                | 99/1800 [00:24<06:10,  4.59it/s]"
     ]
    },
    {
     "name": "stdout",
     "output_type": "stream",
     "text": [
      "\n",
      "0: 640x640 4 crazings, 19.9ms\n",
      "Speed: 6.5ms preprocess, 19.9ms inference, 3.4ms postprocess per image at shape (1, 3, 640, 640)\n"
     ]
    },
    {
     "name": "stderr",
     "output_type": "stream",
     "text": [
      "Processing:   6%|███▋                                                               | 100/1800 [00:25<07:39,  3.70it/s]"
     ]
    },
    {
     "name": "stdout",
     "output_type": "stream",
     "text": [
      "\n",
      "0: 640x640 (no detections), 62.0ms\n",
      "Speed: 4.7ms preprocess, 62.0ms inference, 2.0ms postprocess per image at shape (1, 3, 640, 640)\n",
      "\n",
      "0: 640x640 3 crazings, 18.3ms\n",
      "Speed: 6.3ms preprocess, 18.3ms inference, 2.6ms postprocess per image at shape (1, 3, 640, 640)\n"
     ]
    },
    {
     "name": "stderr",
     "output_type": "stream",
     "text": [
      "Processing:   6%|███▊                                                               | 102/1800 [00:25<06:21,  4.46it/s]"
     ]
    },
    {
     "name": "stdout",
     "output_type": "stream",
     "text": [
      "\n",
      "0: 640x640 2 crazings, 19.2ms\n",
      "Speed: 6.0ms preprocess, 19.2ms inference, 3.1ms postprocess per image at shape (1, 3, 640, 640)\n"
     ]
    },
    {
     "name": "stderr",
     "output_type": "stream",
     "text": [
      "Processing:   6%|███▊                                                               | 103/1800 [00:25<06:07,  4.62it/s]"
     ]
    },
    {
     "name": "stdout",
     "output_type": "stream",
     "text": [
      "\n",
      "0: 640x640 3 crazings, 19.2ms\n",
      "Speed: 7.9ms preprocess, 19.2ms inference, 7.5ms postprocess per image at shape (1, 3, 640, 640)\n"
     ]
    },
    {
     "name": "stderr",
     "output_type": "stream",
     "text": [
      "Processing:   6%|███▊                                                               | 104/1800 [00:25<06:30,  4.34it/s]"
     ]
    },
    {
     "name": "stdout",
     "output_type": "stream",
     "text": [
      "\n",
      "0: 640x640 2 crazings, 19.8ms\n",
      "Speed: 8.7ms preprocess, 19.8ms inference, 3.3ms postprocess per image at shape (1, 3, 640, 640)\n"
     ]
    },
    {
     "name": "stderr",
     "output_type": "stream",
     "text": [
      "Processing:   6%|███▉                                                               | 105/1800 [00:26<06:00,  4.70it/s]"
     ]
    },
    {
     "name": "stdout",
     "output_type": "stream",
     "text": [
      "\n",
      "0: 640x640 2 crazings, 18.1ms\n",
      "Speed: 5.1ms preprocess, 18.1ms inference, 2.8ms postprocess per image at shape (1, 3, 640, 640)\n"
     ]
    },
    {
     "name": "stderr",
     "output_type": "stream",
     "text": [
      "Processing:   6%|███▉                                                               | 106/1800 [00:26<05:34,  5.07it/s]"
     ]
    },
    {
     "name": "stdout",
     "output_type": "stream",
     "text": [
      "\n",
      "0: 640x640 3 crazings, 1 patches, 27.7ms\n",
      "Speed: 5.8ms preprocess, 27.7ms inference, 2.8ms postprocess per image at shape (1, 3, 640, 640)\n"
     ]
    },
    {
     "name": "stderr",
     "output_type": "stream",
     "text": [
      "Processing:   6%|███▉                                                               | 107/1800 [00:26<06:30,  4.33it/s]"
     ]
    },
    {
     "name": "stdout",
     "output_type": "stream",
     "text": [
      "\n",
      "0: 640x640 2 crazings, 18.2ms\n",
      "Speed: 5.0ms preprocess, 18.2ms inference, 3.4ms postprocess per image at shape (1, 3, 640, 640)\n"
     ]
    },
    {
     "name": "stderr",
     "output_type": "stream",
     "text": [
      "Processing:   6%|████                                                               | 108/1800 [00:26<06:01,  4.69it/s]"
     ]
    },
    {
     "name": "stdout",
     "output_type": "stream",
     "text": [
      "\n",
      "0: 640x640 3 crazings, 17.5ms\n",
      "Speed: 5.4ms preprocess, 17.5ms inference, 3.5ms postprocess per image at shape (1, 3, 640, 640)\n"
     ]
    },
    {
     "name": "stderr",
     "output_type": "stream",
     "text": [
      "Processing:   6%|████                                                               | 109/1800 [00:26<06:15,  4.51it/s]"
     ]
    },
    {
     "name": "stdout",
     "output_type": "stream",
     "text": [
      "\n",
      "0: 640x640 3 crazings, 17.5ms\n",
      "Speed: 5.6ms preprocess, 17.5ms inference, 3.3ms postprocess per image at shape (1, 3, 640, 640)\n"
     ]
    },
    {
     "name": "stderr",
     "output_type": "stream",
     "text": [
      "Processing:   6%|████                                                               | 110/1800 [00:27<06:27,  4.36it/s]"
     ]
    },
    {
     "name": "stdout",
     "output_type": "stream",
     "text": [
      "\n",
      "0: 640x640 3 crazings, 17.4ms\n",
      "Speed: 5.9ms preprocess, 17.4ms inference, 4.9ms postprocess per image at shape (1, 3, 640, 640)\n"
     ]
    },
    {
     "name": "stderr",
     "output_type": "stream",
     "text": [
      "Processing:   6%|████▏                                                              | 111/1800 [00:27<06:34,  4.28it/s]"
     ]
    },
    {
     "name": "stdout",
     "output_type": "stream",
     "text": [
      "\n",
      "0: 640x640 2 crazings, 18.4ms\n",
      "Speed: 5.3ms preprocess, 18.4ms inference, 3.1ms postprocess per image at shape (1, 3, 640, 640)\n"
     ]
    },
    {
     "name": "stderr",
     "output_type": "stream",
     "text": [
      "Processing:   6%|████▏                                                              | 112/1800 [00:27<06:03,  4.65it/s]"
     ]
    },
    {
     "name": "stdout",
     "output_type": "stream",
     "text": [
      "\n",
      "0: 640x640 4 crazings, 1 patches, 17.5ms\n",
      "Speed: 5.0ms preprocess, 17.5ms inference, 3.7ms postprocess per image at shape (1, 3, 640, 640)\n"
     ]
    },
    {
     "name": "stderr",
     "output_type": "stream",
     "text": [
      "Processing:   6%|████▏                                                              | 113/1800 [00:27<07:11,  3.91it/s]"
     ]
    },
    {
     "name": "stdout",
     "output_type": "stream",
     "text": [
      "\n",
      "0: 640x640 2 crazings, 15.9ms\n",
      "Speed: 4.6ms preprocess, 15.9ms inference, 3.6ms postprocess per image at shape (1, 3, 640, 640)\n"
     ]
    },
    {
     "name": "stderr",
     "output_type": "stream",
     "text": [
      "Processing:   6%|████▏                                                              | 114/1800 [00:28<06:35,  4.26it/s]"
     ]
    },
    {
     "name": "stdout",
     "output_type": "stream",
     "text": [
      "\n",
      "0: 640x640 2 crazings, 18.7ms\n",
      "Speed: 5.1ms preprocess, 18.7ms inference, 4.1ms postprocess per image at shape (1, 3, 640, 640)\n"
     ]
    },
    {
     "name": "stderr",
     "output_type": "stream",
     "text": [
      "Processing:   6%|████▎                                                              | 115/1800 [00:28<06:07,  4.59it/s]"
     ]
    },
    {
     "name": "stdout",
     "output_type": "stream",
     "text": [
      "\n",
      "0: 640x640 3 crazings, 17.4ms\n",
      "Speed: 5.3ms preprocess, 17.4ms inference, 2.8ms postprocess per image at shape (1, 3, 640, 640)\n"
     ]
    },
    {
     "name": "stderr",
     "output_type": "stream",
     "text": [
      "Processing:   6%|████▎                                                              | 116/1800 [00:28<06:19,  4.43it/s]"
     ]
    },
    {
     "name": "stdout",
     "output_type": "stream",
     "text": [
      "\n",
      "0: 640x640 2 crazings, 17.8ms\n",
      "Speed: 4.8ms preprocess, 17.8ms inference, 3.9ms postprocess per image at shape (1, 3, 640, 640)\n"
     ]
    },
    {
     "name": "stderr",
     "output_type": "stream",
     "text": [
      "Processing:   6%|████▎                                                              | 117/1800 [00:28<05:52,  4.78it/s]"
     ]
    },
    {
     "name": "stdout",
     "output_type": "stream",
     "text": [
      "\n",
      "0: 640x640 3 crazings, 13.4ms\n",
      "Speed: 5.0ms preprocess, 13.4ms inference, 3.9ms postprocess per image at shape (1, 3, 640, 640)\n"
     ]
    },
    {
     "name": "stderr",
     "output_type": "stream",
     "text": [
      "Processing:   7%|████▍                                                              | 118/1800 [00:28<06:00,  4.66it/s]"
     ]
    },
    {
     "name": "stdout",
     "output_type": "stream",
     "text": [
      "\n",
      "0: 640x640 2 crazings, 15.7ms\n",
      "Speed: 5.1ms preprocess, 15.7ms inference, 4.1ms postprocess per image at shape (1, 3, 640, 640)\n"
     ]
    },
    {
     "name": "stderr",
     "output_type": "stream",
     "text": [
      "Processing:   7%|████▍                                                              | 119/1800 [00:29<05:39,  4.95it/s]"
     ]
    },
    {
     "name": "stdout",
     "output_type": "stream",
     "text": [
      "\n",
      "0: 640x640 2 crazings, 20.0ms\n",
      "Speed: 5.1ms preprocess, 20.0ms inference, 3.0ms postprocess per image at shape (1, 3, 640, 640)\n"
     ]
    },
    {
     "name": "stderr",
     "output_type": "stream",
     "text": [
      "Processing:   7%|████▍                                                              | 120/1800 [00:29<05:24,  5.17it/s]"
     ]
    },
    {
     "name": "stdout",
     "output_type": "stream",
     "text": [
      "\n",
      "0: 640x640 2 crazings, 1 inculsion, 17.0ms\n",
      "Speed: 5.8ms preprocess, 17.0ms inference, 3.7ms postprocess per image at shape (1, 3, 640, 640)\n"
     ]
    },
    {
     "name": "stderr",
     "output_type": "stream",
     "text": [
      "Processing:   7%|████▌                                                              | 121/1800 [00:29<05:41,  4.92it/s]"
     ]
    },
    {
     "name": "stdout",
     "output_type": "stream",
     "text": [
      "\n",
      "0: 640x640 2 crazings, 16.7ms\n",
      "Speed: 5.0ms preprocess, 16.7ms inference, 3.3ms postprocess per image at shape (1, 3, 640, 640)\n"
     ]
    },
    {
     "name": "stderr",
     "output_type": "stream",
     "text": [
      "Processing:   7%|████▌                                                              | 122/1800 [00:29<05:22,  5.20it/s]"
     ]
    },
    {
     "name": "stdout",
     "output_type": "stream",
     "text": [
      "\n",
      "0: 640x640 2 crazings, 15.3ms\n",
      "Speed: 4.8ms preprocess, 15.3ms inference, 2.7ms postprocess per image at shape (1, 3, 640, 640)\n"
     ]
    },
    {
     "name": "stderr",
     "output_type": "stream",
     "text": [
      "Processing:   7%|████▌                                                              | 123/1800 [00:29<05:10,  5.40it/s]"
     ]
    },
    {
     "name": "stdout",
     "output_type": "stream",
     "text": [
      "\n",
      "0: 640x640 2 crazings, 18.2ms\n",
      "Speed: 5.3ms preprocess, 18.2ms inference, 3.9ms postprocess per image at shape (1, 3, 640, 640)\n"
     ]
    },
    {
     "name": "stderr",
     "output_type": "stream",
     "text": [
      "Processing:   7%|████▌                                                              | 124/1800 [00:30<05:00,  5.58it/s]"
     ]
    },
    {
     "name": "stdout",
     "output_type": "stream",
     "text": [
      "\n",
      "0: 640x640 3 crazings, 19.1ms\n",
      "Speed: 5.3ms preprocess, 19.1ms inference, 3.6ms postprocess per image at shape (1, 3, 640, 640)\n"
     ]
    },
    {
     "name": "stderr",
     "output_type": "stream",
     "text": [
      "Processing:   7%|████▋                                                              | 125/1800 [00:30<05:26,  5.12it/s]"
     ]
    },
    {
     "name": "stdout",
     "output_type": "stream",
     "text": [
      "\n",
      "0: 640x640 3 crazings, 16.9ms\n",
      "Speed: 6.7ms preprocess, 16.9ms inference, 3.6ms postprocess per image at shape (1, 3, 640, 640)\n"
     ]
    },
    {
     "name": "stderr",
     "output_type": "stream",
     "text": [
      "Processing:   7%|████▋                                                              | 126/1800 [00:30<05:52,  4.75it/s]"
     ]
    },
    {
     "name": "stdout",
     "output_type": "stream",
     "text": [
      "\n",
      "0: 640x640 2 crazings, 20.5ms\n",
      "Speed: 5.1ms preprocess, 20.5ms inference, 3.9ms postprocess per image at shape (1, 3, 640, 640)\n"
     ]
    },
    {
     "name": "stderr",
     "output_type": "stream",
     "text": [
      "Processing:   7%|████▋                                                              | 127/1800 [00:30<05:40,  4.91it/s]"
     ]
    },
    {
     "name": "stdout",
     "output_type": "stream",
     "text": [
      "\n",
      "0: 640x640 2 crazings, 17.6ms\n",
      "Speed: 6.3ms preprocess, 17.6ms inference, 3.1ms postprocess per image at shape (1, 3, 640, 640)\n"
     ]
    },
    {
     "name": "stderr",
     "output_type": "stream",
     "text": [
      "Processing:   7%|████▊                                                              | 128/1800 [00:30<05:25,  5.14it/s]"
     ]
    },
    {
     "name": "stdout",
     "output_type": "stream",
     "text": [
      "\n",
      "0: 640x640 3 crazings, 15.1ms\n",
      "Speed: 4.8ms preprocess, 15.1ms inference, 3.5ms postprocess per image at shape (1, 3, 640, 640)\n"
     ]
    },
    {
     "name": "stderr",
     "output_type": "stream",
     "text": [
      "Processing:   7%|████▊                                                              | 129/1800 [00:31<05:47,  4.82it/s]"
     ]
    },
    {
     "name": "stdout",
     "output_type": "stream",
     "text": [
      "\n",
      "0: 640x640 3 crazings, 17.2ms\n",
      "Speed: 6.1ms preprocess, 17.2ms inference, 3.4ms postprocess per image at shape (1, 3, 640, 640)\n"
     ]
    },
    {
     "name": "stderr",
     "output_type": "stream",
     "text": [
      "Processing:   7%|████▊                                                              | 130/1800 [00:31<06:10,  4.51it/s]"
     ]
    },
    {
     "name": "stdout",
     "output_type": "stream",
     "text": [
      "\n",
      "0: 640x640 3 crazings, 17.0ms\n",
      "Speed: 6.0ms preprocess, 17.0ms inference, 3.9ms postprocess per image at shape (1, 3, 640, 640)\n"
     ]
    },
    {
     "name": "stderr",
     "output_type": "stream",
     "text": [
      "Processing:   7%|████▉                                                              | 131/1800 [00:31<07:14,  3.84it/s]"
     ]
    },
    {
     "name": "stdout",
     "output_type": "stream",
     "text": [
      "\n",
      "0: 640x640 3 crazings, 11.8ms\n",
      "Speed: 28.6ms preprocess, 11.8ms inference, 3.4ms postprocess per image at shape (1, 3, 640, 640)\n"
     ]
    },
    {
     "name": "stderr",
     "output_type": "stream",
     "text": [
      "Processing:   7%|████▉                                                              | 132/1800 [00:32<07:13,  3.85it/s]"
     ]
    },
    {
     "name": "stdout",
     "output_type": "stream",
     "text": [
      "\n",
      "0: 640x640 3 crazings, 15.4ms\n",
      "Speed: 5.8ms preprocess, 15.4ms inference, 3.4ms postprocess per image at shape (1, 3, 640, 640)\n"
     ]
    },
    {
     "name": "stderr",
     "output_type": "stream",
     "text": [
      "Processing:   7%|████▉                                                              | 133/1800 [00:32<07:08,  3.89it/s]"
     ]
    },
    {
     "name": "stdout",
     "output_type": "stream",
     "text": [
      "\n",
      "0: 640x640 2 crazings, 19.1ms\n",
      "Speed: 5.9ms preprocess, 19.1ms inference, 3.3ms postprocess per image at shape (1, 3, 640, 640)\n"
     ]
    },
    {
     "name": "stderr",
     "output_type": "stream",
     "text": [
      "Processing:   7%|████▉                                                              | 134/1800 [00:32<06:19,  4.39it/s]"
     ]
    },
    {
     "name": "stdout",
     "output_type": "stream",
     "text": [
      "\n",
      "0: 640x640 2 crazings, 17.0ms\n",
      "Speed: 6.7ms preprocess, 17.0ms inference, 3.9ms postprocess per image at shape (1, 3, 640, 640)\n"
     ]
    },
    {
     "name": "stderr",
     "output_type": "stream",
     "text": [
      "Processing:   8%|█████                                                              | 135/1800 [00:32<05:58,  4.65it/s]"
     ]
    },
    {
     "name": "stdout",
     "output_type": "stream",
     "text": [
      "\n",
      "0: 640x640 2 crazings, 17.5ms\n",
      "Speed: 5.3ms preprocess, 17.5ms inference, 3.6ms postprocess per image at shape (1, 3, 640, 640)\n"
     ]
    },
    {
     "name": "stderr",
     "output_type": "stream",
     "text": [
      "Processing:   8%|█████                                                              | 136/1800 [00:32<05:35,  4.96it/s]"
     ]
    },
    {
     "name": "stdout",
     "output_type": "stream",
     "text": [
      "\n",
      "0: 640x640 2 crazings, 15.3ms\n",
      "Speed: 5.5ms preprocess, 15.3ms inference, 5.0ms postprocess per image at shape (1, 3, 640, 640)\n"
     ]
    },
    {
     "name": "stderr",
     "output_type": "stream",
     "text": [
      "Processing:   8%|█████                                                              | 137/1800 [00:32<05:18,  5.22it/s]"
     ]
    },
    {
     "name": "stdout",
     "output_type": "stream",
     "text": [
      "\n",
      "0: 640x640 2 crazings, 22.8ms\n",
      "Speed: 7.8ms preprocess, 22.8ms inference, 3.9ms postprocess per image at shape (1, 3, 640, 640)\n"
     ]
    },
    {
     "name": "stderr",
     "output_type": "stream",
     "text": [
      "Processing:   8%|█████▏                                                             | 138/1800 [00:33<05:19,  5.19it/s]"
     ]
    },
    {
     "name": "stdout",
     "output_type": "stream",
     "text": [
      "\n",
      "0: 640x640 2 crazings, 21.3ms\n",
      "Speed: 6.7ms preprocess, 21.3ms inference, 3.5ms postprocess per image at shape (1, 3, 640, 640)\n"
     ]
    },
    {
     "name": "stderr",
     "output_type": "stream",
     "text": [
      "Processing:   8%|█████▏                                                             | 139/1800 [00:33<05:23,  5.13it/s]"
     ]
    },
    {
     "name": "stdout",
     "output_type": "stream",
     "text": [
      "\n",
      "0: 640x640 3 crazings, 20.4ms\n",
      "Speed: 5.8ms preprocess, 20.4ms inference, 3.6ms postprocess per image at shape (1, 3, 640, 640)\n"
     ]
    },
    {
     "name": "stderr",
     "output_type": "stream",
     "text": [
      "Processing:   8%|█████▏                                                             | 140/1800 [00:33<05:50,  4.74it/s]"
     ]
    },
    {
     "name": "stdout",
     "output_type": "stream",
     "text": [
      "\n",
      "0: 640x640 2 crazings, 18.1ms\n",
      "Speed: 4.5ms preprocess, 18.1ms inference, 3.6ms postprocess per image at shape (1, 3, 640, 640)\n"
     ]
    },
    {
     "name": "stderr",
     "output_type": "stream",
     "text": [
      "Processing:   8%|█████▏                                                             | 141/1800 [00:33<05:28,  5.05it/s]"
     ]
    },
    {
     "name": "stdout",
     "output_type": "stream",
     "text": [
      "\n",
      "0: 640x640 2 crazings, 18.4ms\n",
      "Speed: 5.4ms preprocess, 18.4ms inference, 3.6ms postprocess per image at shape (1, 3, 640, 640)\n"
     ]
    },
    {
     "name": "stderr",
     "output_type": "stream",
     "text": [
      "Processing:   8%|█████▎                                                             | 142/1800 [00:33<05:12,  5.30it/s]"
     ]
    },
    {
     "name": "stdout",
     "output_type": "stream",
     "text": [
      "\n",
      "0: 640x640 3 crazings, 16.2ms\n",
      "Speed: 5.6ms preprocess, 16.2ms inference, 4.0ms postprocess per image at shape (1, 3, 640, 640)\n"
     ]
    },
    {
     "name": "stderr",
     "output_type": "stream",
     "text": [
      "Processing:   8%|█████▎                                                             | 143/1800 [00:34<05:42,  4.83it/s]"
     ]
    },
    {
     "name": "stdout",
     "output_type": "stream",
     "text": [
      "\n",
      "0: 640x640 2 crazings, 14.8ms\n",
      "Speed: 4.9ms preprocess, 14.8ms inference, 5.8ms postprocess per image at shape (1, 3, 640, 640)\n"
     ]
    },
    {
     "name": "stderr",
     "output_type": "stream",
     "text": [
      "Processing:   8%|█████▎                                                             | 144/1800 [00:34<05:18,  5.21it/s]"
     ]
    },
    {
     "name": "stdout",
     "output_type": "stream",
     "text": [
      "\n",
      "0: 640x640 3 crazings, 20.3ms\n",
      "Speed: 6.0ms preprocess, 20.3ms inference, 3.7ms postprocess per image at shape (1, 3, 640, 640)\n"
     ]
    },
    {
     "name": "stderr",
     "output_type": "stream",
     "text": [
      "Processing:   8%|█████▍                                                             | 145/1800 [00:34<05:43,  4.82it/s]"
     ]
    },
    {
     "name": "stdout",
     "output_type": "stream",
     "text": [
      "\n",
      "0: 640x640 2 crazings, 17.6ms\n",
      "Speed: 7.4ms preprocess, 17.6ms inference, 3.2ms postprocess per image at shape (1, 3, 640, 640)\n"
     ]
    },
    {
     "name": "stderr",
     "output_type": "stream",
     "text": [
      "Processing:   8%|█████▍                                                             | 146/1800 [00:34<05:29,  5.01it/s]"
     ]
    },
    {
     "name": "stdout",
     "output_type": "stream",
     "text": [
      "\n",
      "0: 640x640 4 crazings, 11.0ms\n",
      "Speed: 4.9ms preprocess, 11.0ms inference, 4.6ms postprocess per image at shape (1, 3, 640, 640)\n"
     ]
    },
    {
     "name": "stderr",
     "output_type": "stream",
     "text": [
      "Processing:   8%|█████▍                                                             | 147/1800 [00:35<06:22,  4.32it/s]"
     ]
    },
    {
     "name": "stdout",
     "output_type": "stream",
     "text": [
      "\n",
      "0: 640x640 2 crazings, 17.5ms\n",
      "Speed: 5.6ms preprocess, 17.5ms inference, 4.0ms postprocess per image at shape (1, 3, 640, 640)\n"
     ]
    },
    {
     "name": "stderr",
     "output_type": "stream",
     "text": [
      "Processing:   8%|█████▌                                                             | 148/1800 [00:35<05:53,  4.68it/s]"
     ]
    },
    {
     "name": "stdout",
     "output_type": "stream",
     "text": [
      "\n",
      "0: 640x640 3 crazings, 81.8ms\n",
      "Speed: 7.2ms preprocess, 81.8ms inference, 11.6ms postprocess per image at shape (1, 3, 640, 640)\n"
     ]
    },
    {
     "name": "stderr",
     "output_type": "stream",
     "text": [
      "Processing:   8%|█████▌                                                             | 149/1800 [00:35<07:03,  3.90it/s]"
     ]
    },
    {
     "name": "stdout",
     "output_type": "stream",
     "text": [
      "\n",
      "0: 640x640 3 crazings, 16.0ms\n",
      "Speed: 6.3ms preprocess, 16.0ms inference, 3.2ms postprocess per image at shape (1, 3, 640, 640)\n"
     ]
    },
    {
     "name": "stderr",
     "output_type": "stream",
     "text": [
      "Processing:   8%|█████▌                                                             | 150/1800 [00:35<06:54,  3.98it/s]"
     ]
    },
    {
     "name": "stdout",
     "output_type": "stream",
     "text": [
      "\n",
      "0: 640x640 2 crazings, 18.7ms\n",
      "Speed: 5.3ms preprocess, 18.7ms inference, 3.6ms postprocess per image at shape (1, 3, 640, 640)\n"
     ]
    },
    {
     "name": "stderr",
     "output_type": "stream",
     "text": [
      "Processing:   8%|█████▌                                                             | 151/1800 [00:36<06:17,  4.37it/s]"
     ]
    },
    {
     "name": "stdout",
     "output_type": "stream",
     "text": [
      "\n",
      "0: 640x640 3 crazings, 18.9ms\n",
      "Speed: 5.3ms preprocess, 18.9ms inference, 3.7ms postprocess per image at shape (1, 3, 640, 640)\n"
     ]
    },
    {
     "name": "stderr",
     "output_type": "stream",
     "text": [
      "Processing:   8%|█████▋                                                             | 152/1800 [00:36<06:26,  4.27it/s]"
     ]
    },
    {
     "name": "stdout",
     "output_type": "stream",
     "text": [
      "\n",
      "0: 640x640 3 crazings, 22.5ms\n",
      "Speed: 5.3ms preprocess, 22.5ms inference, 3.3ms postprocess per image at shape (1, 3, 640, 640)\n"
     ]
    },
    {
     "name": "stderr",
     "output_type": "stream",
     "text": [
      "Processing:   8%|█████▋                                                             | 153/1800 [00:36<06:38,  4.13it/s]"
     ]
    },
    {
     "name": "stdout",
     "output_type": "stream",
     "text": [
      "\n",
      "0: 640x640 2 crazings, 19.9ms\n",
      "Speed: 4.6ms preprocess, 19.9ms inference, 3.3ms postprocess per image at shape (1, 3, 640, 640)\n"
     ]
    },
    {
     "name": "stderr",
     "output_type": "stream",
     "text": [
      "Processing:   9%|█████▋                                                             | 154/1800 [00:36<06:09,  4.46it/s]"
     ]
    },
    {
     "name": "stdout",
     "output_type": "stream",
     "text": [
      "\n",
      "0: 640x640 2 crazings, 14.9ms\n",
      "Speed: 5.1ms preprocess, 14.9ms inference, 3.3ms postprocess per image at shape (1, 3, 640, 640)\n"
     ]
    },
    {
     "name": "stderr",
     "output_type": "stream",
     "text": [
      "Processing:   9%|█████▊                                                             | 155/1800 [00:36<05:44,  4.78it/s]"
     ]
    },
    {
     "name": "stdout",
     "output_type": "stream",
     "text": [
      "\n",
      "0: 640x640 2 crazings, 18.7ms\n",
      "Speed: 5.0ms preprocess, 18.7ms inference, 4.2ms postprocess per image at shape (1, 3, 640, 640)\n"
     ]
    },
    {
     "name": "stderr",
     "output_type": "stream",
     "text": [
      "Processing:   9%|█████▊                                                             | 156/1800 [00:37<05:33,  4.93it/s]"
     ]
    },
    {
     "name": "stdout",
     "output_type": "stream",
     "text": [
      "\n",
      "0: 640x640 2 crazings, 22.2ms\n",
      "Speed: 5.4ms preprocess, 22.2ms inference, 3.8ms postprocess per image at shape (1, 3, 640, 640)\n"
     ]
    },
    {
     "name": "stderr",
     "output_type": "stream",
     "text": [
      "Processing:   9%|█████▊                                                             | 157/1800 [00:37<05:31,  4.95it/s]"
     ]
    },
    {
     "name": "stdout",
     "output_type": "stream",
     "text": [
      "\n",
      "0: 640x640 2 crazings, 17.4ms\n",
      "Speed: 6.0ms preprocess, 17.4ms inference, 5.3ms postprocess per image at shape (1, 3, 640, 640)\n"
     ]
    },
    {
     "name": "stderr",
     "output_type": "stream",
     "text": [
      "Processing:   9%|█████▉                                                             | 158/1800 [00:37<05:16,  5.19it/s]"
     ]
    },
    {
     "name": "stdout",
     "output_type": "stream",
     "text": [
      "\n",
      "0: 640x640 3 crazings, 16.5ms\n",
      "Speed: 4.3ms preprocess, 16.5ms inference, 4.0ms postprocess per image at shape (1, 3, 640, 640)\n"
     ]
    },
    {
     "name": "stderr",
     "output_type": "stream",
     "text": [
      "Processing:   9%|█████▉                                                             | 159/1800 [00:37<05:41,  4.80it/s]"
     ]
    },
    {
     "name": "stdout",
     "output_type": "stream",
     "text": [
      "\n",
      "0: 640x640 3 crazings, 24.0ms\n",
      "Speed: 5.3ms preprocess, 24.0ms inference, 3.7ms postprocess per image at shape (1, 3, 640, 640)\n"
     ]
    },
    {
     "name": "stderr",
     "output_type": "stream",
     "text": [
      "Processing:   9%|█████▉                                                             | 160/1800 [00:37<06:21,  4.30it/s]"
     ]
    },
    {
     "name": "stdout",
     "output_type": "stream",
     "text": [
      "\n",
      "0: 640x640 3 crazings, 22.7ms\n",
      "Speed: 5.4ms preprocess, 22.7ms inference, 4.0ms postprocess per image at shape (1, 3, 640, 640)\n"
     ]
    },
    {
     "name": "stderr",
     "output_type": "stream",
     "text": [
      "Processing:   9%|█████▉                                                             | 161/1800 [00:38<06:33,  4.17it/s]"
     ]
    },
    {
     "name": "stdout",
     "output_type": "stream",
     "text": [
      "\n",
      "0: 640x640 3 crazings, 17.9ms\n",
      "Speed: 5.5ms preprocess, 17.9ms inference, 3.0ms postprocess per image at shape (1, 3, 640, 640)\n"
     ]
    },
    {
     "name": "stderr",
     "output_type": "stream",
     "text": [
      "Processing:   9%|██████                                                             | 162/1800 [00:38<06:41,  4.08it/s]"
     ]
    },
    {
     "name": "stdout",
     "output_type": "stream",
     "text": [
      "\n",
      "0: 640x640 2 crazings, 18.5ms\n",
      "Speed: 4.8ms preprocess, 18.5ms inference, 3.4ms postprocess per image at shape (1, 3, 640, 640)\n"
     ]
    },
    {
     "name": "stderr",
     "output_type": "stream",
     "text": [
      "Processing:   9%|██████                                                             | 163/1800 [00:38<06:07,  4.46it/s]"
     ]
    },
    {
     "name": "stdout",
     "output_type": "stream",
     "text": [
      "\n",
      "0: 640x640 3 crazings, 16.2ms\n",
      "Speed: 5.1ms preprocess, 16.2ms inference, 3.3ms postprocess per image at shape (1, 3, 640, 640)\n"
     ]
    },
    {
     "name": "stderr",
     "output_type": "stream",
     "text": [
      "Processing:   9%|██████                                                             | 164/1800 [00:38<06:24,  4.26it/s]"
     ]
    },
    {
     "name": "stdout",
     "output_type": "stream",
     "text": [
      "\n",
      "0: 640x640 3 crazings, 19.6ms\n",
      "Speed: 5.6ms preprocess, 19.6ms inference, 3.8ms postprocess per image at shape (1, 3, 640, 640)\n"
     ]
    },
    {
     "name": "stderr",
     "output_type": "stream",
     "text": [
      "Processing:   9%|██████▏                                                            | 165/1800 [00:39<06:28,  4.21it/s]"
     ]
    },
    {
     "name": "stdout",
     "output_type": "stream",
     "text": [
      "\n",
      "0: 640x640 2 crazings, 30.3ms\n",
      "Speed: 5.3ms preprocess, 30.3ms inference, 3.4ms postprocess per image at shape (1, 3, 640, 640)\n"
     ]
    },
    {
     "name": "stderr",
     "output_type": "stream",
     "text": [
      "Processing:   9%|██████▏                                                            | 166/1800 [00:39<06:04,  4.49it/s]"
     ]
    },
    {
     "name": "stdout",
     "output_type": "stream",
     "text": [
      "\n",
      "0: 640x640 3 crazings, 18.8ms\n",
      "Speed: 5.3ms preprocess, 18.8ms inference, 3.6ms postprocess per image at shape (1, 3, 640, 640)\n"
     ]
    },
    {
     "name": "stderr",
     "output_type": "stream",
     "text": [
      "Processing:   9%|██████▏                                                            | 167/1800 [00:39<06:25,  4.24it/s]"
     ]
    },
    {
     "name": "stdout",
     "output_type": "stream",
     "text": [
      "\n",
      "0: 640x640 4 crazings, 18.4ms\n",
      "Speed: 5.2ms preprocess, 18.4ms inference, 5.8ms postprocess per image at shape (1, 3, 640, 640)\n"
     ]
    },
    {
     "name": "stderr",
     "output_type": "stream",
     "text": [
      "Processing:   9%|██████▎                                                            | 168/1800 [00:39<07:11,  3.78it/s]"
     ]
    },
    {
     "name": "stdout",
     "output_type": "stream",
     "text": [
      "\n",
      "0: 640x640 3 crazings, 24.9ms\n",
      "Speed: 5.1ms preprocess, 24.9ms inference, 3.9ms postprocess per image at shape (1, 3, 640, 640)\n"
     ]
    },
    {
     "name": "stderr",
     "output_type": "stream",
     "text": [
      "Processing:   9%|██████▎                                                            | 169/1800 [00:40<07:15,  3.74it/s]"
     ]
    },
    {
     "name": "stdout",
     "output_type": "stream",
     "text": [
      "\n",
      "0: 640x640 3 crazings, 20.8ms\n",
      "Speed: 5.3ms preprocess, 20.8ms inference, 4.4ms postprocess per image at shape (1, 3, 640, 640)\n"
     ]
    },
    {
     "name": "stderr",
     "output_type": "stream",
     "text": [
      "Processing:   9%|██████▎                                                            | 170/1800 [00:40<07:03,  3.85it/s]"
     ]
    },
    {
     "name": "stdout",
     "output_type": "stream",
     "text": [
      "\n",
      "0: 640x640 4 crazings, 19.2ms\n",
      "Speed: 4.9ms preprocess, 19.2ms inference, 4.9ms postprocess per image at shape (1, 3, 640, 640)\n"
     ]
    },
    {
     "name": "stderr",
     "output_type": "stream",
     "text": [
      "Processing:  10%|██████▎                                                            | 171/1800 [00:40<07:29,  3.63it/s]"
     ]
    },
    {
     "name": "stdout",
     "output_type": "stream",
     "text": [
      "\n",
      "0: 640x640 2 crazings, 20.7ms\n",
      "Speed: 5.1ms preprocess, 20.7ms inference, 3.8ms postprocess per image at shape (1, 3, 640, 640)\n"
     ]
    },
    {
     "name": "stderr",
     "output_type": "stream",
     "text": [
      "Processing:  10%|██████▍                                                            | 172/1800 [00:40<06:47,  3.99it/s]"
     ]
    },
    {
     "name": "stdout",
     "output_type": "stream",
     "text": [
      "\n",
      "0: 640x640 2 crazings, 20.4ms\n",
      "Speed: 5.0ms preprocess, 20.4ms inference, 3.8ms postprocess per image at shape (1, 3, 640, 640)\n"
     ]
    },
    {
     "name": "stderr",
     "output_type": "stream",
     "text": [
      "Processing:  10%|██████▍                                                            | 173/1800 [00:41<06:12,  4.36it/s]"
     ]
    },
    {
     "name": "stdout",
     "output_type": "stream",
     "text": [
      "\n",
      "0: 640x640 3 crazings, 21.4ms\n",
      "Speed: 5.1ms preprocess, 21.4ms inference, 3.9ms postprocess per image at shape (1, 3, 640, 640)\n"
     ]
    },
    {
     "name": "stderr",
     "output_type": "stream",
     "text": [
      "Processing:  10%|██████▍                                                            | 174/1800 [00:41<06:30,  4.16it/s]"
     ]
    },
    {
     "name": "stdout",
     "output_type": "stream",
     "text": [
      "\n",
      "0: 640x640 3 crazings, 18.7ms\n",
      "Speed: 6.6ms preprocess, 18.7ms inference, 3.9ms postprocess per image at shape (1, 3, 640, 640)\n"
     ]
    },
    {
     "name": "stderr",
     "output_type": "stream",
     "text": [
      "Processing:  10%|██████▌                                                            | 175/1800 [00:41<06:28,  4.18it/s]"
     ]
    },
    {
     "name": "stdout",
     "output_type": "stream",
     "text": [
      "\n",
      "0: 640x640 4 crazings, 14.6ms\n",
      "Speed: 5.9ms preprocess, 14.6ms inference, 4.0ms postprocess per image at shape (1, 3, 640, 640)\n"
     ]
    },
    {
     "name": "stderr",
     "output_type": "stream",
     "text": [
      "Processing:  10%|██████▌                                                            | 176/1800 [00:41<07:03,  3.84it/s]"
     ]
    },
    {
     "name": "stdout",
     "output_type": "stream",
     "text": [
      "\n",
      "0: 640x640 3 crazings, 18.8ms\n",
      "Speed: 5.7ms preprocess, 18.8ms inference, 3.4ms postprocess per image at shape (1, 3, 640, 640)\n"
     ]
    },
    {
     "name": "stderr",
     "output_type": "stream",
     "text": [
      "Processing:  10%|██████▌                                                            | 177/1800 [00:42<07:01,  3.85it/s]"
     ]
    },
    {
     "name": "stdout",
     "output_type": "stream",
     "text": [
      "\n",
      "0: 640x640 2 crazings, 17.8ms\n",
      "Speed: 5.7ms preprocess, 17.8ms inference, 3.6ms postprocess per image at shape (1, 3, 640, 640)\n"
     ]
    },
    {
     "name": "stderr",
     "output_type": "stream",
     "text": [
      "Processing:  10%|██████▋                                                            | 178/1800 [00:42<06:26,  4.20it/s]"
     ]
    },
    {
     "name": "stdout",
     "output_type": "stream",
     "text": [
      "\n",
      "0: 640x640 3 crazings, 16.9ms\n",
      "Speed: 6.0ms preprocess, 16.9ms inference, 3.1ms postprocess per image at shape (1, 3, 640, 640)\n"
     ]
    },
    {
     "name": "stderr",
     "output_type": "stream",
     "text": [
      "Processing:  10%|██████▋                                                            | 179/1800 [00:42<06:28,  4.17it/s]"
     ]
    },
    {
     "name": "stdout",
     "output_type": "stream",
     "text": [
      "\n",
      "0: 640x640 2 crazings, 18.0ms\n",
      "Speed: 6.0ms preprocess, 18.0ms inference, 4.5ms postprocess per image at shape (1, 3, 640, 640)\n"
     ]
    },
    {
     "name": "stderr",
     "output_type": "stream",
     "text": [
      "Processing:  10%|██████▋                                                            | 180/1800 [00:42<05:56,  4.55it/s]"
     ]
    },
    {
     "name": "stdout",
     "output_type": "stream",
     "text": [
      "\n",
      "0: 640x640 3 crazings, 15.8ms\n",
      "Speed: 4.8ms preprocess, 15.8ms inference, 4.8ms postprocess per image at shape (1, 3, 640, 640)\n"
     ]
    },
    {
     "name": "stderr",
     "output_type": "stream",
     "text": [
      "Processing:  10%|██████▋                                                            | 181/1800 [00:43<06:07,  4.41it/s]"
     ]
    },
    {
     "name": "stdout",
     "output_type": "stream",
     "text": [
      "\n",
      "0: 640x640 4 crazings, 19.8ms\n",
      "Speed: 5.2ms preprocess, 19.8ms inference, 4.6ms postprocess per image at shape (1, 3, 640, 640)\n"
     ]
    },
    {
     "name": "stderr",
     "output_type": "stream",
     "text": [
      "Processing:  10%|██████▊                                                            | 182/1800 [00:43<06:52,  3.93it/s]"
     ]
    },
    {
     "name": "stdout",
     "output_type": "stream",
     "text": [
      "\n",
      "0: 640x640 2 crazings, 18.9ms\n",
      "Speed: 5.2ms preprocess, 18.9ms inference, 3.0ms postprocess per image at shape (1, 3, 640, 640)\n"
     ]
    },
    {
     "name": "stderr",
     "output_type": "stream",
     "text": [
      "Processing:  10%|██████▊                                                            | 183/1800 [00:43<06:12,  4.34it/s]"
     ]
    },
    {
     "name": "stdout",
     "output_type": "stream",
     "text": [
      "\n",
      "0: 640x640 3 crazings, 23.1ms\n",
      "Speed: 6.9ms preprocess, 23.1ms inference, 3.7ms postprocess per image at shape (1, 3, 640, 640)\n"
     ]
    },
    {
     "name": "stderr",
     "output_type": "stream",
     "text": [
      "Processing:  10%|██████▊                                                            | 184/1800 [00:43<06:24,  4.20it/s]"
     ]
    },
    {
     "name": "stdout",
     "output_type": "stream",
     "text": [
      "\n",
      "0: 640x640 3 crazings, 14.4ms\n",
      "Speed: 5.5ms preprocess, 14.4ms inference, 3.6ms postprocess per image at shape (1, 3, 640, 640)\n"
     ]
    },
    {
     "name": "stderr",
     "output_type": "stream",
     "text": [
      "Processing:  10%|██████▉                                                            | 185/1800 [00:44<06:20,  4.24it/s]"
     ]
    },
    {
     "name": "stdout",
     "output_type": "stream",
     "text": [
      "\n",
      "0: 640x640 3 crazings, 18.4ms\n",
      "Speed: 9.9ms preprocess, 18.4ms inference, 3.6ms postprocess per image at shape (1, 3, 640, 640)\n"
     ]
    },
    {
     "name": "stderr",
     "output_type": "stream",
     "text": [
      "Processing:  10%|██████▉                                                            | 186/1800 [00:44<06:26,  4.18it/s]"
     ]
    },
    {
     "name": "stdout",
     "output_type": "stream",
     "text": [
      "\n",
      "0: 640x640 4 crazings, 17.4ms\n",
      "Speed: 5.5ms preprocess, 17.4ms inference, 3.6ms postprocess per image at shape (1, 3, 640, 640)\n"
     ]
    },
    {
     "name": "stderr",
     "output_type": "stream",
     "text": [
      "Processing:  10%|██████▉                                                            | 187/1800 [00:44<06:58,  3.85it/s]"
     ]
    },
    {
     "name": "stdout",
     "output_type": "stream",
     "text": [
      "\n",
      "0: 640x640 2 crazings, 18.0ms\n",
      "Speed: 6.9ms preprocess, 18.0ms inference, 3.9ms postprocess per image at shape (1, 3, 640, 640)\n"
     ]
    },
    {
     "name": "stderr",
     "output_type": "stream",
     "text": [
      "Processing:  10%|██████▉                                                            | 188/1800 [00:44<06:21,  4.22it/s]"
     ]
    },
    {
     "name": "stdout",
     "output_type": "stream",
     "text": [
      "\n",
      "0: 640x640 4 crazings, 17.9ms\n",
      "Speed: 5.0ms preprocess, 17.9ms inference, 4.1ms postprocess per image at shape (1, 3, 640, 640)\n"
     ]
    },
    {
     "name": "stderr",
     "output_type": "stream",
     "text": [
      "Processing:  10%|███████                                                            | 189/1800 [00:45<07:10,  3.74it/s]"
     ]
    },
    {
     "name": "stdout",
     "output_type": "stream",
     "text": [
      "\n",
      "0: 640x640 3 crazings, 18.8ms\n",
      "Speed: 7.0ms preprocess, 18.8ms inference, 4.3ms postprocess per image at shape (1, 3, 640, 640)\n"
     ]
    },
    {
     "name": "stderr",
     "output_type": "stream",
     "text": [
      "Processing:  11%|███████                                                            | 190/1800 [00:45<06:55,  3.87it/s]"
     ]
    },
    {
     "name": "stdout",
     "output_type": "stream",
     "text": [
      "\n",
      "0: 640x640 3 crazings, 17.0ms\n",
      "Speed: 5.7ms preprocess, 17.0ms inference, 3.4ms postprocess per image at shape (1, 3, 640, 640)\n"
     ]
    },
    {
     "name": "stderr",
     "output_type": "stream",
     "text": [
      "Processing:  11%|███████                                                            | 191/1800 [00:45<06:48,  3.94it/s]"
     ]
    },
    {
     "name": "stdout",
     "output_type": "stream",
     "text": [
      "\n",
      "0: 640x640 2 crazings, 16.5ms\n",
      "Speed: 3.9ms preprocess, 16.5ms inference, 3.9ms postprocess per image at shape (1, 3, 640, 640)\n"
     ]
    },
    {
     "name": "stderr",
     "output_type": "stream",
     "text": [
      "Processing:  11%|███████▏                                                           | 192/1800 [00:45<06:19,  4.24it/s]"
     ]
    },
    {
     "name": "stdout",
     "output_type": "stream",
     "text": [
      "\n",
      "0: 640x640 2 crazings, 17.8ms\n",
      "Speed: 5.2ms preprocess, 17.8ms inference, 3.6ms postprocess per image at shape (1, 3, 640, 640)\n"
     ]
    },
    {
     "name": "stderr",
     "output_type": "stream",
     "text": [
      "Processing:  11%|███████▏                                                           | 193/1800 [00:45<05:48,  4.61it/s]"
     ]
    },
    {
     "name": "stdout",
     "output_type": "stream",
     "text": [
      "\n",
      "0: 640x640 3 crazings, 16.0ms\n",
      "Speed: 5.5ms preprocess, 16.0ms inference, 3.3ms postprocess per image at shape (1, 3, 640, 640)\n"
     ]
    },
    {
     "name": "stderr",
     "output_type": "stream",
     "text": [
      "Processing:  11%|███████▏                                                           | 194/1800 [00:46<06:00,  4.45it/s]"
     ]
    },
    {
     "name": "stdout",
     "output_type": "stream",
     "text": [
      "\n",
      "0: 640x640 3 crazings, 17.6ms\n",
      "Speed: 5.9ms preprocess, 17.6ms inference, 4.9ms postprocess per image at shape (1, 3, 640, 640)\n"
     ]
    },
    {
     "name": "stderr",
     "output_type": "stream",
     "text": [
      "Processing:  11%|███████▎                                                           | 195/1800 [00:46<06:13,  4.30it/s]"
     ]
    },
    {
     "name": "stdout",
     "output_type": "stream",
     "text": [
      "\n",
      "0: 640x640 3 crazings, 17.7ms\n",
      "Speed: 7.7ms preprocess, 17.7ms inference, 2.9ms postprocess per image at shape (1, 3, 640, 640)\n"
     ]
    },
    {
     "name": "stderr",
     "output_type": "stream",
     "text": [
      "Processing:  11%|███████▎                                                           | 196/1800 [00:46<06:24,  4.18it/s]"
     ]
    },
    {
     "name": "stdout",
     "output_type": "stream",
     "text": [
      "\n",
      "0: 640x640 2 crazings, 17.2ms\n",
      "Speed: 6.0ms preprocess, 17.2ms inference, 3.7ms postprocess per image at shape (1, 3, 640, 640)\n"
     ]
    },
    {
     "name": "stderr",
     "output_type": "stream",
     "text": [
      "Processing:  11%|███████▎                                                           | 197/1800 [00:46<05:48,  4.59it/s]"
     ]
    },
    {
     "name": "stdout",
     "output_type": "stream",
     "text": [
      "\n",
      "0: 640x640 3 crazings, 15.5ms\n",
      "Speed: 5.3ms preprocess, 15.5ms inference, 3.5ms postprocess per image at shape (1, 3, 640, 640)\n"
     ]
    },
    {
     "name": "stderr",
     "output_type": "stream",
     "text": [
      "Processing:  11%|███████▎                                                           | 198/1800 [00:47<05:58,  4.46it/s]"
     ]
    },
    {
     "name": "stdout",
     "output_type": "stream",
     "text": [
      "\n",
      "0: 640x640 3 crazings, 16.5ms\n",
      "Speed: 5.6ms preprocess, 16.5ms inference, 3.7ms postprocess per image at shape (1, 3, 640, 640)\n"
     ]
    },
    {
     "name": "stderr",
     "output_type": "stream",
     "text": [
      "Processing:  11%|███████▍                                                           | 199/1800 [00:47<06:08,  4.34it/s]"
     ]
    },
    {
     "name": "stdout",
     "output_type": "stream",
     "text": [
      "\n",
      "0: 640x640 3 crazings, 18.8ms\n",
      "Speed: 5.6ms preprocess, 18.8ms inference, 3.3ms postprocess per image at shape (1, 3, 640, 640)\n"
     ]
    },
    {
     "name": "stderr",
     "output_type": "stream",
     "text": [
      "Processing:  11%|███████▍                                                           | 200/1800 [00:47<06:21,  4.20it/s]"
     ]
    },
    {
     "name": "stdout",
     "output_type": "stream",
     "text": [
      "\n",
      "0: 640x640 4 crazings, 16.5ms\n",
      "Speed: 5.4ms preprocess, 16.5ms inference, 3.3ms postprocess per image at shape (1, 3, 640, 640)\n"
     ]
    },
    {
     "name": "stderr",
     "output_type": "stream",
     "text": [
      "Processing:  11%|███████▍                                                           | 201/1800 [00:47<06:59,  3.81it/s]"
     ]
    },
    {
     "name": "stdout",
     "output_type": "stream",
     "text": [
      "\n",
      "0: 640x640 2 crazings, 12.9ms\n",
      "Speed: 4.6ms preprocess, 12.9ms inference, 5.7ms postprocess per image at shape (1, 3, 640, 640)\n"
     ]
    },
    {
     "name": "stderr",
     "output_type": "stream",
     "text": [
      "Processing:  11%|███████▌                                                           | 202/1800 [00:48<06:11,  4.31it/s]"
     ]
    },
    {
     "name": "stdout",
     "output_type": "stream",
     "text": [
      "\n",
      "0: 640x640 2 crazings, 12.8ms\n",
      "Speed: 5.1ms preprocess, 12.8ms inference, 4.1ms postprocess per image at shape (1, 3, 640, 640)\n"
     ]
    },
    {
     "name": "stderr",
     "output_type": "stream",
     "text": [
      "Processing:  11%|███████▌                                                           | 203/1800 [00:48<05:43,  4.65it/s]"
     ]
    },
    {
     "name": "stdout",
     "output_type": "stream",
     "text": [
      "\n",
      "0: 640x640 3 crazings, 15.6ms\n",
      "Speed: 5.1ms preprocess, 15.6ms inference, 3.0ms postprocess per image at shape (1, 3, 640, 640)\n"
     ]
    },
    {
     "name": "stderr",
     "output_type": "stream",
     "text": [
      "Processing:  11%|███████▌                                                           | 204/1800 [00:48<05:59,  4.44it/s]"
     ]
    },
    {
     "name": "stdout",
     "output_type": "stream",
     "text": [
      "\n",
      "0: 640x640 3 crazings, 17.5ms\n",
      "Speed: 5.3ms preprocess, 17.5ms inference, 3.3ms postprocess per image at shape (1, 3, 640, 640)\n"
     ]
    },
    {
     "name": "stderr",
     "output_type": "stream",
     "text": [
      "Processing:  11%|███████▋                                                           | 205/1800 [00:48<06:07,  4.33it/s]"
     ]
    },
    {
     "name": "stdout",
     "output_type": "stream",
     "text": [
      "\n",
      "0: 640x640 3 crazings, 22.8ms\n",
      "Speed: 4.7ms preprocess, 22.8ms inference, 3.8ms postprocess per image at shape (1, 3, 640, 640)\n"
     ]
    },
    {
     "name": "stderr",
     "output_type": "stream",
     "text": [
      "Processing:  11%|███████▋                                                           | 206/1800 [00:49<06:14,  4.26it/s]"
     ]
    },
    {
     "name": "stdout",
     "output_type": "stream",
     "text": [
      "\n",
      "0: 640x640 4 crazings, 17.9ms\n",
      "Speed: 5.5ms preprocess, 17.9ms inference, 3.3ms postprocess per image at shape (1, 3, 640, 640)\n"
     ]
    },
    {
     "name": "stderr",
     "output_type": "stream",
     "text": [
      "Processing:  12%|███████▋                                                           | 207/1800 [00:49<06:53,  3.85it/s]"
     ]
    },
    {
     "name": "stdout",
     "output_type": "stream",
     "text": [
      "\n",
      "0: 640x640 3 crazings, 22.5ms\n",
      "Speed: 7.6ms preprocess, 22.5ms inference, 3.8ms postprocess per image at shape (1, 3, 640, 640)\n"
     ]
    },
    {
     "name": "stderr",
     "output_type": "stream",
     "text": [
      "Processing:  12%|███████▋                                                           | 208/1800 [00:49<06:53,  3.85it/s]"
     ]
    },
    {
     "name": "stdout",
     "output_type": "stream",
     "text": [
      "\n",
      "0: 640x640 4 crazings, 17.5ms\n",
      "Speed: 5.5ms preprocess, 17.5ms inference, 3.7ms postprocess per image at shape (1, 3, 640, 640)\n"
     ]
    },
    {
     "name": "stderr",
     "output_type": "stream",
     "text": [
      "Processing:  12%|███████▊                                                           | 209/1800 [00:49<07:18,  3.63it/s]"
     ]
    },
    {
     "name": "stdout",
     "output_type": "stream",
     "text": [
      "\n",
      "0: 640x640 2 crazings, 17.6ms\n",
      "Speed: 5.1ms preprocess, 17.6ms inference, 4.0ms postprocess per image at shape (1, 3, 640, 640)\n"
     ]
    },
    {
     "name": "stderr",
     "output_type": "stream",
     "text": [
      "Processing:  12%|███████▊                                                           | 210/1800 [00:50<06:30,  4.07it/s]"
     ]
    },
    {
     "name": "stdout",
     "output_type": "stream",
     "text": [
      "\n",
      "0: 640x640 1 crazing, 18.7ms\n",
      "Speed: 5.6ms preprocess, 18.7ms inference, 4.2ms postprocess per image at shape (1, 3, 640, 640)\n"
     ]
    },
    {
     "name": "stderr",
     "output_type": "stream",
     "text": [
      "Processing:  12%|███████▊                                                           | 211/1800 [00:50<05:24,  4.90it/s]"
     ]
    },
    {
     "name": "stdout",
     "output_type": "stream",
     "text": [
      "\n",
      "0: 640x640 3 crazings, 18.5ms\n",
      "Speed: 10.1ms preprocess, 18.5ms inference, 3.7ms postprocess per image at shape (1, 3, 640, 640)\n"
     ]
    },
    {
     "name": "stderr",
     "output_type": "stream",
     "text": [
      "Processing:  12%|███████▉                                                           | 212/1800 [00:50<05:40,  4.66it/s]"
     ]
    },
    {
     "name": "stdout",
     "output_type": "stream",
     "text": [
      "\n",
      "0: 640x640 3 crazings, 18.0ms\n",
      "Speed: 4.7ms preprocess, 18.0ms inference, 3.8ms postprocess per image at shape (1, 3, 640, 640)\n"
     ]
    },
    {
     "name": "stderr",
     "output_type": "stream",
     "text": [
      "Processing:  12%|███████▉                                                           | 213/1800 [00:50<05:46,  4.58it/s]"
     ]
    },
    {
     "name": "stdout",
     "output_type": "stream",
     "text": [
      "\n",
      "0: 640x640 3 crazings, 19.5ms\n",
      "Speed: 5.3ms preprocess, 19.5ms inference, 3.1ms postprocess per image at shape (1, 3, 640, 640)\n"
     ]
    },
    {
     "name": "stderr",
     "output_type": "stream",
     "text": [
      "Processing:  12%|███████▉                                                           | 214/1800 [00:50<05:55,  4.47it/s]"
     ]
    },
    {
     "name": "stdout",
     "output_type": "stream",
     "text": [
      "\n",
      "0: 640x640 3 crazings, 17.3ms\n",
      "Speed: 4.9ms preprocess, 17.3ms inference, 3.8ms postprocess per image at shape (1, 3, 640, 640)\n"
     ]
    },
    {
     "name": "stderr",
     "output_type": "stream",
     "text": [
      "Processing:  12%|████████                                                           | 215/1800 [00:51<06:01,  4.38it/s]"
     ]
    },
    {
     "name": "stdout",
     "output_type": "stream",
     "text": [
      "\n",
      "0: 640x640 3 crazings, 16.2ms\n",
      "Speed: 4.1ms preprocess, 16.2ms inference, 3.8ms postprocess per image at shape (1, 3, 640, 640)\n"
     ]
    },
    {
     "name": "stderr",
     "output_type": "stream",
     "text": [
      "Processing:  12%|████████                                                           | 216/1800 [00:51<06:07,  4.31it/s]"
     ]
    },
    {
     "name": "stdout",
     "output_type": "stream",
     "text": [
      "\n",
      "0: 640x640 2 crazings, 16.9ms\n",
      "Speed: 5.3ms preprocess, 16.9ms inference, 3.9ms postprocess per image at shape (1, 3, 640, 640)\n"
     ]
    },
    {
     "name": "stderr",
     "output_type": "stream",
     "text": [
      "Processing:  12%|████████                                                           | 217/1800 [00:51<05:38,  4.67it/s]"
     ]
    },
    {
     "name": "stdout",
     "output_type": "stream",
     "text": [
      "\n",
      "0: 640x640 3 crazings, 24.8ms\n",
      "Speed: 5.3ms preprocess, 24.8ms inference, 3.2ms postprocess per image at shape (1, 3, 640, 640)\n"
     ]
    },
    {
     "name": "stderr",
     "output_type": "stream",
     "text": [
      "Processing:  12%|████████                                                           | 218/1800 [00:51<05:58,  4.42it/s]"
     ]
    },
    {
     "name": "stdout",
     "output_type": "stream",
     "text": [
      "\n",
      "0: 640x640 3 crazings, 18.7ms\n",
      "Speed: 4.9ms preprocess, 18.7ms inference, 4.2ms postprocess per image at shape (1, 3, 640, 640)\n"
     ]
    },
    {
     "name": "stderr",
     "output_type": "stream",
     "text": [
      "Processing:  12%|████████▏                                                          | 219/1800 [00:52<06:12,  4.25it/s]"
     ]
    },
    {
     "name": "stdout",
     "output_type": "stream",
     "text": [
      "\n",
      "0: 640x640 3 crazings, 16.7ms\n",
      "Speed: 8.7ms preprocess, 16.7ms inference, 7.3ms postprocess per image at shape (1, 3, 640, 640)\n"
     ]
    },
    {
     "name": "stderr",
     "output_type": "stream",
     "text": [
      "Processing:  12%|████████▏                                                          | 220/1800 [00:52<06:34,  4.00it/s]"
     ]
    },
    {
     "name": "stdout",
     "output_type": "stream",
     "text": [
      "\n",
      "0: 640x640 3 crazings, 21.2ms\n",
      "Speed: 5.7ms preprocess, 21.2ms inference, 4.6ms postprocess per image at shape (1, 3, 640, 640)\n"
     ]
    },
    {
     "name": "stderr",
     "output_type": "stream",
     "text": [
      "Processing:  12%|████████▏                                                          | 221/1800 [00:52<06:31,  4.03it/s]"
     ]
    },
    {
     "name": "stdout",
     "output_type": "stream",
     "text": [
      "\n",
      "0: 640x640 3 crazings, 22.4ms\n",
      "Speed: 5.6ms preprocess, 22.4ms inference, 2.2ms postprocess per image at shape (1, 3, 640, 640)\n"
     ]
    },
    {
     "name": "stderr",
     "output_type": "stream",
     "text": [
      "Processing:  12%|████████▎                                                          | 222/1800 [00:52<06:30,  4.04it/s]"
     ]
    },
    {
     "name": "stdout",
     "output_type": "stream",
     "text": [
      "\n",
      "0: 640x640 2 crazings, 18.2ms\n",
      "Speed: 5.5ms preprocess, 18.2ms inference, 6.9ms postprocess per image at shape (1, 3, 640, 640)\n"
     ]
    },
    {
     "name": "stderr",
     "output_type": "stream",
     "text": [
      "Processing:  12%|████████▎                                                          | 223/1800 [00:52<05:55,  4.44it/s]"
     ]
    },
    {
     "name": "stdout",
     "output_type": "stream",
     "text": [
      "\n",
      "0: 640x640 3 crazings, 16.2ms\n",
      "Speed: 6.2ms preprocess, 16.2ms inference, 3.4ms postprocess per image at shape (1, 3, 640, 640)\n"
     ]
    },
    {
     "name": "stderr",
     "output_type": "stream",
     "text": [
      "Processing:  12%|████████▎                                                          | 224/1800 [00:53<06:09,  4.27it/s]"
     ]
    },
    {
     "name": "stdout",
     "output_type": "stream",
     "text": [
      "\n",
      "0: 640x640 3 crazings, 15.3ms\n",
      "Speed: 5.3ms preprocess, 15.3ms inference, 3.1ms postprocess per image at shape (1, 3, 640, 640)\n"
     ]
    },
    {
     "name": "stderr",
     "output_type": "stream",
     "text": [
      "Processing:  12%|████████▍                                                          | 225/1800 [00:53<06:09,  4.27it/s]"
     ]
    },
    {
     "name": "stdout",
     "output_type": "stream",
     "text": [
      "\n",
      "0: 640x640 2 crazings, 17.6ms\n",
      "Speed: 5.9ms preprocess, 17.6ms inference, 3.5ms postprocess per image at shape (1, 3, 640, 640)\n"
     ]
    },
    {
     "name": "stderr",
     "output_type": "stream",
     "text": [
      "Processing:  13%|████████▍                                                          | 226/1800 [00:53<05:42,  4.59it/s]"
     ]
    },
    {
     "name": "stdout",
     "output_type": "stream",
     "text": [
      "\n",
      "0: 640x640 2 crazings, 25.0ms\n",
      "Speed: 4.8ms preprocess, 25.0ms inference, 3.6ms postprocess per image at shape (1, 3, 640, 640)\n"
     ]
    },
    {
     "name": "stderr",
     "output_type": "stream",
     "text": [
      "Processing:  13%|████████▍                                                          | 227/1800 [00:53<05:25,  4.84it/s]"
     ]
    },
    {
     "name": "stdout",
     "output_type": "stream",
     "text": [
      "\n",
      "0: 640x640 3 crazings, 16.2ms\n",
      "Speed: 6.1ms preprocess, 16.2ms inference, 4.0ms postprocess per image at shape (1, 3, 640, 640)\n"
     ]
    },
    {
     "name": "stderr",
     "output_type": "stream",
     "text": [
      "Processing:  13%|████████▍                                                          | 228/1800 [00:54<05:48,  4.52it/s]"
     ]
    },
    {
     "name": "stdout",
     "output_type": "stream",
     "text": [
      "\n",
      "0: 640x640 2 crazings, 18.8ms\n",
      "Speed: 5.8ms preprocess, 18.8ms inference, 4.0ms postprocess per image at shape (1, 3, 640, 640)\n"
     ]
    },
    {
     "name": "stderr",
     "output_type": "stream",
     "text": [
      "Processing:  13%|████████▌                                                          | 229/1800 [00:54<05:32,  4.73it/s]"
     ]
    },
    {
     "name": "stdout",
     "output_type": "stream",
     "text": [
      "\n",
      "0: 640x640 2 crazings, 18.7ms\n",
      "Speed: 6.9ms preprocess, 18.7ms inference, 3.4ms postprocess per image at shape (1, 3, 640, 640)\n"
     ]
    },
    {
     "name": "stderr",
     "output_type": "stream",
     "text": [
      "Processing:  13%|████████▌                                                          | 230/1800 [00:54<05:19,  4.92it/s]"
     ]
    },
    {
     "name": "stdout",
     "output_type": "stream",
     "text": [
      "\n",
      "0: 640x640 4 crazings, 23.0ms\n",
      "Speed: 5.6ms preprocess, 23.0ms inference, 4.0ms postprocess per image at shape (1, 3, 640, 640)\n"
     ]
    },
    {
     "name": "stderr",
     "output_type": "stream",
     "text": [
      "Processing:  13%|████████▌                                                          | 231/1800 [00:54<06:10,  4.23it/s]"
     ]
    },
    {
     "name": "stdout",
     "output_type": "stream",
     "text": [
      "\n",
      "0: 640x640 3 crazings, 17.2ms\n",
      "Speed: 5.6ms preprocess, 17.2ms inference, 4.5ms postprocess per image at shape (1, 3, 640, 640)\n"
     ]
    },
    {
     "name": "stderr",
     "output_type": "stream",
     "text": [
      "Processing:  13%|████████▋                                                          | 232/1800 [00:55<06:22,  4.09it/s]"
     ]
    },
    {
     "name": "stdout",
     "output_type": "stream",
     "text": [
      "\n",
      "0: 640x640 2 crazings, 20.7ms\n",
      "Speed: 6.2ms preprocess, 20.7ms inference, 6.0ms postprocess per image at shape (1, 3, 640, 640)\n"
     ]
    },
    {
     "name": "stderr",
     "output_type": "stream",
     "text": [
      "Processing:  13%|████████▋                                                          | 233/1800 [00:55<05:52,  4.44it/s]"
     ]
    },
    {
     "name": "stdout",
     "output_type": "stream",
     "text": [
      "\n",
      "0: 640x640 2 crazings, 20.3ms\n",
      "Speed: 5.5ms preprocess, 20.3ms inference, 3.4ms postprocess per image at shape (1, 3, 640, 640)\n"
     ]
    },
    {
     "name": "stderr",
     "output_type": "stream",
     "text": [
      "Processing:  13%|████████▋                                                          | 234/1800 [00:55<05:27,  4.78it/s]"
     ]
    },
    {
     "name": "stdout",
     "output_type": "stream",
     "text": [
      "\n",
      "0: 640x640 3 crazings, 17.4ms\n",
      "Speed: 4.8ms preprocess, 17.4ms inference, 3.3ms postprocess per image at shape (1, 3, 640, 640)\n"
     ]
    },
    {
     "name": "stderr",
     "output_type": "stream",
     "text": [
      "Processing:  13%|████████▋                                                          | 235/1800 [00:55<05:40,  4.60it/s]"
     ]
    },
    {
     "name": "stdout",
     "output_type": "stream",
     "text": [
      "\n",
      "0: 640x640 2 crazings, 18.0ms\n",
      "Speed: 4.7ms preprocess, 18.0ms inference, 3.1ms postprocess per image at shape (1, 3, 640, 640)\n"
     ]
    },
    {
     "name": "stderr",
     "output_type": "stream",
     "text": [
      "Processing:  13%|████████▊                                                          | 236/1800 [00:55<05:25,  4.81it/s]"
     ]
    },
    {
     "name": "stdout",
     "output_type": "stream",
     "text": [
      "\n",
      "0: 640x640 3 crazings, 18.4ms\n",
      "Speed: 5.2ms preprocess, 18.4ms inference, 3.1ms postprocess per image at shape (1, 3, 640, 640)\n"
     ]
    },
    {
     "name": "stderr",
     "output_type": "stream",
     "text": [
      "Processing:  13%|████████▊                                                          | 237/1800 [00:56<05:42,  4.57it/s]"
     ]
    },
    {
     "name": "stdout",
     "output_type": "stream",
     "text": [
      "\n",
      "0: 640x640 2 crazings, 20.1ms\n",
      "Speed: 6.5ms preprocess, 20.1ms inference, 3.4ms postprocess per image at shape (1, 3, 640, 640)\n"
     ]
    },
    {
     "name": "stderr",
     "output_type": "stream",
     "text": [
      "Processing:  13%|████████▊                                                          | 238/1800 [00:56<05:17,  4.93it/s]"
     ]
    },
    {
     "name": "stdout",
     "output_type": "stream",
     "text": [
      "\n",
      "0: 640x640 3 crazings, 17.5ms\n",
      "Speed: 5.3ms preprocess, 17.5ms inference, 3.4ms postprocess per image at shape (1, 3, 640, 640)\n"
     ]
    },
    {
     "name": "stderr",
     "output_type": "stream",
     "text": [
      "Processing:  13%|████████▉                                                          | 239/1800 [00:56<05:42,  4.56it/s]"
     ]
    },
    {
     "name": "stdout",
     "output_type": "stream",
     "text": [
      "\n",
      "0: 640x640 4 crazings, 19.1ms\n",
      "Speed: 5.5ms preprocess, 19.1ms inference, 4.3ms postprocess per image at shape (1, 3, 640, 640)\n"
     ]
    },
    {
     "name": "stderr",
     "output_type": "stream",
     "text": [
      "Processing:  13%|████████▉                                                          | 240/1800 [00:56<06:39,  3.91it/s]"
     ]
    },
    {
     "name": "stdout",
     "output_type": "stream",
     "text": [
      "\n",
      "0: 640x640 3 crazings, 18.5ms\n",
      "Speed: 4.5ms preprocess, 18.5ms inference, 4.0ms postprocess per image at shape (1, 3, 640, 640)\n"
     ]
    },
    {
     "name": "stderr",
     "output_type": "stream",
     "text": [
      "Processing:  13%|████████▉                                                          | 241/1800 [00:57<06:31,  3.98it/s]"
     ]
    },
    {
     "name": "stdout",
     "output_type": "stream",
     "text": [
      "\n",
      "0: 640x640 4 crazings, 18.0ms\n",
      "Speed: 5.2ms preprocess, 18.0ms inference, 3.8ms postprocess per image at shape (1, 3, 640, 640)\n"
     ]
    },
    {
     "name": "stderr",
     "output_type": "stream",
     "text": [
      "Processing:  13%|█████████                                                          | 242/1800 [00:57<06:55,  3.75it/s]"
     ]
    },
    {
     "name": "stdout",
     "output_type": "stream",
     "text": [
      "\n",
      "0: 640x640 3 crazings, 16.0ms\n",
      "Speed: 5.2ms preprocess, 16.0ms inference, 3.3ms postprocess per image at shape (1, 3, 640, 640)\n"
     ]
    },
    {
     "name": "stderr",
     "output_type": "stream",
     "text": [
      "Processing:  14%|█████████                                                          | 243/1800 [00:57<06:42,  3.87it/s]"
     ]
    },
    {
     "name": "stdout",
     "output_type": "stream",
     "text": [
      "\n",
      "0: 640x640 4 crazings, 19.9ms\n",
      "Speed: 5.0ms preprocess, 19.9ms inference, 2.2ms postprocess per image at shape (1, 3, 640, 640)\n"
     ]
    },
    {
     "name": "stderr",
     "output_type": "stream",
     "text": [
      "Processing:  14%|█████████                                                          | 244/1800 [00:57<07:14,  3.58it/s]"
     ]
    },
    {
     "name": "stdout",
     "output_type": "stream",
     "text": [
      "\n",
      "0: 640x640 4 crazings, 16.1ms\n",
      "Speed: 5.0ms preprocess, 16.1ms inference, 3.5ms postprocess per image at shape (1, 3, 640, 640)\n"
     ]
    },
    {
     "name": "stderr",
     "output_type": "stream",
     "text": [
      "Processing:  14%|█████████                                                          | 245/1800 [00:58<07:26,  3.48it/s]"
     ]
    },
    {
     "name": "stdout",
     "output_type": "stream",
     "text": [
      "\n",
      "0: 640x640 2 crazings, 20.0ms\n",
      "Speed: 7.6ms preprocess, 20.0ms inference, 3.1ms postprocess per image at shape (1, 3, 640, 640)\n"
     ]
    },
    {
     "name": "stderr",
     "output_type": "stream",
     "text": [
      "Processing:  14%|█████████▏                                                         | 246/1800 [00:58<06:37,  3.91it/s]"
     ]
    },
    {
     "name": "stdout",
     "output_type": "stream",
     "text": [
      "\n",
      "0: 640x640 4 crazings, 20.4ms\n",
      "Speed: 5.2ms preprocess, 20.4ms inference, 3.2ms postprocess per image at shape (1, 3, 640, 640)\n"
     ]
    },
    {
     "name": "stderr",
     "output_type": "stream",
     "text": [
      "Processing:  14%|█████████▏                                                         | 247/1800 [00:58<07:04,  3.66it/s]"
     ]
    },
    {
     "name": "stdout",
     "output_type": "stream",
     "text": [
      "\n",
      "0: 640x640 2 crazings, 17.7ms\n",
      "Speed: 5.2ms preprocess, 17.7ms inference, 3.4ms postprocess per image at shape (1, 3, 640, 640)\n"
     ]
    },
    {
     "name": "stderr",
     "output_type": "stream",
     "text": [
      "Processing:  14%|█████████▏                                                         | 248/1800 [00:58<06:18,  4.10it/s]"
     ]
    },
    {
     "name": "stdout",
     "output_type": "stream",
     "text": [
      "\n",
      "0: 640x640 2 crazings, 17.1ms\n",
      "Speed: 5.4ms preprocess, 17.1ms inference, 3.4ms postprocess per image at shape (1, 3, 640, 640)\n"
     ]
    },
    {
     "name": "stderr",
     "output_type": "stream",
     "text": [
      "Processing:  14%|█████████▎                                                         | 249/1800 [00:59<05:43,  4.52it/s]"
     ]
    },
    {
     "name": "stdout",
     "output_type": "stream",
     "text": [
      "\n",
      "0: 640x640 1 crazing, 21.6ms\n",
      "Speed: 6.7ms preprocess, 21.6ms inference, 4.4ms postprocess per image at shape (1, 3, 640, 640)\n"
     ]
    },
    {
     "name": "stderr",
     "output_type": "stream",
     "text": [
      "Processing:  14%|█████████▎                                                         | 250/1800 [00:59<04:52,  5.29it/s]"
     ]
    },
    {
     "name": "stdout",
     "output_type": "stream",
     "text": [
      "\n",
      "0: 640x640 1 crazing, 19.7ms\n",
      "Speed: 4.5ms preprocess, 19.7ms inference, 3.7ms postprocess per image at shape (1, 3, 640, 640)\n"
     ]
    },
    {
     "name": "stderr",
     "output_type": "stream",
     "text": [
      "Processing:  14%|█████████▎                                                         | 251/1800 [00:59<04:17,  6.02it/s]"
     ]
    },
    {
     "name": "stdout",
     "output_type": "stream",
     "text": [
      "\n",
      "0: 640x640 4 crazings, 22.0ms\n",
      "Speed: 5.5ms preprocess, 22.0ms inference, 3.2ms postprocess per image at shape (1, 3, 640, 640)\n"
     ]
    },
    {
     "name": "stderr",
     "output_type": "stream",
     "text": [
      "Processing:  14%|█████████▍                                                         | 252/1800 [00:59<05:22,  4.80it/s]"
     ]
    },
    {
     "name": "stdout",
     "output_type": "stream",
     "text": [
      "\n",
      "0: 640x640 3 crazings, 17.8ms\n",
      "Speed: 5.4ms preprocess, 17.8ms inference, 3.4ms postprocess per image at shape (1, 3, 640, 640)\n"
     ]
    },
    {
     "name": "stderr",
     "output_type": "stream",
     "text": [
      "Processing:  14%|█████████▍                                                         | 253/1800 [00:59<05:41,  4.53it/s]"
     ]
    },
    {
     "name": "stdout",
     "output_type": "stream",
     "text": [
      "\n",
      "0: 640x640 3 crazings, 18.6ms\n",
      "Speed: 5.7ms preprocess, 18.6ms inference, 3.8ms postprocess per image at shape (1, 3, 640, 640)\n"
     ]
    },
    {
     "name": "stderr",
     "output_type": "stream",
     "text": [
      "Processing:  14%|█████████▍                                                         | 254/1800 [01:00<05:52,  4.39it/s]"
     ]
    },
    {
     "name": "stdout",
     "output_type": "stream",
     "text": [
      "\n",
      "0: 640x640 3 crazings, 15.6ms\n",
      "Speed: 5.6ms preprocess, 15.6ms inference, 4.8ms postprocess per image at shape (1, 3, 640, 640)\n"
     ]
    },
    {
     "name": "stderr",
     "output_type": "stream",
     "text": [
      "Processing:  14%|█████████▍                                                         | 255/1800 [01:00<05:58,  4.31it/s]"
     ]
    },
    {
     "name": "stdout",
     "output_type": "stream",
     "text": [
      "\n",
      "0: 640x640 2 crazings, 16.4ms\n",
      "Speed: 5.7ms preprocess, 16.4ms inference, 3.7ms postprocess per image at shape (1, 3, 640, 640)\n"
     ]
    },
    {
     "name": "stderr",
     "output_type": "stream",
     "text": [
      "Processing:  14%|█████████▌                                                         | 256/1800 [01:00<05:31,  4.66it/s]"
     ]
    },
    {
     "name": "stdout",
     "output_type": "stream",
     "text": [
      "\n",
      "0: 640x640 4 crazings, 22.7ms\n",
      "Speed: 5.5ms preprocess, 22.7ms inference, 4.0ms postprocess per image at shape (1, 3, 640, 640)\n"
     ]
    },
    {
     "name": "stderr",
     "output_type": "stream",
     "text": [
      "Processing:  14%|█████████▌                                                         | 257/1800 [01:00<06:16,  4.10it/s]"
     ]
    },
    {
     "name": "stdout",
     "output_type": "stream",
     "text": [
      "\n",
      "0: 640x640 3 crazings, 19.1ms\n",
      "Speed: 4.2ms preprocess, 19.1ms inference, 4.5ms postprocess per image at shape (1, 3, 640, 640)\n"
     ]
    },
    {
     "name": "stderr",
     "output_type": "stream",
     "text": [
      "Processing:  14%|█████████▌                                                         | 258/1800 [01:01<06:15,  4.11it/s]"
     ]
    },
    {
     "name": "stdout",
     "output_type": "stream",
     "text": [
      "\n",
      "0: 640x640 2 crazings, 20.2ms\n",
      "Speed: 5.6ms preprocess, 20.2ms inference, 4.0ms postprocess per image at shape (1, 3, 640, 640)\n"
     ]
    },
    {
     "name": "stderr",
     "output_type": "stream",
     "text": [
      "Processing:  14%|█████████▋                                                         | 259/1800 [01:01<05:48,  4.42it/s]"
     ]
    },
    {
     "name": "stdout",
     "output_type": "stream",
     "text": [
      "\n",
      "0: 640x640 2 crazings, 17.1ms\n",
      "Speed: 5.6ms preprocess, 17.1ms inference, 2.7ms postprocess per image at shape (1, 3, 640, 640)\n"
     ]
    },
    {
     "name": "stderr",
     "output_type": "stream",
     "text": [
      "Processing:  14%|█████████▋                                                         | 260/1800 [01:01<05:18,  4.83it/s]"
     ]
    },
    {
     "name": "stdout",
     "output_type": "stream",
     "text": [
      "\n",
      "0: 640x640 3 crazings, 17.8ms\n",
      "Speed: 5.6ms preprocess, 17.8ms inference, 2.2ms postprocess per image at shape (1, 3, 640, 640)\n"
     ]
    },
    {
     "name": "stderr",
     "output_type": "stream",
     "text": [
      "Processing:  14%|█████████▋                                                         | 261/1800 [01:01<05:38,  4.54it/s]"
     ]
    },
    {
     "name": "stdout",
     "output_type": "stream",
     "text": [
      "\n",
      "0: 640x640 3 crazings, 20.2ms\n",
      "Speed: 6.1ms preprocess, 20.2ms inference, 3.1ms postprocess per image at shape (1, 3, 640, 640)\n"
     ]
    },
    {
     "name": "stderr",
     "output_type": "stream",
     "text": [
      "Processing:  15%|█████████▊                                                         | 262/1800 [01:01<05:53,  4.35it/s]"
     ]
    },
    {
     "name": "stdout",
     "output_type": "stream",
     "text": [
      "\n",
      "0: 640x640 3 crazings, 16.2ms\n",
      "Speed: 5.9ms preprocess, 16.2ms inference, 3.9ms postprocess per image at shape (1, 3, 640, 640)\n"
     ]
    },
    {
     "name": "stderr",
     "output_type": "stream",
     "text": [
      "Processing:  15%|█████████▊                                                         | 263/1800 [01:02<06:01,  4.26it/s]"
     ]
    },
    {
     "name": "stdout",
     "output_type": "stream",
     "text": [
      "\n",
      "0: 640x640 2 crazings, 17.4ms\n",
      "Speed: 5.2ms preprocess, 17.4ms inference, 2.6ms postprocess per image at shape (1, 3, 640, 640)\n"
     ]
    },
    {
     "name": "stderr",
     "output_type": "stream",
     "text": [
      "Processing:  15%|█████████▊                                                         | 264/1800 [01:02<05:31,  4.63it/s]"
     ]
    },
    {
     "name": "stdout",
     "output_type": "stream",
     "text": [
      "\n",
      "0: 640x640 3 crazings, 14.7ms\n",
      "Speed: 5.7ms preprocess, 14.7ms inference, 3.7ms postprocess per image at shape (1, 3, 640, 640)\n"
     ]
    },
    {
     "name": "stderr",
     "output_type": "stream",
     "text": [
      "Processing:  15%|█████████▊                                                         | 265/1800 [01:02<05:33,  4.60it/s]"
     ]
    },
    {
     "name": "stdout",
     "output_type": "stream",
     "text": [
      "\n",
      "0: 640x640 4 crazings, 17.9ms\n",
      "Speed: 5.9ms preprocess, 17.9ms inference, 3.7ms postprocess per image at shape (1, 3, 640, 640)\n"
     ]
    },
    {
     "name": "stderr",
     "output_type": "stream",
     "text": [
      "Processing:  15%|█████████▉                                                         | 266/1800 [01:02<06:15,  4.08it/s]"
     ]
    },
    {
     "name": "stdout",
     "output_type": "stream",
     "text": [
      "\n",
      "0: 640x640 2 crazings, 17.5ms\n",
      "Speed: 5.1ms preprocess, 17.5ms inference, 3.7ms postprocess per image at shape (1, 3, 640, 640)\n"
     ]
    },
    {
     "name": "stderr",
     "output_type": "stream",
     "text": [
      "Processing:  15%|█████████▉                                                         | 267/1800 [01:03<05:47,  4.42it/s]"
     ]
    },
    {
     "name": "stdout",
     "output_type": "stream",
     "text": [
      "\n",
      "0: 640x640 4 crazings, 18.1ms\n",
      "Speed: 5.4ms preprocess, 18.1ms inference, 3.6ms postprocess per image at shape (1, 3, 640, 640)\n"
     ]
    },
    {
     "name": "stderr",
     "output_type": "stream",
     "text": [
      "Processing:  15%|█████████▉                                                         | 268/1800 [01:03<06:30,  3.92it/s]"
     ]
    },
    {
     "name": "stdout",
     "output_type": "stream",
     "text": [
      "\n",
      "0: 640x640 2 crazings, 20.6ms\n",
      "Speed: 6.5ms preprocess, 20.6ms inference, 3.4ms postprocess per image at shape (1, 3, 640, 640)\n"
     ]
    },
    {
     "name": "stderr",
     "output_type": "stream",
     "text": [
      "Processing:  15%|██████████                                                         | 269/1800 [01:03<05:51,  4.35it/s]"
     ]
    },
    {
     "name": "stdout",
     "output_type": "stream",
     "text": [
      "\n",
      "0: 640x640 4 crazings, 15.5ms\n",
      "Speed: 5.2ms preprocess, 15.5ms inference, 3.9ms postprocess per image at shape (1, 3, 640, 640)\n"
     ]
    },
    {
     "name": "stderr",
     "output_type": "stream",
     "text": [
      "Processing:  15%|██████████                                                         | 270/1800 [01:03<06:23,  3.99it/s]"
     ]
    },
    {
     "name": "stdout",
     "output_type": "stream",
     "text": [
      "\n",
      "0: 640x640 2 crazings, 18.3ms\n",
      "Speed: 4.5ms preprocess, 18.3ms inference, 3.7ms postprocess per image at shape (1, 3, 640, 640)\n"
     ]
    },
    {
     "name": "stderr",
     "output_type": "stream",
     "text": [
      "Processing:  15%|██████████                                                         | 271/1800 [01:04<05:50,  4.36it/s]"
     ]
    },
    {
     "name": "stdout",
     "output_type": "stream",
     "text": [
      "\n",
      "0: 640x640 2 crazings, 18.3ms\n",
      "Speed: 5.7ms preprocess, 18.3ms inference, 3.7ms postprocess per image at shape (1, 3, 640, 640)\n"
     ]
    },
    {
     "name": "stderr",
     "output_type": "stream",
     "text": [
      "Processing:  15%|██████████                                                         | 272/1800 [01:04<05:20,  4.77it/s]"
     ]
    },
    {
     "name": "stdout",
     "output_type": "stream",
     "text": [
      "\n",
      "0: 640x640 3 crazings, 1 inculsion, 19.5ms\n",
      "Speed: 4.2ms preprocess, 19.5ms inference, 3.9ms postprocess per image at shape (1, 3, 640, 640)\n"
     ]
    },
    {
     "name": "stderr",
     "output_type": "stream",
     "text": [
      "Processing:  15%|██████████▏                                                        | 273/1800 [01:04<06:10,  4.13it/s]"
     ]
    },
    {
     "name": "stdout",
     "output_type": "stream",
     "text": [
      "\n",
      "0: 640x640 3 crazings, 17.7ms\n",
      "Speed: 6.1ms preprocess, 17.7ms inference, 3.6ms postprocess per image at shape (1, 3, 640, 640)\n"
     ]
    },
    {
     "name": "stderr",
     "output_type": "stream",
     "text": [
      "Processing:  15%|██████████▏                                                        | 274/1800 [01:04<06:07,  4.16it/s]"
     ]
    },
    {
     "name": "stdout",
     "output_type": "stream",
     "text": [
      "\n",
      "0: 640x640 2 crazings, 17.5ms\n",
      "Speed: 6.0ms preprocess, 17.5ms inference, 3.5ms postprocess per image at shape (1, 3, 640, 640)\n"
     ]
    },
    {
     "name": "stderr",
     "output_type": "stream",
     "text": [
      "Processing:  15%|██████████▏                                                        | 275/1800 [01:04<05:38,  4.51it/s]"
     ]
    },
    {
     "name": "stdout",
     "output_type": "stream",
     "text": [
      "\n",
      "0: 640x640 2 crazings, 27.5ms\n",
      "Speed: 5.5ms preprocess, 27.5ms inference, 4.1ms postprocess per image at shape (1, 3, 640, 640)\n"
     ]
    },
    {
     "name": "stderr",
     "output_type": "stream",
     "text": [
      "Processing:  15%|██████████▎                                                        | 276/1800 [01:05<05:20,  4.76it/s]"
     ]
    },
    {
     "name": "stdout",
     "output_type": "stream",
     "text": [
      "\n",
      "0: 640x640 4 crazings, 28.6ms\n",
      "Speed: 6.2ms preprocess, 28.6ms inference, 3.4ms postprocess per image at shape (1, 3, 640, 640)\n"
     ]
    },
    {
     "name": "stderr",
     "output_type": "stream",
     "text": [
      "Processing:  15%|██████████▎                                                        | 277/1800 [01:05<06:10,  4.11it/s]"
     ]
    },
    {
     "name": "stdout",
     "output_type": "stream",
     "text": [
      "\n",
      "0: 640x640 3 crazings, 17.7ms\n",
      "Speed: 5.2ms preprocess, 17.7ms inference, 3.6ms postprocess per image at shape (1, 3, 640, 640)\n"
     ]
    },
    {
     "name": "stderr",
     "output_type": "stream",
     "text": [
      "Processing:  15%|██████████▎                                                        | 278/1800 [01:05<06:05,  4.16it/s]"
     ]
    },
    {
     "name": "stdout",
     "output_type": "stream",
     "text": [
      "\n",
      "0: 640x640 2 crazings, 15.7ms\n",
      "Speed: 5.9ms preprocess, 15.7ms inference, 4.1ms postprocess per image at shape (1, 3, 640, 640)\n"
     ]
    },
    {
     "name": "stderr",
     "output_type": "stream",
     "text": [
      "Processing:  16%|██████████▍                                                        | 279/1800 [01:05<05:33,  4.56it/s]"
     ]
    },
    {
     "name": "stdout",
     "output_type": "stream",
     "text": [
      "\n",
      "0: 640x640 4 crazings, 16.9ms\n",
      "Speed: 6.4ms preprocess, 16.9ms inference, 4.3ms postprocess per image at shape (1, 3, 640, 640)\n"
     ]
    },
    {
     "name": "stderr",
     "output_type": "stream",
     "text": [
      "Processing:  16%|██████████▍                                                        | 280/1800 [01:06<06:20,  4.00it/s]"
     ]
    },
    {
     "name": "stdout",
     "output_type": "stream",
     "text": [
      "\n",
      "0: 640x640 3 crazings, 15.1ms\n",
      "Speed: 6.6ms preprocess, 15.1ms inference, 3.9ms postprocess per image at shape (1, 3, 640, 640)\n"
     ]
    },
    {
     "name": "stderr",
     "output_type": "stream",
     "text": [
      "Processing:  16%|██████████▍                                                        | 281/1800 [01:06<06:13,  4.07it/s]"
     ]
    },
    {
     "name": "stdout",
     "output_type": "stream",
     "text": [
      "\n",
      "0: 640x640 4 crazings, 17.3ms\n",
      "Speed: 5.2ms preprocess, 17.3ms inference, 4.1ms postprocess per image at shape (1, 3, 640, 640)\n"
     ]
    },
    {
     "name": "stderr",
     "output_type": "stream",
     "text": [
      "Processing:  16%|██████████▍                                                        | 282/1800 [01:06<06:43,  3.76it/s]"
     ]
    },
    {
     "name": "stdout",
     "output_type": "stream",
     "text": [
      "\n",
      "0: 640x640 2 crazings, 18.2ms\n",
      "Speed: 4.8ms preprocess, 18.2ms inference, 3.6ms postprocess per image at shape (1, 3, 640, 640)\n"
     ]
    },
    {
     "name": "stderr",
     "output_type": "stream",
     "text": [
      "Processing:  16%|██████████▌                                                        | 283/1800 [01:06<06:02,  4.18it/s]"
     ]
    },
    {
     "name": "stdout",
     "output_type": "stream",
     "text": [
      "\n",
      "0: 640x640 3 crazings, 20.0ms\n",
      "Speed: 7.4ms preprocess, 20.0ms inference, 3.6ms postprocess per image at shape (1, 3, 640, 640)\n"
     ]
    },
    {
     "name": "stderr",
     "output_type": "stream",
     "text": [
      "Processing:  16%|██████████▌                                                        | 284/1800 [01:07<06:04,  4.15it/s]"
     ]
    },
    {
     "name": "stdout",
     "output_type": "stream",
     "text": [
      "\n",
      "0: 640x640 4 crazings, 19.7ms\n",
      "Speed: 5.5ms preprocess, 19.7ms inference, 3.4ms postprocess per image at shape (1, 3, 640, 640)\n"
     ]
    },
    {
     "name": "stderr",
     "output_type": "stream",
     "text": [
      "Processing:  16%|██████████▌                                                        | 285/1800 [01:07<06:35,  3.84it/s]"
     ]
    },
    {
     "name": "stdout",
     "output_type": "stream",
     "text": [
      "\n",
      "0: 640x640 3 crazings, 18.6ms\n",
      "Speed: 5.3ms preprocess, 18.6ms inference, 3.3ms postprocess per image at shape (1, 3, 640, 640)\n"
     ]
    },
    {
     "name": "stderr",
     "output_type": "stream",
     "text": [
      "Processing:  16%|██████████▋                                                        | 286/1800 [01:07<07:36,  3.32it/s]"
     ]
    },
    {
     "name": "stdout",
     "output_type": "stream",
     "text": [
      "\n",
      "0: 640x640 4 crazings, 15.6ms\n",
      "Speed: 5.7ms preprocess, 15.6ms inference, 2.8ms postprocess per image at shape (1, 3, 640, 640)\n"
     ]
    },
    {
     "name": "stderr",
     "output_type": "stream",
     "text": [
      "Processing:  16%|██████████▋                                                        | 287/1800 [01:08<07:45,  3.25it/s]"
     ]
    },
    {
     "name": "stdout",
     "output_type": "stream",
     "text": [
      "\n",
      "0: 640x640 3 crazings, 18.9ms\n",
      "Speed: 6.0ms preprocess, 18.9ms inference, 3.7ms postprocess per image at shape (1, 3, 640, 640)\n"
     ]
    },
    {
     "name": "stderr",
     "output_type": "stream",
     "text": [
      "Processing:  16%|██████████▋                                                        | 288/1800 [01:08<07:21,  3.43it/s]"
     ]
    },
    {
     "name": "stdout",
     "output_type": "stream",
     "text": [
      "\n",
      "0: 640x640 2 crazings, 17.1ms\n",
      "Speed: 4.8ms preprocess, 17.1ms inference, 2.0ms postprocess per image at shape (1, 3, 640, 640)\n"
     ]
    },
    {
     "name": "stderr",
     "output_type": "stream",
     "text": [
      "Processing:  16%|██████████▊                                                        | 289/1800 [01:08<06:32,  3.85it/s]"
     ]
    },
    {
     "name": "stdout",
     "output_type": "stream",
     "text": [
      "\n",
      "0: 640x640 2 crazings, 17.0ms\n",
      "Speed: 5.0ms preprocess, 17.0ms inference, 3.6ms postprocess per image at shape (1, 3, 640, 640)\n"
     ]
    },
    {
     "name": "stderr",
     "output_type": "stream",
     "text": [
      "Processing:  16%|██████████▊                                                        | 290/1800 [01:08<05:52,  4.28it/s]"
     ]
    },
    {
     "name": "stdout",
     "output_type": "stream",
     "text": [
      "\n",
      "0: 640x640 3 crazings, 16.6ms\n",
      "Speed: 5.4ms preprocess, 16.6ms inference, 3.5ms postprocess per image at shape (1, 3, 640, 640)\n"
     ]
    },
    {
     "name": "stderr",
     "output_type": "stream",
     "text": [
      "Processing:  16%|██████████▊                                                        | 291/1800 [01:09<05:58,  4.21it/s]"
     ]
    },
    {
     "name": "stdout",
     "output_type": "stream",
     "text": [
      "\n",
      "0: 640x640 3 crazings, 16.6ms\n",
      "Speed: 4.3ms preprocess, 16.6ms inference, 3.3ms postprocess per image at shape (1, 3, 640, 640)\n"
     ]
    },
    {
     "name": "stderr",
     "output_type": "stream",
     "text": [
      "Processing:  16%|██████████▊                                                        | 292/1800 [01:09<06:08,  4.09it/s]"
     ]
    },
    {
     "name": "stdout",
     "output_type": "stream",
     "text": [
      "\n",
      "0: 640x640 3 crazings, 27.6ms\n",
      "Speed: 4.9ms preprocess, 27.6ms inference, 3.5ms postprocess per image at shape (1, 3, 640, 640)\n"
     ]
    },
    {
     "name": "stderr",
     "output_type": "stream",
     "text": [
      "Processing:  16%|██████████▉                                                        | 293/1800 [01:09<06:11,  4.05it/s]"
     ]
    },
    {
     "name": "stdout",
     "output_type": "stream",
     "text": [
      "\n",
      "0: 640x640 2 crazings, 19.9ms\n",
      "Speed: 8.9ms preprocess, 19.9ms inference, 3.2ms postprocess per image at shape (1, 3, 640, 640)\n"
     ]
    },
    {
     "name": "stderr",
     "output_type": "stream",
     "text": [
      "Processing:  16%|██████████▉                                                        | 294/1800 [01:09<05:40,  4.43it/s]"
     ]
    },
    {
     "name": "stdout",
     "output_type": "stream",
     "text": [
      "\n",
      "0: 640x640 1 crazing, 13.4ms\n",
      "Speed: 5.1ms preprocess, 13.4ms inference, 3.5ms postprocess per image at shape (1, 3, 640, 640)\n"
     ]
    },
    {
     "name": "stderr",
     "output_type": "stream",
     "text": [
      "Processing:  16%|██████████▉                                                        | 295/1800 [01:09<04:44,  5.30it/s]"
     ]
    },
    {
     "name": "stdout",
     "output_type": "stream",
     "text": [
      "\n",
      "0: 640x640 4 crazings, 18.7ms\n",
      "Speed: 5.8ms preprocess, 18.7ms inference, 3.1ms postprocess per image at shape (1, 3, 640, 640)\n"
     ]
    },
    {
     "name": "stderr",
     "output_type": "stream",
     "text": [
      "Processing:  16%|███████████                                                        | 296/1800 [01:10<05:39,  4.43it/s]"
     ]
    },
    {
     "name": "stdout",
     "output_type": "stream",
     "text": [
      "\n",
      "0: 640x640 2 crazings, 16.8ms\n",
      "Speed: 5.6ms preprocess, 16.8ms inference, 6.2ms postprocess per image at shape (1, 3, 640, 640)\n"
     ]
    },
    {
     "name": "stderr",
     "output_type": "stream",
     "text": [
      "Processing:  16%|███████████                                                        | 297/1800 [01:10<05:15,  4.76it/s]"
     ]
    },
    {
     "name": "stdout",
     "output_type": "stream",
     "text": [
      "\n",
      "0: 640x640 3 crazings, 20.9ms\n",
      "Speed: 5.5ms preprocess, 20.9ms inference, 3.4ms postprocess per image at shape (1, 3, 640, 640)\n"
     ]
    },
    {
     "name": "stderr",
     "output_type": "stream",
     "text": [
      "Processing:  17%|███████████                                                        | 298/1800 [01:10<05:32,  4.52it/s]"
     ]
    },
    {
     "name": "stdout",
     "output_type": "stream",
     "text": [
      "\n",
      "0: 640x640 3 crazings, 18.0ms\n",
      "Speed: 5.6ms preprocess, 18.0ms inference, 4.2ms postprocess per image at shape (1, 3, 640, 640)\n"
     ]
    },
    {
     "name": "stderr",
     "output_type": "stream",
     "text": [
      "Processing:  17%|███████████▏                                                       | 299/1800 [01:10<05:35,  4.47it/s]"
     ]
    },
    {
     "name": "stdout",
     "output_type": "stream",
     "text": [
      "\n",
      "0: 640x640 4 crazings, 13.6ms\n",
      "Speed: 5.0ms preprocess, 13.6ms inference, 3.8ms postprocess per image at shape (1, 3, 640, 640)\n"
     ]
    },
    {
     "name": "stderr",
     "output_type": "stream",
     "text": [
      "Processing:  17%|███████████▏                                                       | 300/1800 [01:11<06:19,  3.96it/s]"
     ]
    },
    {
     "name": "stdout",
     "output_type": "stream",
     "text": [
      "\n",
      "0: 640x640 4 inculsions, 18.9ms\n",
      "Speed: 5.8ms preprocess, 18.9ms inference, 3.4ms postprocess per image at shape (1, 3, 640, 640)\n"
     ]
    },
    {
     "name": "stderr",
     "output_type": "stream",
     "text": [
      "Processing:  17%|███████████▏                                                       | 301/1800 [01:11<06:49,  3.66it/s]"
     ]
    },
    {
     "name": "stdout",
     "output_type": "stream",
     "text": [
      "\n",
      "0: 640x640 3 inculsions, 18.0ms\n",
      "Speed: 7.0ms preprocess, 18.0ms inference, 3.9ms postprocess per image at shape (1, 3, 640, 640)\n"
     ]
    },
    {
     "name": "stderr",
     "output_type": "stream",
     "text": [
      "Processing:  17%|███████████▏                                                       | 302/1800 [01:11<06:32,  3.82it/s]"
     ]
    },
    {
     "name": "stdout",
     "output_type": "stream",
     "text": [
      "\n",
      "0: 640x640 2 inculsions, 14.7ms\n",
      "Speed: 5.5ms preprocess, 14.7ms inference, 3.5ms postprocess per image at shape (1, 3, 640, 640)\n"
     ]
    },
    {
     "name": "stderr",
     "output_type": "stream",
     "text": [
      "Processing:  17%|███████████▎                                                       | 303/1800 [01:11<05:47,  4.30it/s]"
     ]
    },
    {
     "name": "stdout",
     "output_type": "stream",
     "text": [
      "\n",
      "0: 640x640 1 inculsion, 18.5ms\n",
      "Speed: 6.5ms preprocess, 18.5ms inference, 4.5ms postprocess per image at shape (1, 3, 640, 640)\n"
     ]
    },
    {
     "name": "stderr",
     "output_type": "stream",
     "text": [
      "Processing:  17%|███████████▎                                                       | 304/1800 [01:11<04:58,  5.02it/s]"
     ]
    },
    {
     "name": "stdout",
     "output_type": "stream",
     "text": [
      "\n",
      "0: 640x640 3 inculsions, 19.7ms\n",
      "Speed: 6.5ms preprocess, 19.7ms inference, 3.9ms postprocess per image at shape (1, 3, 640, 640)\n"
     ]
    },
    {
     "name": "stderr",
     "output_type": "stream",
     "text": [
      "Processing:  17%|███████████▎                                                       | 305/1800 [01:12<05:14,  4.76it/s]"
     ]
    },
    {
     "name": "stdout",
     "output_type": "stream",
     "text": [
      "\n",
      "0: 640x640 1 inculsion, 16.1ms\n",
      "Speed: 4.3ms preprocess, 16.1ms inference, 3.5ms postprocess per image at shape (1, 3, 640, 640)\n",
      "\n",
      "0: 640x640 2 inculsions, 18.1ms\n",
      "Speed: 6.0ms preprocess, 18.1ms inference, 3.6ms postprocess per image at shape (1, 3, 640, 640)\n"
     ]
    },
    {
     "name": "stderr",
     "output_type": "stream",
     "text": [
      "Processing:  17%|███████████▍                                                       | 307/1800 [01:12<04:19,  5.76it/s]"
     ]
    },
    {
     "name": "stdout",
     "output_type": "stream",
     "text": [
      "\n",
      "0: 640x640 2 inculsions, 17.6ms\n",
      "Speed: 5.0ms preprocess, 17.6ms inference, 3.6ms postprocess per image at shape (1, 3, 640, 640)\n"
     ]
    },
    {
     "name": "stderr",
     "output_type": "stream",
     "text": [
      "Processing:  17%|███████████▍                                                       | 308/1800 [01:12<04:22,  5.69it/s]"
     ]
    },
    {
     "name": "stdout",
     "output_type": "stream",
     "text": [
      "\n",
      "0: 640x640 1 inculsion, 18.7ms\n",
      "Speed: 5.2ms preprocess, 18.7ms inference, 3.7ms postprocess per image at shape (1, 3, 640, 640)\n"
     ]
    },
    {
     "name": "stderr",
     "output_type": "stream",
     "text": [
      "Processing:  17%|███████████▌                                                       | 309/1800 [01:12<03:54,  6.36it/s]"
     ]
    },
    {
     "name": "stdout",
     "output_type": "stream",
     "text": [
      "\n",
      "0: 640x640 6 inculsions, 24.9ms\n",
      "Speed: 5.8ms preprocess, 24.9ms inference, 3.2ms postprocess per image at shape (1, 3, 640, 640)\n"
     ]
    },
    {
     "name": "stderr",
     "output_type": "stream",
     "text": [
      "Processing:  17%|███████████▌                                                       | 310/1800 [01:13<05:52,  4.23it/s]"
     ]
    },
    {
     "name": "stdout",
     "output_type": "stream",
     "text": [
      "\n",
      "0: 640x640 3 inculsions, 15.5ms\n",
      "Speed: 5.4ms preprocess, 15.5ms inference, 3.4ms postprocess per image at shape (1, 3, 640, 640)\n"
     ]
    },
    {
     "name": "stderr",
     "output_type": "stream",
     "text": [
      "Processing:  17%|███████████▌                                                       | 311/1800 [01:13<05:51,  4.24it/s]"
     ]
    },
    {
     "name": "stdout",
     "output_type": "stream",
     "text": [
      "\n",
      "0: 640x640 3 inculsions, 12.6ms\n",
      "Speed: 5.2ms preprocess, 12.6ms inference, 3.1ms postprocess per image at shape (1, 3, 640, 640)\n"
     ]
    },
    {
     "name": "stderr",
     "output_type": "stream",
     "text": [
      "Processing:  17%|███████████▌                                                       | 312/1800 [01:13<06:21,  3.90it/s]"
     ]
    },
    {
     "name": "stdout",
     "output_type": "stream",
     "text": [
      "\n",
      "0: 640x640 4 inculsions, 55.8ms\n",
      "Speed: 6.7ms preprocess, 55.8ms inference, 3.4ms postprocess per image at shape (1, 3, 640, 640)\n"
     ]
    },
    {
     "name": "stderr",
     "output_type": "stream",
     "text": [
      "Processing:  17%|███████████▋                                                       | 313/1800 [01:14<06:57,  3.57it/s]"
     ]
    },
    {
     "name": "stdout",
     "output_type": "stream",
     "text": [
      "\n",
      "0: 640x640 3 inculsions, 15.3ms\n",
      "Speed: 5.7ms preprocess, 15.3ms inference, 3.2ms postprocess per image at shape (1, 3, 640, 640)\n"
     ]
    },
    {
     "name": "stderr",
     "output_type": "stream",
     "text": [
      "Processing:  17%|███████████▋                                                       | 314/1800 [01:14<06:41,  3.70it/s]"
     ]
    },
    {
     "name": "stdout",
     "output_type": "stream",
     "text": [
      "\n",
      "0: 640x640 7 inculsions, 19.7ms\n",
      "Speed: 5.3ms preprocess, 19.7ms inference, 3.4ms postprocess per image at shape (1, 3, 640, 640)\n"
     ]
    },
    {
     "name": "stderr",
     "output_type": "stream",
     "text": [
      "Processing:  18%|███████████▋                                                       | 315/1800 [01:14<08:37,  2.87it/s]"
     ]
    },
    {
     "name": "stdout",
     "output_type": "stream",
     "text": [
      "\n",
      "0: 640x640 6 inculsions, 18.7ms\n",
      "Speed: 5.3ms preprocess, 18.7ms inference, 6.3ms postprocess per image at shape (1, 3, 640, 640)\n"
     ]
    },
    {
     "name": "stderr",
     "output_type": "stream",
     "text": [
      "Processing:  18%|███████████▊                                                       | 316/1800 [01:15<09:33,  2.59it/s]"
     ]
    },
    {
     "name": "stdout",
     "output_type": "stream",
     "text": [
      "\n",
      "0: 640x640 5 inculsions, 18.3ms\n",
      "Speed: 5.3ms preprocess, 18.3ms inference, 3.5ms postprocess per image at shape (1, 3, 640, 640)\n"
     ]
    },
    {
     "name": "stderr",
     "output_type": "stream",
     "text": [
      "Processing:  18%|███████████▊                                                       | 317/1800 [01:15<09:36,  2.57it/s]"
     ]
    },
    {
     "name": "stdout",
     "output_type": "stream",
     "text": [
      "\n",
      "0: 640x640 5 inculsions, 14.5ms\n",
      "Speed: 5.6ms preprocess, 14.5ms inference, 2.9ms postprocess per image at shape (1, 3, 640, 640)\n"
     ]
    },
    {
     "name": "stderr",
     "output_type": "stream",
     "text": [
      "Processing:  18%|███████████▊                                                       | 318/1800 [01:16<09:45,  2.53it/s]"
     ]
    },
    {
     "name": "stdout",
     "output_type": "stream",
     "text": [
      "\n",
      "0: 640x640 7 inculsions, 20.4ms\n",
      "Speed: 6.2ms preprocess, 20.4ms inference, 3.9ms postprocess per image at shape (1, 3, 640, 640)\n"
     ]
    },
    {
     "name": "stderr",
     "output_type": "stream",
     "text": [
      "Processing:  18%|███████████▊                                                       | 319/1800 [01:16<11:00,  2.24it/s]"
     ]
    },
    {
     "name": "stdout",
     "output_type": "stream",
     "text": [
      "\n",
      "0: 640x640 5 inculsions, 18.4ms\n",
      "Speed: 5.2ms preprocess, 18.4ms inference, 3.3ms postprocess per image at shape (1, 3, 640, 640)\n"
     ]
    },
    {
     "name": "stderr",
     "output_type": "stream",
     "text": [
      "Processing:  18%|███████████▉                                                       | 320/1800 [01:17<10:33,  2.34it/s]"
     ]
    },
    {
     "name": "stdout",
     "output_type": "stream",
     "text": [
      "\n",
      "0: 640x640 5 inculsions, 14.6ms\n",
      "Speed: 4.7ms preprocess, 14.6ms inference, 4.9ms postprocess per image at shape (1, 3, 640, 640)\n"
     ]
    },
    {
     "name": "stderr",
     "output_type": "stream",
     "text": [
      "Processing:  18%|███████████▉                                                       | 321/1800 [01:17<10:09,  2.43it/s]"
     ]
    },
    {
     "name": "stdout",
     "output_type": "stream",
     "text": [
      "\n",
      "0: 640x640 3 inculsions, 18.4ms\n",
      "Speed: 6.0ms preprocess, 18.4ms inference, 3.3ms postprocess per image at shape (1, 3, 640, 640)\n"
     ]
    },
    {
     "name": "stderr",
     "output_type": "stream",
     "text": [
      "Processing:  18%|███████████▉                                                       | 322/1800 [01:17<08:52,  2.77it/s]"
     ]
    },
    {
     "name": "stdout",
     "output_type": "stream",
     "text": [
      "\n",
      "0: 640x640 5 inculsions, 16.5ms\n",
      "Speed: 5.3ms preprocess, 16.5ms inference, 3.5ms postprocess per image at shape (1, 3, 640, 640)\n"
     ]
    },
    {
     "name": "stderr",
     "output_type": "stream",
     "text": [
      "Processing:  18%|████████████                                                       | 323/1800 [01:18<09:00,  2.73it/s]"
     ]
    },
    {
     "name": "stdout",
     "output_type": "stream",
     "text": [
      "\n",
      "0: 640x640 11 inculsions, 18.8ms\n",
      "Speed: 6.2ms preprocess, 18.8ms inference, 4.4ms postprocess per image at shape (1, 3, 640, 640)\n"
     ]
    },
    {
     "name": "stderr",
     "output_type": "stream",
     "text": [
      "Processing:  18%|████████████                                                       | 324/1800 [01:18<12:15,  2.01it/s]"
     ]
    },
    {
     "name": "stdout",
     "output_type": "stream",
     "text": [
      "\n",
      "0: 640x640 8 inculsions, 21.4ms\n",
      "Speed: 6.2ms preprocess, 21.4ms inference, 4.0ms postprocess per image at shape (1, 3, 640, 640)\n"
     ]
    },
    {
     "name": "stderr",
     "output_type": "stream",
     "text": [
      "Processing:  18%|████████████                                                       | 325/1800 [01:19<13:18,  1.85it/s]"
     ]
    },
    {
     "name": "stdout",
     "output_type": "stream",
     "text": [
      "\n",
      "0: 640x640 2 inculsions, 1 patches, 18.1ms\n",
      "Speed: 5.3ms preprocess, 18.1ms inference, 4.1ms postprocess per image at shape (1, 3, 640, 640)\n"
     ]
    },
    {
     "name": "stderr",
     "output_type": "stream",
     "text": [
      "Processing:  18%|████████████▏                                                      | 326/1800 [01:19<11:47,  2.08it/s]"
     ]
    },
    {
     "name": "stdout",
     "output_type": "stream",
     "text": [
      "\n",
      "0: 640x640 5 inculsions, 18.3ms\n",
      "Speed: 5.4ms preprocess, 18.3ms inference, 3.3ms postprocess per image at shape (1, 3, 640, 640)\n"
     ]
    },
    {
     "name": "stderr",
     "output_type": "stream",
     "text": [
      "Processing:  18%|████████████▏                                                      | 327/1800 [01:20<11:11,  2.19it/s]"
     ]
    },
    {
     "name": "stdout",
     "output_type": "stream",
     "text": [
      "\n",
      "0: 640x640 5 inculsions, 22.7ms\n",
      "Speed: 4.7ms preprocess, 22.7ms inference, 3.9ms postprocess per image at shape (1, 3, 640, 640)\n"
     ]
    },
    {
     "name": "stderr",
     "output_type": "stream",
     "text": [
      "Processing:  18%|████████████▏                                                      | 328/1800 [01:20<10:41,  2.29it/s]"
     ]
    },
    {
     "name": "stdout",
     "output_type": "stream",
     "text": [
      "\n",
      "0: 640x640 6 inculsions, 19.4ms\n",
      "Speed: 5.5ms preprocess, 19.4ms inference, 3.3ms postprocess per image at shape (1, 3, 640, 640)\n"
     ]
    },
    {
     "name": "stderr",
     "output_type": "stream",
     "text": [
      "Processing:  18%|████████████▏                                                      | 329/1800 [01:21<10:57,  2.24it/s]"
     ]
    },
    {
     "name": "stdout",
     "output_type": "stream",
     "text": [
      "\n",
      "0: 640x640 7 inculsions, 18.1ms\n",
      "Speed: 4.9ms preprocess, 18.1ms inference, 2.7ms postprocess per image at shape (1, 3, 640, 640)\n"
     ]
    },
    {
     "name": "stderr",
     "output_type": "stream",
     "text": [
      "Processing:  18%|████████████▎                                                      | 330/1800 [01:21<11:42,  2.09it/s]"
     ]
    },
    {
     "name": "stdout",
     "output_type": "stream",
     "text": [
      "\n",
      "0: 640x640 4 inculsions, 20.4ms\n",
      "Speed: 4.2ms preprocess, 20.4ms inference, 4.4ms postprocess per image at shape (1, 3, 640, 640)\n"
     ]
    },
    {
     "name": "stderr",
     "output_type": "stream",
     "text": [
      "Processing:  18%|████████████▎                                                      | 331/1800 [01:22<10:40,  2.29it/s]"
     ]
    },
    {
     "name": "stdout",
     "output_type": "stream",
     "text": [
      "\n",
      "0: 640x640 4 inculsions, 13.9ms\n",
      "Speed: 4.6ms preprocess, 13.9ms inference, 3.9ms postprocess per image at shape (1, 3, 640, 640)\n"
     ]
    },
    {
     "name": "stderr",
     "output_type": "stream",
     "text": [
      "Processing:  18%|████████████▎                                                      | 332/1800 [01:22<09:51,  2.48it/s]"
     ]
    },
    {
     "name": "stdout",
     "output_type": "stream",
     "text": [
      "\n",
      "0: 640x640 3 inculsions, 16.0ms\n",
      "Speed: 7.1ms preprocess, 16.0ms inference, 3.4ms postprocess per image at shape (1, 3, 640, 640)\n"
     ]
    },
    {
     "name": "stderr",
     "output_type": "stream",
     "text": [
      "Processing:  18%|████████████▍                                                      | 333/1800 [01:22<08:41,  2.82it/s]"
     ]
    },
    {
     "name": "stdout",
     "output_type": "stream",
     "text": [
      "\n",
      "0: 640x640 3 inculsions, 17.4ms\n",
      "Speed: 5.5ms preprocess, 17.4ms inference, 2.9ms postprocess per image at shape (1, 3, 640, 640)\n"
     ]
    },
    {
     "name": "stderr",
     "output_type": "stream",
     "text": [
      "Processing:  19%|████████████▍                                                      | 334/1800 [01:22<07:55,  3.09it/s]"
     ]
    },
    {
     "name": "stdout",
     "output_type": "stream",
     "text": [
      "\n",
      "0: 640x640 5 inculsions, 21.1ms\n",
      "Speed: 5.7ms preprocess, 21.1ms inference, 3.6ms postprocess per image at shape (1, 3, 640, 640)\n"
     ]
    },
    {
     "name": "stderr",
     "output_type": "stream",
     "text": [
      "Processing:  19%|████████████▍                                                      | 335/1800 [01:23<08:30,  2.87it/s]"
     ]
    },
    {
     "name": "stdout",
     "output_type": "stream",
     "text": [
      "\n",
      "0: 640x640 9 inculsions, 18.6ms\n",
      "Speed: 6.0ms preprocess, 18.6ms inference, 3.8ms postprocess per image at shape (1, 3, 640, 640)\n"
     ]
    },
    {
     "name": "stderr",
     "output_type": "stream",
     "text": [
      "Processing:  19%|████████████▌                                                      | 336/1800 [01:23<11:02,  2.21it/s]"
     ]
    },
    {
     "name": "stdout",
     "output_type": "stream",
     "text": [
      "\n",
      "0: 640x640 2 inculsions, 20.4ms\n",
      "Speed: 5.0ms preprocess, 20.4ms inference, 3.8ms postprocess per image at shape (1, 3, 640, 640)\n"
     ]
    },
    {
     "name": "stderr",
     "output_type": "stream",
     "text": [
      "Processing:  19%|████████████▌                                                      | 337/1800 [01:24<09:00,  2.71it/s]"
     ]
    },
    {
     "name": "stdout",
     "output_type": "stream",
     "text": [
      "\n",
      "0: 640x640 1 inculsion, 15.5ms\n",
      "Speed: 5.4ms preprocess, 15.5ms inference, 3.1ms postprocess per image at shape (1, 3, 640, 640)\n"
     ]
    },
    {
     "name": "stderr",
     "output_type": "stream",
     "text": [
      "Processing:  19%|████████████▌                                                      | 338/1800 [01:24<07:03,  3.45it/s]"
     ]
    },
    {
     "name": "stdout",
     "output_type": "stream",
     "text": [
      "\n",
      "0: 640x640 1 inculsion, 18.0ms\n",
      "Speed: 5.0ms preprocess, 18.0ms inference, 3.6ms postprocess per image at shape (1, 3, 640, 640)\n"
     ]
    },
    {
     "name": "stderr",
     "output_type": "stream",
     "text": [
      "Processing:  19%|████████████▌                                                      | 339/1800 [01:24<05:43,  4.25it/s]"
     ]
    },
    {
     "name": "stdout",
     "output_type": "stream",
     "text": [
      "\n",
      "0: 640x640 3 inculsions, 17.3ms\n",
      "Speed: 5.2ms preprocess, 17.3ms inference, 3.9ms postprocess per image at shape (1, 3, 640, 640)\n"
     ]
    },
    {
     "name": "stderr",
     "output_type": "stream",
     "text": [
      "Processing:  19%|████████████▋                                                      | 340/1800 [01:24<06:24,  3.80it/s]"
     ]
    },
    {
     "name": "stdout",
     "output_type": "stream",
     "text": [
      "\n",
      "0: 640x640 3 inculsions, 16.6ms\n",
      "Speed: 4.9ms preprocess, 16.6ms inference, 4.4ms postprocess per image at shape (1, 3, 640, 640)\n"
     ]
    },
    {
     "name": "stderr",
     "output_type": "stream",
     "text": [
      "Processing:  19%|████████████▋                                                      | 341/1800 [01:24<06:12,  3.91it/s]"
     ]
    },
    {
     "name": "stdout",
     "output_type": "stream",
     "text": [
      "\n",
      "0: 640x640 2 inculsions, 19.8ms\n",
      "Speed: 5.9ms preprocess, 19.8ms inference, 2.3ms postprocess per image at shape (1, 3, 640, 640)\n"
     ]
    },
    {
     "name": "stderr",
     "output_type": "stream",
     "text": [
      "Processing:  19%|████████████▋                                                      | 342/1800 [01:25<05:34,  4.35it/s]"
     ]
    },
    {
     "name": "stdout",
     "output_type": "stream",
     "text": [
      "\n",
      "0: 640x640 2 inculsions, 19.5ms\n",
      "Speed: 5.2ms preprocess, 19.5ms inference, 3.8ms postprocess per image at shape (1, 3, 640, 640)\n"
     ]
    },
    {
     "name": "stderr",
     "output_type": "stream",
     "text": [
      "Processing:  19%|████████████▊                                                      | 343/1800 [01:25<05:14,  4.63it/s]"
     ]
    },
    {
     "name": "stdout",
     "output_type": "stream",
     "text": [
      "\n",
      "0: 640x640 3 inculsions, 16.6ms\n",
      "Speed: 5.4ms preprocess, 16.6ms inference, 2.5ms postprocess per image at shape (1, 3, 640, 640)\n"
     ]
    },
    {
     "name": "stderr",
     "output_type": "stream",
     "text": [
      "Processing:  19%|████████████▊                                                      | 344/1800 [01:25<05:28,  4.43it/s]"
     ]
    },
    {
     "name": "stdout",
     "output_type": "stream",
     "text": [
      "\n",
      "0: 640x640 3 inculsions, 20.0ms\n",
      "Speed: 4.7ms preprocess, 20.0ms inference, 3.3ms postprocess per image at shape (1, 3, 640, 640)\n"
     ]
    },
    {
     "name": "stderr",
     "output_type": "stream",
     "text": [
      "Processing:  19%|████████████▊                                                      | 345/1800 [01:25<05:44,  4.23it/s]"
     ]
    },
    {
     "name": "stdout",
     "output_type": "stream",
     "text": [
      "\n",
      "0: 640x640 2 inculsions, 24.8ms\n",
      "Speed: 5.4ms preprocess, 24.8ms inference, 3.8ms postprocess per image at shape (1, 3, 640, 640)\n"
     ]
    },
    {
     "name": "stderr",
     "output_type": "stream",
     "text": [
      "Processing:  19%|████████████▉                                                      | 346/1800 [01:25<05:27,  4.45it/s]"
     ]
    },
    {
     "name": "stdout",
     "output_type": "stream",
     "text": [
      "\n",
      "0: 640x640 3 inculsions, 20.6ms\n",
      "Speed: 6.4ms preprocess, 20.6ms inference, 4.2ms postprocess per image at shape (1, 3, 640, 640)\n"
     ]
    },
    {
     "name": "stderr",
     "output_type": "stream",
     "text": [
      "Processing:  19%|████████████▉                                                      | 347/1800 [01:26<05:36,  4.32it/s]"
     ]
    },
    {
     "name": "stdout",
     "output_type": "stream",
     "text": [
      "\n",
      "0: 640x640 3 inculsions, 18.6ms\n",
      "Speed: 4.9ms preprocess, 18.6ms inference, 3.8ms postprocess per image at shape (1, 3, 640, 640)\n"
     ]
    },
    {
     "name": "stderr",
     "output_type": "stream",
     "text": [
      "Processing:  19%|████████████▉                                                      | 348/1800 [01:26<05:42,  4.24it/s]"
     ]
    },
    {
     "name": "stdout",
     "output_type": "stream",
     "text": [
      "\n",
      "0: 640x640 2 inculsions, 17.6ms\n",
      "Speed: 5.8ms preprocess, 17.6ms inference, 3.6ms postprocess per image at shape (1, 3, 640, 640)\n"
     ]
    },
    {
     "name": "stderr",
     "output_type": "stream",
     "text": [
      "Processing:  19%|████████████▉                                                      | 349/1800 [01:26<05:13,  4.63it/s]"
     ]
    },
    {
     "name": "stdout",
     "output_type": "stream",
     "text": [
      "\n",
      "0: 640x640 4 inculsions, 15.4ms\n",
      "Speed: 4.8ms preprocess, 15.4ms inference, 3.1ms postprocess per image at shape (1, 3, 640, 640)\n"
     ]
    },
    {
     "name": "stderr",
     "output_type": "stream",
     "text": [
      "Processing:  19%|█████████████                                                      | 350/1800 [01:26<05:58,  4.05it/s]"
     ]
    },
    {
     "name": "stdout",
     "output_type": "stream",
     "text": [
      "\n",
      "0: 640x640 4 inculsions, 17.8ms\n",
      "Speed: 5.6ms preprocess, 17.8ms inference, 3.4ms postprocess per image at shape (1, 3, 640, 640)\n"
     ]
    },
    {
     "name": "stderr",
     "output_type": "stream",
     "text": [
      "Processing:  20%|█████████████                                                      | 351/1800 [01:27<06:24,  3.76it/s]"
     ]
    },
    {
     "name": "stdout",
     "output_type": "stream",
     "text": [
      "\n",
      "0: 640x640 2 inculsions, 15.8ms\n",
      "Speed: 8.3ms preprocess, 15.8ms inference, 3.5ms postprocess per image at shape (1, 3, 640, 640)\n"
     ]
    },
    {
     "name": "stderr",
     "output_type": "stream",
     "text": [
      "Processing:  20%|█████████████                                                      | 352/1800 [01:27<05:47,  4.17it/s]"
     ]
    },
    {
     "name": "stdout",
     "output_type": "stream",
     "text": [
      "\n",
      "0: 640x640 2 inculsions, 16.2ms\n",
      "Speed: 5.1ms preprocess, 16.2ms inference, 3.9ms postprocess per image at shape (1, 3, 640, 640)\n"
     ]
    },
    {
     "name": "stderr",
     "output_type": "stream",
     "text": [
      "Processing:  20%|█████████████▏                                                     | 353/1800 [01:27<05:18,  4.55it/s]"
     ]
    },
    {
     "name": "stdout",
     "output_type": "stream",
     "text": [
      "\n",
      "0: 640x640 3 inculsions, 22.0ms\n",
      "Speed: 5.4ms preprocess, 22.0ms inference, 5.5ms postprocess per image at shape (1, 3, 640, 640)\n"
     ]
    },
    {
     "name": "stderr",
     "output_type": "stream",
     "text": [
      "Processing:  20%|█████████████▏                                                     | 354/1800 [01:27<05:29,  4.38it/s]"
     ]
    },
    {
     "name": "stdout",
     "output_type": "stream",
     "text": [
      "\n",
      "0: 640x640 2 inculsions, 17.0ms\n",
      "Speed: 5.6ms preprocess, 17.0ms inference, 4.3ms postprocess per image at shape (1, 3, 640, 640)\n"
     ]
    },
    {
     "name": "stderr",
     "output_type": "stream",
     "text": [
      "Processing:  20%|█████████████▏                                                     | 355/1800 [01:27<05:04,  4.74it/s]"
     ]
    },
    {
     "name": "stdout",
     "output_type": "stream",
     "text": [
      "\n",
      "0: 640x640 2 inculsions, 16.3ms\n",
      "Speed: 5.9ms preprocess, 16.3ms inference, 2.6ms postprocess per image at shape (1, 3, 640, 640)\n"
     ]
    },
    {
     "name": "stderr",
     "output_type": "stream",
     "text": [
      "Processing:  20%|█████████████▎                                                     | 356/1800 [01:28<04:49,  4.99it/s]"
     ]
    },
    {
     "name": "stdout",
     "output_type": "stream",
     "text": [
      "\n",
      "0: 640x640 7 inculsions, 18.2ms\n",
      "Speed: 4.8ms preprocess, 18.2ms inference, 4.4ms postprocess per image at shape (1, 3, 640, 640)\n"
     ]
    },
    {
     "name": "stderr",
     "output_type": "stream",
     "text": [
      "Processing:  20%|█████████████▎                                                     | 357/1800 [01:28<07:23,  3.25it/s]"
     ]
    },
    {
     "name": "stdout",
     "output_type": "stream",
     "text": [
      "\n",
      "0: 640x640 3 inculsions, 15.9ms\n",
      "Speed: 5.2ms preprocess, 15.9ms inference, 3.9ms postprocess per image at shape (1, 3, 640, 640)\n"
     ]
    },
    {
     "name": "stderr",
     "output_type": "stream",
     "text": [
      "Processing:  20%|█████████████▎                                                     | 358/1800 [01:28<06:47,  3.54it/s]"
     ]
    },
    {
     "name": "stdout",
     "output_type": "stream",
     "text": [
      "\n",
      "0: 640x640 3 inculsions, 17.9ms\n",
      "Speed: 4.5ms preprocess, 17.9ms inference, 3.7ms postprocess per image at shape (1, 3, 640, 640)\n"
     ]
    },
    {
     "name": "stderr",
     "output_type": "stream",
     "text": [
      "Processing:  20%|█████████████▎                                                     | 359/1800 [01:29<06:41,  3.59it/s]"
     ]
    },
    {
     "name": "stdout",
     "output_type": "stream",
     "text": [
      "\n",
      "0: 640x640 1 inculsion, 15.9ms\n",
      "Speed: 5.9ms preprocess, 15.9ms inference, 3.0ms postprocess per image at shape (1, 3, 640, 640)\n"
     ]
    },
    {
     "name": "stderr",
     "output_type": "stream",
     "text": [
      "Processing:  20%|█████████████▍                                                     | 360/1800 [01:29<05:26,  4.42it/s]"
     ]
    },
    {
     "name": "stdout",
     "output_type": "stream",
     "text": [
      "\n",
      "0: 640x640 2 inculsions, 14.1ms\n",
      "Speed: 7.5ms preprocess, 14.1ms inference, 2.8ms postprocess per image at shape (1, 3, 640, 640)\n"
     ]
    },
    {
     "name": "stderr",
     "output_type": "stream",
     "text": [
      "Processing:  20%|█████████████▍                                                     | 361/1800 [01:29<05:05,  4.71it/s]"
     ]
    },
    {
     "name": "stdout",
     "output_type": "stream",
     "text": [
      "\n",
      "0: 640x640 7 inculsions, 16.6ms\n",
      "Speed: 4.0ms preprocess, 16.6ms inference, 3.3ms postprocess per image at shape (1, 3, 640, 640)\n"
     ]
    },
    {
     "name": "stderr",
     "output_type": "stream",
     "text": [
      "Processing:  20%|█████████████▍                                                     | 362/1800 [01:30<07:31,  3.18it/s]"
     ]
    },
    {
     "name": "stdout",
     "output_type": "stream",
     "text": [
      "\n",
      "0: 640x640 4 inculsions, 17.5ms\n",
      "Speed: 4.6ms preprocess, 17.5ms inference, 3.9ms postprocess per image at shape (1, 3, 640, 640)\n"
     ]
    },
    {
     "name": "stderr",
     "output_type": "stream",
     "text": [
      "Processing:  20%|█████████████▌                                                     | 363/1800 [01:30<07:25,  3.23it/s]"
     ]
    },
    {
     "name": "stdout",
     "output_type": "stream",
     "text": [
      "\n",
      "0: 640x640 2 inculsions, 21.3ms\n",
      "Speed: 6.2ms preprocess, 21.3ms inference, 8.3ms postprocess per image at shape (1, 3, 640, 640)\n"
     ]
    },
    {
     "name": "stderr",
     "output_type": "stream",
     "text": [
      "Processing:  20%|█████████████▌                                                     | 364/1800 [01:30<07:03,  3.39it/s]"
     ]
    },
    {
     "name": "stdout",
     "output_type": "stream",
     "text": [
      "\n",
      "0: 640x640 8 inculsions, 21.4ms\n",
      "Speed: 4.6ms preprocess, 21.4ms inference, 5.5ms postprocess per image at shape (1, 3, 640, 640)\n"
     ]
    },
    {
     "name": "stderr",
     "output_type": "stream",
     "text": [
      "Processing:  20%|█████████████▌                                                     | 365/1800 [01:31<09:18,  2.57it/s]"
     ]
    },
    {
     "name": "stdout",
     "output_type": "stream",
     "text": [
      "\n",
      "0: 640x640 4 inculsions, 1 patches, 17.8ms\n",
      "Speed: 4.9ms preprocess, 17.8ms inference, 3.4ms postprocess per image at shape (1, 3, 640, 640)\n"
     ]
    },
    {
     "name": "stderr",
     "output_type": "stream",
     "text": [
      "Processing:  20%|█████████████▌                                                     | 366/1800 [01:31<09:14,  2.59it/s]"
     ]
    },
    {
     "name": "stdout",
     "output_type": "stream",
     "text": [
      "\n",
      "0: 640x640 3 inculsions, 17.0ms\n",
      "Speed: 5.8ms preprocess, 17.0ms inference, 3.5ms postprocess per image at shape (1, 3, 640, 640)\n"
     ]
    },
    {
     "name": "stderr",
     "output_type": "stream",
     "text": [
      "Processing:  20%|█████████████▋                                                     | 367/1800 [01:31<08:10,  2.92it/s]"
     ]
    },
    {
     "name": "stdout",
     "output_type": "stream",
     "text": [
      "\n",
      "0: 640x640 3 inculsions, 17.9ms\n",
      "Speed: 4.5ms preprocess, 17.9ms inference, 5.2ms postprocess per image at shape (1, 3, 640, 640)\n"
     ]
    },
    {
     "name": "stderr",
     "output_type": "stream",
     "text": [
      "Processing:  20%|█████████████▋                                                     | 368/1800 [01:32<07:29,  3.19it/s]"
     ]
    },
    {
     "name": "stdout",
     "output_type": "stream",
     "text": [
      "\n",
      "0: 640x640 2 inculsions, 20.6ms\n",
      "Speed: 6.1ms preprocess, 20.6ms inference, 3.3ms postprocess per image at shape (1, 3, 640, 640)\n"
     ]
    },
    {
     "name": "stderr",
     "output_type": "stream",
     "text": [
      "Processing:  20%|█████████████▋                                                     | 369/1800 [01:32<06:26,  3.70it/s]"
     ]
    },
    {
     "name": "stdout",
     "output_type": "stream",
     "text": [
      "\n",
      "0: 640x640 3 inculsions, 16.0ms\n",
      "Speed: 5.7ms preprocess, 16.0ms inference, 3.4ms postprocess per image at shape (1, 3, 640, 640)\n"
     ]
    },
    {
     "name": "stderr",
     "output_type": "stream",
     "text": [
      "Processing:  21%|█████████████▊                                                     | 370/1800 [01:32<06:16,  3.80it/s]"
     ]
    },
    {
     "name": "stdout",
     "output_type": "stream",
     "text": [
      "\n",
      "0: 640x640 4 inculsions, 19.4ms\n",
      "Speed: 5.7ms preprocess, 19.4ms inference, 3.3ms postprocess per image at shape (1, 3, 640, 640)\n"
     ]
    },
    {
     "name": "stderr",
     "output_type": "stream",
     "text": [
      "Processing:  21%|█████████████▊                                                     | 371/1800 [01:32<06:51,  3.47it/s]"
     ]
    },
    {
     "name": "stdout",
     "output_type": "stream",
     "text": [
      "\n",
      "0: 640x640 3 inculsions, 18.1ms\n",
      "Speed: 5.8ms preprocess, 18.1ms inference, 3.2ms postprocess per image at shape (1, 3, 640, 640)\n"
     ]
    },
    {
     "name": "stderr",
     "output_type": "stream",
     "text": [
      "Processing:  21%|█████████████▊                                                     | 372/1800 [01:33<06:38,  3.58it/s]"
     ]
    },
    {
     "name": "stdout",
     "output_type": "stream",
     "text": [
      "\n",
      "0: 640x640 6 inculsions, 19.6ms\n",
      "Speed: 5.8ms preprocess, 19.6ms inference, 3.8ms postprocess per image at shape (1, 3, 640, 640)\n"
     ]
    },
    {
     "name": "stderr",
     "output_type": "stream",
     "text": [
      "Processing:  21%|█████████████▉                                                     | 373/1800 [01:33<08:04,  2.95it/s]"
     ]
    },
    {
     "name": "stdout",
     "output_type": "stream",
     "text": [
      "\n",
      "0: 640x640 4 inculsions, 13.3ms\n",
      "Speed: 6.6ms preprocess, 13.3ms inference, 3.1ms postprocess per image at shape (1, 3, 640, 640)\n"
     ]
    },
    {
     "name": "stderr",
     "output_type": "stream",
     "text": [
      "Processing:  21%|█████████████▉                                                     | 374/1800 [01:33<08:04,  2.94it/s]"
     ]
    },
    {
     "name": "stdout",
     "output_type": "stream",
     "text": [
      "\n",
      "0: 640x640 4 inculsions, 1 patches, 17.4ms\n",
      "Speed: 5.7ms preprocess, 17.4ms inference, 4.3ms postprocess per image at shape (1, 3, 640, 640)\n"
     ]
    },
    {
     "name": "stderr",
     "output_type": "stream",
     "text": [
      "Processing:  21%|█████████████▉                                                     | 375/1800 [01:34<08:22,  2.83it/s]"
     ]
    },
    {
     "name": "stdout",
     "output_type": "stream",
     "text": [
      "\n",
      "0: 640x640 3 inculsions, 16.5ms\n",
      "Speed: 6.5ms preprocess, 16.5ms inference, 3.8ms postprocess per image at shape (1, 3, 640, 640)\n"
     ]
    },
    {
     "name": "stderr",
     "output_type": "stream",
     "text": [
      "Processing:  21%|█████████████▉                                                     | 376/1800 [01:34<07:40,  3.09it/s]"
     ]
    },
    {
     "name": "stdout",
     "output_type": "stream",
     "text": [
      "\n",
      "0: 640x640 1 inculsion, 86.3ms\n",
      "Speed: 5.8ms preprocess, 86.3ms inference, 15.3ms postprocess per image at shape (1, 3, 640, 640)\n"
     ]
    },
    {
     "name": "stderr",
     "output_type": "stream",
     "text": [
      "Processing:  21%|██████████████                                                     | 377/1800 [01:34<07:03,  3.36it/s]"
     ]
    },
    {
     "name": "stdout",
     "output_type": "stream",
     "text": [
      "\n",
      "0: 640x640 4 inculsions, 18.7ms\n",
      "Speed: 5.5ms preprocess, 18.7ms inference, 3.4ms postprocess per image at shape (1, 3, 640, 640)\n"
     ]
    },
    {
     "name": "stderr",
     "output_type": "stream",
     "text": [
      "Processing:  21%|██████████████                                                     | 378/1800 [01:35<07:08,  3.32it/s]"
     ]
    },
    {
     "name": "stdout",
     "output_type": "stream",
     "text": [
      "\n",
      "0: 640x640 7 inculsions, 18.6ms\n",
      "Speed: 4.2ms preprocess, 18.6ms inference, 3.3ms postprocess per image at shape (1, 3, 640, 640)\n"
     ]
    },
    {
     "name": "stderr",
     "output_type": "stream",
     "text": [
      "Processing:  21%|██████████████                                                     | 379/1800 [01:35<08:48,  2.69it/s]"
     ]
    },
    {
     "name": "stdout",
     "output_type": "stream",
     "text": [
      "\n",
      "0: 640x640 1 inculsion, 20.6ms\n",
      "Speed: 5.1ms preprocess, 20.6ms inference, 4.0ms postprocess per image at shape (1, 3, 640, 640)\n"
     ]
    },
    {
     "name": "stderr",
     "output_type": "stream",
     "text": [
      "Processing:  21%|██████████████▏                                                    | 380/1800 [01:35<06:58,  3.39it/s]"
     ]
    },
    {
     "name": "stdout",
     "output_type": "stream",
     "text": [
      "\n",
      "0: 640x640 2 inculsions, 16.2ms\n",
      "Speed: 3.9ms preprocess, 16.2ms inference, 3.1ms postprocess per image at shape (1, 3, 640, 640)\n"
     ]
    },
    {
     "name": "stderr",
     "output_type": "stream",
     "text": [
      "Processing:  21%|██████████████▏                                                    | 381/1800 [01:35<06:05,  3.88it/s]"
     ]
    },
    {
     "name": "stdout",
     "output_type": "stream",
     "text": [
      "\n",
      "0: 640x640 3 inculsions, 15.8ms\n",
      "Speed: 4.2ms preprocess, 15.8ms inference, 2.8ms postprocess per image at shape (1, 3, 640, 640)\n"
     ]
    },
    {
     "name": "stderr",
     "output_type": "stream",
     "text": [
      "Processing:  21%|██████████████▏                                                    | 382/1800 [01:36<05:59,  3.94it/s]"
     ]
    },
    {
     "name": "stdout",
     "output_type": "stream",
     "text": [
      "\n",
      "0: 640x640 3 inculsions, 16.9ms\n",
      "Speed: 5.5ms preprocess, 16.9ms inference, 3.2ms postprocess per image at shape (1, 3, 640, 640)\n"
     ]
    },
    {
     "name": "stderr",
     "output_type": "stream",
     "text": [
      "Processing:  21%|██████████████▎                                                    | 383/1800 [01:36<05:49,  4.05it/s]"
     ]
    },
    {
     "name": "stdout",
     "output_type": "stream",
     "text": [
      "\n",
      "0: 640x640 2 inculsions, 17.5ms\n",
      "Speed: 5.1ms preprocess, 17.5ms inference, 3.1ms postprocess per image at shape (1, 3, 640, 640)\n"
     ]
    },
    {
     "name": "stderr",
     "output_type": "stream",
     "text": [
      "Processing:  21%|██████████████▎                                                    | 384/1800 [01:36<05:18,  4.44it/s]"
     ]
    },
    {
     "name": "stdout",
     "output_type": "stream",
     "text": [
      "\n",
      "0: 640x640 3 inculsions, 16.2ms\n",
      "Speed: 5.3ms preprocess, 16.2ms inference, 2.6ms postprocess per image at shape (1, 3, 640, 640)\n"
     ]
    },
    {
     "name": "stderr",
     "output_type": "stream",
     "text": [
      "Processing:  21%|██████████████▎                                                    | 385/1800 [01:36<05:24,  4.35it/s]"
     ]
    },
    {
     "name": "stdout",
     "output_type": "stream",
     "text": [
      "\n",
      "0: 640x640 3 inculsions, 16.6ms\n",
      "Speed: 4.8ms preprocess, 16.6ms inference, 3.1ms postprocess per image at shape (1, 3, 640, 640)\n"
     ]
    },
    {
     "name": "stderr",
     "output_type": "stream",
     "text": [
      "Processing:  21%|██████████████▎                                                    | 386/1800 [01:37<05:34,  4.22it/s]"
     ]
    },
    {
     "name": "stdout",
     "output_type": "stream",
     "text": [
      "\n",
      "0: 640x640 7 inculsions, 16.9ms\n",
      "Speed: 5.6ms preprocess, 16.9ms inference, 4.1ms postprocess per image at shape (1, 3, 640, 640)\n"
     ]
    },
    {
     "name": "stderr",
     "output_type": "stream",
     "text": [
      "Processing:  22%|██████████████▍                                                    | 387/1800 [01:37<07:44,  3.04it/s]"
     ]
    },
    {
     "name": "stdout",
     "output_type": "stream",
     "text": [
      "\n",
      "0: 640x640 6 inculsions, 18.2ms\n",
      "Speed: 5.4ms preprocess, 18.2ms inference, 3.3ms postprocess per image at shape (1, 3, 640, 640)\n"
     ]
    },
    {
     "name": "stderr",
     "output_type": "stream",
     "text": [
      "Processing:  22%|██████████████▍                                                    | 388/1800 [01:38<08:44,  2.69it/s]"
     ]
    },
    {
     "name": "stdout",
     "output_type": "stream",
     "text": [
      "\n",
      "0: 640x640 3 inculsions, 14.8ms\n",
      "Speed: 3.8ms preprocess, 14.8ms inference, 3.6ms postprocess per image at shape (1, 3, 640, 640)\n"
     ]
    },
    {
     "name": "stderr",
     "output_type": "stream",
     "text": [
      "Processing:  22%|██████████████▍                                                    | 389/1800 [01:38<07:58,  2.95it/s]"
     ]
    },
    {
     "name": "stdout",
     "output_type": "stream",
     "text": [
      "\n",
      "0: 640x640 11 inculsions, 17.8ms\n",
      "Speed: 6.1ms preprocess, 17.8ms inference, 3.1ms postprocess per image at shape (1, 3, 640, 640)\n"
     ]
    },
    {
     "name": "stderr",
     "output_type": "stream",
     "text": [
      "Processing:  22%|██████████████▌                                                    | 390/1800 [01:39<11:34,  2.03it/s]"
     ]
    },
    {
     "name": "stdout",
     "output_type": "stream",
     "text": [
      "\n",
      "0: 640x640 4 inculsions, 18.4ms\n",
      "Speed: 5.9ms preprocess, 18.4ms inference, 3.5ms postprocess per image at shape (1, 3, 640, 640)\n"
     ]
    },
    {
     "name": "stderr",
     "output_type": "stream",
     "text": [
      "Processing:  22%|██████████████▌                                                    | 391/1800 [01:39<10:55,  2.15it/s]"
     ]
    },
    {
     "name": "stdout",
     "output_type": "stream",
     "text": [
      "\n",
      "0: 640x640 4 inculsions, 19.0ms\n",
      "Speed: 5.5ms preprocess, 19.0ms inference, 5.6ms postprocess per image at shape (1, 3, 640, 640)\n"
     ]
    },
    {
     "name": "stderr",
     "output_type": "stream",
     "text": [
      "Processing:  22%|██████████████▌                                                    | 392/1800 [01:39<09:53,  2.37it/s]"
     ]
    },
    {
     "name": "stdout",
     "output_type": "stream",
     "text": [
      "\n",
      "0: 640x640 3 inculsions, 17.0ms\n",
      "Speed: 7.5ms preprocess, 17.0ms inference, 3.3ms postprocess per image at shape (1, 3, 640, 640)\n"
     ]
    },
    {
     "name": "stderr",
     "output_type": "stream",
     "text": [
      "Processing:  22%|██████████████▋                                                    | 393/1800 [01:40<08:41,  2.70it/s]"
     ]
    },
    {
     "name": "stdout",
     "output_type": "stream",
     "text": [
      "\n",
      "0: 640x640 1 inculsion, 18.2ms\n",
      "Speed: 6.7ms preprocess, 18.2ms inference, 3.0ms postprocess per image at shape (1, 3, 640, 640)\n",
      "\n",
      "0: 640x640 1 inculsion, 18.7ms\n",
      "Speed: 5.9ms preprocess, 18.7ms inference, 3.9ms postprocess per image at shape (1, 3, 640, 640)\n"
     ]
    },
    {
     "name": "stderr",
     "output_type": "stream",
     "text": [
      "Processing:  22%|██████████████▋                                                    | 395/1800 [01:40<05:45,  4.06it/s]"
     ]
    },
    {
     "name": "stdout",
     "output_type": "stream",
     "text": [
      "\n",
      "0: 640x640 1 inculsion, 15.3ms\n",
      "Speed: 6.0ms preprocess, 15.3ms inference, 2.8ms postprocess per image at shape (1, 3, 640, 640)\n"
     ]
    },
    {
     "name": "stderr",
     "output_type": "stream",
     "text": [
      "Processing:  22%|██████████████▋                                                    | 396/1800 [01:40<04:56,  4.73it/s]"
     ]
    },
    {
     "name": "stdout",
     "output_type": "stream",
     "text": [
      "\n",
      "0: 640x640 3 inculsions, 15.4ms\n",
      "Speed: 6.9ms preprocess, 15.4ms inference, 3.8ms postprocess per image at shape (1, 3, 640, 640)\n"
     ]
    },
    {
     "name": "stderr",
     "output_type": "stream",
     "text": [
      "Processing:  22%|██████████████▊                                                    | 397/1800 [01:40<05:07,  4.57it/s]"
     ]
    },
    {
     "name": "stdout",
     "output_type": "stream",
     "text": [
      "\n",
      "0: 640x640 3 inculsions, 19.1ms\n",
      "Speed: 5.9ms preprocess, 19.1ms inference, 3.7ms postprocess per image at shape (1, 3, 640, 640)\n"
     ]
    },
    {
     "name": "stderr",
     "output_type": "stream",
     "text": [
      "Processing:  22%|██████████████▊                                                    | 398/1800 [01:40<05:15,  4.44it/s]"
     ]
    },
    {
     "name": "stdout",
     "output_type": "stream",
     "text": [
      "\n",
      "0: 640x640 2 inculsions, 18.1ms\n",
      "Speed: 5.1ms preprocess, 18.1ms inference, 2.9ms postprocess per image at shape (1, 3, 640, 640)\n"
     ]
    },
    {
     "name": "stderr",
     "output_type": "stream",
     "text": [
      "Processing:  22%|██████████████▊                                                    | 399/1800 [01:41<04:54,  4.75it/s]"
     ]
    },
    {
     "name": "stdout",
     "output_type": "stream",
     "text": [
      "\n",
      "0: 640x640 4 inculsions, 18.2ms\n",
      "Speed: 5.2ms preprocess, 18.2ms inference, 3.4ms postprocess per image at shape (1, 3, 640, 640)\n"
     ]
    },
    {
     "name": "stderr",
     "output_type": "stream",
     "text": [
      "Processing:  22%|██████████████▉                                                    | 400/1800 [01:41<05:38,  4.14it/s]"
     ]
    },
    {
     "name": "stdout",
     "output_type": "stream",
     "text": [
      "\n",
      "0: 640x640 2 inculsions, 18.3ms\n",
      "Speed: 5.9ms preprocess, 18.3ms inference, 3.6ms postprocess per image at shape (1, 3, 640, 640)\n"
     ]
    },
    {
     "name": "stderr",
     "output_type": "stream",
     "text": [
      "Processing:  22%|██████████████▉                                                    | 401/1800 [01:41<05:09,  4.52it/s]"
     ]
    },
    {
     "name": "stdout",
     "output_type": "stream",
     "text": [
      "\n",
      "0: 640x640 3 inculsions, 21.3ms\n",
      "Speed: 4.4ms preprocess, 21.3ms inference, 2.8ms postprocess per image at shape (1, 3, 640, 640)\n"
     ]
    },
    {
     "name": "stderr",
     "output_type": "stream",
     "text": [
      "Processing:  22%|██████████████▉                                                    | 402/1800 [01:41<05:21,  4.35it/s]"
     ]
    },
    {
     "name": "stdout",
     "output_type": "stream",
     "text": [
      "\n",
      "0: 640x640 1 inculsion, 1 scratches, 17.9ms\n",
      "Speed: 5.1ms preprocess, 17.9ms inference, 3.2ms postprocess per image at shape (1, 3, 640, 640)\n"
     ]
    },
    {
     "name": "stderr",
     "output_type": "stream",
     "text": [
      "Processing:  22%|███████████████                                                    | 403/1800 [01:42<05:01,  4.64it/s]"
     ]
    },
    {
     "name": "stdout",
     "output_type": "stream",
     "text": [
      "\n",
      "0: 640x640 4 inculsions, 18.4ms\n",
      "Speed: 5.2ms preprocess, 18.4ms inference, 3.6ms postprocess per image at shape (1, 3, 640, 640)\n"
     ]
    },
    {
     "name": "stderr",
     "output_type": "stream",
     "text": [
      "Processing:  22%|███████████████                                                    | 404/1800 [01:42<05:41,  4.09it/s]"
     ]
    },
    {
     "name": "stdout",
     "output_type": "stream",
     "text": [
      "\n",
      "0: 640x640 4 inculsions, 18.4ms\n",
      "Speed: 5.1ms preprocess, 18.4ms inference, 3.1ms postprocess per image at shape (1, 3, 640, 640)\n"
     ]
    },
    {
     "name": "stderr",
     "output_type": "stream",
     "text": [
      "Processing:  22%|███████████████                                                    | 405/1800 [01:42<06:09,  3.77it/s]"
     ]
    },
    {
     "name": "stdout",
     "output_type": "stream",
     "text": [
      "\n",
      "0: 640x640 3 inculsions, 19.3ms\n",
      "Speed: 5.5ms preprocess, 19.3ms inference, 8.5ms postprocess per image at shape (1, 3, 640, 640)\n"
     ]
    },
    {
     "name": "stderr",
     "output_type": "stream",
     "text": [
      "Processing:  23%|███████████████                                                    | 406/1800 [01:42<06:02,  3.84it/s]"
     ]
    },
    {
     "name": "stdout",
     "output_type": "stream",
     "text": [
      "\n",
      "0: 640x640 2 inculsions, 18.3ms\n",
      "Speed: 5.2ms preprocess, 18.3ms inference, 3.6ms postprocess per image at shape (1, 3, 640, 640)\n"
     ]
    },
    {
     "name": "stderr",
     "output_type": "stream",
     "text": [
      "Processing:  23%|███████████████▏                                                   | 407/1800 [01:43<05:20,  4.34it/s]"
     ]
    },
    {
     "name": "stdout",
     "output_type": "stream",
     "text": [
      "\n",
      "0: 640x640 3 inculsions, 15.6ms\n",
      "Speed: 4.9ms preprocess, 15.6ms inference, 3.7ms postprocess per image at shape (1, 3, 640, 640)\n"
     ]
    },
    {
     "name": "stderr",
     "output_type": "stream",
     "text": [
      "Processing:  23%|███████████████▏                                                   | 408/1800 [01:43<05:28,  4.23it/s]"
     ]
    },
    {
     "name": "stdout",
     "output_type": "stream",
     "text": [
      "\n",
      "0: 640x640 1 inculsion, 17.8ms\n",
      "Speed: 5.0ms preprocess, 17.8ms inference, 3.7ms postprocess per image at shape (1, 3, 640, 640)\n"
     ]
    },
    {
     "name": "stderr",
     "output_type": "stream",
     "text": [
      "Processing:  23%|███████████████▏                                                   | 409/1800 [01:43<04:31,  5.12it/s]"
     ]
    },
    {
     "name": "stdout",
     "output_type": "stream",
     "text": [
      "\n",
      "0: 640x640 2 inculsions, 17.5ms\n",
      "Speed: 5.6ms preprocess, 17.5ms inference, 4.2ms postprocess per image at shape (1, 3, 640, 640)\n"
     ]
    },
    {
     "name": "stderr",
     "output_type": "stream",
     "text": [
      "Processing:  23%|███████████████▎                                                   | 410/1800 [01:43<04:20,  5.33it/s]"
     ]
    },
    {
     "name": "stdout",
     "output_type": "stream",
     "text": [
      "\n",
      "0: 640x640 1 inculsion, 18.9ms\n",
      "Speed: 4.9ms preprocess, 18.9ms inference, 3.8ms postprocess per image at shape (1, 3, 640, 640)\n"
     ]
    },
    {
     "name": "stderr",
     "output_type": "stream",
     "text": [
      "Processing:  23%|███████████████▎                                                   | 411/1800 [01:43<03:47,  6.10it/s]"
     ]
    },
    {
     "name": "stdout",
     "output_type": "stream",
     "text": [
      "\n",
      "0: 640x640 3 inculsions, 15.5ms\n",
      "Speed: 5.4ms preprocess, 15.5ms inference, 3.7ms postprocess per image at shape (1, 3, 640, 640)\n"
     ]
    },
    {
     "name": "stderr",
     "output_type": "stream",
     "text": [
      "Processing:  23%|███████████████▎                                                   | 412/1800 [01:43<04:22,  5.29it/s]"
     ]
    },
    {
     "name": "stdout",
     "output_type": "stream",
     "text": [
      "\n",
      "0: 640x640 3 inculsions, 18.6ms\n",
      "Speed: 5.2ms preprocess, 18.6ms inference, 3.8ms postprocess per image at shape (1, 3, 640, 640)\n"
     ]
    },
    {
     "name": "stderr",
     "output_type": "stream",
     "text": [
      "Processing:  23%|███████████████▎                                                   | 413/1800 [01:44<04:42,  4.91it/s]"
     ]
    },
    {
     "name": "stdout",
     "output_type": "stream",
     "text": [
      "\n",
      "0: 640x640 1 inculsion, 15.8ms\n",
      "Speed: 5.1ms preprocess, 15.8ms inference, 3.3ms postprocess per image at shape (1, 3, 640, 640)\n"
     ]
    },
    {
     "name": "stderr",
     "output_type": "stream",
     "text": [
      "Processing:  23%|███████████████▍                                                   | 414/1800 [01:44<04:02,  5.71it/s]"
     ]
    },
    {
     "name": "stdout",
     "output_type": "stream",
     "text": [
      "\n",
      "0: 640x640 2 inculsions, 17.2ms\n",
      "Speed: 6.5ms preprocess, 17.2ms inference, 3.5ms postprocess per image at shape (1, 3, 640, 640)\n"
     ]
    },
    {
     "name": "stderr",
     "output_type": "stream",
     "text": [
      "Processing:  23%|███████████████▍                                                   | 415/1800 [01:44<04:03,  5.68it/s]"
     ]
    },
    {
     "name": "stdout",
     "output_type": "stream",
     "text": [
      "\n",
      "0: 640x640 2 inculsions, 20.8ms\n",
      "Speed: 6.4ms preprocess, 20.8ms inference, 3.9ms postprocess per image at shape (1, 3, 640, 640)\n"
     ]
    },
    {
     "name": "stderr",
     "output_type": "stream",
     "text": [
      "Processing:  23%|███████████████▍                                                   | 416/1800 [01:44<04:02,  5.70it/s]"
     ]
    },
    {
     "name": "stdout",
     "output_type": "stream",
     "text": [
      "\n",
      "0: 640x640 1 inculsion, 17.0ms\n",
      "Speed: 5.2ms preprocess, 17.0ms inference, 3.5ms postprocess per image at shape (1, 3, 640, 640)\n",
      "\n",
      "0: 640x640 2 inculsions, 18.3ms\n",
      "Speed: 4.9ms preprocess, 18.3ms inference, 3.9ms postprocess per image at shape (1, 3, 640, 640)\n"
     ]
    },
    {
     "name": "stderr",
     "output_type": "stream",
     "text": [
      "Processing:  23%|███████████████▌                                                   | 418/1800 [01:44<03:36,  6.37it/s]"
     ]
    },
    {
     "name": "stdout",
     "output_type": "stream",
     "text": [
      "\n",
      "0: 640x640 2 inculsions, 17.0ms\n",
      "Speed: 5.3ms preprocess, 17.0ms inference, 4.0ms postprocess per image at shape (1, 3, 640, 640)\n"
     ]
    },
    {
     "name": "stderr",
     "output_type": "stream",
     "text": [
      "Processing:  23%|███████████████▌                                                   | 419/1800 [01:45<03:40,  6.27it/s]"
     ]
    },
    {
     "name": "stdout",
     "output_type": "stream",
     "text": [
      "\n",
      "0: 640x640 3 inculsions, 18.2ms\n",
      "Speed: 5.1ms preprocess, 18.2ms inference, 3.3ms postprocess per image at shape (1, 3, 640, 640)\n"
     ]
    },
    {
     "name": "stderr",
     "output_type": "stream",
     "text": [
      "Processing:  23%|███████████████▋                                                   | 420/1800 [01:45<04:13,  5.44it/s]"
     ]
    },
    {
     "name": "stdout",
     "output_type": "stream",
     "text": [
      "\n",
      "0: 640x640 5 inculsions, 17.3ms\n",
      "Speed: 5.1ms preprocess, 17.3ms inference, 3.7ms postprocess per image at shape (1, 3, 640, 640)\n"
     ]
    },
    {
     "name": "stderr",
     "output_type": "stream",
     "text": [
      "Processing:  23%|███████████████▋                                                   | 421/1800 [01:45<05:34,  4.13it/s]"
     ]
    },
    {
     "name": "stdout",
     "output_type": "stream",
     "text": [
      "\n",
      "0: 640x640 2 inculsions, 22.9ms\n",
      "Speed: 5.1ms preprocess, 22.9ms inference, 4.0ms postprocess per image at shape (1, 3, 640, 640)\n"
     ]
    },
    {
     "name": "stderr",
     "output_type": "stream",
     "text": [
      "Processing:  23%|███████████████▋                                                   | 422/1800 [01:45<05:05,  4.51it/s]"
     ]
    },
    {
     "name": "stdout",
     "output_type": "stream",
     "text": [
      "\n",
      "0: 640x640 1 inculsion, 26.1ms\n",
      "Speed: 5.1ms preprocess, 26.1ms inference, 3.9ms postprocess per image at shape (1, 3, 640, 640)\n"
     ]
    },
    {
     "name": "stderr",
     "output_type": "stream",
     "text": [
      "Processing:  24%|███████████████▋                                                   | 423/1800 [01:46<04:21,  5.28it/s]"
     ]
    },
    {
     "name": "stdout",
     "output_type": "stream",
     "text": [
      "\n",
      "0: 640x640 4 inculsions, 19.2ms\n",
      "Speed: 6.3ms preprocess, 19.2ms inference, 3.4ms postprocess per image at shape (1, 3, 640, 640)\n"
     ]
    },
    {
     "name": "stderr",
     "output_type": "stream",
     "text": [
      "Processing:  24%|███████████████▊                                                   | 424/1800 [01:46<05:11,  4.41it/s]"
     ]
    },
    {
     "name": "stdout",
     "output_type": "stream",
     "text": [
      "\n",
      "0: 640x640 1 inculsion, 22.8ms\n",
      "Speed: 4.4ms preprocess, 22.8ms inference, 2.0ms postprocess per image at shape (1, 3, 640, 640)\n"
     ]
    },
    {
     "name": "stderr",
     "output_type": "stream",
     "text": [
      "Processing:  24%|███████████████▊                                                   | 425/1800 [01:46<04:23,  5.22it/s]"
     ]
    },
    {
     "name": "stdout",
     "output_type": "stream",
     "text": [
      "\n",
      "0: 640x640 2 inculsions, 15.6ms\n",
      "Speed: 5.0ms preprocess, 15.6ms inference, 3.3ms postprocess per image at shape (1, 3, 640, 640)\n"
     ]
    },
    {
     "name": "stderr",
     "output_type": "stream",
     "text": [
      "Processing:  24%|███████████████▊                                                   | 426/1800 [01:46<04:14,  5.40it/s]"
     ]
    },
    {
     "name": "stdout",
     "output_type": "stream",
     "text": [
      "\n",
      "0: 640x640 3 inculsions, 17.6ms\n",
      "Speed: 5.0ms preprocess, 17.6ms inference, 3.5ms postprocess per image at shape (1, 3, 640, 640)\n"
     ]
    },
    {
     "name": "stderr",
     "output_type": "stream",
     "text": [
      "Processing:  24%|███████████████▉                                                   | 427/1800 [01:46<04:36,  4.97it/s]"
     ]
    },
    {
     "name": "stdout",
     "output_type": "stream",
     "text": [
      "\n",
      "0: 640x640 2 inculsions, 16.3ms\n",
      "Speed: 5.2ms preprocess, 16.3ms inference, 3.9ms postprocess per image at shape (1, 3, 640, 640)\n"
     ]
    },
    {
     "name": "stderr",
     "output_type": "stream",
     "text": [
      "Processing:  24%|███████████████▉                                                   | 428/1800 [01:47<04:24,  5.18it/s]"
     ]
    },
    {
     "name": "stdout",
     "output_type": "stream",
     "text": [
      "\n",
      "0: 640x640 3 inculsions, 17.3ms\n",
      "Speed: 4.8ms preprocess, 17.3ms inference, 5.6ms postprocess per image at shape (1, 3, 640, 640)\n"
     ]
    },
    {
     "name": "stderr",
     "output_type": "stream",
     "text": [
      "Processing:  24%|███████████████▉                                                   | 429/1800 [01:47<04:44,  4.82it/s]"
     ]
    },
    {
     "name": "stdout",
     "output_type": "stream",
     "text": [
      "\n",
      "0: 640x640 1 inculsion, 23.0ms\n",
      "Speed: 7.6ms preprocess, 23.0ms inference, 3.4ms postprocess per image at shape (1, 3, 640, 640)\n"
     ]
    },
    {
     "name": "stderr",
     "output_type": "stream",
     "text": [
      "Processing:  24%|████████████████                                                   | 430/1800 [01:47<04:07,  5.54it/s]"
     ]
    },
    {
     "name": "stdout",
     "output_type": "stream",
     "text": [
      "\n",
      "0: 640x640 2 inculsions, 18.1ms\n",
      "Speed: 5.7ms preprocess, 18.1ms inference, 5.0ms postprocess per image at shape (1, 3, 640, 640)\n"
     ]
    },
    {
     "name": "stderr",
     "output_type": "stream",
     "text": [
      "Processing:  24%|████████████████                                                   | 431/1800 [01:47<04:03,  5.62it/s]"
     ]
    },
    {
     "name": "stdout",
     "output_type": "stream",
     "text": [
      "\n",
      "0: 640x640 1 inculsion, 20.0ms\n",
      "Speed: 5.2ms preprocess, 20.0ms inference, 3.6ms postprocess per image at shape (1, 3, 640, 640)\n"
     ]
    },
    {
     "name": "stderr",
     "output_type": "stream",
     "text": [
      "Processing:  24%|████████████████                                                   | 432/1800 [01:47<03:37,  6.30it/s]"
     ]
    },
    {
     "name": "stdout",
     "output_type": "stream",
     "text": [
      "\n",
      "0: 640x640 3 inculsions, 18.5ms\n",
      "Speed: 4.4ms preprocess, 18.5ms inference, 3.7ms postprocess per image at shape (1, 3, 640, 640)\n"
     ]
    },
    {
     "name": "stderr",
     "output_type": "stream",
     "text": [
      "Processing:  24%|████████████████                                                   | 433/1800 [01:47<04:11,  5.43it/s]"
     ]
    },
    {
     "name": "stdout",
     "output_type": "stream",
     "text": [
      "\n",
      "0: 640x640 6 inculsions, 18.4ms\n",
      "Speed: 6.3ms preprocess, 18.4ms inference, 3.3ms postprocess per image at shape (1, 3, 640, 640)\n"
     ]
    },
    {
     "name": "stderr",
     "output_type": "stream",
     "text": [
      "Processing:  24%|████████████████▏                                                  | 434/1800 [01:48<06:05,  3.74it/s]"
     ]
    },
    {
     "name": "stdout",
     "output_type": "stream",
     "text": [
      "\n",
      "0: 640x640 5 inculsions, 19.9ms\n",
      "Speed: 4.9ms preprocess, 19.9ms inference, 3.6ms postprocess per image at shape (1, 3, 640, 640)\n"
     ]
    },
    {
     "name": "stderr",
     "output_type": "stream",
     "text": [
      "Processing:  24%|████████████████▏                                                  | 435/1800 [01:48<07:10,  3.17it/s]"
     ]
    },
    {
     "name": "stdout",
     "output_type": "stream",
     "text": [
      "\n",
      "0: 640x640 1 inculsion, 18.9ms\n",
      "Speed: 5.2ms preprocess, 18.9ms inference, 3.5ms postprocess per image at shape (1, 3, 640, 640)\n"
     ]
    },
    {
     "name": "stderr",
     "output_type": "stream",
     "text": [
      "Processing:  24%|████████████████▏                                                  | 436/1800 [01:48<05:43,  3.97it/s]"
     ]
    },
    {
     "name": "stdout",
     "output_type": "stream",
     "text": [
      "\n",
      "0: 640x640 2 inculsions, 25.3ms\n",
      "Speed: 4.5ms preprocess, 25.3ms inference, 3.5ms postprocess per image at shape (1, 3, 640, 640)\n"
     ]
    },
    {
     "name": "stderr",
     "output_type": "stream",
     "text": [
      "Processing:  24%|████████████████▎                                                  | 437/1800 [01:49<05:18,  4.28it/s]"
     ]
    },
    {
     "name": "stdout",
     "output_type": "stream",
     "text": [
      "\n",
      "0: 640x640 4 inculsions, 15.8ms\n",
      "Speed: 5.5ms preprocess, 15.8ms inference, 3.8ms postprocess per image at shape (1, 3, 640, 640)\n"
     ]
    },
    {
     "name": "stderr",
     "output_type": "stream",
     "text": [
      "Processing:  24%|████████████████▎                                                  | 438/1800 [01:49<05:56,  3.82it/s]"
     ]
    },
    {
     "name": "stdout",
     "output_type": "stream",
     "text": [
      "\n",
      "0: 640x640 6 inculsions, 17.2ms\n",
      "Speed: 5.6ms preprocess, 17.2ms inference, 3.4ms postprocess per image at shape (1, 3, 640, 640)\n"
     ]
    },
    {
     "name": "stderr",
     "output_type": "stream",
     "text": [
      "Processing:  24%|████████████████▎                                                  | 439/1800 [01:49<07:18,  3.11it/s]"
     ]
    },
    {
     "name": "stdout",
     "output_type": "stream",
     "text": [
      "\n",
      "0: 640x640 2 inculsions, 18.3ms\n",
      "Speed: 5.4ms preprocess, 18.3ms inference, 3.6ms postprocess per image at shape (1, 3, 640, 640)\n"
     ]
    },
    {
     "name": "stderr",
     "output_type": "stream",
     "text": [
      "Processing:  24%|████████████████▍                                                  | 440/1800 [01:50<06:16,  3.61it/s]"
     ]
    },
    {
     "name": "stdout",
     "output_type": "stream",
     "text": [
      "\n",
      "0: 640x640 2 inculsions, 17.0ms\n",
      "Speed: 4.9ms preprocess, 17.0ms inference, 3.9ms postprocess per image at shape (1, 3, 640, 640)\n"
     ]
    },
    {
     "name": "stderr",
     "output_type": "stream",
     "text": [
      "Processing:  24%|████████████████▍                                                  | 441/1800 [01:50<05:59,  3.78it/s]"
     ]
    },
    {
     "name": "stdout",
     "output_type": "stream",
     "text": [
      "\n",
      "0: 640x640 2 inculsions, 34.2ms\n",
      "Speed: 7.1ms preprocess, 34.2ms inference, 3.6ms postprocess per image at shape (1, 3, 640, 640)\n"
     ]
    },
    {
     "name": "stderr",
     "output_type": "stream",
     "text": [
      "Processing:  25%|████████████████▍                                                  | 442/1800 [01:50<05:24,  4.19it/s]"
     ]
    },
    {
     "name": "stdout",
     "output_type": "stream",
     "text": [
      "\n",
      "0: 640x640 4 inculsions, 16.0ms\n",
      "Speed: 4.1ms preprocess, 16.0ms inference, 3.3ms postprocess per image at shape (1, 3, 640, 640)\n"
     ]
    },
    {
     "name": "stderr",
     "output_type": "stream",
     "text": [
      "Processing:  25%|████████████████▍                                                  | 443/1800 [01:50<05:56,  3.81it/s]"
     ]
    },
    {
     "name": "stdout",
     "output_type": "stream",
     "text": [
      "\n",
      "0: 640x640 1 inculsion, 17.6ms\n",
      "Speed: 5.4ms preprocess, 17.6ms inference, 3.2ms postprocess per image at shape (1, 3, 640, 640)\n"
     ]
    },
    {
     "name": "stderr",
     "output_type": "stream",
     "text": [
      "Processing:  25%|████████████████▌                                                  | 444/1800 [01:50<04:50,  4.67it/s]"
     ]
    },
    {
     "name": "stdout",
     "output_type": "stream",
     "text": [
      "\n",
      "0: 640x640 1 inculsion, 21.7ms\n",
      "Speed: 5.3ms preprocess, 21.7ms inference, 5.7ms postprocess per image at shape (1, 3, 640, 640)\n"
     ]
    },
    {
     "name": "stderr",
     "output_type": "stream",
     "text": [
      "Processing:  25%|████████████████▌                                                  | 445/1800 [01:51<04:09,  5.42it/s]"
     ]
    },
    {
     "name": "stdout",
     "output_type": "stream",
     "text": [
      "\n",
      "0: 640x640 4 inculsions, 18.8ms\n",
      "Speed: 6.2ms preprocess, 18.8ms inference, 3.4ms postprocess per image at shape (1, 3, 640, 640)\n"
     ]
    },
    {
     "name": "stderr",
     "output_type": "stream",
     "text": [
      "Processing:  25%|████████████████▌                                                  | 446/1800 [01:51<05:10,  4.37it/s]"
     ]
    },
    {
     "name": "stdout",
     "output_type": "stream",
     "text": [
      "\n",
      "0: 640x640 3 inculsions, 21.0ms\n",
      "Speed: 3.5ms preprocess, 21.0ms inference, 3.6ms postprocess per image at shape (1, 3, 640, 640)\n"
     ]
    },
    {
     "name": "stderr",
     "output_type": "stream",
     "text": [
      "Processing:  25%|████████████████▋                                                  | 447/1800 [01:51<05:08,  4.38it/s]"
     ]
    },
    {
     "name": "stdout",
     "output_type": "stream",
     "text": [
      "\n",
      "0: 640x640 5 inculsions, 16.6ms\n",
      "Speed: 5.3ms preprocess, 16.6ms inference, 3.5ms postprocess per image at shape (1, 3, 640, 640)\n"
     ]
    },
    {
     "name": "stderr",
     "output_type": "stream",
     "text": [
      "Processing:  25%|████████████████▋                                                  | 448/1800 [01:51<06:08,  3.67it/s]"
     ]
    },
    {
     "name": "stdout",
     "output_type": "stream",
     "text": [
      "\n",
      "0: 640x640 8 inculsions, 16.7ms\n",
      "Speed: 5.4ms preprocess, 16.7ms inference, 3.5ms postprocess per image at shape (1, 3, 640, 640)\n"
     ]
    },
    {
     "name": "stderr",
     "output_type": "stream",
     "text": [
      "Processing:  25%|████████████████▋                                                  | 449/1800 [01:52<08:24,  2.68it/s]"
     ]
    },
    {
     "name": "stdout",
     "output_type": "stream",
     "text": [
      "\n",
      "0: 640x640 11 inculsions, 25.5ms\n",
      "Speed: 6.8ms preprocess, 25.5ms inference, 3.3ms postprocess per image at shape (1, 3, 640, 640)\n"
     ]
    },
    {
     "name": "stderr",
     "output_type": "stream",
     "text": [
      "Processing:  25%|████████████████▊                                                  | 450/1800 [01:53<11:36,  1.94it/s]"
     ]
    },
    {
     "name": "stdout",
     "output_type": "stream",
     "text": [
      "\n",
      "0: 640x640 7 inculsions, 18.0ms\n",
      "Speed: 5.1ms preprocess, 18.0ms inference, 3.8ms postprocess per image at shape (1, 3, 640, 640)\n"
     ]
    },
    {
     "name": "stderr",
     "output_type": "stream",
     "text": [
      "Processing:  25%|████████████████▊                                                  | 451/1800 [01:54<12:08,  1.85it/s]"
     ]
    },
    {
     "name": "stdout",
     "output_type": "stream",
     "text": [
      "\n",
      "0: 640x640 4 inculsions, 18.2ms\n",
      "Speed: 5.2ms preprocess, 18.2ms inference, 3.4ms postprocess per image at shape (1, 3, 640, 640)\n"
     ]
    },
    {
     "name": "stderr",
     "output_type": "stream",
     "text": [
      "Processing:  25%|████████████████▊                                                  | 452/1800 [01:54<10:30,  2.14it/s]"
     ]
    },
    {
     "name": "stdout",
     "output_type": "stream",
     "text": [
      "\n",
      "0: 640x640 1 inculsion, 17.8ms\n",
      "Speed: 4.6ms preprocess, 17.8ms inference, 3.6ms postprocess per image at shape (1, 3, 640, 640)\n"
     ]
    },
    {
     "name": "stderr",
     "output_type": "stream",
     "text": [
      "Processing:  25%|████████████████▊                                                  | 453/1800 [01:54<08:07,  2.76it/s]"
     ]
    },
    {
     "name": "stdout",
     "output_type": "stream",
     "text": [
      "\n",
      "0: 640x640 6 inculsions, 18.1ms\n",
      "Speed: 5.2ms preprocess, 18.1ms inference, 3.1ms postprocess per image at shape (1, 3, 640, 640)\n"
     ]
    },
    {
     "name": "stderr",
     "output_type": "stream",
     "text": [
      "Processing:  25%|████████████████▉                                                  | 454/1800 [01:54<08:48,  2.55it/s]"
     ]
    },
    {
     "name": "stdout",
     "output_type": "stream",
     "text": [
      "\n",
      "0: 640x640 3 inculsions, 18.0ms\n",
      "Speed: 5.6ms preprocess, 18.0ms inference, 3.2ms postprocess per image at shape (1, 3, 640, 640)\n"
     ]
    },
    {
     "name": "stderr",
     "output_type": "stream",
     "text": [
      "Processing:  25%|████████████████▉                                                  | 455/1800 [01:55<07:46,  2.89it/s]"
     ]
    },
    {
     "name": "stdout",
     "output_type": "stream",
     "text": [
      "\n",
      "0: 640x640 5 inculsions, 17.1ms\n",
      "Speed: 6.0ms preprocess, 17.1ms inference, 3.1ms postprocess per image at shape (1, 3, 640, 640)\n"
     ]
    },
    {
     "name": "stderr",
     "output_type": "stream",
     "text": [
      "Processing:  25%|████████████████▉                                                  | 456/1800 [01:55<07:52,  2.84it/s]"
     ]
    },
    {
     "name": "stdout",
     "output_type": "stream",
     "text": [
      "\n",
      "0: 640x640 5 inculsions, 18.5ms\n",
      "Speed: 4.9ms preprocess, 18.5ms inference, 3.2ms postprocess per image at shape (1, 3, 640, 640)\n"
     ]
    },
    {
     "name": "stderr",
     "output_type": "stream",
     "text": [
      "Processing:  25%|█████████████████                                                  | 457/1800 [01:55<08:13,  2.72it/s]"
     ]
    },
    {
     "name": "stdout",
     "output_type": "stream",
     "text": [
      "\n",
      "0: 640x640 7 inculsions, 17.3ms\n",
      "Speed: 6.4ms preprocess, 17.3ms inference, 3.6ms postprocess per image at shape (1, 3, 640, 640)\n"
     ]
    },
    {
     "name": "stderr",
     "output_type": "stream",
     "text": [
      "Processing:  25%|█████████████████                                                  | 458/1800 [01:56<09:06,  2.46it/s]"
     ]
    },
    {
     "name": "stdout",
     "output_type": "stream",
     "text": [
      "\n",
      "0: 640x640 7 inculsions, 15.6ms\n",
      "Speed: 5.8ms preprocess, 15.6ms inference, 2.9ms postprocess per image at shape (1, 3, 640, 640)\n"
     ]
    },
    {
     "name": "stderr",
     "output_type": "stream",
     "text": [
      "Processing:  26%|█████████████████                                                  | 459/1800 [01:57<10:22,  2.15it/s]"
     ]
    },
    {
     "name": "stdout",
     "output_type": "stream",
     "text": [
      "\n",
      "0: 640x640 5 inculsions, 24.8ms\n",
      "Speed: 3.9ms preprocess, 24.8ms inference, 4.1ms postprocess per image at shape (1, 3, 640, 640)\n"
     ]
    },
    {
     "name": "stderr",
     "output_type": "stream",
     "text": [
      "Processing:  26%|█████████████████                                                  | 460/1800 [01:57<09:51,  2.27it/s]"
     ]
    },
    {
     "name": "stdout",
     "output_type": "stream",
     "text": [
      "\n",
      "0: 640x640 5 inculsions, 17.6ms\n",
      "Speed: 5.4ms preprocess, 17.6ms inference, 2.7ms postprocess per image at shape (1, 3, 640, 640)\n"
     ]
    },
    {
     "name": "stderr",
     "output_type": "stream",
     "text": [
      "Processing:  26%|█████████████████▏                                                 | 461/1800 [01:57<09:22,  2.38it/s]"
     ]
    },
    {
     "name": "stdout",
     "output_type": "stream",
     "text": [
      "\n",
      "0: 640x640 7 inculsions, 18.0ms\n",
      "Speed: 5.8ms preprocess, 18.0ms inference, 3.8ms postprocess per image at shape (1, 3, 640, 640)\n"
     ]
    },
    {
     "name": "stderr",
     "output_type": "stream",
     "text": [
      "Processing:  26%|█████████████████▏                                                 | 462/1800 [01:58<10:03,  2.22it/s]"
     ]
    },
    {
     "name": "stdout",
     "output_type": "stream",
     "text": [
      "\n",
      "0: 640x640 3 inculsions, 16.5ms\n",
      "Speed: 5.9ms preprocess, 16.5ms inference, 3.9ms postprocess per image at shape (1, 3, 640, 640)\n"
     ]
    },
    {
     "name": "stderr",
     "output_type": "stream",
     "text": [
      "Processing:  26%|█████████████████▏                                                 | 463/1800 [01:58<08:30,  2.62it/s]"
     ]
    },
    {
     "name": "stdout",
     "output_type": "stream",
     "text": [
      "\n",
      "0: 640x640 3 inculsions, 15.0ms\n",
      "Speed: 5.3ms preprocess, 15.0ms inference, 3.8ms postprocess per image at shape (1, 3, 640, 640)\n"
     ]
    },
    {
     "name": "stderr",
     "output_type": "stream",
     "text": [
      "Processing:  26%|█████████████████▎                                                 | 464/1800 [01:58<07:30,  2.97it/s]"
     ]
    },
    {
     "name": "stdout",
     "output_type": "stream",
     "text": [
      "\n",
      "0: 640x640 2 inculsions, 17.5ms\n",
      "Speed: 5.6ms preprocess, 17.5ms inference, 3.1ms postprocess per image at shape (1, 3, 640, 640)\n"
     ]
    },
    {
     "name": "stderr",
     "output_type": "stream",
     "text": [
      "Processing:  26%|█████████████████▎                                                 | 465/1800 [01:58<06:23,  3.48it/s]"
     ]
    },
    {
     "name": "stdout",
     "output_type": "stream",
     "text": [
      "\n",
      "0: 640x640 4 inculsions, 20.9ms\n",
      "Speed: 5.5ms preprocess, 20.9ms inference, 4.9ms postprocess per image at shape (1, 3, 640, 640)\n"
     ]
    },
    {
     "name": "stderr",
     "output_type": "stream",
     "text": [
      "Processing:  26%|█████████████████▎                                                 | 466/1800 [01:59<06:36,  3.37it/s]"
     ]
    },
    {
     "name": "stdout",
     "output_type": "stream",
     "text": [
      "\n",
      "0: 640x640 2 inculsions, 20.3ms\n",
      "Speed: 6.3ms preprocess, 20.3ms inference, 3.5ms postprocess per image at shape (1, 3, 640, 640)\n"
     ]
    },
    {
     "name": "stderr",
     "output_type": "stream",
     "text": [
      "Processing:  26%|█████████████████▍                                                 | 467/1800 [01:59<05:48,  3.83it/s]"
     ]
    },
    {
     "name": "stdout",
     "output_type": "stream",
     "text": [
      "\n",
      "0: 640x640 6 inculsions, 18.6ms\n",
      "Speed: 6.8ms preprocess, 18.6ms inference, 3.5ms postprocess per image at shape (1, 3, 640, 640)\n"
     ]
    },
    {
     "name": "stderr",
     "output_type": "stream",
     "text": [
      "Processing:  26%|█████████████████▍                                                 | 468/1800 [01:59<07:06,  3.13it/s]"
     ]
    },
    {
     "name": "stdout",
     "output_type": "stream",
     "text": [
      "\n",
      "0: 640x640 1 inculsion, 17.3ms\n",
      "Speed: 6.0ms preprocess, 17.3ms inference, 3.6ms postprocess per image at shape (1, 3, 640, 640)\n"
     ]
    },
    {
     "name": "stderr",
     "output_type": "stream",
     "text": [
      "Processing:  26%|█████████████████▍                                                 | 469/1800 [01:59<05:38,  3.93it/s]"
     ]
    },
    {
     "name": "stdout",
     "output_type": "stream",
     "text": [
      "\n",
      "0: 640x640 3 inculsions, 18.2ms\n",
      "Speed: 4.9ms preprocess, 18.2ms inference, 3.4ms postprocess per image at shape (1, 3, 640, 640)\n"
     ]
    },
    {
     "name": "stderr",
     "output_type": "stream",
     "text": [
      "Processing:  26%|█████████████████▍                                                 | 470/1800 [02:00<05:28,  4.05it/s]"
     ]
    },
    {
     "name": "stdout",
     "output_type": "stream",
     "text": [
      "\n",
      "0: 640x640 2 inculsions, 16.9ms\n",
      "Speed: 6.2ms preprocess, 16.9ms inference, 2.4ms postprocess per image at shape (1, 3, 640, 640)\n"
     ]
    },
    {
     "name": "stderr",
     "output_type": "stream",
     "text": [
      "Processing:  26%|█████████████████▌                                                 | 471/1800 [02:00<05:00,  4.43it/s]"
     ]
    },
    {
     "name": "stdout",
     "output_type": "stream",
     "text": [
      "\n",
      "0: 640x640 2 inculsions, 18.7ms\n",
      "Speed: 6.1ms preprocess, 18.7ms inference, 3.5ms postprocess per image at shape (1, 3, 640, 640)\n"
     ]
    },
    {
     "name": "stderr",
     "output_type": "stream",
     "text": [
      "Processing:  26%|█████████████████▌                                                 | 472/1800 [02:00<04:35,  4.83it/s]"
     ]
    },
    {
     "name": "stdout",
     "output_type": "stream",
     "text": [
      "\n",
      "0: 640x640 1 inculsion, 16.3ms\n",
      "Speed: 4.1ms preprocess, 16.3ms inference, 4.0ms postprocess per image at shape (1, 3, 640, 640)\n"
     ]
    },
    {
     "name": "stderr",
     "output_type": "stream",
     "text": [
      "Processing:  26%|█████████████████▌                                                 | 473/1800 [02:00<03:53,  5.69it/s]"
     ]
    },
    {
     "name": "stdout",
     "output_type": "stream",
     "text": [
      "\n",
      "0: 640x640 2 inculsions, 20.9ms\n",
      "Speed: 6.5ms preprocess, 20.9ms inference, 3.5ms postprocess per image at shape (1, 3, 640, 640)\n"
     ]
    },
    {
     "name": "stderr",
     "output_type": "stream",
     "text": [
      "Processing:  26%|█████████████████▋                                                 | 474/1800 [02:00<03:54,  5.66it/s]"
     ]
    },
    {
     "name": "stdout",
     "output_type": "stream",
     "text": [
      "\n",
      "0: 640x640 3 inculsions, 16.2ms\n",
      "Speed: 6.1ms preprocess, 16.2ms inference, 3.7ms postprocess per image at shape (1, 3, 640, 640)\n"
     ]
    },
    {
     "name": "stderr",
     "output_type": "stream",
     "text": [
      "Processing:  26%|█████████████████▋                                                 | 475/1800 [02:01<04:45,  4.65it/s]"
     ]
    },
    {
     "name": "stdout",
     "output_type": "stream",
     "text": [
      "\n",
      "0: 640x640 2 inculsions, 23.7ms\n",
      "Speed: 6.9ms preprocess, 23.7ms inference, 3.8ms postprocess per image at shape (1, 3, 640, 640)\n"
     ]
    },
    {
     "name": "stderr",
     "output_type": "stream",
     "text": [
      "Processing:  26%|█████████████████▋                                                 | 476/1800 [02:01<04:32,  4.85it/s]"
     ]
    },
    {
     "name": "stdout",
     "output_type": "stream",
     "text": [
      "\n",
      "0: 640x640 2 inculsions, 13.8ms\n",
      "Speed: 5.9ms preprocess, 13.8ms inference, 3.0ms postprocess per image at shape (1, 3, 640, 640)\n"
     ]
    },
    {
     "name": "stderr",
     "output_type": "stream",
     "text": [
      "Processing:  26%|█████████████████▊                                                 | 477/1800 [02:01<04:15,  5.17it/s]"
     ]
    },
    {
     "name": "stdout",
     "output_type": "stream",
     "text": [
      "\n",
      "0: 640x640 2 inculsions, 21.4ms\n",
      "Speed: 5.1ms preprocess, 21.4ms inference, 2.9ms postprocess per image at shape (1, 3, 640, 640)\n"
     ]
    },
    {
     "name": "stderr",
     "output_type": "stream",
     "text": [
      "Processing:  27%|█████████████████▊                                                 | 478/1800 [02:01<04:02,  5.45it/s]"
     ]
    },
    {
     "name": "stdout",
     "output_type": "stream",
     "text": [
      "\n",
      "0: 640x640 6 inculsions, 23.8ms\n",
      "Speed: 9.1ms preprocess, 23.8ms inference, 3.6ms postprocess per image at shape (1, 3, 640, 640)\n"
     ]
    },
    {
     "name": "stderr",
     "output_type": "stream",
     "text": [
      "Processing:  27%|█████████████████▊                                                 | 479/1800 [02:02<05:54,  3.73it/s]"
     ]
    },
    {
     "name": "stdout",
     "output_type": "stream",
     "text": [
      "\n",
      "0: 640x640 2 inculsions, 13.4ms\n",
      "Speed: 5.2ms preprocess, 13.4ms inference, 4.0ms postprocess per image at shape (1, 3, 640, 640)\n"
     ]
    },
    {
     "name": "stderr",
     "output_type": "stream",
     "text": [
      "Processing:  27%|█████████████████▊                                                 | 480/1800 [02:02<05:13,  4.21it/s]"
     ]
    },
    {
     "name": "stdout",
     "output_type": "stream",
     "text": [
      "\n",
      "0: 640x640 3 inculsions, 19.1ms\n",
      "Speed: 6.4ms preprocess, 19.1ms inference, 3.5ms postprocess per image at shape (1, 3, 640, 640)\n"
     ]
    },
    {
     "name": "stderr",
     "output_type": "stream",
     "text": [
      "Processing:  27%|█████████████████▉                                                 | 481/1800 [02:02<05:18,  4.14it/s]"
     ]
    },
    {
     "name": "stdout",
     "output_type": "stream",
     "text": [
      "\n",
      "0: 640x640 2 inculsions, 22.6ms\n",
      "Speed: 5.8ms preprocess, 22.6ms inference, 2.7ms postprocess per image at shape (1, 3, 640, 640)\n"
     ]
    },
    {
     "name": "stderr",
     "output_type": "stream",
     "text": [
      "Processing:  27%|█████████████████▉                                                 | 482/1800 [02:02<04:47,  4.58it/s]"
     ]
    },
    {
     "name": "stdout",
     "output_type": "stream",
     "text": [
      "\n",
      "0: 640x640 1 inculsion, 14.2ms\n",
      "Speed: 5.1ms preprocess, 14.2ms inference, 3.6ms postprocess per image at shape (1, 3, 640, 640)\n"
     ]
    },
    {
     "name": "stderr",
     "output_type": "stream",
     "text": [
      "Processing:  27%|█████████████████▉                                                 | 483/1800 [02:02<04:06,  5.35it/s]"
     ]
    },
    {
     "name": "stdout",
     "output_type": "stream",
     "text": [
      "\n",
      "0: 640x640 2 inculsions, 16.0ms\n",
      "Speed: 6.2ms preprocess, 16.0ms inference, 3.4ms postprocess per image at shape (1, 3, 640, 640)\n"
     ]
    },
    {
     "name": "stderr",
     "output_type": "stream",
     "text": [
      "Processing:  27%|██████████████████                                                 | 484/1800 [02:02<04:04,  5.37it/s]"
     ]
    },
    {
     "name": "stdout",
     "output_type": "stream",
     "text": [
      "\n",
      "0: 640x640 4 inculsions, 15.3ms\n",
      "Speed: 5.0ms preprocess, 15.3ms inference, 3.2ms postprocess per image at shape (1, 3, 640, 640)\n"
     ]
    },
    {
     "name": "stderr",
     "output_type": "stream",
     "text": [
      "Processing:  27%|██████████████████                                                 | 485/1800 [02:03<04:59,  4.40it/s]"
     ]
    },
    {
     "name": "stdout",
     "output_type": "stream",
     "text": [
      "\n",
      "0: 640x640 2 inculsions, 17.1ms\n",
      "Speed: 6.4ms preprocess, 17.1ms inference, 3.0ms postprocess per image at shape (1, 3, 640, 640)\n"
     ]
    },
    {
     "name": "stderr",
     "output_type": "stream",
     "text": [
      "Processing:  27%|██████████████████                                                 | 486/1800 [02:03<04:33,  4.80it/s]"
     ]
    },
    {
     "name": "stdout",
     "output_type": "stream",
     "text": [
      "\n",
      "0: 640x640 4 inculsions, 18.9ms\n",
      "Speed: 6.3ms preprocess, 18.9ms inference, 3.9ms postprocess per image at shape (1, 3, 640, 640)\n"
     ]
    },
    {
     "name": "stderr",
     "output_type": "stream",
     "text": [
      "Processing:  27%|██████████████████▏                                                | 487/1800 [02:03<05:13,  4.19it/s]"
     ]
    },
    {
     "name": "stdout",
     "output_type": "stream",
     "text": [
      "\n",
      "0: 640x640 2 inculsions, 23.0ms\n",
      "Speed: 6.8ms preprocess, 23.0ms inference, 4.9ms postprocess per image at shape (1, 3, 640, 640)\n"
     ]
    },
    {
     "name": "stderr",
     "output_type": "stream",
     "text": [
      "Processing:  27%|██████████████████▏                                                | 488/1800 [02:03<04:44,  4.61it/s]"
     ]
    },
    {
     "name": "stdout",
     "output_type": "stream",
     "text": [
      "\n",
      "0: 640x640 3 inculsions, 19.1ms\n",
      "Speed: 6.2ms preprocess, 19.1ms inference, 4.0ms postprocess per image at shape (1, 3, 640, 640)\n"
     ]
    },
    {
     "name": "stderr",
     "output_type": "stream",
     "text": [
      "Processing:  27%|██████████████████▏                                                | 489/1800 [02:04<04:55,  4.44it/s]"
     ]
    },
    {
     "name": "stdout",
     "output_type": "stream",
     "text": [
      "\n",
      "0: 640x640 14 inculsions, 14.5ms\n",
      "Speed: 5.0ms preprocess, 14.5ms inference, 3.8ms postprocess per image at shape (1, 3, 640, 640)\n"
     ]
    },
    {
     "name": "stderr",
     "output_type": "stream",
     "text": [
      "Processing:  27%|██████████████████▏                                                | 490/1800 [02:05<10:46,  2.03it/s]"
     ]
    },
    {
     "name": "stdout",
     "output_type": "stream",
     "text": [
      "\n",
      "0: 640x640 1 inculsion, 18.1ms\n",
      "Speed: 5.7ms preprocess, 18.1ms inference, 2.8ms postprocess per image at shape (1, 3, 640, 640)\n"
     ]
    },
    {
     "name": "stderr",
     "output_type": "stream",
     "text": [
      "Processing:  27%|██████████████████▎                                                | 491/1800 [02:05<08:13,  2.65it/s]"
     ]
    },
    {
     "name": "stdout",
     "output_type": "stream",
     "text": [
      "\n",
      "0: 640x640 7 inculsions, 16.3ms\n",
      "Speed: 5.4ms preprocess, 16.3ms inference, 2.6ms postprocess per image at shape (1, 3, 640, 640)\n"
     ]
    },
    {
     "name": "stderr",
     "output_type": "stream",
     "text": [
      "Processing:  27%|██████████████████▎                                                | 492/1800 [02:05<09:10,  2.38it/s]"
     ]
    },
    {
     "name": "stdout",
     "output_type": "stream",
     "text": [
      "\n",
      "0: 640x640 4 inculsions, 1 scratches, 18.3ms\n",
      "Speed: 5.2ms preprocess, 18.3ms inference, 3.7ms postprocess per image at shape (1, 3, 640, 640)\n"
     ]
    },
    {
     "name": "stderr",
     "output_type": "stream",
     "text": [
      "Processing:  27%|██████████████████▎                                                | 493/1800 [02:06<08:49,  2.47it/s]"
     ]
    },
    {
     "name": "stdout",
     "output_type": "stream",
     "text": [
      "\n",
      "0: 640x640 2 inculsions, 2 scratchess, 13.1ms\n",
      "Speed: 4.5ms preprocess, 13.1ms inference, 3.1ms postprocess per image at shape (1, 3, 640, 640)\n"
     ]
    },
    {
     "name": "stderr",
     "output_type": "stream",
     "text": [
      "Processing:  27%|██████████████████▍                                                | 494/1800 [02:06<08:12,  2.65it/s]"
     ]
    },
    {
     "name": "stdout",
     "output_type": "stream",
     "text": [
      "\n",
      "0: 640x640 4 inculsions, 16.9ms\n",
      "Speed: 4.5ms preprocess, 16.9ms inference, 3.1ms postprocess per image at shape (1, 3, 640, 640)\n"
     ]
    },
    {
     "name": "stderr",
     "output_type": "stream",
     "text": [
      "Processing:  28%|██████████████████▍                                                | 495/1800 [02:06<07:44,  2.81it/s]"
     ]
    },
    {
     "name": "stdout",
     "output_type": "stream",
     "text": [
      "\n",
      "0: 640x640 6 inculsions, 15.4ms\n",
      "Speed: 5.3ms preprocess, 15.4ms inference, 3.4ms postprocess per image at shape (1, 3, 640, 640)\n"
     ]
    },
    {
     "name": "stderr",
     "output_type": "stream",
     "text": [
      "Processing:  28%|██████████████████▍                                                | 496/1800 [02:07<08:37,  2.52it/s]"
     ]
    },
    {
     "name": "stdout",
     "output_type": "stream",
     "text": [
      "\n",
      "0: 640x640 2 inculsions, 21.8ms\n",
      "Speed: 5.8ms preprocess, 21.8ms inference, 4.8ms postprocess per image at shape (1, 3, 640, 640)\n"
     ]
    },
    {
     "name": "stderr",
     "output_type": "stream",
     "text": [
      "Processing:  28%|██████████████████▍                                                | 497/1800 [02:07<07:13,  3.00it/s]"
     ]
    },
    {
     "name": "stdout",
     "output_type": "stream",
     "text": [
      "\n",
      "0: 640x640 2 inculsions, 14.9ms\n",
      "Speed: 7.4ms preprocess, 14.9ms inference, 2.9ms postprocess per image at shape (1, 3, 640, 640)\n"
     ]
    },
    {
     "name": "stderr",
     "output_type": "stream",
     "text": [
      "Processing:  28%|██████████████████▌                                                | 498/1800 [02:07<06:11,  3.51it/s]"
     ]
    },
    {
     "name": "stdout",
     "output_type": "stream",
     "text": [
      "\n",
      "0: 640x640 4 inculsions, 18.6ms\n",
      "Speed: 6.0ms preprocess, 18.6ms inference, 2.8ms postprocess per image at shape (1, 3, 640, 640)\n"
     ]
    },
    {
     "name": "stderr",
     "output_type": "stream",
     "text": [
      "Processing:  28%|██████████████████▌                                                | 499/1800 [02:08<06:20,  3.42it/s]"
     ]
    },
    {
     "name": "stdout",
     "output_type": "stream",
     "text": [
      "\n",
      "0: 640x640 1 inculsion, 26.9ms\n",
      "Speed: 5.5ms preprocess, 26.9ms inference, 4.2ms postprocess per image at shape (1, 3, 640, 640)\n"
     ]
    },
    {
     "name": "stderr",
     "output_type": "stream",
     "text": [
      "Processing:  28%|██████████████████▌                                                | 500/1800 [02:08<05:09,  4.20it/s]"
     ]
    },
    {
     "name": "stdout",
     "output_type": "stream",
     "text": [
      "\n",
      "0: 640x640 10 inculsions, 14.1ms\n",
      "Speed: 5.0ms preprocess, 14.1ms inference, 3.0ms postprocess per image at shape (1, 3, 640, 640)\n"
     ]
    },
    {
     "name": "stderr",
     "output_type": "stream",
     "text": [
      "Processing:  28%|██████████████████▋                                                | 501/1800 [02:08<08:28,  2.55it/s]"
     ]
    },
    {
     "name": "stdout",
     "output_type": "stream",
     "text": [
      "\n",
      "0: 640x640 1 inculsion, 96.0ms\n",
      "Speed: 6.9ms preprocess, 96.0ms inference, 16.0ms postprocess per image at shape (1, 3, 640, 640)\n"
     ]
    },
    {
     "name": "stderr",
     "output_type": "stream",
     "text": [
      "Processing:  28%|██████████████████▋                                                | 502/1800 [02:09<07:32,  2.87it/s]"
     ]
    },
    {
     "name": "stdout",
     "output_type": "stream",
     "text": [
      "\n",
      "0: 640x640 2 inculsions, 18.7ms\n",
      "Speed: 5.4ms preprocess, 18.7ms inference, 3.4ms postprocess per image at shape (1, 3, 640, 640)\n"
     ]
    },
    {
     "name": "stderr",
     "output_type": "stream",
     "text": [
      "Processing:  28%|██████████████████▋                                                | 503/1800 [02:09<06:31,  3.31it/s]"
     ]
    },
    {
     "name": "stdout",
     "output_type": "stream",
     "text": [
      "\n",
      "0: 640x640 2 inculsions, 18.0ms\n",
      "Speed: 5.5ms preprocess, 18.0ms inference, 3.7ms postprocess per image at shape (1, 3, 640, 640)\n"
     ]
    },
    {
     "name": "stderr",
     "output_type": "stream",
     "text": [
      "Processing:  28%|██████████████████▊                                                | 504/1800 [02:09<05:39,  3.82it/s]"
     ]
    },
    {
     "name": "stdout",
     "output_type": "stream",
     "text": [
      "\n",
      "0: 640x640 1 inculsion, 20.0ms\n",
      "Speed: 5.3ms preprocess, 20.0ms inference, 4.0ms postprocess per image at shape (1, 3, 640, 640)\n",
      "\n",
      "0: 640x640 5 inculsions, 17.6ms\n",
      "Speed: 5.0ms preprocess, 17.6ms inference, 3.2ms postprocess per image at shape (1, 3, 640, 640)\n"
     ]
    },
    {
     "name": "stderr",
     "output_type": "stream",
     "text": [
      "Processing:  28%|██████████████████▊                                                | 506/1800 [02:10<05:20,  4.04it/s]"
     ]
    },
    {
     "name": "stdout",
     "output_type": "stream",
     "text": [
      "\n",
      "0: 640x640 3 inculsions, 23.4ms\n",
      "Speed: 5.0ms preprocess, 23.4ms inference, 3.4ms postprocess per image at shape (1, 3, 640, 640)\n"
     ]
    },
    {
     "name": "stderr",
     "output_type": "stream",
     "text": [
      "Processing:  28%|██████████████████▊                                                | 507/1800 [02:10<05:21,  4.02it/s]"
     ]
    },
    {
     "name": "stdout",
     "output_type": "stream",
     "text": [
      "\n",
      "0: 640x640 1 inculsion, 21.3ms\n",
      "Speed: 5.6ms preprocess, 21.3ms inference, 4.1ms postprocess per image at shape (1, 3, 640, 640)\n"
     ]
    },
    {
     "name": "stderr",
     "output_type": "stream",
     "text": [
      "Processing:  28%|██████████████████▉                                                | 508/1800 [02:10<04:34,  4.71it/s]"
     ]
    },
    {
     "name": "stdout",
     "output_type": "stream",
     "text": [
      "\n",
      "0: 640x640 7 inculsions, 13.9ms\n",
      "Speed: 5.7ms preprocess, 13.9ms inference, 3.7ms postprocess per image at shape (1, 3, 640, 640)\n"
     ]
    },
    {
     "name": "stderr",
     "output_type": "stream",
     "text": [
      "Processing:  28%|██████████████████▉                                                | 509/1800 [02:10<06:24,  3.36it/s]"
     ]
    },
    {
     "name": "stdout",
     "output_type": "stream",
     "text": [
      "\n",
      "0: 640x640 3 inculsions, 15.8ms\n",
      "Speed: 5.8ms preprocess, 15.8ms inference, 3.0ms postprocess per image at shape (1, 3, 640, 640)\n"
     ]
    },
    {
     "name": "stderr",
     "output_type": "stream",
     "text": [
      "Processing:  28%|██████████████████▉                                                | 510/1800 [02:11<06:06,  3.52it/s]"
     ]
    },
    {
     "name": "stdout",
     "output_type": "stream",
     "text": [
      "\n",
      "0: 640x640 2 inculsions, 24.0ms\n",
      "Speed: 5.6ms preprocess, 24.0ms inference, 3.7ms postprocess per image at shape (1, 3, 640, 640)\n"
     ]
    },
    {
     "name": "stderr",
     "output_type": "stream",
     "text": [
      "Processing:  28%|███████████████████                                                | 511/1800 [02:11<05:29,  3.91it/s]"
     ]
    },
    {
     "name": "stdout",
     "output_type": "stream",
     "text": [
      "\n",
      "0: 640x640 4 inculsions, 15.3ms\n",
      "Speed: 5.8ms preprocess, 15.3ms inference, 2.7ms postprocess per image at shape (1, 3, 640, 640)\n"
     ]
    },
    {
     "name": "stderr",
     "output_type": "stream",
     "text": [
      "Processing:  28%|███████████████████                                                | 512/1800 [02:11<05:48,  3.69it/s]"
     ]
    },
    {
     "name": "stdout",
     "output_type": "stream",
     "text": [
      "\n",
      "0: 640x640 1 inculsion, 13.2ms\n",
      "Speed: 6.3ms preprocess, 13.2ms inference, 3.6ms postprocess per image at shape (1, 3, 640, 640)\n"
     ]
    },
    {
     "name": "stderr",
     "output_type": "stream",
     "text": [
      "Processing:  28%|███████████████████                                                | 513/1800 [02:11<04:47,  4.47it/s]"
     ]
    },
    {
     "name": "stdout",
     "output_type": "stream",
     "text": [
      "\n",
      "0: 640x640 4 inculsions, 16.5ms\n",
      "Speed: 6.1ms preprocess, 16.5ms inference, 3.2ms postprocess per image at shape (1, 3, 640, 640)\n"
     ]
    },
    {
     "name": "stderr",
     "output_type": "stream",
     "text": [
      "Processing:  29%|███████████████████▏                                               | 514/1800 [02:12<05:16,  4.06it/s]"
     ]
    },
    {
     "name": "stdout",
     "output_type": "stream",
     "text": [
      "\n",
      "0: 640x640 10 inculsions, 11.8ms\n",
      "Speed: 5.8ms preprocess, 11.8ms inference, 2.8ms postprocess per image at shape (1, 3, 640, 640)\n"
     ]
    },
    {
     "name": "stderr",
     "output_type": "stream",
     "text": [
      "Processing:  29%|███████████████████▏                                               | 515/1800 [02:12<08:32,  2.51it/s]"
     ]
    },
    {
     "name": "stdout",
     "output_type": "stream",
     "text": [
      "\n",
      "0: 640x640 3 inculsions, 18.7ms\n",
      "Speed: 6.8ms preprocess, 18.7ms inference, 3.1ms postprocess per image at shape (1, 3, 640, 640)\n"
     ]
    },
    {
     "name": "stderr",
     "output_type": "stream",
     "text": [
      "Processing:  29%|███████████████████▏                                               | 516/1800 [02:13<08:09,  2.62it/s]"
     ]
    },
    {
     "name": "stdout",
     "output_type": "stream",
     "text": [
      "\n",
      "0: 640x640 4 inculsions, 19.1ms\n",
      "Speed: 5.8ms preprocess, 19.1ms inference, 3.7ms postprocess per image at shape (1, 3, 640, 640)\n"
     ]
    },
    {
     "name": "stderr",
     "output_type": "stream",
     "text": [
      "Processing:  29%|███████████████████▏                                               | 517/1800 [02:13<07:44,  2.76it/s]"
     ]
    },
    {
     "name": "stdout",
     "output_type": "stream",
     "text": [
      "\n",
      "0: 640x640 3 inculsions, 17.9ms\n",
      "Speed: 5.7ms preprocess, 17.9ms inference, 3.6ms postprocess per image at shape (1, 3, 640, 640)\n"
     ]
    },
    {
     "name": "stderr",
     "output_type": "stream",
     "text": [
      "Processing:  29%|███████████████████▎                                               | 518/1800 [02:13<07:07,  3.00it/s]"
     ]
    },
    {
     "name": "stdout",
     "output_type": "stream",
     "text": [
      "\n",
      "0: 640x640 1 inculsion, 14.6ms\n",
      "Speed: 5.4ms preprocess, 14.6ms inference, 3.0ms postprocess per image at shape (1, 3, 640, 640)\n",
      "\n",
      "0: 640x640 1 inculsion, 17.0ms\n",
      "Speed: 5.9ms preprocess, 17.0ms inference, 4.5ms postprocess per image at shape (1, 3, 640, 640)\n"
     ]
    },
    {
     "name": "stderr",
     "output_type": "stream",
     "text": [
      "Processing:  29%|███████████████████▎                                               | 520/1800 [02:13<04:50,  4.40it/s]"
     ]
    },
    {
     "name": "stdout",
     "output_type": "stream",
     "text": [
      "\n",
      "0: 640x640 3 inculsions, 19.2ms\n",
      "Speed: 5.9ms preprocess, 19.2ms inference, 4.1ms postprocess per image at shape (1, 3, 640, 640)\n"
     ]
    },
    {
     "name": "stderr",
     "output_type": "stream",
     "text": [
      "Processing:  29%|███████████████████▍                                               | 521/1800 [02:14<04:53,  4.36it/s]"
     ]
    },
    {
     "name": "stdout",
     "output_type": "stream",
     "text": [
      "\n",
      "0: 640x640 3 inculsions, 20.2ms\n",
      "Speed: 8.0ms preprocess, 20.2ms inference, 2.5ms postprocess per image at shape (1, 3, 640, 640)\n"
     ]
    },
    {
     "name": "stderr",
     "output_type": "stream",
     "text": [
      "Processing:  29%|███████████████████▍                                               | 522/1800 [02:14<04:54,  4.34it/s]"
     ]
    },
    {
     "name": "stdout",
     "output_type": "stream",
     "text": [
      "\n",
      "0: 640x640 3 inculsions, 18.3ms\n",
      "Speed: 5.1ms preprocess, 18.3ms inference, 3.0ms postprocess per image at shape (1, 3, 640, 640)\n"
     ]
    },
    {
     "name": "stderr",
     "output_type": "stream",
     "text": [
      "Processing:  29%|███████████████████▍                                               | 523/1800 [02:14<04:55,  4.32it/s]"
     ]
    },
    {
     "name": "stdout",
     "output_type": "stream",
     "text": [
      "\n",
      "0: 640x640 2 inculsions, 12.9ms\n",
      "Speed: 7.5ms preprocess, 12.9ms inference, 2.7ms postprocess per image at shape (1, 3, 640, 640)\n"
     ]
    },
    {
     "name": "stderr",
     "output_type": "stream",
     "text": [
      "Processing:  29%|███████████████████▌                                               | 524/1800 [02:14<04:38,  4.57it/s]"
     ]
    },
    {
     "name": "stdout",
     "output_type": "stream",
     "text": [
      "\n",
      "0: 640x640 6 inculsions, 18.8ms\n",
      "Speed: 5.6ms preprocess, 18.8ms inference, 3.7ms postprocess per image at shape (1, 3, 640, 640)\n"
     ]
    },
    {
     "name": "stderr",
     "output_type": "stream",
     "text": [
      "Processing:  29%|███████████████████▌                                               | 525/1800 [02:15<06:03,  3.51it/s]"
     ]
    },
    {
     "name": "stdout",
     "output_type": "stream",
     "text": [
      "\n",
      "0: 640x640 8 inculsions, 13.6ms\n",
      "Speed: 5.5ms preprocess, 13.6ms inference, 3.1ms postprocess per image at shape (1, 3, 640, 640)\n"
     ]
    },
    {
     "name": "stderr",
     "output_type": "stream",
     "text": [
      "Processing:  29%|███████████████████▌                                               | 526/1800 [02:15<08:27,  2.51it/s]"
     ]
    },
    {
     "name": "stdout",
     "output_type": "stream",
     "text": [
      "\n",
      "0: 640x640 8 inculsions, 17.8ms\n",
      "Speed: 5.1ms preprocess, 17.8ms inference, 3.3ms postprocess per image at shape (1, 3, 640, 640)\n"
     ]
    },
    {
     "name": "stderr",
     "output_type": "stream",
     "text": [
      "Processing:  29%|███████████████████▌                                               | 527/1800 [02:16<09:44,  2.18it/s]"
     ]
    },
    {
     "name": "stdout",
     "output_type": "stream",
     "text": [
      "\n",
      "0: 640x640 5 inculsions, 16.6ms\n",
      "Speed: 4.8ms preprocess, 16.6ms inference, 3.3ms postprocess per image at shape (1, 3, 640, 640)\n"
     ]
    },
    {
     "name": "stderr",
     "output_type": "stream",
     "text": [
      "Processing:  29%|███████████████████▋                                               | 528/1800 [02:16<09:22,  2.26it/s]"
     ]
    },
    {
     "name": "stdout",
     "output_type": "stream",
     "text": [
      "\n",
      "0: 640x640 4 inculsions, 19.9ms\n",
      "Speed: 6.2ms preprocess, 19.9ms inference, 6.1ms postprocess per image at shape (1, 3, 640, 640)\n"
     ]
    },
    {
     "name": "stderr",
     "output_type": "stream",
     "text": [
      "Processing:  29%|███████████████████▋                                               | 529/1800 [02:17<08:37,  2.45it/s]"
     ]
    },
    {
     "name": "stdout",
     "output_type": "stream",
     "text": [
      "\n",
      "0: 640x640 2 inculsions, 15.1ms\n",
      "Speed: 5.1ms preprocess, 15.1ms inference, 2.9ms postprocess per image at shape (1, 3, 640, 640)\n"
     ]
    },
    {
     "name": "stderr",
     "output_type": "stream",
     "text": [
      "Processing:  29%|███████████████████▋                                               | 530/1800 [02:17<07:01,  3.01it/s]"
     ]
    },
    {
     "name": "stdout",
     "output_type": "stream",
     "text": [
      "\n",
      "0: 640x640 4 inculsions, 17.4ms\n",
      "Speed: 6.9ms preprocess, 17.4ms inference, 2.9ms postprocess per image at shape (1, 3, 640, 640)\n"
     ]
    },
    {
     "name": "stderr",
     "output_type": "stream",
     "text": [
      "Processing:  30%|███████████████████▊                                               | 531/1800 [02:17<07:00,  3.02it/s]"
     ]
    },
    {
     "name": "stdout",
     "output_type": "stream",
     "text": [
      "\n",
      "0: 640x640 5 inculsions, 15.7ms\n",
      "Speed: 5.5ms preprocess, 15.7ms inference, 3.2ms postprocess per image at shape (1, 3, 640, 640)\n"
     ]
    },
    {
     "name": "stderr",
     "output_type": "stream",
     "text": [
      "Processing:  30%|███████████████████▊                                               | 532/1800 [02:18<07:22,  2.86it/s]"
     ]
    },
    {
     "name": "stdout",
     "output_type": "stream",
     "text": [
      "\n",
      "0: 640x640 5 inculsions, 16.6ms\n",
      "Speed: 6.9ms preprocess, 16.6ms inference, 3.7ms postprocess per image at shape (1, 3, 640, 640)\n"
     ]
    },
    {
     "name": "stderr",
     "output_type": "stream",
     "text": [
      "Processing:  30%|███████████████████▊                                               | 533/1800 [02:18<08:16,  2.55it/s]"
     ]
    },
    {
     "name": "stdout",
     "output_type": "stream",
     "text": [
      "\n",
      "0: 640x640 4 inculsions, 17.5ms\n",
      "Speed: 5.7ms preprocess, 17.5ms inference, 3.7ms postprocess per image at shape (1, 3, 640, 640)\n"
     ]
    },
    {
     "name": "stderr",
     "output_type": "stream",
     "text": [
      "Processing:  30%|███████████████████▉                                               | 534/1800 [02:18<07:44,  2.73it/s]"
     ]
    },
    {
     "name": "stdout",
     "output_type": "stream",
     "text": [
      "\n",
      "0: 640x640 2 inculsions, 16.3ms\n",
      "Speed: 5.7ms preprocess, 16.3ms inference, 3.3ms postprocess per image at shape (1, 3, 640, 640)\n"
     ]
    },
    {
     "name": "stderr",
     "output_type": "stream",
     "text": [
      "Processing:  30%|███████████████████▉                                               | 535/1800 [02:19<06:31,  3.23it/s]"
     ]
    },
    {
     "name": "stdout",
     "output_type": "stream",
     "text": [
      "\n",
      "0: 640x640 5 inculsions, 15.9ms\n",
      "Speed: 5.8ms preprocess, 15.9ms inference, 3.2ms postprocess per image at shape (1, 3, 640, 640)\n"
     ]
    },
    {
     "name": "stderr",
     "output_type": "stream",
     "text": [
      "Processing:  30%|███████████████████▉                                               | 536/1800 [02:19<06:57,  3.03it/s]"
     ]
    },
    {
     "name": "stdout",
     "output_type": "stream",
     "text": [
      "\n",
      "0: 640x640 5 inculsions, 17.0ms\n",
      "Speed: 6.4ms preprocess, 17.0ms inference, 5.5ms postprocess per image at shape (1, 3, 640, 640)\n"
     ]
    },
    {
     "name": "stderr",
     "output_type": "stream",
     "text": [
      "Processing:  30%|███████████████████▉                                               | 537/1800 [02:19<07:22,  2.85it/s]"
     ]
    },
    {
     "name": "stdout",
     "output_type": "stream",
     "text": [
      "\n",
      "0: 640x640 6 inculsions, 18.1ms\n",
      "Speed: 5.3ms preprocess, 18.1ms inference, 3.5ms postprocess per image at shape (1, 3, 640, 640)\n"
     ]
    },
    {
     "name": "stderr",
     "output_type": "stream",
     "text": [
      "Processing:  30%|████████████████████                                               | 538/1800 [02:20<07:57,  2.64it/s]"
     ]
    },
    {
     "name": "stdout",
     "output_type": "stream",
     "text": [
      "\n",
      "0: 640x640 8 inculsions, 16.3ms\n",
      "Speed: 6.3ms preprocess, 16.3ms inference, 8.5ms postprocess per image at shape (1, 3, 640, 640)\n"
     ]
    },
    {
     "name": "stderr",
     "output_type": "stream",
     "text": [
      "Processing:  30%|████████████████████                                               | 539/1800 [02:21<10:05,  2.08it/s]"
     ]
    },
    {
     "name": "stdout",
     "output_type": "stream",
     "text": [
      "\n",
      "0: 640x640 7 inculsions, 15.8ms\n",
      "Speed: 5.5ms preprocess, 15.8ms inference, 4.0ms postprocess per image at shape (1, 3, 640, 640)\n"
     ]
    },
    {
     "name": "stderr",
     "output_type": "stream",
     "text": [
      "Processing:  30%|████████████████████                                               | 540/1800 [02:21<10:28,  2.01it/s]"
     ]
    },
    {
     "name": "stdout",
     "output_type": "stream",
     "text": [
      "\n",
      "0: 640x640 7 inculsions, 15.2ms\n",
      "Speed: 5.5ms preprocess, 15.2ms inference, 2.9ms postprocess per image at shape (1, 3, 640, 640)\n"
     ]
    },
    {
     "name": "stderr",
     "output_type": "stream",
     "text": [
      "Processing:  30%|████████████████████▏                                              | 541/1800 [02:22<10:43,  1.96it/s]"
     ]
    },
    {
     "name": "stdout",
     "output_type": "stream",
     "text": [
      "\n",
      "0: 640x640 3 inculsions, 17.0ms\n",
      "Speed: 4.1ms preprocess, 17.0ms inference, 3.4ms postprocess per image at shape (1, 3, 640, 640)\n"
     ]
    },
    {
     "name": "stderr",
     "output_type": "stream",
     "text": [
      "Processing:  30%|████████████████████▏                                              | 542/1800 [02:22<09:00,  2.33it/s]"
     ]
    },
    {
     "name": "stdout",
     "output_type": "stream",
     "text": [
      "\n",
      "0: 640x640 2 inculsions, 17.7ms\n",
      "Speed: 7.2ms preprocess, 17.7ms inference, 4.2ms postprocess per image at shape (1, 3, 640, 640)\n"
     ]
    },
    {
     "name": "stderr",
     "output_type": "stream",
     "text": [
      "Processing:  30%|████████████████████▏                                              | 543/1800 [02:22<07:24,  2.83it/s]"
     ]
    },
    {
     "name": "stdout",
     "output_type": "stream",
     "text": [
      "\n",
      "0: 640x640 2 inculsions, 14.6ms\n",
      "Speed: 3.8ms preprocess, 14.6ms inference, 5.3ms postprocess per image at shape (1, 3, 640, 640)\n"
     ]
    },
    {
     "name": "stderr",
     "output_type": "stream",
     "text": [
      "Processing:  30%|████████████████████▏                                              | 544/1800 [02:22<06:20,  3.30it/s]"
     ]
    },
    {
     "name": "stdout",
     "output_type": "stream",
     "text": [
      "\n",
      "0: 640x640 2 inculsions, 15.8ms\n",
      "Speed: 5.7ms preprocess, 15.8ms inference, 3.1ms postprocess per image at shape (1, 3, 640, 640)\n"
     ]
    },
    {
     "name": "stderr",
     "output_type": "stream",
     "text": [
      "Processing:  30%|████████████████████▎                                              | 545/1800 [02:22<05:35,  3.74it/s]"
     ]
    },
    {
     "name": "stdout",
     "output_type": "stream",
     "text": [
      "\n",
      "0: 640x640 4 inculsions, 15.9ms\n",
      "Speed: 5.8ms preprocess, 15.9ms inference, 3.9ms postprocess per image at shape (1, 3, 640, 640)\n"
     ]
    },
    {
     "name": "stderr",
     "output_type": "stream",
     "text": [
      "Processing:  30%|████████████████████▎                                              | 546/1800 [02:23<05:51,  3.57it/s]"
     ]
    },
    {
     "name": "stdout",
     "output_type": "stream",
     "text": [
      "\n",
      "0: 640x640 2 inculsions, 14.7ms\n",
      "Speed: 5.8ms preprocess, 14.7ms inference, 2.9ms postprocess per image at shape (1, 3, 640, 640)\n"
     ]
    },
    {
     "name": "stderr",
     "output_type": "stream",
     "text": [
      "Processing:  30%|████████████████████▎                                              | 547/1800 [02:23<05:03,  4.12it/s]"
     ]
    },
    {
     "name": "stdout",
     "output_type": "stream",
     "text": [
      "\n",
      "0: 640x640 1 inculsion, 18.2ms\n",
      "Speed: 6.0ms preprocess, 18.2ms inference, 3.2ms postprocess per image at shape (1, 3, 640, 640)\n"
     ]
    },
    {
     "name": "stderr",
     "output_type": "stream",
     "text": [
      "Processing:  30%|████████████████████▍                                              | 548/1800 [02:23<04:11,  4.98it/s]"
     ]
    },
    {
     "name": "stdout",
     "output_type": "stream",
     "text": [
      "\n",
      "0: 640x640 2 inculsions, 16.2ms\n",
      "Speed: 5.6ms preprocess, 16.2ms inference, 3.2ms postprocess per image at shape (1, 3, 640, 640)\n"
     ]
    },
    {
     "name": "stderr",
     "output_type": "stream",
     "text": [
      "Processing:  30%|████████████████████▍                                              | 549/1800 [02:23<04:01,  5.19it/s]"
     ]
    },
    {
     "name": "stdout",
     "output_type": "stream",
     "text": [
      "\n",
      "0: 640x640 2 inculsions, 14.5ms\n",
      "Speed: 4.2ms preprocess, 14.5ms inference, 3.2ms postprocess per image at shape (1, 3, 640, 640)\n"
     ]
    },
    {
     "name": "stderr",
     "output_type": "stream",
     "text": [
      "Processing:  31%|████████████████████▍                                              | 550/1800 [02:23<03:46,  5.53it/s]"
     ]
    },
    {
     "name": "stdout",
     "output_type": "stream",
     "text": [
      "\n",
      "0: 640x640 3 inculsions, 23.5ms\n",
      "Speed: 5.4ms preprocess, 23.5ms inference, 3.4ms postprocess per image at shape (1, 3, 640, 640)\n"
     ]
    },
    {
     "name": "stderr",
     "output_type": "stream",
     "text": [
      "Processing:  31%|████████████████████▌                                              | 551/1800 [02:24<04:14,  4.90it/s]"
     ]
    },
    {
     "name": "stdout",
     "output_type": "stream",
     "text": [
      "\n",
      "0: 640x640 1 inculsion, 18.8ms\n",
      "Speed: 6.0ms preprocess, 18.8ms inference, 3.7ms postprocess per image at shape (1, 3, 640, 640)\n"
     ]
    },
    {
     "name": "stderr",
     "output_type": "stream",
     "text": [
      "Processing:  31%|████████████████████▌                                              | 552/1800 [02:24<03:36,  5.75it/s]"
     ]
    },
    {
     "name": "stdout",
     "output_type": "stream",
     "text": [
      "\n",
      "0: 640x640 2 inculsions, 15.1ms\n",
      "Speed: 6.6ms preprocess, 15.1ms inference, 3.7ms postprocess per image at shape (1, 3, 640, 640)\n"
     ]
    },
    {
     "name": "stderr",
     "output_type": "stream",
     "text": [
      "Processing:  31%|████████████████████▌                                              | 553/1800 [02:24<03:39,  5.69it/s]"
     ]
    },
    {
     "name": "stdout",
     "output_type": "stream",
     "text": [
      "\n",
      "0: 640x640 3 inculsions, 80.2ms\n",
      "Speed: 5.2ms preprocess, 80.2ms inference, 15.7ms postprocess per image at shape (1, 3, 640, 640)\n"
     ]
    },
    {
     "name": "stderr",
     "output_type": "stream",
     "text": [
      "Processing:  31%|████████████████████▌                                              | 554/1800 [02:24<04:40,  4.44it/s]"
     ]
    },
    {
     "name": "stdout",
     "output_type": "stream",
     "text": [
      "\n",
      "0: 640x640 5 inculsions, 12.2ms\n",
      "Speed: 5.2ms preprocess, 12.2ms inference, 2.9ms postprocess per image at shape (1, 3, 640, 640)\n"
     ]
    },
    {
     "name": "stderr",
     "output_type": "stream",
     "text": [
      "Processing:  31%|████████████████████▋                                              | 555/1800 [02:25<05:30,  3.77it/s]"
     ]
    },
    {
     "name": "stdout",
     "output_type": "stream",
     "text": [
      "\n",
      "0: 640x640 7 inculsions, 16.0ms\n",
      "Speed: 5.5ms preprocess, 16.0ms inference, 3.3ms postprocess per image at shape (1, 3, 640, 640)\n"
     ]
    },
    {
     "name": "stderr",
     "output_type": "stream",
     "text": [
      "Processing:  31%|████████████████████▋                                              | 556/1800 [02:25<07:06,  2.92it/s]"
     ]
    },
    {
     "name": "stdout",
     "output_type": "stream",
     "text": [
      "\n",
      "0: 640x640 3 inculsions, 18.1ms\n",
      "Speed: 3.8ms preprocess, 18.1ms inference, 2.7ms postprocess per image at shape (1, 3, 640, 640)\n"
     ]
    },
    {
     "name": "stderr",
     "output_type": "stream",
     "text": [
      "Processing:  31%|████████████████████▋                                              | 557/1800 [02:25<06:30,  3.18it/s]"
     ]
    },
    {
     "name": "stdout",
     "output_type": "stream",
     "text": [
      "\n",
      "0: 640x640 7 inculsions, 15.7ms\n",
      "Speed: 5.1ms preprocess, 15.7ms inference, 2.8ms postprocess per image at shape (1, 3, 640, 640)\n"
     ]
    },
    {
     "name": "stderr",
     "output_type": "stream",
     "text": [
      "Processing:  31%|████████████████████▊                                              | 558/1800 [02:26<07:52,  2.63it/s]"
     ]
    },
    {
     "name": "stdout",
     "output_type": "stream",
     "text": [
      "\n",
      "0: 640x640 1 inculsion, 17.4ms\n",
      "Speed: 5.9ms preprocess, 17.4ms inference, 3.3ms postprocess per image at shape (1, 3, 640, 640)\n"
     ]
    },
    {
     "name": "stderr",
     "output_type": "stream",
     "text": [
      "Processing:  31%|████████████████████▊                                              | 559/1800 [02:26<06:11,  3.34it/s]"
     ]
    },
    {
     "name": "stdout",
     "output_type": "stream",
     "text": [
      "\n",
      "0: 640x640 8 inculsions, 17.0ms\n",
      "Speed: 5.5ms preprocess, 17.0ms inference, 3.5ms postprocess per image at shape (1, 3, 640, 640)\n"
     ]
    },
    {
     "name": "stderr",
     "output_type": "stream",
     "text": [
      "Processing:  31%|████████████████████▊                                              | 560/1800 [02:27<08:08,  2.54it/s]"
     ]
    },
    {
     "name": "stdout",
     "output_type": "stream",
     "text": [
      "\n",
      "0: 640x640 3 inculsions, 15.5ms\n",
      "Speed: 5.2ms preprocess, 15.5ms inference, 3.7ms postprocess per image at shape (1, 3, 640, 640)\n"
     ]
    },
    {
     "name": "stderr",
     "output_type": "stream",
     "text": [
      "Processing:  31%|████████████████████▉                                              | 561/1800 [02:27<07:09,  2.89it/s]"
     ]
    },
    {
     "name": "stdout",
     "output_type": "stream",
     "text": [
      "\n",
      "0: 640x640 3 inculsions, 19.8ms\n",
      "Speed: 4.8ms preprocess, 19.8ms inference, 3.9ms postprocess per image at shape (1, 3, 640, 640)\n"
     ]
    },
    {
     "name": "stderr",
     "output_type": "stream",
     "text": [
      "Processing:  31%|████████████████████▉                                              | 562/1800 [02:27<06:27,  3.19it/s]"
     ]
    },
    {
     "name": "stdout",
     "output_type": "stream",
     "text": [
      "\n",
      "0: 640x640 4 inculsions, 25.2ms\n",
      "Speed: 6.3ms preprocess, 25.2ms inference, 2.8ms postprocess per image at shape (1, 3, 640, 640)\n"
     ]
    },
    {
     "name": "stderr",
     "output_type": "stream",
     "text": [
      "Processing:  31%|████████████████████▉                                              | 563/1800 [02:27<06:28,  3.18it/s]"
     ]
    },
    {
     "name": "stdout",
     "output_type": "stream",
     "text": [
      "\n",
      "0: 640x640 3 inculsions, 16.4ms\n",
      "Speed: 5.1ms preprocess, 16.4ms inference, 3.4ms postprocess per image at shape (1, 3, 640, 640)\n"
     ]
    },
    {
     "name": "stderr",
     "output_type": "stream",
     "text": [
      "Processing:  31%|████████████████████▉                                              | 564/1800 [02:28<06:07,  3.37it/s]"
     ]
    },
    {
     "name": "stdout",
     "output_type": "stream",
     "text": [
      "\n",
      "0: 640x640 4 inculsions, 1 patches, 17.1ms\n",
      "Speed: 5.1ms preprocess, 17.1ms inference, 4.3ms postprocess per image at shape (1, 3, 640, 640)\n"
     ]
    },
    {
     "name": "stderr",
     "output_type": "stream",
     "text": [
      "Processing:  31%|█████████████████████                                              | 565/1800 [02:28<06:44,  3.05it/s]"
     ]
    },
    {
     "name": "stdout",
     "output_type": "stream",
     "text": [
      "\n",
      "0: 640x640 3 inculsions, 85.2ms\n",
      "Speed: 6.3ms preprocess, 85.2ms inference, 14.2ms postprocess per image at shape (1, 3, 640, 640)\n"
     ]
    },
    {
     "name": "stderr",
     "output_type": "stream",
     "text": [
      "Processing:  31%|█████████████████████                                              | 566/1800 [02:28<07:06,  2.89it/s]"
     ]
    },
    {
     "name": "stdout",
     "output_type": "stream",
     "text": [
      "\n",
      "0: 640x640 3 inculsions, 1 patches, 18.4ms\n",
      "Speed: 7.1ms preprocess, 18.4ms inference, 3.2ms postprocess per image at shape (1, 3, 640, 640)\n"
     ]
    },
    {
     "name": "stderr",
     "output_type": "stream",
     "text": [
      "Processing:  32%|█████████████████████                                              | 567/1800 [02:29<06:48,  3.02it/s]"
     ]
    },
    {
     "name": "stdout",
     "output_type": "stream",
     "text": [
      "\n",
      "0: 640x640 2 inculsions, 11.1ms\n",
      "Speed: 5.2ms preprocess, 11.1ms inference, 2.7ms postprocess per image at shape (1, 3, 640, 640)\n"
     ]
    },
    {
     "name": "stderr",
     "output_type": "stream",
     "text": [
      "Processing:  32%|█████████████████████▏                                             | 568/1800 [02:29<05:49,  3.53it/s]"
     ]
    },
    {
     "name": "stdout",
     "output_type": "stream",
     "text": [
      "\n",
      "0: 640x640 5 inculsions, 15.3ms\n",
      "Speed: 6.7ms preprocess, 15.3ms inference, 3.1ms postprocess per image at shape (1, 3, 640, 640)\n"
     ]
    },
    {
     "name": "stderr",
     "output_type": "stream",
     "text": [
      "Processing:  32%|█████████████████████▏                                             | 569/1800 [02:29<06:29,  3.16it/s]"
     ]
    },
    {
     "name": "stdout",
     "output_type": "stream",
     "text": [
      "\n",
      "0: 640x640 1 inculsion, 17.0ms\n",
      "Speed: 4.2ms preprocess, 17.0ms inference, 3.3ms postprocess per image at shape (1, 3, 640, 640)\n",
      "\n",
      "0: 640x640 2 inculsions, 17.4ms\n",
      "Speed: 4.7ms preprocess, 17.4ms inference, 2.7ms postprocess per image at shape (1, 3, 640, 640)\n"
     ]
    },
    {
     "name": "stderr",
     "output_type": "stream",
     "text": [
      "Processing:  32%|█████████████████████▎                                             | 571/1800 [02:30<04:43,  4.33it/s]"
     ]
    },
    {
     "name": "stdout",
     "output_type": "stream",
     "text": [
      "\n",
      "0: 640x640 3 inculsions, 18.6ms\n",
      "Speed: 5.2ms preprocess, 18.6ms inference, 3.1ms postprocess per image at shape (1, 3, 640, 640)\n"
     ]
    },
    {
     "name": "stderr",
     "output_type": "stream",
     "text": [
      "Processing:  32%|█████████████████████▎                                             | 572/1800 [02:30<04:44,  4.31it/s]"
     ]
    },
    {
     "name": "stdout",
     "output_type": "stream",
     "text": [
      "\n",
      "0: 640x640 3 inculsions, 15.3ms\n",
      "Speed: 5.8ms preprocess, 15.3ms inference, 3.1ms postprocess per image at shape (1, 3, 640, 640)\n"
     ]
    },
    {
     "name": "stderr",
     "output_type": "stream",
     "text": [
      "Processing:  32%|█████████████████████▎                                             | 573/1800 [02:30<04:41,  4.35it/s]"
     ]
    },
    {
     "name": "stdout",
     "output_type": "stream",
     "text": [
      "\n",
      "0: 640x640 6 inculsions, 20.8ms\n",
      "Speed: 5.0ms preprocess, 20.8ms inference, 5.1ms postprocess per image at shape (1, 3, 640, 640)\n"
     ]
    },
    {
     "name": "stderr",
     "output_type": "stream",
     "text": [
      "Processing:  32%|█████████████████████▎                                             | 574/1800 [02:31<05:59,  3.41it/s]"
     ]
    },
    {
     "name": "stdout",
     "output_type": "stream",
     "text": [
      "\n",
      "0: 640x640 2 inculsions, 17.4ms\n",
      "Speed: 4.0ms preprocess, 17.4ms inference, 6.7ms postprocess per image at shape (1, 3, 640, 640)\n"
     ]
    },
    {
     "name": "stderr",
     "output_type": "stream",
     "text": [
      "Processing:  32%|█████████████████████▍                                             | 575/1800 [02:31<05:14,  3.89it/s]"
     ]
    },
    {
     "name": "stdout",
     "output_type": "stream",
     "text": [
      "\n",
      "0: 640x640 2 inculsions, 14.9ms\n",
      "Speed: 5.4ms preprocess, 14.9ms inference, 3.2ms postprocess per image at shape (1, 3, 640, 640)\n"
     ]
    },
    {
     "name": "stderr",
     "output_type": "stream",
     "text": [
      "Processing:  32%|█████████████████████▍                                             | 576/1800 [02:31<04:41,  4.34it/s]"
     ]
    },
    {
     "name": "stdout",
     "output_type": "stream",
     "text": [
      "\n",
      "0: 640x640 3 inculsions, 16.5ms\n",
      "Speed: 5.7ms preprocess, 16.5ms inference, 2.7ms postprocess per image at shape (1, 3, 640, 640)\n"
     ]
    },
    {
     "name": "stderr",
     "output_type": "stream",
     "text": [
      "Processing:  32%|█████████████████████▍                                             | 577/1800 [02:31<04:52,  4.18it/s]"
     ]
    },
    {
     "name": "stdout",
     "output_type": "stream",
     "text": [
      "\n",
      "0: 640x640 2 inculsions, 17.3ms\n",
      "Speed: 5.4ms preprocess, 17.3ms inference, 3.5ms postprocess per image at shape (1, 3, 640, 640)\n"
     ]
    },
    {
     "name": "stderr",
     "output_type": "stream",
     "text": [
      "Processing:  32%|█████████████████████▌                                             | 578/1800 [02:31<04:25,  4.60it/s]"
     ]
    },
    {
     "name": "stdout",
     "output_type": "stream",
     "text": [
      "\n",
      "0: 640x640 2 inculsions, 15.2ms\n",
      "Speed: 5.2ms preprocess, 15.2ms inference, 3.0ms postprocess per image at shape (1, 3, 640, 640)\n"
     ]
    },
    {
     "name": "stderr",
     "output_type": "stream",
     "text": [
      "Processing:  32%|█████████████████████▌                                             | 579/1800 [02:31<04:06,  4.94it/s]"
     ]
    },
    {
     "name": "stdout",
     "output_type": "stream",
     "text": [
      "\n",
      "0: 640x640 3 inculsions, 27.3ms\n",
      "Speed: 4.7ms preprocess, 27.3ms inference, 3.4ms postprocess per image at shape (1, 3, 640, 640)\n"
     ]
    },
    {
     "name": "stderr",
     "output_type": "stream",
     "text": [
      "Processing:  32%|█████████████████████▌                                             | 580/1800 [02:32<04:21,  4.67it/s]"
     ]
    },
    {
     "name": "stdout",
     "output_type": "stream",
     "text": [
      "\n",
      "0: 640x640 6 inculsions, 19.1ms\n",
      "Speed: 5.9ms preprocess, 19.1ms inference, 4.2ms postprocess per image at shape (1, 3, 640, 640)\n"
     ]
    },
    {
     "name": "stderr",
     "output_type": "stream",
     "text": [
      "Processing:  32%|█████████████████████▋                                             | 581/1800 [02:32<05:44,  3.54it/s]"
     ]
    },
    {
     "name": "stdout",
     "output_type": "stream",
     "text": [
      "\n",
      "0: 640x640 4 inculsions, 17.3ms\n",
      "Speed: 4.3ms preprocess, 17.3ms inference, 3.3ms postprocess per image at shape (1, 3, 640, 640)\n"
     ]
    },
    {
     "name": "stderr",
     "output_type": "stream",
     "text": [
      "Processing:  32%|█████████████████████▋                                             | 582/1800 [02:33<06:25,  3.16it/s]"
     ]
    },
    {
     "name": "stdout",
     "output_type": "stream",
     "text": [
      "\n",
      "0: 640x640 4 inculsions, 18.0ms\n",
      "Speed: 5.5ms preprocess, 18.0ms inference, 3.3ms postprocess per image at shape (1, 3, 640, 640)\n"
     ]
    },
    {
     "name": "stderr",
     "output_type": "stream",
     "text": [
      "Processing:  32%|█████████████████████▋                                             | 583/1800 [02:33<06:23,  3.17it/s]"
     ]
    },
    {
     "name": "stdout",
     "output_type": "stream",
     "text": [
      "\n",
      "0: 640x640 6 inculsions, 18.4ms\n",
      "Speed: 7.0ms preprocess, 18.4ms inference, 3.6ms postprocess per image at shape (1, 3, 640, 640)\n"
     ]
    },
    {
     "name": "stderr",
     "output_type": "stream",
     "text": [
      "Processing:  32%|█████████████████████▋                                             | 584/1800 [02:33<07:18,  2.78it/s]"
     ]
    },
    {
     "name": "stdout",
     "output_type": "stream",
     "text": [
      "\n",
      "0: 640x640 5 inculsions, 14.5ms\n",
      "Speed: 6.1ms preprocess, 14.5ms inference, 3.7ms postprocess per image at shape (1, 3, 640, 640)\n"
     ]
    },
    {
     "name": "stderr",
     "output_type": "stream",
     "text": [
      "Processing:  32%|█████████████████████▊                                             | 585/1800 [02:34<07:40,  2.64it/s]"
     ]
    },
    {
     "name": "stdout",
     "output_type": "stream",
     "text": [
      "\n",
      "0: 640x640 5 inculsions, 18.0ms\n",
      "Speed: 5.9ms preprocess, 18.0ms inference, 3.2ms postprocess per image at shape (1, 3, 640, 640)\n"
     ]
    },
    {
     "name": "stderr",
     "output_type": "stream",
     "text": [
      "Processing:  33%|█████████████████████▊                                             | 586/1800 [02:34<07:46,  2.60it/s]"
     ]
    },
    {
     "name": "stdout",
     "output_type": "stream",
     "text": [
      "\n",
      "0: 640x640 7 inculsions, 13.7ms\n",
      "Speed: 6.4ms preprocess, 13.7ms inference, 2.9ms postprocess per image at shape (1, 3, 640, 640)\n"
     ]
    },
    {
     "name": "stderr",
     "output_type": "stream",
     "text": [
      "Processing:  33%|█████████████████████▊                                             | 587/1800 [02:35<08:46,  2.30it/s]"
     ]
    },
    {
     "name": "stdout",
     "output_type": "stream",
     "text": [
      "\n",
      "0: 640x640 7 inculsions, 20.8ms\n",
      "Speed: 6.5ms preprocess, 20.8ms inference, 3.4ms postprocess per image at shape (1, 3, 640, 640)\n"
     ]
    },
    {
     "name": "stderr",
     "output_type": "stream",
     "text": [
      "Processing:  33%|█████████████████████▉                                             | 588/1800 [02:35<09:35,  2.11it/s]"
     ]
    },
    {
     "name": "stdout",
     "output_type": "stream",
     "text": [
      "\n",
      "0: 640x640 8 inculsions, 16.7ms\n",
      "Speed: 6.1ms preprocess, 16.7ms inference, 5.2ms postprocess per image at shape (1, 3, 640, 640)\n"
     ]
    },
    {
     "name": "stderr",
     "output_type": "stream",
     "text": [
      "Processing:  33%|█████████████████████▉                                             | 589/1800 [02:36<10:20,  1.95it/s]"
     ]
    },
    {
     "name": "stdout",
     "output_type": "stream",
     "text": [
      "\n",
      "0: 640x640 1 inculsion, 13.1ms\n",
      "Speed: 5.7ms preprocess, 13.1ms inference, 4.3ms postprocess per image at shape (1, 3, 640, 640)\n"
     ]
    },
    {
     "name": "stderr",
     "output_type": "stream",
     "text": [
      "Processing:  33%|█████████████████████▉                                             | 590/1800 [02:36<07:55,  2.55it/s]"
     ]
    },
    {
     "name": "stdout",
     "output_type": "stream",
     "text": [
      "\n",
      "0: 640x640 2 inculsions, 17.5ms\n",
      "Speed: 6.5ms preprocess, 17.5ms inference, 3.4ms postprocess per image at shape (1, 3, 640, 640)\n"
     ]
    },
    {
     "name": "stderr",
     "output_type": "stream",
     "text": [
      "Processing:  33%|█████████████████████▉                                             | 591/1800 [02:36<06:32,  3.08it/s]"
     ]
    },
    {
     "name": "stdout",
     "output_type": "stream",
     "text": [
      "\n",
      "0: 640x640 7 inculsions, 18.0ms\n",
      "Speed: 5.7ms preprocess, 18.0ms inference, 5.8ms postprocess per image at shape (1, 3, 640, 640)\n"
     ]
    },
    {
     "name": "stderr",
     "output_type": "stream",
     "text": [
      "Processing:  33%|██████████████████████                                             | 592/1800 [02:37<07:43,  2.60it/s]"
     ]
    },
    {
     "name": "stdout",
     "output_type": "stream",
     "text": [
      "\n",
      "0: 640x640 4 inculsions, 20.8ms\n",
      "Speed: 5.6ms preprocess, 20.8ms inference, 4.1ms postprocess per image at shape (1, 3, 640, 640)\n"
     ]
    },
    {
     "name": "stderr",
     "output_type": "stream",
     "text": [
      "Processing:  33%|██████████████████████                                             | 593/1800 [02:37<07:52,  2.56it/s]"
     ]
    },
    {
     "name": "stdout",
     "output_type": "stream",
     "text": [
      "\n",
      "0: 640x640 8 inculsions, 23.4ms\n",
      "Speed: 6.9ms preprocess, 23.4ms inference, 3.8ms postprocess per image at shape (1, 3, 640, 640)\n"
     ]
    },
    {
     "name": "stderr",
     "output_type": "stream",
     "text": [
      "Processing:  33%|██████████████████████                                             | 594/1800 [02:38<09:15,  2.17it/s]"
     ]
    },
    {
     "name": "stdout",
     "output_type": "stream",
     "text": [
      "\n",
      "0: 640x640 7 inculsions, 17.4ms\n",
      "Speed: 9.7ms preprocess, 17.4ms inference, 3.6ms postprocess per image at shape (1, 3, 640, 640)\n"
     ]
    },
    {
     "name": "stderr",
     "output_type": "stream",
     "text": [
      "Processing:  33%|██████████████████████▏                                            | 595/1800 [02:38<09:52,  2.03it/s]"
     ]
    },
    {
     "name": "stdout",
     "output_type": "stream",
     "text": [
      "\n",
      "0: 640x640 3 inculsions, 19.7ms\n",
      "Speed: 9.5ms preprocess, 19.7ms inference, 2.8ms postprocess per image at shape (1, 3, 640, 640)\n"
     ]
    },
    {
     "name": "stderr",
     "output_type": "stream",
     "text": [
      "Processing:  33%|██████████████████████▏                                            | 596/1800 [02:38<08:24,  2.39it/s]"
     ]
    },
    {
     "name": "stdout",
     "output_type": "stream",
     "text": [
      "\n",
      "0: 640x640 4 inculsions, 19.3ms\n",
      "Speed: 6.2ms preprocess, 19.3ms inference, 3.0ms postprocess per image at shape (1, 3, 640, 640)\n"
     ]
    },
    {
     "name": "stderr",
     "output_type": "stream",
     "text": [
      "Processing:  33%|██████████████████████▏                                            | 597/1800 [02:39<07:48,  2.57it/s]"
     ]
    },
    {
     "name": "stdout",
     "output_type": "stream",
     "text": [
      "\n",
      "0: 640x640 2 inculsions, 20.2ms\n",
      "Speed: 5.6ms preprocess, 20.2ms inference, 3.5ms postprocess per image at shape (1, 3, 640, 640)\n"
     ]
    },
    {
     "name": "stderr",
     "output_type": "stream",
     "text": [
      "Processing:  33%|██████████████████████▎                                            | 598/1800 [02:39<06:32,  3.06it/s]"
     ]
    },
    {
     "name": "stdout",
     "output_type": "stream",
     "text": [
      "\n",
      "0: 640x640 1 inculsion, 29.5ms\n",
      "Speed: 5.6ms preprocess, 29.5ms inference, 3.8ms postprocess per image at shape (1, 3, 640, 640)\n"
     ]
    },
    {
     "name": "stderr",
     "output_type": "stream",
     "text": [
      "Processing:  33%|██████████████████████▎                                            | 599/1800 [02:39<05:15,  3.81it/s]"
     ]
    },
    {
     "name": "stdout",
     "output_type": "stream",
     "text": [
      "\n",
      "0: 640x640 1 inculsion, 20.2ms\n",
      "Speed: 7.0ms preprocess, 20.2ms inference, 4.0ms postprocess per image at shape (1, 3, 640, 640)\n"
     ]
    },
    {
     "name": "stderr",
     "output_type": "stream",
     "text": [
      "Processing:  33%|██████████████████████▎                                            | 600/1800 [02:39<04:17,  4.66it/s]"
     ]
    },
    {
     "name": "stdout",
     "output_type": "stream",
     "text": [
      "\n",
      "0: 640x640 2 patchess, 18.2ms\n",
      "Speed: 5.3ms preprocess, 18.2ms inference, 3.9ms postprocess per image at shape (1, 3, 640, 640)\n"
     ]
    },
    {
     "name": "stderr",
     "output_type": "stream",
     "text": [
      "Processing:  33%|██████████████████████▎                                            | 601/1800 [02:39<04:06,  4.87it/s]"
     ]
    },
    {
     "name": "stdout",
     "output_type": "stream",
     "text": [
      "\n",
      "0: 640x640 2 patchess, 18.2ms\n",
      "Speed: 5.9ms preprocess, 18.2ms inference, 4.1ms postprocess per image at shape (1, 3, 640, 640)\n"
     ]
    },
    {
     "name": "stderr",
     "output_type": "stream",
     "text": [
      "Processing:  33%|██████████████████████▍                                            | 602/1800 [02:40<03:56,  5.08it/s]"
     ]
    },
    {
     "name": "stdout",
     "output_type": "stream",
     "text": [
      "\n",
      "0: 640x640 3 patchess, 20.9ms\n",
      "Speed: 5.7ms preprocess, 20.9ms inference, 4.4ms postprocess per image at shape (1, 3, 640, 640)\n"
     ]
    },
    {
     "name": "stderr",
     "output_type": "stream",
     "text": [
      "Processing:  34%|██████████████████████▍                                            | 603/1800 [02:40<04:17,  4.65it/s]"
     ]
    },
    {
     "name": "stdout",
     "output_type": "stream",
     "text": [
      "\n",
      "0: 640x640 4 patchess, 15.4ms\n",
      "Speed: 4.9ms preprocess, 15.4ms inference, 3.3ms postprocess per image at shape (1, 3, 640, 640)\n"
     ]
    },
    {
     "name": "stderr",
     "output_type": "stream",
     "text": [
      "Processing:  34%|██████████████████████▍                                            | 604/1800 [02:40<04:49,  4.13it/s]"
     ]
    },
    {
     "name": "stdout",
     "output_type": "stream",
     "text": [
      "\n",
      "0: 640x640 3 patchess, 18.9ms\n",
      "Speed: 5.8ms preprocess, 18.9ms inference, 3.6ms postprocess per image at shape (1, 3, 640, 640)\n"
     ]
    },
    {
     "name": "stderr",
     "output_type": "stream",
     "text": [
      "Processing:  34%|██████████████████████▌                                            | 605/1800 [02:40<04:50,  4.11it/s]"
     ]
    },
    {
     "name": "stdout",
     "output_type": "stream",
     "text": [
      "\n",
      "0: 640x640 1 patches, 13.4ms\n",
      "Speed: 8.1ms preprocess, 13.4ms inference, 2.9ms postprocess per image at shape (1, 3, 640, 640)\n",
      "\n",
      "0: 640x640 6 patchess, 17.3ms\n",
      "Speed: 5.2ms preprocess, 17.3ms inference, 4.8ms postprocess per image at shape (1, 3, 640, 640)\n"
     ]
    },
    {
     "name": "stderr",
     "output_type": "stream",
     "text": [
      "Processing:  34%|██████████████████████▌                                            | 607/1800 [02:41<05:07,  3.88it/s]"
     ]
    },
    {
     "name": "stdout",
     "output_type": "stream",
     "text": [
      "\n",
      "0: 640x640 4 patchess, 18.1ms\n",
      "Speed: 5.2ms preprocess, 18.1ms inference, 3.5ms postprocess per image at shape (1, 3, 640, 640)\n"
     ]
    },
    {
     "name": "stderr",
     "output_type": "stream",
     "text": [
      "Processing:  34%|██████████████████████▋                                            | 608/1800 [02:41<05:21,  3.71it/s]"
     ]
    },
    {
     "name": "stdout",
     "output_type": "stream",
     "text": [
      "\n",
      "0: 640x640 2 patchess, 26.8ms\n",
      "Speed: 5.2ms preprocess, 26.8ms inference, 3.4ms postprocess per image at shape (1, 3, 640, 640)\n"
     ]
    },
    {
     "name": "stderr",
     "output_type": "stream",
     "text": [
      "Processing:  34%|██████████████████████▋                                            | 609/1800 [02:41<04:58,  3.99it/s]"
     ]
    },
    {
     "name": "stdout",
     "output_type": "stream",
     "text": [
      "\n",
      "0: 640x640 2 patchess, 19.0ms\n",
      "Speed: 8.2ms preprocess, 19.0ms inference, 3.7ms postprocess per image at shape (1, 3, 640, 640)\n"
     ]
    },
    {
     "name": "stderr",
     "output_type": "stream",
     "text": [
      "Processing:  34%|██████████████████████▋                                            | 610/1800 [02:42<04:35,  4.32it/s]"
     ]
    },
    {
     "name": "stdout",
     "output_type": "stream",
     "text": [
      "\n",
      "0: 640x640 3 patchess, 17.6ms\n",
      "Speed: 5.7ms preprocess, 17.6ms inference, 3.7ms postprocess per image at shape (1, 3, 640, 640)\n"
     ]
    },
    {
     "name": "stderr",
     "output_type": "stream",
     "text": [
      "Processing:  34%|██████████████████████▋                                            | 611/1800 [02:42<04:35,  4.31it/s]"
     ]
    },
    {
     "name": "stdout",
     "output_type": "stream",
     "text": [
      "\n",
      "0: 640x640 3 patchess, 17.3ms\n",
      "Speed: 5.0ms preprocess, 17.3ms inference, 3.5ms postprocess per image at shape (1, 3, 640, 640)\n"
     ]
    },
    {
     "name": "stderr",
     "output_type": "stream",
     "text": [
      "Processing:  34%|██████████████████████▊                                            | 612/1800 [02:42<04:37,  4.28it/s]"
     ]
    },
    {
     "name": "stdout",
     "output_type": "stream",
     "text": [
      "\n",
      "0: 640x640 1 inculsion, 2 patchess, 15.7ms\n",
      "Speed: 5.7ms preprocess, 15.7ms inference, 2.8ms postprocess per image at shape (1, 3, 640, 640)\n"
     ]
    },
    {
     "name": "stderr",
     "output_type": "stream",
     "text": [
      "Processing:  34%|██████████████████████▊                                            | 613/1800 [02:42<04:34,  4.32it/s]"
     ]
    },
    {
     "name": "stdout",
     "output_type": "stream",
     "text": [
      "\n",
      "0: 640x640 3 patchess, 15.9ms\n",
      "Speed: 4.4ms preprocess, 15.9ms inference, 4.0ms postprocess per image at shape (1, 3, 640, 640)\n"
     ]
    },
    {
     "name": "stderr",
     "output_type": "stream",
     "text": [
      "Processing:  34%|██████████████████████▊                                            | 614/1800 [02:43<04:52,  4.06it/s]"
     ]
    },
    {
     "name": "stdout",
     "output_type": "stream",
     "text": [
      "\n",
      "0: 640x640 1 inculsion, 4 patchess, 81.8ms\n",
      "Speed: 7.4ms preprocess, 81.8ms inference, 3.7ms postprocess per image at shape (1, 3, 640, 640)\n"
     ]
    },
    {
     "name": "stderr",
     "output_type": "stream",
     "text": [
      "Processing:  34%|██████████████████████▉                                            | 615/1800 [02:43<05:56,  3.33it/s]"
     ]
    },
    {
     "name": "stdout",
     "output_type": "stream",
     "text": [
      "\n",
      "0: 640x640 1 inculsion, 6 patchess, 16.7ms\n",
      "Speed: 4.9ms preprocess, 16.7ms inference, 2.7ms postprocess per image at shape (1, 3, 640, 640)\n"
     ]
    },
    {
     "name": "stderr",
     "output_type": "stream",
     "text": [
      "Processing:  34%|██████████████████████▉                                            | 616/1800 [02:44<07:12,  2.74it/s]"
     ]
    },
    {
     "name": "stdout",
     "output_type": "stream",
     "text": [
      "\n",
      "0: 640x640 1 inculsion, 2 patchess, 18.2ms\n",
      "Speed: 4.7ms preprocess, 18.2ms inference, 4.6ms postprocess per image at shape (1, 3, 640, 640)\n"
     ]
    },
    {
     "name": "stderr",
     "output_type": "stream",
     "text": [
      "Processing:  34%|██████████████████████▉                                            | 617/1800 [02:44<06:27,  3.05it/s]"
     ]
    },
    {
     "name": "stdout",
     "output_type": "stream",
     "text": [
      "\n",
      "0: 640x640 5 patchess, 19.1ms\n",
      "Speed: 5.1ms preprocess, 19.1ms inference, 3.0ms postprocess per image at shape (1, 3, 640, 640)\n"
     ]
    },
    {
     "name": "stderr",
     "output_type": "stream",
     "text": [
      "Processing:  34%|███████████████████████                                            | 618/1800 [02:44<06:51,  2.87it/s]"
     ]
    },
    {
     "name": "stdout",
     "output_type": "stream",
     "text": [
      "\n",
      "0: 640x640 3 patchess, 16.7ms\n",
      "Speed: 5.4ms preprocess, 16.7ms inference, 4.1ms postprocess per image at shape (1, 3, 640, 640)\n"
     ]
    },
    {
     "name": "stderr",
     "output_type": "stream",
     "text": [
      "Processing:  34%|███████████████████████                                            | 619/1800 [02:44<06:17,  3.13it/s]"
     ]
    },
    {
     "name": "stdout",
     "output_type": "stream",
     "text": [
      "\n",
      "0: 640x640 3 patchess, 18.7ms\n",
      "Speed: 5.4ms preprocess, 18.7ms inference, 3.7ms postprocess per image at shape (1, 3, 640, 640)\n"
     ]
    },
    {
     "name": "stderr",
     "output_type": "stream",
     "text": [
      "Processing:  34%|███████████████████████                                            | 620/1800 [02:45<05:51,  3.35it/s]"
     ]
    },
    {
     "name": "stdout",
     "output_type": "stream",
     "text": [
      "\n",
      "0: 640x640 2 patchess, 20.0ms\n",
      "Speed: 5.0ms preprocess, 20.0ms inference, 3.2ms postprocess per image at shape (1, 3, 640, 640)\n"
     ]
    },
    {
     "name": "stderr",
     "output_type": "stream",
     "text": [
      "Processing:  34%|███████████████████████                                            | 621/1800 [02:45<05:06,  3.85it/s]"
     ]
    },
    {
     "name": "stdout",
     "output_type": "stream",
     "text": [
      "\n",
      "0: 640x640 2 patchess, 14.7ms\n",
      "Speed: 4.9ms preprocess, 14.7ms inference, 4.0ms postprocess per image at shape (1, 3, 640, 640)\n"
     ]
    },
    {
     "name": "stderr",
     "output_type": "stream",
     "text": [
      "Processing:  35%|███████████████████████▏                                           | 622/1800 [02:45<04:33,  4.31it/s]"
     ]
    },
    {
     "name": "stdout",
     "output_type": "stream",
     "text": [
      "\n",
      "0: 640x640 3 patchess, 20.9ms\n",
      "Speed: 5.6ms preprocess, 20.9ms inference, 4.0ms postprocess per image at shape (1, 3, 640, 640)\n"
     ]
    },
    {
     "name": "stderr",
     "output_type": "stream",
     "text": [
      "Processing:  35%|███████████████████████▏                                           | 623/1800 [02:45<04:42,  4.16it/s]"
     ]
    },
    {
     "name": "stdout",
     "output_type": "stream",
     "text": [
      "\n",
      "0: 640x640 4 patchess, 17.8ms\n",
      "Speed: 5.7ms preprocess, 17.8ms inference, 4.2ms postprocess per image at shape (1, 3, 640, 640)\n"
     ]
    },
    {
     "name": "stderr",
     "output_type": "stream",
     "text": [
      "Processing:  35%|███████████████████████▏                                           | 624/1800 [02:46<05:06,  3.83it/s]"
     ]
    },
    {
     "name": "stdout",
     "output_type": "stream",
     "text": [
      "\n",
      "0: 640x640 4 patchess, 19.1ms\n",
      "Speed: 5.8ms preprocess, 19.1ms inference, 3.3ms postprocess per image at shape (1, 3, 640, 640)\n"
     ]
    },
    {
     "name": "stderr",
     "output_type": "stream",
     "text": [
      "Processing:  35%|███████████████████████▎                                           | 625/1800 [02:46<05:28,  3.58it/s]"
     ]
    },
    {
     "name": "stdout",
     "output_type": "stream",
     "text": [
      "\n",
      "0: 640x640 2 patchess, 18.8ms\n",
      "Speed: 5.4ms preprocess, 18.8ms inference, 3.9ms postprocess per image at shape (1, 3, 640, 640)\n"
     ]
    },
    {
     "name": "stderr",
     "output_type": "stream",
     "text": [
      "Processing:  35%|███████████████████████▎                                           | 626/1800 [02:46<04:48,  4.07it/s]"
     ]
    },
    {
     "name": "stdout",
     "output_type": "stream",
     "text": [
      "\n",
      "0: 640x640 4 patchess, 80.9ms\n",
      "Speed: 5.4ms preprocess, 80.9ms inference, 13.3ms postprocess per image at shape (1, 3, 640, 640)\n"
     ]
    },
    {
     "name": "stderr",
     "output_type": "stream",
     "text": [
      "Processing:  35%|███████████████████████▎                                           | 627/1800 [02:46<06:00,  3.25it/s]"
     ]
    },
    {
     "name": "stdout",
     "output_type": "stream",
     "text": [
      "\n",
      "0: 640x640 2 patchess, 18.9ms\n",
      "Speed: 5.5ms preprocess, 18.9ms inference, 3.5ms postprocess per image at shape (1, 3, 640, 640)\n"
     ]
    },
    {
     "name": "stderr",
     "output_type": "stream",
     "text": [
      "Processing:  35%|███████████████████████▍                                           | 628/1800 [02:47<05:13,  3.74it/s]"
     ]
    },
    {
     "name": "stdout",
     "output_type": "stream",
     "text": [
      "\n",
      "0: 640x640 2 patchess, 18.4ms\n",
      "Speed: 4.7ms preprocess, 18.4ms inference, 6.0ms postprocess per image at shape (1, 3, 640, 640)\n"
     ]
    },
    {
     "name": "stderr",
     "output_type": "stream",
     "text": [
      "Processing:  35%|███████████████████████▍                                           | 629/1800 [02:47<04:44,  4.11it/s]"
     ]
    },
    {
     "name": "stdout",
     "output_type": "stream",
     "text": [
      "\n",
      "0: 640x640 5 patchess, 27.6ms\n",
      "Speed: 4.1ms preprocess, 27.6ms inference, 7.1ms postprocess per image at shape (1, 3, 640, 640)\n"
     ]
    },
    {
     "name": "stderr",
     "output_type": "stream",
     "text": [
      "Processing:  35%|███████████████████████▍                                           | 630/1800 [02:47<05:29,  3.55it/s]"
     ]
    },
    {
     "name": "stdout",
     "output_type": "stream",
     "text": [
      "\n",
      "0: 640x640 1 patches, 21.0ms\n",
      "Speed: 5.1ms preprocess, 21.0ms inference, 2.9ms postprocess per image at shape (1, 3, 640, 640)\n"
     ]
    },
    {
     "name": "stderr",
     "output_type": "stream",
     "text": [
      "Processing:  35%|███████████████████████▍                                           | 631/1800 [02:47<04:27,  4.37it/s]"
     ]
    },
    {
     "name": "stdout",
     "output_type": "stream",
     "text": [
      "\n",
      "0: 640x640 3 patchess, 19.8ms\n",
      "Speed: 4.9ms preprocess, 19.8ms inference, 3.9ms postprocess per image at shape (1, 3, 640, 640)\n"
     ]
    },
    {
     "name": "stderr",
     "output_type": "stream",
     "text": [
      "Processing:  35%|███████████████████████▌                                           | 632/1800 [02:48<04:32,  4.29it/s]"
     ]
    },
    {
     "name": "stdout",
     "output_type": "stream",
     "text": [
      "\n",
      "0: 640x640 4 patchess, 16.1ms\n",
      "Speed: 5.4ms preprocess, 16.1ms inference, 2.1ms postprocess per image at shape (1, 3, 640, 640)\n"
     ]
    },
    {
     "name": "stderr",
     "output_type": "stream",
     "text": [
      "Processing:  35%|███████████████████████▌                                           | 633/1800 [02:48<05:02,  3.86it/s]"
     ]
    },
    {
     "name": "stdout",
     "output_type": "stream",
     "text": [
      "\n",
      "0: 640x640 2 patchess, 14.4ms\n",
      "Speed: 4.9ms preprocess, 14.4ms inference, 3.0ms postprocess per image at shape (1, 3, 640, 640)\n"
     ]
    },
    {
     "name": "stderr",
     "output_type": "stream",
     "text": [
      "Processing:  35%|███████████████████████▌                                           | 634/1800 [02:48<04:28,  4.34it/s]"
     ]
    },
    {
     "name": "stdout",
     "output_type": "stream",
     "text": [
      "\n",
      "0: 640x640 1 patches, 15.0ms\n",
      "Speed: 5.3ms preprocess, 15.0ms inference, 4.1ms postprocess per image at shape (1, 3, 640, 640)\n",
      "\n",
      "0: 640x640 3 patchess, 17.3ms\n",
      "Speed: 5.1ms preprocess, 17.3ms inference, 4.0ms postprocess per image at shape (1, 3, 640, 640)\n"
     ]
    },
    {
     "name": "stderr",
     "output_type": "stream",
     "text": [
      "Processing:  35%|███████████████████████▋                                           | 636/1800 [02:48<03:55,  4.93it/s]"
     ]
    },
    {
     "name": "stdout",
     "output_type": "stream",
     "text": [
      "\n",
      "0: 640x640 3 patchess, 18.2ms\n",
      "Speed: 5.1ms preprocess, 18.2ms inference, 2.8ms postprocess per image at shape (1, 3, 640, 640)\n"
     ]
    },
    {
     "name": "stderr",
     "output_type": "stream",
     "text": [
      "Processing:  35%|███████████████████████▋                                           | 637/1800 [02:49<04:10,  4.64it/s]"
     ]
    },
    {
     "name": "stdout",
     "output_type": "stream",
     "text": [
      "\n",
      "0: 640x640 2 patchess, 20.2ms\n",
      "Speed: 5.6ms preprocess, 20.2ms inference, 2.8ms postprocess per image at shape (1, 3, 640, 640)\n"
     ]
    },
    {
     "name": "stderr",
     "output_type": "stream",
     "text": [
      "Processing:  35%|███████████████████████▋                                           | 638/1800 [02:49<03:57,  4.90it/s]"
     ]
    },
    {
     "name": "stdout",
     "output_type": "stream",
     "text": [
      "\n",
      "0: 640x640 2 patchess, 25.1ms\n",
      "Speed: 5.4ms preprocess, 25.1ms inference, 3.7ms postprocess per image at shape (1, 3, 640, 640)\n"
     ]
    },
    {
     "name": "stderr",
     "output_type": "stream",
     "text": [
      "Processing:  36%|███████████████████████▊                                           | 639/1800 [02:49<03:49,  5.06it/s]"
     ]
    },
    {
     "name": "stdout",
     "output_type": "stream",
     "text": [
      "\n",
      "0: 640x640 3 patchess, 17.9ms\n",
      "Speed: 5.2ms preprocess, 17.9ms inference, 3.3ms postprocess per image at shape (1, 3, 640, 640)\n"
     ]
    },
    {
     "name": "stderr",
     "output_type": "stream",
     "text": [
      "Processing:  36%|███████████████████████▊                                           | 640/1800 [02:49<04:05,  4.73it/s]"
     ]
    },
    {
     "name": "stdout",
     "output_type": "stream",
     "text": [
      "\n",
      "0: 640x640 3 patchess, 18.0ms\n",
      "Speed: 5.1ms preprocess, 18.0ms inference, 4.0ms postprocess per image at shape (1, 3, 640, 640)\n"
     ]
    },
    {
     "name": "stderr",
     "output_type": "stream",
     "text": [
      "Processing:  36%|███████████████████████▊                                           | 641/1800 [02:49<04:11,  4.60it/s]"
     ]
    },
    {
     "name": "stdout",
     "output_type": "stream",
     "text": [
      "\n",
      "0: 640x640 1 patches, 18.1ms\n",
      "Speed: 6.1ms preprocess, 18.1ms inference, 4.2ms postprocess per image at shape (1, 3, 640, 640)\n"
     ]
    },
    {
     "name": "stderr",
     "output_type": "stream",
     "text": [
      "Processing:  36%|███████████████████████▉                                           | 642/1800 [02:50<03:32,  5.45it/s]"
     ]
    },
    {
     "name": "stdout",
     "output_type": "stream",
     "text": [
      "\n",
      "0: 640x640 4 patchess, 17.5ms\n",
      "Speed: 5.2ms preprocess, 17.5ms inference, 3.2ms postprocess per image at shape (1, 3, 640, 640)\n"
     ]
    },
    {
     "name": "stderr",
     "output_type": "stream",
     "text": [
      "Processing:  36%|███████████████████████▉                                           | 643/1800 [02:50<04:16,  4.51it/s]"
     ]
    },
    {
     "name": "stdout",
     "output_type": "stream",
     "text": [
      "\n",
      "0: 640x640 4 patchess, 16.2ms\n",
      "Speed: 9.1ms preprocess, 16.2ms inference, 2.5ms postprocess per image at shape (1, 3, 640, 640)\n"
     ]
    },
    {
     "name": "stderr",
     "output_type": "stream",
     "text": [
      "Processing:  36%|███████████████████████▉                                           | 644/1800 [02:50<04:48,  4.01it/s]"
     ]
    },
    {
     "name": "stdout",
     "output_type": "stream",
     "text": [
      "\n",
      "0: 640x640 5 patchess, 17.4ms\n",
      "Speed: 5.5ms preprocess, 17.4ms inference, 3.4ms postprocess per image at shape (1, 3, 640, 640)\n"
     ]
    },
    {
     "name": "stderr",
     "output_type": "stream",
     "text": [
      "Processing:  36%|████████████████████████                                           | 645/1800 [02:51<05:30,  3.50it/s]"
     ]
    },
    {
     "name": "stdout",
     "output_type": "stream",
     "text": [
      "\n",
      "0: 640x640 2 patchess, 19.3ms\n",
      "Speed: 4.4ms preprocess, 19.3ms inference, 4.2ms postprocess per image at shape (1, 3, 640, 640)\n"
     ]
    },
    {
     "name": "stderr",
     "output_type": "stream",
     "text": [
      "Processing:  36%|████████████████████████                                           | 646/1800 [02:51<04:48,  4.00it/s]"
     ]
    },
    {
     "name": "stdout",
     "output_type": "stream",
     "text": [
      "\n",
      "0: 640x640 1 inculsion, 4 patchess, 17.2ms\n",
      "Speed: 5.4ms preprocess, 17.2ms inference, 3.4ms postprocess per image at shape (1, 3, 640, 640)\n"
     ]
    },
    {
     "name": "stderr",
     "output_type": "stream",
     "text": [
      "Processing:  36%|████████████████████████                                           | 647/1800 [02:51<05:46,  3.33it/s]"
     ]
    },
    {
     "name": "stdout",
     "output_type": "stream",
     "text": [
      "\n",
      "0: 640x640 5 patchess, 18.7ms\n",
      "Speed: 5.3ms preprocess, 18.7ms inference, 3.3ms postprocess per image at shape (1, 3, 640, 640)\n"
     ]
    },
    {
     "name": "stderr",
     "output_type": "stream",
     "text": [
      "Processing:  36%|████████████████████████                                           | 648/1800 [02:52<06:09,  3.12it/s]"
     ]
    },
    {
     "name": "stdout",
     "output_type": "stream",
     "text": [
      "\n",
      "0: 640x640 4 patchess, 16.5ms\n",
      "Speed: 5.5ms preprocess, 16.5ms inference, 4.1ms postprocess per image at shape (1, 3, 640, 640)\n"
     ]
    },
    {
     "name": "stderr",
     "output_type": "stream",
     "text": [
      "Processing:  36%|████████████████████████▏                                          | 649/1800 [02:52<06:03,  3.17it/s]"
     ]
    },
    {
     "name": "stdout",
     "output_type": "stream",
     "text": [
      "\n",
      "0: 640x640 3 patchess, 18.2ms\n",
      "Speed: 4.8ms preprocess, 18.2ms inference, 3.6ms postprocess per image at shape (1, 3, 640, 640)\n"
     ]
    },
    {
     "name": "stderr",
     "output_type": "stream",
     "text": [
      "Processing:  36%|████████████████████████▏                                          | 650/1800 [02:52<05:39,  3.39it/s]"
     ]
    },
    {
     "name": "stdout",
     "output_type": "stream",
     "text": [
      "\n",
      "0: 640x640 2 patchess, 15.8ms\n",
      "Speed: 3.8ms preprocess, 15.8ms inference, 4.0ms postprocess per image at shape (1, 3, 640, 640)\n"
     ]
    },
    {
     "name": "stderr",
     "output_type": "stream",
     "text": [
      "Processing:  36%|████████████████████████▏                                          | 651/1800 [02:52<04:56,  3.88it/s]"
     ]
    },
    {
     "name": "stdout",
     "output_type": "stream",
     "text": [
      "\n",
      "0: 640x640 3 patchess, 20.2ms\n",
      "Speed: 5.0ms preprocess, 20.2ms inference, 4.1ms postprocess per image at shape (1, 3, 640, 640)\n"
     ]
    },
    {
     "name": "stderr",
     "output_type": "stream",
     "text": [
      "Processing:  36%|████████████████████████▎                                          | 652/1800 [02:53<05:01,  3.81it/s]"
     ]
    },
    {
     "name": "stdout",
     "output_type": "stream",
     "text": [
      "\n",
      "0: 640x640 4 patchess, 16.9ms\n",
      "Speed: 5.6ms preprocess, 16.9ms inference, 4.8ms postprocess per image at shape (1, 3, 640, 640)\n"
     ]
    },
    {
     "name": "stderr",
     "output_type": "stream",
     "text": [
      "Processing:  36%|████████████████████████▎                                          | 653/1800 [02:53<05:16,  3.62it/s]"
     ]
    },
    {
     "name": "stdout",
     "output_type": "stream",
     "text": [
      "\n",
      "0: 640x640 3 patchess, 16.6ms\n",
      "Speed: 5.7ms preprocess, 16.6ms inference, 3.7ms postprocess per image at shape (1, 3, 640, 640)\n"
     ]
    },
    {
     "name": "stderr",
     "output_type": "stream",
     "text": [
      "Processing:  36%|████████████████████████▎                                          | 654/1800 [02:53<05:04,  3.76it/s]"
     ]
    },
    {
     "name": "stdout",
     "output_type": "stream",
     "text": [
      "\n",
      "0: 640x640 6 patchess, 20.6ms\n",
      "Speed: 6.4ms preprocess, 20.6ms inference, 4.2ms postprocess per image at shape (1, 3, 640, 640)\n"
     ]
    },
    {
     "name": "stderr",
     "output_type": "stream",
     "text": [
      "Processing:  36%|████████████████████████▍                                          | 655/1800 [02:54<06:08,  3.11it/s]"
     ]
    },
    {
     "name": "stdout",
     "output_type": "stream",
     "text": [
      "\n",
      "0: 640x640 3 patchess, 19.2ms\n",
      "Speed: 5.5ms preprocess, 19.2ms inference, 3.5ms postprocess per image at shape (1, 3, 640, 640)\n"
     ]
    },
    {
     "name": "stderr",
     "output_type": "stream",
     "text": [
      "Processing:  36%|████████████████████████▍                                          | 656/1800 [02:54<05:40,  3.36it/s]"
     ]
    },
    {
     "name": "stdout",
     "output_type": "stream",
     "text": [
      "\n",
      "0: 640x640 5 patchess, 18.2ms\n",
      "Speed: 5.8ms preprocess, 18.2ms inference, 3.4ms postprocess per image at shape (1, 3, 640, 640)\n"
     ]
    },
    {
     "name": "stderr",
     "output_type": "stream",
     "text": [
      "Processing:  36%|████████████████████████▍                                          | 657/1800 [02:54<06:09,  3.10it/s]"
     ]
    },
    {
     "name": "stdout",
     "output_type": "stream",
     "text": [
      "\n",
      "0: 640x640 4 patchess, 18.5ms\n",
      "Speed: 4.6ms preprocess, 18.5ms inference, 3.5ms postprocess per image at shape (1, 3, 640, 640)\n"
     ]
    },
    {
     "name": "stderr",
     "output_type": "stream",
     "text": [
      "Processing:  37%|████████████████████████▍                                          | 658/1800 [02:54<06:07,  3.11it/s]"
     ]
    },
    {
     "name": "stdout",
     "output_type": "stream",
     "text": [
      "\n",
      "0: 640x640 6 patchess, 16.2ms\n",
      "Speed: 5.4ms preprocess, 16.2ms inference, 3.9ms postprocess per image at shape (1, 3, 640, 640)\n"
     ]
    },
    {
     "name": "stderr",
     "output_type": "stream",
     "text": [
      "Processing:  37%|████████████████████████▌                                          | 659/1800 [02:55<06:58,  2.72it/s]"
     ]
    },
    {
     "name": "stdout",
     "output_type": "stream",
     "text": [
      "\n",
      "0: 640x640 6 patchess, 16.0ms\n",
      "Speed: 5.5ms preprocess, 16.0ms inference, 3.9ms postprocess per image at shape (1, 3, 640, 640)\n"
     ]
    },
    {
     "name": "stderr",
     "output_type": "stream",
     "text": [
      "Processing:  37%|████████████████████████▌                                          | 660/1800 [02:55<07:25,  2.56it/s]"
     ]
    },
    {
     "name": "stdout",
     "output_type": "stream",
     "text": [
      "\n",
      "0: 640x640 1 patches, 16.0ms\n",
      "Speed: 5.4ms preprocess, 16.0ms inference, 3.9ms postprocess per image at shape (1, 3, 640, 640)\n"
     ]
    },
    {
     "name": "stderr",
     "output_type": "stream",
     "text": [
      "Processing:  37%|████████████████████████▌                                          | 661/1800 [02:56<05:47,  3.27it/s]"
     ]
    },
    {
     "name": "stdout",
     "output_type": "stream",
     "text": [
      "\n",
      "0: 640x640 4 patchess, 16.1ms\n",
      "Speed: 5.1ms preprocess, 16.1ms inference, 4.3ms postprocess per image at shape (1, 3, 640, 640)\n"
     ]
    },
    {
     "name": "stderr",
     "output_type": "stream",
     "text": [
      "Processing:  37%|████████████████████████▋                                          | 662/1800 [02:56<05:52,  3.23it/s]"
     ]
    },
    {
     "name": "stdout",
     "output_type": "stream",
     "text": [
      "\n",
      "0: 640x640 2 inculsions, 5 patchess, 18.9ms\n",
      "Speed: 6.8ms preprocess, 18.9ms inference, 7.4ms postprocess per image at shape (1, 3, 640, 640)\n"
     ]
    },
    {
     "name": "stderr",
     "output_type": "stream",
     "text": [
      "Processing:  37%|████████████████████████▋                                          | 663/1800 [02:56<07:12,  2.63it/s]"
     ]
    },
    {
     "name": "stdout",
     "output_type": "stream",
     "text": [
      "\n",
      "0: 640x640 4 patchess, 16.1ms\n",
      "Speed: 5.3ms preprocess, 16.1ms inference, 3.5ms postprocess per image at shape (1, 3, 640, 640)\n"
     ]
    },
    {
     "name": "stderr",
     "output_type": "stream",
     "text": [
      "Processing:  37%|████████████████████████▋                                          | 664/1800 [02:57<06:49,  2.77it/s]"
     ]
    },
    {
     "name": "stdout",
     "output_type": "stream",
     "text": [
      "\n",
      "0: 640x640 2 patchess, 17.8ms\n",
      "Speed: 4.7ms preprocess, 17.8ms inference, 4.0ms postprocess per image at shape (1, 3, 640, 640)\n"
     ]
    },
    {
     "name": "stderr",
     "output_type": "stream",
     "text": [
      "Processing:  37%|████████████████████████▊                                          | 665/1800 [02:57<05:45,  3.29it/s]"
     ]
    },
    {
     "name": "stdout",
     "output_type": "stream",
     "text": [
      "\n",
      "0: 640x640 2 patchess, 15.3ms\n",
      "Speed: 6.3ms preprocess, 15.3ms inference, 3.8ms postprocess per image at shape (1, 3, 640, 640)\n"
     ]
    },
    {
     "name": "stderr",
     "output_type": "stream",
     "text": [
      "Processing:  37%|████████████████████████▊                                          | 666/1800 [02:57<04:59,  3.79it/s]"
     ]
    },
    {
     "name": "stdout",
     "output_type": "stream",
     "text": [
      "\n",
      "0: 640x640 2 patchess, 13.1ms\n",
      "Speed: 5.3ms preprocess, 13.1ms inference, 2.6ms postprocess per image at shape (1, 3, 640, 640)\n"
     ]
    },
    {
     "name": "stderr",
     "output_type": "stream",
     "text": [
      "Processing:  37%|████████████████████████▊                                          | 667/1800 [02:57<04:28,  4.22it/s]"
     ]
    },
    {
     "name": "stdout",
     "output_type": "stream",
     "text": [
      "\n",
      "0: 640x640 3 patchess, 17.6ms\n",
      "Speed: 7.9ms preprocess, 17.6ms inference, 3.3ms postprocess per image at shape (1, 3, 640, 640)\n"
     ]
    },
    {
     "name": "stderr",
     "output_type": "stream",
     "text": [
      "Processing:  37%|████████████████████████▊                                          | 668/1800 [02:57<04:29,  4.20it/s]"
     ]
    },
    {
     "name": "stdout",
     "output_type": "stream",
     "text": [
      "\n",
      "0: 640x640 2 patchess, 16.6ms\n",
      "Speed: 5.1ms preprocess, 16.6ms inference, 3.5ms postprocess per image at shape (1, 3, 640, 640)\n"
     ]
    },
    {
     "name": "stderr",
     "output_type": "stream",
     "text": [
      "Processing:  37%|████████████████████████▉                                          | 669/1800 [02:58<04:06,  4.58it/s]"
     ]
    },
    {
     "name": "stdout",
     "output_type": "stream",
     "text": [
      "\n",
      "0: 640x640 1 patches, 18.0ms\n",
      "Speed: 5.5ms preprocess, 18.0ms inference, 3.2ms postprocess per image at shape (1, 3, 640, 640)\n"
     ]
    },
    {
     "name": "stderr",
     "output_type": "stream",
     "text": [
      "Processing:  37%|████████████████████████▉                                          | 670/1800 [02:58<03:27,  5.44it/s]"
     ]
    },
    {
     "name": "stdout",
     "output_type": "stream",
     "text": [
      "\n",
      "0: 640x640 2 patchess, 18.8ms\n",
      "Speed: 4.9ms preprocess, 18.8ms inference, 3.7ms postprocess per image at shape (1, 3, 640, 640)\n"
     ]
    },
    {
     "name": "stderr",
     "output_type": "stream",
     "text": [
      "Processing:  37%|████████████████████████▉                                          | 671/1800 [02:58<03:26,  5.47it/s]"
     ]
    },
    {
     "name": "stdout",
     "output_type": "stream",
     "text": [
      "\n",
      "0: 640x640 2 patchess, 13.5ms\n",
      "Speed: 5.4ms preprocess, 13.5ms inference, 3.9ms postprocess per image at shape (1, 3, 640, 640)\n"
     ]
    },
    {
     "name": "stderr",
     "output_type": "stream",
     "text": [
      "Processing:  37%|█████████████████████████                                          | 672/1800 [02:58<03:20,  5.63it/s]"
     ]
    },
    {
     "name": "stdout",
     "output_type": "stream",
     "text": [
      "\n",
      "0: 640x640 2 patchess, 20.6ms\n",
      "Speed: 5.8ms preprocess, 20.6ms inference, 3.8ms postprocess per image at shape (1, 3, 640, 640)\n"
     ]
    },
    {
     "name": "stderr",
     "output_type": "stream",
     "text": [
      "Processing:  37%|█████████████████████████                                          | 673/1800 [02:58<03:20,  5.62it/s]"
     ]
    },
    {
     "name": "stdout",
     "output_type": "stream",
     "text": [
      "\n",
      "0: 640x640 4 patchess, 15.8ms\n",
      "Speed: 5.0ms preprocess, 15.8ms inference, 3.2ms postprocess per image at shape (1, 3, 640, 640)\n"
     ]
    },
    {
     "name": "stderr",
     "output_type": "stream",
     "text": [
      "Processing:  37%|█████████████████████████                                          | 674/1800 [02:59<04:04,  4.60it/s]"
     ]
    },
    {
     "name": "stdout",
     "output_type": "stream",
     "text": [
      "\n",
      "0: 640x640 3 patchess, 23.2ms\n",
      "Speed: 4.5ms preprocess, 23.2ms inference, 5.0ms postprocess per image at shape (1, 3, 640, 640)\n"
     ]
    },
    {
     "name": "stderr",
     "output_type": "stream",
     "text": [
      "Processing:  38%|█████████████████████████▏                                         | 675/1800 [02:59<04:13,  4.43it/s]"
     ]
    },
    {
     "name": "stdout",
     "output_type": "stream",
     "text": [
      "\n",
      "0: 640x640 2 inculsions, 4 patchess, 17.3ms\n",
      "Speed: 4.7ms preprocess, 17.3ms inference, 3.4ms postprocess per image at shape (1, 3, 640, 640)\n"
     ]
    },
    {
     "name": "stderr",
     "output_type": "stream",
     "text": [
      "Processing:  38%|█████████████████████████▏                                         | 676/1800 [02:59<05:26,  3.44it/s]"
     ]
    },
    {
     "name": "stdout",
     "output_type": "stream",
     "text": [
      "\n",
      "0: 640x640 4 inculsions, 6 patchess, 14.9ms\n",
      "Speed: 4.5ms preprocess, 14.9ms inference, 3.0ms postprocess per image at shape (1, 3, 640, 640)\n"
     ]
    },
    {
     "name": "stderr",
     "output_type": "stream",
     "text": [
      "Processing:  38%|█████████████████████████▏                                         | 677/1800 [03:00<08:02,  2.33it/s]"
     ]
    },
    {
     "name": "stdout",
     "output_type": "stream",
     "text": [
      "\n",
      "0: 640x640 2 patchess, 20.2ms\n",
      "Speed: 4.9ms preprocess, 20.2ms inference, 3.7ms postprocess per image at shape (1, 3, 640, 640)\n"
     ]
    },
    {
     "name": "stderr",
     "output_type": "stream",
     "text": [
      "Processing:  38%|█████████████████████████▏                                         | 678/1800 [03:00<06:39,  2.81it/s]"
     ]
    },
    {
     "name": "stdout",
     "output_type": "stream",
     "text": [
      "\n",
      "0: 640x640 3 patchess, 17.3ms\n",
      "Speed: 5.0ms preprocess, 17.3ms inference, 4.2ms postprocess per image at shape (1, 3, 640, 640)\n"
     ]
    },
    {
     "name": "stderr",
     "output_type": "stream",
     "text": [
      "Processing:  38%|█████████████████████████▎                                         | 679/1800 [03:00<06:02,  3.10it/s]"
     ]
    },
    {
     "name": "stdout",
     "output_type": "stream",
     "text": [
      "\n",
      "0: 640x640 1 patches, 17.3ms\n",
      "Speed: 5.3ms preprocess, 17.3ms inference, 3.0ms postprocess per image at shape (1, 3, 640, 640)\n"
     ]
    },
    {
     "name": "stderr",
     "output_type": "stream",
     "text": [
      "Processing:  38%|█████████████████████████▎                                         | 680/1800 [03:01<05:11,  3.60it/s]"
     ]
    },
    {
     "name": "stdout",
     "output_type": "stream",
     "text": [
      "\n",
      "0: 640x640 1 inculsion, 3 patchess, 46.8ms\n",
      "Speed: 6.1ms preprocess, 46.8ms inference, 3.7ms postprocess per image at shape (1, 3, 640, 640)\n"
     ]
    },
    {
     "name": "stderr",
     "output_type": "stream",
     "text": [
      "Processing:  38%|█████████████████████████▎                                         | 681/1800 [03:01<05:40,  3.29it/s]"
     ]
    },
    {
     "name": "stdout",
     "output_type": "stream",
     "text": [
      "\n",
      "0: 640x640 3 inculsions, 4 patchess, 15.3ms\n",
      "Speed: 5.2ms preprocess, 15.3ms inference, 2.9ms postprocess per image at shape (1, 3, 640, 640)\n"
     ]
    },
    {
     "name": "stderr",
     "output_type": "stream",
     "text": [
      "Processing:  38%|█████████████████████████▍                                         | 682/1800 [03:01<06:50,  2.72it/s]"
     ]
    },
    {
     "name": "stdout",
     "output_type": "stream",
     "text": [
      "\n",
      "0: 640x640 2 patchess, 18.8ms\n",
      "Speed: 5.0ms preprocess, 18.8ms inference, 3.6ms postprocess per image at shape (1, 3, 640, 640)\n"
     ]
    },
    {
     "name": "stderr",
     "output_type": "stream",
     "text": [
      "Processing:  38%|█████████████████████████▍                                         | 683/1800 [03:02<05:48,  3.21it/s]"
     ]
    },
    {
     "name": "stdout",
     "output_type": "stream",
     "text": [
      "\n",
      "0: 640x640 1 inculsion, 3 patchess, 19.2ms\n",
      "Speed: 5.5ms preprocess, 19.2ms inference, 2.9ms postprocess per image at shape (1, 3, 640, 640)\n"
     ]
    },
    {
     "name": "stderr",
     "output_type": "stream",
     "text": [
      "Processing:  38%|█████████████████████████▍                                         | 684/1800 [03:02<05:56,  3.13it/s]"
     ]
    },
    {
     "name": "stdout",
     "output_type": "stream",
     "text": [
      "\n",
      "0: 640x640 3 patchess, 18.9ms\n",
      "Speed: 3.6ms preprocess, 18.9ms inference, 3.4ms postprocess per image at shape (1, 3, 640, 640)\n"
     ]
    },
    {
     "name": "stderr",
     "output_type": "stream",
     "text": [
      "Processing:  38%|█████████████████████████▍                                         | 685/1800 [03:02<05:40,  3.27it/s]"
     ]
    },
    {
     "name": "stdout",
     "output_type": "stream",
     "text": [
      "\n",
      "0: 640x640 1 inculsion, 1 patches, 18.9ms\n",
      "Speed: 5.6ms preprocess, 18.9ms inference, 5.1ms postprocess per image at shape (1, 3, 640, 640)\n"
     ]
    },
    {
     "name": "stderr",
     "output_type": "stream",
     "text": [
      "Processing:  38%|█████████████████████████▌                                         | 686/1800 [03:02<04:57,  3.75it/s]"
     ]
    },
    {
     "name": "stdout",
     "output_type": "stream",
     "text": [
      "\n",
      "0: 640x640 3 patchess, 17.2ms\n",
      "Speed: 4.8ms preprocess, 17.2ms inference, 3.5ms postprocess per image at shape (1, 3, 640, 640)\n"
     ]
    },
    {
     "name": "stderr",
     "output_type": "stream",
     "text": [
      "Processing:  38%|█████████████████████████▌                                         | 687/1800 [03:03<04:56,  3.75it/s]"
     ]
    },
    {
     "name": "stdout",
     "output_type": "stream",
     "text": [
      "\n",
      "0: 640x640 2 patchess, 17.1ms\n",
      "Speed: 6.3ms preprocess, 17.1ms inference, 3.7ms postprocess per image at shape (1, 3, 640, 640)\n"
     ]
    },
    {
     "name": "stderr",
     "output_type": "stream",
     "text": [
      "Processing:  38%|█████████████████████████▌                                         | 688/1800 [03:03<04:23,  4.21it/s]"
     ]
    },
    {
     "name": "stdout",
     "output_type": "stream",
     "text": [
      "\n",
      "0: 640x640 6 patchess, 18.6ms\n",
      "Speed: 5.0ms preprocess, 18.6ms inference, 3.5ms postprocess per image at shape (1, 3, 640, 640)\n"
     ]
    },
    {
     "name": "stderr",
     "output_type": "stream",
     "text": [
      "Processing:  38%|█████████████████████████▋                                         | 689/1800 [03:03<05:41,  3.25it/s]"
     ]
    },
    {
     "name": "stdout",
     "output_type": "stream",
     "text": [
      "\n",
      "0: 640x640 4 patchess, 23.0ms\n",
      "Speed: 6.1ms preprocess, 23.0ms inference, 5.5ms postprocess per image at shape (1, 3, 640, 640)\n"
     ]
    },
    {
     "name": "stderr",
     "output_type": "stream",
     "text": [
      "Processing:  38%|█████████████████████████▋                                         | 690/1800 [03:04<05:47,  3.19it/s]"
     ]
    },
    {
     "name": "stdout",
     "output_type": "stream",
     "text": [
      "\n",
      "0: 640x640 3 patchess, 18.3ms\n",
      "Speed: 5.2ms preprocess, 18.3ms inference, 3.8ms postprocess per image at shape (1, 3, 640, 640)\n"
     ]
    },
    {
     "name": "stderr",
     "output_type": "stream",
     "text": [
      "Processing:  38%|█████████████████████████▋                                         | 691/1800 [03:04<05:30,  3.36it/s]"
     ]
    },
    {
     "name": "stdout",
     "output_type": "stream",
     "text": [
      "\n",
      "0: 640x640 8 patchess, 22.6ms\n",
      "Speed: 5.4ms preprocess, 22.6ms inference, 4.0ms postprocess per image at shape (1, 3, 640, 640)\n"
     ]
    },
    {
     "name": "stderr",
     "output_type": "stream",
     "text": [
      "Processing:  38%|█████████████████████████▊                                         | 692/1800 [03:05<07:08,  2.58it/s]"
     ]
    },
    {
     "name": "stdout",
     "output_type": "stream",
     "text": [
      "\n",
      "0: 640x640 1 inculsion, 4 patchess, 18.9ms\n",
      "Speed: 6.1ms preprocess, 18.9ms inference, 4.2ms postprocess per image at shape (1, 3, 640, 640)\n"
     ]
    },
    {
     "name": "stderr",
     "output_type": "stream",
     "text": [
      "Processing:  38%|█████████████████████████▊                                         | 693/1800 [03:05<07:00,  2.63it/s]"
     ]
    },
    {
     "name": "stdout",
     "output_type": "stream",
     "text": [
      "\n",
      "0: 640x640 2 patchess, 17.5ms\n",
      "Speed: 4.4ms preprocess, 17.5ms inference, 4.1ms postprocess per image at shape (1, 3, 640, 640)\n"
     ]
    },
    {
     "name": "stderr",
     "output_type": "stream",
     "text": [
      "Processing:  39%|█████████████████████████▊                                         | 694/1800 [03:05<05:49,  3.17it/s]"
     ]
    },
    {
     "name": "stdout",
     "output_type": "stream",
     "text": [
      "\n",
      "0: 640x640 3 inculsions, 5 patchess, 16.7ms\n",
      "Speed: 5.3ms preprocess, 16.7ms inference, 4.0ms postprocess per image at shape (1, 3, 640, 640)\n"
     ]
    },
    {
     "name": "stderr",
     "output_type": "stream",
     "text": [
      "Processing:  39%|█████████████████████████▊                                         | 695/1800 [03:06<08:03,  2.29it/s]"
     ]
    },
    {
     "name": "stdout",
     "output_type": "stream",
     "text": [
      "\n",
      "0: 640x640 4 patchess, 17.9ms\n",
      "Speed: 6.7ms preprocess, 17.9ms inference, 3.2ms postprocess per image at shape (1, 3, 640, 640)\n"
     ]
    },
    {
     "name": "stderr",
     "output_type": "stream",
     "text": [
      "Processing:  39%|█████████████████████████▉                                         | 696/1800 [03:06<07:15,  2.53it/s]"
     ]
    },
    {
     "name": "stdout",
     "output_type": "stream",
     "text": [
      "\n",
      "0: 640x640 3 patchess, 22.3ms\n",
      "Speed: 5.0ms preprocess, 22.3ms inference, 2.8ms postprocess per image at shape (1, 3, 640, 640)\n"
     ]
    },
    {
     "name": "stderr",
     "output_type": "stream",
     "text": [
      "Processing:  39%|█████████████████████████▉                                         | 697/1800 [03:06<06:29,  2.83it/s]"
     ]
    },
    {
     "name": "stdout",
     "output_type": "stream",
     "text": [
      "\n",
      "0: 640x640 4 inculsions, 4 patchess, 15.7ms\n",
      "Speed: 6.9ms preprocess, 15.7ms inference, 2.7ms postprocess per image at shape (1, 3, 640, 640)\n"
     ]
    },
    {
     "name": "stderr",
     "output_type": "stream",
     "text": [
      "Processing:  39%|█████████████████████████▉                                         | 698/1800 [03:07<08:04,  2.27it/s]"
     ]
    },
    {
     "name": "stdout",
     "output_type": "stream",
     "text": [
      "\n",
      "0: 640x640 2 inculsions, 3 patchess, 34.8ms\n",
      "Speed: 5.6ms preprocess, 34.8ms inference, 5.8ms postprocess per image at shape (1, 3, 640, 640)\n"
     ]
    },
    {
     "name": "stderr",
     "output_type": "stream",
     "text": [
      "Processing:  39%|██████████████████████████                                         | 699/1800 [03:07<07:58,  2.30it/s]"
     ]
    },
    {
     "name": "stdout",
     "output_type": "stream",
     "text": [
      "\n",
      "0: 640x640 3 patchess, 17.3ms\n",
      "Speed: 4.6ms preprocess, 17.3ms inference, 3.4ms postprocess per image at shape (1, 3, 640, 640)\n"
     ]
    },
    {
     "name": "stderr",
     "output_type": "stream",
     "text": [
      "Processing:  39%|██████████████████████████                                         | 700/1800 [03:08<06:53,  2.66it/s]"
     ]
    },
    {
     "name": "stdout",
     "output_type": "stream",
     "text": [
      "\n",
      "0: 640x640 4 patchess, 17.5ms\n",
      "Speed: 5.1ms preprocess, 17.5ms inference, 3.5ms postprocess per image at shape (1, 3, 640, 640)\n"
     ]
    },
    {
     "name": "stderr",
     "output_type": "stream",
     "text": [
      "Processing:  39%|██████████████████████████                                         | 701/1800 [03:08<06:39,  2.75it/s]"
     ]
    },
    {
     "name": "stdout",
     "output_type": "stream",
     "text": [
      "\n",
      "0: 640x640 3 inculsions, 2 patchess, 16.6ms\n",
      "Speed: 8.7ms preprocess, 16.6ms inference, 4.1ms postprocess per image at shape (1, 3, 640, 640)\n"
     ]
    },
    {
     "name": "stderr",
     "output_type": "stream",
     "text": [
      "Processing:  39%|██████████████████████████▏                                        | 702/1800 [03:08<06:57,  2.63it/s]"
     ]
    },
    {
     "name": "stdout",
     "output_type": "stream",
     "text": [
      "\n",
      "0: 640x640 2 patchess, 14.1ms\n",
      "Speed: 8.7ms preprocess, 14.1ms inference, 2.9ms postprocess per image at shape (1, 3, 640, 640)\n"
     ]
    },
    {
     "name": "stderr",
     "output_type": "stream",
     "text": [
      "Processing:  39%|██████████████████████████▏                                        | 703/1800 [03:09<05:49,  3.14it/s]"
     ]
    },
    {
     "name": "stdout",
     "output_type": "stream",
     "text": [
      "\n",
      "0: 640x640 2 patchess, 15.0ms\n",
      "Speed: 5.4ms preprocess, 15.0ms inference, 4.4ms postprocess per image at shape (1, 3, 640, 640)\n"
     ]
    },
    {
     "name": "stderr",
     "output_type": "stream",
     "text": [
      "Processing:  39%|██████████████████████████▏                                        | 704/1800 [03:09<04:58,  3.67it/s]"
     ]
    },
    {
     "name": "stdout",
     "output_type": "stream",
     "text": [
      "\n",
      "0: 640x640 4 patchess, 17.3ms\n",
      "Speed: 5.6ms preprocess, 17.3ms inference, 3.6ms postprocess per image at shape (1, 3, 640, 640)\n"
     ]
    },
    {
     "name": "stderr",
     "output_type": "stream",
     "text": [
      "Processing:  39%|██████████████████████████▏                                        | 705/1800 [03:09<05:18,  3.43it/s]"
     ]
    },
    {
     "name": "stdout",
     "output_type": "stream",
     "text": [
      "\n",
      "0: 640x640 4 patchess, 18.0ms\n",
      "Speed: 6.1ms preprocess, 18.0ms inference, 3.8ms postprocess per image at shape (1, 3, 640, 640)\n"
     ]
    },
    {
     "name": "stderr",
     "output_type": "stream",
     "text": [
      "Processing:  39%|██████████████████████████▎                                        | 706/1800 [03:09<05:18,  3.44it/s]"
     ]
    },
    {
     "name": "stdout",
     "output_type": "stream",
     "text": [
      "\n",
      "0: 640x640 2 inculsions, 3 patchess, 15.4ms\n",
      "Speed: 7.0ms preprocess, 15.4ms inference, 2.6ms postprocess per image at shape (1, 3, 640, 640)\n"
     ]
    },
    {
     "name": "stderr",
     "output_type": "stream",
     "text": [
      "Processing:  39%|██████████████████████████▎                                        | 707/1800 [03:10<06:20,  2.88it/s]"
     ]
    },
    {
     "name": "stdout",
     "output_type": "stream",
     "text": [
      "\n",
      "0: 640x640 3 patchess, 16.0ms\n",
      "Speed: 5.1ms preprocess, 16.0ms inference, 3.8ms postprocess per image at shape (1, 3, 640, 640)\n"
     ]
    },
    {
     "name": "stderr",
     "output_type": "stream",
     "text": [
      "Processing:  39%|██████████████████████████▎                                        | 708/1800 [03:10<05:43,  3.18it/s]"
     ]
    },
    {
     "name": "stdout",
     "output_type": "stream",
     "text": [
      "\n",
      "0: 640x640 3 patchess, 15.0ms\n",
      "Speed: 4.9ms preprocess, 15.0ms inference, 7.7ms postprocess per image at shape (1, 3, 640, 640)\n"
     ]
    },
    {
     "name": "stderr",
     "output_type": "stream",
     "text": [
      "Processing:  39%|██████████████████████████▍                                        | 709/1800 [03:10<05:24,  3.36it/s]"
     ]
    },
    {
     "name": "stdout",
     "output_type": "stream",
     "text": [
      "\n",
      "0: 640x640 1 inculsion, 3 patchess, 17.4ms\n",
      "Speed: 4.5ms preprocess, 17.4ms inference, 3.6ms postprocess per image at shape (1, 3, 640, 640)\n"
     ]
    },
    {
     "name": "stderr",
     "output_type": "stream",
     "text": [
      "Processing:  39%|██████████████████████████▍                                        | 710/1800 [03:11<05:35,  3.25it/s]"
     ]
    },
    {
     "name": "stdout",
     "output_type": "stream",
     "text": [
      "\n",
      "0: 640x640 1 inculsion, 5 patchess, 15.9ms\n",
      "Speed: 5.1ms preprocess, 15.9ms inference, 3.4ms postprocess per image at shape (1, 3, 640, 640)\n"
     ]
    },
    {
     "name": "stderr",
     "output_type": "stream",
     "text": [
      "Processing:  40%|██████████████████████████▍                                        | 711/1800 [03:11<06:24,  2.84it/s]"
     ]
    },
    {
     "name": "stdout",
     "output_type": "stream",
     "text": [
      "\n",
      "0: 640x640 3 patchess, 17.7ms\n",
      "Speed: 5.4ms preprocess, 17.7ms inference, 3.9ms postprocess per image at shape (1, 3, 640, 640)\n"
     ]
    },
    {
     "name": "stderr",
     "output_type": "stream",
     "text": [
      "Processing:  40%|██████████████████████████▌                                        | 712/1800 [03:11<05:46,  3.14it/s]"
     ]
    },
    {
     "name": "stdout",
     "output_type": "stream",
     "text": [
      "\n",
      "0: 640x640 2 patchess, 17.6ms\n",
      "Speed: 4.5ms preprocess, 17.6ms inference, 3.3ms postprocess per image at shape (1, 3, 640, 640)\n"
     ]
    },
    {
     "name": "stderr",
     "output_type": "stream",
     "text": [
      "Processing:  40%|██████████████████████████▌                                        | 713/1800 [03:12<05:00,  3.61it/s]"
     ]
    },
    {
     "name": "stdout",
     "output_type": "stream",
     "text": [
      "\n",
      "0: 640x640 4 patchess, 15.6ms\n",
      "Speed: 5.5ms preprocess, 15.6ms inference, 3.2ms postprocess per image at shape (1, 3, 640, 640)\n"
     ]
    },
    {
     "name": "stderr",
     "output_type": "stream",
     "text": [
      "Processing:  40%|██████████████████████████▌                                        | 714/1800 [03:12<05:18,  3.41it/s]"
     ]
    },
    {
     "name": "stdout",
     "output_type": "stream",
     "text": [
      "\n",
      "0: 640x640 1 inculsion, 5 patchess, 19.9ms\n",
      "Speed: 3.9ms preprocess, 19.9ms inference, 4.1ms postprocess per image at shape (1, 3, 640, 640)\n"
     ]
    },
    {
     "name": "stderr",
     "output_type": "stream",
     "text": [
      "Processing:  40%|██████████████████████████▌                                        | 715/1800 [03:12<06:21,  2.85it/s]"
     ]
    },
    {
     "name": "stdout",
     "output_type": "stream",
     "text": [
      "\n",
      "0: 640x640 1 inculsion, 4 patchess, 16.4ms\n",
      "Speed: 5.8ms preprocess, 16.4ms inference, 3.7ms postprocess per image at shape (1, 3, 640, 640)\n"
     ]
    },
    {
     "name": "stderr",
     "output_type": "stream",
     "text": [
      "Processing:  40%|██████████████████████████▋                                        | 716/1800 [03:13<07:00,  2.58it/s]"
     ]
    },
    {
     "name": "stdout",
     "output_type": "stream",
     "text": [
      "\n",
      "0: 640x640 1 inculsion, 2 patchess, 12.8ms\n",
      "Speed: 5.6ms preprocess, 12.8ms inference, 2.8ms postprocess per image at shape (1, 3, 640, 640)\n"
     ]
    },
    {
     "name": "stderr",
     "output_type": "stream",
     "text": [
      "Processing:  40%|██████████████████████████▋                                        | 717/1800 [03:13<06:06,  2.95it/s]"
     ]
    },
    {
     "name": "stdout",
     "output_type": "stream",
     "text": [
      "\n",
      "0: 640x640 4 patchess, 20.6ms\n",
      "Speed: 4.9ms preprocess, 20.6ms inference, 3.0ms postprocess per image at shape (1, 3, 640, 640)\n"
     ]
    },
    {
     "name": "stderr",
     "output_type": "stream",
     "text": [
      "Processing:  40%|██████████████████████████▋                                        | 718/1800 [03:13<05:58,  3.01it/s]"
     ]
    },
    {
     "name": "stdout",
     "output_type": "stream",
     "text": [
      "\n",
      "0: 640x640 3 patchess, 17.9ms\n",
      "Speed: 6.0ms preprocess, 17.9ms inference, 3.2ms postprocess per image at shape (1, 3, 640, 640)\n"
     ]
    },
    {
     "name": "stderr",
     "output_type": "stream",
     "text": [
      "Processing:  40%|██████████████████████████▊                                        | 719/1800 [03:14<05:27,  3.30it/s]"
     ]
    },
    {
     "name": "stdout",
     "output_type": "stream",
     "text": [
      "\n",
      "0: 640x640 1 inculsion, 4 patchess, 15.8ms\n",
      "Speed: 5.5ms preprocess, 15.8ms inference, 3.5ms postprocess per image at shape (1, 3, 640, 640)\n"
     ]
    },
    {
     "name": "stderr",
     "output_type": "stream",
     "text": [
      "Processing:  40%|██████████████████████████▊                                        | 720/1800 [03:14<06:03,  2.97it/s]"
     ]
    },
    {
     "name": "stdout",
     "output_type": "stream",
     "text": [
      "\n",
      "0: 640x640 4 patchess, 14.7ms\n",
      "Speed: 5.1ms preprocess, 14.7ms inference, 3.0ms postprocess per image at shape (1, 3, 640, 640)\n"
     ]
    },
    {
     "name": "stderr",
     "output_type": "stream",
     "text": [
      "Processing:  40%|██████████████████████████▊                                        | 721/1800 [03:14<05:55,  3.04it/s]"
     ]
    },
    {
     "name": "stdout",
     "output_type": "stream",
     "text": [
      "\n",
      "0: 640x640 3 patchess, 17.2ms\n",
      "Speed: 5.5ms preprocess, 17.2ms inference, 3.2ms postprocess per image at shape (1, 3, 640, 640)\n"
     ]
    },
    {
     "name": "stderr",
     "output_type": "stream",
     "text": [
      "Processing:  40%|██████████████████████████▊                                        | 722/1800 [03:15<05:29,  3.27it/s]"
     ]
    },
    {
     "name": "stdout",
     "output_type": "stream",
     "text": [
      "\n",
      "0: 640x640 1 inculsion, 3 patchess, 23.6ms\n",
      "Speed: 5.7ms preprocess, 23.6ms inference, 3.0ms postprocess per image at shape (1, 3, 640, 640)\n"
     ]
    },
    {
     "name": "stderr",
     "output_type": "stream",
     "text": [
      "Processing:  40%|██████████████████████████▉                                        | 723/1800 [03:15<05:33,  3.23it/s]"
     ]
    },
    {
     "name": "stdout",
     "output_type": "stream",
     "text": [
      "\n",
      "0: 640x640 4 patchess, 31.9ms\n",
      "Speed: 6.6ms preprocess, 31.9ms inference, 5.8ms postprocess per image at shape (1, 3, 640, 640)\n"
     ]
    },
    {
     "name": "stderr",
     "output_type": "stream",
     "text": [
      "Processing:  40%|██████████████████████████▉                                        | 724/1800 [03:15<05:42,  3.15it/s]"
     ]
    },
    {
     "name": "stdout",
     "output_type": "stream",
     "text": [
      "\n",
      "0: 640x640 2 patchess, 15.2ms\n",
      "Speed: 5.9ms preprocess, 15.2ms inference, 3.9ms postprocess per image at shape (1, 3, 640, 640)\n"
     ]
    },
    {
     "name": "stderr",
     "output_type": "stream",
     "text": [
      "Processing:  40%|██████████████████████████▉                                        | 725/1800 [03:15<04:53,  3.67it/s]"
     ]
    },
    {
     "name": "stdout",
     "output_type": "stream",
     "text": [
      "\n",
      "0: 640x640 4 patchess, 17.5ms\n",
      "Speed: 5.6ms preprocess, 17.5ms inference, 3.3ms postprocess per image at shape (1, 3, 640, 640)\n"
     ]
    },
    {
     "name": "stderr",
     "output_type": "stream",
     "text": [
      "Processing:  40%|███████████████████████████                                        | 726/1800 [03:16<05:12,  3.43it/s]"
     ]
    },
    {
     "name": "stdout",
     "output_type": "stream",
     "text": [
      "\n",
      "0: 640x640 4 patchess, 15.2ms\n",
      "Speed: 6.0ms preprocess, 15.2ms inference, 3.8ms postprocess per image at shape (1, 3, 640, 640)\n"
     ]
    },
    {
     "name": "stderr",
     "output_type": "stream",
     "text": [
      "Processing:  40%|███████████████████████████                                        | 727/1800 [03:16<05:18,  3.37it/s]"
     ]
    },
    {
     "name": "stdout",
     "output_type": "stream",
     "text": [
      "\n",
      "0: 640x640 3 patchess, 95.7ms\n",
      "Speed: 6.5ms preprocess, 95.7ms inference, 10.3ms postprocess per image at shape (1, 3, 640, 640)\n"
     ]
    },
    {
     "name": "stderr",
     "output_type": "stream",
     "text": [
      "Processing:  40%|███████████████████████████                                        | 728/1800 [03:16<05:42,  3.13it/s]"
     ]
    },
    {
     "name": "stdout",
     "output_type": "stream",
     "text": [
      "\n",
      "0: 640x640 1 patches, 17.5ms\n",
      "Speed: 5.8ms preprocess, 17.5ms inference, 3.4ms postprocess per image at shape (1, 3, 640, 640)\n"
     ]
    },
    {
     "name": "stderr",
     "output_type": "stream",
     "text": [
      "Processing:  40%|███████████████████████████▏                                       | 729/1800 [03:17<04:32,  3.94it/s]"
     ]
    },
    {
     "name": "stdout",
     "output_type": "stream",
     "text": [
      "\n",
      "0: 640x640 4 patchess, 31.1ms\n",
      "Speed: 5.4ms preprocess, 31.1ms inference, 6.0ms postprocess per image at shape (1, 3, 640, 640)\n"
     ]
    },
    {
     "name": "stderr",
     "output_type": "stream",
     "text": [
      "Processing:  41%|███████████████████████████▏                                       | 730/1800 [03:17<04:59,  3.57it/s]"
     ]
    },
    {
     "name": "stdout",
     "output_type": "stream",
     "text": [
      "\n",
      "0: 640x640 5 patchess, 17.0ms\n",
      "Speed: 4.7ms preprocess, 17.0ms inference, 3.1ms postprocess per image at shape (1, 3, 640, 640)\n"
     ]
    },
    {
     "name": "stderr",
     "output_type": "stream",
     "text": [
      "Processing:  41%|███████████████████████████▏                                       | 731/1800 [03:17<05:43,  3.11it/s]"
     ]
    },
    {
     "name": "stdout",
     "output_type": "stream",
     "text": [
      "\n",
      "0: 640x640 5 patchess, 17.6ms\n",
      "Speed: 5.6ms preprocess, 17.6ms inference, 3.2ms postprocess per image at shape (1, 3, 640, 640)\n"
     ]
    },
    {
     "name": "stderr",
     "output_type": "stream",
     "text": [
      "Processing:  41%|███████████████████████████▏                                       | 732/1800 [03:18<06:14,  2.85it/s]"
     ]
    },
    {
     "name": "stdout",
     "output_type": "stream",
     "text": [
      "\n",
      "0: 640x640 4 patchess, 12.6ms\n",
      "Speed: 5.0ms preprocess, 12.6ms inference, 3.5ms postprocess per image at shape (1, 3, 640, 640)\n"
     ]
    },
    {
     "name": "stderr",
     "output_type": "stream",
     "text": [
      "Processing:  41%|███████████████████████████▎                                       | 733/1800 [03:18<06:05,  2.92it/s]"
     ]
    },
    {
     "name": "stdout",
     "output_type": "stream",
     "text": [
      "\n",
      "0: 640x640 1 patches, 13.1ms\n",
      "Speed: 5.0ms preprocess, 13.1ms inference, 4.5ms postprocess per image at shape (1, 3, 640, 640)\n",
      "\n",
      "0: 640x640 2 patchess, 21.4ms\n",
      "Speed: 5.7ms preprocess, 21.4ms inference, 3.2ms postprocess per image at shape (1, 3, 640, 640)\n"
     ]
    },
    {
     "name": "stderr",
     "output_type": "stream",
     "text": [
      "Processing:  41%|███████████████████████████▎                                       | 735/1800 [03:18<04:22,  4.06it/s]"
     ]
    },
    {
     "name": "stdout",
     "output_type": "stream",
     "text": [
      "\n",
      "0: 640x640 3 patchess, 17.1ms\n",
      "Speed: 5.3ms preprocess, 17.1ms inference, 3.8ms postprocess per image at shape (1, 3, 640, 640)\n"
     ]
    },
    {
     "name": "stderr",
     "output_type": "stream",
     "text": [
      "Processing:  41%|███████████████████████████▍                                       | 736/1800 [03:19<04:25,  4.01it/s]"
     ]
    },
    {
     "name": "stdout",
     "output_type": "stream",
     "text": [
      "\n",
      "0: 640x640 3 patchess, 18.7ms\n",
      "Speed: 4.6ms preprocess, 18.7ms inference, 3.6ms postprocess per image at shape (1, 3, 640, 640)\n"
     ]
    },
    {
     "name": "stderr",
     "output_type": "stream",
     "text": [
      "Processing:  41%|███████████████████████████▍                                       | 737/1800 [03:19<04:22,  4.06it/s]"
     ]
    },
    {
     "name": "stdout",
     "output_type": "stream",
     "text": [
      "\n",
      "0: 640x640 1 patches, 18.5ms\n",
      "Speed: 5.8ms preprocess, 18.5ms inference, 3.6ms postprocess per image at shape (1, 3, 640, 640)\n"
     ]
    },
    {
     "name": "stderr",
     "output_type": "stream",
     "text": [
      "Processing:  41%|███████████████████████████▍                                       | 738/1800 [03:19<03:43,  4.75it/s]"
     ]
    },
    {
     "name": "stdout",
     "output_type": "stream",
     "text": [
      "\n",
      "0: 640x640 3 patchess, 15.8ms\n",
      "Speed: 5.8ms preprocess, 15.8ms inference, 4.0ms postprocess per image at shape (1, 3, 640, 640)\n"
     ]
    },
    {
     "name": "stderr",
     "output_type": "stream",
     "text": [
      "Processing:  41%|███████████████████████████▌                                       | 739/1800 [03:19<03:52,  4.57it/s]"
     ]
    },
    {
     "name": "stdout",
     "output_type": "stream",
     "text": [
      "\n",
      "0: 640x640 2 patchess, 17.0ms\n",
      "Speed: 5.6ms preprocess, 17.0ms inference, 3.4ms postprocess per image at shape (1, 3, 640, 640)\n"
     ]
    },
    {
     "name": "stderr",
     "output_type": "stream",
     "text": [
      "Processing:  41%|███████████████████████████▌                                       | 740/1800 [03:19<03:36,  4.89it/s]"
     ]
    },
    {
     "name": "stdout",
     "output_type": "stream",
     "text": [
      "\n",
      "0: 640x640 2 patchess, 16.0ms\n",
      "Speed: 7.3ms preprocess, 16.0ms inference, 3.2ms postprocess per image at shape (1, 3, 640, 640)\n"
     ]
    },
    {
     "name": "stderr",
     "output_type": "stream",
     "text": [
      "Processing:  41%|███████████████████████████▌                                       | 741/1800 [03:19<03:25,  5.16it/s]"
     ]
    },
    {
     "name": "stdout",
     "output_type": "stream",
     "text": [
      "\n",
      "0: 640x640 3 patchess, 22.8ms\n",
      "Speed: 6.1ms preprocess, 22.8ms inference, 3.5ms postprocess per image at shape (1, 3, 640, 640)\n"
     ]
    },
    {
     "name": "stderr",
     "output_type": "stream",
     "text": [
      "Processing:  41%|███████████████████████████▌                                       | 742/1800 [03:20<04:06,  4.30it/s]"
     ]
    },
    {
     "name": "stdout",
     "output_type": "stream",
     "text": [
      "\n",
      "0: 640x640 1 inculsion, 3 patchess, 26.8ms\n",
      "Speed: 6.7ms preprocess, 26.8ms inference, 4.2ms postprocess per image at shape (1, 3, 640, 640)\n"
     ]
    },
    {
     "name": "stderr",
     "output_type": "stream",
     "text": [
      "Processing:  41%|███████████████████████████▋                                       | 743/1800 [03:20<04:36,  3.82it/s]"
     ]
    },
    {
     "name": "stdout",
     "output_type": "stream",
     "text": [
      "\n",
      "0: 640x640 1 inculsion, 3 patchess, 17.8ms\n",
      "Speed: 5.1ms preprocess, 17.8ms inference, 3.8ms postprocess per image at shape (1, 3, 640, 640)\n"
     ]
    },
    {
     "name": "stderr",
     "output_type": "stream",
     "text": [
      "Processing:  41%|███████████████████████████▋                                       | 744/1800 [03:20<04:51,  3.63it/s]"
     ]
    },
    {
     "name": "stdout",
     "output_type": "stream",
     "text": [
      "\n",
      "0: 640x640 4 patchess, 18.0ms\n",
      "Speed: 5.4ms preprocess, 18.0ms inference, 3.3ms postprocess per image at shape (1, 3, 640, 640)\n"
     ]
    },
    {
     "name": "stderr",
     "output_type": "stream",
     "text": [
      "Processing:  41%|███████████████████████████▋                                       | 745/1800 [03:21<05:02,  3.49it/s]"
     ]
    },
    {
     "name": "stdout",
     "output_type": "stream",
     "text": [
      "\n",
      "0: 640x640 4 patchess, 18.1ms\n",
      "Speed: 5.3ms preprocess, 18.1ms inference, 2.8ms postprocess per image at shape (1, 3, 640, 640)\n"
     ]
    },
    {
     "name": "stderr",
     "output_type": "stream",
     "text": [
      "Processing:  41%|███████████████████████████▊                                       | 746/1800 [03:21<05:15,  3.34it/s]"
     ]
    },
    {
     "name": "stdout",
     "output_type": "stream",
     "text": [
      "\n",
      "0: 640x640 2 inculsions, 3 patchess, 17.3ms\n",
      "Speed: 4.7ms preprocess, 17.3ms inference, 3.0ms postprocess per image at shape (1, 3, 640, 640)\n"
     ]
    },
    {
     "name": "stderr",
     "output_type": "stream",
     "text": [
      "Processing:  42%|███████████████████████████▊                                       | 747/1800 [03:21<05:43,  3.06it/s]"
     ]
    },
    {
     "name": "stdout",
     "output_type": "stream",
     "text": [
      "\n",
      "0: 640x640 6 patchess, 30.0ms\n",
      "Speed: 5.7ms preprocess, 30.0ms inference, 2.9ms postprocess per image at shape (1, 3, 640, 640)\n"
     ]
    },
    {
     "name": "stderr",
     "output_type": "stream",
     "text": [
      "Processing:  42%|███████████████████████████▊                                       | 748/1800 [03:22<06:21,  2.75it/s]"
     ]
    },
    {
     "name": "stdout",
     "output_type": "stream",
     "text": [
      "\n",
      "0: 640x640 6 patchess, 18.7ms\n",
      "Speed: 5.4ms preprocess, 18.7ms inference, 3.2ms postprocess per image at shape (1, 3, 640, 640)\n"
     ]
    },
    {
     "name": "stderr",
     "output_type": "stream",
     "text": [
      "Processing:  42%|███████████████████████████▉                                       | 749/1800 [03:22<06:53,  2.54it/s]"
     ]
    },
    {
     "name": "stdout",
     "output_type": "stream",
     "text": [
      "\n",
      "0: 640x640 3 patchess, 18.9ms\n",
      "Speed: 4.8ms preprocess, 18.9ms inference, 3.8ms postprocess per image at shape (1, 3, 640, 640)\n"
     ]
    },
    {
     "name": "stderr",
     "output_type": "stream",
     "text": [
      "Processing:  42%|███████████████████████████▉                                       | 750/1800 [03:23<06:03,  2.89it/s]"
     ]
    },
    {
     "name": "stdout",
     "output_type": "stream",
     "text": [
      "\n",
      "0: 640x640 1 inculsion, 4 patchess, 17.8ms\n",
      "Speed: 5.1ms preprocess, 17.8ms inference, 3.9ms postprocess per image at shape (1, 3, 640, 640)\n"
     ]
    },
    {
     "name": "stderr",
     "output_type": "stream",
     "text": [
      "Processing:  42%|███████████████████████████▉                                       | 751/1800 [03:23<06:14,  2.80it/s]"
     ]
    },
    {
     "name": "stdout",
     "output_type": "stream",
     "text": [
      "\n",
      "0: 640x640 1 inculsion, 3 patchess, 15.3ms\n",
      "Speed: 5.8ms preprocess, 15.3ms inference, 2.9ms postprocess per image at shape (1, 3, 640, 640)\n"
     ]
    },
    {
     "name": "stderr",
     "output_type": "stream",
     "text": [
      "Processing:  42%|███████████████████████████▉                                       | 752/1800 [03:23<06:26,  2.71it/s]"
     ]
    },
    {
     "name": "stdout",
     "output_type": "stream",
     "text": [
      "\n",
      "0: 640x640 2 patchess, 15.5ms\n",
      "Speed: 6.6ms preprocess, 15.5ms inference, 3.0ms postprocess per image at shape (1, 3, 640, 640)\n"
     ]
    },
    {
     "name": "stderr",
     "output_type": "stream",
     "text": [
      "Processing:  42%|████████████████████████████                                       | 753/1800 [03:24<05:29,  3.18it/s]"
     ]
    },
    {
     "name": "stdout",
     "output_type": "stream",
     "text": [
      "\n",
      "0: 640x640 2 patchess, 18.9ms\n",
      "Speed: 4.0ms preprocess, 18.9ms inference, 3.2ms postprocess per image at shape (1, 3, 640, 640)\n"
     ]
    },
    {
     "name": "stderr",
     "output_type": "stream",
     "text": [
      "Processing:  42%|████████████████████████████                                       | 754/1800 [03:24<04:44,  3.67it/s]"
     ]
    },
    {
     "name": "stdout",
     "output_type": "stream",
     "text": [
      "\n",
      "0: 640x640 2 patchess, 19.3ms\n",
      "Speed: 5.2ms preprocess, 19.3ms inference, 5.3ms postprocess per image at shape (1, 3, 640, 640)\n"
     ]
    },
    {
     "name": "stderr",
     "output_type": "stream",
     "text": [
      "Processing:  42%|████████████████████████████                                       | 755/1800 [03:24<04:14,  4.10it/s]"
     ]
    },
    {
     "name": "stdout",
     "output_type": "stream",
     "text": [
      "\n",
      "0: 640x640 2 patchess, 22.8ms\n",
      "Speed: 5.5ms preprocess, 22.8ms inference, 4.1ms postprocess per image at shape (1, 3, 640, 640)\n"
     ]
    },
    {
     "name": "stderr",
     "output_type": "stream",
     "text": [
      "Processing:  42%|████████████████████████████▏                                      | 756/1800 [03:24<03:52,  4.50it/s]"
     ]
    },
    {
     "name": "stdout",
     "output_type": "stream",
     "text": [
      "\n",
      "0: 640x640 4 patchess, 17.6ms\n",
      "Speed: 5.9ms preprocess, 17.6ms inference, 4.0ms postprocess per image at shape (1, 3, 640, 640)\n"
     ]
    },
    {
     "name": "stderr",
     "output_type": "stream",
     "text": [
      "Processing:  42%|████████████████████████████▏                                      | 757/1800 [03:24<04:26,  3.92it/s]"
     ]
    },
    {
     "name": "stdout",
     "output_type": "stream",
     "text": [
      "\n",
      "0: 640x640 3 patchess, 18.0ms\n",
      "Speed: 5.2ms preprocess, 18.0ms inference, 2.6ms postprocess per image at shape (1, 3, 640, 640)\n"
     ]
    },
    {
     "name": "stderr",
     "output_type": "stream",
     "text": [
      "Processing:  42%|████████████████████████████▏                                      | 758/1800 [03:25<04:16,  4.06it/s]"
     ]
    },
    {
     "name": "stdout",
     "output_type": "stream",
     "text": [
      "\n",
      "0: 640x640 3 patchess, 18.9ms\n",
      "Speed: 5.5ms preprocess, 18.9ms inference, 3.0ms postprocess per image at shape (1, 3, 640, 640)\n"
     ]
    },
    {
     "name": "stderr",
     "output_type": "stream",
     "text": [
      "Processing:  42%|████████████████████████████▎                                      | 759/1800 [03:25<04:10,  4.16it/s]"
     ]
    },
    {
     "name": "stdout",
     "output_type": "stream",
     "text": [
      "\n",
      "0: 640x640 6 patchess, 18.7ms\n",
      "Speed: 6.0ms preprocess, 18.7ms inference, 3.3ms postprocess per image at shape (1, 3, 640, 640)\n"
     ]
    },
    {
     "name": "stderr",
     "output_type": "stream",
     "text": [
      "Processing:  42%|████████████████████████████▎                                      | 760/1800 [03:25<05:17,  3.27it/s]"
     ]
    },
    {
     "name": "stdout",
     "output_type": "stream",
     "text": [
      "\n",
      "0: 640x640 4 patchess, 23.7ms\n",
      "Speed: 7.6ms preprocess, 23.7ms inference, 3.4ms postprocess per image at shape (1, 3, 640, 640)\n"
     ]
    },
    {
     "name": "stderr",
     "output_type": "stream",
     "text": [
      "Processing:  42%|████████████████████████████▎                                      | 761/1800 [03:26<05:21,  3.23it/s]"
     ]
    },
    {
     "name": "stdout",
     "output_type": "stream",
     "text": [
      "\n",
      "0: 640x640 2 patchess, 14.2ms\n",
      "Speed: 4.6ms preprocess, 14.2ms inference, 2.5ms postprocess per image at shape (1, 3, 640, 640)\n"
     ]
    },
    {
     "name": "stderr",
     "output_type": "stream",
     "text": [
      "Processing:  42%|████████████████████████████▎                                      | 762/1800 [03:26<04:37,  3.74it/s]"
     ]
    },
    {
     "name": "stdout",
     "output_type": "stream",
     "text": [
      "\n",
      "0: 640x640 1 inculsion, 6 patchess, 17.0ms\n",
      "Speed: 5.6ms preprocess, 17.0ms inference, 3.8ms postprocess per image at shape (1, 3, 640, 640)\n"
     ]
    },
    {
     "name": "stderr",
     "output_type": "stream",
     "text": [
      "Processing:  42%|████████████████████████████▍                                      | 763/1800 [03:26<05:59,  2.88it/s]"
     ]
    },
    {
     "name": "stdout",
     "output_type": "stream",
     "text": [
      "\n",
      "0: 640x640 4 patchess, 16.2ms\n",
      "Speed: 5.6ms preprocess, 16.2ms inference, 2.9ms postprocess per image at shape (1, 3, 640, 640)\n"
     ]
    },
    {
     "name": "stderr",
     "output_type": "stream",
     "text": [
      "Processing:  42%|████████████████████████████▍                                      | 764/1800 [03:27<05:53,  2.93it/s]"
     ]
    },
    {
     "name": "stdout",
     "output_type": "stream",
     "text": [
      "\n",
      "0: 640x640 1 inculsion, 2 patchess, 15.4ms\n",
      "Speed: 4.7ms preprocess, 15.4ms inference, 4.0ms postprocess per image at shape (1, 3, 640, 640)\n"
     ]
    },
    {
     "name": "stderr",
     "output_type": "stream",
     "text": [
      "Processing:  42%|████████████████████████████▍                                      | 765/1800 [03:27<05:49,  2.96it/s]"
     ]
    },
    {
     "name": "stdout",
     "output_type": "stream",
     "text": [
      "\n",
      "0: 640x640 1 crazing, 1 inculsion, 5 patchess, 16.8ms\n",
      "Speed: 5.7ms preprocess, 16.8ms inference, 4.0ms postprocess per image at shape (1, 3, 640, 640)\n"
     ]
    },
    {
     "name": "stderr",
     "output_type": "stream",
     "text": [
      "Processing:  43%|████████████████████████████▌                                      | 766/1800 [03:28<06:51,  2.51it/s]"
     ]
    },
    {
     "name": "stdout",
     "output_type": "stream",
     "text": [
      "\n",
      "0: 640x640 1 inculsion, 1 patches, 19.3ms\n",
      "Speed: 5.4ms preprocess, 19.3ms inference, 3.5ms postprocess per image at shape (1, 3, 640, 640)\n"
     ]
    },
    {
     "name": "stderr",
     "output_type": "stream",
     "text": [
      "Processing:  43%|████████████████████████████▌                                      | 767/1800 [03:28<05:44,  2.99it/s]"
     ]
    },
    {
     "name": "stdout",
     "output_type": "stream",
     "text": [
      "\n",
      "0: 640x640 5 patchess, 17.6ms\n",
      "Speed: 4.9ms preprocess, 17.6ms inference, 3.7ms postprocess per image at shape (1, 3, 640, 640)\n"
     ]
    },
    {
     "name": "stderr",
     "output_type": "stream",
     "text": [
      "Processing:  43%|████████████████████████████▌                                      | 768/1800 [03:28<06:00,  2.86it/s]"
     ]
    },
    {
     "name": "stdout",
     "output_type": "stream",
     "text": [
      "\n",
      "0: 640x640 4 patchess, 16.2ms\n",
      "Speed: 5.5ms preprocess, 16.2ms inference, 3.7ms postprocess per image at shape (1, 3, 640, 640)\n"
     ]
    },
    {
     "name": "stderr",
     "output_type": "stream",
     "text": [
      "Processing:  43%|████████████████████████████▌                                      | 769/1800 [03:28<05:52,  2.92it/s]"
     ]
    },
    {
     "name": "stdout",
     "output_type": "stream",
     "text": [
      "\n",
      "0: 640x640 2 patchess, 15.5ms\n",
      "Speed: 5.5ms preprocess, 15.5ms inference, 3.0ms postprocess per image at shape (1, 3, 640, 640)\n"
     ]
    },
    {
     "name": "stderr",
     "output_type": "stream",
     "text": [
      "Processing:  43%|████████████████████████████▋                                      | 770/1800 [03:29<04:58,  3.45it/s]"
     ]
    },
    {
     "name": "stdout",
     "output_type": "stream",
     "text": [
      "\n",
      "0: 640x640 3 patchess, 16.6ms\n",
      "Speed: 5.8ms preprocess, 16.6ms inference, 4.4ms postprocess per image at shape (1, 3, 640, 640)\n"
     ]
    },
    {
     "name": "stderr",
     "output_type": "stream",
     "text": [
      "Processing:  43%|████████████████████████████▋                                      | 771/1800 [03:29<04:42,  3.64it/s]"
     ]
    },
    {
     "name": "stdout",
     "output_type": "stream",
     "text": [
      "\n",
      "0: 640x640 3 patchess, 17.1ms\n",
      "Speed: 5.7ms preprocess, 17.1ms inference, 3.3ms postprocess per image at shape (1, 3, 640, 640)\n"
     ]
    },
    {
     "name": "stderr",
     "output_type": "stream",
     "text": [
      "Processing:  43%|████████████████████████████▋                                      | 772/1800 [03:29<04:29,  3.81it/s]"
     ]
    },
    {
     "name": "stdout",
     "output_type": "stream",
     "text": [
      "\n",
      "0: 640x640 3 patchess, 22.3ms\n",
      "Speed: 7.3ms preprocess, 22.3ms inference, 7.1ms postprocess per image at shape (1, 3, 640, 640)\n"
     ]
    },
    {
     "name": "stderr",
     "output_type": "stream",
     "text": [
      "Processing:  43%|████████████████████████████▊                                      | 773/1800 [03:29<04:24,  3.88it/s]"
     ]
    },
    {
     "name": "stdout",
     "output_type": "stream",
     "text": [
      "\n",
      "0: 640x640 3 patchess, 20.4ms\n",
      "Speed: 8.2ms preprocess, 20.4ms inference, 3.3ms postprocess per image at shape (1, 3, 640, 640)\n"
     ]
    },
    {
     "name": "stderr",
     "output_type": "stream",
     "text": [
      "Processing:  43%|████████████████████████████▊                                      | 774/1800 [03:30<04:16,  4.00it/s]"
     ]
    },
    {
     "name": "stdout",
     "output_type": "stream",
     "text": [
      "\n",
      "0: 640x640 1 crazing, 2 patchess, 15.8ms\n",
      "Speed: 5.7ms preprocess, 15.8ms inference, 2.8ms postprocess per image at shape (1, 3, 640, 640)\n"
     ]
    },
    {
     "name": "stderr",
     "output_type": "stream",
     "text": [
      "Processing:  43%|████████████████████████████▊                                      | 775/1800 [03:30<04:13,  4.04it/s]"
     ]
    },
    {
     "name": "stdout",
     "output_type": "stream",
     "text": [
      "\n",
      "0: 640x640 4 patchess, 99.4ms\n",
      "Speed: 5.9ms preprocess, 99.4ms inference, 8.9ms postprocess per image at shape (1, 3, 640, 640)\n"
     ]
    },
    {
     "name": "stderr",
     "output_type": "stream",
     "text": [
      "Processing:  43%|████████████████████████████▉                                      | 776/1800 [03:30<05:24,  3.15it/s]"
     ]
    },
    {
     "name": "stdout",
     "output_type": "stream",
     "text": [
      "\n",
      "0: 640x640 3 patchess, 15.1ms\n",
      "Speed: 6.0ms preprocess, 15.1ms inference, 2.5ms postprocess per image at shape (1, 3, 640, 640)\n"
     ]
    },
    {
     "name": "stderr",
     "output_type": "stream",
     "text": [
      "Processing:  43%|████████████████████████████▉                                      | 777/1800 [03:31<05:02,  3.39it/s]"
     ]
    },
    {
     "name": "stdout",
     "output_type": "stream",
     "text": [
      "\n",
      "0: 640x640 2 inculsions, 2 patchess, 23.2ms\n",
      "Speed: 6.2ms preprocess, 23.2ms inference, 7.1ms postprocess per image at shape (1, 3, 640, 640)\n"
     ]
    },
    {
     "name": "stderr",
     "output_type": "stream",
     "text": [
      "Processing:  43%|████████████████████████████▉                                      | 778/1800 [03:31<05:13,  3.26it/s]"
     ]
    },
    {
     "name": "stdout",
     "output_type": "stream",
     "text": [
      "\n",
      "0: 640x640 5 patchess, 15.6ms\n",
      "Speed: 4.9ms preprocess, 15.6ms inference, 2.8ms postprocess per image at shape (1, 3, 640, 640)\n"
     ]
    },
    {
     "name": "stderr",
     "output_type": "stream",
     "text": [
      "Processing:  43%|████████████████████████████▉                                      | 779/1800 [03:31<05:26,  3.13it/s]"
     ]
    },
    {
     "name": "stdout",
     "output_type": "stream",
     "text": [
      "\n",
      "0: 640x640 2 inculsions, 1 patches, 17.5ms\n",
      "Speed: 5.3ms preprocess, 17.5ms inference, 2.7ms postprocess per image at shape (1, 3, 640, 640)\n"
     ]
    },
    {
     "name": "stderr",
     "output_type": "stream",
     "text": [
      "Processing:  43%|█████████████████████████████                                      | 780/1800 [03:31<05:00,  3.40it/s]"
     ]
    },
    {
     "name": "stdout",
     "output_type": "stream",
     "text": [
      "\n",
      "0: 640x640 4 patchess, 20.3ms\n",
      "Speed: 4.0ms preprocess, 20.3ms inference, 3.2ms postprocess per image at shape (1, 3, 640, 640)\n"
     ]
    },
    {
     "name": "stderr",
     "output_type": "stream",
     "text": [
      "Processing:  43%|█████████████████████████████                                      | 781/1800 [03:32<05:08,  3.30it/s]"
     ]
    },
    {
     "name": "stdout",
     "output_type": "stream",
     "text": [
      "\n",
      "0: 640x640 3 patchess, 17.9ms\n",
      "Speed: 5.5ms preprocess, 17.9ms inference, 3.2ms postprocess per image at shape (1, 3, 640, 640)\n"
     ]
    },
    {
     "name": "stderr",
     "output_type": "stream",
     "text": [
      "Processing:  43%|█████████████████████████████                                      | 782/1800 [03:32<04:54,  3.46it/s]"
     ]
    },
    {
     "name": "stdout",
     "output_type": "stream",
     "text": [
      "\n",
      "0: 640x640 2 patchess, 29.1ms\n",
      "Speed: 5.2ms preprocess, 29.1ms inference, 3.4ms postprocess per image at shape (1, 3, 640, 640)\n"
     ]
    },
    {
     "name": "stderr",
     "output_type": "stream",
     "text": [
      "Processing:  44%|█████████████████████████████▏                                     | 783/1800 [03:32<04:20,  3.91it/s]"
     ]
    },
    {
     "name": "stdout",
     "output_type": "stream",
     "text": [
      "\n",
      "0: 640x640 2 patchess, 14.1ms\n",
      "Speed: 5.8ms preprocess, 14.1ms inference, 3.3ms postprocess per image at shape (1, 3, 640, 640)\n"
     ]
    },
    {
     "name": "stderr",
     "output_type": "stream",
     "text": [
      "Processing:  44%|█████████████████████████████▏                                     | 784/1800 [03:32<03:56,  4.30it/s]"
     ]
    },
    {
     "name": "stdout",
     "output_type": "stream",
     "text": [
      "\n",
      "0: 640x640 1 inculsion, 3 patchess, 17.6ms\n",
      "Speed: 5.3ms preprocess, 17.6ms inference, 3.6ms postprocess per image at shape (1, 3, 640, 640)\n"
     ]
    },
    {
     "name": "stderr",
     "output_type": "stream",
     "text": [
      "Processing:  44%|█████████████████████████████▏                                     | 785/1800 [03:33<04:23,  3.85it/s]"
     ]
    },
    {
     "name": "stdout",
     "output_type": "stream",
     "text": [
      "\n",
      "0: 640x640 3 patchess, 12.9ms\n",
      "Speed: 5.8ms preprocess, 12.9ms inference, 2.9ms postprocess per image at shape (1, 3, 640, 640)\n"
     ]
    },
    {
     "name": "stderr",
     "output_type": "stream",
     "text": [
      "Processing:  44%|█████████████████████████████▎                                     | 786/1800 [03:33<04:12,  4.02it/s]"
     ]
    },
    {
     "name": "stdout",
     "output_type": "stream",
     "text": [
      "\n",
      "0: 640x640 4 patchess, 15.1ms\n",
      "Speed: 4.5ms preprocess, 15.1ms inference, 2.7ms postprocess per image at shape (1, 3, 640, 640)\n"
     ]
    },
    {
     "name": "stderr",
     "output_type": "stream",
     "text": [
      "Processing:  44%|█████████████████████████████▎                                     | 787/1800 [03:33<04:36,  3.67it/s]"
     ]
    },
    {
     "name": "stdout",
     "output_type": "stream",
     "text": [
      "\n",
      "0: 640x640 4 patchess, 15.4ms\n",
      "Speed: 5.3ms preprocess, 15.4ms inference, 4.2ms postprocess per image at shape (1, 3, 640, 640)\n"
     ]
    },
    {
     "name": "stderr",
     "output_type": "stream",
     "text": [
      "Processing:  44%|█████████████████████████████▎                                     | 788/1800 [03:34<04:48,  3.51it/s]"
     ]
    },
    {
     "name": "stdout",
     "output_type": "stream",
     "text": [
      "\n",
      "0: 640x640 5 patchess, 24.7ms\n",
      "Speed: 7.4ms preprocess, 24.7ms inference, 3.1ms postprocess per image at shape (1, 3, 640, 640)\n"
     ]
    },
    {
     "name": "stderr",
     "output_type": "stream",
     "text": [
      "Processing:  44%|█████████████████████████████▎                                     | 789/1800 [03:34<05:26,  3.10it/s]"
     ]
    },
    {
     "name": "stdout",
     "output_type": "stream",
     "text": [
      "\n",
      "0: 640x640 1 inculsion, 6 patchess, 12.5ms\n",
      "Speed: 5.6ms preprocess, 12.5ms inference, 3.5ms postprocess per image at shape (1, 3, 640, 640)\n"
     ]
    },
    {
     "name": "stderr",
     "output_type": "stream",
     "text": [
      "Processing:  44%|█████████████████████████████▍                                     | 790/1800 [03:35<06:23,  2.63it/s]"
     ]
    },
    {
     "name": "stdout",
     "output_type": "stream",
     "text": [
      "\n",
      "0: 640x640 4 patchess, 21.1ms\n",
      "Speed: 5.7ms preprocess, 21.1ms inference, 3.9ms postprocess per image at shape (1, 3, 640, 640)\n"
     ]
    },
    {
     "name": "stderr",
     "output_type": "stream",
     "text": [
      "Processing:  44%|█████████████████████████████▍                                     | 791/1800 [03:35<06:34,  2.56it/s]"
     ]
    },
    {
     "name": "stdout",
     "output_type": "stream",
     "text": [
      "\n",
      "0: 640x640 2 patchess, 18.5ms\n",
      "Speed: 5.1ms preprocess, 18.5ms inference, 3.2ms postprocess per image at shape (1, 3, 640, 640)\n"
     ]
    },
    {
     "name": "stderr",
     "output_type": "stream",
     "text": [
      "Processing:  44%|█████████████████████████████▍                                     | 792/1800 [03:35<05:28,  3.07it/s]"
     ]
    },
    {
     "name": "stdout",
     "output_type": "stream",
     "text": [
      "\n",
      "0: 640x640 1 patches, 14.4ms\n",
      "Speed: 7.9ms preprocess, 14.4ms inference, 3.2ms postprocess per image at shape (1, 3, 640, 640)\n"
     ]
    },
    {
     "name": "stderr",
     "output_type": "stream",
     "text": [
      "Processing:  44%|█████████████████████████████▌                                     | 793/1800 [03:35<04:24,  3.81it/s]"
     ]
    },
    {
     "name": "stdout",
     "output_type": "stream",
     "text": [
      "\n",
      "0: 640x640 3 patchess, 17.6ms\n",
      "Speed: 4.9ms preprocess, 17.6ms inference, 3.0ms postprocess per image at shape (1, 3, 640, 640)\n"
     ]
    },
    {
     "name": "stderr",
     "output_type": "stream",
     "text": [
      "Processing:  44%|█████████████████████████████▌                                     | 794/1800 [03:35<04:15,  3.94it/s]"
     ]
    },
    {
     "name": "stdout",
     "output_type": "stream",
     "text": [
      "\n",
      "0: 640x640 1 patches, 16.4ms\n",
      "Speed: 5.1ms preprocess, 16.4ms inference, 3.5ms postprocess per image at shape (1, 3, 640, 640)\n"
     ]
    },
    {
     "name": "stderr",
     "output_type": "stream",
     "text": [
      "Processing:  44%|█████████████████████████████▌                                     | 795/1800 [03:36<03:29,  4.80it/s]"
     ]
    },
    {
     "name": "stdout",
     "output_type": "stream",
     "text": [
      "\n",
      "0: 640x640 1 patches, 18.2ms\n",
      "Speed: 4.7ms preprocess, 18.2ms inference, 3.3ms postprocess per image at shape (1, 3, 640, 640)\n"
     ]
    },
    {
     "name": "stderr",
     "output_type": "stream",
     "text": [
      "Processing:  44%|█████████████████████████████▋                                     | 796/1800 [03:36<03:00,  5.57it/s]"
     ]
    },
    {
     "name": "stdout",
     "output_type": "stream",
     "text": [
      "\n",
      "0: 640x640 4 patchess, 17.1ms\n",
      "Speed: 4.9ms preprocess, 17.1ms inference, 3.2ms postprocess per image at shape (1, 3, 640, 640)\n"
     ]
    },
    {
     "name": "stderr",
     "output_type": "stream",
     "text": [
      "Processing:  44%|█████████████████████████████▋                                     | 797/1800 [03:36<03:43,  4.48it/s]"
     ]
    },
    {
     "name": "stdout",
     "output_type": "stream",
     "text": [
      "\n",
      "0: 640x640 6 patchess, 14.8ms\n",
      "Speed: 7.0ms preprocess, 14.8ms inference, 4.0ms postprocess per image at shape (1, 3, 640, 640)\n"
     ]
    },
    {
     "name": "stderr",
     "output_type": "stream",
     "text": [
      "Processing:  44%|█████████████████████████████▋                                     | 798/1800 [03:36<05:00,  3.33it/s]"
     ]
    },
    {
     "name": "stdout",
     "output_type": "stream",
     "text": [
      "\n",
      "0: 640x640 1 patches, 20.6ms\n",
      "Speed: 6.2ms preprocess, 20.6ms inference, 3.3ms postprocess per image at shape (1, 3, 640, 640)\n",
      "\n",
      "0: 640x640 3 patchess, 16.6ms\n",
      "Speed: 6.0ms preprocess, 16.6ms inference, 3.5ms postprocess per image at shape (1, 3, 640, 640)\n"
     ]
    },
    {
     "name": "stderr",
     "output_type": "stream",
     "text": [
      "Processing:  44%|█████████████████████████████▊                                     | 800/1800 [03:37<03:59,  4.17it/s]"
     ]
    },
    {
     "name": "stdout",
     "output_type": "stream",
     "text": [
      "\n",
      "0: 640x640 1 inculsion, 4 patchess, 16.2ms\n",
      "Speed: 5.0ms preprocess, 16.2ms inference, 7.9ms postprocess per image at shape (1, 3, 640, 640)\n"
     ]
    },
    {
     "name": "stderr",
     "output_type": "stream",
     "text": [
      "Processing:  44%|█████████████████████████████▊                                     | 801/1800 [03:37<04:39,  3.58it/s]"
     ]
    },
    {
     "name": "stdout",
     "output_type": "stream",
     "text": [
      "\n",
      "0: 640x640 1 patches, 18.8ms\n",
      "Speed: 4.7ms preprocess, 18.8ms inference, 4.0ms postprocess per image at shape (1, 3, 640, 640)\n"
     ]
    },
    {
     "name": "stderr",
     "output_type": "stream",
     "text": [
      "Processing:  45%|█████████████████████████████▊                                     | 802/1800 [03:37<03:52,  4.28it/s]"
     ]
    },
    {
     "name": "stdout",
     "output_type": "stream",
     "text": [
      "\n",
      "0: 640x640 3 patchess, 19.0ms\n",
      "Speed: 8.2ms preprocess, 19.0ms inference, 3.7ms postprocess per image at shape (1, 3, 640, 640)\n"
     ]
    },
    {
     "name": "stderr",
     "output_type": "stream",
     "text": [
      "Processing:  45%|█████████████████████████████▉                                     | 803/1800 [03:38<03:59,  4.16it/s]"
     ]
    },
    {
     "name": "stdout",
     "output_type": "stream",
     "text": [
      "\n",
      "0: 640x640 2 patchess, 16.3ms\n",
      "Speed: 5.4ms preprocess, 16.3ms inference, 3.6ms postprocess per image at shape (1, 3, 640, 640)\n"
     ]
    },
    {
     "name": "stderr",
     "output_type": "stream",
     "text": [
      "Processing:  45%|█████████████████████████████▉                                     | 804/1800 [03:38<03:37,  4.58it/s]"
     ]
    },
    {
     "name": "stdout",
     "output_type": "stream",
     "text": [
      "\n",
      "0: 640x640 4 patchess, 21.1ms\n",
      "Speed: 4.9ms preprocess, 21.1ms inference, 3.2ms postprocess per image at shape (1, 3, 640, 640)\n"
     ]
    },
    {
     "name": "stderr",
     "output_type": "stream",
     "text": [
      "Processing:  45%|█████████████████████████████▉                                     | 805/1800 [03:38<04:08,  4.00it/s]"
     ]
    },
    {
     "name": "stdout",
     "output_type": "stream",
     "text": [
      "\n",
      "0: 640x640 1 patches, 14.9ms\n",
      "Speed: 5.1ms preprocess, 14.9ms inference, 3.3ms postprocess per image at shape (1, 3, 640, 640)\n",
      "\n",
      "0: 640x640 3 patchess, 16.8ms\n",
      "Speed: 6.6ms preprocess, 16.8ms inference, 2.9ms postprocess per image at shape (1, 3, 640, 640)\n"
     ]
    },
    {
     "name": "stderr",
     "output_type": "stream",
     "text": [
      "Processing:  45%|██████████████████████████████                                     | 807/1800 [03:38<03:30,  4.71it/s]"
     ]
    },
    {
     "name": "stdout",
     "output_type": "stream",
     "text": [
      "\n",
      "0: 640x640 4 patchess, 17.7ms\n",
      "Speed: 4.3ms preprocess, 17.7ms inference, 4.1ms postprocess per image at shape (1, 3, 640, 640)\n"
     ]
    },
    {
     "name": "stderr",
     "output_type": "stream",
     "text": [
      "Processing:  45%|██████████████████████████████                                     | 808/1800 [03:39<03:57,  4.17it/s]"
     ]
    },
    {
     "name": "stdout",
     "output_type": "stream",
     "text": [
      "\n",
      "0: 640x640 2 patchess, 14.7ms\n",
      "Speed: 5.1ms preprocess, 14.7ms inference, 3.8ms postprocess per image at shape (1, 3, 640, 640)\n"
     ]
    },
    {
     "name": "stderr",
     "output_type": "stream",
     "text": [
      "Processing:  45%|██████████████████████████████                                     | 809/1800 [03:39<03:38,  4.53it/s]"
     ]
    },
    {
     "name": "stdout",
     "output_type": "stream",
     "text": [
      "\n",
      "0: 640x640 2 patchess, 19.9ms\n",
      "Speed: 5.5ms preprocess, 19.9ms inference, 3.8ms postprocess per image at shape (1, 3, 640, 640)\n"
     ]
    },
    {
     "name": "stderr",
     "output_type": "stream",
     "text": [
      "Processing:  45%|██████████████████████████████▏                                    | 810/1800 [03:39<03:27,  4.78it/s]"
     ]
    },
    {
     "name": "stdout",
     "output_type": "stream",
     "text": [
      "\n",
      "0: 640x640 5 patchess, 15.2ms\n",
      "Speed: 5.2ms preprocess, 15.2ms inference, 2.6ms postprocess per image at shape (1, 3, 640, 640)\n"
     ]
    },
    {
     "name": "stderr",
     "output_type": "stream",
     "text": [
      "Processing:  45%|██████████████████████████████▏                                    | 811/1800 [03:39<04:13,  3.91it/s]"
     ]
    },
    {
     "name": "stdout",
     "output_type": "stream",
     "text": [
      "\n",
      "0: 640x640 4 patchess, 89.8ms\n",
      "Speed: 7.2ms preprocess, 89.8ms inference, 19.5ms postprocess per image at shape (1, 3, 640, 640)\n"
     ]
    },
    {
     "name": "stderr",
     "output_type": "stream",
     "text": [
      "Processing:  45%|██████████████████████████████▏                                    | 812/1800 [03:40<05:02,  3.27it/s]"
     ]
    },
    {
     "name": "stdout",
     "output_type": "stream",
     "text": [
      "\n",
      "0: 640x640 5 patchess, 16.4ms\n",
      "Speed: 5.8ms preprocess, 16.4ms inference, 2.7ms postprocess per image at shape (1, 3, 640, 640)\n"
     ]
    },
    {
     "name": "stderr",
     "output_type": "stream",
     "text": [
      "Processing:  45%|██████████████████████████████▎                                    | 813/1800 [03:40<05:31,  2.97it/s]"
     ]
    },
    {
     "name": "stdout",
     "output_type": "stream",
     "text": [
      "\n",
      "0: 640x640 4 patchess, 21.0ms\n",
      "Speed: 5.1ms preprocess, 21.0ms inference, 3.5ms postprocess per image at shape (1, 3, 640, 640)\n"
     ]
    },
    {
     "name": "stderr",
     "output_type": "stream",
     "text": [
      "Processing:  45%|██████████████████████████████▎                                    | 814/1800 [03:41<05:19,  3.09it/s]"
     ]
    },
    {
     "name": "stdout",
     "output_type": "stream",
     "text": [
      "\n",
      "0: 640x640 5 patchess, 19.7ms\n",
      "Speed: 4.8ms preprocess, 19.7ms inference, 3.4ms postprocess per image at shape (1, 3, 640, 640)\n"
     ]
    },
    {
     "name": "stderr",
     "output_type": "stream",
     "text": [
      "Processing:  45%|██████████████████████████████▎                                    | 815/1800 [03:41<05:47,  2.83it/s]"
     ]
    },
    {
     "name": "stdout",
     "output_type": "stream",
     "text": [
      "\n",
      "0: 640x640 1 patches, 17.8ms\n",
      "Speed: 4.7ms preprocess, 17.8ms inference, 4.0ms postprocess per image at shape (1, 3, 640, 640)\n"
     ]
    },
    {
     "name": "stderr",
     "output_type": "stream",
     "text": [
      "Processing:  45%|██████████████████████████████▎                                    | 816/1800 [03:41<04:34,  3.58it/s]"
     ]
    },
    {
     "name": "stdout",
     "output_type": "stream",
     "text": [
      "\n",
      "0: 640x640 3 patchess, 17.0ms\n",
      "Speed: 5.5ms preprocess, 17.0ms inference, 2.5ms postprocess per image at shape (1, 3, 640, 640)\n"
     ]
    },
    {
     "name": "stderr",
     "output_type": "stream",
     "text": [
      "Processing:  45%|██████████████████████████████▍                                    | 817/1800 [03:41<04:24,  3.72it/s]"
     ]
    },
    {
     "name": "stdout",
     "output_type": "stream",
     "text": [
      "\n",
      "0: 640x640 3 patchess, 14.0ms\n",
      "Speed: 5.7ms preprocess, 14.0ms inference, 4.7ms postprocess per image at shape (1, 3, 640, 640)\n"
     ]
    },
    {
     "name": "stderr",
     "output_type": "stream",
     "text": [
      "Processing:  45%|██████████████████████████████▍                                    | 818/1800 [03:42<04:14,  3.86it/s]"
     ]
    },
    {
     "name": "stdout",
     "output_type": "stream",
     "text": [
      "\n",
      "0: 640x640 4 patchess, 12.4ms\n",
      "Speed: 5.0ms preprocess, 12.4ms inference, 2.9ms postprocess per image at shape (1, 3, 640, 640)\n"
     ]
    },
    {
     "name": "stderr",
     "output_type": "stream",
     "text": [
      "Processing:  46%|██████████████████████████████▍                                    | 819/1800 [03:42<04:31,  3.62it/s]"
     ]
    },
    {
     "name": "stdout",
     "output_type": "stream",
     "text": [
      "\n",
      "0: 640x640 3 patchess, 17.6ms\n",
      "Speed: 5.4ms preprocess, 17.6ms inference, 3.3ms postprocess per image at shape (1, 3, 640, 640)\n"
     ]
    },
    {
     "name": "stderr",
     "output_type": "stream",
     "text": [
      "Processing:  46%|██████████████████████████████▌                                    | 820/1800 [03:42<04:22,  3.74it/s]"
     ]
    },
    {
     "name": "stdout",
     "output_type": "stream",
     "text": [
      "\n",
      "0: 640x640 3 patchess, 17.9ms\n",
      "Speed: 5.5ms preprocess, 17.9ms inference, 3.9ms postprocess per image at shape (1, 3, 640, 640)\n"
     ]
    },
    {
     "name": "stderr",
     "output_type": "stream",
     "text": [
      "Processing:  46%|██████████████████████████████▌                                    | 821/1800 [03:42<04:15,  3.83it/s]"
     ]
    },
    {
     "name": "stdout",
     "output_type": "stream",
     "text": [
      "\n",
      "0: 640x640 3 patchess, 18.0ms\n",
      "Speed: 5.1ms preprocess, 18.0ms inference, 3.6ms postprocess per image at shape (1, 3, 640, 640)\n"
     ]
    },
    {
     "name": "stderr",
     "output_type": "stream",
     "text": [
      "Processing:  46%|██████████████████████████████▌                                    | 822/1800 [03:43<04:09,  3.92it/s]"
     ]
    },
    {
     "name": "stdout",
     "output_type": "stream",
     "text": [
      "\n",
      "0: 640x640 6 patchess, 18.0ms\n",
      "Speed: 5.5ms preprocess, 18.0ms inference, 3.6ms postprocess per image at shape (1, 3, 640, 640)\n"
     ]
    },
    {
     "name": "stderr",
     "output_type": "stream",
     "text": [
      "Processing:  46%|██████████████████████████████▋                                    | 823/1800 [03:43<05:33,  2.93it/s]"
     ]
    },
    {
     "name": "stdout",
     "output_type": "stream",
     "text": [
      "\n",
      "0: 640x640 6 patchess, 24.3ms\n",
      "Speed: 6.6ms preprocess, 24.3ms inference, 3.7ms postprocess per image at shape (1, 3, 640, 640)\n"
     ]
    },
    {
     "name": "stderr",
     "output_type": "stream",
     "text": [
      "Processing:  46%|██████████████████████████████▋                                    | 824/1800 [03:44<06:11,  2.63it/s]"
     ]
    },
    {
     "name": "stdout",
     "output_type": "stream",
     "text": [
      "\n",
      "0: 640x640 2 patchess, 19.2ms\n",
      "Speed: 5.8ms preprocess, 19.2ms inference, 3.8ms postprocess per image at shape (1, 3, 640, 640)\n"
     ]
    },
    {
     "name": "stderr",
     "output_type": "stream",
     "text": [
      "Processing:  46%|██████████████████████████████▋                                    | 825/1800 [03:44<05:11,  3.13it/s]"
     ]
    },
    {
     "name": "stdout",
     "output_type": "stream",
     "text": [
      "\n",
      "0: 640x640 3 patchess, 18.2ms\n",
      "Speed: 5.7ms preprocess, 18.2ms inference, 2.8ms postprocess per image at shape (1, 3, 640, 640)\n"
     ]
    },
    {
     "name": "stderr",
     "output_type": "stream",
     "text": [
      "Processing:  46%|██████████████████████████████▋                                    | 826/1800 [03:44<04:43,  3.44it/s]"
     ]
    },
    {
     "name": "stdout",
     "output_type": "stream",
     "text": [
      "\n",
      "0: 640x640 3 patchess, 15.4ms\n",
      "Speed: 5.5ms preprocess, 15.4ms inference, 3.0ms postprocess per image at shape (1, 3, 640, 640)\n"
     ]
    },
    {
     "name": "stderr",
     "output_type": "stream",
     "text": [
      "Processing:  46%|██████████████████████████████▊                                    | 827/1800 [03:44<04:26,  3.65it/s]"
     ]
    },
    {
     "name": "stdout",
     "output_type": "stream",
     "text": [
      "\n",
      "0: 640x640 1 inculsion, 4 patchess, 17.0ms\n",
      "Speed: 4.4ms preprocess, 17.0ms inference, 5.7ms postprocess per image at shape (1, 3, 640, 640)\n"
     ]
    },
    {
     "name": "stderr",
     "output_type": "stream",
     "text": [
      "Processing:  46%|██████████████████████████████▊                                    | 828/1800 [03:45<04:54,  3.30it/s]"
     ]
    },
    {
     "name": "stdout",
     "output_type": "stream",
     "text": [
      "\n",
      "0: 640x640 1 inculsion, 4 patchess, 16.2ms\n",
      "Speed: 6.1ms preprocess, 16.2ms inference, 2.9ms postprocess per image at shape (1, 3, 640, 640)\n"
     ]
    },
    {
     "name": "stderr",
     "output_type": "stream",
     "text": [
      "Processing:  46%|██████████████████████████████▊                                    | 829/1800 [03:45<05:17,  3.06it/s]"
     ]
    },
    {
     "name": "stdout",
     "output_type": "stream",
     "text": [
      "\n",
      "0: 640x640 1 inculsion, 3 patchess, 14.7ms\n",
      "Speed: 5.4ms preprocess, 14.7ms inference, 4.1ms postprocess per image at shape (1, 3, 640, 640)\n"
     ]
    },
    {
     "name": "stderr",
     "output_type": "stream",
     "text": [
      "Processing:  46%|██████████████████████████████▉                                    | 830/1800 [03:45<05:08,  3.14it/s]"
     ]
    },
    {
     "name": "stdout",
     "output_type": "stream",
     "text": [
      "\n",
      "0: 640x640 1 inculsion, 2 patchess, 31.2ms\n",
      "Speed: 5.7ms preprocess, 31.2ms inference, 3.4ms postprocess per image at shape (1, 3, 640, 640)\n"
     ]
    },
    {
     "name": "stderr",
     "output_type": "stream",
     "text": [
      "Processing:  46%|██████████████████████████████▉                                    | 831/1800 [03:46<04:52,  3.31it/s]"
     ]
    },
    {
     "name": "stdout",
     "output_type": "stream",
     "text": [
      "\n",
      "0: 640x640 2 patchess, 17.3ms\n",
      "Speed: 5.4ms preprocess, 17.3ms inference, 4.1ms postprocess per image at shape (1, 3, 640, 640)\n"
     ]
    },
    {
     "name": "stderr",
     "output_type": "stream",
     "text": [
      "Processing:  46%|██████████████████████████████▉                                    | 832/1800 [03:46<04:13,  3.81it/s]"
     ]
    },
    {
     "name": "stdout",
     "output_type": "stream",
     "text": [
      "\n",
      "0: 640x640 3 patchess, 18.0ms\n",
      "Speed: 5.8ms preprocess, 18.0ms inference, 3.4ms postprocess per image at shape (1, 3, 640, 640)\n"
     ]
    },
    {
     "name": "stderr",
     "output_type": "stream",
     "text": [
      "Processing:  46%|███████████████████████████████                                    | 833/1800 [03:46<04:08,  3.89it/s]"
     ]
    },
    {
     "name": "stdout",
     "output_type": "stream",
     "text": [
      "\n",
      "0: 640x640 1 inculsion, 2 patchess, 94.6ms\n",
      "Speed: 6.1ms preprocess, 94.6ms inference, 7.5ms postprocess per image at shape (1, 3, 640, 640)\n"
     ]
    },
    {
     "name": "stderr",
     "output_type": "stream",
     "text": [
      "Processing:  46%|███████████████████████████████                                    | 834/1800 [03:46<04:40,  3.45it/s]"
     ]
    },
    {
     "name": "stdout",
     "output_type": "stream",
     "text": [
      "\n",
      "0: 640x640 1 inculsion, 2 patchess, 15.8ms\n",
      "Speed: 4.0ms preprocess, 15.8ms inference, 3.6ms postprocess per image at shape (1, 3, 640, 640)\n"
     ]
    },
    {
     "name": "stderr",
     "output_type": "stream",
     "text": [
      "Processing:  46%|███████████████████████████████                                    | 835/1800 [03:47<04:33,  3.52it/s]"
     ]
    },
    {
     "name": "stdout",
     "output_type": "stream",
     "text": [
      "\n",
      "0: 640x640 4 patchess, 18.7ms\n",
      "Speed: 5.8ms preprocess, 18.7ms inference, 3.9ms postprocess per image at shape (1, 3, 640, 640)\n"
     ]
    },
    {
     "name": "stderr",
     "output_type": "stream",
     "text": [
      "Processing:  46%|███████████████████████████████                                    | 836/1800 [03:47<04:40,  3.44it/s]"
     ]
    },
    {
     "name": "stdout",
     "output_type": "stream",
     "text": [
      "\n",
      "0: 640x640 2 patchess, 24.7ms\n",
      "Speed: 3.7ms preprocess, 24.7ms inference, 3.1ms postprocess per image at shape (1, 3, 640, 640)\n"
     ]
    },
    {
     "name": "stderr",
     "output_type": "stream",
     "text": [
      "Processing:  46%|███████████████████████████████▏                                   | 837/1800 [03:47<04:06,  3.90it/s]"
     ]
    },
    {
     "name": "stdout",
     "output_type": "stream",
     "text": [
      "\n",
      "0: 640x640 2 patchess, 19.1ms\n",
      "Speed: 5.4ms preprocess, 19.1ms inference, 3.2ms postprocess per image at shape (1, 3, 640, 640)\n"
     ]
    },
    {
     "name": "stderr",
     "output_type": "stream",
     "text": [
      "Processing:  47%|███████████████████████████████▏                                   | 838/1800 [03:47<03:42,  4.32it/s]"
     ]
    },
    {
     "name": "stdout",
     "output_type": "stream",
     "text": [
      "\n",
      "0: 640x640 1 patches, 17.2ms\n",
      "Speed: 5.1ms preprocess, 17.2ms inference, 3.3ms postprocess per image at shape (1, 3, 640, 640)\n"
     ]
    },
    {
     "name": "stderr",
     "output_type": "stream",
     "text": [
      "Processing:  47%|███████████████████████████████▏                                   | 839/1800 [03:47<03:05,  5.19it/s]"
     ]
    },
    {
     "name": "stdout",
     "output_type": "stream",
     "text": [
      "\n",
      "0: 640x640 1 inculsion, 1 patches, 28.4ms\n",
      "Speed: 5.4ms preprocess, 28.4ms inference, 3.3ms postprocess per image at shape (1, 3, 640, 640)\n"
     ]
    },
    {
     "name": "stderr",
     "output_type": "stream",
     "text": [
      "Processing:  47%|███████████████████████████████▎                                   | 840/1800 [03:48<03:02,  5.25it/s]"
     ]
    },
    {
     "name": "stdout",
     "output_type": "stream",
     "text": [
      "\n",
      "0: 640x640 1 crazing, 1 inculsion, 4 patchess, 18.2ms\n",
      "Speed: 4.8ms preprocess, 18.2ms inference, 2.9ms postprocess per image at shape (1, 3, 640, 640)\n"
     ]
    },
    {
     "name": "stderr",
     "output_type": "stream",
     "text": [
      "Processing:  47%|███████████████████████████████▎                                   | 841/1800 [03:48<04:24,  3.62it/s]"
     ]
    },
    {
     "name": "stdout",
     "output_type": "stream",
     "text": [
      "\n",
      "0: 640x640 3 patchess, 19.7ms\n",
      "Speed: 5.2ms preprocess, 19.7ms inference, 5.1ms postprocess per image at shape (1, 3, 640, 640)\n"
     ]
    },
    {
     "name": "stderr",
     "output_type": "stream",
     "text": [
      "Processing:  47%|███████████████████████████████▎                                   | 842/1800 [03:48<04:15,  3.76it/s]"
     ]
    },
    {
     "name": "stdout",
     "output_type": "stream",
     "text": [
      "\n",
      "0: 640x640 4 patchess, 18.2ms\n",
      "Speed: 5.2ms preprocess, 18.2ms inference, 1.8ms postprocess per image at shape (1, 3, 640, 640)\n"
     ]
    },
    {
     "name": "stderr",
     "output_type": "stream",
     "text": [
      "Processing:  47%|███████████████████████████████▍                                   | 843/1800 [03:49<04:26,  3.59it/s]"
     ]
    },
    {
     "name": "stdout",
     "output_type": "stream",
     "text": [
      "\n",
      "0: 640x640 3 patchess, 17.9ms\n",
      "Speed: 8.6ms preprocess, 17.9ms inference, 3.6ms postprocess per image at shape (1, 3, 640, 640)\n"
     ]
    },
    {
     "name": "stderr",
     "output_type": "stream",
     "text": [
      "Processing:  47%|███████████████████████████████▍                                   | 844/1800 [03:49<04:14,  3.76it/s]"
     ]
    },
    {
     "name": "stdout",
     "output_type": "stream",
     "text": [
      "\n",
      "0: 640x640 3 patchess, 17.9ms\n",
      "Speed: 5.6ms preprocess, 17.9ms inference, 3.7ms postprocess per image at shape (1, 3, 640, 640)\n"
     ]
    },
    {
     "name": "stderr",
     "output_type": "stream",
     "text": [
      "Processing:  47%|███████████████████████████████▍                                   | 845/1800 [03:49<04:05,  3.89it/s]"
     ]
    },
    {
     "name": "stdout",
     "output_type": "stream",
     "text": [
      "\n",
      "0: 640x640 3 patchess, 13.0ms\n",
      "Speed: 4.9ms preprocess, 13.0ms inference, 3.6ms postprocess per image at shape (1, 3, 640, 640)\n"
     ]
    },
    {
     "name": "stderr",
     "output_type": "stream",
     "text": [
      "Processing:  47%|███████████████████████████████▍                                   | 846/1800 [03:49<03:59,  3.98it/s]"
     ]
    },
    {
     "name": "stdout",
     "output_type": "stream",
     "text": [
      "\n",
      "0: 640x640 3 patchess, 15.7ms\n",
      "Speed: 4.4ms preprocess, 15.7ms inference, 3.2ms postprocess per image at shape (1, 3, 640, 640)\n"
     ]
    },
    {
     "name": "stderr",
     "output_type": "stream",
     "text": [
      "Processing:  47%|███████████████████████████████▌                                   | 847/1800 [03:50<03:55,  4.05it/s]"
     ]
    },
    {
     "name": "stdout",
     "output_type": "stream",
     "text": [
      "\n",
      "0: 640x640 3 patchess, 15.5ms\n",
      "Speed: 5.9ms preprocess, 15.5ms inference, 3.0ms postprocess per image at shape (1, 3, 640, 640)\n"
     ]
    },
    {
     "name": "stderr",
     "output_type": "stream",
     "text": [
      "Processing:  47%|███████████████████████████████▌                                   | 848/1800 [03:50<03:49,  4.15it/s]"
     ]
    },
    {
     "name": "stdout",
     "output_type": "stream",
     "text": [
      "\n",
      "0: 640x640 2 patchess, 15.3ms\n",
      "Speed: 5.6ms preprocess, 15.3ms inference, 3.9ms postprocess per image at shape (1, 3, 640, 640)\n"
     ]
    },
    {
     "name": "stderr",
     "output_type": "stream",
     "text": [
      "Processing:  47%|███████████████████████████████▌                                   | 849/1800 [03:50<03:31,  4.51it/s]"
     ]
    },
    {
     "name": "stdout",
     "output_type": "stream",
     "text": [
      "\n",
      "0: 640x640 4 patchess, 18.5ms\n",
      "Speed: 5.3ms preprocess, 18.5ms inference, 3.9ms postprocess per image at shape (1, 3, 640, 640)\n"
     ]
    },
    {
     "name": "stderr",
     "output_type": "stream",
     "text": [
      "Processing:  47%|███████████████████████████████▋                                   | 850/1800 [03:50<04:21,  3.64it/s]"
     ]
    },
    {
     "name": "stdout",
     "output_type": "stream",
     "text": [
      "\n",
      "0: 640x640 1 patches, 29.5ms\n",
      "Speed: 5.7ms preprocess, 29.5ms inference, 3.4ms postprocess per image at shape (1, 3, 640, 640)\n"
     ]
    },
    {
     "name": "stderr",
     "output_type": "stream",
     "text": [
      "Processing:  47%|███████████████████████████████▋                                   | 851/1800 [03:51<03:35,  4.40it/s]"
     ]
    },
    {
     "name": "stdout",
     "output_type": "stream",
     "text": [
      "\n",
      "0: 640x640 2 patchess, 17.2ms\n",
      "Speed: 4.7ms preprocess, 17.2ms inference, 3.5ms postprocess per image at shape (1, 3, 640, 640)\n"
     ]
    },
    {
     "name": "stderr",
     "output_type": "stream",
     "text": [
      "Processing:  47%|███████████████████████████████▋                                   | 852/1800 [03:51<03:24,  4.63it/s]"
     ]
    },
    {
     "name": "stdout",
     "output_type": "stream",
     "text": [
      "\n",
      "0: 640x640 4 patchess, 18.2ms\n",
      "Speed: 5.4ms preprocess, 18.2ms inference, 2.5ms postprocess per image at shape (1, 3, 640, 640)\n"
     ]
    },
    {
     "name": "stderr",
     "output_type": "stream",
     "text": [
      "Processing:  47%|███████████████████████████████▊                                   | 853/1800 [03:51<03:49,  4.12it/s]"
     ]
    },
    {
     "name": "stdout",
     "output_type": "stream",
     "text": [
      "\n",
      "0: 640x640 2 inculsions, 2 patchess, 15.5ms\n",
      "Speed: 5.6ms preprocess, 15.5ms inference, 2.2ms postprocess per image at shape (1, 3, 640, 640)\n"
     ]
    },
    {
     "name": "stderr",
     "output_type": "stream",
     "text": [
      "Processing:  47%|███████████████████████████████▊                                   | 854/1800 [03:51<04:08,  3.81it/s]"
     ]
    },
    {
     "name": "stdout",
     "output_type": "stream",
     "text": [
      "\n",
      "0: 640x640 5 patchess, 18.1ms\n",
      "Speed: 5.6ms preprocess, 18.1ms inference, 3.9ms postprocess per image at shape (1, 3, 640, 640)\n"
     ]
    },
    {
     "name": "stderr",
     "output_type": "stream",
     "text": [
      "Processing:  48%|███████████████████████████████▊                                   | 855/1800 [03:52<04:46,  3.30it/s]"
     ]
    },
    {
     "name": "stdout",
     "output_type": "stream",
     "text": [
      "\n",
      "0: 640x640 2 patchess, 16.9ms\n",
      "Speed: 5.2ms preprocess, 16.9ms inference, 2.8ms postprocess per image at shape (1, 3, 640, 640)\n"
     ]
    },
    {
     "name": "stderr",
     "output_type": "stream",
     "text": [
      "Processing:  48%|███████████████████████████████▊                                   | 856/1800 [03:52<04:07,  3.82it/s]"
     ]
    },
    {
     "name": "stdout",
     "output_type": "stream",
     "text": [
      "\n",
      "0: 640x640 3 patchess, 17.7ms\n",
      "Speed: 4.6ms preprocess, 17.7ms inference, 3.0ms postprocess per image at shape (1, 3, 640, 640)\n"
     ]
    },
    {
     "name": "stderr",
     "output_type": "stream",
     "text": [
      "Processing:  48%|███████████████████████████████▉                                   | 857/1800 [03:52<04:01,  3.91it/s]"
     ]
    },
    {
     "name": "stdout",
     "output_type": "stream",
     "text": [
      "\n",
      "0: 640x640 5 patchess, 14.2ms\n",
      "Speed: 5.0ms preprocess, 14.2ms inference, 3.2ms postprocess per image at shape (1, 3, 640, 640)\n"
     ]
    },
    {
     "name": "stderr",
     "output_type": "stream",
     "text": [
      "Processing:  48%|███████████████████████████████▉                                   | 858/1800 [03:52<04:36,  3.41it/s]"
     ]
    },
    {
     "name": "stdout",
     "output_type": "stream",
     "text": [
      "\n",
      "0: 640x640 1 inculsion, 2 patchess, 19.4ms\n",
      "Speed: 5.7ms preprocess, 19.4ms inference, 6.0ms postprocess per image at shape (1, 3, 640, 640)\n"
     ]
    },
    {
     "name": "stderr",
     "output_type": "stream",
     "text": [
      "Processing:  48%|███████████████████████████████▉                                   | 859/1800 [03:53<04:20,  3.62it/s]"
     ]
    },
    {
     "name": "stdout",
     "output_type": "stream",
     "text": [
      "\n",
      "0: 640x640 1 patches, 18.4ms\n",
      "Speed: 6.1ms preprocess, 18.4ms inference, 3.7ms postprocess per image at shape (1, 3, 640, 640)\n"
     ]
    },
    {
     "name": "stderr",
     "output_type": "stream",
     "text": [
      "Processing:  48%|████████████████████████████████                                   | 860/1800 [03:53<03:32,  4.43it/s]"
     ]
    },
    {
     "name": "stdout",
     "output_type": "stream",
     "text": [
      "\n",
      "0: 640x640 1 patches, 17.7ms\n",
      "Speed: 4.8ms preprocess, 17.7ms inference, 3.5ms postprocess per image at shape (1, 3, 640, 640)\n"
     ]
    },
    {
     "name": "stderr",
     "output_type": "stream",
     "text": [
      "Processing:  48%|████████████████████████████████                                   | 861/1800 [03:53<02:58,  5.27it/s]"
     ]
    },
    {
     "name": "stdout",
     "output_type": "stream",
     "text": [
      "\n",
      "0: 640x640 3 patchess, 14.1ms\n",
      "Speed: 5.2ms preprocess, 14.1ms inference, 2.4ms postprocess per image at shape (1, 3, 640, 640)\n"
     ]
    },
    {
     "name": "stderr",
     "output_type": "stream",
     "text": [
      "Processing:  48%|████████████████████████████████                                   | 862/1800 [03:53<03:07,  4.99it/s]"
     ]
    },
    {
     "name": "stdout",
     "output_type": "stream",
     "text": [
      "\n",
      "0: 640x640 2 patchess, 16.8ms\n",
      "Speed: 5.3ms preprocess, 16.8ms inference, 3.0ms postprocess per image at shape (1, 3, 640, 640)\n"
     ]
    },
    {
     "name": "stderr",
     "output_type": "stream",
     "text": [
      "Processing:  48%|████████████████████████████████                                   | 863/1800 [03:53<03:00,  5.18it/s]"
     ]
    },
    {
     "name": "stdout",
     "output_type": "stream",
     "text": [
      "\n",
      "0: 640x640 2 patchess, 17.9ms\n",
      "Speed: 5.4ms preprocess, 17.9ms inference, 3.4ms postprocess per image at shape (1, 3, 640, 640)\n"
     ]
    },
    {
     "name": "stderr",
     "output_type": "stream",
     "text": [
      "Processing:  48%|████████████████████████████████▏                                  | 864/1800 [03:54<02:55,  5.34it/s]"
     ]
    },
    {
     "name": "stdout",
     "output_type": "stream",
     "text": [
      "\n",
      "0: 640x640 3 patchess, 16.6ms\n",
      "Speed: 5.8ms preprocess, 16.6ms inference, 4.0ms postprocess per image at shape (1, 3, 640, 640)\n"
     ]
    },
    {
     "name": "stderr",
     "output_type": "stream",
     "text": [
      "Processing:  48%|████████████████████████████████▏                                  | 865/1800 [03:54<03:14,  4.80it/s]"
     ]
    },
    {
     "name": "stdout",
     "output_type": "stream",
     "text": [
      "\n",
      "0: 640x640 4 patchess, 15.7ms\n",
      "Speed: 5.5ms preprocess, 15.7ms inference, 3.1ms postprocess per image at shape (1, 3, 640, 640)\n"
     ]
    },
    {
     "name": "stderr",
     "output_type": "stream",
     "text": [
      "Processing:  48%|████████████████████████████████▏                                  | 866/1800 [03:54<03:57,  3.94it/s]"
     ]
    },
    {
     "name": "stdout",
     "output_type": "stream",
     "text": [
      "\n",
      "0: 640x640 2 patchess, 15.6ms\n",
      "Speed: 5.5ms preprocess, 15.6ms inference, 3.9ms postprocess per image at shape (1, 3, 640, 640)\n"
     ]
    },
    {
     "name": "stderr",
     "output_type": "stream",
     "text": [
      "Processing:  48%|████████████████████████████████▎                                  | 867/1800 [03:54<03:31,  4.41it/s]"
     ]
    },
    {
     "name": "stdout",
     "output_type": "stream",
     "text": [
      "\n",
      "0: 640x640 2 patchess, 19.0ms\n",
      "Speed: 5.4ms preprocess, 19.0ms inference, 2.3ms postprocess per image at shape (1, 3, 640, 640)\n"
     ]
    },
    {
     "name": "stderr",
     "output_type": "stream",
     "text": [
      "Processing:  48%|████████████████████████████████▎                                  | 868/1800 [03:54<03:16,  4.74it/s]"
     ]
    },
    {
     "name": "stdout",
     "output_type": "stream",
     "text": [
      "\n",
      "0: 640x640 1 patches, 18.3ms\n",
      "Speed: 6.0ms preprocess, 18.3ms inference, 3.8ms postprocess per image at shape (1, 3, 640, 640)\n"
     ]
    },
    {
     "name": "stderr",
     "output_type": "stream",
     "text": [
      "Processing:  48%|████████████████████████████████▎                                  | 869/1800 [03:55<02:46,  5.61it/s]"
     ]
    },
    {
     "name": "stdout",
     "output_type": "stream",
     "text": [
      "\n",
      "0: 640x640 7 patchess, 17.0ms\n",
      "Speed: 5.4ms preprocess, 17.0ms inference, 3.9ms postprocess per image at shape (1, 3, 640, 640)\n"
     ]
    },
    {
     "name": "stderr",
     "output_type": "stream",
     "text": [
      "Processing:  48%|████████████████████████████████▍                                  | 870/1800 [03:55<04:24,  3.51it/s]"
     ]
    },
    {
     "name": "stdout",
     "output_type": "stream",
     "text": [
      "\n",
      "0: 640x640 2 patchess, 18.4ms\n",
      "Speed: 5.7ms preprocess, 18.4ms inference, 3.2ms postprocess per image at shape (1, 3, 640, 640)\n"
     ]
    },
    {
     "name": "stderr",
     "output_type": "stream",
     "text": [
      "Processing:  48%|████████████████████████████████▍                                  | 871/1800 [03:55<03:51,  4.02it/s]"
     ]
    },
    {
     "name": "stdout",
     "output_type": "stream",
     "text": [
      "\n",
      "0: 640x640 4 patchess, 18.5ms\n",
      "Speed: 5.0ms preprocess, 18.5ms inference, 3.3ms postprocess per image at shape (1, 3, 640, 640)\n"
     ]
    },
    {
     "name": "stderr",
     "output_type": "stream",
     "text": [
      "Processing:  48%|████████████████████████████████▍                                  | 872/1800 [03:56<04:05,  3.79it/s]"
     ]
    },
    {
     "name": "stdout",
     "output_type": "stream",
     "text": [
      "\n",
      "0: 640x640 3 patchess, 18.9ms\n",
      "Speed: 4.6ms preprocess, 18.9ms inference, 4.3ms postprocess per image at shape (1, 3, 640, 640)\n"
     ]
    },
    {
     "name": "stderr",
     "output_type": "stream",
     "text": [
      "Processing:  48%|████████████████████████████████▍                                  | 873/1800 [03:56<04:02,  3.82it/s]"
     ]
    },
    {
     "name": "stdout",
     "output_type": "stream",
     "text": [
      "\n",
      "0: 640x640 2 patchess, 15.8ms\n",
      "Speed: 5.0ms preprocess, 15.8ms inference, 3.5ms postprocess per image at shape (1, 3, 640, 640)\n"
     ]
    },
    {
     "name": "stderr",
     "output_type": "stream",
     "text": [
      "Processing:  49%|████████████████████████████████▌                                  | 874/1800 [03:56<03:35,  4.30it/s]"
     ]
    },
    {
     "name": "stdout",
     "output_type": "stream",
     "text": [
      "\n",
      "0: 640x640 2 patchess, 16.4ms\n",
      "Speed: 5.3ms preprocess, 16.4ms inference, 2.6ms postprocess per image at shape (1, 3, 640, 640)\n"
     ]
    },
    {
     "name": "stderr",
     "output_type": "stream",
     "text": [
      "Processing:  49%|████████████████████████████████▌                                  | 875/1800 [03:56<03:17,  4.68it/s]"
     ]
    },
    {
     "name": "stdout",
     "output_type": "stream",
     "text": [
      "\n",
      "0: 640x640 3 patchess, 1 rolled_in_scale, 13.2ms\n",
      "Speed: 5.3ms preprocess, 13.2ms inference, 3.7ms postprocess per image at shape (1, 3, 640, 640)\n"
     ]
    },
    {
     "name": "stderr",
     "output_type": "stream",
     "text": [
      "Processing:  49%|████████████████████████████████▌                                  | 876/1800 [03:56<03:42,  4.15it/s]"
     ]
    },
    {
     "name": "stdout",
     "output_type": "stream",
     "text": [
      "\n",
      "0: 640x640 4 patchess, 16.3ms\n",
      "Speed: 5.6ms preprocess, 16.3ms inference, 3.3ms postprocess per image at shape (1, 3, 640, 640)\n"
     ]
    },
    {
     "name": "stderr",
     "output_type": "stream",
     "text": [
      "Processing:  49%|████████████████████████████████▋                                  | 877/1800 [03:57<04:03,  3.79it/s]"
     ]
    },
    {
     "name": "stdout",
     "output_type": "stream",
     "text": [
      "\n",
      "0: 640x640 3 patchess, 14.1ms\n",
      "Speed: 4.7ms preprocess, 14.1ms inference, 3.8ms postprocess per image at shape (1, 3, 640, 640)\n"
     ]
    },
    {
     "name": "stderr",
     "output_type": "stream",
     "text": [
      "Processing:  49%|████████████████████████████████▋                                  | 878/1800 [03:57<03:52,  3.96it/s]"
     ]
    },
    {
     "name": "stdout",
     "output_type": "stream",
     "text": [
      "\n",
      "0: 640x640 3 patchess, 20.6ms\n",
      "Speed: 4.7ms preprocess, 20.6ms inference, 2.9ms postprocess per image at shape (1, 3, 640, 640)\n"
     ]
    },
    {
     "name": "stderr",
     "output_type": "stream",
     "text": [
      "Processing:  49%|████████████████████████████████▋                                  | 879/1800 [03:57<03:47,  4.05it/s]"
     ]
    },
    {
     "name": "stdout",
     "output_type": "stream",
     "text": [
      "\n",
      "0: 640x640 1 patches, 19.3ms\n",
      "Speed: 5.4ms preprocess, 19.3ms inference, 3.1ms postprocess per image at shape (1, 3, 640, 640)\n"
     ]
    },
    {
     "name": "stderr",
     "output_type": "stream",
     "text": [
      "Processing:  49%|████████████████████████████████▊                                  | 880/1800 [03:57<03:10,  4.84it/s]"
     ]
    },
    {
     "name": "stdout",
     "output_type": "stream",
     "text": [
      "\n",
      "0: 640x640 4 patchess, 20.8ms\n",
      "Speed: 5.2ms preprocess, 20.8ms inference, 2.7ms postprocess per image at shape (1, 3, 640, 640)\n"
     ]
    },
    {
     "name": "stderr",
     "output_type": "stream",
     "text": [
      "Processing:  49%|████████████████████████████████▊                                  | 881/1800 [03:58<04:17,  3.57it/s]"
     ]
    },
    {
     "name": "stdout",
     "output_type": "stream",
     "text": [
      "\n",
      "0: 640x640 2 patchess, 17.3ms\n",
      "Speed: 5.1ms preprocess, 17.3ms inference, 3.8ms postprocess per image at shape (1, 3, 640, 640)\n"
     ]
    },
    {
     "name": "stderr",
     "output_type": "stream",
     "text": [
      "Processing:  49%|████████████████████████████████▊                                  | 882/1800 [03:58<03:44,  4.08it/s]"
     ]
    },
    {
     "name": "stdout",
     "output_type": "stream",
     "text": [
      "\n",
      "0: 640x640 2 patchess, 20.2ms\n",
      "Speed: 4.9ms preprocess, 20.2ms inference, 3.1ms postprocess per image at shape (1, 3, 640, 640)\n"
     ]
    },
    {
     "name": "stderr",
     "output_type": "stream",
     "text": [
      "Processing:  49%|████████████████████████████████▊                                  | 883/1800 [03:58<03:22,  4.53it/s]"
     ]
    },
    {
     "name": "stdout",
     "output_type": "stream",
     "text": [
      "\n",
      "0: 640x640 4 patchess, 25.2ms\n",
      "Speed: 5.7ms preprocess, 25.2ms inference, 3.1ms postprocess per image at shape (1, 3, 640, 640)\n"
     ]
    },
    {
     "name": "stderr",
     "output_type": "stream",
     "text": [
      "Processing:  49%|████████████████████████████████▉                                  | 884/1800 [03:58<03:56,  3.88it/s]"
     ]
    },
    {
     "name": "stdout",
     "output_type": "stream",
     "text": [
      "\n",
      "0: 640x640 2 patchess, 21.3ms\n",
      "Speed: 7.5ms preprocess, 21.3ms inference, 3.2ms postprocess per image at shape (1, 3, 640, 640)\n"
     ]
    },
    {
     "name": "stderr",
     "output_type": "stream",
     "text": [
      "Processing:  49%|████████████████████████████████▉                                  | 885/1800 [03:59<03:33,  4.30it/s]"
     ]
    },
    {
     "name": "stdout",
     "output_type": "stream",
     "text": [
      "\n",
      "0: 640x640 1 patches, 15.3ms\n",
      "Speed: 6.4ms preprocess, 15.3ms inference, 2.8ms postprocess per image at shape (1, 3, 640, 640)\n",
      "\n",
      "0: 640x640 4 patchess, 17.8ms\n",
      "Speed: 5.4ms preprocess, 17.8ms inference, 4.1ms postprocess per image at shape (1, 3, 640, 640)\n"
     ]
    },
    {
     "name": "stderr",
     "output_type": "stream",
     "text": [
      "Processing:  49%|█████████████████████████████████                                  | 887/1800 [03:59<03:22,  4.51it/s]"
     ]
    },
    {
     "name": "stdout",
     "output_type": "stream",
     "text": [
      "\n",
      "0: 640x640 5 patchess, 18.8ms\n",
      "Speed: 5.1ms preprocess, 18.8ms inference, 3.5ms postprocess per image at shape (1, 3, 640, 640)\n"
     ]
    },
    {
     "name": "stderr",
     "output_type": "stream",
     "text": [
      "Processing:  49%|█████████████████████████████████                                  | 888/1800 [03:59<04:00,  3.79it/s]"
     ]
    },
    {
     "name": "stdout",
     "output_type": "stream",
     "text": [
      "\n",
      "0: 640x640 7 patchess, 18.6ms\n",
      "Speed: 5.8ms preprocess, 18.6ms inference, 3.1ms postprocess per image at shape (1, 3, 640, 640)\n"
     ]
    },
    {
     "name": "stderr",
     "output_type": "stream",
     "text": [
      "Processing:  49%|█████████████████████████████████                                  | 889/1800 [04:00<05:05,  2.98it/s]"
     ]
    },
    {
     "name": "stdout",
     "output_type": "stream",
     "text": [
      "\n",
      "0: 640x640 1 patches, 17.3ms\n",
      "Speed: 4.8ms preprocess, 17.3ms inference, 3.5ms postprocess per image at shape (1, 3, 640, 640)\n"
     ]
    },
    {
     "name": "stderr",
     "output_type": "stream",
     "text": [
      "Processing:  49%|█████████████████████████████████▏                                 | 890/1800 [04:00<04:07,  3.67it/s]"
     ]
    },
    {
     "name": "stdout",
     "output_type": "stream",
     "text": [
      "\n",
      "0: 640x640 3 patchess, 1 scratches, 20.0ms\n",
      "Speed: 4.6ms preprocess, 20.0ms inference, 3.5ms postprocess per image at shape (1, 3, 640, 640)\n"
     ]
    },
    {
     "name": "stderr",
     "output_type": "stream",
     "text": [
      "Processing:  50%|█████████████████████████████████▏                                 | 891/1800 [04:00<04:15,  3.55it/s]"
     ]
    },
    {
     "name": "stdout",
     "output_type": "stream",
     "text": [
      "\n",
      "0: 640x640 6 patchess, 19.2ms\n",
      "Speed: 4.8ms preprocess, 19.2ms inference, 3.2ms postprocess per image at shape (1, 3, 640, 640)\n"
     ]
    },
    {
     "name": "stderr",
     "output_type": "stream",
     "text": [
      "Processing:  50%|█████████████████████████████████▏                                 | 892/1800 [04:01<05:01,  3.02it/s]"
     ]
    },
    {
     "name": "stdout",
     "output_type": "stream",
     "text": [
      "\n",
      "0: 640x640 6 patchess, 20.5ms\n",
      "Speed: 4.0ms preprocess, 20.5ms inference, 3.2ms postprocess per image at shape (1, 3, 640, 640)\n"
     ]
    },
    {
     "name": "stderr",
     "output_type": "stream",
     "text": [
      "Processing:  50%|█████████████████████████████████▏                                 | 893/1800 [04:01<05:40,  2.67it/s]"
     ]
    },
    {
     "name": "stdout",
     "output_type": "stream",
     "text": [
      "\n",
      "0: 640x640 5 patchess, 13.6ms\n",
      "Speed: 5.4ms preprocess, 13.6ms inference, 3.0ms postprocess per image at shape (1, 3, 640, 640)\n"
     ]
    },
    {
     "name": "stderr",
     "output_type": "stream",
     "text": [
      "Processing:  50%|█████████████████████████████████▎                                 | 894/1800 [04:02<05:44,  2.63it/s]"
     ]
    },
    {
     "name": "stdout",
     "output_type": "stream",
     "text": [
      "\n",
      "0: 640x640 1 patches, 18.1ms\n",
      "Speed: 5.6ms preprocess, 18.1ms inference, 3.5ms postprocess per image at shape (1, 3, 640, 640)\n",
      "\n",
      "0: 640x640 5 patchess, 21.5ms\n",
      "Speed: 4.9ms preprocess, 21.5ms inference, 3.3ms postprocess per image at shape (1, 3, 640, 640)\n"
     ]
    },
    {
     "name": "stderr",
     "output_type": "stream",
     "text": [
      "Processing:  50%|█████████████████████████████████▎                                 | 896/1800 [04:02<04:46,  3.16it/s]"
     ]
    },
    {
     "name": "stdout",
     "output_type": "stream",
     "text": [
      "\n",
      "0: 640x640 1 patches, 15.4ms\n",
      "Speed: 5.4ms preprocess, 15.4ms inference, 3.9ms postprocess per image at shape (1, 3, 640, 640)\n"
     ]
    },
    {
     "name": "stderr",
     "output_type": "stream",
     "text": [
      "Processing:  50%|█████████████████████████████████▍                                 | 897/1800 [04:02<03:58,  3.79it/s]"
     ]
    },
    {
     "name": "stdout",
     "output_type": "stream",
     "text": [
      "\n",
      "0: 640x640 2 patchess, 23.1ms\n",
      "Speed: 6.0ms preprocess, 23.1ms inference, 3.7ms postprocess per image at shape (1, 3, 640, 640)\n"
     ]
    },
    {
     "name": "stderr",
     "output_type": "stream",
     "text": [
      "Processing:  50%|█████████████████████████████████▍                                 | 898/1800 [04:03<03:36,  4.16it/s]"
     ]
    },
    {
     "name": "stdout",
     "output_type": "stream",
     "text": [
      "\n",
      "0: 640x640 2 patchess, 16.4ms\n",
      "Speed: 5.4ms preprocess, 16.4ms inference, 9.5ms postprocess per image at shape (1, 3, 640, 640)\n"
     ]
    },
    {
     "name": "stderr",
     "output_type": "stream",
     "text": [
      "Processing:  50%|█████████████████████████████████▍                                 | 899/1800 [04:03<03:27,  4.35it/s]"
     ]
    },
    {
     "name": "stdout",
     "output_type": "stream",
     "text": [
      "\n",
      "0: 640x640 4 patchess, 13.4ms\n",
      "Speed: 4.9ms preprocess, 13.4ms inference, 3.3ms postprocess per image at shape (1, 3, 640, 640)\n"
     ]
    },
    {
     "name": "stderr",
     "output_type": "stream",
     "text": [
      "Processing:  50%|█████████████████████████████████▌                                 | 900/1800 [04:03<03:49,  3.92it/s]"
     ]
    },
    {
     "name": "stdout",
     "output_type": "stream",
     "text": [
      "\n",
      "0: 640x640 1 pitted_surface, 16.4ms\n",
      "Speed: 4.6ms preprocess, 16.4ms inference, 3.0ms postprocess per image at shape (1, 3, 640, 640)\n"
     ]
    },
    {
     "name": "stderr",
     "output_type": "stream",
     "text": [
      "Processing:  50%|█████████████████████████████████▌                                 | 901/1800 [04:03<03:11,  4.70it/s]"
     ]
    },
    {
     "name": "stdout",
     "output_type": "stream",
     "text": [
      "\n",
      "0: 640x640 1 pitted_surface, 17.5ms\n",
      "Speed: 5.3ms preprocess, 17.5ms inference, 3.1ms postprocess per image at shape (1, 3, 640, 640)\n"
     ]
    },
    {
     "name": "stderr",
     "output_type": "stream",
     "text": [
      "Processing:  50%|█████████████████████████████████▌                                 | 902/1800 [04:03<02:44,  5.45it/s]"
     ]
    },
    {
     "name": "stdout",
     "output_type": "stream",
     "text": [
      "\n",
      "0: 640x640 1 pitted_surface, 18.0ms\n",
      "Speed: 5.3ms preprocess, 18.0ms inference, 3.3ms postprocess per image at shape (1, 3, 640, 640)\n"
     ]
    },
    {
     "name": "stderr",
     "output_type": "stream",
     "text": [
      "Processing:  50%|█████████████████████████████████▌                                 | 903/1800 [04:03<02:25,  6.17it/s]"
     ]
    },
    {
     "name": "stdout",
     "output_type": "stream",
     "text": [
      "\n",
      "0: 640x640 1 patches, 1 pitted_surface, 17.7ms\n",
      "Speed: 6.3ms preprocess, 17.7ms inference, 3.5ms postprocess per image at shape (1, 3, 640, 640)\n"
     ]
    },
    {
     "name": "stderr",
     "output_type": "stream",
     "text": [
      "Processing:  50%|█████████████████████████████████▋                                 | 904/1800 [04:04<02:27,  6.07it/s]"
     ]
    },
    {
     "name": "stdout",
     "output_type": "stream",
     "text": [
      "\n",
      "0: 640x640 2 pitted_surfaces, 18.4ms\n",
      "Speed: 5.4ms preprocess, 18.4ms inference, 3.3ms postprocess per image at shape (1, 3, 640, 640)\n"
     ]
    },
    {
     "name": "stderr",
     "output_type": "stream",
     "text": [
      "Processing:  50%|█████████████████████████████████▋                                 | 905/1800 [04:04<02:35,  5.75it/s]"
     ]
    },
    {
     "name": "stdout",
     "output_type": "stream",
     "text": [
      "\n",
      "0: 640x640 2 pitted_surfaces, 17.5ms\n",
      "Speed: 5.9ms preprocess, 17.5ms inference, 5.0ms postprocess per image at shape (1, 3, 640, 640)\n"
     ]
    },
    {
     "name": "stderr",
     "output_type": "stream",
     "text": [
      "Processing:  50%|█████████████████████████████████▋                                 | 906/1800 [04:04<02:37,  5.68it/s]"
     ]
    },
    {
     "name": "stdout",
     "output_type": "stream",
     "text": [
      "\n",
      "0: 640x640 1 pitted_surface, 25.8ms\n",
      "Speed: 5.2ms preprocess, 25.8ms inference, 6.1ms postprocess per image at shape (1, 3, 640, 640)\n"
     ]
    },
    {
     "name": "stderr",
     "output_type": "stream",
     "text": [
      "Processing:  50%|█████████████████████████████████▊                                 | 907/1800 [04:04<02:19,  6.39it/s]"
     ]
    },
    {
     "name": "stdout",
     "output_type": "stream",
     "text": [
      "\n",
      "0: 640x640 1 pitted_surface, 16.1ms\n",
      "Speed: 5.0ms preprocess, 16.1ms inference, 3.8ms postprocess per image at shape (1, 3, 640, 640)\n",
      "\n",
      "0: 640x640 1 pitted_surface, 17.2ms\n",
      "Speed: 5.1ms preprocess, 17.2ms inference, 3.2ms postprocess per image at shape (1, 3, 640, 640)\n"
     ]
    },
    {
     "name": "stderr",
     "output_type": "stream",
     "text": [
      "Processing:  50%|█████████████████████████████████▊                                 | 909/1800 [04:04<01:53,  7.88it/s]"
     ]
    },
    {
     "name": "stdout",
     "output_type": "stream",
     "text": [
      "\n",
      "0: 640x640 1 pitted_surface, 17.5ms\n",
      "Speed: 5.9ms preprocess, 17.5ms inference, 3.6ms postprocess per image at shape (1, 3, 640, 640)\n"
     ]
    },
    {
     "name": "stderr",
     "output_type": "stream",
     "text": [
      "Processing:  51%|█████████████████████████████████▊                                 | 910/1800 [04:04<01:49,  8.15it/s]"
     ]
    },
    {
     "name": "stdout",
     "output_type": "stream",
     "text": [
      "\n",
      "0: 640x640 2 pitted_surfaces, 13.6ms\n",
      "Speed: 5.5ms preprocess, 13.6ms inference, 3.2ms postprocess per image at shape (1, 3, 640, 640)\n"
     ]
    },
    {
     "name": "stderr",
     "output_type": "stream",
     "text": [
      "Processing:  51%|█████████████████████████████████▉                                 | 911/1800 [04:04<02:00,  7.39it/s]"
     ]
    },
    {
     "name": "stdout",
     "output_type": "stream",
     "text": [
      "\n",
      "0: 640x640 2 pitted_surfaces, 18.0ms\n",
      "Speed: 5.4ms preprocess, 18.0ms inference, 3.1ms postprocess per image at shape (1, 3, 640, 640)\n"
     ]
    },
    {
     "name": "stderr",
     "output_type": "stream",
     "text": [
      "Processing:  51%|█████████████████████████████████▉                                 | 912/1800 [04:05<02:10,  6.78it/s]"
     ]
    },
    {
     "name": "stdout",
     "output_type": "stream",
     "text": [
      "\n",
      "0: 640x640 1 pitted_surface, 92.6ms\n",
      "Speed: 6.1ms preprocess, 92.6ms inference, 6.6ms postprocess per image at shape (1, 3, 640, 640)\n"
     ]
    },
    {
     "name": "stderr",
     "output_type": "stream",
     "text": [
      "Processing:  51%|█████████████████████████████████▉                                 | 913/1800 [04:05<02:30,  5.90it/s]"
     ]
    },
    {
     "name": "stdout",
     "output_type": "stream",
     "text": [
      "\n",
      "0: 640x640 1 pitted_surface, 14.2ms\n",
      "Speed: 4.9ms preprocess, 14.2ms inference, 2.5ms postprocess per image at shape (1, 3, 640, 640)\n",
      "\n",
      "0: 640x640 1 pitted_surface, 15.8ms\n",
      "Speed: 4.1ms preprocess, 15.8ms inference, 3.2ms postprocess per image at shape (1, 3, 640, 640)\n"
     ]
    },
    {
     "name": "stderr",
     "output_type": "stream",
     "text": [
      "Processing:  51%|██████████████████████████████████                                 | 915/1800 [04:05<01:59,  7.39it/s]"
     ]
    },
    {
     "name": "stdout",
     "output_type": "stream",
     "text": [
      "\n",
      "0: 640x640 1 pitted_surface, 18.9ms\n",
      "Speed: 5.7ms preprocess, 18.9ms inference, 2.9ms postprocess per image at shape (1, 3, 640, 640)\n"
     ]
    },
    {
     "name": "stderr",
     "output_type": "stream",
     "text": [
      "Processing:  51%|██████████████████████████████████                                 | 916/1800 [04:05<01:54,  7.74it/s]"
     ]
    },
    {
     "name": "stdout",
     "output_type": "stream",
     "text": [
      "\n",
      "0: 640x640 3 pitted_surfaces, 15.5ms\n",
      "Speed: 4.6ms preprocess, 15.5ms inference, 3.4ms postprocess per image at shape (1, 3, 640, 640)\n"
     ]
    },
    {
     "name": "stderr",
     "output_type": "stream",
     "text": [
      "Processing:  51%|██████████████████████████████████▏                                | 917/1800 [04:05<02:22,  6.19it/s]"
     ]
    },
    {
     "name": "stdout",
     "output_type": "stream",
     "text": [
      "\n",
      "0: 640x640 2 pitted_surfaces, 19.2ms\n",
      "Speed: 5.7ms preprocess, 19.2ms inference, 3.1ms postprocess per image at shape (1, 3, 640, 640)\n"
     ]
    },
    {
     "name": "stderr",
     "output_type": "stream",
     "text": [
      "Processing:  51%|██████████████████████████████████▏                                | 918/1800 [04:06<02:25,  6.06it/s]"
     ]
    },
    {
     "name": "stdout",
     "output_type": "stream",
     "text": [
      "\n",
      "0: 640x640 1 pitted_surface, 17.3ms\n",
      "Speed: 5.6ms preprocess, 17.3ms inference, 4.1ms postprocess per image at shape (1, 3, 640, 640)\n"
     ]
    },
    {
     "name": "stderr",
     "output_type": "stream",
     "text": [
      "Processing:  51%|██████████████████████████████████▏                                | 919/1800 [04:06<02:10,  6.73it/s]"
     ]
    },
    {
     "name": "stdout",
     "output_type": "stream",
     "text": [
      "\n",
      "0: 640x640 1 pitted_surface, 16.7ms\n",
      "Speed: 4.8ms preprocess, 16.7ms inference, 3.2ms postprocess per image at shape (1, 3, 640, 640)\n"
     ]
    },
    {
     "name": "stderr",
     "output_type": "stream",
     "text": [
      "Processing:  51%|██████████████████████████████████▏                                | 920/1800 [04:06<02:00,  7.27it/s]"
     ]
    },
    {
     "name": "stdout",
     "output_type": "stream",
     "text": [
      "\n",
      "0: 640x640 1 patches, 1 pitted_surface, 22.2ms\n",
      "Speed: 4.7ms preprocess, 22.2ms inference, 3.6ms postprocess per image at shape (1, 3, 640, 640)\n"
     ]
    },
    {
     "name": "stderr",
     "output_type": "stream",
     "text": [
      "Processing:  51%|██████████████████████████████████▎                                | 921/1800 [04:06<02:10,  6.75it/s]"
     ]
    },
    {
     "name": "stdout",
     "output_type": "stream",
     "text": [
      "\n",
      "0: 640x640 1 pitted_surface, 14.8ms\n",
      "Speed: 5.0ms preprocess, 14.8ms inference, 4.0ms postprocess per image at shape (1, 3, 640, 640)\n"
     ]
    },
    {
     "name": "stderr",
     "output_type": "stream",
     "text": [
      "Processing:  51%|██████████████████████████████████▎                                | 922/1800 [04:06<01:58,  7.42it/s]"
     ]
    },
    {
     "name": "stdout",
     "output_type": "stream",
     "text": [
      "\n",
      "0: 640x640 2 pitted_surfaces, 17.4ms\n",
      "Speed: 6.0ms preprocess, 17.4ms inference, 3.4ms postprocess per image at shape (1, 3, 640, 640)\n"
     ]
    },
    {
     "name": "stderr",
     "output_type": "stream",
     "text": [
      "Processing:  51%|██████████████████████████████████▎                                | 923/1800 [04:06<02:10,  6.71it/s]"
     ]
    },
    {
     "name": "stdout",
     "output_type": "stream",
     "text": [
      "\n",
      "0: 640x640 1 pitted_surface, 17.3ms\n",
      "Speed: 4.9ms preprocess, 17.3ms inference, 3.2ms postprocess per image at shape (1, 3, 640, 640)\n"
     ]
    },
    {
     "name": "stderr",
     "output_type": "stream",
     "text": [
      "Processing:  51%|██████████████████████████████████▍                                | 924/1800 [04:06<01:58,  7.37it/s]"
     ]
    },
    {
     "name": "stdout",
     "output_type": "stream",
     "text": [
      "\n",
      "0: 640x640 2 pitted_surfaces, 19.5ms\n",
      "Speed: 4.8ms preprocess, 19.5ms inference, 6.6ms postprocess per image at shape (1, 3, 640, 640)\n"
     ]
    },
    {
     "name": "stderr",
     "output_type": "stream",
     "text": [
      "Processing:  51%|██████████████████████████████████▍                                | 925/1800 [04:07<02:10,  6.69it/s]"
     ]
    },
    {
     "name": "stdout",
     "output_type": "stream",
     "text": [
      "\n",
      "0: 640x640 1 pitted_surface, 17.2ms\n",
      "Speed: 6.0ms preprocess, 17.2ms inference, 3.3ms postprocess per image at shape (1, 3, 640, 640)\n",
      "\n",
      "0: 640x640 1 pitted_surface, 22.1ms\n",
      "Speed: 4.6ms preprocess, 22.1ms inference, 3.4ms postprocess per image at shape (1, 3, 640, 640)\n"
     ]
    },
    {
     "name": "stderr",
     "output_type": "stream",
     "text": [
      "Processing:  52%|██████████████████████████████████▌                                | 927/1800 [04:07<01:51,  7.86it/s]"
     ]
    },
    {
     "name": "stdout",
     "output_type": "stream",
     "text": [
      "\n",
      "0: 640x640 1 pitted_surface, 16.5ms\n",
      "Speed: 5.0ms preprocess, 16.5ms inference, 3.4ms postprocess per image at shape (1, 3, 640, 640)\n"
     ]
    },
    {
     "name": "stderr",
     "output_type": "stream",
     "text": [
      "Processing:  52%|██████████████████████████████████▌                                | 928/1800 [04:07<01:45,  8.28it/s]"
     ]
    },
    {
     "name": "stdout",
     "output_type": "stream",
     "text": [
      "\n",
      "0: 640x640 2 pitted_surfaces, 17.4ms\n",
      "Speed: 5.1ms preprocess, 17.4ms inference, 3.2ms postprocess per image at shape (1, 3, 640, 640)\n"
     ]
    },
    {
     "name": "stderr",
     "output_type": "stream",
     "text": [
      "Processing:  52%|██████████████████████████████████▌                                | 929/1800 [04:07<01:58,  7.36it/s]"
     ]
    },
    {
     "name": "stdout",
     "output_type": "stream",
     "text": [
      "\n",
      "0: 640x640 1 pitted_surface, 20.7ms\n",
      "Speed: 5.5ms preprocess, 20.7ms inference, 2.9ms postprocess per image at shape (1, 3, 640, 640)\n"
     ]
    },
    {
     "name": "stderr",
     "output_type": "stream",
     "text": [
      "Processing:  52%|██████████████████████████████████▌                                | 930/1800 [04:07<01:50,  7.89it/s]"
     ]
    },
    {
     "name": "stdout",
     "output_type": "stream",
     "text": [
      "\n",
      "0: 640x640 1 pitted_surface, 14.4ms\n",
      "Speed: 6.8ms preprocess, 14.4ms inference, 3.3ms postprocess per image at shape (1, 3, 640, 640)\n"
     ]
    },
    {
     "name": "stderr",
     "output_type": "stream",
     "text": [
      "Processing:  52%|██████████████████████████████████▋                                | 931/1800 [04:07<01:44,  8.29it/s]"
     ]
    },
    {
     "name": "stdout",
     "output_type": "stream",
     "text": [
      "\n",
      "0: 640x640 2 pitted_surfaces, 17.2ms\n",
      "Speed: 4.5ms preprocess, 17.2ms inference, 3.6ms postprocess per image at shape (1, 3, 640, 640)\n"
     ]
    },
    {
     "name": "stderr",
     "output_type": "stream",
     "text": [
      "Processing:  52%|██████████████████████████████████▋                                | 932/1800 [04:07<01:57,  7.40it/s]"
     ]
    },
    {
     "name": "stdout",
     "output_type": "stream",
     "text": [
      "\n",
      "0: 640x640 1 pitted_surface, 20.7ms\n",
      "Speed: 5.5ms preprocess, 20.7ms inference, 3.0ms postprocess per image at shape (1, 3, 640, 640)\n"
     ]
    },
    {
     "name": "stderr",
     "output_type": "stream",
     "text": [
      "Processing:  52%|██████████████████████████████████▋                                | 933/1800 [04:08<01:51,  7.80it/s]"
     ]
    },
    {
     "name": "stdout",
     "output_type": "stream",
     "text": [
      "\n",
      "0: 640x640 2 pitted_surfaces, 12.4ms\n",
      "Speed: 5.6ms preprocess, 12.4ms inference, 2.0ms postprocess per image at shape (1, 3, 640, 640)\n"
     ]
    },
    {
     "name": "stderr",
     "output_type": "stream",
     "text": [
      "Processing:  52%|██████████████████████████████████▊                                | 934/1800 [04:08<01:59,  7.24it/s]"
     ]
    },
    {
     "name": "stdout",
     "output_type": "stream",
     "text": [
      "\n",
      "0: 640x640 1 pitted_surface, 17.6ms\n",
      "Speed: 5.0ms preprocess, 17.6ms inference, 3.1ms postprocess per image at shape (1, 3, 640, 640)\n"
     ]
    },
    {
     "name": "stderr",
     "output_type": "stream",
     "text": [
      "Processing:  52%|██████████████████████████████████▊                                | 935/1800 [04:08<01:50,  7.80it/s]"
     ]
    },
    {
     "name": "stdout",
     "output_type": "stream",
     "text": [
      "\n",
      "0: 640x640 2 pitted_surfaces, 13.4ms\n",
      "Speed: 5.1ms preprocess, 13.4ms inference, 3.2ms postprocess per image at shape (1, 3, 640, 640)\n"
     ]
    },
    {
     "name": "stderr",
     "output_type": "stream",
     "text": [
      "Processing:  52%|██████████████████████████████████▊                                | 936/1800 [04:08<02:05,  6.88it/s]"
     ]
    },
    {
     "name": "stdout",
     "output_type": "stream",
     "text": [
      "\n",
      "0: 640x640 1 pitted_surface, 13.7ms\n",
      "Speed: 4.9ms preprocess, 13.7ms inference, 3.5ms postprocess per image at shape (1, 3, 640, 640)\n"
     ]
    },
    {
     "name": "stderr",
     "output_type": "stream",
     "text": [
      "Processing:  52%|██████████████████████████████████▉                                | 937/1800 [04:08<01:55,  7.50it/s]"
     ]
    },
    {
     "name": "stdout",
     "output_type": "stream",
     "text": [
      "\n",
      "0: 640x640 2 pitted_surfaces, 18.3ms\n",
      "Speed: 5.6ms preprocess, 18.3ms inference, 3.5ms postprocess per image at shape (1, 3, 640, 640)\n"
     ]
    },
    {
     "name": "stderr",
     "output_type": "stream",
     "text": [
      "Processing:  52%|██████████████████████████████████▉                                | 938/1800 [04:08<02:02,  7.06it/s]"
     ]
    },
    {
     "name": "stdout",
     "output_type": "stream",
     "text": [
      "\n",
      "0: 640x640 2 pitted_surfaces, 16.6ms\n",
      "Speed: 4.8ms preprocess, 16.6ms inference, 6.4ms postprocess per image at shape (1, 3, 640, 640)\n"
     ]
    },
    {
     "name": "stderr",
     "output_type": "stream",
     "text": [
      "Processing:  52%|██████████████████████████████████▉                                | 939/1800 [04:08<02:09,  6.66it/s]"
     ]
    },
    {
     "name": "stdout",
     "output_type": "stream",
     "text": [
      "\n",
      "0: 640x640 2 pitted_surfaces, 17.4ms\n",
      "Speed: 5.4ms preprocess, 17.4ms inference, 3.4ms postprocess per image at shape (1, 3, 640, 640)\n"
     ]
    },
    {
     "name": "stderr",
     "output_type": "stream",
     "text": [
      "Processing:  52%|██████████████████████████████████▉                                | 940/1800 [04:09<02:12,  6.47it/s]"
     ]
    },
    {
     "name": "stdout",
     "output_type": "stream",
     "text": [
      "\n",
      "0: 640x640 2 pitted_surfaces, 15.0ms\n",
      "Speed: 5.2ms preprocess, 15.0ms inference, 5.3ms postprocess per image at shape (1, 3, 640, 640)\n"
     ]
    },
    {
     "name": "stderr",
     "output_type": "stream",
     "text": [
      "Processing:  52%|███████████████████████████████████                                | 941/1800 [04:09<02:16,  6.31it/s]"
     ]
    },
    {
     "name": "stdout",
     "output_type": "stream",
     "text": [
      "\n",
      "0: 640x640 1 pitted_surface, 17.1ms\n",
      "Speed: 5.2ms preprocess, 17.1ms inference, 3.1ms postprocess per image at shape (1, 3, 640, 640)\n",
      "\n",
      "0: 640x640 1 pitted_surface, 16.8ms\n",
      "Speed: 5.2ms preprocess, 16.8ms inference, 3.6ms postprocess per image at shape (1, 3, 640, 640)\n"
     ]
    },
    {
     "name": "stderr",
     "output_type": "stream",
     "text": [
      "Processing:  52%|███████████████████████████████████                                | 943/1800 [04:09<01:52,  7.65it/s]"
     ]
    },
    {
     "name": "stdout",
     "output_type": "stream",
     "text": [
      "\n",
      "0: 640x640 1 pitted_surface, 22.5ms\n",
      "Speed: 5.3ms preprocess, 22.5ms inference, 3.2ms postprocess per image at shape (1, 3, 640, 640)\n"
     ]
    },
    {
     "name": "stderr",
     "output_type": "stream",
     "text": [
      "Processing:  52%|███████████████████████████████████▏                               | 944/1800 [04:09<01:47,  7.96it/s]"
     ]
    },
    {
     "name": "stdout",
     "output_type": "stream",
     "text": [
      "\n",
      "0: 640x640 1 pitted_surface, 19.5ms\n",
      "Speed: 5.1ms preprocess, 19.5ms inference, 3.1ms postprocess per image at shape (1, 3, 640, 640)\n"
     ]
    },
    {
     "name": "stderr",
     "output_type": "stream",
     "text": [
      "Processing:  52%|███████████████████████████████████▏                               | 945/1800 [04:09<01:42,  8.36it/s]"
     ]
    },
    {
     "name": "stdout",
     "output_type": "stream",
     "text": [
      "\n",
      "0: 640x640 1 pitted_surface, 16.2ms\n",
      "Speed: 4.5ms preprocess, 16.2ms inference, 4.0ms postprocess per image at shape (1, 3, 640, 640)\n"
     ]
    },
    {
     "name": "stderr",
     "output_type": "stream",
     "text": [
      "Processing:  53%|███████████████████████████████████▏                               | 946/1800 [04:09<01:38,  8.64it/s]"
     ]
    },
    {
     "name": "stdout",
     "output_type": "stream",
     "text": [
      "\n",
      "0: 640x640 2 pitted_surfaces, 15.9ms\n",
      "Speed: 5.3ms preprocess, 15.9ms inference, 3.7ms postprocess per image at shape (1, 3, 640, 640)\n"
     ]
    },
    {
     "name": "stderr",
     "output_type": "stream",
     "text": [
      "Processing:  53%|███████████████████████████████████▏                               | 947/1800 [04:09<01:50,  7.72it/s]"
     ]
    },
    {
     "name": "stdout",
     "output_type": "stream",
     "text": [
      "\n",
      "0: 640x640 1 pitted_surface, 19.6ms\n",
      "Speed: 5.4ms preprocess, 19.6ms inference, 3.5ms postprocess per image at shape (1, 3, 640, 640)\n"
     ]
    },
    {
     "name": "stderr",
     "output_type": "stream",
     "text": [
      "Processing:  53%|███████████████████████████████████▎                               | 948/1800 [04:10<01:45,  8.11it/s]"
     ]
    },
    {
     "name": "stdout",
     "output_type": "stream",
     "text": [
      "\n",
      "0: 640x640 1 pitted_surface, 17.6ms\n",
      "Speed: 5.6ms preprocess, 17.6ms inference, 3.6ms postprocess per image at shape (1, 3, 640, 640)\n"
     ]
    },
    {
     "name": "stderr",
     "output_type": "stream",
     "text": [
      "Processing:  53%|███████████████████████████████████▎                               | 949/1800 [04:10<01:40,  8.48it/s]"
     ]
    },
    {
     "name": "stdout",
     "output_type": "stream",
     "text": [
      "\n",
      "0: 640x640 2 pitted_surfaces, 17.9ms\n",
      "Speed: 5.0ms preprocess, 17.9ms inference, 2.9ms postprocess per image at shape (1, 3, 640, 640)\n"
     ]
    },
    {
     "name": "stderr",
     "output_type": "stream",
     "text": [
      "Processing:  53%|███████████████████████████████████▎                               | 950/1800 [04:10<01:53,  7.52it/s]"
     ]
    },
    {
     "name": "stdout",
     "output_type": "stream",
     "text": [
      "\n",
      "0: 640x640 1 pitted_surface, 15.3ms\n",
      "Speed: 5.1ms preprocess, 15.3ms inference, 3.5ms postprocess per image at shape (1, 3, 640, 640)\n",
      "\n",
      "0: 640x640 1 pitted_surface, 18.0ms\n",
      "Speed: 5.6ms preprocess, 18.0ms inference, 3.8ms postprocess per image at shape (1, 3, 640, 640)\n"
     ]
    },
    {
     "name": "stderr",
     "output_type": "stream",
     "text": [
      "Processing:  53%|███████████████████████████████████▍                               | 952/1800 [04:10<01:39,  8.54it/s]"
     ]
    },
    {
     "name": "stdout",
     "output_type": "stream",
     "text": [
      "\n",
      "0: 640x640 1 pitted_surface, 18.1ms\n",
      "Speed: 5.2ms preprocess, 18.1ms inference, 2.8ms postprocess per image at shape (1, 3, 640, 640)\n",
      "\n",
      "0: 640x640 1 pitted_surface, 19.5ms\n",
      "Speed: 4.2ms preprocess, 19.5ms inference, 3.3ms postprocess per image at shape (1, 3, 640, 640)\n"
     ]
    },
    {
     "name": "stderr",
     "output_type": "stream",
     "text": [
      "Processing:  53%|███████████████████████████████████▌                               | 954/1800 [04:10<01:33,  9.04it/s]"
     ]
    },
    {
     "name": "stdout",
     "output_type": "stream",
     "text": [
      "\n",
      "0: 640x640 2 pitted_surfaces, 18.2ms\n",
      "Speed: 5.4ms preprocess, 18.2ms inference, 4.5ms postprocess per image at shape (1, 3, 640, 640)\n"
     ]
    },
    {
     "name": "stderr",
     "output_type": "stream",
     "text": [
      "Processing:  53%|███████████████████████████████████▌                               | 955/1800 [04:10<01:46,  7.91it/s]"
     ]
    },
    {
     "name": "stdout",
     "output_type": "stream",
     "text": [
      "\n",
      "0: 640x640 1 patches, 2 pitted_surfaces, 18.6ms\n",
      "Speed: 6.0ms preprocess, 18.6ms inference, 4.1ms postprocess per image at shape (1, 3, 640, 640)\n"
     ]
    },
    {
     "name": "stderr",
     "output_type": "stream",
     "text": [
      "Processing:  53%|███████████████████████████████████▌                               | 956/1800 [04:11<02:12,  6.39it/s]"
     ]
    },
    {
     "name": "stdout",
     "output_type": "stream",
     "text": [
      "\n",
      "0: 640x640 1 pitted_surface, 68.8ms\n",
      "Speed: 4.8ms preprocess, 68.8ms inference, 11.5ms postprocess per image at shape (1, 3, 640, 640)\n"
     ]
    },
    {
     "name": "stderr",
     "output_type": "stream",
     "text": [
      "Processing:  53%|███████████████████████████████████▌                               | 957/1800 [04:11<02:24,  5.85it/s]"
     ]
    },
    {
     "name": "stdout",
     "output_type": "stream",
     "text": [
      "\n",
      "0: 640x640 1 patches, 2 pitted_surfaces, 16.1ms\n",
      "Speed: 5.2ms preprocess, 16.1ms inference, 3.5ms postprocess per image at shape (1, 3, 640, 640)\n"
     ]
    },
    {
     "name": "stderr",
     "output_type": "stream",
     "text": [
      "Processing:  53%|███████████████████████████████████▋                               | 958/1800 [04:11<02:40,  5.26it/s]"
     ]
    },
    {
     "name": "stdout",
     "output_type": "stream",
     "text": [
      "\n",
      "0: 640x640 2 pitted_surfaces, 15.7ms\n",
      "Speed: 4.9ms preprocess, 15.7ms inference, 2.9ms postprocess per image at shape (1, 3, 640, 640)\n"
     ]
    },
    {
     "name": "stderr",
     "output_type": "stream",
     "text": [
      "Processing:  53%|███████████████████████████████████▋                               | 959/1800 [04:11<02:35,  5.42it/s]"
     ]
    },
    {
     "name": "stdout",
     "output_type": "stream",
     "text": [
      "\n",
      "0: 640x640 1 pitted_surface, 17.2ms\n",
      "Speed: 5.2ms preprocess, 17.2ms inference, 3.5ms postprocess per image at shape (1, 3, 640, 640)\n"
     ]
    },
    {
     "name": "stderr",
     "output_type": "stream",
     "text": [
      "Processing:  53%|███████████████████████████████████▋                               | 960/1800 [04:11<02:16,  6.14it/s]"
     ]
    },
    {
     "name": "stdout",
     "output_type": "stream",
     "text": [
      "\n",
      "0: 640x640 2 pitted_surfaces, 17.4ms\n",
      "Speed: 5.1ms preprocess, 17.4ms inference, 3.1ms postprocess per image at shape (1, 3, 640, 640)\n"
     ]
    },
    {
     "name": "stderr",
     "output_type": "stream",
     "text": [
      "Processing:  53%|███████████████████████████████████▊                               | 961/1800 [04:12<02:17,  6.12it/s]"
     ]
    },
    {
     "name": "stdout",
     "output_type": "stream",
     "text": [
      "\n",
      "0: 640x640 2 pitted_surfaces, 18.0ms\n",
      "Speed: 5.6ms preprocess, 18.0ms inference, 3.8ms postprocess per image at shape (1, 3, 640, 640)\n"
     ]
    },
    {
     "name": "stderr",
     "output_type": "stream",
     "text": [
      "Processing:  53%|███████████████████████████████████▊                               | 962/1800 [04:12<02:19,  6.00it/s]"
     ]
    },
    {
     "name": "stdout",
     "output_type": "stream",
     "text": [
      "\n",
      "0: 640x640 2 patchess, 1 pitted_surface, 17.0ms\n",
      "Speed: 5.3ms preprocess, 17.0ms inference, 2.9ms postprocess per image at shape (1, 3, 640, 640)\n"
     ]
    },
    {
     "name": "stderr",
     "output_type": "stream",
     "text": [
      "Processing:  54%|███████████████████████████████████▊                               | 963/1800 [04:12<02:40,  5.21it/s]"
     ]
    },
    {
     "name": "stdout",
     "output_type": "stream",
     "text": [
      "\n",
      "0: 640x640 1 patches, 1 pitted_surface, 19.0ms\n",
      "Speed: 6.0ms preprocess, 19.0ms inference, 4.6ms postprocess per image at shape (1, 3, 640, 640)\n"
     ]
    },
    {
     "name": "stderr",
     "output_type": "stream",
     "text": [
      "Processing:  54%|███████████████████████████████████▉                               | 964/1800 [04:12<02:37,  5.30it/s]"
     ]
    },
    {
     "name": "stdout",
     "output_type": "stream",
     "text": [
      "\n",
      "0: 640x640 1 pitted_surface, 19.7ms\n",
      "Speed: 6.1ms preprocess, 19.7ms inference, 3.0ms postprocess per image at shape (1, 3, 640, 640)\n"
     ]
    },
    {
     "name": "stderr",
     "output_type": "stream",
     "text": [
      "Processing:  54%|███████████████████████████████████▉                               | 965/1800 [04:12<02:17,  6.07it/s]"
     ]
    },
    {
     "name": "stdout",
     "output_type": "stream",
     "text": [
      "\n",
      "0: 640x640 1 pitted_surface, 17.6ms\n",
      "Speed: 5.4ms preprocess, 17.6ms inference, 3.2ms postprocess per image at shape (1, 3, 640, 640)\n"
     ]
    },
    {
     "name": "stderr",
     "output_type": "stream",
     "text": [
      "Processing:  54%|███████████████████████████████████▉                               | 966/1800 [04:12<02:04,  6.70it/s]"
     ]
    },
    {
     "name": "stdout",
     "output_type": "stream",
     "text": [
      "\n",
      "0: 640x640 1 pitted_surface, 16.5ms\n",
      "Speed: 5.2ms preprocess, 16.5ms inference, 3.1ms postprocess per image at shape (1, 3, 640, 640)\n"
     ]
    },
    {
     "name": "stderr",
     "output_type": "stream",
     "text": [
      "Processing:  54%|███████████████████████████████████▉                               | 967/1800 [04:12<01:52,  7.38it/s]"
     ]
    },
    {
     "name": "stdout",
     "output_type": "stream",
     "text": [
      "\n",
      "0: 640x640 1 pitted_surface, 16.7ms\n",
      "Speed: 5.3ms preprocess, 16.7ms inference, 3.9ms postprocess per image at shape (1, 3, 640, 640)\n"
     ]
    },
    {
     "name": "stderr",
     "output_type": "stream",
     "text": [
      "Processing:  54%|████████████████████████████████████                               | 968/1800 [04:13<01:45,  7.92it/s]"
     ]
    },
    {
     "name": "stdout",
     "output_type": "stream",
     "text": [
      "\n",
      "0: 640x640 1 pitted_surface, 14.0ms\n",
      "Speed: 4.9ms preprocess, 14.0ms inference, 3.3ms postprocess per image at shape (1, 3, 640, 640)\n",
      "\n",
      "0: 640x640 1 patches, 1 pitted_surface, 15.2ms\n",
      "Speed: 5.0ms preprocess, 15.2ms inference, 3.0ms postprocess per image at shape (1, 3, 640, 640)\n"
     ]
    },
    {
     "name": "stderr",
     "output_type": "stream",
     "text": [
      "Processing:  54%|████████████████████████████████████                               | 970/1800 [04:13<01:47,  7.69it/s]"
     ]
    },
    {
     "name": "stdout",
     "output_type": "stream",
     "text": [
      "\n",
      "0: 640x640 1 pitted_surface, 16.6ms\n",
      "Speed: 5.8ms preprocess, 16.6ms inference, 3.2ms postprocess per image at shape (1, 3, 640, 640)\n"
     ]
    },
    {
     "name": "stderr",
     "output_type": "stream",
     "text": [
      "Processing:  54%|████████████████████████████████████▏                              | 971/1800 [04:13<01:42,  8.12it/s]"
     ]
    },
    {
     "name": "stdout",
     "output_type": "stream",
     "text": [
      "\n",
      "0: 640x640 1 pitted_surface, 18.0ms\n",
      "Speed: 4.8ms preprocess, 18.0ms inference, 4.5ms postprocess per image at shape (1, 3, 640, 640)\n"
     ]
    },
    {
     "name": "stderr",
     "output_type": "stream",
     "text": [
      "Processing:  54%|████████████████████████████████████▏                              | 972/1800 [04:13<01:38,  8.40it/s]"
     ]
    },
    {
     "name": "stdout",
     "output_type": "stream",
     "text": [
      "\n",
      "0: 640x640 1 pitted_surface, 26.9ms\n",
      "Speed: 5.3ms preprocess, 26.9ms inference, 5.1ms postprocess per image at shape (1, 3, 640, 640)\n"
     ]
    },
    {
     "name": "stderr",
     "output_type": "stream",
     "text": [
      "Processing:  54%|████████████████████████████████████▏                              | 973/1800 [04:13<01:36,  8.60it/s]"
     ]
    },
    {
     "name": "stdout",
     "output_type": "stream",
     "text": [
      "\n",
      "0: 640x640 1 patches, 1 pitted_surface, 18.3ms\n",
      "Speed: 4.1ms preprocess, 18.3ms inference, 4.3ms postprocess per image at shape (1, 3, 640, 640)\n"
     ]
    },
    {
     "name": "stderr",
     "output_type": "stream",
     "text": [
      "Processing:  54%|████████████████████████████████████▎                              | 974/1800 [04:13<01:48,  7.62it/s]"
     ]
    },
    {
     "name": "stdout",
     "output_type": "stream",
     "text": [
      "\n",
      "0: 640x640 1 patches, 2 pitted_surfaces, 17.9ms\n",
      "Speed: 7.6ms preprocess, 17.9ms inference, 3.1ms postprocess per image at shape (1, 3, 640, 640)\n"
     ]
    },
    {
     "name": "stderr",
     "output_type": "stream",
     "text": [
      "Processing:  54%|████████████████████████████████████▎                              | 975/1800 [04:14<02:16,  6.02it/s]"
     ]
    },
    {
     "name": "stdout",
     "output_type": "stream",
     "text": [
      "\n",
      "0: 640x640 1 pitted_surface, 20.5ms\n",
      "Speed: 5.0ms preprocess, 20.5ms inference, 4.0ms postprocess per image at shape (1, 3, 640, 640)\n"
     ]
    },
    {
     "name": "stderr",
     "output_type": "stream",
     "text": [
      "Processing:  54%|████████████████████████████████████▎                              | 976/1800 [04:14<02:03,  6.67it/s]"
     ]
    },
    {
     "name": "stdout",
     "output_type": "stream",
     "text": [
      "\n",
      "0: 640x640 1 pitted_surface, 17.5ms\n",
      "Speed: 5.6ms preprocess, 17.5ms inference, 3.6ms postprocess per image at shape (1, 3, 640, 640)\n"
     ]
    },
    {
     "name": "stderr",
     "output_type": "stream",
     "text": [
      "Processing:  54%|████████████████████████████████████▎                              | 977/1800 [04:14<01:52,  7.33it/s]"
     ]
    },
    {
     "name": "stdout",
     "output_type": "stream",
     "text": [
      "\n",
      "0: 640x640 1 pitted_surface, 27.7ms\n",
      "Speed: 5.0ms preprocess, 27.7ms inference, 3.8ms postprocess per image at shape (1, 3, 640, 640)\n"
     ]
    },
    {
     "name": "stderr",
     "output_type": "stream",
     "text": [
      "Processing:  54%|████████████████████████████████████▍                              | 978/1800 [04:14<01:45,  7.76it/s]"
     ]
    },
    {
     "name": "stdout",
     "output_type": "stream",
     "text": [
      "\n",
      "0: 640x640 1 pitted_surface, 15.4ms\n",
      "Speed: 4.7ms preprocess, 15.4ms inference, 3.4ms postprocess per image at shape (1, 3, 640, 640)\n",
      "\n",
      "0: 640x640 1 patches, 2 pitted_surfaces, 13.6ms\n",
      "Speed: 5.1ms preprocess, 13.6ms inference, 3.0ms postprocess per image at shape (1, 3, 640, 640)\n"
     ]
    },
    {
     "name": "stderr",
     "output_type": "stream",
     "text": [
      "Processing:  54%|████████████████████████████████████▍                              | 980/1800 [04:14<01:59,  6.85it/s]"
     ]
    },
    {
     "name": "stdout",
     "output_type": "stream",
     "text": [
      "\n",
      "0: 640x640 2 patchess, 1 pitted_surface, 17.9ms\n",
      "Speed: 5.1ms preprocess, 17.9ms inference, 3.5ms postprocess per image at shape (1, 3, 640, 640)\n"
     ]
    },
    {
     "name": "stderr",
     "output_type": "stream",
     "text": [
      "Processing:  55%|████████████████████████████████████▌                              | 981/1800 [04:15<02:19,  5.86it/s]"
     ]
    },
    {
     "name": "stdout",
     "output_type": "stream",
     "text": [
      "\n",
      "0: 640x640 2 patchess, 1 pitted_surface, 16.2ms\n",
      "Speed: 5.4ms preprocess, 16.2ms inference, 3.8ms postprocess per image at shape (1, 3, 640, 640)\n"
     ]
    },
    {
     "name": "stderr",
     "output_type": "stream",
     "text": [
      "Processing:  55%|████████████████████████████████████▌                              | 982/1800 [04:15<02:36,  5.22it/s]"
     ]
    },
    {
     "name": "stdout",
     "output_type": "stream",
     "text": [
      "\n",
      "0: 640x640 1 patches, 1 pitted_surface, 21.4ms\n",
      "Speed: 5.2ms preprocess, 21.4ms inference, 4.2ms postprocess per image at shape (1, 3, 640, 640)\n"
     ]
    },
    {
     "name": "stderr",
     "output_type": "stream",
     "text": [
      "Processing:  55%|████████████████████████████████████▌                              | 983/1800 [04:15<02:33,  5.32it/s]"
     ]
    },
    {
     "name": "stdout",
     "output_type": "stream",
     "text": [
      "\n",
      "0: 640x640 3 patchess, 1 pitted_surface, 19.3ms\n",
      "Speed: 6.3ms preprocess, 19.3ms inference, 5.8ms postprocess per image at shape (1, 3, 640, 640)\n"
     ]
    },
    {
     "name": "stderr",
     "output_type": "stream",
     "text": [
      "Processing:  55%|████████████████████████████████████▋                              | 984/1800 [04:15<03:06,  4.37it/s]"
     ]
    },
    {
     "name": "stdout",
     "output_type": "stream",
     "text": [
      "\n",
      "0: 640x640 2 pitted_surfaces, 17.7ms\n",
      "Speed: 5.9ms preprocess, 17.7ms inference, 3.2ms postprocess per image at shape (1, 3, 640, 640)\n"
     ]
    },
    {
     "name": "stderr",
     "output_type": "stream",
     "text": [
      "Processing:  55%|████████████████████████████████████▋                              | 985/1800 [04:15<02:54,  4.66it/s]"
     ]
    },
    {
     "name": "stdout",
     "output_type": "stream",
     "text": [
      "\n",
      "0: 640x640 1 pitted_surface, 16.1ms\n",
      "Speed: 5.9ms preprocess, 16.1ms inference, 2.8ms postprocess per image at shape (1, 3, 640, 640)\n"
     ]
    },
    {
     "name": "stderr",
     "output_type": "stream",
     "text": [
      "Processing:  55%|████████████████████████████████████▋                              | 986/1800 [04:16<02:27,  5.51it/s]"
     ]
    },
    {
     "name": "stdout",
     "output_type": "stream",
     "text": [
      "\n",
      "0: 640x640 1 pitted_surface, 17.0ms\n",
      "Speed: 5.9ms preprocess, 17.0ms inference, 3.6ms postprocess per image at shape (1, 3, 640, 640)\n"
     ]
    },
    {
     "name": "stderr",
     "output_type": "stream",
     "text": [
      "Processing:  55%|████████████████████████████████████▋                              | 987/1800 [04:16<02:08,  6.33it/s]"
     ]
    },
    {
     "name": "stdout",
     "output_type": "stream",
     "text": [
      "\n",
      "0: 640x640 2 pitted_surfaces, 17.8ms\n",
      "Speed: 6.0ms preprocess, 17.8ms inference, 4.3ms postprocess per image at shape (1, 3, 640, 640)\n"
     ]
    },
    {
     "name": "stderr",
     "output_type": "stream",
     "text": [
      "Processing:  55%|████████████████████████████████████▊                              | 988/1800 [04:16<02:12,  6.14it/s]"
     ]
    },
    {
     "name": "stdout",
     "output_type": "stream",
     "text": [
      "\n",
      "0: 640x640 1 pitted_surface, 16.7ms\n",
      "Speed: 4.9ms preprocess, 16.7ms inference, 3.5ms postprocess per image at shape (1, 3, 640, 640)\n"
     ]
    },
    {
     "name": "stderr",
     "output_type": "stream",
     "text": [
      "Processing:  55%|████████████████████████████████████▊                              | 989/1800 [04:16<01:57,  6.89it/s]"
     ]
    },
    {
     "name": "stdout",
     "output_type": "stream",
     "text": [
      "\n",
      "0: 640x640 1 pitted_surface, 19.0ms\n",
      "Speed: 9.7ms preprocess, 19.0ms inference, 3.5ms postprocess per image at shape (1, 3, 640, 640)\n"
     ]
    },
    {
     "name": "stderr",
     "output_type": "stream",
     "text": [
      "Processing:  55%|████████████████████████████████████▊                              | 990/1800 [04:16<01:51,  7.24it/s]"
     ]
    },
    {
     "name": "stdout",
     "output_type": "stream",
     "text": [
      "\n",
      "0: 640x640 1 pitted_surface, 21.9ms\n",
      "Speed: 5.5ms preprocess, 21.9ms inference, 3.3ms postprocess per image at shape (1, 3, 640, 640)\n"
     ]
    },
    {
     "name": "stderr",
     "output_type": "stream",
     "text": [
      "Processing:  55%|████████████████████████████████████▉                              | 991/1800 [04:16<01:44,  7.71it/s]"
     ]
    },
    {
     "name": "stdout",
     "output_type": "stream",
     "text": [
      "\n",
      "0: 640x640 1 pitted_surface, 17.8ms\n",
      "Speed: 5.4ms preprocess, 17.8ms inference, 2.6ms postprocess per image at shape (1, 3, 640, 640)\n"
     ]
    },
    {
     "name": "stderr",
     "output_type": "stream",
     "text": [
      "Processing:  55%|████████████████████████████████████▉                              | 992/1800 [04:16<01:38,  8.23it/s]"
     ]
    },
    {
     "name": "stdout",
     "output_type": "stream",
     "text": [
      "\n",
      "0: 640x640 1 pitted_surface, 18.5ms\n",
      "Speed: 6.3ms preprocess, 18.5ms inference, 3.8ms postprocess per image at shape (1, 3, 640, 640)\n"
     ]
    },
    {
     "name": "stderr",
     "output_type": "stream",
     "text": [
      "Processing:  55%|████████████████████████████████████▉                              | 993/1800 [04:16<01:39,  8.11it/s]"
     ]
    },
    {
     "name": "stdout",
     "output_type": "stream",
     "text": [
      "\n",
      "0: 640x640 2 pitted_surfaces, 17.7ms\n",
      "Speed: 6.3ms preprocess, 17.7ms inference, 3.4ms postprocess per image at shape (1, 3, 640, 640)\n"
     ]
    },
    {
     "name": "stderr",
     "output_type": "stream",
     "text": [
      "Processing:  55%|████████████████████████████████████▉                              | 994/1800 [04:17<01:49,  7.33it/s]"
     ]
    },
    {
     "name": "stdout",
     "output_type": "stream",
     "text": [
      "\n",
      "0: 640x640 1 pitted_surface, 20.6ms\n",
      "Speed: 5.6ms preprocess, 20.6ms inference, 3.0ms postprocess per image at shape (1, 3, 640, 640)\n"
     ]
    },
    {
     "name": "stderr",
     "output_type": "stream",
     "text": [
      "Processing:  55%|█████████████████████████████████████                              | 995/1800 [04:17<01:42,  7.83it/s]"
     ]
    },
    {
     "name": "stdout",
     "output_type": "stream",
     "text": [
      "\n",
      "0: 640x640 1 pitted_surface, 22.8ms\n",
      "Speed: 5.8ms preprocess, 22.8ms inference, 3.8ms postprocess per image at shape (1, 3, 640, 640)\n"
     ]
    },
    {
     "name": "stderr",
     "output_type": "stream",
     "text": [
      "Processing:  55%|█████████████████████████████████████                              | 996/1800 [04:17<01:38,  8.18it/s]"
     ]
    },
    {
     "name": "stdout",
     "output_type": "stream",
     "text": [
      "\n",
      "0: 640x640 1 inculsion, 1 pitted_surface, 17.0ms\n",
      "Speed: 7.8ms preprocess, 17.0ms inference, 3.2ms postprocess per image at shape (1, 3, 640, 640)\n"
     ]
    },
    {
     "name": "stderr",
     "output_type": "stream",
     "text": [
      "Processing:  55%|█████████████████████████████████████                              | 997/1800 [04:17<01:49,  7.36it/s]"
     ]
    },
    {
     "name": "stdout",
     "output_type": "stream",
     "text": [
      "\n",
      "0: 640x640 1 pitted_surface, 17.6ms\n",
      "Speed: 5.5ms preprocess, 17.6ms inference, 4.0ms postprocess per image at shape (1, 3, 640, 640)\n"
     ]
    },
    {
     "name": "stderr",
     "output_type": "stream",
     "text": [
      "Processing:  55%|█████████████████████████████████████▏                             | 998/1800 [04:17<01:43,  7.75it/s]"
     ]
    },
    {
     "name": "stdout",
     "output_type": "stream",
     "text": [
      "\n",
      "0: 640x640 1 pitted_surface, 17.8ms\n",
      "Speed: 5.7ms preprocess, 17.8ms inference, 3.1ms postprocess per image at shape (1, 3, 640, 640)\n"
     ]
    },
    {
     "name": "stderr",
     "output_type": "stream",
     "text": [
      "Processing:  56%|█████████████████████████████████████▏                             | 999/1800 [04:17<01:36,  8.28it/s]"
     ]
    },
    {
     "name": "stdout",
     "output_type": "stream",
     "text": [
      "\n",
      "0: 640x640 1 pitted_surface, 13.8ms\n",
      "Speed: 5.4ms preprocess, 13.8ms inference, 3.5ms postprocess per image at shape (1, 3, 640, 640)\n",
      "\n",
      "0: 640x640 2 pitted_surfaces, 19.0ms\n",
      "Speed: 6.0ms preprocess, 19.0ms inference, 2.2ms postprocess per image at shape (1, 3, 640, 640)\n"
     ]
    },
    {
     "name": "stderr",
     "output_type": "stream",
     "text": [
      "Processing:  56%|████████████████████████████████████▋                             | 1001/1800 [04:17<01:38,  8.11it/s]"
     ]
    },
    {
     "name": "stdout",
     "output_type": "stream",
     "text": [
      "\n",
      "0: 640x640 1 pitted_surface, 14.9ms\n",
      "Speed: 5.0ms preprocess, 14.9ms inference, 3.5ms postprocess per image at shape (1, 3, 640, 640)\n"
     ]
    },
    {
     "name": "stderr",
     "output_type": "stream",
     "text": [
      "Processing:  56%|████████████████████████████████████▋                             | 1002/1800 [04:18<01:35,  8.34it/s]"
     ]
    },
    {
     "name": "stdout",
     "output_type": "stream",
     "text": [
      "\n",
      "0: 640x640 1 pitted_surface, 19.2ms\n",
      "Speed: 5.3ms preprocess, 19.2ms inference, 3.6ms postprocess per image at shape (1, 3, 640, 640)\n"
     ]
    },
    {
     "name": "stderr",
     "output_type": "stream",
     "text": [
      "Processing:  56%|████████████████████████████████████▊                             | 1003/1800 [04:18<01:31,  8.68it/s]"
     ]
    },
    {
     "name": "stdout",
     "output_type": "stream",
     "text": [
      "\n",
      "0: 640x640 1 pitted_surface, 23.0ms\n",
      "Speed: 5.5ms preprocess, 23.0ms inference, 3.3ms postprocess per image at shape (1, 3, 640, 640)\n"
     ]
    },
    {
     "name": "stderr",
     "output_type": "stream",
     "text": [
      "Processing:  56%|████████████████████████████████████▊                             | 1004/1800 [04:18<01:32,  8.64it/s]"
     ]
    },
    {
     "name": "stdout",
     "output_type": "stream",
     "text": [
      "\n",
      "0: 640x640 1 patches, 1 pitted_surface, 18.6ms\n",
      "Speed: 5.8ms preprocess, 18.6ms inference, 3.5ms postprocess per image at shape (1, 3, 640, 640)\n"
     ]
    },
    {
     "name": "stderr",
     "output_type": "stream",
     "text": [
      "Processing:  56%|████████████████████████████████████▊                             | 1005/1800 [04:18<01:45,  7.56it/s]"
     ]
    },
    {
     "name": "stdout",
     "output_type": "stream",
     "text": [
      "\n",
      "0: 640x640 1 pitted_surface, 22.3ms\n",
      "Speed: 4.9ms preprocess, 22.3ms inference, 5.9ms postprocess per image at shape (1, 3, 640, 640)\n"
     ]
    },
    {
     "name": "stderr",
     "output_type": "stream",
     "text": [
      "Processing:  56%|████████████████████████████████████▉                             | 1006/1800 [04:18<01:40,  7.92it/s]"
     ]
    },
    {
     "name": "stdout",
     "output_type": "stream",
     "text": [
      "\n",
      "0: 640x640 2 pitted_surfaces, 15.2ms\n",
      "Speed: 5.2ms preprocess, 15.2ms inference, 3.3ms postprocess per image at shape (1, 3, 640, 640)\n"
     ]
    },
    {
     "name": "stderr",
     "output_type": "stream",
     "text": [
      "Processing:  56%|████████████████████████████████████▉                             | 1007/1800 [04:18<01:49,  7.24it/s]"
     ]
    },
    {
     "name": "stdout",
     "output_type": "stream",
     "text": [
      "\n",
      "0: 640x640 2 pitted_surfaces, 17.9ms\n",
      "Speed: 6.6ms preprocess, 17.9ms inference, 3.9ms postprocess per image at shape (1, 3, 640, 640)\n"
     ]
    },
    {
     "name": "stderr",
     "output_type": "stream",
     "text": [
      "Processing:  56%|████████████████████████████████████▉                             | 1008/1800 [04:18<01:57,  6.77it/s]"
     ]
    },
    {
     "name": "stdout",
     "output_type": "stream",
     "text": [
      "\n",
      "0: 640x640 1 inculsion, 2 pitted_surfaces, 17.9ms\n",
      "Speed: 5.8ms preprocess, 17.9ms inference, 3.8ms postprocess per image at shape (1, 3, 640, 640)\n"
     ]
    },
    {
     "name": "stderr",
     "output_type": "stream",
     "text": [
      "Processing:  56%|████████████████████████████████████▉                             | 1009/1800 [04:19<02:37,  5.02it/s]"
     ]
    },
    {
     "name": "stdout",
     "output_type": "stream",
     "text": [
      "\n",
      "0: 640x640 1 pitted_surface, 19.0ms\n",
      "Speed: 5.3ms preprocess, 19.0ms inference, 3.4ms postprocess per image at shape (1, 3, 640, 640)\n"
     ]
    },
    {
     "name": "stderr",
     "output_type": "stream",
     "text": [
      "Processing:  56%|█████████████████████████████████████                             | 1010/1800 [04:19<02:17,  5.75it/s]"
     ]
    },
    {
     "name": "stdout",
     "output_type": "stream",
     "text": [
      "\n",
      "0: 640x640 2 pitted_surfaces, 14.1ms\n",
      "Speed: 6.1ms preprocess, 14.1ms inference, 2.8ms postprocess per image at shape (1, 3, 640, 640)\n"
     ]
    },
    {
     "name": "stderr",
     "output_type": "stream",
     "text": [
      "Processing:  56%|█████████████████████████████████████                             | 1011/1800 [04:19<02:14,  5.88it/s]"
     ]
    },
    {
     "name": "stdout",
     "output_type": "stream",
     "text": [
      "\n",
      "0: 640x640 2 pitted_surfaces, 17.0ms\n",
      "Speed: 5.1ms preprocess, 17.0ms inference, 3.2ms postprocess per image at shape (1, 3, 640, 640)\n"
     ]
    },
    {
     "name": "stderr",
     "output_type": "stream",
     "text": [
      "Processing:  56%|█████████████████████████████████████                             | 1012/1800 [04:19<02:15,  5.84it/s]"
     ]
    },
    {
     "name": "stdout",
     "output_type": "stream",
     "text": [
      "\n",
      "0: 640x640 2 pitted_surfaces, 19.2ms\n",
      "Speed: 5.5ms preprocess, 19.2ms inference, 3.0ms postprocess per image at shape (1, 3, 640, 640)\n"
     ]
    },
    {
     "name": "stderr",
     "output_type": "stream",
     "text": [
      "Processing:  56%|█████████████████████████████████████▏                            | 1013/1800 [04:19<02:14,  5.86it/s]"
     ]
    },
    {
     "name": "stdout",
     "output_type": "stream",
     "text": [
      "\n",
      "0: 640x640 1 pitted_surface, 15.5ms\n",
      "Speed: 5.9ms preprocess, 15.5ms inference, 3.8ms postprocess per image at shape (1, 3, 640, 640)\n"
     ]
    },
    {
     "name": "stderr",
     "output_type": "stream",
     "text": [
      "Processing:  56%|█████████████████████████████████████▏                            | 1014/1800 [04:19<02:01,  6.49it/s]"
     ]
    },
    {
     "name": "stdout",
     "output_type": "stream",
     "text": [
      "\n",
      "0: 640x640 1 inculsion, 1 pitted_surface, 17.0ms\n",
      "Speed: 5.1ms preprocess, 17.0ms inference, 3.3ms postprocess per image at shape (1, 3, 640, 640)\n"
     ]
    },
    {
     "name": "stderr",
     "output_type": "stream",
     "text": [
      "Processing:  56%|█████████████████████████████████████▏                            | 1015/1800 [04:20<02:04,  6.30it/s]"
     ]
    },
    {
     "name": "stdout",
     "output_type": "stream",
     "text": [
      "\n",
      "0: 640x640 1 pitted_surface, 18.1ms\n",
      "Speed: 6.4ms preprocess, 18.1ms inference, 3.6ms postprocess per image at shape (1, 3, 640, 640)\n"
     ]
    },
    {
     "name": "stderr",
     "output_type": "stream",
     "text": [
      "Processing:  56%|█████████████████████████████████████▎                            | 1016/1800 [04:20<01:53,  6.93it/s]"
     ]
    },
    {
     "name": "stdout",
     "output_type": "stream",
     "text": [
      "\n",
      "0: 640x640 1 pitted_surface, 18.6ms\n",
      "Speed: 5.4ms preprocess, 18.6ms inference, 3.1ms postprocess per image at shape (1, 3, 640, 640)\n"
     ]
    },
    {
     "name": "stderr",
     "output_type": "stream",
     "text": [
      "Processing:  56%|█████████████████████████████████████▎                            | 1017/1800 [04:20<01:43,  7.55it/s]"
     ]
    },
    {
     "name": "stdout",
     "output_type": "stream",
     "text": [
      "\n",
      "0: 640x640 1 pitted_surface, 15.6ms\n",
      "Speed: 4.7ms preprocess, 15.6ms inference, 3.0ms postprocess per image at shape (1, 3, 640, 640)\n",
      "\n",
      "0: 640x640 1 patches, 1 pitted_surface, 16.4ms\n",
      "Speed: 4.7ms preprocess, 16.4ms inference, 6.5ms postprocess per image at shape (1, 3, 640, 640)\n"
     ]
    },
    {
     "name": "stderr",
     "output_type": "stream",
     "text": [
      "Processing:  57%|█████████████████████████████████████▎                            | 1019/1800 [04:20<01:43,  7.56it/s]"
     ]
    },
    {
     "name": "stdout",
     "output_type": "stream",
     "text": [
      "\n",
      "0: 640x640 1 pitted_surface, 18.1ms\n",
      "Speed: 4.5ms preprocess, 18.1ms inference, 3.2ms postprocess per image at shape (1, 3, 640, 640)\n"
     ]
    },
    {
     "name": "stderr",
     "output_type": "stream",
     "text": [
      "Processing:  57%|█████████████████████████████████████▍                            | 1020/1800 [04:20<01:37,  7.98it/s]"
     ]
    },
    {
     "name": "stdout",
     "output_type": "stream",
     "text": [
      "\n",
      "0: 640x640 2 patchess, 18.1ms\n",
      "Speed: 6.1ms preprocess, 18.1ms inference, 3.8ms postprocess per image at shape (1, 3, 640, 640)\n"
     ]
    },
    {
     "name": "stderr",
     "output_type": "stream",
     "text": [
      "Processing:  57%|█████████████████████████████████████▍                            | 1021/1800 [04:20<01:48,  7.19it/s]"
     ]
    },
    {
     "name": "stdout",
     "output_type": "stream",
     "text": [
      "\n",
      "0: 640x640 3 patchess, 1 pitted_surface, 22.0ms\n",
      "Speed: 5.8ms preprocess, 22.0ms inference, 3.5ms postprocess per image at shape (1, 3, 640, 640)\n"
     ]
    },
    {
     "name": "stderr",
     "output_type": "stream",
     "text": [
      "Processing:  57%|█████████████████████████████████████▍                            | 1022/1800 [04:21<02:26,  5.33it/s]"
     ]
    },
    {
     "name": "stdout",
     "output_type": "stream",
     "text": [
      "\n",
      "0: 640x640 1 patches, 13.7ms\n",
      "Speed: 5.7ms preprocess, 13.7ms inference, 2.8ms postprocess per image at shape (1, 3, 640, 640)\n"
     ]
    },
    {
     "name": "stderr",
     "output_type": "stream",
     "text": [
      "Processing:  57%|█████████████████████████████████████▌                            | 1023/1800 [04:21<02:06,  6.13it/s]"
     ]
    },
    {
     "name": "stdout",
     "output_type": "stream",
     "text": [
      "\n",
      "0: 640x640 1 pitted_surface, 18.4ms\n",
      "Speed: 5.9ms preprocess, 18.4ms inference, 3.3ms postprocess per image at shape (1, 3, 640, 640)\n"
     ]
    },
    {
     "name": "stderr",
     "output_type": "stream",
     "text": [
      "Processing:  57%|█████████████████████████████████████▌                            | 1024/1800 [04:21<01:52,  6.88it/s]"
     ]
    },
    {
     "name": "stdout",
     "output_type": "stream",
     "text": [
      "\n",
      "0: 640x640 2 patchess, 1 pitted_surface, 22.5ms\n",
      "Speed: 5.7ms preprocess, 22.5ms inference, 6.1ms postprocess per image at shape (1, 3, 640, 640)\n"
     ]
    },
    {
     "name": "stderr",
     "output_type": "stream",
     "text": [
      "Processing:  57%|█████████████████████████████████████▌                            | 1025/1800 [04:21<02:21,  5.49it/s]"
     ]
    },
    {
     "name": "stdout",
     "output_type": "stream",
     "text": [
      "\n",
      "0: 640x640 1 pitted_surface, 19.0ms\n",
      "Speed: 5.7ms preprocess, 19.0ms inference, 3.6ms postprocess per image at shape (1, 3, 640, 640)\n"
     ]
    },
    {
     "name": "stderr",
     "output_type": "stream",
     "text": [
      "Processing:  57%|█████████████████████████████████████▌                            | 1026/1800 [04:21<02:03,  6.29it/s]"
     ]
    },
    {
     "name": "stdout",
     "output_type": "stream",
     "text": [
      "\n",
      "0: 640x640 1 pitted_surface, 17.2ms\n",
      "Speed: 5.2ms preprocess, 17.2ms inference, 3.3ms postprocess per image at shape (1, 3, 640, 640)\n"
     ]
    },
    {
     "name": "stderr",
     "output_type": "stream",
     "text": [
      "Processing:  57%|█████████████████████████████████████▋                            | 1027/1800 [04:21<01:52,  6.89it/s]"
     ]
    },
    {
     "name": "stdout",
     "output_type": "stream",
     "text": [
      "\n",
      "0: 640x640 2 pitted_surfaces, 15.8ms\n",
      "Speed: 4.5ms preprocess, 15.8ms inference, 3.4ms postprocess per image at shape (1, 3, 640, 640)\n"
     ]
    },
    {
     "name": "stderr",
     "output_type": "stream",
     "text": [
      "Processing:  57%|█████████████████████████████████████▋                            | 1028/1800 [04:22<01:58,  6.54it/s]"
     ]
    },
    {
     "name": "stdout",
     "output_type": "stream",
     "text": [
      "\n",
      "0: 640x640 1 patches, 1 pitted_surface, 19.7ms\n",
      "Speed: 5.5ms preprocess, 19.7ms inference, 3.6ms postprocess per image at shape (1, 3, 640, 640)\n"
     ]
    },
    {
     "name": "stderr",
     "output_type": "stream",
     "text": [
      "Processing:  57%|█████████████████████████████████████▋                            | 1029/1800 [04:22<02:02,  6.30it/s]"
     ]
    },
    {
     "name": "stdout",
     "output_type": "stream",
     "text": [
      "\n",
      "0: 640x640 1 pitted_surface, 16.8ms\n",
      "Speed: 4.7ms preprocess, 16.8ms inference, 3.3ms postprocess per image at shape (1, 3, 640, 640)\n",
      "\n",
      "0: 640x640 1 pitted_surface, 15.6ms\n",
      "Speed: 5.1ms preprocess, 15.6ms inference, 3.5ms postprocess per image at shape (1, 3, 640, 640)\n"
     ]
    },
    {
     "name": "stderr",
     "output_type": "stream",
     "text": [
      "Processing:  57%|█████████████████████████████████████▊                            | 1031/1800 [04:22<01:42,  7.52it/s]"
     ]
    },
    {
     "name": "stdout",
     "output_type": "stream",
     "text": [
      "\n",
      "0: 640x640 3 pitted_surfaces, 14.8ms\n",
      "Speed: 5.4ms preprocess, 14.8ms inference, 3.7ms postprocess per image at shape (1, 3, 640, 640)\n"
     ]
    },
    {
     "name": "stderr",
     "output_type": "stream",
     "text": [
      "Processing:  57%|█████████████████████████████████████▊                            | 1032/1800 [04:22<02:02,  6.28it/s]"
     ]
    },
    {
     "name": "stdout",
     "output_type": "stream",
     "text": [
      "\n",
      "0: 640x640 1 pitted_surface, 20.1ms\n",
      "Speed: 6.6ms preprocess, 20.1ms inference, 3.4ms postprocess per image at shape (1, 3, 640, 640)\n"
     ]
    },
    {
     "name": "stderr",
     "output_type": "stream",
     "text": [
      "Processing:  57%|█████████████████████████████████████▉                            | 1033/1800 [04:22<01:52,  6.79it/s]"
     ]
    },
    {
     "name": "stdout",
     "output_type": "stream",
     "text": [
      "\n",
      "0: 640x640 1 pitted_surface, 15.9ms\n",
      "Speed: 5.2ms preprocess, 15.9ms inference, 3.4ms postprocess per image at shape (1, 3, 640, 640)\n",
      "\n",
      "0: 640x640 1 pitted_surface, 17.6ms\n",
      "Speed: 5.4ms preprocess, 17.6ms inference, 3.5ms postprocess per image at shape (1, 3, 640, 640)\n"
     ]
    },
    {
     "name": "stderr",
     "output_type": "stream",
     "text": [
      "Processing:  57%|█████████████████████████████████████▉                            | 1035/1800 [04:22<01:36,  7.92it/s]"
     ]
    },
    {
     "name": "stdout",
     "output_type": "stream",
     "text": [
      "\n",
      "0: 640x640 1 pitted_surface, 17.2ms\n",
      "Speed: 5.2ms preprocess, 17.2ms inference, 3.9ms postprocess per image at shape (1, 3, 640, 640)\n",
      "\n",
      "0: 640x640 1 pitted_surface, 17.4ms\n",
      "Speed: 5.6ms preprocess, 17.4ms inference, 3.1ms postprocess per image at shape (1, 3, 640, 640)\n"
     ]
    },
    {
     "name": "stderr",
     "output_type": "stream",
     "text": [
      "Processing:  58%|██████████████████████████████████████                            | 1037/1800 [04:23<01:29,  8.54it/s]"
     ]
    },
    {
     "name": "stdout",
     "output_type": "stream",
     "text": [
      "\n",
      "0: 640x640 1 pitted_surface, 15.6ms\n",
      "Speed: 5.8ms preprocess, 15.6ms inference, 7.6ms postprocess per image at shape (1, 3, 640, 640)\n"
     ]
    },
    {
     "name": "stderr",
     "output_type": "stream",
     "text": [
      "Processing:  58%|██████████████████████████████████████                            | 1038/1800 [04:23<01:27,  8.76it/s]"
     ]
    },
    {
     "name": "stdout",
     "output_type": "stream",
     "text": [
      "\n",
      "0: 640x640 2 patchess, 15.6ms\n",
      "Speed: 4.7ms preprocess, 15.6ms inference, 3.4ms postprocess per image at shape (1, 3, 640, 640)\n"
     ]
    },
    {
     "name": "stderr",
     "output_type": "stream",
     "text": [
      "Processing:  58%|██████████████████████████████████████                            | 1039/1800 [04:23<01:37,  7.79it/s]"
     ]
    },
    {
     "name": "stdout",
     "output_type": "stream",
     "text": [
      "\n",
      "0: 640x640 1 pitted_surface, 26.7ms\n",
      "Speed: 6.4ms preprocess, 26.7ms inference, 4.8ms postprocess per image at shape (1, 3, 640, 640)\n"
     ]
    },
    {
     "name": "stderr",
     "output_type": "stream",
     "text": [
      "Processing:  58%|██████████████████████████████████████▏                           | 1040/1800 [04:23<01:34,  8.04it/s]"
     ]
    },
    {
     "name": "stdout",
     "output_type": "stream",
     "text": [
      "\n",
      "0: 640x640 1 pitted_surface, 15.9ms\n",
      "Speed: 5.4ms preprocess, 15.9ms inference, 3.6ms postprocess per image at shape (1, 3, 640, 640)\n"
     ]
    },
    {
     "name": "stderr",
     "output_type": "stream",
     "text": [
      "Processing:  58%|██████████████████████████████████████▏                           | 1041/1800 [04:23<01:29,  8.46it/s]"
     ]
    },
    {
     "name": "stdout",
     "output_type": "stream",
     "text": [
      "\n",
      "0: 640x640 2 pitted_surfaces, 17.6ms\n",
      "Speed: 5.2ms preprocess, 17.6ms inference, 3.5ms postprocess per image at shape (1, 3, 640, 640)\n"
     ]
    },
    {
     "name": "stderr",
     "output_type": "stream",
     "text": [
      "Processing:  58%|██████████████████████████████████████▏                           | 1042/1800 [04:23<01:40,  7.57it/s]"
     ]
    },
    {
     "name": "stdout",
     "output_type": "stream",
     "text": [
      "\n",
      "0: 640x640 1 pitted_surface, 18.5ms\n",
      "Speed: 4.7ms preprocess, 18.5ms inference, 4.0ms postprocess per image at shape (1, 3, 640, 640)\n"
     ]
    },
    {
     "name": "stderr",
     "output_type": "stream",
     "text": [
      "Processing:  58%|██████████████████████████████████████▏                           | 1043/1800 [04:23<01:33,  8.09it/s]"
     ]
    },
    {
     "name": "stdout",
     "output_type": "stream",
     "text": [
      "\n",
      "0: 640x640 1 pitted_surface, 41.4ms\n",
      "Speed: 6.4ms preprocess, 41.4ms inference, 5.8ms postprocess per image at shape (1, 3, 640, 640)\n"
     ]
    },
    {
     "name": "stderr",
     "output_type": "stream",
     "text": [
      "Processing:  58%|██████████████████████████████████████▎                           | 1044/1800 [04:24<01:34,  8.04it/s]"
     ]
    },
    {
     "name": "stdout",
     "output_type": "stream",
     "text": [
      "\n",
      "0: 640x640 2 pitted_surfaces, 17.2ms\n",
      "Speed: 4.9ms preprocess, 17.2ms inference, 3.2ms postprocess per image at shape (1, 3, 640, 640)\n"
     ]
    },
    {
     "name": "stderr",
     "output_type": "stream",
     "text": [
      "Processing:  58%|██████████████████████████████████████▎                           | 1045/1800 [04:24<01:42,  7.36it/s]"
     ]
    },
    {
     "name": "stdout",
     "output_type": "stream",
     "text": [
      "\n",
      "0: 640x640 1 pitted_surface, 19.6ms\n",
      "Speed: 5.6ms preprocess, 19.6ms inference, 2.4ms postprocess per image at shape (1, 3, 640, 640)\n",
      "\n",
      "0: 640x640 1 pitted_surface, 18.0ms\n",
      "Speed: 5.4ms preprocess, 18.0ms inference, 3.1ms postprocess per image at shape (1, 3, 640, 640)\n"
     ]
    },
    {
     "name": "stderr",
     "output_type": "stream",
     "text": [
      "Processing:  58%|██████████████████████████████████████▍                           | 1047/1800 [04:24<01:30,  8.30it/s]"
     ]
    },
    {
     "name": "stdout",
     "output_type": "stream",
     "text": [
      "\n",
      "0: 640x640 1 pitted_surface, 14.9ms\n",
      "Speed: 5.7ms preprocess, 14.9ms inference, 3.4ms postprocess per image at shape (1, 3, 640, 640)\n",
      "\n",
      "0: 640x640 1 pitted_surface, 17.5ms\n",
      "Speed: 5.2ms preprocess, 17.5ms inference, 3.3ms postprocess per image at shape (1, 3, 640, 640)\n"
     ]
    },
    {
     "name": "stderr",
     "output_type": "stream",
     "text": [
      "Processing:  58%|██████████████████████████████████████▍                           | 1049/1800 [04:24<01:24,  8.91it/s]"
     ]
    },
    {
     "name": "stdout",
     "output_type": "stream",
     "text": [
      "\n",
      "0: 640x640 2 pitted_surfaces, 17.4ms\n",
      "Speed: 4.5ms preprocess, 17.4ms inference, 3.4ms postprocess per image at shape (1, 3, 640, 640)\n"
     ]
    },
    {
     "name": "stderr",
     "output_type": "stream",
     "text": [
      "Processing:  58%|██████████████████████████████████████▌                           | 1050/1800 [04:24<01:32,  8.07it/s]"
     ]
    },
    {
     "name": "stdout",
     "output_type": "stream",
     "text": [
      "\n",
      "0: 640x640 2 pitted_surfaces, 15.1ms\n",
      "Speed: 5.1ms preprocess, 15.1ms inference, 3.4ms postprocess per image at shape (1, 3, 640, 640)\n"
     ]
    },
    {
     "name": "stderr",
     "output_type": "stream",
     "text": [
      "Processing:  58%|██████████████████████████████████████▌                           | 1051/1800 [04:24<01:41,  7.39it/s]"
     ]
    },
    {
     "name": "stdout",
     "output_type": "stream",
     "text": [
      "\n",
      "0: 640x640 2 pitted_surfaces, 18.4ms\n",
      "Speed: 4.9ms preprocess, 18.4ms inference, 3.4ms postprocess per image at shape (1, 3, 640, 640)\n"
     ]
    },
    {
     "name": "stderr",
     "output_type": "stream",
     "text": [
      "Processing:  58%|██████████████████████████████████████▌                           | 1052/1800 [04:25<01:47,  6.93it/s]"
     ]
    },
    {
     "name": "stdout",
     "output_type": "stream",
     "text": [
      "\n",
      "0: 640x640 1 patches, 1 pitted_surface, 16.9ms\n",
      "Speed: 3.9ms preprocess, 16.9ms inference, 3.9ms postprocess per image at shape (1, 3, 640, 640)\n"
     ]
    },
    {
     "name": "stderr",
     "output_type": "stream",
     "text": [
      "Processing:  58%|██████████████████████████████████████▌                           | 1053/1800 [04:25<01:55,  6.46it/s]"
     ]
    },
    {
     "name": "stdout",
     "output_type": "stream",
     "text": [
      "\n",
      "0: 640x640 1 patches, 1 pitted_surface, 18.3ms\n",
      "Speed: 5.5ms preprocess, 18.3ms inference, 3.9ms postprocess per image at shape (1, 3, 640, 640)\n"
     ]
    },
    {
     "name": "stderr",
     "output_type": "stream",
     "text": [
      "Processing:  59%|██████████████████████████████████████▋                           | 1054/1800 [04:25<01:58,  6.28it/s]"
     ]
    },
    {
     "name": "stdout",
     "output_type": "stream",
     "text": [
      "\n",
      "0: 640x640 2 pitted_surfaces, 18.0ms\n",
      "Speed: 4.9ms preprocess, 18.0ms inference, 3.3ms postprocess per image at shape (1, 3, 640, 640)\n"
     ]
    },
    {
     "name": "stderr",
     "output_type": "stream",
     "text": [
      "Processing:  59%|██████████████████████████████████████▋                           | 1055/1800 [04:25<02:00,  6.16it/s]"
     ]
    },
    {
     "name": "stdout",
     "output_type": "stream",
     "text": [
      "\n",
      "0: 640x640 2 pitted_surfaces, 13.5ms\n",
      "Speed: 4.9ms preprocess, 13.5ms inference, 3.2ms postprocess per image at shape (1, 3, 640, 640)\n"
     ]
    },
    {
     "name": "stderr",
     "output_type": "stream",
     "text": [
      "Processing:  59%|██████████████████████████████████████▋                           | 1056/1800 [04:25<02:01,  6.14it/s]"
     ]
    },
    {
     "name": "stdout",
     "output_type": "stream",
     "text": [
      "\n",
      "0: 640x640 1 pitted_surface, 17.0ms\n",
      "Speed: 5.2ms preprocess, 17.0ms inference, 4.1ms postprocess per image at shape (1, 3, 640, 640)\n"
     ]
    },
    {
     "name": "stderr",
     "output_type": "stream",
     "text": [
      "Processing:  59%|██████████████████████████████████████▊                           | 1057/1800 [04:25<01:47,  6.91it/s]"
     ]
    },
    {
     "name": "stdout",
     "output_type": "stream",
     "text": [
      "\n",
      "0: 640x640 1 pitted_surface, 18.9ms\n",
      "Speed: 4.7ms preprocess, 18.9ms inference, 3.2ms postprocess per image at shape (1, 3, 640, 640)\n"
     ]
    },
    {
     "name": "stderr",
     "output_type": "stream",
     "text": [
      "Processing:  59%|██████████████████████████████████████▊                           | 1058/1800 [04:26<01:39,  7.44it/s]"
     ]
    },
    {
     "name": "stdout",
     "output_type": "stream",
     "text": [
      "\n",
      "0: 640x640 1 pitted_surface, 19.0ms\n",
      "Speed: 5.4ms preprocess, 19.0ms inference, 2.0ms postprocess per image at shape (1, 3, 640, 640)\n"
     ]
    },
    {
     "name": "stderr",
     "output_type": "stream",
     "text": [
      "Processing:  59%|██████████████████████████████████████▊                           | 1059/1800 [04:26<01:32,  8.03it/s]"
     ]
    },
    {
     "name": "stdout",
     "output_type": "stream",
     "text": [
      "\n",
      "0: 640x640 1 pitted_surface, 28.8ms\n",
      "Speed: 5.2ms preprocess, 28.8ms inference, 3.1ms postprocess per image at shape (1, 3, 640, 640)\n"
     ]
    },
    {
     "name": "stderr",
     "output_type": "stream",
     "text": [
      "Processing:  59%|██████████████████████████████████████▊                           | 1060/1800 [04:26<01:29,  8.26it/s]"
     ]
    },
    {
     "name": "stdout",
     "output_type": "stream",
     "text": [
      "\n",
      "0: 640x640 1 pitted_surface, 19.5ms\n",
      "Speed: 7.1ms preprocess, 19.5ms inference, 7.7ms postprocess per image at shape (1, 3, 640, 640)\n"
     ]
    },
    {
     "name": "stderr",
     "output_type": "stream",
     "text": [
      "Processing:  59%|██████████████████████████████████████▉                           | 1061/1800 [04:26<01:26,  8.50it/s]"
     ]
    },
    {
     "name": "stdout",
     "output_type": "stream",
     "text": [
      "\n",
      "0: 640x640 1 pitted_surface, 30.6ms\n",
      "Speed: 7.2ms preprocess, 30.6ms inference, 5.6ms postprocess per image at shape (1, 3, 640, 640)\n"
     ]
    },
    {
     "name": "stderr",
     "output_type": "stream",
     "text": [
      "Processing:  59%|██████████████████████████████████████▉                           | 1062/1800 [04:26<01:27,  8.47it/s]"
     ]
    },
    {
     "name": "stdout",
     "output_type": "stream",
     "text": [
      "\n",
      "0: 640x640 1 patches, 1 pitted_surface, 17.8ms\n",
      "Speed: 5.6ms preprocess, 17.8ms inference, 6.1ms postprocess per image at shape (1, 3, 640, 640)\n"
     ]
    },
    {
     "name": "stderr",
     "output_type": "stream",
     "text": [
      "Processing:  59%|██████████████████████████████████████▉                           | 1063/1800 [04:26<01:45,  6.99it/s]"
     ]
    },
    {
     "name": "stdout",
     "output_type": "stream",
     "text": [
      "\n",
      "0: 640x640 1 pitted_surface, 22.5ms\n",
      "Speed: 5.2ms preprocess, 22.5ms inference, 5.5ms postprocess per image at shape (1, 3, 640, 640)\n"
     ]
    },
    {
     "name": "stderr",
     "output_type": "stream",
     "text": [
      "Processing:  59%|███████████████████████████████████████                           | 1064/1800 [04:26<01:39,  7.38it/s]"
     ]
    },
    {
     "name": "stdout",
     "output_type": "stream",
     "text": [
      "\n",
      "0: 640x640 1 patches, 2 pitted_surfaces, 77.4ms\n",
      "Speed: 9.3ms preprocess, 77.4ms inference, 7.2ms postprocess per image at shape (1, 3, 640, 640)\n"
     ]
    },
    {
     "name": "stderr",
     "output_type": "stream",
     "text": [
      "Processing:  59%|███████████████████████████████████████                           | 1065/1800 [04:27<02:23,  5.13it/s]"
     ]
    },
    {
     "name": "stdout",
     "output_type": "stream",
     "text": [
      "\n",
      "0: 640x640 2 pitted_surfaces, 16.2ms\n",
      "Speed: 4.4ms preprocess, 16.2ms inference, 3.4ms postprocess per image at shape (1, 3, 640, 640)\n"
     ]
    },
    {
     "name": "stderr",
     "output_type": "stream",
     "text": [
      "Processing:  59%|███████████████████████████████████████                           | 1066/1800 [04:27<02:18,  5.30it/s]"
     ]
    },
    {
     "name": "stdout",
     "output_type": "stream",
     "text": [
      "\n",
      "0: 640x640 1 pitted_surface, 14.0ms\n",
      "Speed: 4.7ms preprocess, 14.0ms inference, 3.4ms postprocess per image at shape (1, 3, 640, 640)\n"
     ]
    },
    {
     "name": "stderr",
     "output_type": "stream",
     "text": [
      "Processing:  59%|███████████████████████████████████████                           | 1067/1800 [04:27<02:00,  6.06it/s]"
     ]
    },
    {
     "name": "stdout",
     "output_type": "stream",
     "text": [
      "\n",
      "0: 640x640 1 pitted_surface, 17.4ms\n",
      "Speed: 4.0ms preprocess, 17.4ms inference, 3.1ms postprocess per image at shape (1, 3, 640, 640)\n"
     ]
    },
    {
     "name": "stderr",
     "output_type": "stream",
     "text": [
      "Processing:  59%|███████████████████████████████████████▏                          | 1068/1800 [04:27<01:48,  6.77it/s]"
     ]
    },
    {
     "name": "stdout",
     "output_type": "stream",
     "text": [
      "\n",
      "0: 640x640 1 pitted_surface, 23.5ms\n",
      "Speed: 7.4ms preprocess, 23.5ms inference, 3.8ms postprocess per image at shape (1, 3, 640, 640)\n"
     ]
    },
    {
     "name": "stderr",
     "output_type": "stream",
     "text": [
      "Processing:  59%|███████████████████████████████████████▏                          | 1069/1800 [04:27<01:40,  7.27it/s]"
     ]
    },
    {
     "name": "stdout",
     "output_type": "stream",
     "text": [
      "\n",
      "0: 640x640 1 pitted_surface, 19.8ms\n",
      "Speed: 5.3ms preprocess, 19.8ms inference, 3.4ms postprocess per image at shape (1, 3, 640, 640)\n"
     ]
    },
    {
     "name": "stderr",
     "output_type": "stream",
     "text": [
      "Processing:  59%|███████████████████████████████████████▏                          | 1070/1800 [04:27<01:33,  7.82it/s]"
     ]
    },
    {
     "name": "stdout",
     "output_type": "stream",
     "text": [
      "\n",
      "0: 640x640 1 pitted_surface, 18.9ms\n",
      "Speed: 6.7ms preprocess, 18.9ms inference, 3.4ms postprocess per image at shape (1, 3, 640, 640)\n"
     ]
    },
    {
     "name": "stderr",
     "output_type": "stream",
     "text": [
      "Processing:  60%|███████████████████████████████████████▎                          | 1071/1800 [04:27<01:28,  8.26it/s]"
     ]
    },
    {
     "name": "stdout",
     "output_type": "stream",
     "text": [
      "\n",
      "0: 640x640 2 patchess, 1 pitted_surface, 22.0ms\n",
      "Speed: 6.3ms preprocess, 22.0ms inference, 3.2ms postprocess per image at shape (1, 3, 640, 640)\n"
     ]
    },
    {
     "name": "stderr",
     "output_type": "stream",
     "text": [
      "Processing:  60%|███████████████████████████████████████▎                          | 1072/1800 [04:28<01:56,  6.25it/s]"
     ]
    },
    {
     "name": "stdout",
     "output_type": "stream",
     "text": [
      "\n",
      "0: 640x640 1 pitted_surface, 19.3ms\n",
      "Speed: 5.6ms preprocess, 19.3ms inference, 2.9ms postprocess per image at shape (1, 3, 640, 640)\n"
     ]
    },
    {
     "name": "stderr",
     "output_type": "stream",
     "text": [
      "Processing:  60%|███████████████████████████████████████▎                          | 1073/1800 [04:28<01:45,  6.92it/s]"
     ]
    },
    {
     "name": "stdout",
     "output_type": "stream",
     "text": [
      "\n",
      "0: 640x640 1 pitted_surface, 15.5ms\n",
      "Speed: 5.3ms preprocess, 15.5ms inference, 3.0ms postprocess per image at shape (1, 3, 640, 640)\n"
     ]
    },
    {
     "name": "stderr",
     "output_type": "stream",
     "text": [
      "Processing:  60%|███████████████████████████████████████▍                          | 1074/1800 [04:28<01:35,  7.62it/s]"
     ]
    },
    {
     "name": "stdout",
     "output_type": "stream",
     "text": [
      "\n",
      "0: 640x640 1 pitted_surface, 17.2ms\n",
      "Speed: 5.2ms preprocess, 17.2ms inference, 3.8ms postprocess per image at shape (1, 3, 640, 640)\n"
     ]
    },
    {
     "name": "stderr",
     "output_type": "stream",
     "text": [
      "Processing:  60%|███████████████████████████████████████▍                          | 1075/1800 [04:28<01:28,  8.20it/s]"
     ]
    },
    {
     "name": "stdout",
     "output_type": "stream",
     "text": [
      "\n",
      "0: 640x640 1 pitted_surface, 18.1ms\n",
      "Speed: 5.4ms preprocess, 18.1ms inference, 3.4ms postprocess per image at shape (1, 3, 640, 640)\n"
     ]
    },
    {
     "name": "stderr",
     "output_type": "stream",
     "text": [
      "Processing:  60%|███████████████████████████████████████▍                          | 1076/1800 [04:28<01:24,  8.58it/s]"
     ]
    },
    {
     "name": "stdout",
     "output_type": "stream",
     "text": [
      "\n",
      "0: 640x640 1 pitted_surface, 15.0ms\n",
      "Speed: 4.6ms preprocess, 15.0ms inference, 3.6ms postprocess per image at shape (1, 3, 640, 640)\n"
     ]
    },
    {
     "name": "stderr",
     "output_type": "stream",
     "text": [
      "Processing:  60%|███████████████████████████████████████▍                          | 1077/1800 [04:28<01:23,  8.69it/s]"
     ]
    },
    {
     "name": "stdout",
     "output_type": "stream",
     "text": [
      "\n",
      "0: 640x640 1 pitted_surface, 25.9ms\n",
      "Speed: 4.7ms preprocess, 25.9ms inference, 3.4ms postprocess per image at shape (1, 3, 640, 640)\n"
     ]
    },
    {
     "name": "stderr",
     "output_type": "stream",
     "text": [
      "Processing:  60%|███████████████████████████████████████▌                          | 1078/1800 [04:28<01:21,  8.84it/s]"
     ]
    },
    {
     "name": "stdout",
     "output_type": "stream",
     "text": [
      "\n",
      "0: 640x640 2 pitted_surfaces, 18.2ms\n",
      "Speed: 5.0ms preprocess, 18.2ms inference, 3.6ms postprocess per image at shape (1, 3, 640, 640)\n"
     ]
    },
    {
     "name": "stderr",
     "output_type": "stream",
     "text": [
      "Processing:  60%|███████████████████████████████████████▌                          | 1079/1800 [04:28<01:35,  7.54it/s]"
     ]
    },
    {
     "name": "stdout",
     "output_type": "stream",
     "text": [
      "\n",
      "0: 640x640 1 pitted_surface, 17.0ms\n",
      "Speed: 5.8ms preprocess, 17.0ms inference, 3.3ms postprocess per image at shape (1, 3, 640, 640)\n"
     ]
    },
    {
     "name": "stderr",
     "output_type": "stream",
     "text": [
      "Processing:  60%|███████████████████████████████████████▌                          | 1080/1800 [04:28<01:29,  8.07it/s]"
     ]
    },
    {
     "name": "stdout",
     "output_type": "stream",
     "text": [
      "\n",
      "0: 640x640 2 patchess, 1 pitted_surface, 22.6ms\n",
      "Speed: 4.7ms preprocess, 22.6ms inference, 3.7ms postprocess per image at shape (1, 3, 640, 640)\n"
     ]
    },
    {
     "name": "stderr",
     "output_type": "stream",
     "text": [
      "Processing:  60%|███████████████████████████████████████▋                          | 1081/1800 [04:29<01:55,  6.21it/s]"
     ]
    },
    {
     "name": "stdout",
     "output_type": "stream",
     "text": [
      "\n",
      "0: 640x640 2 pitted_surfaces, 18.7ms\n",
      "Speed: 5.3ms preprocess, 18.7ms inference, 3.6ms postprocess per image at shape (1, 3, 640, 640)\n"
     ]
    },
    {
     "name": "stderr",
     "output_type": "stream",
     "text": [
      "Processing:  60%|███████████████████████████████████████▋                          | 1082/1800 [04:29<01:56,  6.17it/s]"
     ]
    },
    {
     "name": "stdout",
     "output_type": "stream",
     "text": [
      "\n",
      "0: 640x640 1 pitted_surface, 17.7ms\n",
      "Speed: 7.0ms preprocess, 17.7ms inference, 4.2ms postprocess per image at shape (1, 3, 640, 640)\n"
     ]
    },
    {
     "name": "stderr",
     "output_type": "stream",
     "text": [
      "Processing:  60%|███████████████████████████████████████▋                          | 1083/1800 [04:29<01:44,  6.89it/s]"
     ]
    },
    {
     "name": "stdout",
     "output_type": "stream",
     "text": [
      "\n",
      "0: 640x640 1 pitted_surface, 19.6ms\n",
      "Speed: 5.0ms preprocess, 19.6ms inference, 2.5ms postprocess per image at shape (1, 3, 640, 640)\n"
     ]
    },
    {
     "name": "stderr",
     "output_type": "stream",
     "text": [
      "Processing:  60%|███████████████████████████████████████▋                          | 1084/1800 [04:29<01:35,  7.52it/s]"
     ]
    },
    {
     "name": "stdout",
     "output_type": "stream",
     "text": [
      "\n",
      "0: 640x640 1 pitted_surface, 18.1ms\n",
      "Speed: 5.0ms preprocess, 18.1ms inference, 3.7ms postprocess per image at shape (1, 3, 640, 640)\n"
     ]
    },
    {
     "name": "stderr",
     "output_type": "stream",
     "text": [
      "Processing:  60%|███████████████████████████████████████▊                          | 1085/1800 [04:29<01:28,  8.04it/s]"
     ]
    },
    {
     "name": "stdout",
     "output_type": "stream",
     "text": [
      "\n",
      "0: 640x640 2 pitted_surfaces, 16.6ms\n",
      "Speed: 5.4ms preprocess, 16.6ms inference, 4.5ms postprocess per image at shape (1, 3, 640, 640)\n"
     ]
    },
    {
     "name": "stderr",
     "output_type": "stream",
     "text": [
      "Processing:  60%|███████████████████████████████████████▊                          | 1086/1800 [04:29<01:39,  7.18it/s]"
     ]
    },
    {
     "name": "stdout",
     "output_type": "stream",
     "text": [
      "\n",
      "0: 640x640 1 pitted_surface, 17.7ms\n",
      "Speed: 4.3ms preprocess, 17.7ms inference, 4.0ms postprocess per image at shape (1, 3, 640, 640)\n"
     ]
    },
    {
     "name": "stderr",
     "output_type": "stream",
     "text": [
      "Processing:  60%|███████████████████████████████████████▊                          | 1087/1800 [04:30<01:32,  7.68it/s]"
     ]
    },
    {
     "name": "stdout",
     "output_type": "stream",
     "text": [
      "\n",
      "0: 640x640 1 pitted_surface, 18.7ms\n",
      "Speed: 5.0ms preprocess, 18.7ms inference, 2.8ms postprocess per image at shape (1, 3, 640, 640)\n"
     ]
    },
    {
     "name": "stderr",
     "output_type": "stream",
     "text": [
      "Processing:  60%|███████████████████████████████████████▉                          | 1088/1800 [04:30<01:26,  8.22it/s]"
     ]
    },
    {
     "name": "stdout",
     "output_type": "stream",
     "text": [
      "\n",
      "0: 640x640 1 pitted_surface, 17.3ms\n",
      "Speed: 4.8ms preprocess, 17.3ms inference, 3.3ms postprocess per image at shape (1, 3, 640, 640)\n"
     ]
    },
    {
     "name": "stderr",
     "output_type": "stream",
     "text": [
      "Processing:  60%|███████████████████████████████████████▉                          | 1089/1800 [04:30<01:21,  8.68it/s]"
     ]
    },
    {
     "name": "stdout",
     "output_type": "stream",
     "text": [
      "\n",
      "0: 640x640 2 pitted_surfaces, 17.4ms\n",
      "Speed: 4.7ms preprocess, 17.4ms inference, 3.5ms postprocess per image at shape (1, 3, 640, 640)\n"
     ]
    },
    {
     "name": "stderr",
     "output_type": "stream",
     "text": [
      "Processing:  61%|███████████████████████████████████████▉                          | 1090/1800 [04:30<01:34,  7.55it/s]"
     ]
    },
    {
     "name": "stdout",
     "output_type": "stream",
     "text": [
      "\n",
      "0: 640x640 1 pitted_surface, 21.0ms\n",
      "Speed: 5.1ms preprocess, 21.0ms inference, 2.8ms postprocess per image at shape (1, 3, 640, 640)\n"
     ]
    },
    {
     "name": "stderr",
     "output_type": "stream",
     "text": [
      "Processing:  61%|████████████████████████████████████████                          | 1091/1800 [04:30<01:30,  7.87it/s]"
     ]
    },
    {
     "name": "stdout",
     "output_type": "stream",
     "text": [
      "\n",
      "0: 640x640 1 pitted_surface, 22.0ms\n",
      "Speed: 5.6ms preprocess, 22.0ms inference, 3.4ms postprocess per image at shape (1, 3, 640, 640)\n"
     ]
    },
    {
     "name": "stderr",
     "output_type": "stream",
     "text": [
      "Processing:  61%|████████████████████████████████████████                          | 1092/1800 [04:30<01:27,  8.11it/s]"
     ]
    },
    {
     "name": "stdout",
     "output_type": "stream",
     "text": [
      "\n",
      "0: 640x640 1 patches, 2 pitted_surfaces, 21.7ms\n",
      "Speed: 7.7ms preprocess, 21.7ms inference, 3.3ms postprocess per image at shape (1, 3, 640, 640)\n"
     ]
    },
    {
     "name": "stderr",
     "output_type": "stream",
     "text": [
      "Processing:  61%|████████████████████████████████████████                          | 1093/1800 [04:30<01:55,  6.14it/s]"
     ]
    },
    {
     "name": "stdout",
     "output_type": "stream",
     "text": [
      "\n",
      "0: 640x640 2 pitted_surfaces, 17.7ms\n",
      "Speed: 5.4ms preprocess, 17.7ms inference, 3.7ms postprocess per image at shape (1, 3, 640, 640)\n"
     ]
    },
    {
     "name": "stderr",
     "output_type": "stream",
     "text": [
      "Processing:  61%|████████████████████████████████████████                          | 1094/1800 [04:31<01:54,  6.16it/s]"
     ]
    },
    {
     "name": "stdout",
     "output_type": "stream",
     "text": [
      "\n",
      "0: 640x640 1 pitted_surface, 14.7ms\n",
      "Speed: 5.0ms preprocess, 14.7ms inference, 3.4ms postprocess per image at shape (1, 3, 640, 640)\n",
      "\n",
      "0: 640x640 2 pitted_surfaces, 14.2ms\n",
      "Speed: 7.8ms preprocess, 14.2ms inference, 3.2ms postprocess per image at shape (1, 3, 640, 640)\n"
     ]
    },
    {
     "name": "stderr",
     "output_type": "stream",
     "text": [
      "Processing:  61%|████████████████████████████████████████▏                         | 1096/1800 [04:31<01:45,  6.66it/s]"
     ]
    },
    {
     "name": "stdout",
     "output_type": "stream",
     "text": [
      "\n",
      "0: 640x640 1 patches, 1 pitted_surface, 16.5ms\n",
      "Speed: 5.3ms preprocess, 16.5ms inference, 3.0ms postprocess per image at shape (1, 3, 640, 640)\n"
     ]
    },
    {
     "name": "stderr",
     "output_type": "stream",
     "text": [
      "Processing:  61%|████████████████████████████████████████▏                         | 1097/1800 [04:31<01:48,  6.50it/s]"
     ]
    },
    {
     "name": "stdout",
     "output_type": "stream",
     "text": [
      "\n",
      "0: 640x640 2 patchess, 1 pitted_surface, 16.7ms\n",
      "Speed: 5.1ms preprocess, 16.7ms inference, 3.6ms postprocess per image at shape (1, 3, 640, 640)\n"
     ]
    },
    {
     "name": "stderr",
     "output_type": "stream",
     "text": [
      "Processing:  61%|████████████████████████████████████████▎                         | 1098/1800 [04:31<02:02,  5.71it/s]"
     ]
    },
    {
     "name": "stdout",
     "output_type": "stream",
     "text": [
      "\n",
      "0: 640x640 2 pitted_surfaces, 20.8ms\n",
      "Speed: 4.8ms preprocess, 20.8ms inference, 3.2ms postprocess per image at shape (1, 3, 640, 640)\n"
     ]
    },
    {
     "name": "stderr",
     "output_type": "stream",
     "text": [
      "Processing:  61%|████████████████████████████████████████▎                         | 1099/1800 [04:31<02:01,  5.79it/s]"
     ]
    },
    {
     "name": "stdout",
     "output_type": "stream",
     "text": [
      "\n",
      "0: 640x640 1 inculsion, 2 pitted_surfaces, 15.5ms\n",
      "Speed: 5.3ms preprocess, 15.5ms inference, 3.7ms postprocess per image at shape (1, 3, 640, 640)\n"
     ]
    },
    {
     "name": "stderr",
     "output_type": "stream",
     "text": [
      "Processing:  61%|████████████████████████████████████████▎                         | 1100/1800 [04:32<02:18,  5.07it/s]"
     ]
    },
    {
     "name": "stdout",
     "output_type": "stream",
     "text": [
      "\n",
      "0: 640x640 1 pitted_surface, 20.8ms\n",
      "Speed: 4.9ms preprocess, 20.8ms inference, 3.5ms postprocess per image at shape (1, 3, 640, 640)\n"
     ]
    },
    {
     "name": "stderr",
     "output_type": "stream",
     "text": [
      "Processing:  61%|████████████████████████████████████████▎                         | 1101/1800 [04:32<01:59,  5.84it/s]"
     ]
    },
    {
     "name": "stdout",
     "output_type": "stream",
     "text": [
      "\n",
      "0: 640x640 2 pitted_surfaces, 19.6ms\n",
      "Speed: 6.3ms preprocess, 19.6ms inference, 3.6ms postprocess per image at shape (1, 3, 640, 640)\n"
     ]
    },
    {
     "name": "stderr",
     "output_type": "stream",
     "text": [
      "Processing:  61%|████████████████████████████████████████▍                         | 1102/1800 [04:32<01:59,  5.82it/s]"
     ]
    },
    {
     "name": "stdout",
     "output_type": "stream",
     "text": [
      "\n",
      "0: 640x640 1 inculsion, 1 pitted_surface, 18.5ms\n",
      "Speed: 5.1ms preprocess, 18.5ms inference, 3.2ms postprocess per image at shape (1, 3, 640, 640)\n"
     ]
    },
    {
     "name": "stderr",
     "output_type": "stream",
     "text": [
      "Processing:  61%|████████████████████████████████████████▍                         | 1103/1800 [04:32<02:02,  5.71it/s]"
     ]
    },
    {
     "name": "stdout",
     "output_type": "stream",
     "text": [
      "\n",
      "0: 640x640 2 pitted_surfaces, 17.3ms\n",
      "Speed: 5.6ms preprocess, 17.3ms inference, 3.4ms postprocess per image at shape (1, 3, 640, 640)\n"
     ]
    },
    {
     "name": "stderr",
     "output_type": "stream",
     "text": [
      "Processing:  61%|████████████████████████████████████████▍                         | 1104/1800 [04:32<02:00,  5.79it/s]"
     ]
    },
    {
     "name": "stdout",
     "output_type": "stream",
     "text": [
      "\n",
      "0: 640x640 1 pitted_surface, 18.0ms\n",
      "Speed: 5.3ms preprocess, 18.0ms inference, 4.5ms postprocess per image at shape (1, 3, 640, 640)\n"
     ]
    },
    {
     "name": "stderr",
     "output_type": "stream",
     "text": [
      "Processing:  61%|████████████████████████████████████████▌                         | 1105/1800 [04:32<01:46,  6.54it/s]"
     ]
    },
    {
     "name": "stdout",
     "output_type": "stream",
     "text": [
      "\n",
      "0: 640x640 1 pitted_surface, 19.6ms\n",
      "Speed: 6.2ms preprocess, 19.6ms inference, 4.6ms postprocess per image at shape (1, 3, 640, 640)\n"
     ]
    },
    {
     "name": "stderr",
     "output_type": "stream",
     "text": [
      "Processing:  61%|████████████████████████████████████████▌                         | 1106/1800 [04:32<01:37,  7.15it/s]"
     ]
    },
    {
     "name": "stdout",
     "output_type": "stream",
     "text": [
      "\n",
      "0: 640x640 1 pitted_surface, 18.5ms\n",
      "Speed: 5.5ms preprocess, 18.5ms inference, 4.0ms postprocess per image at shape (1, 3, 640, 640)\n"
     ]
    },
    {
     "name": "stderr",
     "output_type": "stream",
     "text": [
      "Processing:  62%|████████████████████████████████████████▌                         | 1107/1800 [04:33<01:32,  7.45it/s]"
     ]
    },
    {
     "name": "stdout",
     "output_type": "stream",
     "text": [
      "\n",
      "0: 640x640 1 pitted_surface, 20.5ms\n",
      "Speed: 5.8ms preprocess, 20.5ms inference, 4.3ms postprocess per image at shape (1, 3, 640, 640)\n"
     ]
    },
    {
     "name": "stderr",
     "output_type": "stream",
     "text": [
      "Processing:  62%|████████████████████████████████████████▋                         | 1108/1800 [04:33<01:28,  7.81it/s]"
     ]
    },
    {
     "name": "stdout",
     "output_type": "stream",
     "text": [
      "\n",
      "0: 640x640 1 pitted_surface, 21.6ms\n",
      "Speed: 5.8ms preprocess, 21.6ms inference, 4.0ms postprocess per image at shape (1, 3, 640, 640)\n"
     ]
    },
    {
     "name": "stderr",
     "output_type": "stream",
     "text": [
      "Processing:  62%|████████████████████████████████████████▋                         | 1109/1800 [04:33<01:27,  7.93it/s]"
     ]
    },
    {
     "name": "stdout",
     "output_type": "stream",
     "text": [
      "\n",
      "0: 640x640 1 pitted_surface, 17.9ms\n",
      "Speed: 4.8ms preprocess, 17.9ms inference, 3.8ms postprocess per image at shape (1, 3, 640, 640)\n"
     ]
    },
    {
     "name": "stderr",
     "output_type": "stream",
     "text": [
      "Processing:  62%|████████████████████████████████████████▋                         | 1110/1800 [04:33<01:21,  8.44it/s]"
     ]
    },
    {
     "name": "stdout",
     "output_type": "stream",
     "text": [
      "\n",
      "0: 640x640 1 pitted_surface, 19.0ms\n",
      "Speed: 5.1ms preprocess, 19.0ms inference, 3.5ms postprocess per image at shape (1, 3, 640, 640)\n"
     ]
    },
    {
     "name": "stderr",
     "output_type": "stream",
     "text": [
      "Processing:  62%|████████████████████████████████████████▋                         | 1111/1800 [04:33<01:22,  8.30it/s]"
     ]
    },
    {
     "name": "stdout",
     "output_type": "stream",
     "text": [
      "\n",
      "0: 640x640 1 pitted_surface, 22.5ms\n",
      "Speed: 5.6ms preprocess, 22.5ms inference, 4.0ms postprocess per image at shape (1, 3, 640, 640)\n"
     ]
    },
    {
     "name": "stderr",
     "output_type": "stream",
     "text": [
      "Processing:  62%|████████████████████████████████████████▊                         | 1112/1800 [04:33<01:22,  8.33it/s]"
     ]
    },
    {
     "name": "stdout",
     "output_type": "stream",
     "text": [
      "\n",
      "0: 640x640 1 pitted_surface, 25.9ms\n",
      "Speed: 6.0ms preprocess, 25.9ms inference, 4.9ms postprocess per image at shape (1, 3, 640, 640)\n"
     ]
    },
    {
     "name": "stderr",
     "output_type": "stream",
     "text": [
      "Processing:  62%|████████████████████████████████████████▊                         | 1113/1800 [04:33<01:24,  8.14it/s]"
     ]
    },
    {
     "name": "stdout",
     "output_type": "stream",
     "text": [
      "\n",
      "0: 640x640 1 patches, 1 pitted_surface, 18.9ms\n",
      "Speed: 5.5ms preprocess, 18.9ms inference, 3.2ms postprocess per image at shape (1, 3, 640, 640)\n"
     ]
    },
    {
     "name": "stderr",
     "output_type": "stream",
     "text": [
      "Processing:  62%|████████████████████████████████████████▊                         | 1114/1800 [04:33<01:38,  7.00it/s]"
     ]
    },
    {
     "name": "stdout",
     "output_type": "stream",
     "text": [
      "\n",
      "0: 640x640 2 patchess, 1 pitted_surface, 18.0ms\n",
      "Speed: 5.3ms preprocess, 18.0ms inference, 4.7ms postprocess per image at shape (1, 3, 640, 640)\n"
     ]
    },
    {
     "name": "stderr",
     "output_type": "stream",
     "text": [
      "Processing:  62%|████████████████████████████████████████▉                         | 1115/1800 [04:34<02:10,  5.27it/s]"
     ]
    },
    {
     "name": "stdout",
     "output_type": "stream",
     "text": [
      "\n",
      "0: 640x640 1 pitted_surface, 20.6ms\n",
      "Speed: 6.9ms preprocess, 20.6ms inference, 3.5ms postprocess per image at shape (1, 3, 640, 640)\n"
     ]
    },
    {
     "name": "stderr",
     "output_type": "stream",
     "text": [
      "Processing:  62%|████████████████████████████████████████▉                         | 1116/1800 [04:34<01:53,  6.00it/s]"
     ]
    },
    {
     "name": "stdout",
     "output_type": "stream",
     "text": [
      "\n",
      "0: 640x640 1 patches, 1 pitted_surface, 21.1ms\n",
      "Speed: 5.8ms preprocess, 21.1ms inference, 3.9ms postprocess per image at shape (1, 3, 640, 640)\n"
     ]
    },
    {
     "name": "stderr",
     "output_type": "stream",
     "text": [
      "Processing:  62%|████████████████████████████████████████▉                         | 1117/1800 [04:34<01:59,  5.70it/s]"
     ]
    },
    {
     "name": "stdout",
     "output_type": "stream",
     "text": [
      "\n",
      "0: 640x640 2 patchess, 1 pitted_surface, 22.5ms\n",
      "Speed: 6.2ms preprocess, 22.5ms inference, 4.2ms postprocess per image at shape (1, 3, 640, 640)\n"
     ]
    },
    {
     "name": "stderr",
     "output_type": "stream",
     "text": [
      "Processing:  62%|████████████████████████████████████████▉                         | 1118/1800 [04:34<02:18,  4.91it/s]"
     ]
    },
    {
     "name": "stdout",
     "output_type": "stream",
     "text": [
      "\n",
      "0: 640x640 2 pitted_surfaces, 20.3ms\n",
      "Speed: 5.8ms preprocess, 20.3ms inference, 4.2ms postprocess per image at shape (1, 3, 640, 640)\n"
     ]
    },
    {
     "name": "stderr",
     "output_type": "stream",
     "text": [
      "Processing:  62%|█████████████████████████████████████████                         | 1119/1800 [04:35<02:18,  4.92it/s]"
     ]
    },
    {
     "name": "stdout",
     "output_type": "stream",
     "text": [
      "\n",
      "0: 640x640 2 pitted_surfaces, 21.9ms\n",
      "Speed: 5.3ms preprocess, 21.9ms inference, 3.1ms postprocess per image at shape (1, 3, 640, 640)\n"
     ]
    },
    {
     "name": "stderr",
     "output_type": "stream",
     "text": [
      "Processing:  62%|█████████████████████████████████████████                         | 1120/1800 [04:35<02:10,  5.20it/s]"
     ]
    },
    {
     "name": "stdout",
     "output_type": "stream",
     "text": [
      "\n",
      "0: 640x640 2 pitted_surfaces, 16.5ms\n",
      "Speed: 4.9ms preprocess, 16.5ms inference, 3.6ms postprocess per image at shape (1, 3, 640, 640)\n"
     ]
    },
    {
     "name": "stderr",
     "output_type": "stream",
     "text": [
      "Processing:  62%|█████████████████████████████████████████                         | 1121/1800 [04:35<02:08,  5.30it/s]"
     ]
    },
    {
     "name": "stdout",
     "output_type": "stream",
     "text": [
      "\n",
      "0: 640x640 3 pitted_surfaces, 18.9ms\n",
      "Speed: 11.3ms preprocess, 18.9ms inference, 4.1ms postprocess per image at shape (1, 3, 640, 640)\n"
     ]
    },
    {
     "name": "stderr",
     "output_type": "stream",
     "text": [
      "Processing:  62%|█████████████████████████████████████████▏                        | 1122/1800 [04:35<02:15,  5.00it/s]"
     ]
    },
    {
     "name": "stdout",
     "output_type": "stream",
     "text": [
      "\n",
      "0: 640x640 2 pitted_surfaces, 17.2ms\n",
      "Speed: 5.1ms preprocess, 17.2ms inference, 2.9ms postprocess per image at shape (1, 3, 640, 640)\n"
     ]
    },
    {
     "name": "stderr",
     "output_type": "stream",
     "text": [
      "Processing:  62%|█████████████████████████████████████████▏                        | 1123/1800 [04:35<02:08,  5.28it/s]"
     ]
    },
    {
     "name": "stdout",
     "output_type": "stream",
     "text": [
      "\n",
      "0: 640x640 1 pitted_surface, 16.7ms\n",
      "Speed: 4.0ms preprocess, 16.7ms inference, 4.9ms postprocess per image at shape (1, 3, 640, 640)\n",
      "\n",
      "0: 640x640 1 pitted_surface, 18.0ms\n",
      "Speed: 5.1ms preprocess, 18.0ms inference, 4.5ms postprocess per image at shape (1, 3, 640, 640)\n"
     ]
    },
    {
     "name": "stderr",
     "output_type": "stream",
     "text": [
      "Processing:  62%|█████████████████████████████████████████▎                        | 1125/1800 [04:36<01:40,  6.74it/s]"
     ]
    },
    {
     "name": "stdout",
     "output_type": "stream",
     "text": [
      "\n",
      "0: 640x640 1 pitted_surface, 21.4ms\n",
      "Speed: 3.2ms preprocess, 21.4ms inference, 3.5ms postprocess per image at shape (1, 3, 640, 640)\n"
     ]
    },
    {
     "name": "stderr",
     "output_type": "stream",
     "text": [
      "Processing:  63%|█████████████████████████████████████████▎                        | 1126/1800 [04:36<01:32,  7.32it/s]"
     ]
    },
    {
     "name": "stdout",
     "output_type": "stream",
     "text": [
      "\n",
      "0: 640x640 1 pitted_surface, 15.8ms\n",
      "Speed: 7.1ms preprocess, 15.8ms inference, 3.2ms postprocess per image at shape (1, 3, 640, 640)\n",
      "\n",
      "0: 640x640 1 pitted_surface, 16.0ms\n",
      "Speed: 5.2ms preprocess, 16.0ms inference, 4.1ms postprocess per image at shape (1, 3, 640, 640)\n"
     ]
    },
    {
     "name": "stderr",
     "output_type": "stream",
     "text": [
      "Processing:  63%|█████████████████████████████████████████▎                        | 1128/1800 [04:36<01:21,  8.27it/s]"
     ]
    },
    {
     "name": "stdout",
     "output_type": "stream",
     "text": [
      "\n",
      "0: 640x640 2 pitted_surfaces, 17.1ms\n",
      "Speed: 4.6ms preprocess, 17.1ms inference, 2.8ms postprocess per image at shape (1, 3, 640, 640)\n"
     ]
    },
    {
     "name": "stderr",
     "output_type": "stream",
     "text": [
      "Processing:  63%|█████████████████████████████████████████▍                        | 1129/1800 [04:36<01:28,  7.54it/s]"
     ]
    },
    {
     "name": "stdout",
     "output_type": "stream",
     "text": [
      "\n",
      "0: 640x640 1 pitted_surface, 18.3ms\n",
      "Speed: 4.6ms preprocess, 18.3ms inference, 3.3ms postprocess per image at shape (1, 3, 640, 640)\n"
     ]
    },
    {
     "name": "stderr",
     "output_type": "stream",
     "text": [
      "Processing:  63%|█████████████████████████████████████████▍                        | 1130/1800 [04:36<01:23,  7.98it/s]"
     ]
    },
    {
     "name": "stdout",
     "output_type": "stream",
     "text": [
      "\n",
      "0: 640x640 1 pitted_surface, 21.1ms\n",
      "Speed: 4.8ms preprocess, 21.1ms inference, 4.0ms postprocess per image at shape (1, 3, 640, 640)\n"
     ]
    },
    {
     "name": "stderr",
     "output_type": "stream",
     "text": [
      "Processing:  63%|█████████████████████████████████████████▍                        | 1131/1800 [04:36<01:23,  8.01it/s]"
     ]
    },
    {
     "name": "stdout",
     "output_type": "stream",
     "text": [
      "\n",
      "0: 640x640 1 pitted_surface, 16.0ms\n",
      "Speed: 3.9ms preprocess, 16.0ms inference, 3.6ms postprocess per image at shape (1, 3, 640, 640)\n",
      "\n",
      "0: 640x640 1 pitted_surface, 15.5ms\n",
      "Speed: 5.2ms preprocess, 15.5ms inference, 3.6ms postprocess per image at shape (1, 3, 640, 640)\n"
     ]
    },
    {
     "name": "stderr",
     "output_type": "stream",
     "text": [
      "Processing:  63%|█████████████████████████████████████████▌                        | 1133/1800 [04:36<01:16,  8.74it/s]"
     ]
    },
    {
     "name": "stdout",
     "output_type": "stream",
     "text": [
      "\n",
      "0: 640x640 1 pitted_surface, 17.6ms\n",
      "Speed: 6.0ms preprocess, 17.6ms inference, 3.6ms postprocess per image at shape (1, 3, 640, 640)\n"
     ]
    },
    {
     "name": "stderr",
     "output_type": "stream",
     "text": [
      "Processing:  63%|█████████████████████████████████████████▌                        | 1134/1800 [04:37<01:14,  8.96it/s]"
     ]
    },
    {
     "name": "stdout",
     "output_type": "stream",
     "text": [
      "\n",
      "0: 640x640 1 pitted_surface, 16.8ms\n",
      "Speed: 5.1ms preprocess, 16.8ms inference, 3.3ms postprocess per image at shape (1, 3, 640, 640)\n"
     ]
    },
    {
     "name": "stderr",
     "output_type": "stream",
     "text": [
      "Processing:  63%|█████████████████████████████████████████▌                        | 1135/1800 [04:37<01:12,  9.18it/s]"
     ]
    },
    {
     "name": "stdout",
     "output_type": "stream",
     "text": [
      "\n",
      "0: 640x640 1 pitted_surface, 15.4ms\n",
      "Speed: 4.6ms preprocess, 15.4ms inference, 3.1ms postprocess per image at shape (1, 3, 640, 640)\n",
      "\n",
      "0: 640x640 2 pitted_surfaces, 17.7ms\n",
      "Speed: 5.2ms preprocess, 17.7ms inference, 3.5ms postprocess per image at shape (1, 3, 640, 640)\n"
     ]
    },
    {
     "name": "stderr",
     "output_type": "stream",
     "text": [
      "Processing:  63%|█████████████████████████████████████████▋                        | 1137/1800 [04:37<01:17,  8.56it/s]"
     ]
    },
    {
     "name": "stdout",
     "output_type": "stream",
     "text": [
      "\n",
      "0: 640x640 1 pitted_surface, 20.9ms\n",
      "Speed: 4.6ms preprocess, 20.9ms inference, 3.8ms postprocess per image at shape (1, 3, 640, 640)\n"
     ]
    },
    {
     "name": "stderr",
     "output_type": "stream",
     "text": [
      "Processing:  63%|█████████████████████████████████████████▋                        | 1138/1800 [04:37<01:15,  8.79it/s]"
     ]
    },
    {
     "name": "stdout",
     "output_type": "stream",
     "text": [
      "\n",
      "0: 640x640 1 pitted_surface, 17.4ms\n",
      "Speed: 4.9ms preprocess, 17.4ms inference, 3.7ms postprocess per image at shape (1, 3, 640, 640)\n",
      "\n",
      "0: 640x640 1 pitted_surface, 16.6ms\n",
      "Speed: 4.5ms preprocess, 16.6ms inference, 3.4ms postprocess per image at shape (1, 3, 640, 640)\n"
     ]
    },
    {
     "name": "stderr",
     "output_type": "stream",
     "text": [
      "Processing:  63%|█████████████████████████████████████████▊                        | 1140/1800 [04:37<01:10,  9.35it/s]"
     ]
    },
    {
     "name": "stdout",
     "output_type": "stream",
     "text": [
      "\n",
      "0: 640x640 1 pitted_surface, 13.6ms\n",
      "Speed: 3.5ms preprocess, 13.6ms inference, 3.6ms postprocess per image at shape (1, 3, 640, 640)\n"
     ]
    },
    {
     "name": "stderr",
     "output_type": "stream",
     "text": [
      "Processing:  63%|█████████████████████████████████████████▊                        | 1141/1800 [04:37<01:09,  9.47it/s]"
     ]
    },
    {
     "name": "stdout",
     "output_type": "stream",
     "text": [
      "\n",
      "0: 640x640 2 pitted_surfaces, 15.9ms\n",
      "Speed: 5.5ms preprocess, 15.9ms inference, 3.4ms postprocess per image at shape (1, 3, 640, 640)\n"
     ]
    },
    {
     "name": "stderr",
     "output_type": "stream",
     "text": [
      "Processing:  63%|█████████████████████████████████████████▊                        | 1142/1800 [04:37<01:20,  8.14it/s]"
     ]
    },
    {
     "name": "stdout",
     "output_type": "stream",
     "text": [
      "\n",
      "0: 640x640 2 pitted_surfaces, 16.1ms\n",
      "Speed: 6.6ms preprocess, 16.1ms inference, 2.9ms postprocess per image at shape (1, 3, 640, 640)\n"
     ]
    },
    {
     "name": "stderr",
     "output_type": "stream",
     "text": [
      "Processing:  64%|█████████████████████████████████████████▉                        | 1143/1800 [04:38<01:27,  7.47it/s]"
     ]
    },
    {
     "name": "stdout",
     "output_type": "stream",
     "text": [
      "\n",
      "0: 640x640 1 pitted_surface, 16.8ms\n",
      "Speed: 6.9ms preprocess, 16.8ms inference, 3.0ms postprocess per image at shape (1, 3, 640, 640)\n",
      "\n",
      "0: 640x640 1 pitted_surface, 17.8ms\n",
      "Speed: 6.6ms preprocess, 17.8ms inference, 5.7ms postprocess per image at shape (1, 3, 640, 640)\n"
     ]
    },
    {
     "name": "stderr",
     "output_type": "stream",
     "text": [
      "Processing:  64%|█████████████████████████████████████████▉                        | 1145/1800 [04:38<01:18,  8.33it/s]"
     ]
    },
    {
     "name": "stdout",
     "output_type": "stream",
     "text": [
      "\n",
      "0: 640x640 1 pitted_surface, 24.4ms\n",
      "Speed: 5.2ms preprocess, 24.4ms inference, 2.9ms postprocess per image at shape (1, 3, 640, 640)\n"
     ]
    },
    {
     "name": "stderr",
     "output_type": "stream",
     "text": [
      "Processing:  64%|██████████████████████████████████████████                        | 1146/1800 [04:38<01:16,  8.57it/s]"
     ]
    },
    {
     "name": "stdout",
     "output_type": "stream",
     "text": [
      "\n",
      "0: 640x640 2 pitted_surfaces, 8.7ms\n",
      "Speed: 3.0ms preprocess, 8.7ms inference, 3.3ms postprocess per image at shape (1, 3, 640, 640)\n"
     ]
    },
    {
     "name": "stderr",
     "output_type": "stream",
     "text": [
      "Processing:  64%|██████████████████████████████████████████                        | 1147/1800 [04:38<01:21,  8.06it/s]"
     ]
    },
    {
     "name": "stdout",
     "output_type": "stream",
     "text": [
      "\n",
      "0: 640x640 1 pitted_surface, 16.8ms\n",
      "Speed: 5.2ms preprocess, 16.8ms inference, 3.0ms postprocess per image at shape (1, 3, 640, 640)\n",
      "\n",
      "0: 640x640 1 pitted_surface, 16.6ms\n",
      "Speed: 4.7ms preprocess, 16.6ms inference, 3.1ms postprocess per image at shape (1, 3, 640, 640)\n"
     ]
    },
    {
     "name": "stderr",
     "output_type": "stream",
     "text": [
      "Processing:  64%|██████████████████████████████████████████▏                       | 1149/1800 [04:38<01:13,  8.88it/s]"
     ]
    },
    {
     "name": "stdout",
     "output_type": "stream",
     "text": [
      "\n",
      "0: 640x640 1 pitted_surface, 19.0ms\n",
      "Speed: 4.6ms preprocess, 19.0ms inference, 3.2ms postprocess per image at shape (1, 3, 640, 640)\n",
      "\n",
      "0: 640x640 1 pitted_surface, 17.8ms\n",
      "Speed: 4.7ms preprocess, 17.8ms inference, 4.3ms postprocess per image at shape (1, 3, 640, 640)\n"
     ]
    },
    {
     "name": "stderr",
     "output_type": "stream",
     "text": [
      "Processing:  64%|██████████████████████████████████████████▏                       | 1151/1800 [04:38<01:09,  9.34it/s]"
     ]
    },
    {
     "name": "stdout",
     "output_type": "stream",
     "text": [
      "\n",
      "0: 640x640 2 pitted_surfaces, 18.6ms\n",
      "Speed: 5.1ms preprocess, 18.6ms inference, 3.6ms postprocess per image at shape (1, 3, 640, 640)\n"
     ]
    },
    {
     "name": "stderr",
     "output_type": "stream",
     "text": [
      "Processing:  64%|██████████████████████████████████████████▏                       | 1152/1800 [04:39<01:18,  8.30it/s]"
     ]
    },
    {
     "name": "stdout",
     "output_type": "stream",
     "text": [
      "\n",
      "0: 640x640 1 pitted_surface, 17.7ms\n",
      "Speed: 5.8ms preprocess, 17.7ms inference, 3.9ms postprocess per image at shape (1, 3, 640, 640)\n",
      "\n",
      "0: 640x640 1 pitted_surface, 17.1ms\n",
      "Speed: 4.0ms preprocess, 17.1ms inference, 3.2ms postprocess per image at shape (1, 3, 640, 640)\n"
     ]
    },
    {
     "name": "stderr",
     "output_type": "stream",
     "text": [
      "Processing:  64%|██████████████████████████████████████████▎                       | 1154/1800 [04:39<01:11,  8.98it/s]"
     ]
    },
    {
     "name": "stdout",
     "output_type": "stream",
     "text": [
      "\n",
      "0: 640x640 2 pitted_surfaces, 18.7ms\n",
      "Speed: 5.9ms preprocess, 18.7ms inference, 3.2ms postprocess per image at shape (1, 3, 640, 640)\n"
     ]
    },
    {
     "name": "stderr",
     "output_type": "stream",
     "text": [
      "Processing:  64%|██████████████████████████████████████████▎                       | 1155/1800 [04:39<01:19,  8.14it/s]"
     ]
    },
    {
     "name": "stdout",
     "output_type": "stream",
     "text": [
      "\n",
      "0: 640x640 2 pitted_surfaces, 17.4ms\n",
      "Speed: 4.2ms preprocess, 17.4ms inference, 2.7ms postprocess per image at shape (1, 3, 640, 640)\n"
     ]
    },
    {
     "name": "stderr",
     "output_type": "stream",
     "text": [
      "Processing:  64%|██████████████████████████████████████████▍                       | 1156/1800 [04:39<01:25,  7.55it/s]"
     ]
    },
    {
     "name": "stdout",
     "output_type": "stream",
     "text": [
      "\n",
      "0: 640x640 1 pitted_surface, 17.4ms\n",
      "Speed: 4.8ms preprocess, 17.4ms inference, 2.9ms postprocess per image at shape (1, 3, 640, 640)\n",
      "\n",
      "0: 640x640 1 pitted_surface, 22.7ms\n",
      "Speed: 4.8ms preprocess, 22.7ms inference, 3.6ms postprocess per image at shape (1, 3, 640, 640)\n"
     ]
    },
    {
     "name": "stderr",
     "output_type": "stream",
     "text": [
      "Processing:  64%|██████████████████████████████████████████▍                       | 1158/1800 [04:39<01:14,  8.57it/s]"
     ]
    },
    {
     "name": "stdout",
     "output_type": "stream",
     "text": [
      "\n",
      "0: 640x640 1 pitted_surface, 18.7ms\n",
      "Speed: 4.6ms preprocess, 18.7ms inference, 4.9ms postprocess per image at shape (1, 3, 640, 640)\n",
      "\n",
      "0: 640x640 1 pitted_surface, 22.2ms\n",
      "Speed: 5.0ms preprocess, 22.2ms inference, 3.8ms postprocess per image at shape (1, 3, 640, 640)\n"
     ]
    },
    {
     "name": "stderr",
     "output_type": "stream",
     "text": [
      "Processing:  64%|██████████████████████████████████████████▌                       | 1160/1800 [04:40<01:09,  9.16it/s]"
     ]
    },
    {
     "name": "stdout",
     "output_type": "stream",
     "text": [
      "\n",
      "0: 640x640 1 pitted_surface, 15.5ms\n",
      "Speed: 4.9ms preprocess, 15.5ms inference, 3.7ms postprocess per image at shape (1, 3, 640, 640)\n",
      "\n",
      "0: 640x640 1 pitted_surface, 19.1ms\n",
      "Speed: 4.9ms preprocess, 19.1ms inference, 4.4ms postprocess per image at shape (1, 3, 640, 640)\n"
     ]
    },
    {
     "name": "stderr",
     "output_type": "stream",
     "text": [
      "Processing:  65%|██████████████████████████████████████████▌                       | 1162/1800 [04:40<01:07,  9.49it/s]"
     ]
    },
    {
     "name": "stdout",
     "output_type": "stream",
     "text": [
      "\n",
      "0: 640x640 1 pitted_surface, 16.0ms\n",
      "Speed: 5.7ms preprocess, 16.0ms inference, 3.3ms postprocess per image at shape (1, 3, 640, 640)\n",
      "\n",
      "0: 640x640 1 pitted_surface, 16.0ms\n",
      "Speed: 4.8ms preprocess, 16.0ms inference, 3.0ms postprocess per image at shape (1, 3, 640, 640)\n"
     ]
    },
    {
     "name": "stderr",
     "output_type": "stream",
     "text": [
      "Processing:  65%|██████████████████████████████████████████▋                       | 1164/1800 [04:40<01:02, 10.16it/s]"
     ]
    },
    {
     "name": "stdout",
     "output_type": "stream",
     "text": [
      "\n",
      "0: 640x640 2 pitted_surfaces, 18.5ms\n",
      "Speed: 4.9ms preprocess, 18.5ms inference, 3.7ms postprocess per image at shape (1, 3, 640, 640)\n",
      "\n",
      "0: 640x640 1 pitted_surface, 17.6ms\n",
      "Speed: 5.2ms preprocess, 17.6ms inference, 3.5ms postprocess per image at shape (1, 3, 640, 640)\n"
     ]
    },
    {
     "name": "stderr",
     "output_type": "stream",
     "text": [
      "Processing:  65%|██████████████████████████████████████████▊                       | 1166/1800 [04:40<01:11,  8.87it/s]"
     ]
    },
    {
     "name": "stdout",
     "output_type": "stream",
     "text": [
      "\n",
      "0: 640x640 2 pitted_surfaces, 15.7ms\n",
      "Speed: 5.2ms preprocess, 15.7ms inference, 3.4ms postprocess per image at shape (1, 3, 640, 640)\n"
     ]
    },
    {
     "name": "stderr",
     "output_type": "stream",
     "text": [
      "Processing:  65%|██████████████████████████████████████████▊                       | 1167/1800 [04:40<01:19,  8.00it/s]"
     ]
    },
    {
     "name": "stdout",
     "output_type": "stream",
     "text": [
      "\n",
      "0: 640x640 2 pitted_surfaces, 18.9ms\n",
      "Speed: 4.3ms preprocess, 18.9ms inference, 3.1ms postprocess per image at shape (1, 3, 640, 640)\n"
     ]
    },
    {
     "name": "stderr",
     "output_type": "stream",
     "text": [
      "Processing:  65%|██████████████████████████████████████████▊                       | 1168/1800 [04:41<01:25,  7.42it/s]"
     ]
    },
    {
     "name": "stdout",
     "output_type": "stream",
     "text": [
      "\n",
      "0: 640x640 1 pitted_surface, 19.5ms\n",
      "Speed: 5.4ms preprocess, 19.5ms inference, 3.4ms postprocess per image at shape (1, 3, 640, 640)\n"
     ]
    },
    {
     "name": "stderr",
     "output_type": "stream",
     "text": [
      "Processing:  65%|██████████████████████████████████████████▊                       | 1169/1800 [04:41<01:22,  7.68it/s]"
     ]
    },
    {
     "name": "stdout",
     "output_type": "stream",
     "text": [
      "\n",
      "0: 640x640 1 pitted_surface, 15.3ms\n",
      "Speed: 5.4ms preprocess, 15.3ms inference, 3.7ms postprocess per image at shape (1, 3, 640, 640)\n"
     ]
    },
    {
     "name": "stderr",
     "output_type": "stream",
     "text": [
      "Processing:  65%|██████████████████████████████████████████▉                       | 1170/1800 [04:41<01:18,  8.03it/s]"
     ]
    },
    {
     "name": "stdout",
     "output_type": "stream",
     "text": [
      "\n",
      "0: 640x640 1 pitted_surface, 20.3ms\n",
      "Speed: 5.0ms preprocess, 20.3ms inference, 3.9ms postprocess per image at shape (1, 3, 640, 640)\n"
     ]
    },
    {
     "name": "stderr",
     "output_type": "stream",
     "text": [
      "Processing:  65%|██████████████████████████████████████████▉                       | 1171/1800 [04:41<01:15,  8.33it/s]"
     ]
    },
    {
     "name": "stdout",
     "output_type": "stream",
     "text": [
      "\n",
      "0: 640x640 1 pitted_surface, 19.0ms\n",
      "Speed: 4.2ms preprocess, 19.0ms inference, 3.8ms postprocess per image at shape (1, 3, 640, 640)\n"
     ]
    },
    {
     "name": "stderr",
     "output_type": "stream",
     "text": [
      "Processing:  65%|██████████████████████████████████████████▉                       | 1172/1800 [04:41<01:13,  8.56it/s]"
     ]
    },
    {
     "name": "stdout",
     "output_type": "stream",
     "text": [
      "\n",
      "0: 640x640 1 pitted_surface, 18.3ms\n",
      "Speed: 5.4ms preprocess, 18.3ms inference, 3.7ms postprocess per image at shape (1, 3, 640, 640)\n"
     ]
    },
    {
     "name": "stderr",
     "output_type": "stream",
     "text": [
      "Processing:  65%|███████████████████████████████████████████                       | 1173/1800 [04:41<01:12,  8.69it/s]"
     ]
    },
    {
     "name": "stdout",
     "output_type": "stream",
     "text": [
      "\n",
      "0: 640x640 2 pitted_surfaces, 17.8ms\n",
      "Speed: 5.4ms preprocess, 17.8ms inference, 2.9ms postprocess per image at shape (1, 3, 640, 640)\n"
     ]
    },
    {
     "name": "stderr",
     "output_type": "stream",
     "text": [
      "Processing:  65%|███████████████████████████████████████████                       | 1174/1800 [04:41<01:22,  7.58it/s]"
     ]
    },
    {
     "name": "stdout",
     "output_type": "stream",
     "text": [
      "\n",
      "0: 640x640 1 pitted_surface, 16.5ms\n",
      "Speed: 4.4ms preprocess, 16.5ms inference, 4.7ms postprocess per image at shape (1, 3, 640, 640)\n"
     ]
    },
    {
     "name": "stderr",
     "output_type": "stream",
     "text": [
      "Processing:  65%|███████████████████████████████████████████                       | 1175/1800 [04:41<01:18,  8.00it/s]"
     ]
    },
    {
     "name": "stdout",
     "output_type": "stream",
     "text": [
      "\n",
      "0: 640x640 2 pitted_surfaces, 18.7ms\n",
      "Speed: 5.8ms preprocess, 18.7ms inference, 4.0ms postprocess per image at shape (1, 3, 640, 640)\n"
     ]
    },
    {
     "name": "stderr",
     "output_type": "stream",
     "text": [
      "Processing:  65%|███████████████████████████████████████████                       | 1176/1800 [04:42<01:24,  7.36it/s]"
     ]
    },
    {
     "name": "stdout",
     "output_type": "stream",
     "text": [
      "\n",
      "0: 640x640 2 pitted_surfaces, 18.6ms\n",
      "Speed: 5.3ms preprocess, 18.6ms inference, 4.7ms postprocess per image at shape (1, 3, 640, 640)\n"
     ]
    },
    {
     "name": "stderr",
     "output_type": "stream",
     "text": [
      "Processing:  65%|███████████████████████████████████████████▏                      | 1177/1800 [04:42<01:33,  6.68it/s]"
     ]
    },
    {
     "name": "stdout",
     "output_type": "stream",
     "text": [
      "\n",
      "0: 640x640 1 pitted_surface, 17.6ms\n",
      "Speed: 4.0ms preprocess, 17.6ms inference, 2.9ms postprocess per image at shape (1, 3, 640, 640)\n",
      "\n",
      "0: 640x640 1 pitted_surface, 17.9ms\n",
      "Speed: 5.8ms preprocess, 17.9ms inference, 3.4ms postprocess per image at shape (1, 3, 640, 640)\n"
     ]
    },
    {
     "name": "stderr",
     "output_type": "stream",
     "text": [
      "Processing:  66%|███████████████████████████████████████████▏                      | 1179/1800 [04:42<01:18,  7.87it/s]"
     ]
    },
    {
     "name": "stdout",
     "output_type": "stream",
     "text": [
      "\n",
      "0: 640x640 2 pitted_surfaces, 12.0ms\n",
      "Speed: 3.5ms preprocess, 12.0ms inference, 3.2ms postprocess per image at shape (1, 3, 640, 640)\n"
     ]
    },
    {
     "name": "stderr",
     "output_type": "stream",
     "text": [
      "Processing:  66%|███████████████████████████████████████████▎                      | 1180/1800 [04:42<01:26,  7.20it/s]"
     ]
    },
    {
     "name": "stdout",
     "output_type": "stream",
     "text": [
      "\n",
      "0: 640x640 1 pitted_surface, 26.8ms\n",
      "Speed: 5.3ms preprocess, 26.8ms inference, 5.0ms postprocess per image at shape (1, 3, 640, 640)\n"
     ]
    },
    {
     "name": "stderr",
     "output_type": "stream",
     "text": [
      "Processing:  66%|███████████████████████████████████████████▎                      | 1181/1800 [04:42<01:23,  7.44it/s]"
     ]
    },
    {
     "name": "stdout",
     "output_type": "stream",
     "text": [
      "\n",
      "0: 640x640 2 pitted_surfaces, 15.4ms\n",
      "Speed: 5.7ms preprocess, 15.4ms inference, 3.0ms postprocess per image at shape (1, 3, 640, 640)\n"
     ]
    },
    {
     "name": "stderr",
     "output_type": "stream",
     "text": [
      "Processing:  66%|███████████████████████████████████████████▎                      | 1182/1800 [04:42<01:28,  6.96it/s]"
     ]
    },
    {
     "name": "stdout",
     "output_type": "stream",
     "text": [
      "\n",
      "0: 640x640 2 pitted_surfaces, 19.9ms\n",
      "Speed: 4.9ms preprocess, 19.9ms inference, 3.6ms postprocess per image at shape (1, 3, 640, 640)\n"
     ]
    },
    {
     "name": "stderr",
     "output_type": "stream",
     "text": [
      "Processing:  66%|███████████████████████████████████████████▍                      | 1183/1800 [04:43<01:33,  6.63it/s]"
     ]
    },
    {
     "name": "stdout",
     "output_type": "stream",
     "text": [
      "\n",
      "0: 640x640 1 pitted_surface, 16.9ms\n",
      "Speed: 4.4ms preprocess, 16.9ms inference, 6.3ms postprocess per image at shape (1, 3, 640, 640)\n"
     ]
    },
    {
     "name": "stderr",
     "output_type": "stream",
     "text": [
      "Processing:  66%|███████████████████████████████████████████▍                      | 1184/1800 [04:43<01:24,  7.29it/s]"
     ]
    },
    {
     "name": "stdout",
     "output_type": "stream",
     "text": [
      "\n",
      "0: 640x640 1 pitted_surface, 18.8ms\n",
      "Speed: 4.3ms preprocess, 18.8ms inference, 3.6ms postprocess per image at shape (1, 3, 640, 640)\n"
     ]
    },
    {
     "name": "stderr",
     "output_type": "stream",
     "text": [
      "Processing:  66%|███████████████████████████████████████████▍                      | 1185/1800 [04:43<01:19,  7.72it/s]"
     ]
    },
    {
     "name": "stdout",
     "output_type": "stream",
     "text": [
      "\n",
      "0: 640x640 1 pitted_surface, 18.3ms\n",
      "Speed: 5.4ms preprocess, 18.3ms inference, 3.8ms postprocess per image at shape (1, 3, 640, 640)\n"
     ]
    },
    {
     "name": "stderr",
     "output_type": "stream",
     "text": [
      "Processing:  66%|███████████████████████████████████████████▍                      | 1186/1800 [04:43<01:16,  8.02it/s]"
     ]
    },
    {
     "name": "stdout",
     "output_type": "stream",
     "text": [
      "\n",
      "0: 640x640 2 pitted_surfaces, 22.5ms\n",
      "Speed: 5.8ms preprocess, 22.5ms inference, 2.2ms postprocess per image at shape (1, 3, 640, 640)\n"
     ]
    },
    {
     "name": "stderr",
     "output_type": "stream",
     "text": [
      "Processing:  66%|███████████████████████████████████████████▌                      | 1187/1800 [04:43<01:26,  7.11it/s]"
     ]
    },
    {
     "name": "stdout",
     "output_type": "stream",
     "text": [
      "\n",
      "0: 640x640 1 pitted_surface, 17.0ms\n",
      "Speed: 5.1ms preprocess, 17.0ms inference, 2.8ms postprocess per image at shape (1, 3, 640, 640)\n",
      "\n",
      "0: 640x640 1 pitted_surface, 18.4ms\n",
      "Speed: 4.5ms preprocess, 18.4ms inference, 2.9ms postprocess per image at shape (1, 3, 640, 640)\n"
     ]
    },
    {
     "name": "stderr",
     "output_type": "stream",
     "text": [
      "Processing:  66%|███████████████████████████████████████████▌                      | 1189/1800 [04:43<01:15,  8.12it/s]"
     ]
    },
    {
     "name": "stdout",
     "output_type": "stream",
     "text": [
      "\n",
      "0: 640x640 1 pitted_surface, 17.2ms\n",
      "Speed: 5.3ms preprocess, 17.2ms inference, 3.2ms postprocess per image at shape (1, 3, 640, 640)\n"
     ]
    },
    {
     "name": "stderr",
     "output_type": "stream",
     "text": [
      "Processing:  66%|███████████████████████████████████████████▋                      | 1190/1800 [04:43<01:12,  8.46it/s]"
     ]
    },
    {
     "name": "stdout",
     "output_type": "stream",
     "text": [
      "\n",
      "0: 640x640 2 pitted_surfaces, 19.0ms\n",
      "Speed: 4.5ms preprocess, 19.0ms inference, 4.3ms postprocess per image at shape (1, 3, 640, 640)\n"
     ]
    },
    {
     "name": "stderr",
     "output_type": "stream",
     "text": [
      "Processing:  66%|███████████████████████████████████████████▋                      | 1191/1800 [04:44<01:21,  7.47it/s]"
     ]
    },
    {
     "name": "stdout",
     "output_type": "stream",
     "text": [
      "\n",
      "0: 640x640 1 pitted_surface, 16.1ms\n",
      "Speed: 5.1ms preprocess, 16.1ms inference, 3.6ms postprocess per image at shape (1, 3, 640, 640)\n"
     ]
    },
    {
     "name": "stderr",
     "output_type": "stream",
     "text": [
      "Processing:  66%|███████████████████████████████████████████▋                      | 1192/1800 [04:44<01:16,  7.97it/s]"
     ]
    },
    {
     "name": "stdout",
     "output_type": "stream",
     "text": [
      "\n",
      "0: 640x640 2 pitted_surfaces, 21.9ms\n",
      "Speed: 5.5ms preprocess, 21.9ms inference, 4.3ms postprocess per image at shape (1, 3, 640, 640)\n"
     ]
    },
    {
     "name": "stderr",
     "output_type": "stream",
     "text": [
      "Processing:  66%|███████████████████████████████████████████▋                      | 1193/1800 [04:44<01:27,  6.93it/s]"
     ]
    },
    {
     "name": "stdout",
     "output_type": "stream",
     "text": [
      "\n",
      "0: 640x640 2 pitted_surfaces, 17.6ms\n",
      "Speed: 5.3ms preprocess, 17.6ms inference, 5.0ms postprocess per image at shape (1, 3, 640, 640)\n"
     ]
    },
    {
     "name": "stderr",
     "output_type": "stream",
     "text": [
      "Processing:  66%|███████████████████████████████████████████▊                      | 1194/1800 [04:44<01:31,  6.63it/s]"
     ]
    },
    {
     "name": "stdout",
     "output_type": "stream",
     "text": [
      "\n",
      "0: 640x640 2 pitted_surfaces, 18.2ms\n",
      "Speed: 5.7ms preprocess, 18.2ms inference, 3.4ms postprocess per image at shape (1, 3, 640, 640)\n"
     ]
    },
    {
     "name": "stderr",
     "output_type": "stream",
     "text": [
      "Processing:  66%|███████████████████████████████████████████▊                      | 1195/1800 [04:44<01:34,  6.41it/s]"
     ]
    },
    {
     "name": "stdout",
     "output_type": "stream",
     "text": [
      "\n",
      "0: 640x640 1 pitted_surface, 21.5ms\n",
      "Speed: 4.6ms preprocess, 21.5ms inference, 4.1ms postprocess per image at shape (1, 3, 640, 640)\n"
     ]
    },
    {
     "name": "stderr",
     "output_type": "stream",
     "text": [
      "Processing:  66%|███████████████████████████████████████████▊                      | 1196/1800 [04:44<01:24,  7.12it/s]"
     ]
    },
    {
     "name": "stdout",
     "output_type": "stream",
     "text": [
      "\n",
      "0: 640x640 1 pitted_surface, 18.2ms\n",
      "Speed: 5.3ms preprocess, 18.2ms inference, 5.2ms postprocess per image at shape (1, 3, 640, 640)\n"
     ]
    },
    {
     "name": "stderr",
     "output_type": "stream",
     "text": [
      "Processing:  66%|███████████████████████████████████████████▉                      | 1197/1800 [04:44<01:19,  7.60it/s]"
     ]
    },
    {
     "name": "stdout",
     "output_type": "stream",
     "text": [
      "\n",
      "0: 640x640 1 pitted_surface, 21.1ms\n",
      "Speed: 4.7ms preprocess, 21.1ms inference, 3.3ms postprocess per image at shape (1, 3, 640, 640)\n"
     ]
    },
    {
     "name": "stderr",
     "output_type": "stream",
     "text": [
      "Processing:  67%|███████████████████████████████████████████▉                      | 1198/1800 [04:44<01:14,  8.08it/s]"
     ]
    },
    {
     "name": "stdout",
     "output_type": "stream",
     "text": [
      "\n",
      "0: 640x640 1 pitted_surface, 32.0ms\n",
      "Speed: 5.8ms preprocess, 32.0ms inference, 3.8ms postprocess per image at shape (1, 3, 640, 640)\n"
     ]
    },
    {
     "name": "stderr",
     "output_type": "stream",
     "text": [
      "Processing:  67%|███████████████████████████████████████████▉                      | 1199/1800 [04:45<01:13,  8.14it/s]"
     ]
    },
    {
     "name": "stdout",
     "output_type": "stream",
     "text": [
      "\n",
      "0: 640x640 1 pitted_surface, 18.6ms\n",
      "Speed: 4.9ms preprocess, 18.6ms inference, 4.2ms postprocess per image at shape (1, 3, 640, 640)\n"
     ]
    },
    {
     "name": "stderr",
     "output_type": "stream",
     "text": [
      "Processing:  67%|████████████████████████████████████████████                      | 1200/1800 [04:45<01:10,  8.49it/s]"
     ]
    },
    {
     "name": "stdout",
     "output_type": "stream",
     "text": [
      "\n",
      "0: 640x640 1 rolled_in_scale, 18.8ms\n",
      "Speed: 5.2ms preprocess, 18.8ms inference, 4.3ms postprocess per image at shape (1, 3, 640, 640)\n"
     ]
    },
    {
     "name": "stderr",
     "output_type": "stream",
     "text": [
      "Processing:  67%|████████████████████████████████████████████                      | 1201/1800 [04:45<01:08,  8.75it/s]"
     ]
    },
    {
     "name": "stdout",
     "output_type": "stream",
     "text": [
      "\n",
      "0: 640x640 2 rolled_in_scales, 22.2ms\n",
      "Speed: 10.3ms preprocess, 22.2ms inference, 3.9ms postprocess per image at shape (1, 3, 640, 640)\n"
     ]
    },
    {
     "name": "stderr",
     "output_type": "stream",
     "text": [
      "Processing:  67%|████████████████████████████████████████████                      | 1202/1800 [04:45<01:22,  7.25it/s]"
     ]
    },
    {
     "name": "stdout",
     "output_type": "stream",
     "text": [
      "\n",
      "0: 640x640 3 rolled_in_scales, 26.1ms\n",
      "Speed: 4.5ms preprocess, 26.1ms inference, 2.7ms postprocess per image at shape (1, 3, 640, 640)\n"
     ]
    },
    {
     "name": "stderr",
     "output_type": "stream",
     "text": [
      "Processing:  67%|████████████████████████████████████████████                      | 1203/1800 [04:45<01:44,  5.71it/s]"
     ]
    },
    {
     "name": "stdout",
     "output_type": "stream",
     "text": [
      "\n",
      "0: 640x640 2 rolled_in_scales, 17.9ms\n",
      "Speed: 5.1ms preprocess, 17.9ms inference, 4.6ms postprocess per image at shape (1, 3, 640, 640)\n"
     ]
    },
    {
     "name": "stderr",
     "output_type": "stream",
     "text": [
      "Processing:  67%|████████████████████████████████████████████▏                     | 1204/1800 [04:45<01:45,  5.65it/s]"
     ]
    },
    {
     "name": "stdout",
     "output_type": "stream",
     "text": [
      "\n",
      "0: 640x640 3 rolled_in_scales, 19.9ms\n",
      "Speed: 5.0ms preprocess, 19.9ms inference, 2.8ms postprocess per image at shape (1, 3, 640, 640)\n"
     ]
    },
    {
     "name": "stderr",
     "output_type": "stream",
     "text": [
      "Processing:  67%|████████████████████████████████████████████▏                     | 1205/1800 [04:46<01:57,  5.05it/s]"
     ]
    },
    {
     "name": "stdout",
     "output_type": "stream",
     "text": [
      "\n",
      "0: 640x640 2 rolled_in_scales, 19.2ms\n",
      "Speed: 4.5ms preprocess, 19.2ms inference, 4.0ms postprocess per image at shape (1, 3, 640, 640)\n"
     ]
    },
    {
     "name": "stderr",
     "output_type": "stream",
     "text": [
      "Processing:  67%|████████████████████████████████████████████▏                     | 1206/1800 [04:46<01:54,  5.21it/s]"
     ]
    },
    {
     "name": "stdout",
     "output_type": "stream",
     "text": [
      "\n",
      "0: 640x640 1 rolled_in_scale, 17.7ms\n",
      "Speed: 4.6ms preprocess, 17.7ms inference, 3.5ms postprocess per image at shape (1, 3, 640, 640)\n"
     ]
    },
    {
     "name": "stderr",
     "output_type": "stream",
     "text": [
      "Processing:  67%|████████████████████████████████████████████▎                     | 1207/1800 [04:46<01:37,  6.08it/s]"
     ]
    },
    {
     "name": "stdout",
     "output_type": "stream",
     "text": [
      "\n",
      "0: 640x640 1 rolled_in_scale, 17.6ms\n",
      "Speed: 4.9ms preprocess, 17.6ms inference, 3.8ms postprocess per image at shape (1, 3, 640, 640)\n",
      "\n",
      "0: 640x640 2 rolled_in_scales, 17.1ms\n",
      "Speed: 4.6ms preprocess, 17.1ms inference, 3.8ms postprocess per image at shape (1, 3, 640, 640)\n"
     ]
    },
    {
     "name": "stderr",
     "output_type": "stream",
     "text": [
      "Processing:  67%|████████████████████████████████████████████▎                     | 1209/1800 [04:46<01:30,  6.55it/s]"
     ]
    },
    {
     "name": "stdout",
     "output_type": "stream",
     "text": [
      "\n",
      "0: 640x640 3 rolled_in_scales, 20.6ms\n",
      "Speed: 5.2ms preprocess, 20.6ms inference, 4.9ms postprocess per image at shape (1, 3, 640, 640)\n"
     ]
    },
    {
     "name": "stderr",
     "output_type": "stream",
     "text": [
      "Processing:  67%|████████████████████████████████████████████▎                     | 1210/1800 [04:46<01:42,  5.77it/s]"
     ]
    },
    {
     "name": "stdout",
     "output_type": "stream",
     "text": [
      "\n",
      "0: 640x640 3 rolled_in_scales, 17.5ms\n",
      "Speed: 5.3ms preprocess, 17.5ms inference, 3.8ms postprocess per image at shape (1, 3, 640, 640)\n"
     ]
    },
    {
     "name": "stderr",
     "output_type": "stream",
     "text": [
      "Processing:  67%|████████████████████████████████████████████▍                     | 1211/1800 [04:47<01:52,  5.23it/s]"
     ]
    },
    {
     "name": "stdout",
     "output_type": "stream",
     "text": [
      "\n",
      "0: 640x640 3 rolled_in_scales, 22.8ms\n",
      "Speed: 4.8ms preprocess, 22.8ms inference, 3.7ms postprocess per image at shape (1, 3, 640, 640)\n"
     ]
    },
    {
     "name": "stderr",
     "output_type": "stream",
     "text": [
      "Processing:  67%|████████████████████████████████████████████▍                     | 1212/1800 [04:47<02:01,  4.84it/s]"
     ]
    },
    {
     "name": "stdout",
     "output_type": "stream",
     "text": [
      "\n",
      "0: 640x640 2 rolled_in_scales, 21.3ms\n",
      "Speed: 5.0ms preprocess, 21.3ms inference, 3.4ms postprocess per image at shape (1, 3, 640, 640)\n"
     ]
    },
    {
     "name": "stderr",
     "output_type": "stream",
     "text": [
      "Processing:  67%|████████████████████████████████████████████▍                     | 1213/1800 [04:47<01:55,  5.07it/s]"
     ]
    },
    {
     "name": "stdout",
     "output_type": "stream",
     "text": [
      "\n",
      "0: 640x640 2 rolled_in_scales, 18.0ms\n",
      "Speed: 5.7ms preprocess, 18.0ms inference, 3.0ms postprocess per image at shape (1, 3, 640, 640)\n"
     ]
    },
    {
     "name": "stderr",
     "output_type": "stream",
     "text": [
      "Processing:  67%|████████████████████████████████████████████▌                     | 1214/1800 [04:47<01:53,  5.17it/s]"
     ]
    },
    {
     "name": "stdout",
     "output_type": "stream",
     "text": [
      "\n",
      "0: 640x640 1 rolled_in_scale, 16.0ms\n",
      "Speed: 4.8ms preprocess, 16.0ms inference, 3.3ms postprocess per image at shape (1, 3, 640, 640)\n"
     ]
    },
    {
     "name": "stderr",
     "output_type": "stream",
     "text": [
      "Processing:  68%|████████████████████████████████████████████▌                     | 1215/1800 [04:47<01:40,  5.79it/s]"
     ]
    },
    {
     "name": "stdout",
     "output_type": "stream",
     "text": [
      "\n",
      "0: 640x640 1 rolled_in_scale, 18.5ms\n",
      "Speed: 5.0ms preprocess, 18.5ms inference, 3.2ms postprocess per image at shape (1, 3, 640, 640)\n",
      "\n",
      "0: 640x640 1 patches, 2 rolled_in_scales, 21.2ms\n",
      "Speed: 6.6ms preprocess, 21.2ms inference, 3.6ms postprocess per image at shape (1, 3, 640, 640)\n"
     ]
    },
    {
     "name": "stderr",
     "output_type": "stream",
     "text": [
      "Processing:  68%|████████████████████████████████████████████▌                     | 1217/1800 [04:48<01:41,  5.76it/s]"
     ]
    },
    {
     "name": "stdout",
     "output_type": "stream",
     "text": [
      "\n",
      "0: 640x640 3 rolled_in_scales, 17.7ms\n",
      "Speed: 5.1ms preprocess, 17.7ms inference, 3.9ms postprocess per image at shape (1, 3, 640, 640)\n"
     ]
    },
    {
     "name": "stderr",
     "output_type": "stream",
     "text": [
      "Processing:  68%|████████████████████████████████████████████▋                     | 1218/1800 [04:48<01:51,  5.23it/s]"
     ]
    },
    {
     "name": "stdout",
     "output_type": "stream",
     "text": [
      "\n",
      "0: 640x640 2 rolled_in_scales, 18.8ms\n",
      "Speed: 5.2ms preprocess, 18.8ms inference, 3.8ms postprocess per image at shape (1, 3, 640, 640)\n"
     ]
    },
    {
     "name": "stderr",
     "output_type": "stream",
     "text": [
      "Processing:  68%|████████████████████████████████████████████▋                     | 1219/1800 [04:48<01:50,  5.28it/s]"
     ]
    },
    {
     "name": "stdout",
     "output_type": "stream",
     "text": [
      "\n",
      "0: 640x640 1 rolled_in_scale, 19.2ms\n",
      "Speed: 5.3ms preprocess, 19.2ms inference, 6.2ms postprocess per image at shape (1, 3, 640, 640)\n"
     ]
    },
    {
     "name": "stderr",
     "output_type": "stream",
     "text": [
      "Processing:  68%|████████████████████████████████████████████▋                     | 1220/1800 [04:48<01:35,  6.05it/s]"
     ]
    },
    {
     "name": "stdout",
     "output_type": "stream",
     "text": [
      "\n",
      "0: 640x640 2 rolled_in_scales, 17.3ms\n",
      "Speed: 6.2ms preprocess, 17.3ms inference, 3.5ms postprocess per image at shape (1, 3, 640, 640)\n"
     ]
    },
    {
     "name": "stderr",
     "output_type": "stream",
     "text": [
      "Processing:  68%|████████████████████████████████████████████▊                     | 1221/1800 [04:49<01:36,  5.98it/s]"
     ]
    },
    {
     "name": "stdout",
     "output_type": "stream",
     "text": [
      "\n",
      "0: 640x640 3 rolled_in_scales, 18.2ms\n",
      "Speed: 8.9ms preprocess, 18.2ms inference, 3.2ms postprocess per image at shape (1, 3, 640, 640)\n"
     ]
    },
    {
     "name": "stderr",
     "output_type": "stream",
     "text": [
      "Processing:  68%|████████████████████████████████████████████▊                     | 1222/1800 [04:49<01:49,  5.26it/s]"
     ]
    },
    {
     "name": "stdout",
     "output_type": "stream",
     "text": [
      "\n",
      "0: 640x640 2 rolled_in_scales, 17.4ms\n",
      "Speed: 4.3ms preprocess, 17.4ms inference, 2.6ms postprocess per image at shape (1, 3, 640, 640)\n"
     ]
    },
    {
     "name": "stderr",
     "output_type": "stream",
     "text": [
      "Processing:  68%|████████████████████████████████████████████▊                     | 1223/1800 [04:49<01:46,  5.44it/s]"
     ]
    },
    {
     "name": "stdout",
     "output_type": "stream",
     "text": [
      "\n",
      "0: 640x640 2 rolled_in_scales, 15.6ms\n",
      "Speed: 4.8ms preprocess, 15.6ms inference, 3.7ms postprocess per image at shape (1, 3, 640, 640)\n"
     ]
    },
    {
     "name": "stderr",
     "output_type": "stream",
     "text": [
      "Processing:  68%|████████████████████████████████████████████▉                     | 1224/1800 [04:49<01:44,  5.53it/s]"
     ]
    },
    {
     "name": "stdout",
     "output_type": "stream",
     "text": [
      "\n",
      "0: 640x640 2 rolled_in_scales, 19.1ms\n",
      "Speed: 4.7ms preprocess, 19.1ms inference, 3.5ms postprocess per image at shape (1, 3, 640, 640)\n"
     ]
    },
    {
     "name": "stderr",
     "output_type": "stream",
     "text": [
      "Processing:  68%|████████████████████████████████████████████▉                     | 1225/1800 [04:49<01:42,  5.61it/s]"
     ]
    },
    {
     "name": "stdout",
     "output_type": "stream",
     "text": [
      "\n",
      "0: 640x640 1 rolled_in_scale, 15.9ms\n",
      "Speed: 4.2ms preprocess, 15.9ms inference, 3.8ms postprocess per image at shape (1, 3, 640, 640)\n"
     ]
    },
    {
     "name": "stderr",
     "output_type": "stream",
     "text": [
      "Processing:  68%|████████████████████████████████████████████▉                     | 1226/1800 [04:49<01:29,  6.40it/s]"
     ]
    },
    {
     "name": "stdout",
     "output_type": "stream",
     "text": [
      "\n",
      "0: 640x640 2 rolled_in_scales, 18.2ms\n",
      "Speed: 4.9ms preprocess, 18.2ms inference, 2.4ms postprocess per image at shape (1, 3, 640, 640)\n"
     ]
    },
    {
     "name": "stderr",
     "output_type": "stream",
     "text": [
      "Processing:  68%|████████████████████████████████████████████▉                     | 1227/1800 [04:50<01:32,  6.21it/s]"
     ]
    },
    {
     "name": "stdout",
     "output_type": "stream",
     "text": [
      "\n",
      "0: 640x640 3 rolled_in_scales, 19.1ms\n",
      "Speed: 4.5ms preprocess, 19.1ms inference, 3.3ms postprocess per image at shape (1, 3, 640, 640)\n"
     ]
    },
    {
     "name": "stderr",
     "output_type": "stream",
     "text": [
      "Processing:  68%|█████████████████████████████████████████████                     | 1228/1800 [04:50<01:47,  5.30it/s]"
     ]
    },
    {
     "name": "stdout",
     "output_type": "stream",
     "text": [
      "\n",
      "0: 640x640 3 rolled_in_scales, 20.3ms\n",
      "Speed: 5.1ms preprocess, 20.3ms inference, 3.8ms postprocess per image at shape (1, 3, 640, 640)\n"
     ]
    },
    {
     "name": "stderr",
     "output_type": "stream",
     "text": [
      "Processing:  68%|█████████████████████████████████████████████                     | 1229/1800 [04:50<01:57,  4.86it/s]"
     ]
    },
    {
     "name": "stdout",
     "output_type": "stream",
     "text": [
      "\n",
      "0: 640x640 4 rolled_in_scales, 17.2ms\n",
      "Speed: 5.8ms preprocess, 17.2ms inference, 4.3ms postprocess per image at shape (1, 3, 640, 640)\n"
     ]
    },
    {
     "name": "stderr",
     "output_type": "stream",
     "text": [
      "Processing:  68%|█████████████████████████████████████████████                     | 1230/1800 [04:50<02:14,  4.24it/s]"
     ]
    },
    {
     "name": "stdout",
     "output_type": "stream",
     "text": [
      "\n",
      "0: 640x640 4 rolled_in_scales, 21.3ms\n",
      "Speed: 5.9ms preprocess, 21.3ms inference, 3.3ms postprocess per image at shape (1, 3, 640, 640)\n"
     ]
    },
    {
     "name": "stderr",
     "output_type": "stream",
     "text": [
      "Processing:  68%|█████████████████████████████████████████████▏                    | 1231/1800 [04:51<02:28,  3.82it/s]"
     ]
    },
    {
     "name": "stdout",
     "output_type": "stream",
     "text": [
      "\n",
      "0: 640x640 2 rolled_in_scales, 22.6ms\n",
      "Speed: 5.5ms preprocess, 22.6ms inference, 2.9ms postprocess per image at shape (1, 3, 640, 640)\n"
     ]
    },
    {
     "name": "stderr",
     "output_type": "stream",
     "text": [
      "Processing:  68%|█████████████████████████████████████████████▏                    | 1232/1800 [04:51<02:14,  4.21it/s]"
     ]
    },
    {
     "name": "stdout",
     "output_type": "stream",
     "text": [
      "\n",
      "0: 640x640 1 rolled_in_scale, 24.6ms\n",
      "Speed: 6.8ms preprocess, 24.6ms inference, 3.5ms postprocess per image at shape (1, 3, 640, 640)\n"
     ]
    },
    {
     "name": "stderr",
     "output_type": "stream",
     "text": [
      "Processing:  68%|█████████████████████████████████████████████▏                    | 1233/1800 [04:51<01:53,  5.01it/s]"
     ]
    },
    {
     "name": "stdout",
     "output_type": "stream",
     "text": [
      "\n",
      "0: 640x640 4 rolled_in_scales, 17.1ms\n",
      "Speed: 5.3ms preprocess, 17.1ms inference, 2.8ms postprocess per image at shape (1, 3, 640, 640)\n"
     ]
    },
    {
     "name": "stderr",
     "output_type": "stream",
     "text": [
      "Processing:  69%|█████████████████████████████████████████████▏                    | 1234/1800 [04:51<02:09,  4.37it/s]"
     ]
    },
    {
     "name": "stdout",
     "output_type": "stream",
     "text": [
      "\n",
      "0: 640x640 2 rolled_in_scales, 19.0ms\n",
      "Speed: 6.3ms preprocess, 19.0ms inference, 3.4ms postprocess per image at shape (1, 3, 640, 640)\n"
     ]
    },
    {
     "name": "stderr",
     "output_type": "stream",
     "text": [
      "Processing:  69%|█████████████████████████████████████████████▎                    | 1235/1800 [04:51<02:01,  4.65it/s]"
     ]
    },
    {
     "name": "stdout",
     "output_type": "stream",
     "text": [
      "\n",
      "0: 640x640 4 rolled_in_scales, 26.8ms\n",
      "Speed: 8.2ms preprocess, 26.8ms inference, 3.1ms postprocess per image at shape (1, 3, 640, 640)\n"
     ]
    },
    {
     "name": "stderr",
     "output_type": "stream",
     "text": [
      "Processing:  69%|█████████████████████████████████████████████▎                    | 1236/1800 [04:52<02:19,  4.05it/s]"
     ]
    },
    {
     "name": "stdout",
     "output_type": "stream",
     "text": [
      "\n",
      "0: 640x640 2 rolled_in_scales, 16.7ms\n",
      "Speed: 5.0ms preprocess, 16.7ms inference, 3.4ms postprocess per image at shape (1, 3, 640, 640)\n"
     ]
    },
    {
     "name": "stderr",
     "output_type": "stream",
     "text": [
      "Processing:  69%|█████████████████████████████████████████████▎                    | 1237/1800 [04:52<02:06,  4.46it/s]"
     ]
    },
    {
     "name": "stdout",
     "output_type": "stream",
     "text": [
      "\n",
      "0: 640x640 2 rolled_in_scales, 18.8ms\n",
      "Speed: 6.1ms preprocess, 18.8ms inference, 5.5ms postprocess per image at shape (1, 3, 640, 640)\n"
     ]
    },
    {
     "name": "stderr",
     "output_type": "stream",
     "text": [
      "Processing:  69%|█████████████████████████████████████████████▍                    | 1238/1800 [04:52<01:56,  4.82it/s]"
     ]
    },
    {
     "name": "stdout",
     "output_type": "stream",
     "text": [
      "\n",
      "0: 640x640 4 rolled_in_scales, 23.7ms\n",
      "Speed: 5.7ms preprocess, 23.7ms inference, 2.8ms postprocess per image at shape (1, 3, 640, 640)\n"
     ]
    },
    {
     "name": "stderr",
     "output_type": "stream",
     "text": [
      "Processing:  69%|█████████████████████████████████████████████▍                    | 1239/1800 [04:52<02:13,  4.20it/s]"
     ]
    },
    {
     "name": "stdout",
     "output_type": "stream",
     "text": [
      "\n",
      "0: 640x640 4 rolled_in_scales, 20.1ms\n",
      "Speed: 5.7ms preprocess, 20.1ms inference, 3.7ms postprocess per image at shape (1, 3, 640, 640)\n"
     ]
    },
    {
     "name": "stderr",
     "output_type": "stream",
     "text": [
      "Processing:  69%|█████████████████████████████████████████████▍                    | 1240/1800 [04:53<02:26,  3.82it/s]"
     ]
    },
    {
     "name": "stdout",
     "output_type": "stream",
     "text": [
      "\n",
      "0: 640x640 2 rolled_in_scales, 18.4ms\n",
      "Speed: 5.5ms preprocess, 18.4ms inference, 4.2ms postprocess per image at shape (1, 3, 640, 640)\n"
     ]
    },
    {
     "name": "stderr",
     "output_type": "stream",
     "text": [
      "Processing:  69%|█████████████████████████████████████████████▌                    | 1241/1800 [04:53<02:14,  4.15it/s]"
     ]
    },
    {
     "name": "stdout",
     "output_type": "stream",
     "text": [
      "\n",
      "0: 640x640 4 rolled_in_scales, 16.3ms\n",
      "Speed: 5.4ms preprocess, 16.3ms inference, 3.2ms postprocess per image at shape (1, 3, 640, 640)\n"
     ]
    },
    {
     "name": "stderr",
     "output_type": "stream",
     "text": [
      "Processing:  69%|█████████████████████████████████████████████▌                    | 1242/1800 [04:53<02:24,  3.85it/s]"
     ]
    },
    {
     "name": "stdout",
     "output_type": "stream",
     "text": [
      "\n",
      "0: 640x640 2 rolled_in_scales, 18.0ms\n",
      "Speed: 4.5ms preprocess, 18.0ms inference, 4.1ms postprocess per image at shape (1, 3, 640, 640)\n"
     ]
    },
    {
     "name": "stderr",
     "output_type": "stream",
     "text": [
      "Processing:  69%|█████████████████████████████████████████████▌                    | 1243/1800 [04:53<02:11,  4.25it/s]"
     ]
    },
    {
     "name": "stdout",
     "output_type": "stream",
     "text": [
      "\n",
      "0: 640x640 2 rolled_in_scales, 18.4ms\n",
      "Speed: 5.6ms preprocess, 18.4ms inference, 3.8ms postprocess per image at shape (1, 3, 640, 640)\n"
     ]
    },
    {
     "name": "stderr",
     "output_type": "stream",
     "text": [
      "Processing:  69%|█████████████████████████████████████████████▌                    | 1244/1800 [04:54<01:58,  4.70it/s]"
     ]
    },
    {
     "name": "stdout",
     "output_type": "stream",
     "text": [
      "\n",
      "0: 640x640 1 rolled_in_scale, 17.8ms\n",
      "Speed: 5.1ms preprocess, 17.8ms inference, 3.1ms postprocess per image at shape (1, 3, 640, 640)\n"
     ]
    },
    {
     "name": "stderr",
     "output_type": "stream",
     "text": [
      "Processing:  69%|█████████████████████████████████████████████▋                    | 1245/1800 [04:54<01:41,  5.48it/s]"
     ]
    },
    {
     "name": "stdout",
     "output_type": "stream",
     "text": [
      "\n",
      "0: 640x640 1 rolled_in_scale, 31.7ms\n",
      "Speed: 9.0ms preprocess, 31.7ms inference, 2.4ms postprocess per image at shape (1, 3, 640, 640)\n"
     ]
    },
    {
     "name": "stderr",
     "output_type": "stream",
     "text": [
      "Processing:  69%|█████████████████████████████████████████████▋                    | 1246/1800 [04:54<01:31,  6.07it/s]"
     ]
    },
    {
     "name": "stdout",
     "output_type": "stream",
     "text": [
      "\n",
      "0: 640x640 3 rolled_in_scales, 13.9ms\n",
      "Speed: 6.2ms preprocess, 13.9ms inference, 2.9ms postprocess per image at shape (1, 3, 640, 640)\n"
     ]
    },
    {
     "name": "stderr",
     "output_type": "stream",
     "text": [
      "Processing:  69%|█████████████████████████████████████████████▋                    | 1247/1800 [04:54<01:41,  5.45it/s]"
     ]
    },
    {
     "name": "stdout",
     "output_type": "stream",
     "text": [
      "\n",
      "0: 640x640 2 rolled_in_scales, 16.7ms\n",
      "Speed: 6.4ms preprocess, 16.7ms inference, 3.0ms postprocess per image at shape (1, 3, 640, 640)\n"
     ]
    },
    {
     "name": "stderr",
     "output_type": "stream",
     "text": [
      "Processing:  69%|█████████████████████████████████████████████▊                    | 1248/1800 [04:54<01:40,  5.50it/s]"
     ]
    },
    {
     "name": "stdout",
     "output_type": "stream",
     "text": [
      "\n",
      "0: 640x640 3 rolled_in_scales, 24.1ms\n",
      "Speed: 5.4ms preprocess, 24.1ms inference, 3.7ms postprocess per image at shape (1, 3, 640, 640)\n"
     ]
    },
    {
     "name": "stderr",
     "output_type": "stream",
     "text": [
      "Processing:  69%|█████████████████████████████████████████████▊                    | 1249/1800 [04:54<01:53,  4.83it/s]"
     ]
    },
    {
     "name": "stdout",
     "output_type": "stream",
     "text": [
      "\n",
      "0: 640x640 3 rolled_in_scales, 19.2ms\n",
      "Speed: 5.7ms preprocess, 19.2ms inference, 3.8ms postprocess per image at shape (1, 3, 640, 640)\n"
     ]
    },
    {
     "name": "stderr",
     "output_type": "stream",
     "text": [
      "Processing:  69%|█████████████████████████████████████████████▊                    | 1250/1800 [04:55<01:58,  4.63it/s]"
     ]
    },
    {
     "name": "stdout",
     "output_type": "stream",
     "text": [
      "\n",
      "0: 640x640 4 rolled_in_scales, 16.7ms\n",
      "Speed: 3.8ms preprocess, 16.7ms inference, 3.4ms postprocess per image at shape (1, 3, 640, 640)\n"
     ]
    },
    {
     "name": "stderr",
     "output_type": "stream",
     "text": [
      "Processing:  70%|█████████████████████████████████████████████▊                    | 1251/1800 [04:55<02:15,  4.05it/s]"
     ]
    },
    {
     "name": "stdout",
     "output_type": "stream",
     "text": [
      "\n",
      "0: 640x640 4 rolled_in_scales, 16.4ms\n",
      "Speed: 10.6ms preprocess, 16.4ms inference, 2.4ms postprocess per image at shape (1, 3, 640, 640)\n"
     ]
    },
    {
     "name": "stderr",
     "output_type": "stream",
     "text": [
      "Processing:  70%|█████████████████████████████████████████████▉                    | 1252/1800 [04:55<02:24,  3.80it/s]"
     ]
    },
    {
     "name": "stdout",
     "output_type": "stream",
     "text": [
      "\n",
      "0: 640x640 3 rolled_in_scales, 18.1ms\n",
      "Speed: 5.6ms preprocess, 18.1ms inference, 2.7ms postprocess per image at shape (1, 3, 640, 640)\n"
     ]
    },
    {
     "name": "stderr",
     "output_type": "stream",
     "text": [
      "Processing:  70%|█████████████████████████████████████████████▉                    | 1253/1800 [04:56<02:21,  3.88it/s]"
     ]
    },
    {
     "name": "stdout",
     "output_type": "stream",
     "text": [
      "\n",
      "0: 640x640 2 rolled_in_scales, 15.3ms\n",
      "Speed: 5.3ms preprocess, 15.3ms inference, 3.3ms postprocess per image at shape (1, 3, 640, 640)\n"
     ]
    },
    {
     "name": "stderr",
     "output_type": "stream",
     "text": [
      "Processing:  70%|█████████████████████████████████████████████▉                    | 1254/1800 [04:56<02:05,  4.35it/s]"
     ]
    },
    {
     "name": "stdout",
     "output_type": "stream",
     "text": [
      "\n",
      "0: 640x640 5 rolled_in_scales, 15.4ms\n",
      "Speed: 4.7ms preprocess, 15.4ms inference, 6.4ms postprocess per image at shape (1, 3, 640, 640)\n"
     ]
    },
    {
     "name": "stderr",
     "output_type": "stream",
     "text": [
      "Processing:  70%|██████████████████████████████████████████████                    | 1255/1800 [04:56<02:29,  3.64it/s]"
     ]
    },
    {
     "name": "stdout",
     "output_type": "stream",
     "text": [
      "\n",
      "0: 640x640 4 rolled_in_scales, 17.0ms\n",
      "Speed: 6.1ms preprocess, 17.0ms inference, 3.3ms postprocess per image at shape (1, 3, 640, 640)\n"
     ]
    },
    {
     "name": "stderr",
     "output_type": "stream",
     "text": [
      "Processing:  70%|██████████████████████████████████████████████                    | 1256/1800 [04:56<02:34,  3.52it/s]"
     ]
    },
    {
     "name": "stdout",
     "output_type": "stream",
     "text": [
      "\n",
      "0: 640x640 2 rolled_in_scales, 22.5ms\n",
      "Speed: 5.0ms preprocess, 22.5ms inference, 3.5ms postprocess per image at shape (1, 3, 640, 640)\n"
     ]
    },
    {
     "name": "stderr",
     "output_type": "stream",
     "text": [
      "Processing:  70%|██████████████████████████████████████████████                    | 1257/1800 [04:57<02:19,  3.90it/s]"
     ]
    },
    {
     "name": "stdout",
     "output_type": "stream",
     "text": [
      "\n",
      "0: 640x640 1 rolled_in_scale, 25.4ms\n",
      "Speed: 5.6ms preprocess, 25.4ms inference, 3.5ms postprocess per image at shape (1, 3, 640, 640)\n"
     ]
    },
    {
     "name": "stderr",
     "output_type": "stream",
     "text": [
      "Processing:  70%|██████████████████████████████████████████████▏                   | 1258/1800 [04:57<01:54,  4.74it/s]"
     ]
    },
    {
     "name": "stdout",
     "output_type": "stream",
     "text": [
      "\n",
      "0: 640x640 2 rolled_in_scales, 25.6ms\n",
      "Speed: 5.7ms preprocess, 25.6ms inference, 2.8ms postprocess per image at shape (1, 3, 640, 640)\n"
     ]
    },
    {
     "name": "stderr",
     "output_type": "stream",
     "text": [
      "Processing:  70%|██████████████████████████████████████████████▏                   | 1259/1800 [04:57<01:50,  4.90it/s]"
     ]
    },
    {
     "name": "stdout",
     "output_type": "stream",
     "text": [
      "\n",
      "0: 640x640 2 rolled_in_scales, 19.6ms\n",
      "Speed: 4.4ms preprocess, 19.6ms inference, 3.3ms postprocess per image at shape (1, 3, 640, 640)\n"
     ]
    },
    {
     "name": "stderr",
     "output_type": "stream",
     "text": [
      "Processing:  70%|██████████████████████████████████████████████▏                   | 1260/1800 [04:57<01:44,  5.16it/s]"
     ]
    },
    {
     "name": "stdout",
     "output_type": "stream",
     "text": [
      "\n",
      "0: 640x640 2 rolled_in_scales, 19.2ms\n",
      "Speed: 5.1ms preprocess, 19.2ms inference, 3.8ms postprocess per image at shape (1, 3, 640, 640)\n"
     ]
    },
    {
     "name": "stderr",
     "output_type": "stream",
     "text": [
      "Processing:  70%|██████████████████████████████████████████████▏                   | 1261/1800 [04:57<01:41,  5.31it/s]"
     ]
    },
    {
     "name": "stdout",
     "output_type": "stream",
     "text": [
      "\n",
      "0: 640x640 1 rolled_in_scale, 15.6ms\n",
      "Speed: 4.8ms preprocess, 15.6ms inference, 2.8ms postprocess per image at shape (1, 3, 640, 640)\n"
     ]
    },
    {
     "name": "stderr",
     "output_type": "stream",
     "text": [
      "Processing:  70%|██████████████████████████████████████████████▎                   | 1262/1800 [04:57<01:27,  6.15it/s]"
     ]
    },
    {
     "name": "stdout",
     "output_type": "stream",
     "text": [
      "\n",
      "0: 640x640 3 rolled_in_scales, 13.5ms\n",
      "Speed: 6.1ms preprocess, 13.5ms inference, 2.9ms postprocess per image at shape (1, 3, 640, 640)\n"
     ]
    },
    {
     "name": "stderr",
     "output_type": "stream",
     "text": [
      "Processing:  70%|██████████████████████████████████████████████▎                   | 1263/1800 [04:58<01:37,  5.52it/s]"
     ]
    },
    {
     "name": "stdout",
     "output_type": "stream",
     "text": [
      "\n",
      "0: 640x640 5 rolled_in_scales, 24.3ms\n",
      "Speed: 6.2ms preprocess, 24.3ms inference, 3.6ms postprocess per image at shape (1, 3, 640, 640)\n"
     ]
    },
    {
     "name": "stderr",
     "output_type": "stream",
     "text": [
      "Processing:  70%|██████████████████████████████████████████████▎                   | 1264/1800 [04:58<02:09,  4.13it/s]"
     ]
    },
    {
     "name": "stdout",
     "output_type": "stream",
     "text": [
      "\n",
      "0: 640x640 3 rolled_in_scales, 21.0ms\n",
      "Speed: 4.5ms preprocess, 21.0ms inference, 2.5ms postprocess per image at shape (1, 3, 640, 640)\n"
     ]
    },
    {
     "name": "stderr",
     "output_type": "stream",
     "text": [
      "Processing:  70%|██████████████████████████████████████████████▍                   | 1265/1800 [04:58<02:08,  4.15it/s]"
     ]
    },
    {
     "name": "stdout",
     "output_type": "stream",
     "text": [
      "\n",
      "0: 640x640 2 rolled_in_scales, 18.4ms\n",
      "Speed: 4.8ms preprocess, 18.4ms inference, 3.3ms postprocess per image at shape (1, 3, 640, 640)\n"
     ]
    },
    {
     "name": "stderr",
     "output_type": "stream",
     "text": [
      "Processing:  70%|██████████████████████████████████████████████▍                   | 1266/1800 [04:58<01:58,  4.52it/s]"
     ]
    },
    {
     "name": "stdout",
     "output_type": "stream",
     "text": [
      "\n",
      "0: 640x640 1 rolled_in_scale, 16.5ms\n",
      "Speed: 5.6ms preprocess, 16.5ms inference, 3.6ms postprocess per image at shape (1, 3, 640, 640)\n",
      "\n",
      "0: 640x640 1 patches, 2 rolled_in_scales, 19.4ms\n",
      "Speed: 6.3ms preprocess, 19.4ms inference, 3.3ms postprocess per image at shape (1, 3, 640, 640)\n"
     ]
    },
    {
     "name": "stderr",
     "output_type": "stream",
     "text": [
      "Processing:  70%|██████████████████████████████████████████████▍                   | 1268/1800 [04:59<01:42,  5.20it/s]"
     ]
    },
    {
     "name": "stdout",
     "output_type": "stream",
     "text": [
      "\n",
      "0: 640x640 3 rolled_in_scales, 17.3ms\n",
      "Speed: 6.4ms preprocess, 17.3ms inference, 3.3ms postprocess per image at shape (1, 3, 640, 640)\n"
     ]
    },
    {
     "name": "stderr",
     "output_type": "stream",
     "text": [
      "Processing:  70%|██████████████████████████████████████████████▌                   | 1269/1800 [04:59<01:47,  4.92it/s]"
     ]
    },
    {
     "name": "stdout",
     "output_type": "stream",
     "text": [
      "\n",
      "0: 640x640 3 rolled_in_scales, 23.2ms\n",
      "Speed: 5.6ms preprocess, 23.2ms inference, 3.7ms postprocess per image at shape (1, 3, 640, 640)\n"
     ]
    },
    {
     "name": "stderr",
     "output_type": "stream",
     "text": [
      "Processing:  71%|██████████████████████████████████████████████▌                   | 1270/1800 [04:59<01:53,  4.69it/s]"
     ]
    },
    {
     "name": "stdout",
     "output_type": "stream",
     "text": [
      "\n",
      "0: 640x640 3 rolled_in_scales, 16.5ms\n",
      "Speed: 4.6ms preprocess, 16.5ms inference, 4.0ms postprocess per image at shape (1, 3, 640, 640)\n"
     ]
    },
    {
     "name": "stderr",
     "output_type": "stream",
     "text": [
      "Processing:  71%|██████████████████████████████████████████████▌                   | 1271/1800 [04:59<01:54,  4.62it/s]"
     ]
    },
    {
     "name": "stdout",
     "output_type": "stream",
     "text": [
      "\n",
      "0: 640x640 3 rolled_in_scales, 16.7ms\n",
      "Speed: 4.6ms preprocess, 16.7ms inference, 4.1ms postprocess per image at shape (1, 3, 640, 640)\n"
     ]
    },
    {
     "name": "stderr",
     "output_type": "stream",
     "text": [
      "Processing:  71%|██████████████████████████████████████████████▋                   | 1272/1800 [05:00<01:57,  4.51it/s]"
     ]
    },
    {
     "name": "stdout",
     "output_type": "stream",
     "text": [
      "\n",
      "0: 640x640 2 rolled_in_scales, 19.0ms\n",
      "Speed: 5.2ms preprocess, 19.0ms inference, 3.0ms postprocess per image at shape (1, 3, 640, 640)\n"
     ]
    },
    {
     "name": "stderr",
     "output_type": "stream",
     "text": [
      "Processing:  71%|██████████████████████████████████████████████▋                   | 1273/1800 [05:00<01:48,  4.86it/s]"
     ]
    },
    {
     "name": "stdout",
     "output_type": "stream",
     "text": [
      "\n",
      "0: 640x640 2 rolled_in_scales, 17.1ms\n",
      "Speed: 4.4ms preprocess, 17.1ms inference, 2.8ms postprocess per image at shape (1, 3, 640, 640)\n"
     ]
    },
    {
     "name": "stderr",
     "output_type": "stream",
     "text": [
      "Processing:  71%|██████████████████████████████████████████████▋                   | 1274/1800 [05:00<01:43,  5.10it/s]"
     ]
    },
    {
     "name": "stdout",
     "output_type": "stream",
     "text": [
      "\n",
      "0: 640x640 2 rolled_in_scales, 17.0ms\n",
      "Speed: 5.8ms preprocess, 17.0ms inference, 2.9ms postprocess per image at shape (1, 3, 640, 640)\n"
     ]
    },
    {
     "name": "stderr",
     "output_type": "stream",
     "text": [
      "Processing:  71%|██████████████████████████████████████████████▊                   | 1275/1800 [05:00<01:41,  5.18it/s]"
     ]
    },
    {
     "name": "stdout",
     "output_type": "stream",
     "text": [
      "\n",
      "0: 640x640 3 rolled_in_scales, 19.1ms\n",
      "Speed: 5.3ms preprocess, 19.1ms inference, 2.7ms postprocess per image at shape (1, 3, 640, 640)\n"
     ]
    },
    {
     "name": "stderr",
     "output_type": "stream",
     "text": [
      "Processing:  71%|██████████████████████████████████████████████▊                   | 1276/1800 [05:00<01:48,  4.81it/s]"
     ]
    },
    {
     "name": "stdout",
     "output_type": "stream",
     "text": [
      "\n",
      "0: 640x640 3 rolled_in_scales, 18.1ms\n",
      "Speed: 5.2ms preprocess, 18.1ms inference, 3.4ms postprocess per image at shape (1, 3, 640, 640)\n"
     ]
    },
    {
     "name": "stderr",
     "output_type": "stream",
     "text": [
      "Processing:  71%|██████████████████████████████████████████████▊                   | 1277/1800 [05:01<01:53,  4.60it/s]"
     ]
    },
    {
     "name": "stdout",
     "output_type": "stream",
     "text": [
      "\n",
      "0: 640x640 4 rolled_in_scales, 18.1ms\n",
      "Speed: 5.5ms preprocess, 18.1ms inference, 3.3ms postprocess per image at shape (1, 3, 640, 640)\n"
     ]
    },
    {
     "name": "stderr",
     "output_type": "stream",
     "text": [
      "Processing:  71%|██████████████████████████████████████████████▊                   | 1278/1800 [05:01<02:06,  4.12it/s]"
     ]
    },
    {
     "name": "stdout",
     "output_type": "stream",
     "text": [
      "\n",
      "0: 640x640 4 rolled_in_scales, 19.8ms\n",
      "Speed: 5.0ms preprocess, 19.8ms inference, 3.2ms postprocess per image at shape (1, 3, 640, 640)\n"
     ]
    },
    {
     "name": "stderr",
     "output_type": "stream",
     "text": [
      "Processing:  71%|██████████████████████████████████████████████▉                   | 1279/1800 [05:01<02:14,  3.88it/s]"
     ]
    },
    {
     "name": "stdout",
     "output_type": "stream",
     "text": [
      "\n",
      "0: 640x640 2 rolled_in_scales, 19.5ms\n",
      "Speed: 6.0ms preprocess, 19.5ms inference, 4.2ms postprocess per image at shape (1, 3, 640, 640)\n"
     ]
    },
    {
     "name": "stderr",
     "output_type": "stream",
     "text": [
      "Processing:  71%|██████████████████████████████████████████████▉                   | 1280/1800 [05:01<01:59,  4.35it/s]"
     ]
    },
    {
     "name": "stdout",
     "output_type": "stream",
     "text": [
      "\n",
      "0: 640x640 1 rolled_in_scale, 20.1ms\n",
      "Speed: 6.6ms preprocess, 20.1ms inference, 2.8ms postprocess per image at shape (1, 3, 640, 640)\n"
     ]
    },
    {
     "name": "stderr",
     "output_type": "stream",
     "text": [
      "Processing:  71%|██████████████████████████████████████████████▉                   | 1281/1800 [05:02<01:41,  5.11it/s]"
     ]
    },
    {
     "name": "stdout",
     "output_type": "stream",
     "text": [
      "\n",
      "0: 640x640 2 rolled_in_scales, 19.0ms\n",
      "Speed: 5.6ms preprocess, 19.0ms inference, 3.7ms postprocess per image at shape (1, 3, 640, 640)\n"
     ]
    },
    {
     "name": "stderr",
     "output_type": "stream",
     "text": [
      "Processing:  71%|███████████████████████████████████████████████                   | 1282/1800 [05:02<01:35,  5.40it/s]"
     ]
    },
    {
     "name": "stdout",
     "output_type": "stream",
     "text": [
      "\n",
      "0: 640x640 2 rolled_in_scales, 17.3ms\n",
      "Speed: 6.0ms preprocess, 17.3ms inference, 3.7ms postprocess per image at shape (1, 3, 640, 640)\n"
     ]
    },
    {
     "name": "stderr",
     "output_type": "stream",
     "text": [
      "Processing:  71%|███████████████████████████████████████████████                   | 1283/1800 [05:02<01:34,  5.50it/s]"
     ]
    },
    {
     "name": "stdout",
     "output_type": "stream",
     "text": [
      "\n",
      "0: 640x640 2 rolled_in_scales, 16.6ms\n",
      "Speed: 5.2ms preprocess, 16.6ms inference, 3.1ms postprocess per image at shape (1, 3, 640, 640)\n"
     ]
    },
    {
     "name": "stderr",
     "output_type": "stream",
     "text": [
      "Processing:  71%|███████████████████████████████████████████████                   | 1284/1800 [05:02<01:31,  5.65it/s]"
     ]
    },
    {
     "name": "stdout",
     "output_type": "stream",
     "text": [
      "\n",
      "0: 640x640 1 rolled_in_scale, 14.5ms\n",
      "Speed: 4.4ms preprocess, 14.5ms inference, 3.3ms postprocess per image at shape (1, 3, 640, 640)\n",
      "\n",
      "0: 640x640 2 rolled_in_scales, 18.2ms\n",
      "Speed: 5.4ms preprocess, 18.2ms inference, 3.0ms postprocess per image at shape (1, 3, 640, 640)\n"
     ]
    },
    {
     "name": "stderr",
     "output_type": "stream",
     "text": [
      "Processing:  71%|███████████████████████████████████████████████▏                  | 1286/1800 [05:02<01:22,  6.26it/s]"
     ]
    },
    {
     "name": "stdout",
     "output_type": "stream",
     "text": [
      "\n",
      "0: 640x640 4 rolled_in_scales, 18.2ms\n",
      "Speed: 5.5ms preprocess, 18.2ms inference, 3.9ms postprocess per image at shape (1, 3, 640, 640)\n"
     ]
    },
    {
     "name": "stderr",
     "output_type": "stream",
     "text": [
      "Processing:  72%|███████████████████████████████████████████████▏                  | 1287/1800 [05:03<01:42,  5.00it/s]"
     ]
    },
    {
     "name": "stdout",
     "output_type": "stream",
     "text": [
      "\n",
      "0: 640x640 3 rolled_in_scales, 19.8ms\n",
      "Speed: 5.9ms preprocess, 19.8ms inference, 3.5ms postprocess per image at shape (1, 3, 640, 640)\n"
     ]
    },
    {
     "name": "stderr",
     "output_type": "stream",
     "text": [
      "Processing:  72%|███████████████████████████████████████████████▏                  | 1288/1800 [05:03<01:47,  4.78it/s]"
     ]
    },
    {
     "name": "stdout",
     "output_type": "stream",
     "text": [
      "\n",
      "0: 640x640 3 rolled_in_scales, 19.8ms\n",
      "Speed: 4.6ms preprocess, 19.8ms inference, 3.1ms postprocess per image at shape (1, 3, 640, 640)\n"
     ]
    },
    {
     "name": "stderr",
     "output_type": "stream",
     "text": [
      "Processing:  72%|███████████████████████████████████████████████▎                  | 1289/1800 [05:03<01:50,  4.62it/s]"
     ]
    },
    {
     "name": "stdout",
     "output_type": "stream",
     "text": [
      "\n",
      "0: 640x640 3 rolled_in_scales, 20.5ms\n",
      "Speed: 5.4ms preprocess, 20.5ms inference, 3.2ms postprocess per image at shape (1, 3, 640, 640)\n"
     ]
    },
    {
     "name": "stderr",
     "output_type": "stream",
     "text": [
      "Processing:  72%|███████████████████████████████████████████████▎                  | 1290/1800 [05:03<01:53,  4.51it/s]"
     ]
    },
    {
     "name": "stdout",
     "output_type": "stream",
     "text": [
      "\n",
      "0: 640x640 4 rolled_in_scales, 18.7ms\n",
      "Speed: 6.0ms preprocess, 18.7ms inference, 2.9ms postprocess per image at shape (1, 3, 640, 640)\n"
     ]
    },
    {
     "name": "stderr",
     "output_type": "stream",
     "text": [
      "Processing:  72%|███████████████████████████████████████████████▎                  | 1291/1800 [05:04<02:05,  4.04it/s]"
     ]
    },
    {
     "name": "stdout",
     "output_type": "stream",
     "text": [
      "\n",
      "0: 640x640 3 rolled_in_scales, 82.3ms\n",
      "Speed: 6.1ms preprocess, 82.3ms inference, 16.7ms postprocess per image at shape (1, 3, 640, 640)\n"
     ]
    },
    {
     "name": "stderr",
     "output_type": "stream",
     "text": [
      "Processing:  72%|███████████████████████████████████████████████▎                  | 1292/1800 [05:04<02:22,  3.56it/s]"
     ]
    },
    {
     "name": "stdout",
     "output_type": "stream",
     "text": [
      "\n",
      "0: 640x640 2 rolled_in_scales, 18.5ms\n",
      "Speed: 5.3ms preprocess, 18.5ms inference, 3.3ms postprocess per image at shape (1, 3, 640, 640)\n"
     ]
    },
    {
     "name": "stderr",
     "output_type": "stream",
     "text": [
      "Processing:  72%|███████████████████████████████████████████████▍                  | 1293/1800 [05:04<02:05,  4.05it/s]"
     ]
    },
    {
     "name": "stdout",
     "output_type": "stream",
     "text": [
      "\n",
      "0: 640x640 5 rolled_in_scales, 19.1ms\n",
      "Speed: 5.8ms preprocess, 19.1ms inference, 3.1ms postprocess per image at shape (1, 3, 640, 640)\n"
     ]
    },
    {
     "name": "stderr",
     "output_type": "stream",
     "text": [
      "Processing:  72%|███████████████████████████████████████████████▍                  | 1294/1800 [05:05<02:24,  3.50it/s]"
     ]
    },
    {
     "name": "stdout",
     "output_type": "stream",
     "text": [
      "\n",
      "0: 640x640 3 rolled_in_scales, 16.9ms\n",
      "Speed: 5.5ms preprocess, 16.9ms inference, 4.0ms postprocess per image at shape (1, 3, 640, 640)\n"
     ]
    },
    {
     "name": "stderr",
     "output_type": "stream",
     "text": [
      "Processing:  72%|███████████████████████████████████████████████▍                  | 1295/1800 [05:05<02:16,  3.69it/s]"
     ]
    },
    {
     "name": "stdout",
     "output_type": "stream",
     "text": [
      "\n",
      "0: 640x640 3 rolled_in_scales, 15.6ms\n",
      "Speed: 4.2ms preprocess, 15.6ms inference, 3.2ms postprocess per image at shape (1, 3, 640, 640)\n"
     ]
    },
    {
     "name": "stderr",
     "output_type": "stream",
     "text": [
      "Processing:  72%|███████████████████████████████████████████████▌                  | 1296/1800 [05:05<02:10,  3.85it/s]"
     ]
    },
    {
     "name": "stdout",
     "output_type": "stream",
     "text": [
      "\n",
      "0: 640x640 4 rolled_in_scales, 18.4ms\n",
      "Speed: 5.2ms preprocess, 18.4ms inference, 3.5ms postprocess per image at shape (1, 3, 640, 640)\n"
     ]
    },
    {
     "name": "stderr",
     "output_type": "stream",
     "text": [
      "Processing:  72%|███████████████████████████████████████████████▌                  | 1297/1800 [05:05<02:19,  3.60it/s]"
     ]
    },
    {
     "name": "stdout",
     "output_type": "stream",
     "text": [
      "\n",
      "0: 640x640 3 rolled_in_scales, 18.4ms\n",
      "Speed: 4.2ms preprocess, 18.4ms inference, 3.1ms postprocess per image at shape (1, 3, 640, 640)\n"
     ]
    },
    {
     "name": "stderr",
     "output_type": "stream",
     "text": [
      "Processing:  72%|███████████████████████████████████████████████▌                  | 1298/1800 [05:06<02:14,  3.73it/s]"
     ]
    },
    {
     "name": "stdout",
     "output_type": "stream",
     "text": [
      "\n",
      "0: 640x640 2 rolled_in_scales, 22.2ms\n",
      "Speed: 5.7ms preprocess, 22.2ms inference, 3.7ms postprocess per image at shape (1, 3, 640, 640)\n"
     ]
    },
    {
     "name": "stderr",
     "output_type": "stream",
     "text": [
      "Processing:  72%|███████████████████████████████████████████████▋                  | 1299/1800 [05:06<02:03,  4.07it/s]"
     ]
    },
    {
     "name": "stdout",
     "output_type": "stream",
     "text": [
      "\n",
      "0: 640x640 2 rolled_in_scales, 17.9ms\n",
      "Speed: 5.3ms preprocess, 17.9ms inference, 3.5ms postprocess per image at shape (1, 3, 640, 640)\n"
     ]
    },
    {
     "name": "stderr",
     "output_type": "stream",
     "text": [
      "Processing:  72%|███████████████████████████████████████████████▋                  | 1300/1800 [05:06<01:52,  4.45it/s]"
     ]
    },
    {
     "name": "stdout",
     "output_type": "stream",
     "text": [
      "\n",
      "0: 640x640 2 rolled_in_scales, 16.3ms\n",
      "Speed: 5.5ms preprocess, 16.3ms inference, 3.6ms postprocess per image at shape (1, 3, 640, 640)\n"
     ]
    },
    {
     "name": "stderr",
     "output_type": "stream",
     "text": [
      "Processing:  72%|███████████████████████████████████████████████▋                  | 1301/1800 [05:06<01:42,  4.86it/s]"
     ]
    },
    {
     "name": "stdout",
     "output_type": "stream",
     "text": [
      "\n",
      "0: 640x640 4 rolled_in_scales, 20.1ms\n",
      "Speed: 5.4ms preprocess, 20.1ms inference, 3.3ms postprocess per image at shape (1, 3, 640, 640)\n"
     ]
    },
    {
     "name": "stderr",
     "output_type": "stream",
     "text": [
      "Processing:  72%|███████████████████████████████████████████████▋                  | 1302/1800 [05:06<02:00,  4.15it/s]"
     ]
    },
    {
     "name": "stdout",
     "output_type": "stream",
     "text": [
      "\n",
      "0: 640x640 3 rolled_in_scales, 19.4ms\n",
      "Speed: 5.0ms preprocess, 19.4ms inference, 3.7ms postprocess per image at shape (1, 3, 640, 640)\n"
     ]
    },
    {
     "name": "stderr",
     "output_type": "stream",
     "text": [
      "Processing:  72%|███████████████████████████████████████████████▊                  | 1303/1800 [05:07<02:01,  4.10it/s]"
     ]
    },
    {
     "name": "stdout",
     "output_type": "stream",
     "text": [
      "\n",
      "0: 640x640 3 rolled_in_scales, 16.6ms\n",
      "Speed: 7.8ms preprocess, 16.6ms inference, 4.0ms postprocess per image at shape (1, 3, 640, 640)\n"
     ]
    },
    {
     "name": "stderr",
     "output_type": "stream",
     "text": [
      "Processing:  72%|███████████████████████████████████████████████▊                  | 1304/1800 [05:07<02:01,  4.10it/s]"
     ]
    },
    {
     "name": "stdout",
     "output_type": "stream",
     "text": [
      "\n",
      "0: 640x640 3 rolled_in_scales, 12.9ms\n",
      "Speed: 4.6ms preprocess, 12.9ms inference, 3.7ms postprocess per image at shape (1, 3, 640, 640)\n"
     ]
    },
    {
     "name": "stderr",
     "output_type": "stream",
     "text": [
      "Processing:  72%|███████████████████████████████████████████████▊                  | 1305/1800 [05:07<01:58,  4.19it/s]"
     ]
    },
    {
     "name": "stdout",
     "output_type": "stream",
     "text": [
      "\n",
      "0: 640x640 3 rolled_in_scales, 14.6ms\n",
      "Speed: 5.9ms preprocess, 14.6ms inference, 3.9ms postprocess per image at shape (1, 3, 640, 640)\n"
     ]
    },
    {
     "name": "stderr",
     "output_type": "stream",
     "text": [
      "Processing:  73%|███████████████████████████████████████████████▉                  | 1306/1800 [05:07<01:58,  4.15it/s]"
     ]
    },
    {
     "name": "stdout",
     "output_type": "stream",
     "text": [
      "\n",
      "0: 640x640 1 rolled_in_scale, 18.0ms\n",
      "Speed: 5.5ms preprocess, 18.0ms inference, 3.6ms postprocess per image at shape (1, 3, 640, 640)\n"
     ]
    },
    {
     "name": "stderr",
     "output_type": "stream",
     "text": [
      "Processing:  73%|███████████████████████████████████████████████▉                  | 1307/1800 [05:07<01:38,  5.02it/s]"
     ]
    },
    {
     "name": "stdout",
     "output_type": "stream",
     "text": [
      "\n",
      "0: 640x640 1 rolled_in_scale, 18.7ms\n",
      "Speed: 5.3ms preprocess, 18.7ms inference, 3.6ms postprocess per image at shape (1, 3, 640, 640)\n"
     ]
    },
    {
     "name": "stderr",
     "output_type": "stream",
     "text": [
      "Processing:  73%|███████████████████████████████████████████████▉                  | 1308/1800 [05:08<01:24,  5.80it/s]"
     ]
    },
    {
     "name": "stdout",
     "output_type": "stream",
     "text": [
      "\n",
      "0: 640x640 5 rolled_in_scales, 14.8ms\n",
      "Speed: 5.6ms preprocess, 14.8ms inference, 3.9ms postprocess per image at shape (1, 3, 640, 640)\n"
     ]
    },
    {
     "name": "stderr",
     "output_type": "stream",
     "text": [
      "Processing:  73%|███████████████████████████████████████████████▉                  | 1309/1800 [05:08<02:00,  4.08it/s]"
     ]
    },
    {
     "name": "stdout",
     "output_type": "stream",
     "text": [
      "\n",
      "0: 640x640 4 rolled_in_scales, 18.9ms\n",
      "Speed: 5.9ms preprocess, 18.9ms inference, 3.7ms postprocess per image at shape (1, 3, 640, 640)\n"
     ]
    },
    {
     "name": "stderr",
     "output_type": "stream",
     "text": [
      "Processing:  73%|████████████████████████████████████████████████                  | 1310/1800 [05:08<02:08,  3.82it/s]"
     ]
    },
    {
     "name": "stdout",
     "output_type": "stream",
     "text": [
      "\n",
      "0: 640x640 3 rolled_in_scales, 14.1ms\n",
      "Speed: 8.2ms preprocess, 14.1ms inference, 3.2ms postprocess per image at shape (1, 3, 640, 640)\n"
     ]
    },
    {
     "name": "stderr",
     "output_type": "stream",
     "text": [
      "Processing:  73%|████████████████████████████████████████████████                  | 1311/1800 [05:09<02:04,  3.92it/s]"
     ]
    },
    {
     "name": "stdout",
     "output_type": "stream",
     "text": [
      "\n",
      "0: 640x640 2 rolled_in_scales, 17.6ms\n",
      "Speed: 5.3ms preprocess, 17.6ms inference, 3.1ms postprocess per image at shape (1, 3, 640, 640)\n"
     ]
    },
    {
     "name": "stderr",
     "output_type": "stream",
     "text": [
      "Processing:  73%|████████████████████████████████████████████████                  | 1312/1800 [05:09<01:53,  4.30it/s]"
     ]
    },
    {
     "name": "stdout",
     "output_type": "stream",
     "text": [
      "\n",
      "0: 640x640 4 rolled_in_scales, 15.4ms\n",
      "Speed: 4.3ms preprocess, 15.4ms inference, 3.8ms postprocess per image at shape (1, 3, 640, 640)\n"
     ]
    },
    {
     "name": "stderr",
     "output_type": "stream",
     "text": [
      "Processing:  73%|████████████████████████████████████████████████▏                 | 1313/1800 [05:09<02:03,  3.95it/s]"
     ]
    },
    {
     "name": "stdout",
     "output_type": "stream",
     "text": [
      "\n",
      "0: 640x640 2 rolled_in_scales, 16.8ms\n",
      "Speed: 6.1ms preprocess, 16.8ms inference, 3.3ms postprocess per image at shape (1, 3, 640, 640)\n"
     ]
    },
    {
     "name": "stderr",
     "output_type": "stream",
     "text": [
      "Processing:  73%|████████████████████████████████████████████████▏                 | 1314/1800 [05:09<01:51,  4.38it/s]"
     ]
    },
    {
     "name": "stdout",
     "output_type": "stream",
     "text": [
      "\n",
      "0: 640x640 2 rolled_in_scales, 12.5ms\n",
      "Speed: 4.6ms preprocess, 12.5ms inference, 3.2ms postprocess per image at shape (1, 3, 640, 640)\n"
     ]
    },
    {
     "name": "stderr",
     "output_type": "stream",
     "text": [
      "Processing:  73%|████████████████████████████████████████████████▏                 | 1315/1800 [05:09<01:43,  4.69it/s]"
     ]
    },
    {
     "name": "stdout",
     "output_type": "stream",
     "text": [
      "\n",
      "0: 640x640 5 rolled_in_scales, 18.3ms\n",
      "Speed: 5.5ms preprocess, 18.3ms inference, 3.0ms postprocess per image at shape (1, 3, 640, 640)\n"
     ]
    },
    {
     "name": "stderr",
     "output_type": "stream",
     "text": [
      "Processing:  73%|████████████████████████████████████████████████▎                 | 1316/1800 [05:10<02:07,  3.81it/s]"
     ]
    },
    {
     "name": "stdout",
     "output_type": "stream",
     "text": [
      "\n",
      "0: 640x640 4 rolled_in_scales, 19.5ms\n",
      "Speed: 4.6ms preprocess, 19.5ms inference, 3.4ms postprocess per image at shape (1, 3, 640, 640)\n"
     ]
    },
    {
     "name": "stderr",
     "output_type": "stream",
     "text": [
      "Processing:  73%|████████████████████████████████████████████████▎                 | 1317/1800 [05:10<02:14,  3.60it/s]"
     ]
    },
    {
     "name": "stdout",
     "output_type": "stream",
     "text": [
      "\n",
      "0: 640x640 4 rolled_in_scales, 17.7ms\n",
      "Speed: 4.9ms preprocess, 17.7ms inference, 4.4ms postprocess per image at shape (1, 3, 640, 640)\n"
     ]
    },
    {
     "name": "stderr",
     "output_type": "stream",
     "text": [
      "Processing:  73%|████████████████████████████████████████████████▎                 | 1318/1800 [05:10<02:19,  3.46it/s]"
     ]
    },
    {
     "name": "stdout",
     "output_type": "stream",
     "text": [
      "\n",
      "0: 640x640 3 rolled_in_scales, 17.1ms\n",
      "Speed: 5.1ms preprocess, 17.1ms inference, 3.4ms postprocess per image at shape (1, 3, 640, 640)\n"
     ]
    },
    {
     "name": "stderr",
     "output_type": "stream",
     "text": [
      "Processing:  73%|████████████████████████████████████████████████▎                 | 1319/1800 [05:11<02:11,  3.66it/s]"
     ]
    },
    {
     "name": "stdout",
     "output_type": "stream",
     "text": [
      "\n",
      "0: 640x640 1 rolled_in_scale, 18.2ms\n",
      "Speed: 5.1ms preprocess, 18.2ms inference, 3.8ms postprocess per image at shape (1, 3, 640, 640)\n"
     ]
    },
    {
     "name": "stderr",
     "output_type": "stream",
     "text": [
      "Processing:  73%|████████████████████████████████████████████████▍                 | 1320/1800 [05:11<01:46,  4.50it/s]"
     ]
    },
    {
     "name": "stdout",
     "output_type": "stream",
     "text": [
      "\n",
      "0: 640x640 2 rolled_in_scales, 18.2ms\n",
      "Speed: 5.6ms preprocess, 18.2ms inference, 3.5ms postprocess per image at shape (1, 3, 640, 640)\n"
     ]
    },
    {
     "name": "stderr",
     "output_type": "stream",
     "text": [
      "Processing:  73%|████████████████████████████████████████████████▍                 | 1321/1800 [05:11<01:41,  4.72it/s]"
     ]
    },
    {
     "name": "stdout",
     "output_type": "stream",
     "text": [
      "\n",
      "0: 640x640 3 rolled_in_scales, 18.2ms\n",
      "Speed: 5.1ms preprocess, 18.2ms inference, 3.9ms postprocess per image at shape (1, 3, 640, 640)\n"
     ]
    },
    {
     "name": "stderr",
     "output_type": "stream",
     "text": [
      "Processing:  73%|████████████████████████████████████████████████▍                 | 1322/1800 [05:11<01:45,  4.53it/s]"
     ]
    },
    {
     "name": "stdout",
     "output_type": "stream",
     "text": [
      "\n",
      "0: 640x640 2 rolled_in_scales, 16.9ms\n",
      "Speed: 5.3ms preprocess, 16.9ms inference, 3.6ms postprocess per image at shape (1, 3, 640, 640)\n"
     ]
    },
    {
     "name": "stderr",
     "output_type": "stream",
     "text": [
      "Processing:  74%|████████████████████████████████████████████████▌                 | 1323/1800 [05:11<01:38,  4.85it/s]"
     ]
    },
    {
     "name": "stdout",
     "output_type": "stream",
     "text": [
      "\n",
      "0: 640x640 3 rolled_in_scales, 17.7ms\n",
      "Speed: 4.9ms preprocess, 17.7ms inference, 3.3ms postprocess per image at shape (1, 3, 640, 640)\n"
     ]
    },
    {
     "name": "stderr",
     "output_type": "stream",
     "text": [
      "Processing:  74%|████████████████████████████████████████████████▌                 | 1324/1800 [05:12<01:44,  4.57it/s]"
     ]
    },
    {
     "name": "stdout",
     "output_type": "stream",
     "text": [
      "\n",
      "0: 640x640 3 rolled_in_scales, 18.0ms\n",
      "Speed: 5.0ms preprocess, 18.0ms inference, 3.9ms postprocess per image at shape (1, 3, 640, 640)\n"
     ]
    },
    {
     "name": "stderr",
     "output_type": "stream",
     "text": [
      "Processing:  74%|████████████████████████████████████████████████▌                 | 1325/1800 [05:12<01:45,  4.49it/s]"
     ]
    },
    {
     "name": "stdout",
     "output_type": "stream",
     "text": [
      "\n",
      "0: 640x640 3 rolled_in_scales, 18.9ms\n",
      "Speed: 4.5ms preprocess, 18.9ms inference, 3.1ms postprocess per image at shape (1, 3, 640, 640)\n"
     ]
    },
    {
     "name": "stderr",
     "output_type": "stream",
     "text": [
      "Processing:  74%|████████████████████████████████████████████████▌                 | 1326/1800 [05:12<01:48,  4.38it/s]"
     ]
    },
    {
     "name": "stdout",
     "output_type": "stream",
     "text": [
      "\n",
      "0: 640x640 2 rolled_in_scales, 17.5ms\n",
      "Speed: 4.6ms preprocess, 17.5ms inference, 3.6ms postprocess per image at shape (1, 3, 640, 640)\n"
     ]
    },
    {
     "name": "stderr",
     "output_type": "stream",
     "text": [
      "Processing:  74%|████████████████████████████████████████████████▋                 | 1327/1800 [05:12<01:39,  4.77it/s]"
     ]
    },
    {
     "name": "stdout",
     "output_type": "stream",
     "text": [
      "\n",
      "0: 640x640 2 rolled_in_scales, 14.9ms\n",
      "Speed: 5.4ms preprocess, 14.9ms inference, 4.4ms postprocess per image at shape (1, 3, 640, 640)\n"
     ]
    },
    {
     "name": "stderr",
     "output_type": "stream",
     "text": [
      "Processing:  74%|████████████████████████████████████████████████▋                 | 1328/1800 [05:12<01:35,  4.96it/s]"
     ]
    },
    {
     "name": "stdout",
     "output_type": "stream",
     "text": [
      "\n",
      "0: 640x640 7 rolled_in_scales, 17.9ms\n",
      "Speed: 5.0ms preprocess, 17.9ms inference, 3.8ms postprocess per image at shape (1, 3, 640, 640)\n"
     ]
    },
    {
     "name": "stderr",
     "output_type": "stream",
     "text": [
      "Processing:  74%|████████████████████████████████████████████████▋                 | 1329/1800 [05:13<02:19,  3.37it/s]"
     ]
    },
    {
     "name": "stdout",
     "output_type": "stream",
     "text": [
      "\n",
      "0: 640x640 2 rolled_in_scales, 14.7ms\n",
      "Speed: 5.6ms preprocess, 14.7ms inference, 4.1ms postprocess per image at shape (1, 3, 640, 640)\n"
     ]
    },
    {
     "name": "stderr",
     "output_type": "stream",
     "text": [
      "Processing:  74%|████████████████████████████████████████████████▊                 | 1330/1800 [05:13<02:02,  3.84it/s]"
     ]
    },
    {
     "name": "stdout",
     "output_type": "stream",
     "text": [
      "\n",
      "0: 640x640 3 rolled_in_scales, 14.1ms\n",
      "Speed: 5.1ms preprocess, 14.1ms inference, 3.9ms postprocess per image at shape (1, 3, 640, 640)\n"
     ]
    },
    {
     "name": "stderr",
     "output_type": "stream",
     "text": [
      "Processing:  74%|████████████████████████████████████████████████▊                 | 1331/1800 [05:13<01:59,  3.93it/s]"
     ]
    },
    {
     "name": "stdout",
     "output_type": "stream",
     "text": [
      "\n",
      "0: 640x640 3 rolled_in_scales, 20.4ms\n",
      "Speed: 4.6ms preprocess, 20.4ms inference, 3.6ms postprocess per image at shape (1, 3, 640, 640)\n"
     ]
    },
    {
     "name": "stderr",
     "output_type": "stream",
     "text": [
      "Processing:  74%|████████████████████████████████████████████████▊                 | 1332/1800 [05:14<01:57,  3.98it/s]"
     ]
    },
    {
     "name": "stdout",
     "output_type": "stream",
     "text": [
      "\n",
      "0: 640x640 2 rolled_in_scales, 19.6ms\n",
      "Speed: 4.5ms preprocess, 19.6ms inference, 4.4ms postprocess per image at shape (1, 3, 640, 640)\n"
     ]
    },
    {
     "name": "stderr",
     "output_type": "stream",
     "text": [
      "Processing:  74%|████████████████████████████████████████████████▉                 | 1333/1800 [05:14<01:45,  4.42it/s]"
     ]
    },
    {
     "name": "stdout",
     "output_type": "stream",
     "text": [
      "\n",
      "0: 640x640 2 rolled_in_scales, 18.1ms\n",
      "Speed: 5.4ms preprocess, 18.1ms inference, 3.3ms postprocess per image at shape (1, 3, 640, 640)\n"
     ]
    },
    {
     "name": "stderr",
     "output_type": "stream",
     "text": [
      "Processing:  74%|████████████████████████████████████████████████▉                 | 1334/1800 [05:14<01:38,  4.73it/s]"
     ]
    },
    {
     "name": "stdout",
     "output_type": "stream",
     "text": [
      "\n",
      "0: 640x640 1 rolled_in_scale, 16.7ms\n",
      "Speed: 4.0ms preprocess, 16.7ms inference, 2.3ms postprocess per image at shape (1, 3, 640, 640)\n",
      "\n",
      "0: 640x640 3 rolled_in_scales, 17.9ms\n",
      "Speed: 3.9ms preprocess, 17.9ms inference, 3.5ms postprocess per image at shape (1, 3, 640, 640)\n"
     ]
    },
    {
     "name": "stderr",
     "output_type": "stream",
     "text": [
      "Processing:  74%|████████████████████████████████████████████████▉                 | 1336/1800 [05:14<01:28,  5.23it/s]"
     ]
    },
    {
     "name": "stdout",
     "output_type": "stream",
     "text": [
      "\n",
      "0: 640x640 2 rolled_in_scales, 16.1ms\n",
      "Speed: 5.6ms preprocess, 16.1ms inference, 2.8ms postprocess per image at shape (1, 3, 640, 640)\n"
     ]
    },
    {
     "name": "stderr",
     "output_type": "stream",
     "text": [
      "Processing:  74%|█████████████████████████████████████████████████                 | 1337/1800 [05:14<01:25,  5.41it/s]"
     ]
    },
    {
     "name": "stdout",
     "output_type": "stream",
     "text": [
      "\n",
      "0: 640x640 2 rolled_in_scales, 18.6ms\n",
      "Speed: 4.7ms preprocess, 18.6ms inference, 3.9ms postprocess per image at shape (1, 3, 640, 640)\n"
     ]
    },
    {
     "name": "stderr",
     "output_type": "stream",
     "text": [
      "Processing:  74%|█████████████████████████████████████████████████                 | 1338/1800 [05:15<01:24,  5.47it/s]"
     ]
    },
    {
     "name": "stdout",
     "output_type": "stream",
     "text": [
      "\n",
      "0: 640x640 3 rolled_in_scales, 17.3ms\n",
      "Speed: 4.9ms preprocess, 17.3ms inference, 3.2ms postprocess per image at shape (1, 3, 640, 640)\n"
     ]
    },
    {
     "name": "stderr",
     "output_type": "stream",
     "text": [
      "Processing:  74%|█████████████████████████████████████████████████                 | 1339/1800 [05:15<01:30,  5.08it/s]"
     ]
    },
    {
     "name": "stdout",
     "output_type": "stream",
     "text": [
      "\n",
      "0: 640x640 4 rolled_in_scales, 17.9ms\n",
      "Speed: 5.7ms preprocess, 17.9ms inference, 3.9ms postprocess per image at shape (1, 3, 640, 640)\n"
     ]
    },
    {
     "name": "stderr",
     "output_type": "stream",
     "text": [
      "Processing:  74%|█████████████████████████████████████████████████▏                | 1340/1800 [05:15<01:47,  4.27it/s]"
     ]
    },
    {
     "name": "stdout",
     "output_type": "stream",
     "text": [
      "\n",
      "0: 640x640 2 rolled_in_scales, 15.4ms\n",
      "Speed: 4.5ms preprocess, 15.4ms inference, 3.1ms postprocess per image at shape (1, 3, 640, 640)\n"
     ]
    },
    {
     "name": "stderr",
     "output_type": "stream",
     "text": [
      "Processing:  74%|█████████████████████████████████████████████████▏                | 1341/1800 [05:15<01:38,  4.66it/s]"
     ]
    },
    {
     "name": "stdout",
     "output_type": "stream",
     "text": [
      "\n",
      "0: 640x640 2 rolled_in_scales, 16.4ms\n",
      "Speed: 5.0ms preprocess, 16.4ms inference, 3.5ms postprocess per image at shape (1, 3, 640, 640)\n"
     ]
    },
    {
     "name": "stderr",
     "output_type": "stream",
     "text": [
      "Processing:  75%|█████████████████████████████████████████████████▏                | 1342/1800 [05:16<01:32,  4.95it/s]"
     ]
    },
    {
     "name": "stdout",
     "output_type": "stream",
     "text": [
      "\n",
      "0: 640x640 3 rolled_in_scales, 15.6ms\n",
      "Speed: 4.7ms preprocess, 15.6ms inference, 3.3ms postprocess per image at shape (1, 3, 640, 640)\n"
     ]
    },
    {
     "name": "stderr",
     "output_type": "stream",
     "text": [
      "Processing:  75%|█████████████████████████████████████████████████▏                | 1343/1800 [05:16<01:36,  4.72it/s]"
     ]
    },
    {
     "name": "stdout",
     "output_type": "stream",
     "text": [
      "\n",
      "0: 640x640 2 rolled_in_scales, 20.2ms\n",
      "Speed: 5.0ms preprocess, 20.2ms inference, 3.0ms postprocess per image at shape (1, 3, 640, 640)\n"
     ]
    },
    {
     "name": "stderr",
     "output_type": "stream",
     "text": [
      "Processing:  75%|█████████████████████████████████████████████████▎                | 1344/1800 [05:16<01:32,  4.94it/s]"
     ]
    },
    {
     "name": "stdout",
     "output_type": "stream",
     "text": [
      "\n",
      "0: 640x640 2 rolled_in_scales, 15.9ms\n",
      "Speed: 5.2ms preprocess, 15.9ms inference, 3.3ms postprocess per image at shape (1, 3, 640, 640)\n"
     ]
    },
    {
     "name": "stderr",
     "output_type": "stream",
     "text": [
      "Processing:  75%|█████████████████████████████████████████████████▎                | 1345/1800 [05:16<01:27,  5.21it/s]"
     ]
    },
    {
     "name": "stdout",
     "output_type": "stream",
     "text": [
      "\n",
      "0: 640x640 3 rolled_in_scales, 18.5ms\n",
      "Speed: 4.4ms preprocess, 18.5ms inference, 3.4ms postprocess per image at shape (1, 3, 640, 640)\n"
     ]
    },
    {
     "name": "stderr",
     "output_type": "stream",
     "text": [
      "Processing:  75%|█████████████████████████████████████████████████▎                | 1346/1800 [05:16<01:34,  4.80it/s]"
     ]
    },
    {
     "name": "stdout",
     "output_type": "stream",
     "text": [
      "\n",
      "0: 640x640 3 rolled_in_scales, 16.5ms\n",
      "Speed: 4.9ms preprocess, 16.5ms inference, 3.6ms postprocess per image at shape (1, 3, 640, 640)\n"
     ]
    },
    {
     "name": "stderr",
     "output_type": "stream",
     "text": [
      "Processing:  75%|█████████████████████████████████████████████████▍                | 1347/1800 [05:17<01:38,  4.59it/s]"
     ]
    },
    {
     "name": "stdout",
     "output_type": "stream",
     "text": [
      "\n",
      "0: 640x640 4 rolled_in_scales, 17.4ms\n",
      "Speed: 5.3ms preprocess, 17.4ms inference, 3.4ms postprocess per image at shape (1, 3, 640, 640)\n"
     ]
    },
    {
     "name": "stderr",
     "output_type": "stream",
     "text": [
      "Processing:  75%|█████████████████████████████████████████████████▍                | 1348/1800 [05:17<01:51,  4.04it/s]"
     ]
    },
    {
     "name": "stdout",
     "output_type": "stream",
     "text": [
      "\n",
      "0: 640x640 1 rolled_in_scale, 18.6ms\n",
      "Speed: 4.5ms preprocess, 18.6ms inference, 4.7ms postprocess per image at shape (1, 3, 640, 640)\n",
      "\n",
      "0: 640x640 2 rolled_in_scales, 19.0ms\n",
      "Speed: 5.4ms preprocess, 19.0ms inference, 3.5ms postprocess per image at shape (1, 3, 640, 640)\n"
     ]
    },
    {
     "name": "stderr",
     "output_type": "stream",
     "text": [
      "Processing:  75%|█████████████████████████████████████████████████▌                | 1350/1800 [05:17<01:27,  5.12it/s]"
     ]
    },
    {
     "name": "stdout",
     "output_type": "stream",
     "text": [
      "\n",
      "0: 640x640 3 rolled_in_scales, 18.3ms\n",
      "Speed: 4.8ms preprocess, 18.3ms inference, 3.3ms postprocess per image at shape (1, 3, 640, 640)\n"
     ]
    },
    {
     "name": "stderr",
     "output_type": "stream",
     "text": [
      "Processing:  75%|█████████████████████████████████████████████████▌                | 1351/1800 [05:17<01:31,  4.91it/s]"
     ]
    },
    {
     "name": "stdout",
     "output_type": "stream",
     "text": [
      "\n",
      "0: 640x640 2 rolled_in_scales, 18.9ms\n",
      "Speed: 4.6ms preprocess, 18.9ms inference, 3.8ms postprocess per image at shape (1, 3, 640, 640)\n"
     ]
    },
    {
     "name": "stderr",
     "output_type": "stream",
     "text": [
      "Processing:  75%|█████████████████████████████████████████████████▌                | 1352/1800 [05:18<01:28,  5.05it/s]"
     ]
    },
    {
     "name": "stdout",
     "output_type": "stream",
     "text": [
      "\n",
      "0: 640x640 2 rolled_in_scales, 18.4ms\n",
      "Speed: 4.3ms preprocess, 18.4ms inference, 3.9ms postprocess per image at shape (1, 3, 640, 640)\n"
     ]
    },
    {
     "name": "stderr",
     "output_type": "stream",
     "text": [
      "Processing:  75%|█████████████████████████████████████████████████▌                | 1353/1800 [05:18<01:24,  5.26it/s]"
     ]
    },
    {
     "name": "stdout",
     "output_type": "stream",
     "text": [
      "\n",
      "0: 640x640 1 inculsion, 3 rolled_in_scales, 20.0ms\n",
      "Speed: 4.7ms preprocess, 20.0ms inference, 4.2ms postprocess per image at shape (1, 3, 640, 640)\n"
     ]
    },
    {
     "name": "stderr",
     "output_type": "stream",
     "text": [
      "Processing:  75%|█████████████████████████████████████████████████▋                | 1354/1800 [05:18<01:40,  4.44it/s]"
     ]
    },
    {
     "name": "stdout",
     "output_type": "stream",
     "text": [
      "\n",
      "0: 640x640 2 rolled_in_scales, 18.0ms\n",
      "Speed: 3.7ms preprocess, 18.0ms inference, 3.2ms postprocess per image at shape (1, 3, 640, 640)\n"
     ]
    },
    {
     "name": "stderr",
     "output_type": "stream",
     "text": [
      "Processing:  75%|█████████████████████████████████████████████████▋                | 1355/1800 [05:18<01:32,  4.83it/s]"
     ]
    },
    {
     "name": "stdout",
     "output_type": "stream",
     "text": [
      "\n",
      "0: 640x640 2 rolled_in_scales, 17.0ms\n",
      "Speed: 4.3ms preprocess, 17.0ms inference, 4.4ms postprocess per image at shape (1, 3, 640, 640)\n"
     ]
    },
    {
     "name": "stderr",
     "output_type": "stream",
     "text": [
      "Processing:  75%|█████████████████████████████████████████████████▋                | 1356/1800 [05:18<01:27,  5.10it/s]"
     ]
    },
    {
     "name": "stdout",
     "output_type": "stream",
     "text": [
      "\n",
      "0: 640x640 5 rolled_in_scales, 17.0ms\n",
      "Speed: 5.0ms preprocess, 17.0ms inference, 3.6ms postprocess per image at shape (1, 3, 640, 640)\n"
     ]
    },
    {
     "name": "stderr",
     "output_type": "stream",
     "text": [
      "Processing:  75%|█████████████████████████████████████████████████▊                | 1357/1800 [05:19<01:51,  3.99it/s]"
     ]
    },
    {
     "name": "stdout",
     "output_type": "stream",
     "text": [
      "\n",
      "0: 640x640 1 rolled_in_scale, 16.7ms\n",
      "Speed: 5.2ms preprocess, 16.7ms inference, 3.4ms postprocess per image at shape (1, 3, 640, 640)\n",
      "\n",
      "0: 640x640 2 rolled_in_scales, 18.3ms\n",
      "Speed: 5.1ms preprocess, 18.3ms inference, 2.9ms postprocess per image at shape (1, 3, 640, 640)\n"
     ]
    },
    {
     "name": "stderr",
     "output_type": "stream",
     "text": [
      "Processing:  76%|█████████████████████████████████████████████████▊                | 1359/1800 [05:19<01:27,  5.04it/s]"
     ]
    },
    {
     "name": "stdout",
     "output_type": "stream",
     "text": [
      "\n",
      "0: 640x640 3 rolled_in_scales, 17.3ms\n",
      "Speed: 5.3ms preprocess, 17.3ms inference, 3.3ms postprocess per image at shape (1, 3, 640, 640)\n"
     ]
    },
    {
     "name": "stderr",
     "output_type": "stream",
     "text": [
      "Processing:  76%|█████████████████████████████████████████████████▊                | 1360/1800 [05:19<01:31,  4.80it/s]"
     ]
    },
    {
     "name": "stdout",
     "output_type": "stream",
     "text": [
      "\n",
      "0: 640x640 3 rolled_in_scales, 18.0ms\n",
      "Speed: 4.3ms preprocess, 18.0ms inference, 3.2ms postprocess per image at shape (1, 3, 640, 640)\n"
     ]
    },
    {
     "name": "stderr",
     "output_type": "stream",
     "text": [
      "Processing:  76%|█████████████████████████████████████████████████▉                | 1361/1800 [05:20<01:35,  4.58it/s]"
     ]
    },
    {
     "name": "stdout",
     "output_type": "stream",
     "text": [
      "\n",
      "0: 640x640 4 rolled_in_scales, 14.3ms\n",
      "Speed: 4.8ms preprocess, 14.3ms inference, 3.3ms postprocess per image at shape (1, 3, 640, 640)\n"
     ]
    },
    {
     "name": "stderr",
     "output_type": "stream",
     "text": [
      "Processing:  76%|█████████████████████████████████████████████████▉                | 1362/1800 [05:20<01:44,  4.18it/s]"
     ]
    },
    {
     "name": "stdout",
     "output_type": "stream",
     "text": [
      "\n",
      "0: 640x640 3 rolled_in_scales, 18.9ms\n",
      "Speed: 5.1ms preprocess, 18.9ms inference, 3.6ms postprocess per image at shape (1, 3, 640, 640)\n"
     ]
    },
    {
     "name": "stderr",
     "output_type": "stream",
     "text": [
      "Processing:  76%|█████████████████████████████████████████████████▉                | 1363/1800 [05:20<01:44,  4.17it/s]"
     ]
    },
    {
     "name": "stdout",
     "output_type": "stream",
     "text": [
      "\n",
      "0: 640x640 2 rolled_in_scales, 22.7ms\n",
      "Speed: 5.1ms preprocess, 22.7ms inference, 3.7ms postprocess per image at shape (1, 3, 640, 640)\n"
     ]
    },
    {
     "name": "stderr",
     "output_type": "stream",
     "text": [
      "Processing:  76%|██████████████████████████████████████████████████                | 1364/1800 [05:20<01:36,  4.52it/s]"
     ]
    },
    {
     "name": "stdout",
     "output_type": "stream",
     "text": [
      "\n",
      "0: 640x640 2 rolled_in_scales, 20.4ms\n",
      "Speed: 7.3ms preprocess, 20.4ms inference, 3.9ms postprocess per image at shape (1, 3, 640, 640)\n"
     ]
    },
    {
     "name": "stderr",
     "output_type": "stream",
     "text": [
      "Processing:  76%|██████████████████████████████████████████████████                | 1365/1800 [05:20<01:30,  4.82it/s]"
     ]
    },
    {
     "name": "stdout",
     "output_type": "stream",
     "text": [
      "\n",
      "0: 640x640 2 rolled_in_scales, 17.0ms\n",
      "Speed: 8.0ms preprocess, 17.0ms inference, 3.3ms postprocess per image at shape (1, 3, 640, 640)\n"
     ]
    },
    {
     "name": "stderr",
     "output_type": "stream",
     "text": [
      "Processing:  76%|██████████████████████████████████████████████████                | 1366/1800 [05:21<01:25,  5.07it/s]"
     ]
    },
    {
     "name": "stdout",
     "output_type": "stream",
     "text": [
      "\n",
      "0: 640x640 2 rolled_in_scales, 15.4ms\n",
      "Speed: 5.7ms preprocess, 15.4ms inference, 7.4ms postprocess per image at shape (1, 3, 640, 640)\n"
     ]
    },
    {
     "name": "stderr",
     "output_type": "stream",
     "text": [
      "Processing:  76%|██████████████████████████████████████████████████                | 1367/1800 [05:21<01:23,  5.19it/s]"
     ]
    },
    {
     "name": "stdout",
     "output_type": "stream",
     "text": [
      "\n",
      "0: 640x640 5 rolled_in_scales, 18.3ms\n",
      "Speed: 5.9ms preprocess, 18.3ms inference, 3.4ms postprocess per image at shape (1, 3, 640, 640)\n"
     ]
    },
    {
     "name": "stderr",
     "output_type": "stream",
     "text": [
      "Processing:  76%|██████████████████████████████████████████████████▏               | 1368/1800 [05:21<01:46,  4.06it/s]"
     ]
    },
    {
     "name": "stdout",
     "output_type": "stream",
     "text": [
      "\n",
      "0: 640x640 4 rolled_in_scales, 18.5ms\n",
      "Speed: 5.7ms preprocess, 18.5ms inference, 5.6ms postprocess per image at shape (1, 3, 640, 640)\n"
     ]
    },
    {
     "name": "stderr",
     "output_type": "stream",
     "text": [
      "Processing:  76%|██████████████████████████████████████████████████▏               | 1369/1800 [05:21<01:54,  3.76it/s]"
     ]
    },
    {
     "name": "stdout",
     "output_type": "stream",
     "text": [
      "\n",
      "0: 640x640 3 rolled_in_scales, 16.0ms\n",
      "Speed: 7.8ms preprocess, 16.0ms inference, 3.9ms postprocess per image at shape (1, 3, 640, 640)\n"
     ]
    },
    {
     "name": "stderr",
     "output_type": "stream",
     "text": [
      "Processing:  76%|██████████████████████████████████████████████████▏               | 1370/1800 [05:22<01:52,  3.83it/s]"
     ]
    },
    {
     "name": "stdout",
     "output_type": "stream",
     "text": [
      "\n",
      "0: 640x640 3 rolled_in_scales, 20.4ms\n",
      "Speed: 5.9ms preprocess, 20.4ms inference, 3.5ms postprocess per image at shape (1, 3, 640, 640)\n"
     ]
    },
    {
     "name": "stderr",
     "output_type": "stream",
     "text": [
      "Processing:  76%|██████████████████████████████████████████████████▎               | 1371/1800 [05:22<01:48,  3.96it/s]"
     ]
    },
    {
     "name": "stdout",
     "output_type": "stream",
     "text": [
      "\n",
      "0: 640x640 3 rolled_in_scales, 17.6ms\n",
      "Speed: 5.1ms preprocess, 17.6ms inference, 3.7ms postprocess per image at shape (1, 3, 640, 640)\n"
     ]
    },
    {
     "name": "stderr",
     "output_type": "stream",
     "text": [
      "Processing:  76%|██████████████████████████████████████████████████▎               | 1372/1800 [05:22<01:46,  4.02it/s]"
     ]
    },
    {
     "name": "stdout",
     "output_type": "stream",
     "text": [
      "\n",
      "0: 640x640 1 rolled_in_scale, 18.6ms\n",
      "Speed: 4.8ms preprocess, 18.6ms inference, 4.3ms postprocess per image at shape (1, 3, 640, 640)\n"
     ]
    },
    {
     "name": "stderr",
     "output_type": "stream",
     "text": [
      "Processing:  76%|██████████████████████████████████████████████████▎               | 1373/1800 [05:22<01:28,  4.81it/s]"
     ]
    },
    {
     "name": "stdout",
     "output_type": "stream",
     "text": [
      "\n",
      "0: 640x640 5 rolled_in_scales, 16.6ms\n",
      "Speed: 5.9ms preprocess, 16.6ms inference, 2.5ms postprocess per image at shape (1, 3, 640, 640)\n"
     ]
    },
    {
     "name": "stderr",
     "output_type": "stream",
     "text": [
      "Processing:  76%|██████████████████████████████████████████████████▍               | 1374/1800 [05:23<01:51,  3.83it/s]"
     ]
    },
    {
     "name": "stdout",
     "output_type": "stream",
     "text": [
      "\n",
      "0: 640x640 2 rolled_in_scales, 12.7ms\n",
      "Speed: 5.5ms preprocess, 12.7ms inference, 3.9ms postprocess per image at shape (1, 3, 640, 640)\n"
     ]
    },
    {
     "name": "stderr",
     "output_type": "stream",
     "text": [
      "Processing:  76%|██████████████████████████████████████████████████▍               | 1375/1800 [05:23<01:38,  4.30it/s]"
     ]
    },
    {
     "name": "stdout",
     "output_type": "stream",
     "text": [
      "\n",
      "0: 640x640 3 rolled_in_scales, 16.8ms\n",
      "Speed: 5.5ms preprocess, 16.8ms inference, 3.8ms postprocess per image at shape (1, 3, 640, 640)\n"
     ]
    },
    {
     "name": "stderr",
     "output_type": "stream",
     "text": [
      "Processing:  76%|██████████████████████████████████████████████████▍               | 1376/1800 [05:23<01:38,  4.31it/s]"
     ]
    },
    {
     "name": "stdout",
     "output_type": "stream",
     "text": [
      "\n",
      "0: 640x640 5 rolled_in_scales, 16.9ms\n",
      "Speed: 5.4ms preprocess, 16.9ms inference, 3.2ms postprocess per image at shape (1, 3, 640, 640)\n"
     ]
    },
    {
     "name": "stderr",
     "output_type": "stream",
     "text": [
      "Processing:  76%|██████████████████████████████████████████████████▍               | 1377/1800 [05:23<01:54,  3.70it/s]"
     ]
    },
    {
     "name": "stdout",
     "output_type": "stream",
     "text": [
      "\n",
      "0: 640x640 3 rolled_in_scales, 17.6ms\n",
      "Speed: 5.3ms preprocess, 17.6ms inference, 3.5ms postprocess per image at shape (1, 3, 640, 640)\n"
     ]
    },
    {
     "name": "stderr",
     "output_type": "stream",
     "text": [
      "Processing:  77%|██████████████████████████████████████████████████▌               | 1378/1800 [05:24<01:51,  3.79it/s]"
     ]
    },
    {
     "name": "stdout",
     "output_type": "stream",
     "text": [
      "\n",
      "0: 640x640 3 rolled_in_scales, 19.6ms\n",
      "Speed: 5.3ms preprocess, 19.6ms inference, 3.9ms postprocess per image at shape (1, 3, 640, 640)\n"
     ]
    },
    {
     "name": "stderr",
     "output_type": "stream",
     "text": [
      "Processing:  77%|██████████████████████████████████████████████████▌               | 1379/1800 [05:24<01:48,  3.86it/s]"
     ]
    },
    {
     "name": "stdout",
     "output_type": "stream",
     "text": [
      "\n",
      "0: 640x640 3 rolled_in_scales, 18.0ms\n",
      "Speed: 5.7ms preprocess, 18.0ms inference, 3.1ms postprocess per image at shape (1, 3, 640, 640)\n"
     ]
    },
    {
     "name": "stderr",
     "output_type": "stream",
     "text": [
      "Processing:  77%|██████████████████████████████████████████████████▌               | 1380/1800 [05:24<01:47,  3.90it/s]"
     ]
    },
    {
     "name": "stdout",
     "output_type": "stream",
     "text": [
      "\n",
      "0: 640x640 4 rolled_in_scales, 83.7ms\n",
      "Speed: 5.8ms preprocess, 83.7ms inference, 16.5ms postprocess per image at shape (1, 3, 640, 640)\n"
     ]
    },
    {
     "name": "stderr",
     "output_type": "stream",
     "text": [
      "Processing:  77%|██████████████████████████████████████████████████▋               | 1381/1800 [05:25<02:12,  3.15it/s]"
     ]
    },
    {
     "name": "stdout",
     "output_type": "stream",
     "text": [
      "\n",
      "0: 640x640 5 rolled_in_scales, 17.1ms\n",
      "Speed: 6.1ms preprocess, 17.1ms inference, 3.7ms postprocess per image at shape (1, 3, 640, 640)\n"
     ]
    },
    {
     "name": "stderr",
     "output_type": "stream",
     "text": [
      "Processing:  77%|██████████████████████████████████████████████████▋               | 1382/1800 [05:25<02:19,  2.99it/s]"
     ]
    },
    {
     "name": "stdout",
     "output_type": "stream",
     "text": [
      "\n",
      "0: 640x640 2 rolled_in_scales, 20.4ms\n",
      "Speed: 5.4ms preprocess, 20.4ms inference, 3.3ms postprocess per image at shape (1, 3, 640, 640)\n"
     ]
    },
    {
     "name": "stderr",
     "output_type": "stream",
     "text": [
      "Processing:  77%|██████████████████████████████████████████████████▋               | 1383/1800 [05:25<01:59,  3.49it/s]"
     ]
    },
    {
     "name": "stdout",
     "output_type": "stream",
     "text": [
      "\n",
      "0: 640x640 3 rolled_in_scales, 26.6ms\n",
      "Speed: 4.8ms preprocess, 26.6ms inference, 3.2ms postprocess per image at shape (1, 3, 640, 640)\n"
     ]
    },
    {
     "name": "stderr",
     "output_type": "stream",
     "text": [
      "Processing:  77%|██████████████████████████████████████████████████▋               | 1384/1800 [05:25<01:54,  3.63it/s]"
     ]
    },
    {
     "name": "stdout",
     "output_type": "stream",
     "text": [
      "\n",
      "0: 640x640 4 rolled_in_scales, 17.6ms\n",
      "Speed: 6.6ms preprocess, 17.6ms inference, 3.3ms postprocess per image at shape (1, 3, 640, 640)\n"
     ]
    },
    {
     "name": "stderr",
     "output_type": "stream",
     "text": [
      "Processing:  77%|██████████████████████████████████████████████████▊               | 1385/1800 [05:26<01:57,  3.53it/s]"
     ]
    },
    {
     "name": "stdout",
     "output_type": "stream",
     "text": [
      "\n",
      "0: 640x640 4 rolled_in_scales, 20.0ms\n",
      "Speed: 5.2ms preprocess, 20.0ms inference, 3.9ms postprocess per image at shape (1, 3, 640, 640)\n"
     ]
    },
    {
     "name": "stderr",
     "output_type": "stream",
     "text": [
      "Processing:  77%|██████████████████████████████████████████████████▊               | 1386/1800 [05:26<02:02,  3.38it/s]"
     ]
    },
    {
     "name": "stdout",
     "output_type": "stream",
     "text": [
      "\n",
      "0: 640x640 3 rolled_in_scales, 17.9ms\n",
      "Speed: 5.4ms preprocess, 17.9ms inference, 3.0ms postprocess per image at shape (1, 3, 640, 640)\n"
     ]
    },
    {
     "name": "stderr",
     "output_type": "stream",
     "text": [
      "Processing:  77%|██████████████████████████████████████████████████▊               | 1387/1800 [05:26<01:55,  3.58it/s]"
     ]
    },
    {
     "name": "stdout",
     "output_type": "stream",
     "text": [
      "\n",
      "0: 640x640 3 rolled_in_scales, 16.3ms\n",
      "Speed: 5.7ms preprocess, 16.3ms inference, 3.8ms postprocess per image at shape (1, 3, 640, 640)\n"
     ]
    },
    {
     "name": "stderr",
     "output_type": "stream",
     "text": [
      "Processing:  77%|██████████████████████████████████████████████████▉               | 1388/1800 [05:27<01:50,  3.74it/s]"
     ]
    },
    {
     "name": "stdout",
     "output_type": "stream",
     "text": [
      "\n",
      "0: 640x640 4 rolled_in_scales, 18.6ms\n",
      "Speed: 6.5ms preprocess, 18.6ms inference, 3.2ms postprocess per image at shape (1, 3, 640, 640)\n"
     ]
    },
    {
     "name": "stderr",
     "output_type": "stream",
     "text": [
      "Processing:  77%|██████████████████████████████████████████████████▉               | 1389/1800 [05:27<01:55,  3.57it/s]"
     ]
    },
    {
     "name": "stdout",
     "output_type": "stream",
     "text": [
      "\n",
      "0: 640x640 2 rolled_in_scales, 15.7ms\n",
      "Speed: 5.3ms preprocess, 15.7ms inference, 3.0ms postprocess per image at shape (1, 3, 640, 640)\n"
     ]
    },
    {
     "name": "stderr",
     "output_type": "stream",
     "text": [
      "Processing:  77%|██████████████████████████████████████████████████▉               | 1390/1800 [05:27<01:40,  4.07it/s]"
     ]
    },
    {
     "name": "stdout",
     "output_type": "stream",
     "text": [
      "\n",
      "0: 640x640 3 rolled_in_scales, 15.8ms\n",
      "Speed: 4.8ms preprocess, 15.8ms inference, 3.7ms postprocess per image at shape (1, 3, 640, 640)\n"
     ]
    },
    {
     "name": "stderr",
     "output_type": "stream",
     "text": [
      "Processing:  77%|███████████████████████████████████████████████████               | 1391/1800 [05:27<01:39,  4.11it/s]"
     ]
    },
    {
     "name": "stdout",
     "output_type": "stream",
     "text": [
      "\n",
      "0: 640x640 3 rolled_in_scales, 24.5ms\n",
      "Speed: 5.2ms preprocess, 24.5ms inference, 2.9ms postprocess per image at shape (1, 3, 640, 640)\n"
     ]
    },
    {
     "name": "stderr",
     "output_type": "stream",
     "text": [
      "Processing:  77%|███████████████████████████████████████████████████               | 1392/1800 [05:28<01:41,  4.03it/s]"
     ]
    },
    {
     "name": "stdout",
     "output_type": "stream",
     "text": [
      "\n",
      "0: 640x640 2 rolled_in_scales, 18.4ms\n",
      "Speed: 5.1ms preprocess, 18.4ms inference, 4.0ms postprocess per image at shape (1, 3, 640, 640)\n"
     ]
    },
    {
     "name": "stderr",
     "output_type": "stream",
     "text": [
      "Processing:  77%|███████████████████████████████████████████████████               | 1393/1800 [05:28<01:32,  4.38it/s]"
     ]
    },
    {
     "name": "stdout",
     "output_type": "stream",
     "text": [
      "\n",
      "0: 640x640 3 rolled_in_scales, 16.6ms\n",
      "Speed: 5.4ms preprocess, 16.6ms inference, 3.4ms postprocess per image at shape (1, 3, 640, 640)\n"
     ]
    },
    {
     "name": "stderr",
     "output_type": "stream",
     "text": [
      "Processing:  77%|███████████████████████████████████████████████████               | 1394/1800 [05:28<01:36,  4.21it/s]"
     ]
    },
    {
     "name": "stdout",
     "output_type": "stream",
     "text": [
      "\n",
      "0: 640x640 3 rolled_in_scales, 30.9ms\n",
      "Speed: 5.3ms preprocess, 30.9ms inference, 3.2ms postprocess per image at shape (1, 3, 640, 640)\n"
     ]
    },
    {
     "name": "stderr",
     "output_type": "stream",
     "text": [
      "Processing:  78%|███████████████████████████████████████████████████▏              | 1395/1800 [05:28<01:39,  4.07it/s]"
     ]
    },
    {
     "name": "stdout",
     "output_type": "stream",
     "text": [
      "\n",
      "0: 640x640 5 rolled_in_scales, 18.0ms\n",
      "Speed: 5.2ms preprocess, 18.0ms inference, 4.9ms postprocess per image at shape (1, 3, 640, 640)\n"
     ]
    },
    {
     "name": "stderr",
     "output_type": "stream",
     "text": [
      "Processing:  78%|███████████████████████████████████████████████████▏              | 1396/1800 [05:29<01:58,  3.42it/s]"
     ]
    },
    {
     "name": "stdout",
     "output_type": "stream",
     "text": [
      "\n",
      "0: 640x640 4 rolled_in_scales, 18.3ms\n",
      "Speed: 6.5ms preprocess, 18.3ms inference, 3.8ms postprocess per image at shape (1, 3, 640, 640)\n"
     ]
    },
    {
     "name": "stderr",
     "output_type": "stream",
     "text": [
      "Processing:  78%|███████████████████████████████████████████████████▏              | 1397/1800 [05:29<01:58,  3.41it/s]"
     ]
    },
    {
     "name": "stdout",
     "output_type": "stream",
     "text": [
      "\n",
      "0: 640x640 5 rolled_in_scales, 21.3ms\n",
      "Speed: 5.1ms preprocess, 21.3ms inference, 5.4ms postprocess per image at shape (1, 3, 640, 640)\n"
     ]
    },
    {
     "name": "stderr",
     "output_type": "stream",
     "text": [
      "Processing:  78%|███████████████████████████████████████████████████▎              | 1398/1800 [05:29<02:09,  3.10it/s]"
     ]
    },
    {
     "name": "stdout",
     "output_type": "stream",
     "text": [
      "\n",
      "0: 640x640 5 rolled_in_scales, 20.0ms\n",
      "Speed: 4.9ms preprocess, 20.0ms inference, 3.2ms postprocess per image at shape (1, 3, 640, 640)\n"
     ]
    },
    {
     "name": "stderr",
     "output_type": "stream",
     "text": [
      "Processing:  78%|███████████████████████████████████████████████████▎              | 1399/1800 [05:30<02:16,  2.93it/s]"
     ]
    },
    {
     "name": "stdout",
     "output_type": "stream",
     "text": [
      "\n",
      "0: 640x640 3 rolled_in_scales, 17.4ms\n",
      "Speed: 5.4ms preprocess, 17.4ms inference, 4.5ms postprocess per image at shape (1, 3, 640, 640)\n"
     ]
    },
    {
     "name": "stderr",
     "output_type": "stream",
     "text": [
      "Processing:  78%|███████████████████████████████████████████████████▎              | 1400/1800 [05:30<02:05,  3.18it/s]"
     ]
    },
    {
     "name": "stdout",
     "output_type": "stream",
     "text": [
      "\n",
      "0: 640x640 4 rolled_in_scales, 17.9ms\n",
      "Speed: 5.2ms preprocess, 17.9ms inference, 3.7ms postprocess per image at shape (1, 3, 640, 640)\n"
     ]
    },
    {
     "name": "stderr",
     "output_type": "stream",
     "text": [
      "Processing:  78%|███████████████████████████████████████████████████▎              | 1401/1800 [05:30<02:03,  3.23it/s]"
     ]
    },
    {
     "name": "stdout",
     "output_type": "stream",
     "text": [
      "\n",
      "0: 640x640 2 rolled_in_scales, 18.8ms\n",
      "Speed: 4.8ms preprocess, 18.8ms inference, 4.3ms postprocess per image at shape (1, 3, 640, 640)\n"
     ]
    },
    {
     "name": "stderr",
     "output_type": "stream",
     "text": [
      "Processing:  78%|███████████████████████████████████████████████████▍              | 1402/1800 [05:30<01:46,  3.73it/s]"
     ]
    },
    {
     "name": "stdout",
     "output_type": "stream",
     "text": [
      "\n",
      "0: 640x640 2 rolled_in_scales, 108.3ms\n",
      "Speed: 5.8ms preprocess, 108.3ms inference, 18.0ms postprocess per image at shape (1, 3, 640, 640)\n"
     ]
    },
    {
     "name": "stderr",
     "output_type": "stream",
     "text": [
      "Processing:  78%|███████████████████████████████████████████████████▍              | 1403/1800 [05:31<01:50,  3.58it/s]"
     ]
    },
    {
     "name": "stdout",
     "output_type": "stream",
     "text": [
      "\n",
      "0: 640x640 2 rolled_in_scales, 17.7ms\n",
      "Speed: 4.8ms preprocess, 17.7ms inference, 2.9ms postprocess per image at shape (1, 3, 640, 640)\n"
     ]
    },
    {
     "name": "stderr",
     "output_type": "stream",
     "text": [
      "Processing:  78%|███████████████████████████████████████████████████▍              | 1404/1800 [05:31<01:38,  4.02it/s]"
     ]
    },
    {
     "name": "stdout",
     "output_type": "stream",
     "text": [
      "\n",
      "0: 640x640 3 rolled_in_scales, 18.4ms\n",
      "Speed: 4.5ms preprocess, 18.4ms inference, 3.3ms postprocess per image at shape (1, 3, 640, 640)\n"
     ]
    },
    {
     "name": "stderr",
     "output_type": "stream",
     "text": [
      "Processing:  78%|███████████████████████████████████████████████████▌              | 1405/1800 [05:31<01:37,  4.05it/s]"
     ]
    },
    {
     "name": "stdout",
     "output_type": "stream",
     "text": [
      "\n",
      "0: 640x640 3 rolled_in_scales, 18.9ms\n",
      "Speed: 4.8ms preprocess, 18.9ms inference, 6.7ms postprocess per image at shape (1, 3, 640, 640)\n"
     ]
    },
    {
     "name": "stderr",
     "output_type": "stream",
     "text": [
      "Processing:  78%|███████████████████████████████████████████████████▌              | 1406/1800 [05:31<01:34,  4.16it/s]"
     ]
    },
    {
     "name": "stdout",
     "output_type": "stream",
     "text": [
      "\n",
      "0: 640x640 3 rolled_in_scales, 24.2ms\n",
      "Speed: 5.9ms preprocess, 24.2ms inference, 3.5ms postprocess per image at shape (1, 3, 640, 640)\n"
     ]
    },
    {
     "name": "stderr",
     "output_type": "stream",
     "text": [
      "Processing:  78%|███████████████████████████████████████████████████▌              | 1407/1800 [05:32<01:34,  4.17it/s]"
     ]
    },
    {
     "name": "stdout",
     "output_type": "stream",
     "text": [
      "\n",
      "0: 640x640 3 rolled_in_scales, 17.0ms\n",
      "Speed: 5.7ms preprocess, 17.0ms inference, 3.3ms postprocess per image at shape (1, 3, 640, 640)\n"
     ]
    },
    {
     "name": "stderr",
     "output_type": "stream",
     "text": [
      "Processing:  78%|███████████████████████████████████████████████████▋              | 1408/1800 [05:32<01:34,  4.13it/s]"
     ]
    },
    {
     "name": "stdout",
     "output_type": "stream",
     "text": [
      "\n",
      "0: 640x640 2 rolled_in_scales, 17.2ms\n",
      "Speed: 5.0ms preprocess, 17.2ms inference, 3.9ms postprocess per image at shape (1, 3, 640, 640)\n"
     ]
    },
    {
     "name": "stderr",
     "output_type": "stream",
     "text": [
      "Processing:  78%|███████████████████████████████████████████████████▋              | 1409/1800 [05:32<01:25,  4.55it/s]"
     ]
    },
    {
     "name": "stdout",
     "output_type": "stream",
     "text": [
      "\n",
      "0: 640x640 1 rolled_in_scale, 19.4ms\n",
      "Speed: 4.9ms preprocess, 19.4ms inference, 3.8ms postprocess per image at shape (1, 3, 640, 640)\n"
     ]
    },
    {
     "name": "stderr",
     "output_type": "stream",
     "text": [
      "Processing:  78%|███████████████████████████████████████████████████▋              | 1410/1800 [05:32<01:12,  5.40it/s]"
     ]
    },
    {
     "name": "stdout",
     "output_type": "stream",
     "text": [
      "\n",
      "0: 640x640 3 rolled_in_scales, 19.4ms\n",
      "Speed: 5.2ms preprocess, 19.4ms inference, 4.2ms postprocess per image at shape (1, 3, 640, 640)\n"
     ]
    },
    {
     "name": "stderr",
     "output_type": "stream",
     "text": [
      "Processing:  78%|███████████████████████████████████████████████████▋              | 1411/1800 [05:32<01:19,  4.92it/s]"
     ]
    },
    {
     "name": "stdout",
     "output_type": "stream",
     "text": [
      "\n",
      "0: 640x640 4 rolled_in_scales, 17.5ms\n",
      "Speed: 4.9ms preprocess, 17.5ms inference, 3.5ms postprocess per image at shape (1, 3, 640, 640)\n"
     ]
    },
    {
     "name": "stderr",
     "output_type": "stream",
     "text": [
      "Processing:  78%|███████████████████████████████████████████████████▊              | 1412/1800 [05:33<01:29,  4.31it/s]"
     ]
    },
    {
     "name": "stdout",
     "output_type": "stream",
     "text": [
      "\n",
      "0: 640x640 2 rolled_in_scales, 16.6ms\n",
      "Speed: 5.3ms preprocess, 16.6ms inference, 3.3ms postprocess per image at shape (1, 3, 640, 640)\n"
     ]
    },
    {
     "name": "stderr",
     "output_type": "stream",
     "text": [
      "Processing:  78%|███████████████████████████████████████████████████▊              | 1413/1800 [05:33<01:22,  4.68it/s]"
     ]
    },
    {
     "name": "stdout",
     "output_type": "stream",
     "text": [
      "\n",
      "0: 640x640 2 rolled_in_scales, 18.4ms\n",
      "Speed: 5.5ms preprocess, 18.4ms inference, 3.3ms postprocess per image at shape (1, 3, 640, 640)\n"
     ]
    },
    {
     "name": "stderr",
     "output_type": "stream",
     "text": [
      "Processing:  79%|███████████████████████████████████████████████████▊              | 1414/1800 [05:33<01:17,  4.98it/s]"
     ]
    },
    {
     "name": "stdout",
     "output_type": "stream",
     "text": [
      "\n",
      "0: 640x640 3 rolled_in_scales, 19.0ms\n",
      "Speed: 6.0ms preprocess, 19.0ms inference, 3.4ms postprocess per image at shape (1, 3, 640, 640)\n"
     ]
    },
    {
     "name": "stderr",
     "output_type": "stream",
     "text": [
      "Processing:  79%|███████████████████████████████████████████████████▉              | 1415/1800 [05:33<01:23,  4.61it/s]"
     ]
    },
    {
     "name": "stdout",
     "output_type": "stream",
     "text": [
      "\n",
      "0: 640x640 2 rolled_in_scales, 17.5ms\n",
      "Speed: 5.5ms preprocess, 17.5ms inference, 3.7ms postprocess per image at shape (1, 3, 640, 640)\n"
     ]
    },
    {
     "name": "stderr",
     "output_type": "stream",
     "text": [
      "Processing:  79%|███████████████████████████████████████████████████▉              | 1416/1800 [05:33<01:17,  4.94it/s]"
     ]
    },
    {
     "name": "stdout",
     "output_type": "stream",
     "text": [
      "\n",
      "0: 640x640 1 rolled_in_scale, 17.2ms\n",
      "Speed: 5.2ms preprocess, 17.2ms inference, 3.4ms postprocess per image at shape (1, 3, 640, 640)\n"
     ]
    },
    {
     "name": "stderr",
     "output_type": "stream",
     "text": [
      "Processing:  79%|███████████████████████████████████████████████████▉              | 1417/1800 [05:34<01:05,  5.81it/s]"
     ]
    },
    {
     "name": "stdout",
     "output_type": "stream",
     "text": [
      "\n",
      "0: 640x640 3 rolled_in_scales, 17.8ms\n",
      "Speed: 4.8ms preprocess, 17.8ms inference, 4.2ms postprocess per image at shape (1, 3, 640, 640)\n"
     ]
    },
    {
     "name": "stderr",
     "output_type": "stream",
     "text": [
      "Processing:  79%|███████████████████████████████████████████████████▉              | 1418/1800 [05:34<01:14,  5.13it/s]"
     ]
    },
    {
     "name": "stdout",
     "output_type": "stream",
     "text": [
      "\n",
      "0: 640x640 2 rolled_in_scales, 16.4ms\n",
      "Speed: 4.2ms preprocess, 16.4ms inference, 4.1ms postprocess per image at shape (1, 3, 640, 640)\n"
     ]
    },
    {
     "name": "stderr",
     "output_type": "stream",
     "text": [
      "Processing:  79%|████████████████████████████████████████████████████              | 1419/1800 [05:34<01:11,  5.29it/s]"
     ]
    },
    {
     "name": "stdout",
     "output_type": "stream",
     "text": [
      "\n",
      "0: 640x640 2 rolled_in_scales, 17.5ms\n",
      "Speed: 5.3ms preprocess, 17.5ms inference, 3.6ms postprocess per image at shape (1, 3, 640, 640)\n"
     ]
    },
    {
     "name": "stderr",
     "output_type": "stream",
     "text": [
      "Processing:  79%|████████████████████████████████████████████████████              | 1420/1800 [05:34<01:09,  5.45it/s]"
     ]
    },
    {
     "name": "stdout",
     "output_type": "stream",
     "text": [
      "\n",
      "0: 640x640 3 rolled_in_scales, 12.4ms\n",
      "Speed: 5.3ms preprocess, 12.4ms inference, 4.6ms postprocess per image at shape (1, 3, 640, 640)\n"
     ]
    },
    {
     "name": "stderr",
     "output_type": "stream",
     "text": [
      "Processing:  79%|████████████████████████████████████████████████████              | 1421/1800 [05:34<01:14,  5.09it/s]"
     ]
    },
    {
     "name": "stdout",
     "output_type": "stream",
     "text": [
      "\n",
      "0: 640x640 2 rolled_in_scales, 15.2ms\n",
      "Speed: 4.7ms preprocess, 15.2ms inference, 4.0ms postprocess per image at shape (1, 3, 640, 640)\n"
     ]
    },
    {
     "name": "stderr",
     "output_type": "stream",
     "text": [
      "Processing:  79%|████████████████████████████████████████████████████▏             | 1422/1800 [05:35<01:11,  5.27it/s]"
     ]
    },
    {
     "name": "stdout",
     "output_type": "stream",
     "text": [
      "\n",
      "0: 640x640 2 rolled_in_scales, 13.4ms\n",
      "Speed: 5.6ms preprocess, 13.4ms inference, 3.4ms postprocess per image at shape (1, 3, 640, 640)\n"
     ]
    },
    {
     "name": "stderr",
     "output_type": "stream",
     "text": [
      "Processing:  79%|████████████████████████████████████████████████████▏             | 1423/1800 [05:35<01:09,  5.42it/s]"
     ]
    },
    {
     "name": "stdout",
     "output_type": "stream",
     "text": [
      "\n",
      "0: 640x640 2 rolled_in_scales, 23.8ms\n",
      "Speed: 5.7ms preprocess, 23.8ms inference, 3.6ms postprocess per image at shape (1, 3, 640, 640)\n"
     ]
    },
    {
     "name": "stderr",
     "output_type": "stream",
     "text": [
      "Processing:  79%|████████████████████████████████████████████████████▏             | 1424/1800 [05:35<01:10,  5.37it/s]"
     ]
    },
    {
     "name": "stdout",
     "output_type": "stream",
     "text": [
      "\n",
      "0: 640x640 2 rolled_in_scales, 16.7ms\n",
      "Speed: 4.5ms preprocess, 16.7ms inference, 3.7ms postprocess per image at shape (1, 3, 640, 640)\n"
     ]
    },
    {
     "name": "stderr",
     "output_type": "stream",
     "text": [
      "Processing:  79%|████████████████████████████████████████████████████▎             | 1425/1800 [05:35<01:08,  5.49it/s]"
     ]
    },
    {
     "name": "stdout",
     "output_type": "stream",
     "text": [
      "\n",
      "0: 640x640 1 inculsion, 2 rolled_in_scales, 19.0ms\n",
      "Speed: 5.0ms preprocess, 19.0ms inference, 3.2ms postprocess per image at shape (1, 3, 640, 640)\n"
     ]
    },
    {
     "name": "stderr",
     "output_type": "stream",
     "text": [
      "Processing:  79%|████████████████████████████████████████████████████▎             | 1426/1800 [05:35<01:12,  5.13it/s]"
     ]
    },
    {
     "name": "stdout",
     "output_type": "stream",
     "text": [
      "\n",
      "0: 640x640 1 patches, 1 rolled_in_scale, 16.8ms\n",
      "Speed: 5.8ms preprocess, 16.8ms inference, 3.5ms postprocess per image at shape (1, 3, 640, 640)\n"
     ]
    },
    {
     "name": "stderr",
     "output_type": "stream",
     "text": [
      "Processing:  79%|████████████████████████████████████████████████████▎             | 1427/1800 [05:35<01:10,  5.27it/s]"
     ]
    },
    {
     "name": "stdout",
     "output_type": "stream",
     "text": [
      "\n",
      "0: 640x640 1 rolled_in_scale, 16.9ms\n",
      "Speed: 4.8ms preprocess, 16.9ms inference, 3.8ms postprocess per image at shape (1, 3, 640, 640)\n"
     ]
    },
    {
     "name": "stderr",
     "output_type": "stream",
     "text": [
      "Processing:  79%|████████████████████████████████████████████████████▎             | 1428/1800 [05:36<01:01,  6.05it/s]"
     ]
    },
    {
     "name": "stdout",
     "output_type": "stream",
     "text": [
      "\n",
      "0: 640x640 2 rolled_in_scales, 18.6ms\n",
      "Speed: 5.4ms preprocess, 18.6ms inference, 3.3ms postprocess per image at shape (1, 3, 640, 640)\n"
     ]
    },
    {
     "name": "stderr",
     "output_type": "stream",
     "text": [
      "Processing:  79%|████████████████████████████████████████████████████▍             | 1429/1800 [05:36<01:01,  6.00it/s]"
     ]
    },
    {
     "name": "stdout",
     "output_type": "stream",
     "text": [
      "\n",
      "0: 640x640 3 rolled_in_scales, 15.8ms\n",
      "Speed: 5.6ms preprocess, 15.8ms inference, 3.7ms postprocess per image at shape (1, 3, 640, 640)\n"
     ]
    },
    {
     "name": "stderr",
     "output_type": "stream",
     "text": [
      "Processing:  79%|████████████████████████████████████████████████████▍             | 1430/1800 [05:36<01:19,  4.65it/s]"
     ]
    },
    {
     "name": "stdout",
     "output_type": "stream",
     "text": [
      "\n",
      "0: 640x640 3 rolled_in_scales, 16.8ms\n",
      "Speed: 4.8ms preprocess, 16.8ms inference, 2.1ms postprocess per image at shape (1, 3, 640, 640)\n"
     ]
    },
    {
     "name": "stderr",
     "output_type": "stream",
     "text": [
      "Processing:  80%|████████████████████████████████████████████████████▍             | 1431/1800 [05:36<01:21,  4.52it/s]"
     ]
    },
    {
     "name": "stdout",
     "output_type": "stream",
     "text": [
      "\n",
      "0: 640x640 4 rolled_in_scales, 18.3ms\n",
      "Speed: 5.4ms preprocess, 18.3ms inference, 3.3ms postprocess per image at shape (1, 3, 640, 640)\n"
     ]
    },
    {
     "name": "stderr",
     "output_type": "stream",
     "text": [
      "Processing:  80%|████████████████████████████████████████████████████▌             | 1432/1800 [05:37<01:30,  4.06it/s]"
     ]
    },
    {
     "name": "stdout",
     "output_type": "stream",
     "text": [
      "\n",
      "0: 640x640 3 rolled_in_scales, 17.8ms\n",
      "Speed: 5.0ms preprocess, 17.8ms inference, 4.0ms postprocess per image at shape (1, 3, 640, 640)\n"
     ]
    },
    {
     "name": "stderr",
     "output_type": "stream",
     "text": [
      "Processing:  80%|████████████████████████████████████████████████████▌             | 1433/1800 [05:37<01:29,  4.08it/s]"
     ]
    },
    {
     "name": "stdout",
     "output_type": "stream",
     "text": [
      "\n",
      "0: 640x640 4 rolled_in_scales, 18.4ms\n",
      "Speed: 4.9ms preprocess, 18.4ms inference, 3.9ms postprocess per image at shape (1, 3, 640, 640)\n"
     ]
    },
    {
     "name": "stderr",
     "output_type": "stream",
     "text": [
      "Processing:  80%|████████████████████████████████████████████████████▌             | 1434/1800 [05:37<01:36,  3.78it/s]"
     ]
    },
    {
     "name": "stdout",
     "output_type": "stream",
     "text": [
      "\n",
      "0: 640x640 2 rolled_in_scales, 18.7ms\n",
      "Speed: 5.9ms preprocess, 18.7ms inference, 3.7ms postprocess per image at shape (1, 3, 640, 640)\n"
     ]
    },
    {
     "name": "stderr",
     "output_type": "stream",
     "text": [
      "Processing:  80%|████████████████████████████████████████████████████▌             | 1435/1800 [05:37<01:26,  4.23it/s]"
     ]
    },
    {
     "name": "stdout",
     "output_type": "stream",
     "text": [
      "\n",
      "0: 640x640 4 rolled_in_scales, 16.0ms\n",
      "Speed: 5.5ms preprocess, 16.0ms inference, 3.4ms postprocess per image at shape (1, 3, 640, 640)\n"
     ]
    },
    {
     "name": "stderr",
     "output_type": "stream",
     "text": [
      "Processing:  80%|████████████████████████████████████████████████████▋             | 1436/1800 [05:38<01:35,  3.83it/s]"
     ]
    },
    {
     "name": "stdout",
     "output_type": "stream",
     "text": [
      "\n",
      "0: 640x640 3 rolled_in_scales, 14.1ms\n",
      "Speed: 5.4ms preprocess, 14.1ms inference, 3.2ms postprocess per image at shape (1, 3, 640, 640)\n"
     ]
    },
    {
     "name": "stderr",
     "output_type": "stream",
     "text": [
      "Processing:  80%|████████████████████████████████████████████████████▋             | 1437/1800 [05:38<01:31,  3.97it/s]"
     ]
    },
    {
     "name": "stdout",
     "output_type": "stream",
     "text": [
      "\n",
      "0: 640x640 3 rolled_in_scales, 26.6ms\n",
      "Speed: 5.1ms preprocess, 26.6ms inference, 3.5ms postprocess per image at shape (1, 3, 640, 640)\n"
     ]
    },
    {
     "name": "stderr",
     "output_type": "stream",
     "text": [
      "Processing:  80%|████████████████████████████████████████████████████▋             | 1438/1800 [05:38<01:31,  3.98it/s]"
     ]
    },
    {
     "name": "stdout",
     "output_type": "stream",
     "text": [
      "\n",
      "0: 640x640 3 rolled_in_scales, 18.1ms\n",
      "Speed: 5.5ms preprocess, 18.1ms inference, 3.1ms postprocess per image at shape (1, 3, 640, 640)\n"
     ]
    },
    {
     "name": "stderr",
     "output_type": "stream",
     "text": [
      "Processing:  80%|████████████████████████████████████████████████████▊             | 1439/1800 [05:38<01:29,  4.05it/s]"
     ]
    },
    {
     "name": "stdout",
     "output_type": "stream",
     "text": [
      "\n",
      "0: 640x640 2 rolled_in_scales, 14.4ms\n",
      "Speed: 5.4ms preprocess, 14.4ms inference, 3.1ms postprocess per image at shape (1, 3, 640, 640)\n"
     ]
    },
    {
     "name": "stderr",
     "output_type": "stream",
     "text": [
      "Processing:  80%|████████████████████████████████████████████████████▊             | 1440/1800 [05:39<01:20,  4.49it/s]"
     ]
    },
    {
     "name": "stdout",
     "output_type": "stream",
     "text": [
      "\n",
      "0: 640x640 2 rolled_in_scales, 19.9ms\n",
      "Speed: 4.9ms preprocess, 19.9ms inference, 3.7ms postprocess per image at shape (1, 3, 640, 640)\n"
     ]
    },
    {
     "name": "stderr",
     "output_type": "stream",
     "text": [
      "Processing:  80%|████████████████████████████████████████████████████▊             | 1441/1800 [05:39<01:15,  4.76it/s]"
     ]
    },
    {
     "name": "stdout",
     "output_type": "stream",
     "text": [
      "\n",
      "0: 640x640 2 rolled_in_scales, 14.3ms\n",
      "Speed: 5.4ms preprocess, 14.3ms inference, 3.3ms postprocess per image at shape (1, 3, 640, 640)\n"
     ]
    },
    {
     "name": "stderr",
     "output_type": "stream",
     "text": [
      "Processing:  80%|████████████████████████████████████████████████████▊             | 1442/1800 [05:39<01:12,  4.96it/s]"
     ]
    },
    {
     "name": "stdout",
     "output_type": "stream",
     "text": [
      "\n",
      "0: 640x640 3 rolled_in_scales, 21.3ms\n",
      "Speed: 4.3ms preprocess, 21.3ms inference, 4.3ms postprocess per image at shape (1, 3, 640, 640)\n"
     ]
    },
    {
     "name": "stderr",
     "output_type": "stream",
     "text": [
      "Processing:  80%|████████████████████████████████████████████████████▉             | 1443/1800 [05:39<01:16,  4.69it/s]"
     ]
    },
    {
     "name": "stdout",
     "output_type": "stream",
     "text": [
      "\n",
      "0: 640x640 4 rolled_in_scales, 15.5ms\n",
      "Speed: 4.9ms preprocess, 15.5ms inference, 4.6ms postprocess per image at shape (1, 3, 640, 640)\n"
     ]
    },
    {
     "name": "stderr",
     "output_type": "stream",
     "text": [
      "Processing:  80%|████████████████████████████████████████████████████▉             | 1444/1800 [05:39<01:25,  4.19it/s]"
     ]
    },
    {
     "name": "stdout",
     "output_type": "stream",
     "text": [
      "\n",
      "0: 640x640 3 rolled_in_scales, 17.6ms\n",
      "Speed: 4.2ms preprocess, 17.6ms inference, 3.3ms postprocess per image at shape (1, 3, 640, 640)\n"
     ]
    },
    {
     "name": "stderr",
     "output_type": "stream",
     "text": [
      "Processing:  80%|████████████████████████████████████████████████████▉             | 1445/1800 [05:40<01:24,  4.20it/s]"
     ]
    },
    {
     "name": "stdout",
     "output_type": "stream",
     "text": [
      "\n",
      "0: 640x640 3 rolled_in_scales, 19.9ms\n",
      "Speed: 5.5ms preprocess, 19.9ms inference, 7.5ms postprocess per image at shape (1, 3, 640, 640)\n"
     ]
    },
    {
     "name": "stderr",
     "output_type": "stream",
     "text": [
      "Processing:  80%|█████████████████████████████████████████████████████             | 1446/1800 [05:40<01:25,  4.14it/s]"
     ]
    },
    {
     "name": "stdout",
     "output_type": "stream",
     "text": [
      "\n",
      "0: 640x640 3 rolled_in_scales, 21.0ms\n",
      "Speed: 5.5ms preprocess, 21.0ms inference, 3.1ms postprocess per image at shape (1, 3, 640, 640)\n"
     ]
    },
    {
     "name": "stderr",
     "output_type": "stream",
     "text": [
      "Processing:  80%|█████████████████████████████████████████████████████             | 1447/1800 [05:40<01:32,  3.80it/s]"
     ]
    },
    {
     "name": "stdout",
     "output_type": "stream",
     "text": [
      "\n",
      "0: 640x640 4 rolled_in_scales, 18.1ms\n",
      "Speed: 6.1ms preprocess, 18.1ms inference, 2.7ms postprocess per image at shape (1, 3, 640, 640)\n"
     ]
    },
    {
     "name": "stderr",
     "output_type": "stream",
     "text": [
      "Processing:  80%|█████████████████████████████████████████████████████             | 1448/1800 [05:41<01:39,  3.53it/s]"
     ]
    },
    {
     "name": "stdout",
     "output_type": "stream",
     "text": [
      "\n",
      "0: 640x640 3 rolled_in_scales, 15.8ms\n",
      "Speed: 5.1ms preprocess, 15.8ms inference, 2.9ms postprocess per image at shape (1, 3, 640, 640)\n"
     ]
    },
    {
     "name": "stderr",
     "output_type": "stream",
     "text": [
      "Processing:  80%|█████████████████████████████████████████████████████▏            | 1449/1800 [05:41<01:34,  3.71it/s]"
     ]
    },
    {
     "name": "stdout",
     "output_type": "stream",
     "text": [
      "\n",
      "0: 640x640 1 rolled_in_scale, 11.7ms\n",
      "Speed: 6.4ms preprocess, 11.7ms inference, 3.7ms postprocess per image at shape (1, 3, 640, 640)\n"
     ]
    },
    {
     "name": "stderr",
     "output_type": "stream",
     "text": [
      "Processing:  81%|█████████████████████████████████████████████████████▏            | 1450/1800 [05:41<01:17,  4.50it/s]"
     ]
    },
    {
     "name": "stdout",
     "output_type": "stream",
     "text": [
      "\n",
      "0: 640x640 1 rolled_in_scale, 16.7ms\n",
      "Speed: 5.5ms preprocess, 16.7ms inference, 3.5ms postprocess per image at shape (1, 3, 640, 640)\n"
     ]
    },
    {
     "name": "stderr",
     "output_type": "stream",
     "text": [
      "Processing:  81%|█████████████████████████████████████████████████████▏            | 1451/1800 [05:41<01:06,  5.29it/s]"
     ]
    },
    {
     "name": "stdout",
     "output_type": "stream",
     "text": [
      "\n",
      "0: 640x640 2 rolled_in_scales, 18.5ms\n",
      "Speed: 5.2ms preprocess, 18.5ms inference, 3.9ms postprocess per image at shape (1, 3, 640, 640)\n"
     ]
    },
    {
     "name": "stderr",
     "output_type": "stream",
     "text": [
      "Processing:  81%|█████████████████████████████████████████████████████▏            | 1452/1800 [05:41<01:04,  5.42it/s]"
     ]
    },
    {
     "name": "stdout",
     "output_type": "stream",
     "text": [
      "\n",
      "0: 640x640 3 rolled_in_scales, 19.2ms\n",
      "Speed: 4.5ms preprocess, 19.2ms inference, 4.0ms postprocess per image at shape (1, 3, 640, 640)\n"
     ]
    },
    {
     "name": "stderr",
     "output_type": "stream",
     "text": [
      "Processing:  81%|█████████████████████████████████████████████████████▎            | 1453/1800 [05:41<01:09,  4.97it/s]"
     ]
    },
    {
     "name": "stdout",
     "output_type": "stream",
     "text": [
      "\n",
      "0: 640x640 3 rolled_in_scales, 18.0ms\n",
      "Speed: 5.9ms preprocess, 18.0ms inference, 3.6ms postprocess per image at shape (1, 3, 640, 640)\n"
     ]
    },
    {
     "name": "stderr",
     "output_type": "stream",
     "text": [
      "Processing:  81%|█████████████████████████████████████████████████████▎            | 1454/1800 [05:42<01:14,  4.66it/s]"
     ]
    },
    {
     "name": "stdout",
     "output_type": "stream",
     "text": [
      "\n",
      "0: 640x640 1 rolled_in_scale, 23.9ms\n",
      "Speed: 4.9ms preprocess, 23.9ms inference, 3.3ms postprocess per image at shape (1, 3, 640, 640)\n",
      "\n",
      "0: 640x640 1 rolled_in_scale, 16.3ms\n",
      "Speed: 4.4ms preprocess, 16.3ms inference, 3.1ms postprocess per image at shape (1, 3, 640, 640)\n"
     ]
    },
    {
     "name": "stderr",
     "output_type": "stream",
     "text": [
      "Processing:  81%|█████████████████████████████████████████████████████▍            | 1456/1800 [05:42<00:56,  6.12it/s]"
     ]
    },
    {
     "name": "stdout",
     "output_type": "stream",
     "text": [
      "\n",
      "0: 640x640 2 rolled_in_scales, 17.6ms\n",
      "Speed: 5.4ms preprocess, 17.6ms inference, 3.3ms postprocess per image at shape (1, 3, 640, 640)\n"
     ]
    },
    {
     "name": "stderr",
     "output_type": "stream",
     "text": [
      "Processing:  81%|█████████████████████████████████████████████████████▍            | 1457/1800 [05:42<00:56,  6.05it/s]"
     ]
    },
    {
     "name": "stdout",
     "output_type": "stream",
     "text": [
      "\n",
      "0: 640x640 2 rolled_in_scales, 15.6ms\n",
      "Speed: 5.0ms preprocess, 15.6ms inference, 4.2ms postprocess per image at shape (1, 3, 640, 640)\n"
     ]
    },
    {
     "name": "stderr",
     "output_type": "stream",
     "text": [
      "Processing:  81%|█████████████████████████████████████████████████████▍            | 1458/1800 [05:42<00:56,  6.03it/s]"
     ]
    },
    {
     "name": "stdout",
     "output_type": "stream",
     "text": [
      "\n",
      "0: 640x640 2 rolled_in_scales, 18.2ms\n",
      "Speed: 5.1ms preprocess, 18.2ms inference, 8.3ms postprocess per image at shape (1, 3, 640, 640)\n"
     ]
    },
    {
     "name": "stderr",
     "output_type": "stream",
     "text": [
      "Processing:  81%|█████████████████████████████████████████████████████▍            | 1459/1800 [05:42<00:58,  5.84it/s]"
     ]
    },
    {
     "name": "stdout",
     "output_type": "stream",
     "text": [
      "\n",
      "0: 640x640 3 rolled_in_scales, 19.1ms\n",
      "Speed: 5.5ms preprocess, 19.1ms inference, 3.5ms postprocess per image at shape (1, 3, 640, 640)\n"
     ]
    },
    {
     "name": "stderr",
     "output_type": "stream",
     "text": [
      "Processing:  81%|█████████████████████████████████████████████████████▌            | 1460/1800 [05:43<01:05,  5.19it/s]"
     ]
    },
    {
     "name": "stdout",
     "output_type": "stream",
     "text": [
      "\n",
      "0: 640x640 2 rolled_in_scales, 23.8ms\n",
      "Speed: 4.7ms preprocess, 23.8ms inference, 3.4ms postprocess per image at shape (1, 3, 640, 640)\n"
     ]
    },
    {
     "name": "stderr",
     "output_type": "stream",
     "text": [
      "Processing:  81%|█████████████████████████████████████████████████████▌            | 1461/1800 [05:43<01:04,  5.28it/s]"
     ]
    },
    {
     "name": "stdout",
     "output_type": "stream",
     "text": [
      "\n",
      "0: 640x640 2 rolled_in_scales, 12.7ms\n",
      "Speed: 4.1ms preprocess, 12.7ms inference, 3.9ms postprocess per image at shape (1, 3, 640, 640)\n"
     ]
    },
    {
     "name": "stderr",
     "output_type": "stream",
     "text": [
      "Processing:  81%|█████████████████████████████████████████████████████▌            | 1462/1800 [05:43<01:01,  5.45it/s]"
     ]
    },
    {
     "name": "stdout",
     "output_type": "stream",
     "text": [
      "\n",
      "0: 640x640 2 rolled_in_scales, 19.1ms\n",
      "Speed: 5.6ms preprocess, 19.1ms inference, 3.5ms postprocess per image at shape (1, 3, 640, 640)\n"
     ]
    },
    {
     "name": "stderr",
     "output_type": "stream",
     "text": [
      "Processing:  81%|█████████████████████████████████████████████████████▋            | 1463/1800 [05:43<01:00,  5.58it/s]"
     ]
    },
    {
     "name": "stdout",
     "output_type": "stream",
     "text": [
      "\n",
      "0: 640x640 2 rolled_in_scales, 15.5ms\n",
      "Speed: 5.6ms preprocess, 15.5ms inference, 3.4ms postprocess per image at shape (1, 3, 640, 640)\n"
     ]
    },
    {
     "name": "stderr",
     "output_type": "stream",
     "text": [
      "Processing:  81%|█████████████████████████████████████████████████████▋            | 1464/1800 [05:43<00:58,  5.76it/s]"
     ]
    },
    {
     "name": "stdout",
     "output_type": "stream",
     "text": [
      "\n",
      "0: 640x640 4 rolled_in_scales, 17.3ms\n",
      "Speed: 4.5ms preprocess, 17.3ms inference, 2.3ms postprocess per image at shape (1, 3, 640, 640)\n"
     ]
    },
    {
     "name": "stderr",
     "output_type": "stream",
     "text": [
      "Processing:  81%|█████████████████████████████████████████████████████▋            | 1465/1800 [05:44<01:12,  4.61it/s]"
     ]
    },
    {
     "name": "stdout",
     "output_type": "stream",
     "text": [
      "\n",
      "0: 640x640 3 rolled_in_scales, 17.9ms\n",
      "Speed: 4.9ms preprocess, 17.9ms inference, 4.0ms postprocess per image at shape (1, 3, 640, 640)\n"
     ]
    },
    {
     "name": "stderr",
     "output_type": "stream",
     "text": [
      "Processing:  81%|█████████████████████████████████████████████████████▊            | 1466/1800 [05:44<01:14,  4.46it/s]"
     ]
    },
    {
     "name": "stdout",
     "output_type": "stream",
     "text": [
      "\n",
      "0: 640x640 2 rolled_in_scales, 15.8ms\n",
      "Speed: 4.9ms preprocess, 15.8ms inference, 3.1ms postprocess per image at shape (1, 3, 640, 640)\n"
     ]
    },
    {
     "name": "stderr",
     "output_type": "stream",
     "text": [
      "Processing:  82%|█████████████████████████████████████████████████████▊            | 1467/1800 [05:44<01:08,  4.87it/s]"
     ]
    },
    {
     "name": "stdout",
     "output_type": "stream",
     "text": [
      "\n",
      "0: 640x640 2 rolled_in_scales, 16.1ms\n",
      "Speed: 4.9ms preprocess, 16.1ms inference, 3.9ms postprocess per image at shape (1, 3, 640, 640)\n"
     ]
    },
    {
     "name": "stderr",
     "output_type": "stream",
     "text": [
      "Processing:  82%|█████████████████████████████████████████████████████▊            | 1468/1800 [05:44<01:05,  5.07it/s]"
     ]
    },
    {
     "name": "stdout",
     "output_type": "stream",
     "text": [
      "\n",
      "0: 640x640 3 rolled_in_scales, 16.8ms\n",
      "Speed: 5.5ms preprocess, 16.8ms inference, 3.2ms postprocess per image at shape (1, 3, 640, 640)\n"
     ]
    },
    {
     "name": "stderr",
     "output_type": "stream",
     "text": [
      "Processing:  82%|█████████████████████████████████████████████████████▊            | 1469/1800 [05:44<01:10,  4.72it/s]"
     ]
    },
    {
     "name": "stdout",
     "output_type": "stream",
     "text": [
      "\n",
      "0: 640x640 2 rolled_in_scales, 19.4ms\n",
      "Speed: 7.4ms preprocess, 19.4ms inference, 4.2ms postprocess per image at shape (1, 3, 640, 640)\n"
     ]
    },
    {
     "name": "stderr",
     "output_type": "stream",
     "text": [
      "Processing:  82%|█████████████████████████████████████████████████████▉            | 1470/1800 [05:45<01:06,  4.93it/s]"
     ]
    },
    {
     "name": "stdout",
     "output_type": "stream",
     "text": [
      "\n",
      "0: 640x640 4 rolled_in_scales, 18.1ms\n",
      "Speed: 5.0ms preprocess, 18.1ms inference, 4.2ms postprocess per image at shape (1, 3, 640, 640)\n"
     ]
    },
    {
     "name": "stderr",
     "output_type": "stream",
     "text": [
      "Processing:  82%|█████████████████████████████████████████████████████▉            | 1471/1800 [05:45<01:27,  3.78it/s]"
     ]
    },
    {
     "name": "stdout",
     "output_type": "stream",
     "text": [
      "\n",
      "0: 640x640 2 rolled_in_scales, 18.9ms\n",
      "Speed: 5.3ms preprocess, 18.9ms inference, 5.7ms postprocess per image at shape (1, 3, 640, 640)\n"
     ]
    },
    {
     "name": "stderr",
     "output_type": "stream",
     "text": [
      "Processing:  82%|█████████████████████████████████████████████████████▉            | 1472/1800 [05:45<01:18,  4.20it/s]"
     ]
    },
    {
     "name": "stdout",
     "output_type": "stream",
     "text": [
      "\n",
      "0: 640x640 3 rolled_in_scales, 16.7ms\n",
      "Speed: 4.6ms preprocess, 16.7ms inference, 4.0ms postprocess per image at shape (1, 3, 640, 640)\n"
     ]
    },
    {
     "name": "stderr",
     "output_type": "stream",
     "text": [
      "Processing:  82%|██████████████████████████████████████████████████████            | 1473/1800 [05:46<01:18,  4.19it/s]"
     ]
    },
    {
     "name": "stdout",
     "output_type": "stream",
     "text": [
      "\n",
      "0: 640x640 3 rolled_in_scales, 18.5ms\n",
      "Speed: 4.8ms preprocess, 18.5ms inference, 4.6ms postprocess per image at shape (1, 3, 640, 640)\n"
     ]
    },
    {
     "name": "stderr",
     "output_type": "stream",
     "text": [
      "Processing:  82%|██████████████████████████████████████████████████████            | 1474/1800 [05:46<01:18,  4.15it/s]"
     ]
    },
    {
     "name": "stdout",
     "output_type": "stream",
     "text": [
      "\n",
      "0: 640x640 2 rolled_in_scales, 15.7ms\n",
      "Speed: 4.5ms preprocess, 15.7ms inference, 2.2ms postprocess per image at shape (1, 3, 640, 640)\n"
     ]
    },
    {
     "name": "stderr",
     "output_type": "stream",
     "text": [
      "Processing:  82%|██████████████████████████████████████████████████████            | 1475/1800 [05:46<01:10,  4.58it/s]"
     ]
    },
    {
     "name": "stdout",
     "output_type": "stream",
     "text": [
      "\n",
      "0: 640x640 3 rolled_in_scales, 17.4ms\n",
      "Speed: 5.4ms preprocess, 17.4ms inference, 3.9ms postprocess per image at shape (1, 3, 640, 640)\n"
     ]
    },
    {
     "name": "stderr",
     "output_type": "stream",
     "text": [
      "Processing:  82%|██████████████████████████████████████████████████████            | 1476/1800 [05:46<01:12,  4.45it/s]"
     ]
    },
    {
     "name": "stdout",
     "output_type": "stream",
     "text": [
      "\n",
      "0: 640x640 2 rolled_in_scales, 21.7ms\n",
      "Speed: 5.8ms preprocess, 21.7ms inference, 3.5ms postprocess per image at shape (1, 3, 640, 640)\n"
     ]
    },
    {
     "name": "stderr",
     "output_type": "stream",
     "text": [
      "Processing:  82%|██████████████████████████████████████████████████████▏           | 1477/1800 [05:46<01:08,  4.73it/s]"
     ]
    },
    {
     "name": "stdout",
     "output_type": "stream",
     "text": [
      "\n",
      "0: 640x640 2 rolled_in_scales, 16.9ms\n",
      "Speed: 4.5ms preprocess, 16.9ms inference, 2.4ms postprocess per image at shape (1, 3, 640, 640)\n"
     ]
    },
    {
     "name": "stderr",
     "output_type": "stream",
     "text": [
      "Processing:  82%|██████████████████████████████████████████████████████▏           | 1478/1800 [05:47<01:03,  5.09it/s]"
     ]
    },
    {
     "name": "stdout",
     "output_type": "stream",
     "text": [
      "\n",
      "0: 640x640 2 rolled_in_scales, 13.9ms\n",
      "Speed: 5.8ms preprocess, 13.9ms inference, 3.6ms postprocess per image at shape (1, 3, 640, 640)\n"
     ]
    },
    {
     "name": "stderr",
     "output_type": "stream",
     "text": [
      "Processing:  82%|██████████████████████████████████████████████████████▏           | 1479/1800 [05:47<00:59,  5.41it/s]"
     ]
    },
    {
     "name": "stdout",
     "output_type": "stream",
     "text": [
      "\n",
      "0: 640x640 2 rolled_in_scales, 18.6ms\n",
      "Speed: 3.9ms preprocess, 18.6ms inference, 3.8ms postprocess per image at shape (1, 3, 640, 640)\n"
     ]
    },
    {
     "name": "stderr",
     "output_type": "stream",
     "text": [
      "Processing:  82%|██████████████████████████████████████████████████████▎           | 1480/1800 [05:47<00:58,  5.49it/s]"
     ]
    },
    {
     "name": "stdout",
     "output_type": "stream",
     "text": [
      "\n",
      "0: 640x640 2 rolled_in_scales, 16.9ms\n",
      "Speed: 4.9ms preprocess, 16.9ms inference, 3.4ms postprocess per image at shape (1, 3, 640, 640)\n"
     ]
    },
    {
     "name": "stderr",
     "output_type": "stream",
     "text": [
      "Processing:  82%|██████████████████████████████████████████████████████▎           | 1481/1800 [05:47<00:56,  5.62it/s]"
     ]
    },
    {
     "name": "stdout",
     "output_type": "stream",
     "text": [
      "\n",
      "0: 640x640 2 rolled_in_scales, 25.2ms\n",
      "Speed: 6.0ms preprocess, 25.2ms inference, 4.8ms postprocess per image at shape (1, 3, 640, 640)\n"
     ]
    },
    {
     "name": "stderr",
     "output_type": "stream",
     "text": [
      "Processing:  82%|██████████████████████████████████████████████████████▎           | 1482/1800 [05:47<00:57,  5.53it/s]"
     ]
    },
    {
     "name": "stdout",
     "output_type": "stream",
     "text": [
      "\n",
      "0: 640x640 2 rolled_in_scales, 17.3ms\n",
      "Speed: 5.1ms preprocess, 17.3ms inference, 4.1ms postprocess per image at shape (1, 3, 640, 640)\n"
     ]
    },
    {
     "name": "stderr",
     "output_type": "stream",
     "text": [
      "Processing:  82%|██████████████████████████████████████████████████████▍           | 1483/1800 [05:47<00:55,  5.67it/s]"
     ]
    },
    {
     "name": "stdout",
     "output_type": "stream",
     "text": [
      "\n",
      "0: 640x640 3 rolled_in_scales, 18.2ms\n",
      "Speed: 6.2ms preprocess, 18.2ms inference, 3.7ms postprocess per image at shape (1, 3, 640, 640)\n"
     ]
    },
    {
     "name": "stderr",
     "output_type": "stream",
     "text": [
      "Processing:  82%|██████████████████████████████████████████████████████▍           | 1484/1800 [05:48<01:00,  5.20it/s]"
     ]
    },
    {
     "name": "stdout",
     "output_type": "stream",
     "text": [
      "\n",
      "0: 640x640 2 rolled_in_scales, 18.0ms\n",
      "Speed: 5.3ms preprocess, 18.0ms inference, 3.3ms postprocess per image at shape (1, 3, 640, 640)\n"
     ]
    },
    {
     "name": "stderr",
     "output_type": "stream",
     "text": [
      "Processing:  82%|██████████████████████████████████████████████████████▍           | 1485/1800 [05:48<00:59,  5.34it/s]"
     ]
    },
    {
     "name": "stdout",
     "output_type": "stream",
     "text": [
      "\n",
      "0: 640x640 4 rolled_in_scales, 18.7ms\n",
      "Speed: 6.2ms preprocess, 18.7ms inference, 3.8ms postprocess per image at shape (1, 3, 640, 640)\n"
     ]
    },
    {
     "name": "stderr",
     "output_type": "stream",
     "text": [
      "Processing:  83%|██████████████████████████████████████████████████████▍           | 1486/1800 [05:48<01:09,  4.49it/s]"
     ]
    },
    {
     "name": "stdout",
     "output_type": "stream",
     "text": [
      "\n",
      "0: 640x640 2 rolled_in_scales, 16.3ms\n",
      "Speed: 5.2ms preprocess, 16.3ms inference, 3.9ms postprocess per image at shape (1, 3, 640, 640)\n"
     ]
    },
    {
     "name": "stderr",
     "output_type": "stream",
     "text": [
      "Processing:  83%|██████████████████████████████████████████████████████▌           | 1487/1800 [05:48<01:03,  4.90it/s]"
     ]
    },
    {
     "name": "stdout",
     "output_type": "stream",
     "text": [
      "\n",
      "0: 640x640 3 rolled_in_scales, 18.1ms\n",
      "Speed: 4.9ms preprocess, 18.1ms inference, 2.7ms postprocess per image at shape (1, 3, 640, 640)\n"
     ]
    },
    {
     "name": "stderr",
     "output_type": "stream",
     "text": [
      "Processing:  83%|██████████████████████████████████████████████████████▌           | 1488/1800 [05:48<01:07,  4.62it/s]"
     ]
    },
    {
     "name": "stdout",
     "output_type": "stream",
     "text": [
      "\n",
      "0: 640x640 3 rolled_in_scales, 23.1ms\n",
      "Speed: 5.5ms preprocess, 23.1ms inference, 3.6ms postprocess per image at shape (1, 3, 640, 640)\n"
     ]
    },
    {
     "name": "stderr",
     "output_type": "stream",
     "text": [
      "Processing:  83%|██████████████████████████████████████████████████████▌           | 1489/1800 [05:49<01:08,  4.51it/s]"
     ]
    },
    {
     "name": "stdout",
     "output_type": "stream",
     "text": [
      "\n",
      "0: 640x640 2 rolled_in_scales, 17.7ms\n",
      "Speed: 5.3ms preprocess, 17.7ms inference, 6.3ms postprocess per image at shape (1, 3, 640, 640)\n"
     ]
    },
    {
     "name": "stderr",
     "output_type": "stream",
     "text": [
      "Processing:  83%|██████████████████████████████████████████████████████▋           | 1490/1800 [05:49<01:05,  4.75it/s]"
     ]
    },
    {
     "name": "stdout",
     "output_type": "stream",
     "text": [
      "\n",
      "0: 640x640 3 rolled_in_scales, 17.3ms\n",
      "Speed: 5.4ms preprocess, 17.3ms inference, 3.7ms postprocess per image at shape (1, 3, 640, 640)\n"
     ]
    },
    {
     "name": "stderr",
     "output_type": "stream",
     "text": [
      "Processing:  83%|██████████████████████████████████████████████████████▋           | 1491/1800 [05:49<01:07,  4.59it/s]"
     ]
    },
    {
     "name": "stdout",
     "output_type": "stream",
     "text": [
      "\n",
      "0: 640x640 3 rolled_in_scales, 17.5ms\n",
      "Speed: 5.2ms preprocess, 17.5ms inference, 3.6ms postprocess per image at shape (1, 3, 640, 640)\n"
     ]
    },
    {
     "name": "stderr",
     "output_type": "stream",
     "text": [
      "Processing:  83%|██████████████████████████████████████████████████████▋           | 1492/1800 [05:49<01:08,  4.48it/s]"
     ]
    },
    {
     "name": "stdout",
     "output_type": "stream",
     "text": [
      "\n",
      "0: 640x640 2 rolled_in_scales, 17.7ms\n",
      "Speed: 5.3ms preprocess, 17.7ms inference, 4.5ms postprocess per image at shape (1, 3, 640, 640)\n"
     ]
    },
    {
     "name": "stderr",
     "output_type": "stream",
     "text": [
      "Processing:  83%|██████████████████████████████████████████████████████▋           | 1493/1800 [05:50<01:04,  4.76it/s]"
     ]
    },
    {
     "name": "stdout",
     "output_type": "stream",
     "text": [
      "\n",
      "0: 640x640 3 rolled_in_scales, 17.5ms\n",
      "Speed: 5.7ms preprocess, 17.5ms inference, 3.3ms postprocess per image at shape (1, 3, 640, 640)\n"
     ]
    },
    {
     "name": "stderr",
     "output_type": "stream",
     "text": [
      "Processing:  83%|██████████████████████████████████████████████████████▊           | 1494/1800 [05:50<01:12,  4.21it/s]"
     ]
    },
    {
     "name": "stdout",
     "output_type": "stream",
     "text": [
      "\n",
      "0: 640x640 1 rolled_in_scale, 14.4ms\n",
      "Speed: 5.2ms preprocess, 14.4ms inference, 2.9ms postprocess per image at shape (1, 3, 640, 640)\n",
      "\n",
      "0: 640x640 3 rolled_in_scales, 19.1ms\n",
      "Speed: 5.6ms preprocess, 19.1ms inference, 2.8ms postprocess per image at shape (1, 3, 640, 640)\n"
     ]
    },
    {
     "name": "stderr",
     "output_type": "stream",
     "text": [
      "Processing:  83%|██████████████████████████████████████████████████████▊           | 1496/1800 [05:50<01:02,  4.88it/s]"
     ]
    },
    {
     "name": "stdout",
     "output_type": "stream",
     "text": [
      "\n",
      "0: 640x640 3 rolled_in_scales, 17.1ms\n",
      "Speed: 4.9ms preprocess, 17.1ms inference, 3.4ms postprocess per image at shape (1, 3, 640, 640)\n"
     ]
    },
    {
     "name": "stderr",
     "output_type": "stream",
     "text": [
      "Processing:  83%|██████████████████████████████████████████████████████▉           | 1497/1800 [05:50<01:04,  4.73it/s]"
     ]
    },
    {
     "name": "stdout",
     "output_type": "stream",
     "text": [
      "\n",
      "0: 640x640 2 rolled_in_scales, 26.3ms\n",
      "Speed: 5.8ms preprocess, 26.3ms inference, 3.6ms postprocess per image at shape (1, 3, 640, 640)\n"
     ]
    },
    {
     "name": "stderr",
     "output_type": "stream",
     "text": [
      "Processing:  83%|██████████████████████████████████████████████████████▉           | 1498/1800 [05:51<01:02,  4.86it/s]"
     ]
    },
    {
     "name": "stdout",
     "output_type": "stream",
     "text": [
      "\n",
      "0: 640x640 4 rolled_in_scales, 18.4ms\n",
      "Speed: 4.5ms preprocess, 18.4ms inference, 3.7ms postprocess per image at shape (1, 3, 640, 640)\n"
     ]
    },
    {
     "name": "stderr",
     "output_type": "stream",
     "text": [
      "Processing:  83%|██████████████████████████████████████████████████████▉           | 1499/1800 [05:51<01:12,  4.18it/s]"
     ]
    },
    {
     "name": "stdout",
     "output_type": "stream",
     "text": [
      "\n",
      "0: 640x640 4 rolled_in_scales, 17.5ms\n",
      "Speed: 4.8ms preprocess, 17.5ms inference, 4.1ms postprocess per image at shape (1, 3, 640, 640)\n"
     ]
    },
    {
     "name": "stderr",
     "output_type": "stream",
     "text": [
      "Processing:  83%|███████████████████████████████████████████████████████           | 1500/1800 [05:51<01:16,  3.90it/s]"
     ]
    },
    {
     "name": "stdout",
     "output_type": "stream",
     "text": [
      "\n",
      "0: 640x640 2 scratchess, 18.6ms\n",
      "Speed: 5.5ms preprocess, 18.6ms inference, 3.6ms postprocess per image at shape (1, 3, 640, 640)\n"
     ]
    },
    {
     "name": "stderr",
     "output_type": "stream",
     "text": [
      "Processing:  83%|███████████████████████████████████████████████████████           | 1501/1800 [05:51<01:08,  4.34it/s]"
     ]
    },
    {
     "name": "stdout",
     "output_type": "stream",
     "text": [
      "\n",
      "0: 640x640 1 inculsion, 1 patches, 3 scratchess, 16.8ms\n",
      "Speed: 5.1ms preprocess, 16.8ms inference, 4.0ms postprocess per image at shape (1, 3, 640, 640)\n"
     ]
    },
    {
     "name": "stderr",
     "output_type": "stream",
     "text": [
      "Processing:  83%|███████████████████████████████████████████████████████           | 1502/1800 [05:52<01:21,  3.64it/s]"
     ]
    },
    {
     "name": "stdout",
     "output_type": "stream",
     "text": [
      "\n",
      "0: 640x640 1 scratches, 14.1ms\n",
      "Speed: 5.4ms preprocess, 14.1ms inference, 3.4ms postprocess per image at shape (1, 3, 640, 640)\n",
      "\n",
      "0: 640x640 1 inculsion, 1 scratches, 23.7ms\n",
      "Speed: 4.3ms preprocess, 23.7ms inference, 3.8ms postprocess per image at shape (1, 3, 640, 640)\n"
     ]
    },
    {
     "name": "stderr",
     "output_type": "stream",
     "text": [
      "Processing:  84%|███████████████████████████████████████████████████████▏          | 1504/1800 [05:52<01:02,  4.70it/s]"
     ]
    },
    {
     "name": "stdout",
     "output_type": "stream",
     "text": [
      "\n",
      "0: 640x640 1 scratches, 15.1ms\n",
      "Speed: 5.0ms preprocess, 15.1ms inference, 3.1ms postprocess per image at shape (1, 3, 640, 640)\n",
      "\n",
      "0: 640x640 1 scratches, 19.0ms\n",
      "Speed: 4.8ms preprocess, 19.0ms inference, 3.7ms postprocess per image at shape (1, 3, 640, 640)\n"
     ]
    },
    {
     "name": "stderr",
     "output_type": "stream",
     "text": [
      "Processing:  84%|███████████████████████████████████████████████████████▏          | 1506/1800 [05:52<00:48,  6.02it/s]"
     ]
    },
    {
     "name": "stdout",
     "output_type": "stream",
     "text": [
      "\n",
      "0: 640x640 1 scratches, 22.3ms\n",
      "Speed: 5.1ms preprocess, 22.3ms inference, 4.2ms postprocess per image at shape (1, 3, 640, 640)\n"
     ]
    },
    {
     "name": "stderr",
     "output_type": "stream",
     "text": [
      "Processing:  84%|███████████████████████████████████████████████████████▎          | 1507/1800 [05:52<00:44,  6.55it/s]"
     ]
    },
    {
     "name": "stdout",
     "output_type": "stream",
     "text": [
      "\n",
      "0: 640x640 1 scratches, 19.7ms\n",
      "Speed: 4.7ms preprocess, 19.7ms inference, 3.5ms postprocess per image at shape (1, 3, 640, 640)\n"
     ]
    },
    {
     "name": "stderr",
     "output_type": "stream",
     "text": [
      "Processing:  84%|███████████████████████████████████████████████████████▎          | 1508/1800 [05:52<00:42,  6.91it/s]"
     ]
    },
    {
     "name": "stdout",
     "output_type": "stream",
     "text": [
      "\n",
      "0: 640x640 1 scratches, 15.5ms\n",
      "Speed: 5.2ms preprocess, 15.5ms inference, 1.8ms postprocess per image at shape (1, 3, 640, 640)\n"
     ]
    },
    {
     "name": "stderr",
     "output_type": "stream",
     "text": [
      "Processing:  84%|███████████████████████████████████████████████████████▎          | 1509/1800 [05:53<00:39,  7.36it/s]"
     ]
    },
    {
     "name": "stdout",
     "output_type": "stream",
     "text": [
      "\n",
      "0: 640x640 1 scratches, 16.4ms\n",
      "Speed: 5.0ms preprocess, 16.4ms inference, 4.5ms postprocess per image at shape (1, 3, 640, 640)\n"
     ]
    },
    {
     "name": "stderr",
     "output_type": "stream",
     "text": [
      "Processing:  84%|███████████████████████████████████████████████████████▎          | 1510/1800 [05:53<00:36,  7.84it/s]"
     ]
    },
    {
     "name": "stdout",
     "output_type": "stream",
     "text": [
      "\n",
      "0: 640x640 5 inculsions, 1 scratches, 21.2ms\n",
      "Speed: 6.8ms preprocess, 21.2ms inference, 3.3ms postprocess per image at shape (1, 3, 640, 640)\n"
     ]
    },
    {
     "name": "stderr",
     "output_type": "stream",
     "text": [
      "Processing:  84%|███████████████████████████████████████████████████████▍          | 1511/1800 [05:53<01:04,  4.46it/s]"
     ]
    },
    {
     "name": "stdout",
     "output_type": "stream",
     "text": [
      "\n",
      "0: 640x640 5 inculsions, 1 scratches, 19.3ms\n",
      "Speed: 5.4ms preprocess, 19.3ms inference, 2.5ms postprocess per image at shape (1, 3, 640, 640)\n"
     ]
    },
    {
     "name": "stderr",
     "output_type": "stream",
     "text": [
      "Processing:  84%|███████████████████████████████████████████████████████▍          | 1512/1800 [05:54<01:22,  3.48it/s]"
     ]
    },
    {
     "name": "stdout",
     "output_type": "stream",
     "text": [
      "\n",
      "0: 640x640 2 scratchess, 18.7ms\n",
      "Speed: 7.2ms preprocess, 18.7ms inference, 3.6ms postprocess per image at shape (1, 3, 640, 640)\n"
     ]
    },
    {
     "name": "stderr",
     "output_type": "stream",
     "text": [
      "Processing:  84%|███████████████████████████████████████████████████████▍          | 1513/1800 [05:54<01:13,  3.91it/s]"
     ]
    },
    {
     "name": "stdout",
     "output_type": "stream",
     "text": [
      "\n",
      "0: 640x640 3 inculsions, 1 scratches, 16.4ms\n",
      "Speed: 4.9ms preprocess, 16.4ms inference, 4.1ms postprocess per image at shape (1, 3, 640, 640)\n"
     ]
    },
    {
     "name": "stderr",
     "output_type": "stream",
     "text": [
      "Processing:  84%|███████████████████████████████████████████████████████▌          | 1514/1800 [05:54<01:16,  3.73it/s]"
     ]
    },
    {
     "name": "stdout",
     "output_type": "stream",
     "text": [
      "\n",
      "0: 640x640 5 inculsions, 1 scratches, 19.2ms\n",
      "Speed: 5.4ms preprocess, 19.2ms inference, 3.6ms postprocess per image at shape (1, 3, 640, 640)\n"
     ]
    },
    {
     "name": "stderr",
     "output_type": "stream",
     "text": [
      "Processing:  84%|███████████████████████████████████████████████████████▌          | 1515/1800 [05:55<01:40,  2.84it/s]"
     ]
    },
    {
     "name": "stdout",
     "output_type": "stream",
     "text": [
      "\n",
      "0: 640x640 3 inculsions, 1 scratches, 20.2ms\n",
      "Speed: 5.3ms preprocess, 20.2ms inference, 3.3ms postprocess per image at shape (1, 3, 640, 640)\n"
     ]
    },
    {
     "name": "stderr",
     "output_type": "stream",
     "text": [
      "Processing:  84%|███████████████████████████████████████████████████████▌          | 1516/1800 [05:55<01:37,  2.91it/s]"
     ]
    },
    {
     "name": "stdout",
     "output_type": "stream",
     "text": [
      "\n",
      "0: 640x640 2 inculsions, 2 scratchess, 21.3ms\n",
      "Speed: 5.0ms preprocess, 21.3ms inference, 3.5ms postprocess per image at shape (1, 3, 640, 640)\n"
     ]
    },
    {
     "name": "stderr",
     "output_type": "stream",
     "text": [
      "Processing:  84%|███████████████████████████████████████████████████████▌          | 1517/1800 [05:55<01:34,  2.99it/s]"
     ]
    },
    {
     "name": "stdout",
     "output_type": "stream",
     "text": [
      "\n",
      "0: 640x640 3 scratchess, 18.1ms\n",
      "Speed: 4.9ms preprocess, 18.1ms inference, 4.5ms postprocess per image at shape (1, 3, 640, 640)\n"
     ]
    },
    {
     "name": "stderr",
     "output_type": "stream",
     "text": [
      "Processing:  84%|███████████████████████████████████████████████████████▋          | 1518/1800 [05:56<01:25,  3.29it/s]"
     ]
    },
    {
     "name": "stdout",
     "output_type": "stream",
     "text": [
      "\n",
      "0: 640x640 2 inculsions, 3 scratchess, 15.7ms\n",
      "Speed: 4.2ms preprocess, 15.7ms inference, 2.0ms postprocess per image at shape (1, 3, 640, 640)\n"
     ]
    },
    {
     "name": "stderr",
     "output_type": "stream",
     "text": [
      "Processing:  84%|███████████████████████████████████████████████████████▋          | 1519/1800 [05:56<01:31,  3.06it/s]"
     ]
    },
    {
     "name": "stdout",
     "output_type": "stream",
     "text": [
      "\n",
      "0: 640x640 1 inculsion, 3 scratchess, 19.7ms\n",
      "Speed: 4.8ms preprocess, 19.7ms inference, 3.6ms postprocess per image at shape (1, 3, 640, 640)\n"
     ]
    },
    {
     "name": "stderr",
     "output_type": "stream",
     "text": [
      "Processing:  84%|███████████████████████████████████████████████████████▋          | 1520/1800 [05:56<01:30,  3.10it/s]"
     ]
    },
    {
     "name": "stdout",
     "output_type": "stream",
     "text": [
      "\n",
      "0: 640x640 3 scratchess, 17.8ms\n",
      "Speed: 5.7ms preprocess, 17.8ms inference, 3.5ms postprocess per image at shape (1, 3, 640, 640)\n"
     ]
    },
    {
     "name": "stderr",
     "output_type": "stream",
     "text": [
      "Processing:  84%|███████████████████████████████████████████████████████▊          | 1521/1800 [05:56<01:23,  3.34it/s]"
     ]
    },
    {
     "name": "stdout",
     "output_type": "stream",
     "text": [
      "\n",
      "0: 640x640 1 inculsion, 2 scratchess, 18.4ms\n",
      "Speed: 5.6ms preprocess, 18.4ms inference, 3.4ms postprocess per image at shape (1, 3, 640, 640)\n"
     ]
    },
    {
     "name": "stderr",
     "output_type": "stream",
     "text": [
      "Processing:  85%|███████████████████████████████████████████████████████▊          | 1522/1800 [05:57<01:18,  3.55it/s]"
     ]
    },
    {
     "name": "stdout",
     "output_type": "stream",
     "text": [
      "\n",
      "0: 640x640 3 scratchess, 18.9ms\n",
      "Speed: 4.9ms preprocess, 18.9ms inference, 3.6ms postprocess per image at shape (1, 3, 640, 640)\n"
     ]
    },
    {
     "name": "stderr",
     "output_type": "stream",
     "text": [
      "Processing:  85%|███████████████████████████████████████████████████████▊          | 1523/1800 [05:57<01:15,  3.69it/s]"
     ]
    },
    {
     "name": "stdout",
     "output_type": "stream",
     "text": [
      "\n",
      "0: 640x640 3 scratchess, 21.3ms\n",
      "Speed: 5.6ms preprocess, 21.3ms inference, 4.8ms postprocess per image at shape (1, 3, 640, 640)\n"
     ]
    },
    {
     "name": "stderr",
     "output_type": "stream",
     "text": [
      "Processing:  85%|███████████████████████████████████████████████████████▉          | 1524/1800 [05:57<01:12,  3.83it/s]"
     ]
    },
    {
     "name": "stdout",
     "output_type": "stream",
     "text": [
      "\n",
      "0: 640x640 1 inculsion, 3 scratchess, 18.6ms\n",
      "Speed: 5.2ms preprocess, 18.6ms inference, 3.8ms postprocess per image at shape (1, 3, 640, 640)\n"
     ]
    },
    {
     "name": "stderr",
     "output_type": "stream",
     "text": [
      "Processing:  85%|███████████████████████████████████████████████████████▉          | 1525/1800 [05:57<01:17,  3.57it/s]"
     ]
    },
    {
     "name": "stdout",
     "output_type": "stream",
     "text": [
      "\n",
      "0: 640x640 2 inculsions, 2 scratchess, 15.8ms\n",
      "Speed: 5.1ms preprocess, 15.8ms inference, 4.3ms postprocess per image at shape (1, 3, 640, 640)\n"
     ]
    },
    {
     "name": "stderr",
     "output_type": "stream",
     "text": [
      "Processing:  85%|███████████████████████████████████████████████████████▉          | 1526/1800 [05:58<01:21,  3.37it/s]"
     ]
    },
    {
     "name": "stdout",
     "output_type": "stream",
     "text": [
      "\n",
      "0: 640x640 2 inculsions, 1 scratches, 18.7ms\n",
      "Speed: 4.5ms preprocess, 18.7ms inference, 3.2ms postprocess per image at shape (1, 3, 640, 640)\n"
     ]
    },
    {
     "name": "stderr",
     "output_type": "stream",
     "text": [
      "Processing:  85%|███████████████████████████████████████████████████████▉          | 1527/1800 [05:58<01:17,  3.53it/s]"
     ]
    },
    {
     "name": "stdout",
     "output_type": "stream",
     "text": [
      "\n",
      "0: 640x640 1 inculsion, 3 scratchess, 18.3ms\n",
      "Speed: 6.0ms preprocess, 18.3ms inference, 5.0ms postprocess per image at shape (1, 3, 640, 640)\n"
     ]
    },
    {
     "name": "stderr",
     "output_type": "stream",
     "text": [
      "Processing:  85%|████████████████████████████████████████████████████████          | 1528/1800 [05:58<01:18,  3.46it/s]"
     ]
    },
    {
     "name": "stdout",
     "output_type": "stream",
     "text": [
      "\n",
      "0: 640x640 1 inculsion, 3 scratchess, 19.6ms\n",
      "Speed: 4.8ms preprocess, 19.6ms inference, 3.2ms postprocess per image at shape (1, 3, 640, 640)\n"
     ]
    },
    {
     "name": "stderr",
     "output_type": "stream",
     "text": [
      "Processing:  85%|████████████████████████████████████████████████████████          | 1529/1800 [05:59<01:26,  3.14it/s]"
     ]
    },
    {
     "name": "stdout",
     "output_type": "stream",
     "text": [
      "\n",
      "0: 640x640 3 inculsions, 2 scratchess, 22.0ms\n",
      "Speed: 6.4ms preprocess, 22.0ms inference, 3.7ms postprocess per image at shape (1, 3, 640, 640)\n"
     ]
    },
    {
     "name": "stderr",
     "output_type": "stream",
     "text": [
      "Processing:  85%|████████████████████████████████████████████████████████          | 1530/1800 [05:59<01:30,  2.98it/s]"
     ]
    },
    {
     "name": "stdout",
     "output_type": "stream",
     "text": [
      "\n",
      "0: 640x640 3 inculsions, 1 scratches, 17.9ms\n",
      "Speed: 5.7ms preprocess, 17.9ms inference, 3.5ms postprocess per image at shape (1, 3, 640, 640)\n"
     ]
    },
    {
     "name": "stderr",
     "output_type": "stream",
     "text": [
      "Processing:  85%|████████████████████████████████████████████████████████▏         | 1531/1800 [05:59<01:28,  3.03it/s]"
     ]
    },
    {
     "name": "stdout",
     "output_type": "stream",
     "text": [
      "\n",
      "0: 640x640 4 inculsions, 1 scratches, 15.8ms\n",
      "Speed: 4.1ms preprocess, 15.8ms inference, 3.3ms postprocess per image at shape (1, 3, 640, 640)\n"
     ]
    },
    {
     "name": "stderr",
     "output_type": "stream",
     "text": [
      "Processing:  85%|████████████████████████████████████████████████████████▏         | 1532/1800 [06:00<01:32,  2.90it/s]"
     ]
    },
    {
     "name": "stdout",
     "output_type": "stream",
     "text": [
      "\n",
      "0: 640x640 2 inculsions, 1 scratches, 15.6ms\n",
      "Speed: 5.8ms preprocess, 15.6ms inference, 3.0ms postprocess per image at shape (1, 3, 640, 640)\n"
     ]
    },
    {
     "name": "stderr",
     "output_type": "stream",
     "text": [
      "Processing:  85%|████████████████████████████████████████████████████████▏         | 1533/1800 [06:00<01:23,  3.20it/s]"
     ]
    },
    {
     "name": "stdout",
     "output_type": "stream",
     "text": [
      "\n",
      "0: 640x640 2 inculsions, 1 scratches, 21.5ms\n",
      "Speed: 4.3ms preprocess, 21.5ms inference, 3.6ms postprocess per image at shape (1, 3, 640, 640)\n"
     ]
    },
    {
     "name": "stderr",
     "output_type": "stream",
     "text": [
      "Processing:  85%|████████████████████████████████████████████████████████▏         | 1534/1800 [06:00<01:18,  3.41it/s]"
     ]
    },
    {
     "name": "stdout",
     "output_type": "stream",
     "text": [
      "\n",
      "0: 640x640 1 patches, 2 scratchess, 14.8ms\n",
      "Speed: 6.0ms preprocess, 14.8ms inference, 3.0ms postprocess per image at shape (1, 3, 640, 640)\n"
     ]
    },
    {
     "name": "stderr",
     "output_type": "stream",
     "text": [
      "Processing:  85%|████████████████████████████████████████████████████████▎         | 1535/1800 [06:01<01:13,  3.60it/s]"
     ]
    },
    {
     "name": "stdout",
     "output_type": "stream",
     "text": [
      "\n",
      "0: 640x640 2 inculsions, 1 scratches, 16.5ms\n",
      "Speed: 5.0ms preprocess, 16.5ms inference, 2.9ms postprocess per image at shape (1, 3, 640, 640)\n"
     ]
    },
    {
     "name": "stderr",
     "output_type": "stream",
     "text": [
      "Processing:  85%|████████████████████████████████████████████████████████▎         | 1536/1800 [06:01<01:10,  3.75it/s]"
     ]
    },
    {
     "name": "stdout",
     "output_type": "stream",
     "text": [
      "\n",
      "0: 640x640 3 inculsions, 2 scratchess, 12.8ms\n",
      "Speed: 5.3ms preprocess, 12.8ms inference, 3.4ms postprocess per image at shape (1, 3, 640, 640)\n"
     ]
    },
    {
     "name": "stderr",
     "output_type": "stream",
     "text": [
      "Processing:  85%|████████████████████████████████████████████████████████▎         | 1537/1800 [06:01<01:19,  3.33it/s]"
     ]
    },
    {
     "name": "stdout",
     "output_type": "stream",
     "text": [
      "\n",
      "0: 640x640 1 inculsion, 2 scratchess, 16.9ms\n",
      "Speed: 4.5ms preprocess, 16.9ms inference, 3.3ms postprocess per image at shape (1, 3, 640, 640)\n"
     ]
    },
    {
     "name": "stderr",
     "output_type": "stream",
     "text": [
      "Processing:  85%|████████████████████████████████████████████████████████▍         | 1538/1800 [06:01<01:14,  3.53it/s]"
     ]
    },
    {
     "name": "stdout",
     "output_type": "stream",
     "text": [
      "\n",
      "0: 640x640 1 inculsion, 1 scratches, 16.3ms\n",
      "Speed: 5.5ms preprocess, 16.3ms inference, 3.6ms postprocess per image at shape (1, 3, 640, 640)\n"
     ]
    },
    {
     "name": "stderr",
     "output_type": "stream",
     "text": [
      "Processing:  86%|████████████████████████████████████████████████████████▍         | 1539/1800 [06:02<01:05,  3.96it/s]"
     ]
    },
    {
     "name": "stdout",
     "output_type": "stream",
     "text": [
      "\n",
      "0: 640x640 2 inculsions, 1 scratches, 13.3ms\n",
      "Speed: 5.7ms preprocess, 13.3ms inference, 3.0ms postprocess per image at shape (1, 3, 640, 640)\n"
     ]
    },
    {
     "name": "stderr",
     "output_type": "stream",
     "text": [
      "Processing:  86%|████████████████████████████████████████████████████████▍         | 1540/1800 [06:02<01:04,  4.01it/s]"
     ]
    },
    {
     "name": "stdout",
     "output_type": "stream",
     "text": [
      "\n",
      "0: 640x640 2 inculsions, 1 scratches, 20.8ms\n",
      "Speed: 6.0ms preprocess, 20.8ms inference, 5.0ms postprocess per image at shape (1, 3, 640, 640)\n"
     ]
    },
    {
     "name": "stderr",
     "output_type": "stream",
     "text": [
      "Processing:  86%|████████████████████████████████████████████████████████▌         | 1541/1800 [06:02<01:03,  4.06it/s]"
     ]
    },
    {
     "name": "stdout",
     "output_type": "stream",
     "text": [
      "\n",
      "0: 640x640 2 inculsions, 1 scratches, 16.5ms\n",
      "Speed: 5.6ms preprocess, 16.5ms inference, 3.9ms postprocess per image at shape (1, 3, 640, 640)\n"
     ]
    },
    {
     "name": "stderr",
     "output_type": "stream",
     "text": [
      "Processing:  86%|████████████████████████████████████████████████████████▌         | 1542/1800 [06:02<01:10,  3.65it/s]"
     ]
    },
    {
     "name": "stdout",
     "output_type": "stream",
     "text": [
      "\n",
      "0: 640x640 1 inculsion, 1 scratches, 16.9ms\n",
      "Speed: 5.5ms preprocess, 16.9ms inference, 3.6ms postprocess per image at shape (1, 3, 640, 640)\n"
     ]
    },
    {
     "name": "stderr",
     "output_type": "stream",
     "text": [
      "Processing:  86%|████████████████████████████████████████████████████████▌         | 1543/1800 [06:03<01:02,  4.11it/s]"
     ]
    },
    {
     "name": "stdout",
     "output_type": "stream",
     "text": [
      "\n",
      "0: 640x640 1 inculsion, 1 scratches, 17.6ms\n",
      "Speed: 5.3ms preprocess, 17.6ms inference, 3.1ms postprocess per image at shape (1, 3, 640, 640)\n"
     ]
    },
    {
     "name": "stderr",
     "output_type": "stream",
     "text": [
      "Processing:  86%|████████████████████████████████████████████████████████▌         | 1544/1800 [06:03<00:57,  4.43it/s]"
     ]
    },
    {
     "name": "stdout",
     "output_type": "stream",
     "text": [
      "\n",
      "0: 640x640 3 inculsions, 1 scratches, 17.1ms\n",
      "Speed: 5.3ms preprocess, 17.1ms inference, 3.0ms postprocess per image at shape (1, 3, 640, 640)\n"
     ]
    },
    {
     "name": "stderr",
     "output_type": "stream",
     "text": [
      "Processing:  86%|████████████████████████████████████████████████████████▋         | 1545/1800 [06:03<01:04,  3.98it/s]"
     ]
    },
    {
     "name": "stdout",
     "output_type": "stream",
     "text": [
      "\n",
      "0: 640x640 2 scratchess, 15.9ms\n",
      "Speed: 5.4ms preprocess, 15.9ms inference, 4.2ms postprocess per image at shape (1, 3, 640, 640)\n"
     ]
    },
    {
     "name": "stderr",
     "output_type": "stream",
     "text": [
      "Processing:  86%|████████████████████████████████████████████████████████▋         | 1546/1800 [06:03<00:57,  4.44it/s]"
     ]
    },
    {
     "name": "stdout",
     "output_type": "stream",
     "text": [
      "\n",
      "0: 640x640 4 inculsions, 1 scratches, 20.1ms\n",
      "Speed: 5.6ms preprocess, 20.1ms inference, 4.0ms postprocess per image at shape (1, 3, 640, 640)\n"
     ]
    },
    {
     "name": "stderr",
     "output_type": "stream",
     "text": [
      "Processing:  86%|████████████████████████████████████████████████████████▋         | 1547/1800 [06:04<01:09,  3.62it/s]"
     ]
    },
    {
     "name": "stdout",
     "output_type": "stream",
     "text": [
      "\n",
      "0: 640x640 4 inculsions, 1 scratches, 15.8ms\n",
      "Speed: 4.9ms preprocess, 15.8ms inference, 3.2ms postprocess per image at shape (1, 3, 640, 640)\n"
     ]
    },
    {
     "name": "stderr",
     "output_type": "stream",
     "text": [
      "Processing:  86%|████████████████████████████████████████████████████████▊         | 1548/1800 [06:04<01:17,  3.27it/s]"
     ]
    },
    {
     "name": "stdout",
     "output_type": "stream",
     "text": [
      "\n",
      "0: 640x640 3 inculsions, 3 scratchess, 17.7ms\n",
      "Speed: 4.0ms preprocess, 17.7ms inference, 3.2ms postprocess per image at shape (1, 3, 640, 640)\n"
     ]
    },
    {
     "name": "stderr",
     "output_type": "stream",
     "text": [
      "Processing:  86%|████████████████████████████████████████████████████████▊         | 1549/1800 [06:04<01:26,  2.89it/s]"
     ]
    },
    {
     "name": "stdout",
     "output_type": "stream",
     "text": [
      "\n",
      "0: 640x640 1 inculsion, 2 scratchess, 19.4ms\n",
      "Speed: 5.6ms preprocess, 19.4ms inference, 3.4ms postprocess per image at shape (1, 3, 640, 640)\n"
     ]
    },
    {
     "name": "stderr",
     "output_type": "stream",
     "text": [
      "Processing:  86%|████████████████████████████████████████████████████████▊         | 1550/1800 [06:05<01:19,  3.14it/s]"
     ]
    },
    {
     "name": "stdout",
     "output_type": "stream",
     "text": [
      "\n",
      "0: 640x640 3 scratchess, 18.5ms\n",
      "Speed: 5.4ms preprocess, 18.5ms inference, 3.4ms postprocess per image at shape (1, 3, 640, 640)\n"
     ]
    },
    {
     "name": "stderr",
     "output_type": "stream",
     "text": [
      "Processing:  86%|████████████████████████████████████████████████████████▊         | 1551/1800 [06:05<01:13,  3.37it/s]"
     ]
    },
    {
     "name": "stdout",
     "output_type": "stream",
     "text": [
      "\n",
      "0: 640x640 2 inculsions, 2 scratchess, 15.4ms\n",
      "Speed: 5.7ms preprocess, 15.4ms inference, 3.8ms postprocess per image at shape (1, 3, 640, 640)\n"
     ]
    },
    {
     "name": "stderr",
     "output_type": "stream",
     "text": [
      "Processing:  86%|████████████████████████████████████████████████████████▉         | 1552/1800 [06:05<01:14,  3.33it/s]"
     ]
    },
    {
     "name": "stdout",
     "output_type": "stream",
     "text": [
      "\n",
      "0: 640x640 1 inculsion, 2 scratchess, 18.1ms\n",
      "Speed: 5.7ms preprocess, 18.1ms inference, 4.8ms postprocess per image at shape (1, 3, 640, 640)\n"
     ]
    },
    {
     "name": "stderr",
     "output_type": "stream",
     "text": [
      "Processing:  86%|████████████████████████████████████████████████████████▉         | 1553/1800 [06:06<01:10,  3.49it/s]"
     ]
    },
    {
     "name": "stdout",
     "output_type": "stream",
     "text": [
      "\n",
      "0: 640x640 2 inculsions, 2 scratchess, 15.6ms\n",
      "Speed: 4.8ms preprocess, 15.6ms inference, 3.7ms postprocess per image at shape (1, 3, 640, 640)\n"
     ]
    },
    {
     "name": "stderr",
     "output_type": "stream",
     "text": [
      "Processing:  86%|████████████████████████████████████████████████████████▉         | 1554/1800 [06:06<01:12,  3.38it/s]"
     ]
    },
    {
     "name": "stdout",
     "output_type": "stream",
     "text": [
      "\n",
      "0: 640x640 1 inculsion, 3 scratchess, 14.0ms\n",
      "Speed: 4.8ms preprocess, 14.0ms inference, 2.7ms postprocess per image at shape (1, 3, 640, 640)\n"
     ]
    },
    {
     "name": "stderr",
     "output_type": "stream",
     "text": [
      "Processing:  86%|█████████████████████████████████████████████████████████         | 1555/1800 [06:06<01:14,  3.31it/s]"
     ]
    },
    {
     "name": "stdout",
     "output_type": "stream",
     "text": [
      "\n",
      "0: 640x640 1 inculsion, 1 scratches, 15.3ms\n",
      "Speed: 5.6ms preprocess, 15.3ms inference, 4.5ms postprocess per image at shape (1, 3, 640, 640)\n"
     ]
    },
    {
     "name": "stderr",
     "output_type": "stream",
     "text": [
      "Processing:  86%|█████████████████████████████████████████████████████████         | 1556/1800 [06:06<01:05,  3.75it/s]"
     ]
    },
    {
     "name": "stdout",
     "output_type": "stream",
     "text": [
      "\n",
      "0: 640x640 3 scratchess, 17.9ms\n",
      "Speed: 6.2ms preprocess, 17.9ms inference, 4.1ms postprocess per image at shape (1, 3, 640, 640)\n"
     ]
    },
    {
     "name": "stderr",
     "output_type": "stream",
     "text": [
      "Processing:  86%|█████████████████████████████████████████████████████████         | 1557/1800 [06:07<01:03,  3.83it/s]"
     ]
    },
    {
     "name": "stdout",
     "output_type": "stream",
     "text": [
      "\n",
      "0: 640x640 1 inculsion, 2 scratchess, 17.9ms\n",
      "Speed: 5.3ms preprocess, 17.9ms inference, 3.4ms postprocess per image at shape (1, 3, 640, 640)\n"
     ]
    },
    {
     "name": "stderr",
     "output_type": "stream",
     "text": [
      "Processing:  87%|█████████████████████████████████████████████████████████▏        | 1558/1800 [06:07<01:00,  4.02it/s]"
     ]
    },
    {
     "name": "stdout",
     "output_type": "stream",
     "text": [
      "\n",
      "0: 640x640 1 inculsion, 3 scratchess, 19.0ms\n",
      "Speed: 5.0ms preprocess, 19.0ms inference, 2.8ms postprocess per image at shape (1, 3, 640, 640)\n"
     ]
    },
    {
     "name": "stderr",
     "output_type": "stream",
     "text": [
      "Processing:  87%|█████████████████████████████████████████████████████████▏        | 1559/1800 [06:07<01:11,  3.37it/s]"
     ]
    },
    {
     "name": "stdout",
     "output_type": "stream",
     "text": [
      "\n",
      "0: 640x640 3 scratchess, 15.9ms\n",
      "Speed: 5.1ms preprocess, 15.9ms inference, 3.3ms postprocess per image at shape (1, 3, 640, 640)\n"
     ]
    },
    {
     "name": "stderr",
     "output_type": "stream",
     "text": [
      "Processing:  87%|█████████████████████████████████████████████████████████▏        | 1560/1800 [06:07<01:07,  3.56it/s]"
     ]
    },
    {
     "name": "stdout",
     "output_type": "stream",
     "text": [
      "\n",
      "0: 640x640 1 inculsion, 3 scratchess, 17.7ms\n",
      "Speed: 4.3ms preprocess, 17.7ms inference, 3.3ms postprocess per image at shape (1, 3, 640, 640)\n"
     ]
    },
    {
     "name": "stderr",
     "output_type": "stream",
     "text": [
      "Processing:  87%|█████████████████████████████████████████████████████████▏        | 1561/1800 [06:08<01:08,  3.47it/s]"
     ]
    },
    {
     "name": "stdout",
     "output_type": "stream",
     "text": [
      "\n",
      "0: 640x640 1 inculsion, 3 scratchess, 24.2ms\n",
      "Speed: 5.0ms preprocess, 24.2ms inference, 3.4ms postprocess per image at shape (1, 3, 640, 640)\n"
     ]
    },
    {
     "name": "stderr",
     "output_type": "stream",
     "text": [
      "Processing:  87%|█████████████████████████████████████████████████████████▎        | 1562/1800 [06:08<01:10,  3.40it/s]"
     ]
    },
    {
     "name": "stdout",
     "output_type": "stream",
     "text": [
      "\n",
      "0: 640x640 5 scratchess, 18.7ms\n",
      "Speed: 4.2ms preprocess, 18.7ms inference, 3.3ms postprocess per image at shape (1, 3, 640, 640)\n"
     ]
    },
    {
     "name": "stderr",
     "output_type": "stream",
     "text": [
      "Processing:  87%|█████████████████████████████████████████████████████████▎        | 1563/1800 [06:08<01:15,  3.15it/s]"
     ]
    },
    {
     "name": "stdout",
     "output_type": "stream",
     "text": [
      "\n",
      "0: 640x640 4 scratchess, 17.1ms\n",
      "Speed: 5.5ms preprocess, 17.1ms inference, 3.2ms postprocess per image at shape (1, 3, 640, 640)\n"
     ]
    },
    {
     "name": "stderr",
     "output_type": "stream",
     "text": [
      "Processing:  87%|█████████████████████████████████████████████████████████▎        | 1564/1800 [06:09<01:13,  3.20it/s]"
     ]
    },
    {
     "name": "stdout",
     "output_type": "stream",
     "text": [
      "\n",
      "0: 640x640 4 scratchess, 15.9ms\n",
      "Speed: 4.7ms preprocess, 15.9ms inference, 3.1ms postprocess per image at shape (1, 3, 640, 640)\n"
     ]
    },
    {
     "name": "stderr",
     "output_type": "stream",
     "text": [
      "Processing:  87%|█████████████████████████████████████████████████████████▍        | 1565/1800 [06:09<01:12,  3.24it/s]"
     ]
    },
    {
     "name": "stdout",
     "output_type": "stream",
     "text": [
      "\n",
      "0: 640x640 1 inculsion, 4 scratchess, 17.7ms\n",
      "Speed: 4.9ms preprocess, 17.7ms inference, 3.3ms postprocess per image at shape (1, 3, 640, 640)\n"
     ]
    },
    {
     "name": "stderr",
     "output_type": "stream",
     "text": [
      "Processing:  87%|█████████████████████████████████████████████████████████▍        | 1566/1800 [06:09<01:17,  3.00it/s]"
     ]
    },
    {
     "name": "stdout",
     "output_type": "stream",
     "text": [
      "\n",
      "0: 640x640 3 scratchess, 14.9ms\n",
      "Speed: 4.8ms preprocess, 14.9ms inference, 3.3ms postprocess per image at shape (1, 3, 640, 640)\n"
     ]
    },
    {
     "name": "stderr",
     "output_type": "stream",
     "text": [
      "Processing:  87%|█████████████████████████████████████████████████████████▍        | 1567/1800 [06:10<01:11,  3.28it/s]"
     ]
    },
    {
     "name": "stdout",
     "output_type": "stream",
     "text": [
      "\n",
      "0: 640x640 1 inculsion, 2 scratchess, 15.6ms\n",
      "Speed: 5.4ms preprocess, 15.6ms inference, 4.3ms postprocess per image at shape (1, 3, 640, 640)\n"
     ]
    },
    {
     "name": "stderr",
     "output_type": "stream",
     "text": [
      "Processing:  87%|█████████████████████████████████████████████████████████▍        | 1568/1800 [06:10<01:05,  3.53it/s]"
     ]
    },
    {
     "name": "stdout",
     "output_type": "stream",
     "text": [
      "\n",
      "0: 640x640 4 scratchess, 16.6ms\n",
      "Speed: 5.1ms preprocess, 16.6ms inference, 3.9ms postprocess per image at shape (1, 3, 640, 640)\n"
     ]
    },
    {
     "name": "stderr",
     "output_type": "stream",
     "text": [
      "Processing:  87%|█████████████████████████████████████████████████████████▌        | 1569/1800 [06:10<01:07,  3.41it/s]"
     ]
    },
    {
     "name": "stdout",
     "output_type": "stream",
     "text": [
      "\n",
      "0: 640x640 1 inculsion, 4 scratchess, 16.2ms\n",
      "Speed: 5.4ms preprocess, 16.2ms inference, 3.7ms postprocess per image at shape (1, 3, 640, 640)\n"
     ]
    },
    {
     "name": "stderr",
     "output_type": "stream",
     "text": [
      "Processing:  87%|█████████████████████████████████████████████████████████▌        | 1570/1800 [06:11<01:13,  3.14it/s]"
     ]
    },
    {
     "name": "stdout",
     "output_type": "stream",
     "text": [
      "\n",
      "0: 640x640 5 scratchess, 19.2ms\n",
      "Speed: 5.5ms preprocess, 19.2ms inference, 4.0ms postprocess per image at shape (1, 3, 640, 640)\n"
     ]
    },
    {
     "name": "stderr",
     "output_type": "stream",
     "text": [
      "Processing:  87%|█████████████████████████████████████████████████████████▌        | 1571/1800 [06:11<01:16,  2.99it/s]"
     ]
    },
    {
     "name": "stdout",
     "output_type": "stream",
     "text": [
      "\n",
      "0: 640x640 4 scratchess, 17.7ms\n",
      "Speed: 4.9ms preprocess, 17.7ms inference, 4.0ms postprocess per image at shape (1, 3, 640, 640)\n"
     ]
    },
    {
     "name": "stderr",
     "output_type": "stream",
     "text": [
      "Processing:  87%|█████████████████████████████████████████████████████████▋        | 1572/1800 [06:11<01:19,  2.88it/s]"
     ]
    },
    {
     "name": "stdout",
     "output_type": "stream",
     "text": [
      "\n",
      "0: 640x640 3 scratchess, 15.2ms\n",
      "Speed: 6.7ms preprocess, 15.2ms inference, 3.4ms postprocess per image at shape (1, 3, 640, 640)\n"
     ]
    },
    {
     "name": "stderr",
     "output_type": "stream",
     "text": [
      "Processing:  87%|█████████████████████████████████████████████████████████▋        | 1573/1800 [06:12<01:11,  3.16it/s]"
     ]
    },
    {
     "name": "stdout",
     "output_type": "stream",
     "text": [
      "\n",
      "0: 640x640 1 inculsion, 4 scratchess, 20.4ms\n",
      "Speed: 4.7ms preprocess, 20.4ms inference, 3.5ms postprocess per image at shape (1, 3, 640, 640)\n"
     ]
    },
    {
     "name": "stderr",
     "output_type": "stream",
     "text": [
      "Processing:  87%|█████████████████████████████████████████████████████████▋        | 1574/1800 [06:12<01:14,  3.01it/s]"
     ]
    },
    {
     "name": "stdout",
     "output_type": "stream",
     "text": [
      "\n",
      "0: 640x640 4 scratchess, 19.2ms\n",
      "Speed: 5.3ms preprocess, 19.2ms inference, 3.9ms postprocess per image at shape (1, 3, 640, 640)\n"
     ]
    },
    {
     "name": "stderr",
     "output_type": "stream",
     "text": [
      "Processing:  88%|█████████████████████████████████████████████████████████▊        | 1575/1800 [06:12<01:12,  3.10it/s]"
     ]
    },
    {
     "name": "stdout",
     "output_type": "stream",
     "text": [
      "\n",
      "0: 640x640 1 inculsion, 2 scratchess, 15.7ms\n",
      "Speed: 5.4ms preprocess, 15.7ms inference, 3.2ms postprocess per image at shape (1, 3, 640, 640)\n"
     ]
    },
    {
     "name": "stderr",
     "output_type": "stream",
     "text": [
      "Processing:  88%|█████████████████████████████████████████████████████████▊        | 1576/1800 [06:13<01:06,  3.35it/s]"
     ]
    },
    {
     "name": "stdout",
     "output_type": "stream",
     "text": [
      "\n",
      "0: 640x640 4 scratchess, 17.7ms\n",
      "Speed: 4.8ms preprocess, 17.7ms inference, 3.8ms postprocess per image at shape (1, 3, 640, 640)\n"
     ]
    },
    {
     "name": "stderr",
     "output_type": "stream",
     "text": [
      "Processing:  88%|█████████████████████████████████████████████████████████▊        | 1577/1800 [06:13<01:07,  3.30it/s]"
     ]
    },
    {
     "name": "stdout",
     "output_type": "stream",
     "text": [
      "\n",
      "0: 640x640 2 inculsions, 1 scratches, 18.7ms\n",
      "Speed: 7.4ms preprocess, 18.7ms inference, 4.0ms postprocess per image at shape (1, 3, 640, 640)\n"
     ]
    },
    {
     "name": "stderr",
     "output_type": "stream",
     "text": [
      "Processing:  88%|█████████████████████████████████████████████████████████▊        | 1578/1800 [06:13<01:03,  3.50it/s]"
     ]
    },
    {
     "name": "stdout",
     "output_type": "stream",
     "text": [
      "\n",
      "0: 640x640 3 scratchess, 15.9ms\n",
      "Speed: 5.1ms preprocess, 15.9ms inference, 4.0ms postprocess per image at shape (1, 3, 640, 640)\n"
     ]
    },
    {
     "name": "stderr",
     "output_type": "stream",
     "text": [
      "Processing:  88%|█████████████████████████████████████████████████████████▉        | 1579/1800 [06:13<01:00,  3.64it/s]"
     ]
    },
    {
     "name": "stdout",
     "output_type": "stream",
     "text": [
      "\n",
      "0: 640x640 2 inculsions, 1 scratches, 17.5ms\n",
      "Speed: 5.4ms preprocess, 17.5ms inference, 3.7ms postprocess per image at shape (1, 3, 640, 640)\n"
     ]
    },
    {
     "name": "stderr",
     "output_type": "stream",
     "text": [
      "Processing:  88%|█████████████████████████████████████████████████████████▉        | 1580/1800 [06:14<00:57,  3.82it/s]"
     ]
    },
    {
     "name": "stdout",
     "output_type": "stream",
     "text": [
      "\n",
      "0: 640x640 5 inculsions, 2 scratchess, 16.6ms\n",
      "Speed: 5.4ms preprocess, 16.6ms inference, 4.1ms postprocess per image at shape (1, 3, 640, 640)\n"
     ]
    },
    {
     "name": "stderr",
     "output_type": "stream",
     "text": [
      "Processing:  88%|█████████████████████████████████████████████████████████▉        | 1581/1800 [06:14<01:15,  2.89it/s]"
     ]
    },
    {
     "name": "stdout",
     "output_type": "stream",
     "text": [
      "\n",
      "0: 640x640 1 inculsion, 3 scratchess, 14.8ms\n",
      "Speed: 5.5ms preprocess, 14.8ms inference, 3.8ms postprocess per image at shape (1, 3, 640, 640)\n"
     ]
    },
    {
     "name": "stderr",
     "output_type": "stream",
     "text": [
      "Processing:  88%|██████████████████████████████████████████████████████████        | 1582/1800 [06:14<01:13,  2.98it/s]"
     ]
    },
    {
     "name": "stdout",
     "output_type": "stream",
     "text": [
      "\n",
      "0: 640x640 5 inculsions, 1 scratches, 17.4ms\n",
      "Speed: 5.3ms preprocess, 17.4ms inference, 3.8ms postprocess per image at shape (1, 3, 640, 640)\n"
     ]
    },
    {
     "name": "stderr",
     "output_type": "stream",
     "text": [
      "Processing:  88%|██████████████████████████████████████████████████████████        | 1583/1800 [06:15<01:20,  2.70it/s]"
     ]
    },
    {
     "name": "stdout",
     "output_type": "stream",
     "text": [
      "\n",
      "0: 640x640 5 scratchess, 89.9ms\n",
      "Speed: 5.9ms preprocess, 89.9ms inference, 8.4ms postprocess per image at shape (1, 3, 640, 640)\n"
     ]
    },
    {
     "name": "stderr",
     "output_type": "stream",
     "text": [
      "Processing:  88%|██████████████████████████████████████████████████████████        | 1584/1800 [06:15<01:25,  2.51it/s]"
     ]
    },
    {
     "name": "stdout",
     "output_type": "stream",
     "text": [
      "\n",
      "0: 640x640 4 scratchess, 18.6ms\n",
      "Speed: 5.7ms preprocess, 18.6ms inference, 4.0ms postprocess per image at shape (1, 3, 640, 640)\n"
     ]
    },
    {
     "name": "stderr",
     "output_type": "stream",
     "text": [
      "Processing:  88%|██████████████████████████████████████████████████████████        | 1585/1800 [06:16<01:19,  2.71it/s]"
     ]
    },
    {
     "name": "stdout",
     "output_type": "stream",
     "text": [
      "\n",
      "0: 640x640 2 scratchess, 16.7ms\n",
      "Speed: 4.4ms preprocess, 16.7ms inference, 3.2ms postprocess per image at shape (1, 3, 640, 640)\n"
     ]
    },
    {
     "name": "stderr",
     "output_type": "stream",
     "text": [
      "Processing:  88%|██████████████████████████████████████████████████████████▏       | 1586/1800 [06:16<01:06,  3.21it/s]"
     ]
    },
    {
     "name": "stdout",
     "output_type": "stream",
     "text": [
      "\n",
      "0: 640x640 1 inculsion, 2 scratchess, 16.9ms\n",
      "Speed: 5.3ms preprocess, 16.9ms inference, 3.4ms postprocess per image at shape (1, 3, 640, 640)\n"
     ]
    },
    {
     "name": "stderr",
     "output_type": "stream",
     "text": [
      "Processing:  88%|██████████████████████████████████████████████████████████▏       | 1587/1800 [06:16<01:01,  3.46it/s]"
     ]
    },
    {
     "name": "stdout",
     "output_type": "stream",
     "text": [
      "\n",
      "0: 640x640 2 scratchess, 19.3ms\n",
      "Speed: 5.0ms preprocess, 19.3ms inference, 3.4ms postprocess per image at shape (1, 3, 640, 640)\n"
     ]
    },
    {
     "name": "stderr",
     "output_type": "stream",
     "text": [
      "Processing:  88%|██████████████████████████████████████████████████████████▏       | 1588/1800 [06:16<00:53,  4.00it/s]"
     ]
    },
    {
     "name": "stdout",
     "output_type": "stream",
     "text": [
      "\n",
      "0: 640x640 1 inculsion, 1 scratches, 18.6ms\n",
      "Speed: 5.2ms preprocess, 18.6ms inference, 4.2ms postprocess per image at shape (1, 3, 640, 640)\n"
     ]
    },
    {
     "name": "stderr",
     "output_type": "stream",
     "text": [
      "Processing:  88%|██████████████████████████████████████████████████████████▎       | 1589/1800 [06:16<00:48,  4.36it/s]"
     ]
    },
    {
     "name": "stdout",
     "output_type": "stream",
     "text": [
      "\n",
      "0: 640x640 2 scratchess, 15.9ms\n",
      "Speed: 6.8ms preprocess, 15.9ms inference, 3.9ms postprocess per image at shape (1, 3, 640, 640)\n"
     ]
    },
    {
     "name": "stderr",
     "output_type": "stream",
     "text": [
      "Processing:  88%|██████████████████████████████████████████████████████████▎       | 1590/1800 [06:17<00:44,  4.72it/s]"
     ]
    },
    {
     "name": "stdout",
     "output_type": "stream",
     "text": [
      "\n",
      "0: 640x640 2 scratchess, 15.9ms\n",
      "Speed: 5.2ms preprocess, 15.9ms inference, 4.3ms postprocess per image at shape (1, 3, 640, 640)\n"
     ]
    },
    {
     "name": "stderr",
     "output_type": "stream",
     "text": [
      "Processing:  88%|██████████████████████████████████████████████████████████▎       | 1591/1800 [06:17<00:41,  5.09it/s]"
     ]
    },
    {
     "name": "stdout",
     "output_type": "stream",
     "text": [
      "\n",
      "0: 640x640 1 scratches, 19.6ms\n",
      "Speed: 5.9ms preprocess, 19.6ms inference, 3.8ms postprocess per image at shape (1, 3, 640, 640)\n"
     ]
    },
    {
     "name": "stderr",
     "output_type": "stream",
     "text": [
      "Processing:  88%|██████████████████████████████████████████████████████████▎       | 1592/1800 [06:17<00:36,  5.78it/s]"
     ]
    },
    {
     "name": "stdout",
     "output_type": "stream",
     "text": [
      "\n",
      "0: 640x640 2 scratchess, 15.0ms\n",
      "Speed: 4.9ms preprocess, 15.0ms inference, 3.6ms postprocess per image at shape (1, 3, 640, 640)\n"
     ]
    },
    {
     "name": "stderr",
     "output_type": "stream",
     "text": [
      "Processing:  88%|██████████████████████████████████████████████████████████▍       | 1593/1800 [06:17<00:34,  5.96it/s]"
     ]
    },
    {
     "name": "stdout",
     "output_type": "stream",
     "text": [
      "\n",
      "0: 640x640 1 inculsion, 2 scratchess, 16.5ms\n",
      "Speed: 4.9ms preprocess, 16.5ms inference, 3.5ms postprocess per image at shape (1, 3, 640, 640)\n"
     ]
    },
    {
     "name": "stderr",
     "output_type": "stream",
     "text": [
      "Processing:  89%|██████████████████████████████████████████████████████████▍       | 1594/1800 [06:17<00:39,  5.28it/s]"
     ]
    },
    {
     "name": "stdout",
     "output_type": "stream",
     "text": [
      "\n",
      "0: 640x640 1 scratches, 29.8ms\n",
      "Speed: 5.1ms preprocess, 29.8ms inference, 3.4ms postprocess per image at shape (1, 3, 640, 640)\n"
     ]
    },
    {
     "name": "stderr",
     "output_type": "stream",
     "text": [
      "Processing:  89%|██████████████████████████████████████████████████████████▍       | 1595/1800 [06:17<00:33,  6.06it/s]"
     ]
    },
    {
     "name": "stdout",
     "output_type": "stream",
     "text": [
      "\n",
      "0: 640x640 2 scratchess, 17.1ms\n",
      "Speed: 5.1ms preprocess, 17.1ms inference, 3.8ms postprocess per image at shape (1, 3, 640, 640)\n"
     ]
    },
    {
     "name": "stderr",
     "output_type": "stream",
     "text": [
      "Processing:  89%|██████████████████████████████████████████████████████████▌       | 1596/1800 [06:17<00:33,  6.10it/s]"
     ]
    },
    {
     "name": "stdout",
     "output_type": "stream",
     "text": [
      "\n",
      "0: 640x640 2 scratchess, 21.4ms\n",
      "Speed: 5.1ms preprocess, 21.4ms inference, 5.1ms postprocess per image at shape (1, 3, 640, 640)\n"
     ]
    },
    {
     "name": "stderr",
     "output_type": "stream",
     "text": [
      "Processing:  89%|██████████████████████████████████████████████████████████▌       | 1597/1800 [06:18<00:34,  5.88it/s]"
     ]
    },
    {
     "name": "stdout",
     "output_type": "stream",
     "text": [
      "\n",
      "0: 640x640 1 inculsion, 2 scratchess, 23.0ms\n",
      "Speed: 5.9ms preprocess, 23.0ms inference, 3.5ms postprocess per image at shape (1, 3, 640, 640)\n"
     ]
    },
    {
     "name": "stderr",
     "output_type": "stream",
     "text": [
      "Processing:  89%|██████████████████████████████████████████████████████████▌       | 1598/1800 [06:18<00:39,  5.12it/s]"
     ]
    },
    {
     "name": "stdout",
     "output_type": "stream",
     "text": [
      "\n",
      "0: 640x640 2 scratchess, 14.6ms\n",
      "Speed: 4.6ms preprocess, 14.6ms inference, 3.5ms postprocess per image at shape (1, 3, 640, 640)\n"
     ]
    },
    {
     "name": "stderr",
     "output_type": "stream",
     "text": [
      "Processing:  89%|██████████████████████████████████████████████████████████▋       | 1599/1800 [06:18<00:37,  5.42it/s]"
     ]
    },
    {
     "name": "stdout",
     "output_type": "stream",
     "text": [
      "\n",
      "0: 640x640 1 scratches, 19.5ms\n",
      "Speed: 5.4ms preprocess, 19.5ms inference, 3.6ms postprocess per image at shape (1, 3, 640, 640)\n"
     ]
    },
    {
     "name": "stderr",
     "output_type": "stream",
     "text": [
      "Processing:  89%|██████████████████████████████████████████████████████████▋       | 1600/1800 [06:18<00:31,  6.27it/s]"
     ]
    },
    {
     "name": "stdout",
     "output_type": "stream",
     "text": [
      "\n",
      "0: 640x640 2 scratchess, 20.3ms\n",
      "Speed: 5.1ms preprocess, 20.3ms inference, 3.7ms postprocess per image at shape (1, 3, 640, 640)\n"
     ]
    },
    {
     "name": "stderr",
     "output_type": "stream",
     "text": [
      "Processing:  89%|██████████████████████████████████████████████████████████▋       | 1601/1800 [06:18<00:33,  5.88it/s]"
     ]
    },
    {
     "name": "stdout",
     "output_type": "stream",
     "text": [
      "\n",
      "0: 640x640 1 scratches, 17.4ms\n",
      "Speed: 5.4ms preprocess, 17.4ms inference, 3.4ms postprocess per image at shape (1, 3, 640, 640)\n",
      "\n",
      "0: 640x640 2 scratchess, 17.6ms\n",
      "Speed: 5.1ms preprocess, 17.6ms inference, 3.5ms postprocess per image at shape (1, 3, 640, 640)\n"
     ]
    },
    {
     "name": "stderr",
     "output_type": "stream",
     "text": [
      "Processing:  89%|██████████████████████████████████████████████████████████▊       | 1603/1800 [06:19<00:30,  6.49it/s]"
     ]
    },
    {
     "name": "stdout",
     "output_type": "stream",
     "text": [
      "\n",
      "0: 640x640 2 scratchess, 16.7ms\n",
      "Speed: 7.2ms preprocess, 16.7ms inference, 3.5ms postprocess per image at shape (1, 3, 640, 640)\n"
     ]
    },
    {
     "name": "stderr",
     "output_type": "stream",
     "text": [
      "Processing:  89%|██████████████████████████████████████████████████████████▊       | 1604/1800 [06:19<00:31,  6.27it/s]"
     ]
    },
    {
     "name": "stdout",
     "output_type": "stream",
     "text": [
      "\n",
      "0: 640x640 1 inculsion, 2 scratchess, 17.2ms\n",
      "Speed: 5.0ms preprocess, 17.2ms inference, 3.4ms postprocess per image at shape (1, 3, 640, 640)\n"
     ]
    },
    {
     "name": "stderr",
     "output_type": "stream",
     "text": [
      "Processing:  89%|██████████████████████████████████████████████████████████▊       | 1605/1800 [06:19<00:34,  5.62it/s]"
     ]
    },
    {
     "name": "stdout",
     "output_type": "stream",
     "text": [
      "\n",
      "0: 640x640 3 scratchess, 15.1ms\n",
      "Speed: 5.2ms preprocess, 15.1ms inference, 3.5ms postprocess per image at shape (1, 3, 640, 640)\n"
     ]
    },
    {
     "name": "stderr",
     "output_type": "stream",
     "text": [
      "Processing:  89%|██████████████████████████████████████████████████████████▉       | 1606/1800 [06:19<00:38,  5.07it/s]"
     ]
    },
    {
     "name": "stdout",
     "output_type": "stream",
     "text": [
      "\n",
      "0: 640x640 1 inculsion, 3 scratchess, 18.0ms\n",
      "Speed: 5.5ms preprocess, 18.0ms inference, 4.4ms postprocess per image at shape (1, 3, 640, 640)\n"
     ]
    },
    {
     "name": "stderr",
     "output_type": "stream",
     "text": [
      "Processing:  89%|██████████████████████████████████████████████████████████▉       | 1607/1800 [06:20<00:44,  4.35it/s]"
     ]
    },
    {
     "name": "stdout",
     "output_type": "stream",
     "text": [
      "\n",
      "0: 640x640 1 inculsion, 3 scratchess, 16.8ms\n",
      "Speed: 6.3ms preprocess, 16.8ms inference, 4.1ms postprocess per image at shape (1, 3, 640, 640)\n"
     ]
    },
    {
     "name": "stderr",
     "output_type": "stream",
     "text": [
      "Processing:  89%|██████████████████████████████████████████████████████████▉       | 1608/1800 [06:20<00:48,  3.99it/s]"
     ]
    },
    {
     "name": "stdout",
     "output_type": "stream",
     "text": [
      "\n",
      "0: 640x640 1 inculsion, 3 scratchess, 19.6ms\n",
      "Speed: 5.0ms preprocess, 19.6ms inference, 6.9ms postprocess per image at shape (1, 3, 640, 640)\n"
     ]
    },
    {
     "name": "stderr",
     "output_type": "stream",
     "text": [
      "Processing:  89%|██████████████████████████████████████████████████████████▉       | 1609/1800 [06:20<00:54,  3.50it/s]"
     ]
    },
    {
     "name": "stdout",
     "output_type": "stream",
     "text": [
      "\n",
      "0: 640x640 3 inculsions, 3 scratchess, 70.1ms\n",
      "Speed: 6.0ms preprocess, 70.1ms inference, 4.0ms postprocess per image at shape (1, 3, 640, 640)\n"
     ]
    },
    {
     "name": "stderr",
     "output_type": "stream",
     "text": [
      "Processing:  89%|███████████████████████████████████████████████████████████       | 1610/1800 [06:21<01:07,  2.82it/s]"
     ]
    },
    {
     "name": "stdout",
     "output_type": "stream",
     "text": [
      "\n",
      "0: 640x640 2 inculsions, 2 scratchess, 19.0ms\n",
      "Speed: 4.6ms preprocess, 19.0ms inference, 4.4ms postprocess per image at shape (1, 3, 640, 640)\n"
     ]
    },
    {
     "name": "stderr",
     "output_type": "stream",
     "text": [
      "Processing:  90%|███████████████████████████████████████████████████████████       | 1611/1800 [06:21<01:04,  2.92it/s]"
     ]
    },
    {
     "name": "stdout",
     "output_type": "stream",
     "text": [
      "\n",
      "0: 640x640 3 scratchess, 18.1ms\n",
      "Speed: 5.3ms preprocess, 18.1ms inference, 3.0ms postprocess per image at shape (1, 3, 640, 640)\n"
     ]
    },
    {
     "name": "stderr",
     "output_type": "stream",
     "text": [
      "Processing:  90%|███████████████████████████████████████████████████████████       | 1612/1800 [06:21<00:58,  3.20it/s]"
     ]
    },
    {
     "name": "stdout",
     "output_type": "stream",
     "text": [
      "\n",
      "0: 640x640 2 scratchess, 17.5ms\n",
      "Speed: 4.0ms preprocess, 17.5ms inference, 4.1ms postprocess per image at shape (1, 3, 640, 640)\n"
     ]
    },
    {
     "name": "stderr",
     "output_type": "stream",
     "text": [
      "Processing:  90%|███████████████████████████████████████████████████████████▏      | 1613/1800 [06:22<00:50,  3.73it/s]"
     ]
    },
    {
     "name": "stdout",
     "output_type": "stream",
     "text": [
      "\n",
      "0: 640x640 2 inculsions, 2 scratchess, 22.3ms\n",
      "Speed: 5.0ms preprocess, 22.3ms inference, 3.6ms postprocess per image at shape (1, 3, 640, 640)\n"
     ]
    },
    {
     "name": "stderr",
     "output_type": "stream",
     "text": [
      "Processing:  90%|███████████████████████████████████████████████████████████▏      | 1614/1800 [06:22<00:51,  3.62it/s]"
     ]
    },
    {
     "name": "stdout",
     "output_type": "stream",
     "text": [
      "\n",
      "0: 640x640 1 inculsion, 1 scratches, 17.2ms\n",
      "Speed: 5.4ms preprocess, 17.2ms inference, 3.2ms postprocess per image at shape (1, 3, 640, 640)\n"
     ]
    },
    {
     "name": "stderr",
     "output_type": "stream",
     "text": [
      "Processing:  90%|███████████████████████████████████████████████████████████▏      | 1615/1800 [06:22<00:45,  4.07it/s]"
     ]
    },
    {
     "name": "stdout",
     "output_type": "stream",
     "text": [
      "\n",
      "0: 640x640 1 inculsion, 3 scratchess, 16.8ms\n",
      "Speed: 4.1ms preprocess, 16.8ms inference, 3.4ms postprocess per image at shape (1, 3, 640, 640)\n"
     ]
    },
    {
     "name": "stderr",
     "output_type": "stream",
     "text": [
      "Processing:  90%|███████████████████████████████████████████████████████████▎      | 1616/1800 [06:22<00:48,  3.79it/s]"
     ]
    },
    {
     "name": "stdout",
     "output_type": "stream",
     "text": [
      "\n",
      "0: 640x640 1 inculsion, 3 scratchess, 17.0ms\n",
      "Speed: 4.6ms preprocess, 17.0ms inference, 2.8ms postprocess per image at shape (1, 3, 640, 640)\n"
     ]
    },
    {
     "name": "stderr",
     "output_type": "stream",
     "text": [
      "Processing:  90%|███████████████████████████████████████████████████████████▎      | 1617/1800 [06:23<00:49,  3.68it/s]"
     ]
    },
    {
     "name": "stdout",
     "output_type": "stream",
     "text": [
      "\n",
      "0: 640x640 2 inculsions, 2 scratchess, 17.5ms\n",
      "Speed: 4.9ms preprocess, 17.5ms inference, 3.8ms postprocess per image at shape (1, 3, 640, 640)\n"
     ]
    },
    {
     "name": "stderr",
     "output_type": "stream",
     "text": [
      "Processing:  90%|███████████████████████████████████████████████████████████▎      | 1618/1800 [06:23<00:51,  3.50it/s]"
     ]
    },
    {
     "name": "stdout",
     "output_type": "stream",
     "text": [
      "\n",
      "0: 640x640 2 inculsions, 2 scratchess, 17.2ms\n",
      "Speed: 5.4ms preprocess, 17.2ms inference, 2.3ms postprocess per image at shape (1, 3, 640, 640)\n"
     ]
    },
    {
     "name": "stderr",
     "output_type": "stream",
     "text": [
      "Processing:  90%|███████████████████████████████████████████████████████████▎      | 1619/1800 [06:23<00:52,  3.46it/s]"
     ]
    },
    {
     "name": "stdout",
     "output_type": "stream",
     "text": [
      "\n",
      "0: 640x640 2 scratchess, 17.9ms\n",
      "Speed: 4.7ms preprocess, 17.9ms inference, 3.6ms postprocess per image at shape (1, 3, 640, 640)\n"
     ]
    },
    {
     "name": "stderr",
     "output_type": "stream",
     "text": [
      "Processing:  90%|███████████████████████████████████████████████████████████▍      | 1620/1800 [06:23<00:45,  3.93it/s]"
     ]
    },
    {
     "name": "stdout",
     "output_type": "stream",
     "text": [
      "\n",
      "0: 640x640 3 scratchess, 17.9ms\n",
      "Speed: 5.5ms preprocess, 17.9ms inference, 2.9ms postprocess per image at shape (1, 3, 640, 640)\n"
     ]
    },
    {
     "name": "stderr",
     "output_type": "stream",
     "text": [
      "Processing:  90%|███████████████████████████████████████████████████████████▍      | 1621/1800 [06:24<00:44,  4.05it/s]"
     ]
    },
    {
     "name": "stdout",
     "output_type": "stream",
     "text": [
      "\n",
      "0: 640x640 2 scratchess, 11.5ms\n",
      "Speed: 5.1ms preprocess, 11.5ms inference, 3.0ms postprocess per image at shape (1, 3, 640, 640)\n"
     ]
    },
    {
     "name": "stderr",
     "output_type": "stream",
     "text": [
      "Processing:  90%|███████████████████████████████████████████████████████████▍      | 1622/1800 [06:24<00:39,  4.50it/s]"
     ]
    },
    {
     "name": "stdout",
     "output_type": "stream",
     "text": [
      "\n",
      "0: 640x640 1 inculsion, 2 scratchess, 15.4ms\n",
      "Speed: 5.4ms preprocess, 15.4ms inference, 3.8ms postprocess per image at shape (1, 3, 640, 640)\n"
     ]
    },
    {
     "name": "stderr",
     "output_type": "stream",
     "text": [
      "Processing:  90%|███████████████████████████████████████████████████████████▌      | 1623/1800 [06:24<00:40,  4.38it/s]"
     ]
    },
    {
     "name": "stdout",
     "output_type": "stream",
     "text": [
      "\n",
      "0: 640x640 1 scratches, 28.1ms\n",
      "Speed: 5.0ms preprocess, 28.1ms inference, 2.8ms postprocess per image at shape (1, 3, 640, 640)\n"
     ]
    },
    {
     "name": "stderr",
     "output_type": "stream",
     "text": [
      "Processing:  90%|███████████████████████████████████████████████████████████▌      | 1624/1800 [06:24<00:34,  5.10it/s]"
     ]
    },
    {
     "name": "stdout",
     "output_type": "stream",
     "text": [
      "\n",
      "0: 640x640 2 inculsions, 3 scratchess, 13.8ms\n",
      "Speed: 4.7ms preprocess, 13.8ms inference, 2.9ms postprocess per image at shape (1, 3, 640, 640)\n"
     ]
    },
    {
     "name": "stderr",
     "output_type": "stream",
     "text": [
      "Processing:  90%|███████████████████████████████████████████████████████████▌      | 1625/1800 [06:25<00:44,  3.95it/s]"
     ]
    },
    {
     "name": "stdout",
     "output_type": "stream",
     "text": [
      "\n",
      "0: 640x640 1 inculsion, 2 scratchess, 17.3ms\n",
      "Speed: 5.0ms preprocess, 17.3ms inference, 5.9ms postprocess per image at shape (1, 3, 640, 640)\n"
     ]
    },
    {
     "name": "stderr",
     "output_type": "stream",
     "text": [
      "Processing:  90%|███████████████████████████████████████████████████████████▌      | 1626/1800 [06:25<00:44,  3.91it/s]"
     ]
    },
    {
     "name": "stdout",
     "output_type": "stream",
     "text": [
      "\n",
      "0: 640x640 2 scratchess, 18.6ms\n",
      "Speed: 5.9ms preprocess, 18.6ms inference, 4.4ms postprocess per image at shape (1, 3, 640, 640)\n"
     ]
    },
    {
     "name": "stderr",
     "output_type": "stream",
     "text": [
      "Processing:  90%|███████████████████████████████████████████████████████████▋      | 1627/1800 [06:25<00:39,  4.34it/s]"
     ]
    },
    {
     "name": "stdout",
     "output_type": "stream",
     "text": [
      "\n",
      "0: 640x640 2 scratchess, 41.3ms\n",
      "Speed: 5.5ms preprocess, 41.3ms inference, 11.0ms postprocess per image at shape (1, 3, 640, 640)\n"
     ]
    },
    {
     "name": "stderr",
     "output_type": "stream",
     "text": [
      "Processing:  90%|███████████████████████████████████████████████████████████▋      | 1628/1800 [06:25<00:42,  4.05it/s]"
     ]
    },
    {
     "name": "stdout",
     "output_type": "stream",
     "text": [
      "\n",
      "0: 640x640 2 inculsions, 2 scratchess, 17.6ms\n",
      "Speed: 3.5ms preprocess, 17.6ms inference, 3.8ms postprocess per image at shape (1, 3, 640, 640)\n"
     ]
    },
    {
     "name": "stderr",
     "output_type": "stream",
     "text": [
      "Processing:  90%|███████████████████████████████████████████████████████████▋      | 1629/1800 [06:26<00:45,  3.77it/s]"
     ]
    },
    {
     "name": "stdout",
     "output_type": "stream",
     "text": [
      "\n",
      "0: 640x640 3 scratchess, 19.3ms\n",
      "Speed: 5.3ms preprocess, 19.3ms inference, 2.7ms postprocess per image at shape (1, 3, 640, 640)\n"
     ]
    },
    {
     "name": "stderr",
     "output_type": "stream",
     "text": [
      "Processing:  91%|███████████████████████████████████████████████████████████▊      | 1630/1800 [06:26<00:44,  3.81it/s]"
     ]
    },
    {
     "name": "stdout",
     "output_type": "stream",
     "text": [
      "\n",
      "0: 640x640 1 inculsion, 5 scratchess, 18.6ms\n",
      "Speed: 5.2ms preprocess, 18.6ms inference, 3.3ms postprocess per image at shape (1, 3, 640, 640)\n"
     ]
    },
    {
     "name": "stderr",
     "output_type": "stream",
     "text": [
      "Processing:  91%|███████████████████████████████████████████████████████████▊      | 1631/1800 [06:26<00:53,  3.15it/s]"
     ]
    },
    {
     "name": "stdout",
     "output_type": "stream",
     "text": [
      "\n",
      "0: 640x640 4 scratchess, 17.4ms\n",
      "Speed: 5.2ms preprocess, 17.4ms inference, 3.6ms postprocess per image at shape (1, 3, 640, 640)\n"
     ]
    },
    {
     "name": "stderr",
     "output_type": "stream",
     "text": [
      "Processing:  91%|███████████████████████████████████████████████████████████▊      | 1632/1800 [06:27<00:53,  3.15it/s]"
     ]
    },
    {
     "name": "stdout",
     "output_type": "stream",
     "text": [
      "\n",
      "0: 640x640 4 scratchess, 18.6ms\n",
      "Speed: 6.1ms preprocess, 18.6ms inference, 3.7ms postprocess per image at shape (1, 3, 640, 640)\n"
     ]
    },
    {
     "name": "stderr",
     "output_type": "stream",
     "text": [
      "Processing:  91%|███████████████████████████████████████████████████████████▉      | 1633/1800 [06:27<00:54,  3.08it/s]"
     ]
    },
    {
     "name": "stdout",
     "output_type": "stream",
     "text": [
      "\n",
      "0: 640x640 6 scratchess, 17.9ms\n",
      "Speed: 3.7ms preprocess, 17.9ms inference, 3.4ms postprocess per image at shape (1, 3, 640, 640)\n"
     ]
    },
    {
     "name": "stderr",
     "output_type": "stream",
     "text": [
      "Processing:  91%|███████████████████████████████████████████████████████████▉      | 1634/1800 [06:27<01:00,  2.75it/s]"
     ]
    },
    {
     "name": "stdout",
     "output_type": "stream",
     "text": [
      "\n",
      "0: 640x640 3 scratchess, 20.6ms\n",
      "Speed: 5.2ms preprocess, 20.6ms inference, 3.8ms postprocess per image at shape (1, 3, 640, 640)\n"
     ]
    },
    {
     "name": "stderr",
     "output_type": "stream",
     "text": [
      "Processing:  91%|███████████████████████████████████████████████████████████▉      | 1635/1800 [06:28<00:54,  3.01it/s]"
     ]
    },
    {
     "name": "stdout",
     "output_type": "stream",
     "text": [
      "\n",
      "0: 640x640 4 scratchess, 35.5ms\n",
      "Speed: 5.0ms preprocess, 35.5ms inference, 4.0ms postprocess per image at shape (1, 3, 640, 640)\n"
     ]
    },
    {
     "name": "stderr",
     "output_type": "stream",
     "text": [
      "Processing:  91%|███████████████████████████████████████████████████████████▉      | 1636/1800 [06:28<00:54,  3.02it/s]"
     ]
    },
    {
     "name": "stdout",
     "output_type": "stream",
     "text": [
      "\n",
      "0: 640x640 6 scratchess, 15.5ms\n",
      "Speed: 5.6ms preprocess, 15.5ms inference, 3.4ms postprocess per image at shape (1, 3, 640, 640)\n"
     ]
    },
    {
     "name": "stderr",
     "output_type": "stream",
     "text": [
      "Processing:  91%|████████████████████████████████████████████████████████████      | 1637/1800 [06:28<00:59,  2.74it/s]"
     ]
    },
    {
     "name": "stdout",
     "output_type": "stream",
     "text": [
      "\n",
      "0: 640x640 1 inculsion, 3 scratchess, 17.5ms\n",
      "Speed: 5.6ms preprocess, 17.5ms inference, 3.4ms postprocess per image at shape (1, 3, 640, 640)\n"
     ]
    },
    {
     "name": "stderr",
     "output_type": "stream",
     "text": [
      "Processing:  91%|████████████████████████████████████████████████████████████      | 1638/1800 [06:29<00:57,  2.84it/s]"
     ]
    },
    {
     "name": "stdout",
     "output_type": "stream",
     "text": [
      "\n",
      "0: 640x640 1 inculsion, 4 scratchess, 17.8ms\n",
      "Speed: 5.3ms preprocess, 17.8ms inference, 3.5ms postprocess per image at shape (1, 3, 640, 640)\n"
     ]
    },
    {
     "name": "stderr",
     "output_type": "stream",
     "text": [
      "Processing:  91%|████████████████████████████████████████████████████████████      | 1639/1800 [06:29<00:57,  2.78it/s]"
     ]
    },
    {
     "name": "stdout",
     "output_type": "stream",
     "text": [
      "\n",
      "0: 640x640 1 inculsion, 4 scratchess, 16.9ms\n",
      "Speed: 5.5ms preprocess, 16.9ms inference, 3.0ms postprocess per image at shape (1, 3, 640, 640)\n"
     ]
    },
    {
     "name": "stderr",
     "output_type": "stream",
     "text": [
      "Processing:  91%|████████████████████████████████████████████████████████████▏     | 1640/1800 [06:30<01:03,  2.54it/s]"
     ]
    },
    {
     "name": "stdout",
     "output_type": "stream",
     "text": [
      "\n",
      "0: 640x640 1 inculsion, 4 scratchess, 15.2ms\n",
      "Speed: 4.9ms preprocess, 15.2ms inference, 3.0ms postprocess per image at shape (1, 3, 640, 640)\n"
     ]
    },
    {
     "name": "stderr",
     "output_type": "stream",
     "text": [
      "Processing:  91%|████████████████████████████████████████████████████████████▏     | 1641/1800 [06:30<01:02,  2.56it/s]"
     ]
    },
    {
     "name": "stdout",
     "output_type": "stream",
     "text": [
      "\n",
      "0: 640x640 2 inculsions, 1 pitted_surface, 1 scratches, 13.3ms\n",
      "Speed: 5.4ms preprocess, 13.3ms inference, 3.4ms postprocess per image at shape (1, 3, 640, 640)\n"
     ]
    },
    {
     "name": "stderr",
     "output_type": "stream",
     "text": [
      "Processing:  91%|████████████████████████████████████████████████████████████▏     | 1642/1800 [06:30<00:58,  2.70it/s]"
     ]
    },
    {
     "name": "stdout",
     "output_type": "stream",
     "text": [
      "\n",
      "0: 640x640 3 scratchess, 16.7ms\n",
      "Speed: 4.7ms preprocess, 16.7ms inference, 3.8ms postprocess per image at shape (1, 3, 640, 640)\n"
     ]
    },
    {
     "name": "stderr",
     "output_type": "stream",
     "text": [
      "Processing:  91%|████████████████████████████████████████████████████████████▏     | 1643/1800 [06:31<00:51,  3.06it/s]"
     ]
    },
    {
     "name": "stdout",
     "output_type": "stream",
     "text": [
      "\n",
      "0: 640x640 1 pitted_surface, 2 scratchess, 15.8ms\n",
      "Speed: 5.6ms preprocess, 15.8ms inference, 3.3ms postprocess per image at shape (1, 3, 640, 640)\n"
     ]
    },
    {
     "name": "stderr",
     "output_type": "stream",
     "text": [
      "Processing:  91%|████████████████████████████████████████████████████████████▎     | 1644/1800 [06:31<00:46,  3.35it/s]"
     ]
    },
    {
     "name": "stdout",
     "output_type": "stream",
     "text": [
      "\n",
      "0: 640x640 2 inculsions, 1 scratches, 17.4ms\n",
      "Speed: 5.0ms preprocess, 17.4ms inference, 3.3ms postprocess per image at shape (1, 3, 640, 640)\n"
     ]
    },
    {
     "name": "stderr",
     "output_type": "stream",
     "text": [
      "Processing:  91%|████████████████████████████████████████████████████████████▎     | 1645/1800 [06:31<00:43,  3.56it/s]"
     ]
    },
    {
     "name": "stdout",
     "output_type": "stream",
     "text": [
      "\n",
      "0: 640x640 3 scratchess, 20.1ms\n",
      "Speed: 5.0ms preprocess, 20.1ms inference, 2.5ms postprocess per image at shape (1, 3, 640, 640)\n"
     ]
    },
    {
     "name": "stderr",
     "output_type": "stream",
     "text": [
      "Processing:  91%|████████████████████████████████████████████████████████████▎     | 1646/1800 [06:31<00:41,  3.72it/s]"
     ]
    },
    {
     "name": "stdout",
     "output_type": "stream",
     "text": [
      "\n",
      "0: 640x640 1 inculsion, 4 scratchess, 17.7ms\n",
      "Speed: 4.9ms preprocess, 17.7ms inference, 3.5ms postprocess per image at shape (1, 3, 640, 640)\n"
     ]
    },
    {
     "name": "stderr",
     "output_type": "stream",
     "text": [
      "Processing:  92%|████████████████████████████████████████████████████████████▍     | 1647/1800 [06:32<00:47,  3.24it/s]"
     ]
    },
    {
     "name": "stdout",
     "output_type": "stream",
     "text": [
      "\n",
      "0: 640x640 1 inculsion, 3 scratchess, 17.4ms\n",
      "Speed: 5.2ms preprocess, 17.4ms inference, 3.5ms postprocess per image at shape (1, 3, 640, 640)\n"
     ]
    },
    {
     "name": "stderr",
     "output_type": "stream",
     "text": [
      "Processing:  92%|████████████████████████████████████████████████████████████▍     | 1648/1800 [06:32<00:46,  3.25it/s]"
     ]
    },
    {
     "name": "stdout",
     "output_type": "stream",
     "text": [
      "\n",
      "0: 640x640 2 inculsions, 2 scratchess, 16.4ms\n",
      "Speed: 5.1ms preprocess, 16.4ms inference, 3.8ms postprocess per image at shape (1, 3, 640, 640)\n"
     ]
    },
    {
     "name": "stderr",
     "output_type": "stream",
     "text": [
      "Processing:  92%|████████████████████████████████████████████████████████████▍     | 1649/1800 [06:32<00:50,  3.02it/s]"
     ]
    },
    {
     "name": "stdout",
     "output_type": "stream",
     "text": [
      "\n",
      "0: 640x640 2 inculsions, 3 scratchess, 50.7ms\n",
      "Speed: 6.7ms preprocess, 50.7ms inference, 3.6ms postprocess per image at shape (1, 3, 640, 640)\n"
     ]
    },
    {
     "name": "stderr",
     "output_type": "stream",
     "text": [
      "Processing:  92%|████████████████████████████████████████████████████████████▌     | 1650/1800 [06:33<00:53,  2.82it/s]"
     ]
    },
    {
     "name": "stdout",
     "output_type": "stream",
     "text": [
      "\n",
      "0: 640x640 2 scratchess, 14.3ms\n",
      "Speed: 5.6ms preprocess, 14.3ms inference, 3.2ms postprocess per image at shape (1, 3, 640, 640)\n"
     ]
    },
    {
     "name": "stderr",
     "output_type": "stream",
     "text": [
      "Processing:  92%|████████████████████████████████████████████████████████████▌     | 1651/1800 [06:33<00:44,  3.36it/s]"
     ]
    },
    {
     "name": "stdout",
     "output_type": "stream",
     "text": [
      "\n",
      "0: 640x640 3 scratchess, 17.9ms\n",
      "Speed: 4.8ms preprocess, 17.9ms inference, 4.1ms postprocess per image at shape (1, 3, 640, 640)\n"
     ]
    },
    {
     "name": "stderr",
     "output_type": "stream",
     "text": [
      "Processing:  92%|████████████████████████████████████████████████████████████▌     | 1652/1800 [06:33<00:42,  3.51it/s]"
     ]
    },
    {
     "name": "stdout",
     "output_type": "stream",
     "text": [
      "\n",
      "0: 640x640 3 scratchess, 16.8ms\n",
      "Speed: 4.8ms preprocess, 16.8ms inference, 3.5ms postprocess per image at shape (1, 3, 640, 640)\n"
     ]
    },
    {
     "name": "stderr",
     "output_type": "stream",
     "text": [
      "Processing:  92%|████████████████████████████████████████████████████████████▌     | 1653/1800 [06:33<00:39,  3.69it/s]"
     ]
    },
    {
     "name": "stdout",
     "output_type": "stream",
     "text": [
      "\n",
      "0: 640x640 1 inculsion, 5 scratchess, 17.5ms\n",
      "Speed: 5.4ms preprocess, 17.5ms inference, 3.4ms postprocess per image at shape (1, 3, 640, 640)\n"
     ]
    },
    {
     "name": "stderr",
     "output_type": "stream",
     "text": [
      "Processing:  92%|████████████████████████████████████████████████████████████▋     | 1654/1800 [06:34<00:47,  3.08it/s]"
     ]
    },
    {
     "name": "stdout",
     "output_type": "stream",
     "text": [
      "\n",
      "0: 640x640 1 inculsion, 4 scratchess, 15.3ms\n",
      "Speed: 5.2ms preprocess, 15.3ms inference, 3.3ms postprocess per image at shape (1, 3, 640, 640)\n"
     ]
    },
    {
     "name": "stderr",
     "output_type": "stream",
     "text": [
      "Processing:  92%|████████████████████████████████████████████████████████████▋     | 1655/1800 [06:34<00:49,  2.96it/s]"
     ]
    },
    {
     "name": "stdout",
     "output_type": "stream",
     "text": [
      "\n",
      "0: 640x640 5 scratchess, 15.9ms\n",
      "Speed: 5.3ms preprocess, 15.9ms inference, 3.6ms postprocess per image at shape (1, 3, 640, 640)\n"
     ]
    },
    {
     "name": "stderr",
     "output_type": "stream",
     "text": [
      "Processing:  92%|████████████████████████████████████████████████████████████▋     | 1656/1800 [06:35<00:50,  2.85it/s]"
     ]
    },
    {
     "name": "stdout",
     "output_type": "stream",
     "text": [
      "\n",
      "0: 640x640 2 scratchess, 17.3ms\n",
      "Speed: 5.2ms preprocess, 17.3ms inference, 3.5ms postprocess per image at shape (1, 3, 640, 640)\n"
     ]
    },
    {
     "name": "stderr",
     "output_type": "stream",
     "text": [
      "Processing:  92%|████████████████████████████████████████████████████████████▊     | 1657/1800 [06:35<00:42,  3.37it/s]"
     ]
    },
    {
     "name": "stdout",
     "output_type": "stream",
     "text": [
      "\n",
      "0: 640x640 4 scratchess, 16.1ms\n",
      "Speed: 6.9ms preprocess, 16.1ms inference, 3.7ms postprocess per image at shape (1, 3, 640, 640)\n"
     ]
    },
    {
     "name": "stderr",
     "output_type": "stream",
     "text": [
      "Processing:  92%|████████████████████████████████████████████████████████████▊     | 1658/1800 [06:35<00:42,  3.31it/s]"
     ]
    },
    {
     "name": "stdout",
     "output_type": "stream",
     "text": [
      "\n",
      "0: 640x640 5 scratchess, 17.2ms\n",
      "Speed: 5.3ms preprocess, 17.2ms inference, 4.0ms postprocess per image at shape (1, 3, 640, 640)\n"
     ]
    },
    {
     "name": "stderr",
     "output_type": "stream",
     "text": [
      "Processing:  92%|████████████████████████████████████████████████████████████▊     | 1659/1800 [06:35<00:45,  3.10it/s]"
     ]
    },
    {
     "name": "stdout",
     "output_type": "stream",
     "text": [
      "\n",
      "0: 640x640 1 inculsion, 3 scratchess, 14.2ms\n",
      "Speed: 5.6ms preprocess, 14.2ms inference, 5.6ms postprocess per image at shape (1, 3, 640, 640)\n"
     ]
    },
    {
     "name": "stderr",
     "output_type": "stream",
     "text": [
      "Processing:  92%|████████████████████████████████████████████████████████████▊     | 1660/1800 [06:36<00:44,  3.13it/s]"
     ]
    },
    {
     "name": "stdout",
     "output_type": "stream",
     "text": [
      "\n",
      "0: 640x640 6 scratchess, 19.4ms\n",
      "Speed: 4.5ms preprocess, 19.4ms inference, 5.9ms postprocess per image at shape (1, 3, 640, 640)\n"
     ]
    },
    {
     "name": "stderr",
     "output_type": "stream",
     "text": [
      "Processing:  92%|████████████████████████████████████████████████████████████▉     | 1661/1800 [06:36<00:49,  2.82it/s]"
     ]
    },
    {
     "name": "stdout",
     "output_type": "stream",
     "text": [
      "\n",
      "0: 640x640 1 inculsion, 3 scratchess, 17.7ms\n",
      "Speed: 5.2ms preprocess, 17.7ms inference, 3.5ms postprocess per image at shape (1, 3, 640, 640)\n"
     ]
    },
    {
     "name": "stderr",
     "output_type": "stream",
     "text": [
      "Processing:  92%|████████████████████████████████████████████████████████████▉     | 1662/1800 [06:37<00:47,  2.90it/s]"
     ]
    },
    {
     "name": "stdout",
     "output_type": "stream",
     "text": [
      "\n",
      "0: 640x640 4 scratchess, 12.0ms\n",
      "Speed: 6.1ms preprocess, 12.0ms inference, 3.4ms postprocess per image at shape (1, 3, 640, 640)\n"
     ]
    },
    {
     "name": "stderr",
     "output_type": "stream",
     "text": [
      "Processing:  92%|████████████████████████████████████████████████████████████▉     | 1663/1800 [06:37<00:45,  3.00it/s]"
     ]
    },
    {
     "name": "stdout",
     "output_type": "stream",
     "text": [
      "\n",
      "0: 640x640 2 scratchess, 17.5ms\n",
      "Speed: 5.2ms preprocess, 17.5ms inference, 3.8ms postprocess per image at shape (1, 3, 640, 640)\n"
     ]
    },
    {
     "name": "stderr",
     "output_type": "stream",
     "text": [
      "Processing:  92%|█████████████████████████████████████████████████████████████     | 1664/1800 [06:37<00:38,  3.52it/s]"
     ]
    },
    {
     "name": "stdout",
     "output_type": "stream",
     "text": [
      "\n",
      "0: 640x640 2 scratchess, 88.5ms\n",
      "Speed: 4.8ms preprocess, 88.5ms inference, 13.7ms postprocess per image at shape (1, 3, 640, 640)\n"
     ]
    },
    {
     "name": "stderr",
     "output_type": "stream",
     "text": [
      "Processing:  92%|█████████████████████████████████████████████████████████████     | 1665/1800 [06:37<00:39,  3.41it/s]"
     ]
    },
    {
     "name": "stdout",
     "output_type": "stream",
     "text": [
      "\n",
      "0: 640x640 1 inculsion, 3 scratchess, 21.7ms\n",
      "Speed: 5.6ms preprocess, 21.7ms inference, 6.5ms postprocess per image at shape (1, 3, 640, 640)\n"
     ]
    },
    {
     "name": "stderr",
     "output_type": "stream",
     "text": [
      "Processing:  93%|█████████████████████████████████████████████████████████████     | 1666/1800 [06:38<00:40,  3.27it/s]"
     ]
    },
    {
     "name": "stdout",
     "output_type": "stream",
     "text": [
      "\n",
      "0: 640x640 3 scratchess, 17.4ms\n",
      "Speed: 5.2ms preprocess, 17.4ms inference, 2.8ms postprocess per image at shape (1, 3, 640, 640)\n"
     ]
    },
    {
     "name": "stderr",
     "output_type": "stream",
     "text": [
      "Processing:  93%|█████████████████████████████████████████████████████████████     | 1667/1800 [06:38<00:37,  3.55it/s]"
     ]
    },
    {
     "name": "stdout",
     "output_type": "stream",
     "text": [
      "\n",
      "0: 640x640 3 scratchess, 17.5ms\n",
      "Speed: 4.6ms preprocess, 17.5ms inference, 3.0ms postprocess per image at shape (1, 3, 640, 640)\n"
     ]
    },
    {
     "name": "stderr",
     "output_type": "stream",
     "text": [
      "Processing:  93%|█████████████████████████████████████████████████████████████▏    | 1668/1800 [06:38<00:35,  3.74it/s]"
     ]
    },
    {
     "name": "stdout",
     "output_type": "stream",
     "text": [
      "\n",
      "0: 640x640 2 scratchess, 16.5ms\n",
      "Speed: 5.0ms preprocess, 16.5ms inference, 3.6ms postprocess per image at shape (1, 3, 640, 640)\n"
     ]
    },
    {
     "name": "stderr",
     "output_type": "stream",
     "text": [
      "Processing:  93%|█████████████████████████████████████████████████████████████▏    | 1669/1800 [06:38<00:31,  4.21it/s]"
     ]
    },
    {
     "name": "stdout",
     "output_type": "stream",
     "text": [
      "\n",
      "0: 640x640 2 scratchess, 16.9ms\n",
      "Speed: 5.4ms preprocess, 16.9ms inference, 3.6ms postprocess per image at shape (1, 3, 640, 640)\n"
     ]
    },
    {
     "name": "stderr",
     "output_type": "stream",
     "text": [
      "Processing:  93%|█████████████████████████████████████████████████████████████▏    | 1670/1800 [06:38<00:28,  4.58it/s]"
     ]
    },
    {
     "name": "stdout",
     "output_type": "stream",
     "text": [
      "\n",
      "0: 640x640 2 scratchess, 13.6ms\n",
      "Speed: 5.1ms preprocess, 13.6ms inference, 2.8ms postprocess per image at shape (1, 3, 640, 640)\n"
     ]
    },
    {
     "name": "stderr",
     "output_type": "stream",
     "text": [
      "Processing:  93%|█████████████████████████████████████████████████████████████▎    | 1671/1800 [06:39<00:26,  4.89it/s]"
     ]
    },
    {
     "name": "stdout",
     "output_type": "stream",
     "text": [
      "\n",
      "0: 640x640 2 scratchess, 16.8ms\n",
      "Speed: 4.2ms preprocess, 16.8ms inference, 3.4ms postprocess per image at shape (1, 3, 640, 640)\n"
     ]
    },
    {
     "name": "stderr",
     "output_type": "stream",
     "text": [
      "Processing:  93%|█████████████████████████████████████████████████████████████▎    | 1672/1800 [06:39<00:24,  5.19it/s]"
     ]
    },
    {
     "name": "stdout",
     "output_type": "stream",
     "text": [
      "\n",
      "0: 640x640 1 scratches, 18.3ms\n",
      "Speed: 9.0ms preprocess, 18.3ms inference, 2.8ms postprocess per image at shape (1, 3, 640, 640)\n"
     ]
    },
    {
     "name": "stderr",
     "output_type": "stream",
     "text": [
      "Processing:  93%|█████████████████████████████████████████████████████████████▎    | 1673/1800 [06:39<00:21,  5.94it/s]"
     ]
    },
    {
     "name": "stdout",
     "output_type": "stream",
     "text": [
      "\n",
      "0: 640x640 1 scratches, 18.7ms\n",
      "Speed: 5.5ms preprocess, 18.7ms inference, 3.4ms postprocess per image at shape (1, 3, 640, 640)\n"
     ]
    },
    {
     "name": "stderr",
     "output_type": "stream",
     "text": [
      "Processing:  93%|█████████████████████████████████████████████████████████████▍    | 1674/1800 [06:39<00:19,  6.37it/s]"
     ]
    },
    {
     "name": "stdout",
     "output_type": "stream",
     "text": [
      "\n",
      "0: 640x640 1 scratches, 17.7ms\n",
      "Speed: 5.6ms preprocess, 17.7ms inference, 2.9ms postprocess per image at shape (1, 3, 640, 640)\n"
     ]
    },
    {
     "name": "stderr",
     "output_type": "stream",
     "text": [
      "Processing:  93%|█████████████████████████████████████████████████████████████▍    | 1675/1800 [06:39<00:17,  7.08it/s]"
     ]
    },
    {
     "name": "stdout",
     "output_type": "stream",
     "text": [
      "\n",
      "0: 640x640 2 scratchess, 15.7ms\n",
      "Speed: 4.8ms preprocess, 15.7ms inference, 3.5ms postprocess per image at shape (1, 3, 640, 640)\n"
     ]
    },
    {
     "name": "stderr",
     "output_type": "stream",
     "text": [
      "Processing:  93%|█████████████████████████████████████████████████████████████▍    | 1676/1800 [06:39<00:18,  6.78it/s]"
     ]
    },
    {
     "name": "stdout",
     "output_type": "stream",
     "text": [
      "\n",
      "0: 640x640 1 scratches, 16.3ms\n",
      "Speed: 5.2ms preprocess, 16.3ms inference, 3.4ms postprocess per image at shape (1, 3, 640, 640)\n",
      "\n",
      "0: 640x640 2 scratchess, 16.8ms\n",
      "Speed: 5.6ms preprocess, 16.8ms inference, 3.7ms postprocess per image at shape (1, 3, 640, 640)\n"
     ]
    },
    {
     "name": "stderr",
     "output_type": "stream",
     "text": [
      "Processing:  93%|█████████████████████████████████████████████████████████████▌    | 1678/1800 [06:40<00:17,  7.12it/s]"
     ]
    },
    {
     "name": "stdout",
     "output_type": "stream",
     "text": [
      "\n",
      "0: 640x640 3 scratchess, 20.8ms\n",
      "Speed: 7.3ms preprocess, 20.8ms inference, 3.5ms postprocess per image at shape (1, 3, 640, 640)\n"
     ]
    },
    {
     "name": "stderr",
     "output_type": "stream",
     "text": [
      "Processing:  93%|█████████████████████████████████████████████████████████████▌    | 1679/1800 [06:40<00:20,  5.91it/s]"
     ]
    },
    {
     "name": "stdout",
     "output_type": "stream",
     "text": [
      "\n",
      "0: 640x640 3 scratchess, 17.9ms\n",
      "Speed: 5.1ms preprocess, 17.9ms inference, 3.5ms postprocess per image at shape (1, 3, 640, 640)\n"
     ]
    },
    {
     "name": "stderr",
     "output_type": "stream",
     "text": [
      "Processing:  93%|█████████████████████████████████████████████████████████████▌    | 1680/1800 [06:40<00:23,  5.20it/s]"
     ]
    },
    {
     "name": "stdout",
     "output_type": "stream",
     "text": [
      "\n",
      "0: 640x640 4 scratchess, 23.5ms\n",
      "Speed: 5.4ms preprocess, 23.5ms inference, 3.4ms postprocess per image at shape (1, 3, 640, 640)\n"
     ]
    },
    {
     "name": "stderr",
     "output_type": "stream",
     "text": [
      "Processing:  93%|█████████████████████████████████████████████████████████████▋    | 1681/1800 [06:40<00:26,  4.47it/s]"
     ]
    },
    {
     "name": "stdout",
     "output_type": "stream",
     "text": [
      "\n",
      "0: 640x640 3 scratchess, 17.8ms\n",
      "Speed: 5.5ms preprocess, 17.8ms inference, 3.1ms postprocess per image at shape (1, 3, 640, 640)\n"
     ]
    },
    {
     "name": "stderr",
     "output_type": "stream",
     "text": [
      "Processing:  93%|█████████████████████████████████████████████████████████████▋    | 1682/1800 [06:41<00:26,  4.42it/s]"
     ]
    },
    {
     "name": "stdout",
     "output_type": "stream",
     "text": [
      "\n",
      "0: 640x640 3 scratchess, 23.8ms\n",
      "Speed: 4.8ms preprocess, 23.8ms inference, 6.8ms postprocess per image at shape (1, 3, 640, 640)\n"
     ]
    },
    {
     "name": "stderr",
     "output_type": "stream",
     "text": [
      "Processing:  94%|█████████████████████████████████████████████████████████████▋    | 1683/1800 [06:41<00:26,  4.35it/s]"
     ]
    },
    {
     "name": "stdout",
     "output_type": "stream",
     "text": [
      "\n",
      "0: 640x640 3 scratchess, 17.5ms\n",
      "Speed: 5.3ms preprocess, 17.5ms inference, 2.9ms postprocess per image at shape (1, 3, 640, 640)\n"
     ]
    },
    {
     "name": "stderr",
     "output_type": "stream",
     "text": [
      "Processing:  94%|█████████████████████████████████████████████████████████████▋    | 1684/1800 [06:41<00:26,  4.30it/s]"
     ]
    },
    {
     "name": "stdout",
     "output_type": "stream",
     "text": [
      "\n",
      "0: 640x640 3 scratchess, 16.8ms\n",
      "Speed: 5.1ms preprocess, 16.8ms inference, 3.7ms postprocess per image at shape (1, 3, 640, 640)\n"
     ]
    },
    {
     "name": "stderr",
     "output_type": "stream",
     "text": [
      "Processing:  94%|█████████████████████████████████████████████████████████████▊    | 1685/1800 [06:41<00:27,  4.25it/s]"
     ]
    },
    {
     "name": "stdout",
     "output_type": "stream",
     "text": [
      "\n",
      "0: 640x640 2 scratchess, 17.8ms\n",
      "Speed: 4.4ms preprocess, 17.8ms inference, 3.4ms postprocess per image at shape (1, 3, 640, 640)\n"
     ]
    },
    {
     "name": "stderr",
     "output_type": "stream",
     "text": [
      "Processing:  94%|█████████████████████████████████████████████████████████████▊    | 1686/1800 [06:42<00:24,  4.59it/s]"
     ]
    },
    {
     "name": "stdout",
     "output_type": "stream",
     "text": [
      "\n",
      "0: 640x640 3 scratchess, 20.0ms\n",
      "Speed: 6.5ms preprocess, 20.0ms inference, 3.6ms postprocess per image at shape (1, 3, 640, 640)\n"
     ]
    },
    {
     "name": "stderr",
     "output_type": "stream",
     "text": [
      "Processing:  94%|█████████████████████████████████████████████████████████████▊    | 1687/1800 [06:42<00:25,  4.39it/s]"
     ]
    },
    {
     "name": "stdout",
     "output_type": "stream",
     "text": [
      "\n",
      "0: 640x640 2 scratchess, 16.8ms\n",
      "Speed: 5.7ms preprocess, 16.8ms inference, 5.6ms postprocess per image at shape (1, 3, 640, 640)\n"
     ]
    },
    {
     "name": "stderr",
     "output_type": "stream",
     "text": [
      "Processing:  94%|█████████████████████████████████████████████████████████████▉    | 1688/1800 [06:42<00:26,  4.19it/s]"
     ]
    },
    {
     "name": "stdout",
     "output_type": "stream",
     "text": [
      "\n",
      "0: 640x640 3 scratchess, 25.2ms\n",
      "Speed: 5.7ms preprocess, 25.2ms inference, 3.4ms postprocess per image at shape (1, 3, 640, 640)\n"
     ]
    },
    {
     "name": "stderr",
     "output_type": "stream",
     "text": [
      "Processing:  94%|█████████████████████████████████████████████████████████████▉    | 1689/1800 [06:42<00:27,  4.10it/s]"
     ]
    },
    {
     "name": "stdout",
     "output_type": "stream",
     "text": [
      "\n",
      "0: 640x640 4 scratchess, 16.4ms\n",
      "Speed: 5.4ms preprocess, 16.4ms inference, 6.1ms postprocess per image at shape (1, 3, 640, 640)\n"
     ]
    },
    {
     "name": "stderr",
     "output_type": "stream",
     "text": [
      "Processing:  94%|█████████████████████████████████████████████████████████████▉    | 1690/1800 [06:43<00:30,  3.66it/s]"
     ]
    },
    {
     "name": "stdout",
     "output_type": "stream",
     "text": [
      "\n",
      "0: 640x640 4 scratchess, 17.3ms\n",
      "Speed: 5.1ms preprocess, 17.3ms inference, 3.3ms postprocess per image at shape (1, 3, 640, 640)\n"
     ]
    },
    {
     "name": "stderr",
     "output_type": "stream",
     "text": [
      "Processing:  94%|██████████████████████████████████████████████████████████████    | 1691/1800 [06:43<00:31,  3.50it/s]"
     ]
    },
    {
     "name": "stdout",
     "output_type": "stream",
     "text": [
      "\n",
      "0: 640x640 4 scratchess, 18.1ms\n",
      "Speed: 5.2ms preprocess, 18.1ms inference, 3.4ms postprocess per image at shape (1, 3, 640, 640)\n"
     ]
    },
    {
     "name": "stderr",
     "output_type": "stream",
     "text": [
      "Processing:  94%|██████████████████████████████████████████████████████████████    | 1692/1800 [06:43<00:32,  3.34it/s]"
     ]
    },
    {
     "name": "stdout",
     "output_type": "stream",
     "text": [
      "\n",
      "0: 640x640 4 scratchess, 17.3ms\n",
      "Speed: 4.5ms preprocess, 17.3ms inference, 3.4ms postprocess per image at shape (1, 3, 640, 640)\n"
     ]
    },
    {
     "name": "stderr",
     "output_type": "stream",
     "text": [
      "Processing:  94%|██████████████████████████████████████████████████████████████    | 1693/1800 [06:44<00:32,  3.32it/s]"
     ]
    },
    {
     "name": "stdout",
     "output_type": "stream",
     "text": [
      "\n",
      "0: 640x640 6 scratchess, 19.7ms\n",
      "Speed: 5.6ms preprocess, 19.7ms inference, 2.8ms postprocess per image at shape (1, 3, 640, 640)\n"
     ]
    },
    {
     "name": "stderr",
     "output_type": "stream",
     "text": [
      "Processing:  94%|██████████████████████████████████████████████████████████████    | 1694/1800 [06:44<00:37,  2.85it/s]"
     ]
    },
    {
     "name": "stdout",
     "output_type": "stream",
     "text": [
      "\n",
      "0: 640x640 4 scratchess, 20.5ms\n",
      "Speed: 4.9ms preprocess, 20.5ms inference, 3.3ms postprocess per image at shape (1, 3, 640, 640)\n"
     ]
    },
    {
     "name": "stderr",
     "output_type": "stream",
     "text": [
      "Processing:  94%|██████████████████████████████████████████████████████████████▏   | 1695/1800 [06:44<00:35,  2.92it/s]"
     ]
    },
    {
     "name": "stdout",
     "output_type": "stream",
     "text": [
      "\n",
      "0: 640x640 4 scratchess, 13.4ms\n",
      "Speed: 5.6ms preprocess, 13.4ms inference, 3.1ms postprocess per image at shape (1, 3, 640, 640)\n"
     ]
    },
    {
     "name": "stderr",
     "output_type": "stream",
     "text": [
      "Processing:  94%|██████████████████████████████████████████████████████████████▏   | 1696/1800 [06:45<00:34,  2.98it/s]"
     ]
    },
    {
     "name": "stdout",
     "output_type": "stream",
     "text": [
      "\n",
      "0: 640x640 2 scratchess, 12.1ms\n",
      "Speed: 7.3ms preprocess, 12.1ms inference, 3.4ms postprocess per image at shape (1, 3, 640, 640)\n"
     ]
    },
    {
     "name": "stderr",
     "output_type": "stream",
     "text": [
      "Processing:  94%|██████████████████████████████████████████████████████████████▏   | 1697/1800 [06:45<00:29,  3.49it/s]"
     ]
    },
    {
     "name": "stdout",
     "output_type": "stream",
     "text": [
      "\n",
      "0: 640x640 4 scratchess, 20.2ms\n",
      "Speed: 5.6ms preprocess, 20.2ms inference, 3.0ms postprocess per image at shape (1, 3, 640, 640)\n"
     ]
    },
    {
     "name": "stderr",
     "output_type": "stream",
     "text": [
      "Processing:  94%|██████████████████████████████████████████████████████████████▎   | 1698/1800 [06:45<00:29,  3.41it/s]"
     ]
    },
    {
     "name": "stdout",
     "output_type": "stream",
     "text": [
      "\n",
      "0: 640x640 5 scratchess, 19.9ms\n",
      "Speed: 4.7ms preprocess, 19.9ms inference, 3.8ms postprocess per image at shape (1, 3, 640, 640)\n"
     ]
    },
    {
     "name": "stderr",
     "output_type": "stream",
     "text": [
      "Processing:  94%|██████████████████████████████████████████████████████████████▎   | 1699/1800 [06:46<00:32,  3.10it/s]"
     ]
    },
    {
     "name": "stdout",
     "output_type": "stream",
     "text": [
      "\n",
      "0: 640x640 3 scratchess, 19.2ms\n",
      "Speed: 5.5ms preprocess, 19.2ms inference, 3.6ms postprocess per image at shape (1, 3, 640, 640)\n"
     ]
    },
    {
     "name": "stderr",
     "output_type": "stream",
     "text": [
      "Processing:  94%|██████████████████████████████████████████████████████████████▎   | 1700/1800 [06:46<00:30,  3.32it/s]"
     ]
    },
    {
     "name": "stdout",
     "output_type": "stream",
     "text": [
      "\n",
      "0: 640x640 2 inculsions, 2 scratchess, 16.8ms\n",
      "Speed: 5.0ms preprocess, 16.8ms inference, 3.2ms postprocess per image at shape (1, 3, 640, 640)\n"
     ]
    },
    {
     "name": "stderr",
     "output_type": "stream",
     "text": [
      "Processing:  94%|██████████████████████████████████████████████████████████████▎   | 1701/1800 [06:46<00:33,  2.99it/s]"
     ]
    },
    {
     "name": "stdout",
     "output_type": "stream",
     "text": [
      "\n",
      "0: 640x640 6 scratchess, 21.4ms\n",
      "Speed: 4.2ms preprocess, 21.4ms inference, 2.0ms postprocess per image at shape (1, 3, 640, 640)\n"
     ]
    },
    {
     "name": "stderr",
     "output_type": "stream",
     "text": [
      "Processing:  95%|██████████████████████████████████████████████████████████████▍   | 1702/1800 [06:47<00:36,  2.69it/s]"
     ]
    },
    {
     "name": "stdout",
     "output_type": "stream",
     "text": [
      "\n",
      "0: 640x640 8 scratchess, 16.5ms\n",
      "Speed: 5.4ms preprocess, 16.5ms inference, 3.5ms postprocess per image at shape (1, 3, 640, 640)\n"
     ]
    },
    {
     "name": "stderr",
     "output_type": "stream",
     "text": [
      "Processing:  95%|██████████████████████████████████████████████████████████████▍   | 1703/1800 [06:47<00:41,  2.32it/s]"
     ]
    },
    {
     "name": "stdout",
     "output_type": "stream",
     "text": [
      "\n",
      "0: 640x640 3 scratchess, 19.4ms\n",
      "Speed: 5.7ms preprocess, 19.4ms inference, 4.0ms postprocess per image at shape (1, 3, 640, 640)\n"
     ]
    },
    {
     "name": "stderr",
     "output_type": "stream",
     "text": [
      "Processing:  95%|██████████████████████████████████████████████████████████████▍   | 1704/1800 [06:47<00:35,  2.68it/s]"
     ]
    },
    {
     "name": "stdout",
     "output_type": "stream",
     "text": [
      "\n",
      "0: 640x640 2 scratchess, 17.1ms\n",
      "Speed: 5.4ms preprocess, 17.1ms inference, 3.2ms postprocess per image at shape (1, 3, 640, 640)\n"
     ]
    },
    {
     "name": "stderr",
     "output_type": "stream",
     "text": [
      "Processing:  95%|██████████████████████████████████████████████████████████████▌   | 1705/1800 [06:48<00:29,  3.19it/s]"
     ]
    },
    {
     "name": "stdout",
     "output_type": "stream",
     "text": [
      "\n",
      "0: 640x640 3 scratchess, 14.4ms\n",
      "Speed: 5.2ms preprocess, 14.4ms inference, 2.8ms postprocess per image at shape (1, 3, 640, 640)\n"
     ]
    },
    {
     "name": "stderr",
     "output_type": "stream",
     "text": [
      "Processing:  95%|██████████████████████████████████████████████████████████████▌   | 1706/1800 [06:48<00:27,  3.40it/s]"
     ]
    },
    {
     "name": "stdout",
     "output_type": "stream",
     "text": [
      "\n",
      "0: 640x640 1 scratches, 18.3ms\n",
      "Speed: 5.3ms preprocess, 18.3ms inference, 5.4ms postprocess per image at shape (1, 3, 640, 640)\n"
     ]
    },
    {
     "name": "stderr",
     "output_type": "stream",
     "text": [
      "Processing:  95%|██████████████████████████████████████████████████████████████▌   | 1707/1800 [06:48<00:22,  4.18it/s]"
     ]
    },
    {
     "name": "stdout",
     "output_type": "stream",
     "text": [
      "\n",
      "0: 640x640 1 scratches, 22.6ms\n",
      "Speed: 5.7ms preprocess, 22.6ms inference, 3.6ms postprocess per image at shape (1, 3, 640, 640)\n"
     ]
    },
    {
     "name": "stderr",
     "output_type": "stream",
     "text": [
      "Processing:  95%|██████████████████████████████████████████████████████████████▋   | 1708/1800 [06:48<00:18,  4.92it/s]"
     ]
    },
    {
     "name": "stdout",
     "output_type": "stream",
     "text": [
      "\n",
      "0: 640x640 1 scratches, 27.9ms\n",
      "Speed: 5.2ms preprocess, 27.9ms inference, 4.2ms postprocess per image at shape (1, 3, 640, 640)\n"
     ]
    },
    {
     "name": "stderr",
     "output_type": "stream",
     "text": [
      "Processing:  95%|██████████████████████████████████████████████████████████████▋   | 1709/1800 [06:48<00:15,  5.70it/s]"
     ]
    },
    {
     "name": "stdout",
     "output_type": "stream",
     "text": [
      "\n",
      "0: 640x640 1 scratches, 15.4ms\n",
      "Speed: 5.7ms preprocess, 15.4ms inference, 4.3ms postprocess per image at shape (1, 3, 640, 640)\n",
      "\n",
      "0: 640x640 1 scratches, 16.7ms\n",
      "Speed: 6.3ms preprocess, 16.7ms inference, 3.7ms postprocess per image at shape (1, 3, 640, 640)\n"
     ]
    },
    {
     "name": "stderr",
     "output_type": "stream",
     "text": [
      "Processing:  95%|██████████████████████████████████████████████████████████████▋   | 1711/1800 [06:48<00:12,  7.16it/s]"
     ]
    },
    {
     "name": "stdout",
     "output_type": "stream",
     "text": [
      "\n",
      "0: 640x640 1 inculsion, 4 scratchess, 16.7ms\n",
      "Speed: 5.2ms preprocess, 16.7ms inference, 3.8ms postprocess per image at shape (1, 3, 640, 640)\n"
     ]
    },
    {
     "name": "stderr",
     "output_type": "stream",
     "text": [
      "Processing:  95%|██████████████████████████████████████████████████████████████▊   | 1712/1800 [06:49<00:17,  5.07it/s]"
     ]
    },
    {
     "name": "stdout",
     "output_type": "stream",
     "text": [
      "\n",
      "0: 640x640 3 scratchess, 17.6ms\n",
      "Speed: 5.7ms preprocess, 17.6ms inference, 3.5ms postprocess per image at shape (1, 3, 640, 640)\n"
     ]
    },
    {
     "name": "stderr",
     "output_type": "stream",
     "text": [
      "Processing:  95%|██████████████████████████████████████████████████████████████▊   | 1713/1800 [06:49<00:18,  4.76it/s]"
     ]
    },
    {
     "name": "stdout",
     "output_type": "stream",
     "text": [
      "\n",
      "0: 640x640 1 rolled_in_scale, 4 scratchess, 19.3ms\n",
      "Speed: 4.7ms preprocess, 19.3ms inference, 3.8ms postprocess per image at shape (1, 3, 640, 640)\n"
     ]
    },
    {
     "name": "stderr",
     "output_type": "stream",
     "text": [
      "Processing:  95%|██████████████████████████████████████████████████████████████▊   | 1714/1800 [06:49<00:22,  3.90it/s]"
     ]
    },
    {
     "name": "stdout",
     "output_type": "stream",
     "text": [
      "\n",
      "0: 640x640 3 scratchess, 17.1ms\n",
      "Speed: 5.2ms preprocess, 17.1ms inference, 3.5ms postprocess per image at shape (1, 3, 640, 640)\n"
     ]
    },
    {
     "name": "stderr",
     "output_type": "stream",
     "text": [
      "Processing:  95%|██████████████████████████████████████████████████████████████▉   | 1715/1800 [06:50<00:21,  4.00it/s]"
     ]
    },
    {
     "name": "stdout",
     "output_type": "stream",
     "text": [
      "\n",
      "0: 640x640 5 scratchess, 13.7ms\n",
      "Speed: 4.7ms preprocess, 13.7ms inference, 3.3ms postprocess per image at shape (1, 3, 640, 640)\n"
     ]
    },
    {
     "name": "stderr",
     "output_type": "stream",
     "text": [
      "Processing:  95%|██████████████████████████████████████████████████████████████▉   | 1716/1800 [06:50<00:23,  3.57it/s]"
     ]
    },
    {
     "name": "stdout",
     "output_type": "stream",
     "text": [
      "\n",
      "0: 640x640 2 scratchess, 16.0ms\n",
      "Speed: 5.3ms preprocess, 16.0ms inference, 3.5ms postprocess per image at shape (1, 3, 640, 640)\n"
     ]
    },
    {
     "name": "stderr",
     "output_type": "stream",
     "text": [
      "Processing:  95%|██████████████████████████████████████████████████████████████▉   | 1717/1800 [06:50<00:20,  4.03it/s]"
     ]
    },
    {
     "name": "stdout",
     "output_type": "stream",
     "text": [
      "\n",
      "0: 640x640 4 scratchess, 24.9ms\n",
      "Speed: 5.3ms preprocess, 24.9ms inference, 3.7ms postprocess per image at shape (1, 3, 640, 640)\n"
     ]
    },
    {
     "name": "stderr",
     "output_type": "stream",
     "text": [
      "Processing:  95%|██████████████████████████████████████████████████████████████▉   | 1718/1800 [06:51<00:21,  3.74it/s]"
     ]
    },
    {
     "name": "stdout",
     "output_type": "stream",
     "text": [
      "\n",
      "0: 640x640 7 scratchess, 14.4ms\n",
      "Speed: 5.1ms preprocess, 14.4ms inference, 3.4ms postprocess per image at shape (1, 3, 640, 640)\n"
     ]
    },
    {
     "name": "stderr",
     "output_type": "stream",
     "text": [
      "Processing:  96%|███████████████████████████████████████████████████████████████   | 1719/1800 [06:51<00:29,  2.72it/s]"
     ]
    },
    {
     "name": "stdout",
     "output_type": "stream",
     "text": [
      "\n",
      "0: 640x640 4 scratchess, 15.1ms\n",
      "Speed: 4.6ms preprocess, 15.1ms inference, 2.9ms postprocess per image at shape (1, 3, 640, 640)\n"
     ]
    },
    {
     "name": "stderr",
     "output_type": "stream",
     "text": [
      "Processing:  96%|███████████████████████████████████████████████████████████████   | 1720/1800 [06:51<00:27,  2.86it/s]"
     ]
    },
    {
     "name": "stdout",
     "output_type": "stream",
     "text": [
      "\n",
      "0: 640x640 1 scratches, 21.9ms\n",
      "Speed: 4.9ms preprocess, 21.9ms inference, 2.8ms postprocess per image at shape (1, 3, 640, 640)\n"
     ]
    },
    {
     "name": "stderr",
     "output_type": "stream",
     "text": [
      "Processing:  96%|███████████████████████████████████████████████████████████████   | 1721/1800 [06:52<00:21,  3.60it/s]"
     ]
    },
    {
     "name": "stdout",
     "output_type": "stream",
     "text": [
      "\n",
      "0: 640x640 1 scratches, 18.8ms\n",
      "Speed: 5.6ms preprocess, 18.8ms inference, 4.2ms postprocess per image at shape (1, 3, 640, 640)\n"
     ]
    },
    {
     "name": "stderr",
     "output_type": "stream",
     "text": [
      "Processing:  96%|███████████████████████████████████████████████████████████████▏  | 1722/1800 [06:52<00:17,  4.43it/s]"
     ]
    },
    {
     "name": "stdout",
     "output_type": "stream",
     "text": [
      "\n",
      "0: 640x640 3 scratchess, 16.3ms\n",
      "Speed: 5.2ms preprocess, 16.3ms inference, 2.7ms postprocess per image at shape (1, 3, 640, 640)\n"
     ]
    },
    {
     "name": "stderr",
     "output_type": "stream",
     "text": [
      "Processing:  96%|███████████████████████████████████████████████████████████████▏  | 1723/1800 [06:52<00:17,  4.31it/s]"
     ]
    },
    {
     "name": "stdout",
     "output_type": "stream",
     "text": [
      "\n",
      "0: 640x640 7 scratchess, 18.1ms\n",
      "Speed: 4.9ms preprocess, 18.1ms inference, 3.7ms postprocess per image at shape (1, 3, 640, 640)\n"
     ]
    },
    {
     "name": "stderr",
     "output_type": "stream",
     "text": [
      "Processing:  96%|███████████████████████████████████████████████████████████████▏  | 1724/1800 [06:52<00:24,  3.07it/s]"
     ]
    },
    {
     "name": "stdout",
     "output_type": "stream",
     "text": [
      "\n",
      "0: 640x640 2 scratchess, 15.1ms\n",
      "Speed: 5.3ms preprocess, 15.1ms inference, 3.2ms postprocess per image at shape (1, 3, 640, 640)\n"
     ]
    },
    {
     "name": "stderr",
     "output_type": "stream",
     "text": [
      "Processing:  96%|███████████████████████████████████████████████████████████████▎  | 1725/1800 [06:53<00:20,  3.58it/s]"
     ]
    },
    {
     "name": "stdout",
     "output_type": "stream",
     "text": [
      "\n",
      "0: 640x640 4 scratchess, 16.5ms\n",
      "Speed: 4.8ms preprocess, 16.5ms inference, 2.9ms postprocess per image at shape (1, 3, 640, 640)\n"
     ]
    },
    {
     "name": "stderr",
     "output_type": "stream",
     "text": [
      "Processing:  96%|███████████████████████████████████████████████████████████████▎  | 1726/1800 [06:53<00:21,  3.49it/s]"
     ]
    },
    {
     "name": "stdout",
     "output_type": "stream",
     "text": [
      "\n",
      "0: 640x640 2 inculsions, 3 scratchess, 17.8ms\n",
      "Speed: 4.1ms preprocess, 17.8ms inference, 3.7ms postprocess per image at shape (1, 3, 640, 640)\n"
     ]
    },
    {
     "name": "stderr",
     "output_type": "stream",
     "text": [
      "Processing:  96%|███████████████████████████████████████████████████████████████▎  | 1727/1800 [06:53<00:23,  3.07it/s]"
     ]
    },
    {
     "name": "stdout",
     "output_type": "stream",
     "text": [
      "\n",
      "0: 640x640 2 inculsions, 1 scratches, 18.1ms\n",
      "Speed: 4.5ms preprocess, 18.1ms inference, 3.6ms postprocess per image at shape (1, 3, 640, 640)\n"
     ]
    },
    {
     "name": "stderr",
     "output_type": "stream",
     "text": [
      "Processing:  96%|███████████████████████████████████████████████████████████████▎  | 1728/1800 [06:54<00:21,  3.36it/s]"
     ]
    },
    {
     "name": "stdout",
     "output_type": "stream",
     "text": [
      "\n",
      "0: 640x640 1 scratches, 18.6ms\n",
      "Speed: 5.3ms preprocess, 18.6ms inference, 3.7ms postprocess per image at shape (1, 3, 640, 640)\n"
     ]
    },
    {
     "name": "stderr",
     "output_type": "stream",
     "text": [
      "Processing:  96%|███████████████████████████████████████████████████████████████▍  | 1729/1800 [06:54<00:16,  4.19it/s]"
     ]
    },
    {
     "name": "stdout",
     "output_type": "stream",
     "text": [
      "\n",
      "0: 640x640 1 scratches, 17.9ms\n",
      "Speed: 5.1ms preprocess, 17.9ms inference, 5.3ms postprocess per image at shape (1, 3, 640, 640)\n"
     ]
    },
    {
     "name": "stderr",
     "output_type": "stream",
     "text": [
      "Processing:  96%|███████████████████████████████████████████████████████████████▍  | 1730/1800 [06:54<00:14,  4.97it/s]"
     ]
    },
    {
     "name": "stdout",
     "output_type": "stream",
     "text": [
      "\n",
      "0: 640x640 1 scratches, 15.1ms\n",
      "Speed: 5.9ms preprocess, 15.1ms inference, 3.5ms postprocess per image at shape (1, 3, 640, 640)\n"
     ]
    },
    {
     "name": "stderr",
     "output_type": "stream",
     "text": [
      "Processing:  96%|███████████████████████████████████████████████████████████████▍  | 1731/1800 [06:54<00:11,  5.76it/s]"
     ]
    },
    {
     "name": "stdout",
     "output_type": "stream",
     "text": [
      "\n",
      "0: 640x640 1 scratches, 16.9ms\n",
      "Speed: 5.2ms preprocess, 16.9ms inference, 3.3ms postprocess per image at shape (1, 3, 640, 640)\n",
      "\n",
      "0: 640x640 1 scratches, 17.5ms\n",
      "Speed: 4.8ms preprocess, 17.5ms inference, 3.2ms postprocess per image at shape (1, 3, 640, 640)\n"
     ]
    },
    {
     "name": "stderr",
     "output_type": "stream",
     "text": [
      "Processing:  96%|███████████████████████████████████████████████████████████████▌  | 1733/1800 [06:54<00:09,  7.27it/s]"
     ]
    },
    {
     "name": "stdout",
     "output_type": "stream",
     "text": [
      "\n",
      "0: 640x640 1 scratches, 20.5ms\n",
      "Speed: 4.4ms preprocess, 20.5ms inference, 5.0ms postprocess per image at shape (1, 3, 640, 640)\n",
      "\n",
      "0: 640x640 3 scratchess, 19.0ms\n",
      "Speed: 5.2ms preprocess, 19.0ms inference, 3.2ms postprocess per image at shape (1, 3, 640, 640)\n"
     ]
    },
    {
     "name": "stderr",
     "output_type": "stream",
     "text": [
      "Processing:  96%|███████████████████████████████████████████████████████████████▌  | 1735/1800 [06:54<00:09,  6.68it/s]"
     ]
    },
    {
     "name": "stdout",
     "output_type": "stream",
     "text": [
      "\n",
      "0: 640x640 1 scratches, 17.0ms\n",
      "Speed: 5.7ms preprocess, 17.0ms inference, 3.7ms postprocess per image at shape (1, 3, 640, 640)\n"
     ]
    },
    {
     "name": "stderr",
     "output_type": "stream",
     "text": [
      "Processing:  96%|███████████████████████████████████████████████████████████████▋  | 1736/1800 [06:55<00:08,  7.11it/s]"
     ]
    },
    {
     "name": "stdout",
     "output_type": "stream",
     "text": [
      "\n",
      "0: 640x640 1 scratches, 17.5ms\n",
      "Speed: 5.1ms preprocess, 17.5ms inference, 3.8ms postprocess per image at shape (1, 3, 640, 640)\n"
     ]
    },
    {
     "name": "stderr",
     "output_type": "stream",
     "text": [
      "Processing:  96%|███████████████████████████████████████████████████████████████▋  | 1737/1800 [06:55<00:08,  7.51it/s]"
     ]
    },
    {
     "name": "stdout",
     "output_type": "stream",
     "text": [
      "\n",
      "0: 640x640 1 scratches, 18.9ms\n",
      "Speed: 4.7ms preprocess, 18.9ms inference, 4.0ms postprocess per image at shape (1, 3, 640, 640)\n"
     ]
    },
    {
     "name": "stderr",
     "output_type": "stream",
     "text": [
      "Processing:  97%|███████████████████████████████████████████████████████████████▋  | 1738/1800 [06:55<00:07,  7.99it/s]"
     ]
    },
    {
     "name": "stdout",
     "output_type": "stream",
     "text": [
      "\n",
      "0: 640x640 1 scratches, 16.8ms\n",
      "Speed: 5.3ms preprocess, 16.8ms inference, 4.1ms postprocess per image at shape (1, 3, 640, 640)\n"
     ]
    },
    {
     "name": "stderr",
     "output_type": "stream",
     "text": [
      "Processing:  97%|███████████████████████████████████████████████████████████████▊  | 1739/1800 [06:55<00:07,  8.36it/s]"
     ]
    },
    {
     "name": "stdout",
     "output_type": "stream",
     "text": [
      "\n",
      "0: 640x640 1 inculsion, 1 scratches, 15.2ms\n",
      "Speed: 5.0ms preprocess, 15.2ms inference, 2.7ms postprocess per image at shape (1, 3, 640, 640)\n"
     ]
    },
    {
     "name": "stderr",
     "output_type": "stream",
     "text": [
      "Processing:  97%|███████████████████████████████████████████████████████████████▊  | 1740/1800 [06:55<00:07,  7.55it/s]"
     ]
    },
    {
     "name": "stdout",
     "output_type": "stream",
     "text": [
      "\n",
      "0: 640x640 1 scratches, 17.7ms\n",
      "Speed: 5.3ms preprocess, 17.7ms inference, 3.5ms postprocess per image at shape (1, 3, 640, 640)\n"
     ]
    },
    {
     "name": "stderr",
     "output_type": "stream",
     "text": [
      "Processing:  97%|███████████████████████████████████████████████████████████████▊  | 1741/1800 [06:55<00:07,  7.91it/s]"
     ]
    },
    {
     "name": "stdout",
     "output_type": "stream",
     "text": [
      "\n",
      "0: 640x640 1 scratches, 18.4ms\n",
      "Speed: 5.4ms preprocess, 18.4ms inference, 3.0ms postprocess per image at shape (1, 3, 640, 640)\n",
      "\n",
      "0: 640x640 1 scratches, 18.6ms\n",
      "Speed: 4.7ms preprocess, 18.6ms inference, 3.6ms postprocess per image at shape (1, 3, 640, 640)\n"
     ]
    },
    {
     "name": "stderr",
     "output_type": "stream",
     "text": [
      "Processing:  97%|███████████████████████████████████████████████████████████████▉  | 1743/1800 [06:55<00:06,  8.48it/s]"
     ]
    },
    {
     "name": "stdout",
     "output_type": "stream",
     "text": [
      "\n",
      "0: 640x640 1 inculsion, 1 scratches, 31.3ms\n",
      "Speed: 4.8ms preprocess, 31.3ms inference, 3.7ms postprocess per image at shape (1, 3, 640, 640)\n"
     ]
    },
    {
     "name": "stderr",
     "output_type": "stream",
     "text": [
      "Processing:  97%|███████████████████████████████████████████████████████████████▉  | 1744/1800 [06:55<00:07,  7.58it/s]"
     ]
    },
    {
     "name": "stdout",
     "output_type": "stream",
     "text": [
      "\n",
      "0: 640x640 1 scratches, 16.9ms\n",
      "Speed: 4.6ms preprocess, 16.9ms inference, 4.0ms postprocess per image at shape (1, 3, 640, 640)\n"
     ]
    },
    {
     "name": "stderr",
     "output_type": "stream",
     "text": [
      "Processing:  97%|███████████████████████████████████████████████████████████████▉  | 1745/1800 [06:56<00:06,  7.92it/s]"
     ]
    },
    {
     "name": "stdout",
     "output_type": "stream",
     "text": [
      "\n",
      "0: 640x640 2 scratchess, 17.1ms\n",
      "Speed: 5.6ms preprocess, 17.1ms inference, 3.7ms postprocess per image at shape (1, 3, 640, 640)\n"
     ]
    },
    {
     "name": "stderr",
     "output_type": "stream",
     "text": [
      "Processing:  97%|████████████████████████████████████████████████████████████████  | 1746/1800 [06:56<00:07,  7.24it/s]"
     ]
    },
    {
     "name": "stdout",
     "output_type": "stream",
     "text": [
      "\n",
      "0: 640x640 1 scratches, 16.6ms\n",
      "Speed: 4.3ms preprocess, 16.6ms inference, 4.1ms postprocess per image at shape (1, 3, 640, 640)\n",
      "\n",
      "0: 640x640 1 scratches, 16.8ms\n",
      "Speed: 4.9ms preprocess, 16.8ms inference, 3.8ms postprocess per image at shape (1, 3, 640, 640)\n"
     ]
    },
    {
     "name": "stderr",
     "output_type": "stream",
     "text": [
      "Processing:  97%|████████████████████████████████████████████████████████████████  | 1748/1800 [06:56<00:06,  8.22it/s]"
     ]
    },
    {
     "name": "stdout",
     "output_type": "stream",
     "text": [
      "\n",
      "0: 640x640 1 scratches, 16.4ms\n",
      "Speed: 5.3ms preprocess, 16.4ms inference, 3.7ms postprocess per image at shape (1, 3, 640, 640)\n"
     ]
    },
    {
     "name": "stderr",
     "output_type": "stream",
     "text": [
      "Processing:  97%|████████████████████████████████████████████████████████████████▏ | 1749/1800 [06:56<00:06,  8.49it/s]"
     ]
    },
    {
     "name": "stdout",
     "output_type": "stream",
     "text": [
      "\n",
      "0: 640x640 1 scratches, 19.9ms\n",
      "Speed: 5.4ms preprocess, 19.9ms inference, 4.1ms postprocess per image at shape (1, 3, 640, 640)\n"
     ]
    },
    {
     "name": "stderr",
     "output_type": "stream",
     "text": [
      "Processing:  97%|████████████████████████████████████████████████████████████████▏ | 1750/1800 [06:56<00:05,  8.65it/s]"
     ]
    },
    {
     "name": "stdout",
     "output_type": "stream",
     "text": [
      "\n",
      "0: 640x640 1 scratches, 13.0ms\n",
      "Speed: 5.0ms preprocess, 13.0ms inference, 3.7ms postprocess per image at shape (1, 3, 640, 640)\n"
     ]
    },
    {
     "name": "stderr",
     "output_type": "stream",
     "text": [
      "Processing:  97%|████████████████████████████████████████████████████████████████▏ | 1751/1800 [06:56<00:05,  8.94it/s]"
     ]
    },
    {
     "name": "stdout",
     "output_type": "stream",
     "text": [
      "\n",
      "0: 640x640 1 scratches, 17.8ms\n",
      "Speed: 4.5ms preprocess, 17.8ms inference, 3.5ms postprocess per image at shape (1, 3, 640, 640)\n"
     ]
    },
    {
     "name": "stderr",
     "output_type": "stream",
     "text": [
      "Processing:  97%|████████████████████████████████████████████████████████████████▏ | 1752/1800 [06:56<00:05,  9.16it/s]"
     ]
    },
    {
     "name": "stdout",
     "output_type": "stream",
     "text": [
      "\n",
      "0: 640x640 2 inculsions, 1 scratches, 16.9ms\n",
      "Speed: 4.6ms preprocess, 16.9ms inference, 4.3ms postprocess per image at shape (1, 3, 640, 640)\n"
     ]
    },
    {
     "name": "stderr",
     "output_type": "stream",
     "text": [
      "Processing:  97%|████████████████████████████████████████████████████████████████▎ | 1753/1800 [06:57<00:06,  6.82it/s]"
     ]
    },
    {
     "name": "stdout",
     "output_type": "stream",
     "text": [
      "\n",
      "0: 640x640 1 scratches, 16.1ms\n",
      "Speed: 5.0ms preprocess, 16.1ms inference, 3.8ms postprocess per image at shape (1, 3, 640, 640)\n"
     ]
    },
    {
     "name": "stderr",
     "output_type": "stream",
     "text": [
      "Processing:  97%|████████████████████████████████████████████████████████████████▎ | 1754/1800 [06:57<00:06,  7.35it/s]"
     ]
    },
    {
     "name": "stdout",
     "output_type": "stream",
     "text": [
      "\n",
      "0: 640x640 1 scratches, 16.0ms\n",
      "Speed: 4.5ms preprocess, 16.0ms inference, 2.9ms postprocess per image at shape (1, 3, 640, 640)\n"
     ]
    },
    {
     "name": "stderr",
     "output_type": "stream",
     "text": [
      "Processing:  98%|████████████████████████████████████████████████████████████████▎ | 1755/1800 [06:57<00:06,  6.59it/s]"
     ]
    },
    {
     "name": "stdout",
     "output_type": "stream",
     "text": [
      "\n",
      "0: 640x640 1 scratches, 33.6ms\n",
      "Speed: 5.3ms preprocess, 33.6ms inference, 3.6ms postprocess per image at shape (1, 3, 640, 640)\n"
     ]
    },
    {
     "name": "stderr",
     "output_type": "stream",
     "text": [
      "Processing:  98%|████████████████████████████████████████████████████████████████▍ | 1756/1800 [06:57<00:06,  6.93it/s]"
     ]
    },
    {
     "name": "stdout",
     "output_type": "stream",
     "text": [
      "\n",
      "0: 640x640 1 scratches, 15.9ms\n",
      "Speed: 5.0ms preprocess, 15.9ms inference, 2.1ms postprocess per image at shape (1, 3, 640, 640)\n"
     ]
    },
    {
     "name": "stderr",
     "output_type": "stream",
     "text": [
      "Processing:  98%|████████████████████████████████████████████████████████████████▍ | 1757/1800 [06:57<00:05,  7.55it/s]"
     ]
    },
    {
     "name": "stdout",
     "output_type": "stream",
     "text": [
      "\n",
      "0: 640x640 1 scratches, 17.6ms\n",
      "Speed: 5.2ms preprocess, 17.6ms inference, 3.2ms postprocess per image at shape (1, 3, 640, 640)\n"
     ]
    },
    {
     "name": "stderr",
     "output_type": "stream",
     "text": [
      "Processing:  98%|████████████████████████████████████████████████████████████████▍ | 1758/1800 [06:57<00:05,  8.09it/s]"
     ]
    },
    {
     "name": "stdout",
     "output_type": "stream",
     "text": [
      "\n",
      "0: 640x640 1 scratches, 17.0ms\n",
      "Speed: 5.1ms preprocess, 17.0ms inference, 4.2ms postprocess per image at shape (1, 3, 640, 640)\n"
     ]
    },
    {
     "name": "stderr",
     "output_type": "stream",
     "text": [
      "Processing:  98%|████████████████████████████████████████████████████████████████▍ | 1759/1800 [06:57<00:04,  8.29it/s]"
     ]
    },
    {
     "name": "stdout",
     "output_type": "stream",
     "text": [
      "\n",
      "0: 640x640 1 scratches, 19.5ms\n",
      "Speed: 5.5ms preprocess, 19.5ms inference, 3.9ms postprocess per image at shape (1, 3, 640, 640)\n"
     ]
    },
    {
     "name": "stderr",
     "output_type": "stream",
     "text": [
      "Processing:  98%|████████████████████████████████████████████████████████████████▌ | 1760/1800 [06:57<00:04,  8.54it/s]"
     ]
    },
    {
     "name": "stdout",
     "output_type": "stream",
     "text": [
      "\n",
      "0: 640x640 1 rolled_in_scale, 1 scratches, 15.1ms\n",
      "Speed: 4.0ms preprocess, 15.1ms inference, 3.1ms postprocess per image at shape (1, 3, 640, 640)\n"
     ]
    },
    {
     "name": "stderr",
     "output_type": "stream",
     "text": [
      "Processing:  98%|████████████████████████████████████████████████████████████████▌ | 1761/1800 [06:58<00:05,  7.53it/s]"
     ]
    },
    {
     "name": "stdout",
     "output_type": "stream",
     "text": [
      "\n",
      "0: 640x640 1 scratches, 15.3ms\n",
      "Speed: 5.1ms preprocess, 15.3ms inference, 3.2ms postprocess per image at shape (1, 3, 640, 640)\n"
     ]
    },
    {
     "name": "stderr",
     "output_type": "stream",
     "text": [
      "Processing:  98%|████████████████████████████████████████████████████████████████▌ | 1762/1800 [06:58<00:04,  7.98it/s]"
     ]
    },
    {
     "name": "stdout",
     "output_type": "stream",
     "text": [
      "\n",
      "0: 640x640 1 scratches, 16.2ms\n",
      "Speed: 4.4ms preprocess, 16.2ms inference, 2.8ms postprocess per image at shape (1, 3, 640, 640)\n",
      "\n",
      "0: 640x640 1 inculsion, 3 scratchess, 18.0ms\n",
      "Speed: 4.3ms preprocess, 18.0ms inference, 3.3ms postprocess per image at shape (1, 3, 640, 640)\n"
     ]
    },
    {
     "name": "stderr",
     "output_type": "stream",
     "text": [
      "Processing:  98%|████████████████████████████████████████████████████████████████▋ | 1764/1800 [06:58<00:05,  6.16it/s]"
     ]
    },
    {
     "name": "stdout",
     "output_type": "stream",
     "text": [
      "\n",
      "0: 640x640 2 scratchess, 19.2ms\n",
      "Speed: 7.8ms preprocess, 19.2ms inference, 4.3ms postprocess per image at shape (1, 3, 640, 640)\n"
     ]
    },
    {
     "name": "stderr",
     "output_type": "stream",
     "text": [
      "Processing:  98%|████████████████████████████████████████████████████████████████▋ | 1765/1800 [06:58<00:05,  5.90it/s]"
     ]
    },
    {
     "name": "stdout",
     "output_type": "stream",
     "text": [
      "\n",
      "0: 640x640 4 scratchess, 17.1ms\n",
      "Speed: 5.3ms preprocess, 17.1ms inference, 3.6ms postprocess per image at shape (1, 3, 640, 640)\n"
     ]
    },
    {
     "name": "stderr",
     "output_type": "stream",
     "text": [
      "Processing:  98%|████████████████████████████████████████████████████████████████▊ | 1766/1800 [06:59<00:07,  4.77it/s]"
     ]
    },
    {
     "name": "stdout",
     "output_type": "stream",
     "text": [
      "\n",
      "0: 640x640 2 inculsions, 1 scratches, 16.3ms\n",
      "Speed: 5.4ms preprocess, 16.3ms inference, 3.3ms postprocess per image at shape (1, 3, 640, 640)\n"
     ]
    },
    {
     "name": "stderr",
     "output_type": "stream",
     "text": [
      "Processing:  98%|████████████████████████████████████████████████████████████████▊ | 1767/1800 [06:59<00:07,  4.66it/s]"
     ]
    },
    {
     "name": "stdout",
     "output_type": "stream",
     "text": [
      "\n",
      "0: 640x640 1 inculsion, 3 scratchess, 13.5ms\n",
      "Speed: 6.2ms preprocess, 13.5ms inference, 3.4ms postprocess per image at shape (1, 3, 640, 640)\n"
     ]
    },
    {
     "name": "stderr",
     "output_type": "stream",
     "text": [
      "Processing:  98%|████████████████████████████████████████████████████████████████▊ | 1768/1800 [06:59<00:07,  4.04it/s]"
     ]
    },
    {
     "name": "stdout",
     "output_type": "stream",
     "text": [
      "\n",
      "0: 640x640 2 inculsions, 2 scratchess, 21.6ms\n",
      "Speed: 5.4ms preprocess, 21.6ms inference, 5.1ms postprocess per image at shape (1, 3, 640, 640)\n"
     ]
    },
    {
     "name": "stderr",
     "output_type": "stream",
     "text": [
      "Processing:  98%|████████████████████████████████████████████████████████████████▊ | 1769/1800 [07:00<00:08,  3.73it/s]"
     ]
    },
    {
     "name": "stdout",
     "output_type": "stream",
     "text": [
      "\n",
      "0: 640x640 2 scratchess, 16.9ms\n",
      "Speed: 5.0ms preprocess, 16.9ms inference, 2.9ms postprocess per image at shape (1, 3, 640, 640)\n"
     ]
    },
    {
     "name": "stderr",
     "output_type": "stream",
     "text": [
      "Processing:  98%|████████████████████████████████████████████████████████████████▉ | 1770/1800 [07:00<00:07,  4.12it/s]"
     ]
    },
    {
     "name": "stdout",
     "output_type": "stream",
     "text": [
      "\n",
      "0: 640x640 2 scratchess, 19.0ms\n",
      "Speed: 4.4ms preprocess, 19.0ms inference, 3.2ms postprocess per image at shape (1, 3, 640, 640)\n"
     ]
    },
    {
     "name": "stderr",
     "output_type": "stream",
     "text": [
      "Processing:  98%|████████████████████████████████████████████████████████████████▉ | 1771/1800 [07:00<00:06,  4.54it/s]"
     ]
    },
    {
     "name": "stdout",
     "output_type": "stream",
     "text": [
      "\n",
      "0: 640x640 1 scratches, 20.5ms\n",
      "Speed: 5.6ms preprocess, 20.5ms inference, 3.5ms postprocess per image at shape (1, 3, 640, 640)\n"
     ]
    },
    {
     "name": "stderr",
     "output_type": "stream",
     "text": [
      "Processing:  98%|████████████████████████████████████████████████████████████████▉ | 1772/1800 [07:00<00:05,  5.35it/s]"
     ]
    },
    {
     "name": "stdout",
     "output_type": "stream",
     "text": [
      "\n",
      "0: 640x640 2 scratchess, 17.7ms\n",
      "Speed: 4.6ms preprocess, 17.7ms inference, 4.0ms postprocess per image at shape (1, 3, 640, 640)\n"
     ]
    },
    {
     "name": "stderr",
     "output_type": "stream",
     "text": [
      "Processing:  98%|█████████████████████████████████████████████████████████████████ | 1773/1800 [07:00<00:04,  5.53it/s]"
     ]
    },
    {
     "name": "stdout",
     "output_type": "stream",
     "text": [
      "\n",
      "0: 640x640 4 scratchess, 16.0ms\n",
      "Speed: 4.6ms preprocess, 16.0ms inference, 2.9ms postprocess per image at shape (1, 3, 640, 640)\n"
     ]
    },
    {
     "name": "stderr",
     "output_type": "stream",
     "text": [
      "Processing:  99%|█████████████████████████████████████████████████████████████████ | 1774/1800 [07:01<00:05,  4.59it/s]"
     ]
    },
    {
     "name": "stdout",
     "output_type": "stream",
     "text": [
      "\n",
      "0: 640x640 1 scratches, 17.5ms\n",
      "Speed: 5.2ms preprocess, 17.5ms inference, 3.5ms postprocess per image at shape (1, 3, 640, 640)\n"
     ]
    },
    {
     "name": "stderr",
     "output_type": "stream",
     "text": [
      "Processing:  99%|█████████████████████████████████████████████████████████████████ | 1775/1800 [07:01<00:04,  5.40it/s]"
     ]
    },
    {
     "name": "stdout",
     "output_type": "stream",
     "text": [
      "\n",
      "0: 640x640 2 scratchess, 16.9ms\n",
      "Speed: 5.7ms preprocess, 16.9ms inference, 4.1ms postprocess per image at shape (1, 3, 640, 640)\n"
     ]
    },
    {
     "name": "stderr",
     "output_type": "stream",
     "text": [
      "Processing:  99%|█████████████████████████████████████████████████████████████████ | 1776/1800 [07:01<00:04,  5.56it/s]"
     ]
    },
    {
     "name": "stdout",
     "output_type": "stream",
     "text": [
      "\n",
      "0: 640x640 3 scratchess, 18.3ms\n",
      "Speed: 5.3ms preprocess, 18.3ms inference, 3.3ms postprocess per image at shape (1, 3, 640, 640)\n"
     ]
    },
    {
     "name": "stderr",
     "output_type": "stream",
     "text": [
      "Processing:  99%|█████████████████████████████████████████████████████████████████▏| 1777/1800 [07:01<00:04,  5.05it/s]"
     ]
    },
    {
     "name": "stdout",
     "output_type": "stream",
     "text": [
      "\n",
      "0: 640x640 2 scratchess, 15.6ms\n",
      "Speed: 6.5ms preprocess, 15.6ms inference, 3.5ms postprocess per image at shape (1, 3, 640, 640)\n"
     ]
    },
    {
     "name": "stderr",
     "output_type": "stream",
     "text": [
      "Processing:  99%|█████████████████████████████████████████████████████████████████▏| 1778/1800 [07:01<00:04,  5.30it/s]"
     ]
    },
    {
     "name": "stdout",
     "output_type": "stream",
     "text": [
      "\n",
      "0: 640x640 2 scratchess, 17.6ms\n",
      "Speed: 5.6ms preprocess, 17.6ms inference, 4.1ms postprocess per image at shape (1, 3, 640, 640)\n"
     ]
    },
    {
     "name": "stderr",
     "output_type": "stream",
     "text": [
      "Processing:  99%|█████████████████████████████████████████████████████████████████▏| 1779/1800 [07:01<00:03,  5.53it/s]"
     ]
    },
    {
     "name": "stdout",
     "output_type": "stream",
     "text": [
      "\n",
      "0: 640x640 1 scratches, 18.9ms\n",
      "Speed: 4.8ms preprocess, 18.9ms inference, 4.4ms postprocess per image at shape (1, 3, 640, 640)\n"
     ]
    },
    {
     "name": "stderr",
     "output_type": "stream",
     "text": [
      "Processing:  99%|█████████████████████████████████████████████████████████████████▎| 1780/1800 [07:01<00:03,  6.31it/s]"
     ]
    },
    {
     "name": "stdout",
     "output_type": "stream",
     "text": [
      "\n",
      "0: 640x640 3 scratchess, 16.1ms\n",
      "Speed: 5.0ms preprocess, 16.1ms inference, 4.0ms postprocess per image at shape (1, 3, 640, 640)\n"
     ]
    },
    {
     "name": "stderr",
     "output_type": "stream",
     "text": [
      "Processing:  99%|█████████████████████████████████████████████████████████████████▎| 1781/1800 [07:02<00:03,  5.40it/s]"
     ]
    },
    {
     "name": "stdout",
     "output_type": "stream",
     "text": [
      "\n",
      "0: 640x640 3 scratchess, 19.0ms\n",
      "Speed: 4.8ms preprocess, 19.0ms inference, 3.1ms postprocess per image at shape (1, 3, 640, 640)\n"
     ]
    },
    {
     "name": "stderr",
     "output_type": "stream",
     "text": [
      "Processing:  99%|█████████████████████████████████████████████████████████████████▎| 1782/1800 [07:02<00:03,  5.01it/s]"
     ]
    },
    {
     "name": "stdout",
     "output_type": "stream",
     "text": [
      "\n",
      "0: 640x640 2 scratchess, 18.6ms\n",
      "Speed: 5.7ms preprocess, 18.6ms inference, 4.3ms postprocess per image at shape (1, 3, 640, 640)\n"
     ]
    },
    {
     "name": "stderr",
     "output_type": "stream",
     "text": [
      "Processing:  99%|█████████████████████████████████████████████████████████████████▍| 1783/1800 [07:02<00:03,  5.26it/s]"
     ]
    },
    {
     "name": "stdout",
     "output_type": "stream",
     "text": [
      "\n",
      "0: 640x640 2 scratchess, 19.5ms\n",
      "Speed: 5.6ms preprocess, 19.5ms inference, 3.6ms postprocess per image at shape (1, 3, 640, 640)\n"
     ]
    },
    {
     "name": "stderr",
     "output_type": "stream",
     "text": [
      "Processing:  99%|█████████████████████████████████████████████████████████████████▍| 1784/1800 [07:02<00:03,  4.79it/s]"
     ]
    },
    {
     "name": "stdout",
     "output_type": "stream",
     "text": [
      "\n",
      "0: 640x640 3 scratchess, 17.6ms\n",
      "Speed: 6.5ms preprocess, 17.6ms inference, 3.3ms postprocess per image at shape (1, 3, 640, 640)\n"
     ]
    },
    {
     "name": "stderr",
     "output_type": "stream",
     "text": [
      "Processing:  99%|█████████████████████████████████████████████████████████████████▍| 1785/1800 [07:03<00:03,  4.61it/s]"
     ]
    },
    {
     "name": "stdout",
     "output_type": "stream",
     "text": [
      "\n",
      "0: 640x640 4 scratchess, 16.5ms\n",
      "Speed: 5.2ms preprocess, 16.5ms inference, 3.6ms postprocess per image at shape (1, 3, 640, 640)\n"
     ]
    },
    {
     "name": "stderr",
     "output_type": "stream",
     "text": [
      "Processing:  99%|█████████████████████████████████████████████████████████████████▍| 1786/1800 [07:03<00:03,  4.01it/s]"
     ]
    },
    {
     "name": "stdout",
     "output_type": "stream",
     "text": [
      "\n",
      "0: 640x640 2 scratchess, 14.7ms\n",
      "Speed: 5.5ms preprocess, 14.7ms inference, 3.7ms postprocess per image at shape (1, 3, 640, 640)\n"
     ]
    },
    {
     "name": "stderr",
     "output_type": "stream",
     "text": [
      "Processing:  99%|█████████████████████████████████████████████████████████████████▌| 1787/1800 [07:03<00:02,  4.38it/s]"
     ]
    },
    {
     "name": "stdout",
     "output_type": "stream",
     "text": [
      "\n",
      "0: 640x640 1 pitted_surface, 2 scratchess, 17.7ms\n",
      "Speed: 5.4ms preprocess, 17.7ms inference, 3.1ms postprocess per image at shape (1, 3, 640, 640)\n"
     ]
    },
    {
     "name": "stderr",
     "output_type": "stream",
     "text": [
      "Processing:  99%|█████████████████████████████████████████████████████████████████▌| 1788/1800 [07:03<00:02,  4.17it/s]"
     ]
    },
    {
     "name": "stdout",
     "output_type": "stream",
     "text": [
      "\n",
      "0: 640x640 3 scratchess, 20.4ms\n",
      "Speed: 4.3ms preprocess, 20.4ms inference, 3.3ms postprocess per image at shape (1, 3, 640, 640)\n"
     ]
    },
    {
     "name": "stderr",
     "output_type": "stream",
     "text": [
      "Processing:  99%|█████████████████████████████████████████████████████████████████▌| 1789/1800 [07:04<00:02,  4.18it/s]"
     ]
    },
    {
     "name": "stdout",
     "output_type": "stream",
     "text": [
      "\n",
      "0: 640x640 1 inculsion, 1 scratches, 17.8ms\n",
      "Speed: 3.7ms preprocess, 17.8ms inference, 3.5ms postprocess per image at shape (1, 3, 640, 640)\n"
     ]
    },
    {
     "name": "stderr",
     "output_type": "stream",
     "text": [
      "Processing:  99%|█████████████████████████████████████████████████████████████████▋| 1790/1800 [07:04<00:02,  4.55it/s]"
     ]
    },
    {
     "name": "stdout",
     "output_type": "stream",
     "text": [
      "\n",
      "0: 640x640 4 inculsions, 2 scratchess, 18.7ms\n",
      "Speed: 5.3ms preprocess, 18.7ms inference, 3.5ms postprocess per image at shape (1, 3, 640, 640)\n"
     ]
    },
    {
     "name": "stderr",
     "output_type": "stream",
     "text": [
      "Processing: 100%|█████████████████████████████████████████████████████████████████▋| 1791/1800 [07:04<00:02,  3.45it/s]"
     ]
    },
    {
     "name": "stdout",
     "output_type": "stream",
     "text": [
      "\n",
      "0: 640x640 2 inculsions, 3 scratchess, 26.6ms\n",
      "Speed: 5.5ms preprocess, 26.6ms inference, 3.4ms postprocess per image at shape (1, 3, 640, 640)\n"
     ]
    },
    {
     "name": "stderr",
     "output_type": "stream",
     "text": [
      "Processing: 100%|█████████████████████████████████████████████████████████████████▋| 1792/1800 [07:05<00:02,  3.18it/s]"
     ]
    },
    {
     "name": "stdout",
     "output_type": "stream",
     "text": [
      "\n",
      "0: 640x640 4 inculsions, 2 scratchess, 24.2ms\n",
      "Speed: 6.0ms preprocess, 24.2ms inference, 6.6ms postprocess per image at shape (1, 3, 640, 640)\n"
     ]
    },
    {
     "name": "stderr",
     "output_type": "stream",
     "text": [
      "Processing: 100%|█████████████████████████████████████████████████████████████████▋| 1793/1800 [07:05<00:02,  2.78it/s]"
     ]
    },
    {
     "name": "stdout",
     "output_type": "stream",
     "text": [
      "\n",
      "0: 640x640 4 inculsions, 2 scratchess, 17.0ms\n",
      "Speed: 5.4ms preprocess, 17.0ms inference, 4.3ms postprocess per image at shape (1, 3, 640, 640)\n"
     ]
    },
    {
     "name": "stderr",
     "output_type": "stream",
     "text": [
      "Processing: 100%|█████████████████████████████████████████████████████████████████▊| 1794/1800 [07:06<00:02,  2.59it/s]"
     ]
    },
    {
     "name": "stdout",
     "output_type": "stream",
     "text": [
      "\n",
      "0: 640x640 3 inculsions, 4 scratchess, 18.5ms\n",
      "Speed: 5.0ms preprocess, 18.5ms inference, 3.4ms postprocess per image at shape (1, 3, 640, 640)\n"
     ]
    },
    {
     "name": "stderr",
     "output_type": "stream",
     "text": [
      "Processing: 100%|█████████████████████████████████████████████████████████████████▊| 1795/1800 [07:06<00:02,  2.22it/s]"
     ]
    },
    {
     "name": "stdout",
     "output_type": "stream",
     "text": [
      "\n",
      "0: 640x640 3 inculsions, 2 scratchess, 17.7ms\n",
      "Speed: 5.9ms preprocess, 17.7ms inference, 3.9ms postprocess per image at shape (1, 3, 640, 640)\n"
     ]
    },
    {
     "name": "stderr",
     "output_type": "stream",
     "text": [
      "Processing: 100%|█████████████████████████████████████████████████████████████████▊| 1796/1800 [07:06<00:01,  2.33it/s]"
     ]
    },
    {
     "name": "stdout",
     "output_type": "stream",
     "text": [
      "\n",
      "0: 640x640 2 inculsions, 1 scratches, 17.0ms\n",
      "Speed: 4.5ms preprocess, 17.0ms inference, 3.3ms postprocess per image at shape (1, 3, 640, 640)\n"
     ]
    },
    {
     "name": "stderr",
     "output_type": "stream",
     "text": [
      "Processing: 100%|█████████████████████████████████████████████████████████████████▉| 1797/1800 [07:07<00:01,  2.68it/s]"
     ]
    },
    {
     "name": "stdout",
     "output_type": "stream",
     "text": [
      "\n",
      "0: 640x640 2 inculsions, 2 scratchess, 19.7ms\n",
      "Speed: 5.8ms preprocess, 19.7ms inference, 3.7ms postprocess per image at shape (1, 3, 640, 640)\n"
     ]
    },
    {
     "name": "stderr",
     "output_type": "stream",
     "text": [
      "Processing: 100%|█████████████████████████████████████████████████████████████████▉| 1798/1800 [07:07<00:00,  2.80it/s]"
     ]
    },
    {
     "name": "stdout",
     "output_type": "stream",
     "text": [
      "\n",
      "0: 640x640 1 scratches, 18.7ms\n",
      "Speed: 5.3ms preprocess, 18.7ms inference, 3.1ms postprocess per image at shape (1, 3, 640, 640)\n",
      "\n",
      "0: 640x640 1 scratches, 18.0ms\n",
      "Speed: 4.7ms preprocess, 18.0ms inference, 4.0ms postprocess per image at shape (1, 3, 640, 640)\n"
     ]
    },
    {
     "name": "stderr",
     "output_type": "stream",
     "text": [
      "Processing: 100%|██████████████████████████████████████████████████████████████████| 1800/1800 [07:07<00:00,  4.21it/s]\n"
     ]
    },
    {
     "name": "stdout",
     "output_type": "stream",
     "text": [
      "✅ Final feature matrix shape: (5062, 271)\n"
     ]
    }
   ],
   "source": [
    "\n",
    "\n",
    "# === Load YOLO model and setup hook ===\n",
    "model = YOLO(\"best_neu.pt\")\n",
    "features = []\n",
    "def hook(module, input, output):\n",
    "    features.append(output)\n",
    "hook_handle = model.model.model[-2].register_forward_hook(hook)  # Hook to last feature layer\n",
    "\n",
    "# === Class names (update to your own)\n",
    "CLASS_NAMES = [\"crazing\", \"inclusion\",\"patches\",\"pitted_surface\",\"rolled-in_scale\",\"scratches\"]\n",
    "\n",
    "# === IoU calculator ===\n",
    "def compute_iou(boxA, boxB):\n",
    "    xA = max(boxA[0], boxB[0])\n",
    "    yA = max(boxA[1], boxB[1])\n",
    "    xB = min(boxA[2], boxB[2])\n",
    "    yB = min(boxA[3], boxB[3])\n",
    "    interArea = max(0, xB - xA) * max(0, yB - yA)\n",
    "    boxAArea = max(1, (boxA[2] - boxA[0]) * (boxA[3] - boxA[1]))\n",
    "    boxBArea = max(1, (boxB[2] - boxB[0]) * (boxB[3] - boxB[1]))\n",
    "    return interArea / float(boxAArea + boxBArea - interArea + 1e-6)\n",
    "\n",
    "# === Parse YOLO TXT annotation ===\n",
    "def parse_yolo_txt_annotation(txt_path, img_width, img_height):\n",
    "    gt_boxes = []\n",
    "    gt_labels = []\n",
    "    if not os.path.exists(txt_path):\n",
    "        return gt_boxes, gt_labels\n",
    "    with open(txt_path, 'r') as f:\n",
    "        for line in f:\n",
    "            parts = line.strip().split()\n",
    "            class_id = int(parts[0])\n",
    "            x_center = float(parts[1]) * img_width\n",
    "            y_center = float(parts[2]) * img_height\n",
    "            w = float(parts[3]) * img_width\n",
    "            h = float(parts[4]) * img_height\n",
    "            x1 = int(x_center - w / 2)\n",
    "            y1 = int(y_center - h / 2)\n",
    "            x2 = int(x_center + w / 2)\n",
    "            y2 = int(y_center + h / 2)\n",
    "            gt_boxes.append([x1, y1, x2, y2])\n",
    "            gt_labels.append(class_id)\n",
    "    return gt_boxes, gt_labels\n",
    "\n",
    "# === GLCM feature extractor ===\n",
    "def extract_glcm_features(img):\n",
    "    img = cv2.cvtColor(img, cv2.COLOR_BGR2GRAY)\n",
    "    #img = np.array(img)\n",
    "\n",
    "    image_dataset = pd.DataFrame()\n",
    "\n",
    "    \n",
    "\n",
    "    df = pd.DataFrame()\n",
    "    GLCM = graycomatrix(img, [1], [0])       \n",
    "    GLCM_Energy = graycoprops(GLCM, 'energy')[0]\n",
    "    df['Energy'] = GLCM_Energy\n",
    "    GLCM_corr = graycoprops(GLCM, 'correlation')[0]\n",
    "    df['Corr'] = GLCM_corr       \n",
    "    GLCM_diss = graycoprops(GLCM, 'dissimilarity')[0]\n",
    "    df['Diss_sim'] = GLCM_diss       \n",
    "    GLCM_hom = graycoprops(GLCM, 'homogeneity')[0]\n",
    "    df['Homogen'] = GLCM_hom       \n",
    "    GLCM_contr = graycoprops(GLCM, 'contrast')[0]\n",
    "    df['Contrast'] = GLCM_contr\n",
    "\n",
    "\n",
    "    GLCM2 = graycomatrix(img, [3], [0])       \n",
    "    GLCM_Energy2 = graycoprops(GLCM2, 'energy')[0]\n",
    "    df['Energy2'] = GLCM_Energy2\n",
    "    GLCM_corr2 = graycoprops(GLCM2, 'correlation')[0]\n",
    "    df['Corr2'] = GLCM_corr2       \n",
    "    GLCM_diss2 = graycoprops(GLCM2, 'dissimilarity')[0]\n",
    "    df['Diss_sim2'] = GLCM_diss2       \n",
    "    GLCM_hom2 = graycoprops(GLCM2, 'homogeneity')[0]\n",
    "    df['Homogen2'] = GLCM_hom2       \n",
    "    GLCM_contr2 = graycoprops(GLCM2, 'contrast')[0]\n",
    "    df['Contrast2'] = GLCM_contr2\n",
    "\n",
    "    GLCM3 = graycomatrix(img, [5], [0])       \n",
    "    GLCM_Energy3 = graycoprops(GLCM3, 'energy')[0]\n",
    "    df['Energy3'] = GLCM_Energy3\n",
    "    GLCM_corr3 = graycoprops(GLCM3, 'correlation')[0]\n",
    "    df['Corr3'] = GLCM_corr3       \n",
    "    GLCM_diss3 = graycoprops(GLCM3, 'dissimilarity')[0]\n",
    "    df['Diss_sim3'] = GLCM_diss3       \n",
    "    GLCM_hom3 = graycoprops(GLCM3, 'homogeneity')[0]\n",
    "    df['Homogen3'] = GLCM_hom3       \n",
    "    GLCM_contr3 = graycoprops(GLCM3, 'contrast')[0]\n",
    "    df['Contrast3'] = GLCM_contr3\n",
    "\n",
    "    GLCM4 = graycomatrix(img, [0], [np.pi/4])       \n",
    "    GLCM_Energy4 = graycoprops(GLCM4, 'energy')[0]\n",
    "    df['Energy4'] = GLCM_Energy4\n",
    "    GLCM_corr4 = graycoprops(GLCM4, 'correlation')[0]\n",
    "    df['Corr4'] = GLCM_corr4       \n",
    "    GLCM_diss4 = graycoprops(GLCM4, 'dissimilarity')[0]\n",
    "    df['Diss_sim4'] = GLCM_diss4       \n",
    "    GLCM_hom4 = graycoprops(GLCM4, 'homogeneity')[0]\n",
    "    df['Homogen4'] = GLCM_hom4       \n",
    "    GLCM_contr4 = graycoprops(GLCM4, 'contrast')[0]\n",
    "    df['Contrast4'] = GLCM_contr4\n",
    "    \n",
    "    GLCM5 = graycomatrix(img, [0], [np.pi/2])       \n",
    "    GLCM_Energy5 = graycoprops(GLCM5, 'energy')[0]\n",
    "    df['Energy5'] = GLCM_Energy5\n",
    "    GLCM_corr5 = graycoprops(GLCM5, 'correlation')[0]\n",
    "    df['Corr5'] = GLCM_corr5       \n",
    "    GLCM_diss5 = graycoprops(GLCM5, 'dissimilarity')[0]\n",
    "    df['Diss_sim5'] = GLCM_diss5       \n",
    "    GLCM_hom5 = graycoprops(GLCM5, 'homogeneity')[0]\n",
    "    df['Homogen5'] = GLCM_hom5       \n",
    "    GLCM_contr5 = graycoprops(GLCM5, 'contrast')[0]\n",
    "    df['Contrast5'] = GLCM_contr5\n",
    "\n",
    "    df =df.drop([\"Corr4\",\"Diss_sim4\",\"Contrast4\",\"Corr5\",\"Diss_sim5\",\"Homogen3\",\"Homogen4\",\"Homogen5\",\"Contrast5\",\"Energy5\"],axis=1)\n",
    "    return df.values.flatten()\n",
    "\n",
    "\n",
    "# === YOLO feature extractor ===\n",
    "\n",
    "def extract_yolo_features(image):\n",
    "    im = cv2.resize(image, (640, 640))\n",
    "    im = im.astype(np.float32) / 255.0\n",
    "    im = torch.from_numpy(im.transpose(2, 0, 1)).unsqueeze(0)\n",
    "\n",
    "    # ✅ Match device with model (GPU or CPU)\n",
    "    device = next(model.model.parameters()).device\n",
    "    im = im.to(device)\n",
    "\n",
    "    features.clear()\n",
    "    with torch.no_grad():\n",
    "        _ = model.model(im)\n",
    "\n",
    "    feat_tensor = features[0].cpu()  # optionally move to CPU before converting to numpy\n",
    "    feat_vector = torch.nn.functional.adaptive_avg_pool2d(feat_tensor, 1).view(feat_tensor.shape[0], -1)\n",
    "    return feat_vector.squeeze().numpy()\n",
    "\n",
    "\n",
    "# === Thermal conversion ===\n",
    "def convert_to_thermal(img_gray):\n",
    "    return cv2.applyColorMap(img_gray, cv2.COLORMAP_INFERNO)\n",
    "\n",
    "# === Main pipeline ===\n",
    "def process_images(image_folder, annotation_folder):\n",
    "    all_data = []\n",
    "    all_targets = []\n",
    "\n",
    "    for file in tqdm(os.listdir(image_folder), desc=\"Processing\"):\n",
    "        if not file.lower().endswith((\".jpg\", \".jpeg\", \".png\")):\n",
    "            continue\n",
    "\n",
    "        filename = os.path.splitext(file)[0]\n",
    "        img_path = os.path.join(image_folder, file)\n",
    "        annot_path = os.path.join(annotation_folder, filename + \".txt\")\n",
    "\n",
    "        original = cv2.imread(img_path, cv2.IMREAD_GRAYSCALE)\n",
    "        if original is None:\n",
    "            continue\n",
    "\n",
    "        h, w = original.shape\n",
    "        thermal = convert_to_thermal(original)\n",
    "        original_color = cv2.cvtColor(original, cv2.COLOR_GRAY2BGR)\n",
    "\n",
    "        gt_boxes, gt_labels = parse_yolo_txt_annotation(annot_path, w, h)\n",
    "\n",
    "        results = model(original_color, conf=0.05, iou=0.0, agnostic_nms=True)\n",
    "        det_boxes = results[0].boxes.xyxy.cpu().numpy().astype(int)\n",
    "\n",
    "        for x1, y1, x2, y2 in det_boxes:\n",
    "            norm_crop = original_color[y1:y2, x1:x2]\n",
    "            thermal_crop = thermal[y1:y2, x1:x2]\n",
    "            if norm_crop.size == 0 or thermal_crop.size == 0:\n",
    "                continue\n",
    "\n",
    "            try:\n",
    "                yolo_vec = extract_yolo_features(norm_crop)\n",
    "                glcm_vec = extract_glcm_features(thermal_crop)\n",
    "                row = list(yolo_vec) + list(glcm_vec)\n",
    "                all_data.append(row)\n",
    "\n",
    "                # Match with closest GT box\n",
    "                best_label = \"unknown\"\n",
    "                max_iou = 0\n",
    "                for gt_box, label in zip(gt_boxes, gt_labels):\n",
    "                    img_h, img_w = original_color.shape[:2]\n",
    "                    x_center = ((x1 + x2) / 2) / img_w\n",
    "                    y_center = ((y1 + y2) / 2) / img_h\n",
    "                    width = (x2 - x1) / img_w\n",
    "                    height = (y2 - y1) / img_h\n",
    "\n",
    "                    updated_annotation = f\"{label} {x_center:.6f} {y_center:.6f} {width:.6f} {height:.6f}\\n\"\n",
    "\n",
    "                    # Prepare output directory\n",
    "                    os.makedirs(\"predicted_annotations\", exist_ok=True)\n",
    "                    new_annotation_file = os.path.join(\"predicted_annotations\", os.path.splitext(filename)[0] + \".txt\")\n",
    "                    annotation_filename = os.path.splitext(filename)[0] + \".txt\"\n",
    "\n",
    "                    output_path = os.path.join(\"predicted_annotations\", annotation_filename)\n",
    "                    with open(output_path, \"a\") as f:\n",
    "                        f.write(updated_annotation)\n",
    "\n",
    "\n",
    "                    iou = compute_iou([x1, y1, x2, y2], gt_box)\n",
    "                    if iou > max_iou:\n",
    "                        max_iou = iou\n",
    "                        best_label = label\n",
    "                all_targets.append(best_label)\n",
    "\n",
    "            except Exception as e:\n",
    "                print(f\"⚠️ Error in {file}: {e}\")\n",
    "\n",
    "    # Build DataFrame\n",
    "    yolo_cols = [f\"{i}\" for i in range(len(yolo_vec))]\n",
    "    # Column names for GLCM features\n",
    "    glcm_cols = ['Energy', 'Corr', 'Diss_sim', 'Homogen', 'Contrast',\n",
    "             'Energy2', 'Corr2', 'Diss_sim2', 'Homogen2', 'Contrast2',\n",
    "             'Energy3', 'Corr3', 'Diss_sim3', 'Contrast3', 'Energy4']\n",
    "    df = pd.DataFrame(all_data, columns=yolo_cols + glcm_cols)\n",
    "\n",
    "    \n",
    "\n",
    "    # 2. Combine feature vectors into a row\n",
    "    #row = list(yolo_vec) + list(glcm_vec)\n",
    "\n",
    "# 3. When all rows are ready, construct DataFrame\n",
    "    df = pd.DataFrame(all_data, columns=yolo_cols + glcm_cols)\n",
    "    #df = pd.DataFrame(all_data)\n",
    "    print(\"✅ Final feature matrix shape:\", df.shape)\n",
    "    return df,all_targets\n",
    "\n",
    "# === Run pipeline ===\n",
    "df_combined,targets = process_images(\"Data/NEU-DET/NEU-DET/IMAGES\",\"VOC_lab\")\n",
    "\n"
   ]
  },
  {
   "cell_type": "code",
   "execution_count": 3,
   "id": "e73fa61b-667b-4cc2-81d1-3b20d5b4d230",
   "metadata": {},
   "outputs": [
    {
     "data": {
      "text/html": [
       "<div>\n",
       "<style scoped>\n",
       "    .dataframe tbody tr th:only-of-type {\n",
       "        vertical-align: middle;\n",
       "    }\n",
       "\n",
       "    .dataframe tbody tr th {\n",
       "        vertical-align: top;\n",
       "    }\n",
       "\n",
       "    .dataframe thead th {\n",
       "        text-align: right;\n",
       "    }\n",
       "</style>\n",
       "<table border=\"1\" class=\"dataframe\">\n",
       "  <thead>\n",
       "    <tr style=\"text-align: right;\">\n",
       "      <th></th>\n",
       "      <th>0</th>\n",
       "      <th>1</th>\n",
       "      <th>2</th>\n",
       "      <th>3</th>\n",
       "      <th>4</th>\n",
       "      <th>5</th>\n",
       "      <th>6</th>\n",
       "      <th>7</th>\n",
       "      <th>8</th>\n",
       "      <th>9</th>\n",
       "      <th>...</th>\n",
       "      <th>Energy2</th>\n",
       "      <th>Corr2</th>\n",
       "      <th>Diss_sim2</th>\n",
       "      <th>Homogen2</th>\n",
       "      <th>Contrast2</th>\n",
       "      <th>Energy3</th>\n",
       "      <th>Corr3</th>\n",
       "      <th>Diss_sim3</th>\n",
       "      <th>Contrast3</th>\n",
       "      <th>Energy4</th>\n",
       "    </tr>\n",
       "  </thead>\n",
       "  <tbody>\n",
       "    <tr>\n",
       "      <th>0</th>\n",
       "      <td>-0.000801</td>\n",
       "      <td>0.179746</td>\n",
       "      <td>-0.044113</td>\n",
       "      <td>0.149404</td>\n",
       "      <td>-0.216330</td>\n",
       "      <td>0.657885</td>\n",
       "      <td>0.327573</td>\n",
       "      <td>0.233934</td>\n",
       "      <td>0.256287</td>\n",
       "      <td>-0.087819</td>\n",
       "      <td>...</td>\n",
       "      <td>0.016388</td>\n",
       "      <td>0.397753</td>\n",
       "      <td>22.311317</td>\n",
       "      <td>0.046469</td>\n",
       "      <td>819.716742</td>\n",
       "      <td>0.016134</td>\n",
       "      <td>0.251035</td>\n",
       "      <td>24.997656</td>\n",
       "      <td>1016.545448</td>\n",
       "      <td>0.115271</td>\n",
       "    </tr>\n",
       "    <tr>\n",
       "      <th>1</th>\n",
       "      <td>0.188967</td>\n",
       "      <td>0.278953</td>\n",
       "      <td>-0.087048</td>\n",
       "      <td>0.220420</td>\n",
       "      <td>0.291997</td>\n",
       "      <td>0.870558</td>\n",
       "      <td>0.212587</td>\n",
       "      <td>0.557211</td>\n",
       "      <td>0.180714</td>\n",
       "      <td>0.173702</td>\n",
       "      <td>...</td>\n",
       "      <td>0.018626</td>\n",
       "      <td>0.448976</td>\n",
       "      <td>20.106406</td>\n",
       "      <td>0.053793</td>\n",
       "      <td>669.683784</td>\n",
       "      <td>0.018374</td>\n",
       "      <td>0.349351</td>\n",
       "      <td>21.731127</td>\n",
       "      <td>783.602004</td>\n",
       "      <td>0.121006</td>\n",
       "    </tr>\n",
       "    <tr>\n",
       "      <th>2</th>\n",
       "      <td>0.192903</td>\n",
       "      <td>0.265468</td>\n",
       "      <td>-0.059010</td>\n",
       "      <td>0.404200</td>\n",
       "      <td>0.235915</td>\n",
       "      <td>0.811797</td>\n",
       "      <td>0.375189</td>\n",
       "      <td>0.579805</td>\n",
       "      <td>0.184275</td>\n",
       "      <td>0.164654</td>\n",
       "      <td>...</td>\n",
       "      <td>0.019092</td>\n",
       "      <td>0.753674</td>\n",
       "      <td>16.514645</td>\n",
       "      <td>0.064906</td>\n",
       "      <td>476.698907</td>\n",
       "      <td>0.018660</td>\n",
       "      <td>0.693034</td>\n",
       "      <td>18.265635</td>\n",
       "      <td>592.771271</td>\n",
       "      <td>0.110366</td>\n",
       "    </tr>\n",
       "    <tr>\n",
       "      <th>3</th>\n",
       "      <td>0.047972</td>\n",
       "      <td>0.220046</td>\n",
       "      <td>-0.002095</td>\n",
       "      <td>0.275697</td>\n",
       "      <td>0.314334</td>\n",
       "      <td>0.694794</td>\n",
       "      <td>0.243044</td>\n",
       "      <td>0.202302</td>\n",
       "      <td>0.312630</td>\n",
       "      <td>0.205469</td>\n",
       "      <td>...</td>\n",
       "      <td>0.022977</td>\n",
       "      <td>0.673694</td>\n",
       "      <td>12.882275</td>\n",
       "      <td>0.078550</td>\n",
       "      <td>274.389051</td>\n",
       "      <td>0.022503</td>\n",
       "      <td>0.597872</td>\n",
       "      <td>14.056609</td>\n",
       "      <td>329.252438</td>\n",
       "      <td>0.127987</td>\n",
       "    </tr>\n",
       "    <tr>\n",
       "      <th>4</th>\n",
       "      <td>0.158983</td>\n",
       "      <td>0.253079</td>\n",
       "      <td>-0.055906</td>\n",
       "      <td>0.171083</td>\n",
       "      <td>0.332521</td>\n",
       "      <td>0.923105</td>\n",
       "      <td>0.197323</td>\n",
       "      <td>0.542001</td>\n",
       "      <td>0.228141</td>\n",
       "      <td>0.260887</td>\n",
       "      <td>...</td>\n",
       "      <td>0.018811</td>\n",
       "      <td>0.591063</td>\n",
       "      <td>17.835833</td>\n",
       "      <td>0.060105</td>\n",
       "      <td>539.322292</td>\n",
       "      <td>0.018301</td>\n",
       "      <td>0.511138</td>\n",
       "      <td>19.713682</td>\n",
       "      <td>644.604941</td>\n",
       "      <td>0.117771</td>\n",
       "    </tr>\n",
       "    <tr>\n",
       "      <th>...</th>\n",
       "      <td>...</td>\n",
       "      <td>...</td>\n",
       "      <td>...</td>\n",
       "      <td>...</td>\n",
       "      <td>...</td>\n",
       "      <td>...</td>\n",
       "      <td>...</td>\n",
       "      <td>...</td>\n",
       "      <td>...</td>\n",
       "      <td>...</td>\n",
       "      <td>...</td>\n",
       "      <td>...</td>\n",
       "      <td>...</td>\n",
       "      <td>...</td>\n",
       "      <td>...</td>\n",
       "      <td>...</td>\n",
       "      <td>...</td>\n",
       "      <td>...</td>\n",
       "      <td>...</td>\n",
       "      <td>...</td>\n",
       "      <td>...</td>\n",
       "    </tr>\n",
       "    <tr>\n",
       "      <th>5057</th>\n",
       "      <td>0.041215</td>\n",
       "      <td>0.286292</td>\n",
       "      <td>0.079802</td>\n",
       "      <td>-0.153371</td>\n",
       "      <td>0.090923</td>\n",
       "      <td>0.244393</td>\n",
       "      <td>0.179788</td>\n",
       "      <td>0.071105</td>\n",
       "      <td>0.173398</td>\n",
       "      <td>-0.049650</td>\n",
       "      <td>...</td>\n",
       "      <td>0.029379</td>\n",
       "      <td>0.505342</td>\n",
       "      <td>23.421368</td>\n",
       "      <td>0.082767</td>\n",
       "      <td>1182.274359</td>\n",
       "      <td>0.028391</td>\n",
       "      <td>0.122907</td>\n",
       "      <td>34.859596</td>\n",
       "      <td>2171.983838</td>\n",
       "      <td>0.133294</td>\n",
       "    </tr>\n",
       "    <tr>\n",
       "      <th>5058</th>\n",
       "      <td>-0.078939</td>\n",
       "      <td>0.329500</td>\n",
       "      <td>0.090674</td>\n",
       "      <td>-0.160737</td>\n",
       "      <td>0.213955</td>\n",
       "      <td>0.161361</td>\n",
       "      <td>0.270035</td>\n",
       "      <td>-0.012299</td>\n",
       "      <td>0.209257</td>\n",
       "      <td>0.051388</td>\n",
       "      <td>...</td>\n",
       "      <td>0.032800</td>\n",
       "      <td>0.320034</td>\n",
       "      <td>22.206169</td>\n",
       "      <td>0.071272</td>\n",
       "      <td>1033.092532</td>\n",
       "      <td>0.032506</td>\n",
       "      <td>0.052306</td>\n",
       "      <td>29.527922</td>\n",
       "      <td>1551.035714</td>\n",
       "      <td>0.141694</td>\n",
       "    </tr>\n",
       "    <tr>\n",
       "      <th>5059</th>\n",
       "      <td>0.015294</td>\n",
       "      <td>0.067070</td>\n",
       "      <td>0.156074</td>\n",
       "      <td>0.181939</td>\n",
       "      <td>0.327714</td>\n",
       "      <td>0.152363</td>\n",
       "      <td>0.015314</td>\n",
       "      <td>0.153501</td>\n",
       "      <td>0.244622</td>\n",
       "      <td>0.143916</td>\n",
       "      <td>...</td>\n",
       "      <td>0.113636</td>\n",
       "      <td>-0.048280</td>\n",
       "      <td>15.306818</td>\n",
       "      <td>0.097663</td>\n",
       "      <td>377.625000</td>\n",
       "      <td>0.122663</td>\n",
       "      <td>-0.445182</td>\n",
       "      <td>19.055556</td>\n",
       "      <td>512.694444</td>\n",
       "      <td>0.242226</td>\n",
       "    </tr>\n",
       "    <tr>\n",
       "      <th>5060</th>\n",
       "      <td>0.220264</td>\n",
       "      <td>0.052139</td>\n",
       "      <td>0.006646</td>\n",
       "      <td>0.188444</td>\n",
       "      <td>0.640382</td>\n",
       "      <td>0.829487</td>\n",
       "      <td>0.152037</td>\n",
       "      <td>0.584978</td>\n",
       "      <td>0.095894</td>\n",
       "      <td>0.307587</td>\n",
       "      <td>...</td>\n",
       "      <td>0.040919</td>\n",
       "      <td>0.953853</td>\n",
       "      <td>4.507772</td>\n",
       "      <td>0.237536</td>\n",
       "      <td>43.961375</td>\n",
       "      <td>0.039951</td>\n",
       "      <td>0.942762</td>\n",
       "      <td>5.076154</td>\n",
       "      <td>55.301761</td>\n",
       "      <td>0.135716</td>\n",
       "    </tr>\n",
       "    <tr>\n",
       "      <th>5061</th>\n",
       "      <td>0.288372</td>\n",
       "      <td>0.160391</td>\n",
       "      <td>-0.019660</td>\n",
       "      <td>0.010557</td>\n",
       "      <td>0.477343</td>\n",
       "      <td>1.020186</td>\n",
       "      <td>0.129698</td>\n",
       "      <td>0.782644</td>\n",
       "      <td>0.077643</td>\n",
       "      <td>0.282655</td>\n",
       "      <td>...</td>\n",
       "      <td>0.030352</td>\n",
       "      <td>0.957295</td>\n",
       "      <td>8.557509</td>\n",
       "      <td>0.170437</td>\n",
       "      <td>179.976557</td>\n",
       "      <td>0.029358</td>\n",
       "      <td>0.945543</td>\n",
       "      <td>9.732235</td>\n",
       "      <td>230.621577</td>\n",
       "      <td>0.108031</td>\n",
       "    </tr>\n",
       "  </tbody>\n",
       "</table>\n",
       "<p>5062 rows × 271 columns</p>\n",
       "</div>"
      ],
      "text/plain": [
       "             0         1         2         3         4         5         6  \\\n",
       "0    -0.000801  0.179746 -0.044113  0.149404 -0.216330  0.657885  0.327573   \n",
       "1     0.188967  0.278953 -0.087048  0.220420  0.291997  0.870558  0.212587   \n",
       "2     0.192903  0.265468 -0.059010  0.404200  0.235915  0.811797  0.375189   \n",
       "3     0.047972  0.220046 -0.002095  0.275697  0.314334  0.694794  0.243044   \n",
       "4     0.158983  0.253079 -0.055906  0.171083  0.332521  0.923105  0.197323   \n",
       "...        ...       ...       ...       ...       ...       ...       ...   \n",
       "5057  0.041215  0.286292  0.079802 -0.153371  0.090923  0.244393  0.179788   \n",
       "5058 -0.078939  0.329500  0.090674 -0.160737  0.213955  0.161361  0.270035   \n",
       "5059  0.015294  0.067070  0.156074  0.181939  0.327714  0.152363  0.015314   \n",
       "5060  0.220264  0.052139  0.006646  0.188444  0.640382  0.829487  0.152037   \n",
       "5061  0.288372  0.160391 -0.019660  0.010557  0.477343  1.020186  0.129698   \n",
       "\n",
       "             7         8         9  ...   Energy2     Corr2  Diss_sim2  \\\n",
       "0     0.233934  0.256287 -0.087819  ...  0.016388  0.397753  22.311317   \n",
       "1     0.557211  0.180714  0.173702  ...  0.018626  0.448976  20.106406   \n",
       "2     0.579805  0.184275  0.164654  ...  0.019092  0.753674  16.514645   \n",
       "3     0.202302  0.312630  0.205469  ...  0.022977  0.673694  12.882275   \n",
       "4     0.542001  0.228141  0.260887  ...  0.018811  0.591063  17.835833   \n",
       "...        ...       ...       ...  ...       ...       ...        ...   \n",
       "5057  0.071105  0.173398 -0.049650  ...  0.029379  0.505342  23.421368   \n",
       "5058 -0.012299  0.209257  0.051388  ...  0.032800  0.320034  22.206169   \n",
       "5059  0.153501  0.244622  0.143916  ...  0.113636 -0.048280  15.306818   \n",
       "5060  0.584978  0.095894  0.307587  ...  0.040919  0.953853   4.507772   \n",
       "5061  0.782644  0.077643  0.282655  ...  0.030352  0.957295   8.557509   \n",
       "\n",
       "      Homogen2    Contrast2   Energy3     Corr3  Diss_sim3    Contrast3  \\\n",
       "0     0.046469   819.716742  0.016134  0.251035  24.997656  1016.545448   \n",
       "1     0.053793   669.683784  0.018374  0.349351  21.731127   783.602004   \n",
       "2     0.064906   476.698907  0.018660  0.693034  18.265635   592.771271   \n",
       "3     0.078550   274.389051  0.022503  0.597872  14.056609   329.252438   \n",
       "4     0.060105   539.322292  0.018301  0.511138  19.713682   644.604941   \n",
       "...        ...          ...       ...       ...        ...          ...   \n",
       "5057  0.082767  1182.274359  0.028391  0.122907  34.859596  2171.983838   \n",
       "5058  0.071272  1033.092532  0.032506  0.052306  29.527922  1551.035714   \n",
       "5059  0.097663   377.625000  0.122663 -0.445182  19.055556   512.694444   \n",
       "5060  0.237536    43.961375  0.039951  0.942762   5.076154    55.301761   \n",
       "5061  0.170437   179.976557  0.029358  0.945543   9.732235   230.621577   \n",
       "\n",
       "       Energy4  \n",
       "0     0.115271  \n",
       "1     0.121006  \n",
       "2     0.110366  \n",
       "3     0.127987  \n",
       "4     0.117771  \n",
       "...        ...  \n",
       "5057  0.133294  \n",
       "5058  0.141694  \n",
       "5059  0.242226  \n",
       "5060  0.135716  \n",
       "5061  0.108031  \n",
       "\n",
       "[5062 rows x 271 columns]"
      ]
     },
     "execution_count": 3,
     "metadata": {},
     "output_type": "execute_result"
    }
   ],
   "source": [
    "df_combined"
   ]
  },
  {
   "cell_type": "code",
   "execution_count": 4,
   "id": "3dc05277-32cf-4b12-bac3-11b841c03f7b",
   "metadata": {},
   "outputs": [
    {
     "data": {
      "text/plain": [
       "5062"
      ]
     },
     "execution_count": 4,
     "metadata": {},
     "output_type": "execute_result"
    }
   ],
   "source": [
    "len(targets)"
   ]
  },
  {
   "cell_type": "code",
   "execution_count": 5,
   "id": "094b04a9-2be5-4efe-b1b9-3fc4f9f4385d",
   "metadata": {},
   "outputs": [
    {
     "data": {
      "text/plain": [
       "[0,\n",
       " 0,\n",
       " 0,\n",
       " 0,\n",
       " 0,\n",
       " 0,\n",
       " 0,\n",
       " 0,\n",
       " 0,\n",
       " 0,\n",
       " 0,\n",
       " 0,\n",
       " 0,\n",
       " 0,\n",
       " 2,\n",
       " 0,\n",
       " 0,\n",
       " 'unknown',\n",
       " 0,\n",
       " 0,\n",
       " 0,\n",
       " 'unknown',\n",
       " 0,\n",
       " 0,\n",
       " 0,\n",
       " 0,\n",
       " 0,\n",
       " 0,\n",
       " 0,\n",
       " 'unknown',\n",
       " 0,\n",
       " 0,\n",
       " 0,\n",
       " 0,\n",
       " 0,\n",
       " 0,\n",
       " 0,\n",
       " 'unknown',\n",
       " 0,\n",
       " 'unknown',\n",
       " 0,\n",
       " 'unknown',\n",
       " 0,\n",
       " 0,\n",
       " 0,\n",
       " 0,\n",
       " 0,\n",
       " 0,\n",
       " 0,\n",
       " 'unknown',\n",
       " 0,\n",
       " 0,\n",
       " 0,\n",
       " 0,\n",
       " 0,\n",
       " 0,\n",
       " 0,\n",
       " 0,\n",
       " 0,\n",
       " 0,\n",
       " 0,\n",
       " 0,\n",
       " 0,\n",
       " 0,\n",
       " 0,\n",
       " 0,\n",
       " 0,\n",
       " 0,\n",
       " 0,\n",
       " 0,\n",
       " 'unknown',\n",
       " 'unknown',\n",
       " 'unknown',\n",
       " 0,\n",
       " 'unknown',\n",
       " 0,\n",
       " 0,\n",
       " 0,\n",
       " 0,\n",
       " 0,\n",
       " 0,\n",
       " 0,\n",
       " 0,\n",
       " 'unknown',\n",
       " 0,\n",
       " 0,\n",
       " 0,\n",
       " 0,\n",
       " 'unknown',\n",
       " 'unknown',\n",
       " 0,\n",
       " 0,\n",
       " 0,\n",
       " 0,\n",
       " 0,\n",
       " 0,\n",
       " 'unknown',\n",
       " 0,\n",
       " 0,\n",
       " 0,\n",
       " 0,\n",
       " 0,\n",
       " 0,\n",
       " 0,\n",
       " 0,\n",
       " 0,\n",
       " 0,\n",
       " 0,\n",
       " 'unknown',\n",
       " 0,\n",
       " 'unknown',\n",
       " 0,\n",
       " 0,\n",
       " 0,\n",
       " 0,\n",
       " 0,\n",
       " 'unknown',\n",
       " 0,\n",
       " 'unknown',\n",
       " 0,\n",
       " 0,\n",
       " 0,\n",
       " 0,\n",
       " 0,\n",
       " 0,\n",
       " 0,\n",
       " 0,\n",
       " 0,\n",
       " 'unknown',\n",
       " 'unknown',\n",
       " 0,\n",
       " 0,\n",
       " 0,\n",
       " 0,\n",
       " 0,\n",
       " 0,\n",
       " 0,\n",
       " 0,\n",
       " 0,\n",
       " 0,\n",
       " 0,\n",
       " 0,\n",
       " 'unknown',\n",
       " 'unknown',\n",
       " 0,\n",
       " 0,\n",
       " 0,\n",
       " 0,\n",
       " 0,\n",
       " 0,\n",
       " 'unknown',\n",
       " 0,\n",
       " 'unknown',\n",
       " 'unknown',\n",
       " 0,\n",
       " 'unknown',\n",
       " 0,\n",
       " 0,\n",
       " 0,\n",
       " 'unknown',\n",
       " 0,\n",
       " 0,\n",
       " 0,\n",
       " 0,\n",
       " 0,\n",
       " 0,\n",
       " 0,\n",
       " 0,\n",
       " 0,\n",
       " 0,\n",
       " 0,\n",
       " 0,\n",
       " 'unknown',\n",
       " 0,\n",
       " 'unknown',\n",
       " 0,\n",
       " 'unknown',\n",
       " 0,\n",
       " 0,\n",
       " 0,\n",
       " 0,\n",
       " 'unknown',\n",
       " 0,\n",
       " 0,\n",
       " 0,\n",
       " 0,\n",
       " 0,\n",
       " 0,\n",
       " 0,\n",
       " 0,\n",
       " 0,\n",
       " 'unknown',\n",
       " 'unknown',\n",
       " 0,\n",
       " 0,\n",
       " 0,\n",
       " 'unknown',\n",
       " 0,\n",
       " 0,\n",
       " 0,\n",
       " 0,\n",
       " 0,\n",
       " 0,\n",
       " 0,\n",
       " 0,\n",
       " 'unknown',\n",
       " 0,\n",
       " 0,\n",
       " 0,\n",
       " 0,\n",
       " 'unknown',\n",
       " 'unknown',\n",
       " 0,\n",
       " 0,\n",
       " 0,\n",
       " 0,\n",
       " 0,\n",
       " 0,\n",
       " 'unknown',\n",
       " 0,\n",
       " 0,\n",
       " 0,\n",
       " 0,\n",
       " 0,\n",
       " 0,\n",
       " 0,\n",
       " 0,\n",
       " 0,\n",
       " 0,\n",
       " 0,\n",
       " 0,\n",
       " 'unknown',\n",
       " 'unknown',\n",
       " 0,\n",
       " 0,\n",
       " 'unknown',\n",
       " 'unknown',\n",
       " 0,\n",
       " 0,\n",
       " 0,\n",
       " 'unknown',\n",
       " 0,\n",
       " 0,\n",
       " 0,\n",
       " 0,\n",
       " 0,\n",
       " 0,\n",
       " 0,\n",
       " 0,\n",
       " 0,\n",
       " 'unknown',\n",
       " 0,\n",
       " 0,\n",
       " 0,\n",
       " 0,\n",
       " 0,\n",
       " 0,\n",
       " 0,\n",
       " 0,\n",
       " 0,\n",
       " 0,\n",
       " 0,\n",
       " 0,\n",
       " 0,\n",
       " 0,\n",
       " 'unknown',\n",
       " 0,\n",
       " 0,\n",
       " 0,\n",
       " 0,\n",
       " 0,\n",
       " 0,\n",
       " 0,\n",
       " 0,\n",
       " 0,\n",
       " 'unknown',\n",
       " 0,\n",
       " 'unknown',\n",
       " 0,\n",
       " 0,\n",
       " 0,\n",
       " 0,\n",
       " 0,\n",
       " 0,\n",
       " 0,\n",
       " 0,\n",
       " 0,\n",
       " 0,\n",
       " 0,\n",
       " 'unknown',\n",
       " 0,\n",
       " 0,\n",
       " 2,\n",
       " 0,\n",
       " 0,\n",
       " 'unknown',\n",
       " 'unknown',\n",
       " 0,\n",
       " 0,\n",
       " 0,\n",
       " 0,\n",
       " 0,\n",
       " 0,\n",
       " 'unknown',\n",
       " 0,\n",
       " 0,\n",
       " 'unknown',\n",
       " 0,\n",
       " 'unknown',\n",
       " 0,\n",
       " 'unknown',\n",
       " 0,\n",
       " 0,\n",
       " 0,\n",
       " 'unknown',\n",
       " 'unknown',\n",
       " 0,\n",
       " 0,\n",
       " 0,\n",
       " 0,\n",
       " 0,\n",
       " 0,\n",
       " 'unknown',\n",
       " 0,\n",
       " 'unknown',\n",
       " 0,\n",
       " 0,\n",
       " 0,\n",
       " 0,\n",
       " 0,\n",
       " 0,\n",
       " 0,\n",
       " 0,\n",
       " 0,\n",
       " 0,\n",
       " 0,\n",
       " 0,\n",
       " 0,\n",
       " 0,\n",
       " 0,\n",
       " 0,\n",
       " 0,\n",
       " 0,\n",
       " 'unknown',\n",
       " 0,\n",
       " 0,\n",
       " 0,\n",
       " 'unknown',\n",
       " 0,\n",
       " 0,\n",
       " 0,\n",
       " 0,\n",
       " 0,\n",
       " 0,\n",
       " 0,\n",
       " 0,\n",
       " 'unknown',\n",
       " 0,\n",
       " 0,\n",
       " 0,\n",
       " 0,\n",
       " 0,\n",
       " 0,\n",
       " 0,\n",
       " 0,\n",
       " 0,\n",
       " 0,\n",
       " 0,\n",
       " 0,\n",
       " 0,\n",
       " 0,\n",
       " 0,\n",
       " 0,\n",
       " 0,\n",
       " 0,\n",
       " 0,\n",
       " 0,\n",
       " 0,\n",
       " 0,\n",
       " 0,\n",
       " 0,\n",
       " 0,\n",
       " 0,\n",
       " 0,\n",
       " 0,\n",
       " 0,\n",
       " 0,\n",
       " 0,\n",
       " 0,\n",
       " 0,\n",
       " 0,\n",
       " 0,\n",
       " 0,\n",
       " 0,\n",
       " 0,\n",
       " 0,\n",
       " 0,\n",
       " 0,\n",
       " 0,\n",
       " 0,\n",
       " 0,\n",
       " 0,\n",
       " 0,\n",
       " 0,\n",
       " 0,\n",
       " 0,\n",
       " 0,\n",
       " 0,\n",
       " 0,\n",
       " 0,\n",
       " 0,\n",
       " 0,\n",
       " 0,\n",
       " 0,\n",
       " 0,\n",
       " 0,\n",
       " 0,\n",
       " 0,\n",
       " 0,\n",
       " 0,\n",
       " 0,\n",
       " 0,\n",
       " 0,\n",
       " 0,\n",
       " 0,\n",
       " 0,\n",
       " 0,\n",
       " 0,\n",
       " 0,\n",
       " 0,\n",
       " 'unknown',\n",
       " 0,\n",
       " 0,\n",
       " 'unknown',\n",
       " 'unknown',\n",
       " 0,\n",
       " 0,\n",
       " 0,\n",
       " 0,\n",
       " 0,\n",
       " 0,\n",
       " 0,\n",
       " 0,\n",
       " 0,\n",
       " 0,\n",
       " 0,\n",
       " 0,\n",
       " 0,\n",
       " 0,\n",
       " 0,\n",
       " 0,\n",
       " 0,\n",
       " 0,\n",
       " 0,\n",
       " 0,\n",
       " 0,\n",
       " 0,\n",
       " 0,\n",
       " 'unknown',\n",
       " 0,\n",
       " 0,\n",
       " 'unknown',\n",
       " 0,\n",
       " 0,\n",
       " 0,\n",
       " 0,\n",
       " 0,\n",
       " 0,\n",
       " 0,\n",
       " 0,\n",
       " 0,\n",
       " 0,\n",
       " 0,\n",
       " 0,\n",
       " 0,\n",
       " 0,\n",
       " 0,\n",
       " 0,\n",
       " 0,\n",
       " 0,\n",
       " 'unknown',\n",
       " 0,\n",
       " 0,\n",
       " 'unknown',\n",
       " 0,\n",
       " 0,\n",
       " 0,\n",
       " 'unknown',\n",
       " 0,\n",
       " 0,\n",
       " 0,\n",
       " 0,\n",
       " 0,\n",
       " 0,\n",
       " 0,\n",
       " 0,\n",
       " 0,\n",
       " 0,\n",
       " 0,\n",
       " 0,\n",
       " 0,\n",
       " 0,\n",
       " 0,\n",
       " 0,\n",
       " 0,\n",
       " 0,\n",
       " 0,\n",
       " 0,\n",
       " 0,\n",
       " 'unknown',\n",
       " 0,\n",
       " 0,\n",
       " 0,\n",
       " 0,\n",
       " 0,\n",
       " 0,\n",
       " 0,\n",
       " 0,\n",
       " 0,\n",
       " 0,\n",
       " 'unknown',\n",
       " 0,\n",
       " 0,\n",
       " 0,\n",
       " 0,\n",
       " 0,\n",
       " 0,\n",
       " 0,\n",
       " 0,\n",
       " 'unknown',\n",
       " 0,\n",
       " 0,\n",
       " 'unknown',\n",
       " 0,\n",
       " 0,\n",
       " 0,\n",
       " 0,\n",
       " 0,\n",
       " 0,\n",
       " 0,\n",
       " 'unknown',\n",
       " 0,\n",
       " 0,\n",
       " 0,\n",
       " 0,\n",
       " 0,\n",
       " 0,\n",
       " 'unknown',\n",
       " 0,\n",
       " 0,\n",
       " 'unknown',\n",
       " 0,\n",
       " 0,\n",
       " 0,\n",
       " 'unknown',\n",
       " 0,\n",
       " 0,\n",
       " 0,\n",
       " 0,\n",
       " 0,\n",
       " 0,\n",
       " 0,\n",
       " 0,\n",
       " 0,\n",
       " 0,\n",
       " 0,\n",
       " 0,\n",
       " 0,\n",
       " 0,\n",
       " 0,\n",
       " 0,\n",
       " 0,\n",
       " 0,\n",
       " 0,\n",
       " 0,\n",
       " 0,\n",
       " 0,\n",
       " 0,\n",
       " 0,\n",
       " 0,\n",
       " 0,\n",
       " 0,\n",
       " 0,\n",
       " 0,\n",
       " 0,\n",
       " 0,\n",
       " 0,\n",
       " 0,\n",
       " 0,\n",
       " 0,\n",
       " 0,\n",
       " 'unknown',\n",
       " 0,\n",
       " 0,\n",
       " 0,\n",
       " 0,\n",
       " 0,\n",
       " 0,\n",
       " 0,\n",
       " 0,\n",
       " 0,\n",
       " 0,\n",
       " 0,\n",
       " 'unknown',\n",
       " 0,\n",
       " 0,\n",
       " 0,\n",
       " 0,\n",
       " 0,\n",
       " 0,\n",
       " 'unknown',\n",
       " 'unknown',\n",
       " 'unknown',\n",
       " 'unknown',\n",
       " 0,\n",
       " 0,\n",
       " 0,\n",
       " 0,\n",
       " 0,\n",
       " 0,\n",
       " 0,\n",
       " 0,\n",
       " 0,\n",
       " 0,\n",
       " 'unknown',\n",
       " 0,\n",
       " 'unknown',\n",
       " 0,\n",
       " 0,\n",
       " 'unknown',\n",
       " 0,\n",
       " 0,\n",
       " 0,\n",
       " 0,\n",
       " 0,\n",
       " 0,\n",
       " 0,\n",
       " 0,\n",
       " 'unknown',\n",
       " 0,\n",
       " 0,\n",
       " 'unknown',\n",
       " 'unknown',\n",
       " 'unknown',\n",
       " 0,\n",
       " 0,\n",
       " 'unknown',\n",
       " 0,\n",
       " 0,\n",
       " 0,\n",
       " 0,\n",
       " 0,\n",
       " 0,\n",
       " 0,\n",
       " 'unknown',\n",
       " 0,\n",
       " 0,\n",
       " 0,\n",
       " 0,\n",
       " 0,\n",
       " 'unknown',\n",
       " 0,\n",
       " 0,\n",
       " 0,\n",
       " 0,\n",
       " 0,\n",
       " 0,\n",
       " 0,\n",
       " 0,\n",
       " 0,\n",
       " 0,\n",
       " 0,\n",
       " 0,\n",
       " 0,\n",
       " 0,\n",
       " 0,\n",
       " 0,\n",
       " 0,\n",
       " 0,\n",
       " 0,\n",
       " 0,\n",
       " 0,\n",
       " 0,\n",
       " 0,\n",
       " 0,\n",
       " 'unknown',\n",
       " 0,\n",
       " 0,\n",
       " 'unknown',\n",
       " 0,\n",
       " 0,\n",
       " 0,\n",
       " 0,\n",
       " 0,\n",
       " 0,\n",
       " 0,\n",
       " 0,\n",
       " 0,\n",
       " 0,\n",
       " 0,\n",
       " 0,\n",
       " 0,\n",
       " 0,\n",
       " 0,\n",
       " 0,\n",
       " 0,\n",
       " 0,\n",
       " 0,\n",
       " 'unknown',\n",
       " 0,\n",
       " 'unknown',\n",
       " 0,\n",
       " 0,\n",
       " 0,\n",
       " 0,\n",
       " 0,\n",
       " 0,\n",
       " 0,\n",
       " 0,\n",
       " 0,\n",
       " 0,\n",
       " 0,\n",
       " 'unknown',\n",
       " 0,\n",
       " 0,\n",
       " 0,\n",
       " 0,\n",
       " 0,\n",
       " 0,\n",
       " 'unknown',\n",
       " 0,\n",
       " 0,\n",
       " 0,\n",
       " 'unknown',\n",
       " 0,\n",
       " 0,\n",
       " 0,\n",
       " 0,\n",
       " 0,\n",
       " 0,\n",
       " 0,\n",
       " 0,\n",
       " 0,\n",
       " 'unknown',\n",
       " 0,\n",
       " 0,\n",
       " 0,\n",
       " 0,\n",
       " 0,\n",
       " 0,\n",
       " 'unknown',\n",
       " 0,\n",
       " 0,\n",
       " 'unknown',\n",
       " 0,\n",
       " 'unknown',\n",
       " 0,\n",
       " 0,\n",
       " 0,\n",
       " 0,\n",
       " 0,\n",
       " 'unknown',\n",
       " 0,\n",
       " 0,\n",
       " 0,\n",
       " 0,\n",
       " 'unknown',\n",
       " 0,\n",
       " 0,\n",
       " 0,\n",
       " 0,\n",
       " 0,\n",
       " 0,\n",
       " 0,\n",
       " 0,\n",
       " 0,\n",
       " 'unknown',\n",
       " 0,\n",
       " 0,\n",
       " 0,\n",
       " 'unknown',\n",
       " 'unknown',\n",
       " 0,\n",
       " 'unknown',\n",
       " 0,\n",
       " 0,\n",
       " 0,\n",
       " 0,\n",
       " 0,\n",
       " 0,\n",
       " 0,\n",
       " 0,\n",
       " 0,\n",
       " 0,\n",
       " 0,\n",
       " 0,\n",
       " 0,\n",
       " 0,\n",
       " 0,\n",
       " 0,\n",
       " 0,\n",
       " 0,\n",
       " 0,\n",
       " 0,\n",
       " 0,\n",
       " 0,\n",
       " 0,\n",
       " 0,\n",
       " 0,\n",
       " 1,\n",
       " 1,\n",
       " 1,\n",
       " 1,\n",
       " 1,\n",
       " 1,\n",
       " 1,\n",
       " 1,\n",
       " 'unknown',\n",
       " 1,\n",
       " 1,\n",
       " 1,\n",
       " 'unknown',\n",
       " 1,\n",
       " 1,\n",
       " 1,\n",
       " 1,\n",
       " 1,\n",
       " 1,\n",
       " 1,\n",
       " 1,\n",
       " 1,\n",
       " 1,\n",
       " 'unknown',\n",
       " 'unknown',\n",
       " 1,\n",
       " 1,\n",
       " 'unknown',\n",
       " 1,\n",
       " 1,\n",
       " 1,\n",
       " 1,\n",
       " 'unknown',\n",
       " 'unknown',\n",
       " 'unknown',\n",
       " 1,\n",
       " 1,\n",
       " 1,\n",
       " 1,\n",
       " 1,\n",
       " 1,\n",
       " 1,\n",
       " 1,\n",
       " 1,\n",
       " 'unknown',\n",
       " 1,\n",
       " 1,\n",
       " 1,\n",
       " 'unknown',\n",
       " 'unknown',\n",
       " 'unknown',\n",
       " 1,\n",
       " 1,\n",
       " 1,\n",
       " 1,\n",
       " 1,\n",
       " 1,\n",
       " 1,\n",
       " 1,\n",
       " 1,\n",
       " 1,\n",
       " 1,\n",
       " 1,\n",
       " 1,\n",
       " 1,\n",
       " 1,\n",
       " 1,\n",
       " 1,\n",
       " 1,\n",
       " 1,\n",
       " 1,\n",
       " 1,\n",
       " 'unknown',\n",
       " 1,\n",
       " 1,\n",
       " 1,\n",
       " 1,\n",
       " 1,\n",
       " 1,\n",
       " 1,\n",
       " 'unknown',\n",
       " 1,\n",
       " 1,\n",
       " 1,\n",
       " 'unknown',\n",
       " 1,\n",
       " 1,\n",
       " 1,\n",
       " 1,\n",
       " 1,\n",
       " 1,\n",
       " 1,\n",
       " 'unknown',\n",
       " 1,\n",
       " 'unknown',\n",
       " 'unknown',\n",
       " 'unknown',\n",
       " 1,\n",
       " 1,\n",
       " 1,\n",
       " 1,\n",
       " 1,\n",
       " 1,\n",
       " 'unknown',\n",
       " 'unknown',\n",
       " 1,\n",
       " 1,\n",
       " 'unknown',\n",
       " 1,\n",
       " 1,\n",
       " 1,\n",
       " 1,\n",
       " 1,\n",
       " 1,\n",
       " 1,\n",
       " 'unknown',\n",
       " 'unknown',\n",
       " 'unknown',\n",
       " 1,\n",
       " 1,\n",
       " 1,\n",
       " 1,\n",
       " 'unknown',\n",
       " 'unknown',\n",
       " 1,\n",
       " 1,\n",
       " 1,\n",
       " 1,\n",
       " 1,\n",
       " 1,\n",
       " 1,\n",
       " 1,\n",
       " 1,\n",
       " 1,\n",
       " 1,\n",
       " 1,\n",
       " 1,\n",
       " 1,\n",
       " 'unknown',\n",
       " 1,\n",
       " 1,\n",
       " 'unknown',\n",
       " 1,\n",
       " 1,\n",
       " 1,\n",
       " 1,\n",
       " 1,\n",
       " 1,\n",
       " 1,\n",
       " 1,\n",
       " 1,\n",
       " 1,\n",
       " 1,\n",
       " 1,\n",
       " 1,\n",
       " 1,\n",
       " 1,\n",
       " 1,\n",
       " 'unknown',\n",
       " 1,\n",
       " 'unknown',\n",
       " 1,\n",
       " 1,\n",
       " 1,\n",
       " 1,\n",
       " 1,\n",
       " 1,\n",
       " 1,\n",
       " 1,\n",
       " 1,\n",
       " 1,\n",
       " 1,\n",
       " 1,\n",
       " 1,\n",
       " 1,\n",
       " 'unknown',\n",
       " 1,\n",
       " 1,\n",
       " 1,\n",
       " 1,\n",
       " 1,\n",
       " 1,\n",
       " 1,\n",
       " 1,\n",
       " 1,\n",
       " 1,\n",
       " 1,\n",
       " 1,\n",
       " 1,\n",
       " 1,\n",
       " 1,\n",
       " ...]"
      ]
     },
     "execution_count": 5,
     "metadata": {},
     "output_type": "execute_result"
    }
   ],
   "source": [
    "targets"
   ]
  },
  {
   "cell_type": "code",
   "execution_count": 6,
   "id": "ba497a23-a018-4f69-9bc4-3a3882a63f45",
   "metadata": {},
   "outputs": [],
   "source": [
    "scaler = joblib.load(\"scaler.pkl\")\n",
    "pca = joblib.load(\"pca.pkl\")\n",
    "svm_model = joblib.load(\"svm_model.pkl\")\n",
    "le = joblib.load(\"label_encoder.pkl\")\n"
   ]
  },
  {
   "cell_type": "code",
   "execution_count": 7,
   "id": "aa090ec6-5355-4269-9b92-204c7a3b095a",
   "metadata": {},
   "outputs": [
    {
     "name": "stdout",
     "output_type": "stream",
     "text": [
      "✅ Predictions added to dataframe!\n",
      "   svm_pred\n",
      "0         5\n",
      "1         5\n",
      "2         5\n",
      "3         5\n",
      "4         5\n"
     ]
    }
   ],
   "source": [
    "X_new = df_combined.drop(columns=[\"target\"], errors='ignore')\n",
    "\n",
    "# Scale and reduce dimensionality\n",
    "X_scaled = scaler.transform(X_new)\n",
    "X_pca = pca.transform(X_scaled)\n",
    "#print(X_pca.head())\n",
    "# Predict using the trained SVM model\n",
    "predicted_classes = svm_model.predict(X_pca)\n",
    "\n",
    "# Add to the dataframe\n",
    "df_combined[\"svm_pred\"] = predicted_classes\n",
    "df_combined[\"svm_pred_label\"] = le.inverse_transform(df_combined[\"svm_pred\"])\n",
    "\n",
    "print(\"✅ Predictions added to dataframe!\")\n",
    "print(df_combined[[\"svm_pred\"]].head())\n",
    "\n"
   ]
  },
  {
   "cell_type": "code",
   "execution_count": 8,
   "id": "56a80a46-f7d2-45ce-8988-d331ce2f5773",
   "metadata": {},
   "outputs": [
    {
     "data": {
      "text/html": [
       "<div>\n",
       "<style scoped>\n",
       "    .dataframe tbody tr th:only-of-type {\n",
       "        vertical-align: middle;\n",
       "    }\n",
       "\n",
       "    .dataframe tbody tr th {\n",
       "        vertical-align: top;\n",
       "    }\n",
       "\n",
       "    .dataframe thead th {\n",
       "        text-align: right;\n",
       "    }\n",
       "</style>\n",
       "<table border=\"1\" class=\"dataframe\">\n",
       "  <thead>\n",
       "    <tr style=\"text-align: right;\">\n",
       "      <th></th>\n",
       "      <th>0</th>\n",
       "      <th>1</th>\n",
       "      <th>2</th>\n",
       "      <th>3</th>\n",
       "      <th>4</th>\n",
       "      <th>5</th>\n",
       "      <th>6</th>\n",
       "      <th>7</th>\n",
       "      <th>8</th>\n",
       "      <th>9</th>\n",
       "      <th>...</th>\n",
       "      <th>Diss_sim2</th>\n",
       "      <th>Homogen2</th>\n",
       "      <th>Contrast2</th>\n",
       "      <th>Energy3</th>\n",
       "      <th>Corr3</th>\n",
       "      <th>Diss_sim3</th>\n",
       "      <th>Contrast3</th>\n",
       "      <th>Energy4</th>\n",
       "      <th>svm_pred</th>\n",
       "      <th>svm_pred_label</th>\n",
       "    </tr>\n",
       "  </thead>\n",
       "  <tbody>\n",
       "    <tr>\n",
       "      <th>0</th>\n",
       "      <td>-0.000801</td>\n",
       "      <td>0.179746</td>\n",
       "      <td>-0.044113</td>\n",
       "      <td>0.149404</td>\n",
       "      <td>-0.216330</td>\n",
       "      <td>0.657885</td>\n",
       "      <td>0.327573</td>\n",
       "      <td>0.233934</td>\n",
       "      <td>0.256287</td>\n",
       "      <td>-0.087819</td>\n",
       "      <td>...</td>\n",
       "      <td>22.311317</td>\n",
       "      <td>0.046469</td>\n",
       "      <td>819.716742</td>\n",
       "      <td>0.016134</td>\n",
       "      <td>0.251035</td>\n",
       "      <td>24.997656</td>\n",
       "      <td>1016.545448</td>\n",
       "      <td>0.115271</td>\n",
       "      <td>5</td>\n",
       "      <td>scratches</td>\n",
       "    </tr>\n",
       "    <tr>\n",
       "      <th>1</th>\n",
       "      <td>0.188967</td>\n",
       "      <td>0.278953</td>\n",
       "      <td>-0.087048</td>\n",
       "      <td>0.220420</td>\n",
       "      <td>0.291997</td>\n",
       "      <td>0.870558</td>\n",
       "      <td>0.212587</td>\n",
       "      <td>0.557211</td>\n",
       "      <td>0.180714</td>\n",
       "      <td>0.173702</td>\n",
       "      <td>...</td>\n",
       "      <td>20.106406</td>\n",
       "      <td>0.053793</td>\n",
       "      <td>669.683784</td>\n",
       "      <td>0.018374</td>\n",
       "      <td>0.349351</td>\n",
       "      <td>21.731127</td>\n",
       "      <td>783.602004</td>\n",
       "      <td>0.121006</td>\n",
       "      <td>5</td>\n",
       "      <td>scratches</td>\n",
       "    </tr>\n",
       "    <tr>\n",
       "      <th>2</th>\n",
       "      <td>0.192903</td>\n",
       "      <td>0.265468</td>\n",
       "      <td>-0.059010</td>\n",
       "      <td>0.404200</td>\n",
       "      <td>0.235915</td>\n",
       "      <td>0.811797</td>\n",
       "      <td>0.375189</td>\n",
       "      <td>0.579805</td>\n",
       "      <td>0.184275</td>\n",
       "      <td>0.164654</td>\n",
       "      <td>...</td>\n",
       "      <td>16.514645</td>\n",
       "      <td>0.064906</td>\n",
       "      <td>476.698907</td>\n",
       "      <td>0.018660</td>\n",
       "      <td>0.693034</td>\n",
       "      <td>18.265635</td>\n",
       "      <td>592.771271</td>\n",
       "      <td>0.110366</td>\n",
       "      <td>5</td>\n",
       "      <td>scratches</td>\n",
       "    </tr>\n",
       "    <tr>\n",
       "      <th>3</th>\n",
       "      <td>0.047972</td>\n",
       "      <td>0.220046</td>\n",
       "      <td>-0.002095</td>\n",
       "      <td>0.275697</td>\n",
       "      <td>0.314334</td>\n",
       "      <td>0.694794</td>\n",
       "      <td>0.243044</td>\n",
       "      <td>0.202302</td>\n",
       "      <td>0.312630</td>\n",
       "      <td>0.205469</td>\n",
       "      <td>...</td>\n",
       "      <td>12.882275</td>\n",
       "      <td>0.078550</td>\n",
       "      <td>274.389051</td>\n",
       "      <td>0.022503</td>\n",
       "      <td>0.597872</td>\n",
       "      <td>14.056609</td>\n",
       "      <td>329.252438</td>\n",
       "      <td>0.127987</td>\n",
       "      <td>5</td>\n",
       "      <td>scratches</td>\n",
       "    </tr>\n",
       "    <tr>\n",
       "      <th>4</th>\n",
       "      <td>0.158983</td>\n",
       "      <td>0.253079</td>\n",
       "      <td>-0.055906</td>\n",
       "      <td>0.171083</td>\n",
       "      <td>0.332521</td>\n",
       "      <td>0.923105</td>\n",
       "      <td>0.197323</td>\n",
       "      <td>0.542001</td>\n",
       "      <td>0.228141</td>\n",
       "      <td>0.260887</td>\n",
       "      <td>...</td>\n",
       "      <td>17.835833</td>\n",
       "      <td>0.060105</td>\n",
       "      <td>539.322292</td>\n",
       "      <td>0.018301</td>\n",
       "      <td>0.511138</td>\n",
       "      <td>19.713682</td>\n",
       "      <td>644.604941</td>\n",
       "      <td>0.117771</td>\n",
       "      <td>5</td>\n",
       "      <td>scratches</td>\n",
       "    </tr>\n",
       "    <tr>\n",
       "      <th>...</th>\n",
       "      <td>...</td>\n",
       "      <td>...</td>\n",
       "      <td>...</td>\n",
       "      <td>...</td>\n",
       "      <td>...</td>\n",
       "      <td>...</td>\n",
       "      <td>...</td>\n",
       "      <td>...</td>\n",
       "      <td>...</td>\n",
       "      <td>...</td>\n",
       "      <td>...</td>\n",
       "      <td>...</td>\n",
       "      <td>...</td>\n",
       "      <td>...</td>\n",
       "      <td>...</td>\n",
       "      <td>...</td>\n",
       "      <td>...</td>\n",
       "      <td>...</td>\n",
       "      <td>...</td>\n",
       "      <td>...</td>\n",
       "      <td>...</td>\n",
       "    </tr>\n",
       "    <tr>\n",
       "      <th>5057</th>\n",
       "      <td>0.041215</td>\n",
       "      <td>0.286292</td>\n",
       "      <td>0.079802</td>\n",
       "      <td>-0.153371</td>\n",
       "      <td>0.090923</td>\n",
       "      <td>0.244393</td>\n",
       "      <td>0.179788</td>\n",
       "      <td>0.071105</td>\n",
       "      <td>0.173398</td>\n",
       "      <td>-0.049650</td>\n",
       "      <td>...</td>\n",
       "      <td>23.421368</td>\n",
       "      <td>0.082767</td>\n",
       "      <td>1182.274359</td>\n",
       "      <td>0.028391</td>\n",
       "      <td>0.122907</td>\n",
       "      <td>34.859596</td>\n",
       "      <td>2171.983838</td>\n",
       "      <td>0.133294</td>\n",
       "      <td>5</td>\n",
       "      <td>scratches</td>\n",
       "    </tr>\n",
       "    <tr>\n",
       "      <th>5058</th>\n",
       "      <td>-0.078939</td>\n",
       "      <td>0.329500</td>\n",
       "      <td>0.090674</td>\n",
       "      <td>-0.160737</td>\n",
       "      <td>0.213955</td>\n",
       "      <td>0.161361</td>\n",
       "      <td>0.270035</td>\n",
       "      <td>-0.012299</td>\n",
       "      <td>0.209257</td>\n",
       "      <td>0.051388</td>\n",
       "      <td>...</td>\n",
       "      <td>22.206169</td>\n",
       "      <td>0.071272</td>\n",
       "      <td>1033.092532</td>\n",
       "      <td>0.032506</td>\n",
       "      <td>0.052306</td>\n",
       "      <td>29.527922</td>\n",
       "      <td>1551.035714</td>\n",
       "      <td>0.141694</td>\n",
       "      <td>5</td>\n",
       "      <td>scratches</td>\n",
       "    </tr>\n",
       "    <tr>\n",
       "      <th>5059</th>\n",
       "      <td>0.015294</td>\n",
       "      <td>0.067070</td>\n",
       "      <td>0.156074</td>\n",
       "      <td>0.181939</td>\n",
       "      <td>0.327714</td>\n",
       "      <td>0.152363</td>\n",
       "      <td>0.015314</td>\n",
       "      <td>0.153501</td>\n",
       "      <td>0.244622</td>\n",
       "      <td>0.143916</td>\n",
       "      <td>...</td>\n",
       "      <td>15.306818</td>\n",
       "      <td>0.097663</td>\n",
       "      <td>377.625000</td>\n",
       "      <td>0.122663</td>\n",
       "      <td>-0.445182</td>\n",
       "      <td>19.055556</td>\n",
       "      <td>512.694444</td>\n",
       "      <td>0.242226</td>\n",
       "      <td>5</td>\n",
       "      <td>scratches</td>\n",
       "    </tr>\n",
       "    <tr>\n",
       "      <th>5060</th>\n",
       "      <td>0.220264</td>\n",
       "      <td>0.052139</td>\n",
       "      <td>0.006646</td>\n",
       "      <td>0.188444</td>\n",
       "      <td>0.640382</td>\n",
       "      <td>0.829487</td>\n",
       "      <td>0.152037</td>\n",
       "      <td>0.584978</td>\n",
       "      <td>0.095894</td>\n",
       "      <td>0.307587</td>\n",
       "      <td>...</td>\n",
       "      <td>4.507772</td>\n",
       "      <td>0.237536</td>\n",
       "      <td>43.961375</td>\n",
       "      <td>0.039951</td>\n",
       "      <td>0.942762</td>\n",
       "      <td>5.076154</td>\n",
       "      <td>55.301761</td>\n",
       "      <td>0.135716</td>\n",
       "      <td>5</td>\n",
       "      <td>scratches</td>\n",
       "    </tr>\n",
       "    <tr>\n",
       "      <th>5061</th>\n",
       "      <td>0.288372</td>\n",
       "      <td>0.160391</td>\n",
       "      <td>-0.019660</td>\n",
       "      <td>0.010557</td>\n",
       "      <td>0.477343</td>\n",
       "      <td>1.020186</td>\n",
       "      <td>0.129698</td>\n",
       "      <td>0.782644</td>\n",
       "      <td>0.077643</td>\n",
       "      <td>0.282655</td>\n",
       "      <td>...</td>\n",
       "      <td>8.557509</td>\n",
       "      <td>0.170437</td>\n",
       "      <td>179.976557</td>\n",
       "      <td>0.029358</td>\n",
       "      <td>0.945543</td>\n",
       "      <td>9.732235</td>\n",
       "      <td>230.621577</td>\n",
       "      <td>0.108031</td>\n",
       "      <td>5</td>\n",
       "      <td>scratches</td>\n",
       "    </tr>\n",
       "  </tbody>\n",
       "</table>\n",
       "<p>5062 rows × 273 columns</p>\n",
       "</div>"
      ],
      "text/plain": [
       "             0         1         2         3         4         5         6  \\\n",
       "0    -0.000801  0.179746 -0.044113  0.149404 -0.216330  0.657885  0.327573   \n",
       "1     0.188967  0.278953 -0.087048  0.220420  0.291997  0.870558  0.212587   \n",
       "2     0.192903  0.265468 -0.059010  0.404200  0.235915  0.811797  0.375189   \n",
       "3     0.047972  0.220046 -0.002095  0.275697  0.314334  0.694794  0.243044   \n",
       "4     0.158983  0.253079 -0.055906  0.171083  0.332521  0.923105  0.197323   \n",
       "...        ...       ...       ...       ...       ...       ...       ...   \n",
       "5057  0.041215  0.286292  0.079802 -0.153371  0.090923  0.244393  0.179788   \n",
       "5058 -0.078939  0.329500  0.090674 -0.160737  0.213955  0.161361  0.270035   \n",
       "5059  0.015294  0.067070  0.156074  0.181939  0.327714  0.152363  0.015314   \n",
       "5060  0.220264  0.052139  0.006646  0.188444  0.640382  0.829487  0.152037   \n",
       "5061  0.288372  0.160391 -0.019660  0.010557  0.477343  1.020186  0.129698   \n",
       "\n",
       "             7         8         9  ...  Diss_sim2  Homogen2    Contrast2  \\\n",
       "0     0.233934  0.256287 -0.087819  ...  22.311317  0.046469   819.716742   \n",
       "1     0.557211  0.180714  0.173702  ...  20.106406  0.053793   669.683784   \n",
       "2     0.579805  0.184275  0.164654  ...  16.514645  0.064906   476.698907   \n",
       "3     0.202302  0.312630  0.205469  ...  12.882275  0.078550   274.389051   \n",
       "4     0.542001  0.228141  0.260887  ...  17.835833  0.060105   539.322292   \n",
       "...        ...       ...       ...  ...        ...       ...          ...   \n",
       "5057  0.071105  0.173398 -0.049650  ...  23.421368  0.082767  1182.274359   \n",
       "5058 -0.012299  0.209257  0.051388  ...  22.206169  0.071272  1033.092532   \n",
       "5059  0.153501  0.244622  0.143916  ...  15.306818  0.097663   377.625000   \n",
       "5060  0.584978  0.095894  0.307587  ...   4.507772  0.237536    43.961375   \n",
       "5061  0.782644  0.077643  0.282655  ...   8.557509  0.170437   179.976557   \n",
       "\n",
       "       Energy3     Corr3  Diss_sim3    Contrast3   Energy4  svm_pred  \\\n",
       "0     0.016134  0.251035  24.997656  1016.545448  0.115271         5   \n",
       "1     0.018374  0.349351  21.731127   783.602004  0.121006         5   \n",
       "2     0.018660  0.693034  18.265635   592.771271  0.110366         5   \n",
       "3     0.022503  0.597872  14.056609   329.252438  0.127987         5   \n",
       "4     0.018301  0.511138  19.713682   644.604941  0.117771         5   \n",
       "...        ...       ...        ...          ...       ...       ...   \n",
       "5057  0.028391  0.122907  34.859596  2171.983838  0.133294         5   \n",
       "5058  0.032506  0.052306  29.527922  1551.035714  0.141694         5   \n",
       "5059  0.122663 -0.445182  19.055556   512.694444  0.242226         5   \n",
       "5060  0.039951  0.942762   5.076154    55.301761  0.135716         5   \n",
       "5061  0.029358  0.945543   9.732235   230.621577  0.108031         5   \n",
       "\n",
       "      svm_pred_label  \n",
       "0          scratches  \n",
       "1          scratches  \n",
       "2          scratches  \n",
       "3          scratches  \n",
       "4          scratches  \n",
       "...              ...  \n",
       "5057       scratches  \n",
       "5058       scratches  \n",
       "5059       scratches  \n",
       "5060       scratches  \n",
       "5061       scratches  \n",
       "\n",
       "[5062 rows x 273 columns]"
      ]
     },
     "execution_count": 8,
     "metadata": {},
     "output_type": "execute_result"
    }
   ],
   "source": [
    "df_combined"
   ]
  },
  {
   "cell_type": "code",
   "execution_count": 9,
   "id": "e1eea6f5-6448-4ce5-a5c4-6c002474eaac",
   "metadata": {},
   "outputs": [
    {
     "data": {
      "text/plain": [
       "array(['scratches'], dtype=object)"
      ]
     },
     "execution_count": 9,
     "metadata": {},
     "output_type": "execute_result"
    }
   ],
   "source": [
    "df_combined[\"svm_pred_label\"].unique()\n"
   ]
  },
  {
   "cell_type": "code",
   "execution_count": null,
   "id": "64b26d16-ecd4-4f49-8dc5-202fceeb62b1",
   "metadata": {},
   "outputs": [],
   "source": []
  },
  {
   "cell_type": "code",
   "execution_count": null,
   "id": "b1f3bf54-ba26-46c6-80da-b244bb2d7db1",
   "metadata": {},
   "outputs": [],
   "source": []
  }
 ],
 "metadata": {
  "kernelspec": {
   "display_name": "Python 3 (ipykernel)",
   "language": "python",
   "name": "python3"
  },
  "language_info": {
   "codemirror_mode": {
    "name": "ipython",
    "version": 3
   },
   "file_extension": ".py",
   "mimetype": "text/x-python",
   "name": "python",
   "nbconvert_exporter": "python",
   "pygments_lexer": "ipython3",
   "version": "3.12.3"
  }
 },
 "nbformat": 4,
 "nbformat_minor": 5
}
