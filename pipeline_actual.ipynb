{
 "cells": [
  {
   "cell_type": "code",
   "execution_count": 1,
   "id": "e406aa45-4372-4bab-afd4-09f7c42c6b0b",
   "metadata": {},
   "outputs": [
    {
     "name": "stderr",
     "output_type": "stream",
     "text": [
      "C:\\Users\\saiet\\anaconda3\\Lib\\site-packages\\paramiko\\transport.py:219: CryptographyDeprecationWarning: Blowfish has been deprecated and will be removed in a future release\n",
      "  \"class\": algorithms.Blowfish,\n"
     ]
    }
   ],
   "source": [
    "import numpy as np \n",
    "import matplotlib.pyplot as plt\n",
    "import glob\n",
    "import cv2\n",
    "import os\n",
    "import seaborn as sns\n",
    "import pandas as pd\n",
    "from skimage.filters import sobel\n",
    "from skimage.feature import graycomatrix, graycoprops\n",
    "from skimage.measure import shannon_entropy\n",
    "from tqdm import tqdm\n",
    "from ultralytics import YOLO\n",
    "import torch\n",
    "import joblib"
   ]
  },
  {
   "cell_type": "code",
   "execution_count": 2,
   "id": "098afe8e-23b5-4dea-b5d5-4810b507b1d4",
   "metadata": {},
   "outputs": [
    {
     "name": "stdout",
     "output_type": "stream",
     "text": [
      "##############################################\n",
      "best_neu.pt\n"
     ]
    },
    {
     "name": "stderr",
     "output_type": "stream",
     "text": [
      "Processing:   0%|                                                                              | 0/180 [00:00<?, ?it/s]"
     ]
    },
    {
     "name": "stdout",
     "output_type": "stream",
     "text": [
      "\n",
      "0: 640x640 2 scratchess, 17.7ms\n",
      "Speed: 15.8ms preprocess, 17.7ms inference, 137.9ms postprocess per image at shape (1, 3, 640, 640)\n"
     ]
    },
    {
     "name": "stderr",
     "output_type": "stream",
     "text": [
      "Processing:   1%|▍                                                                     | 1/180 [00:02<08:39,  2.90s/it]"
     ]
    },
    {
     "name": "stdout",
     "output_type": "stream",
     "text": [
      "\n",
      "0: 640x640 1 scratches, 16.7ms\n",
      "Speed: 5.5ms preprocess, 16.7ms inference, 3.6ms postprocess per image at shape (1, 3, 640, 640)\n",
      "\n",
      "0: 640x640 3 scratchess, 16.4ms\n",
      "Speed: 4.5ms preprocess, 16.4ms inference, 2.9ms postprocess per image at shape (1, 3, 640, 640)\n"
     ]
    },
    {
     "name": "stderr",
     "output_type": "stream",
     "text": [
      "Processing:   2%|█▏                                                                    | 3/180 [00:03<02:33,  1.16it/s]"
     ]
    },
    {
     "name": "stdout",
     "output_type": "stream",
     "text": [
      "\n",
      "0: 640x640 2 scratchess, 16.6ms\n",
      "Speed: 4.1ms preprocess, 16.6ms inference, 2.9ms postprocess per image at shape (1, 3, 640, 640)\n"
     ]
    },
    {
     "name": "stderr",
     "output_type": "stream",
     "text": [
      "Processing:   2%|█▌                                                                    | 4/180 [00:03<01:48,  1.63it/s]"
     ]
    },
    {
     "name": "stdout",
     "output_type": "stream",
     "text": [
      "\n",
      "0: 640x640 2 scratchess, 17.4ms\n",
      "Speed: 4.0ms preprocess, 17.4ms inference, 3.2ms postprocess per image at shape (1, 3, 640, 640)\n"
     ]
    },
    {
     "name": "stderr",
     "output_type": "stream",
     "text": [
      "Processing:   3%|█▉                                                                    | 5/180 [00:03<01:20,  2.18it/s]"
     ]
    },
    {
     "name": "stdout",
     "output_type": "stream",
     "text": [
      "\n",
      "0: 640x640 3 scratchess, 18.7ms\n",
      "Speed: 4.5ms preprocess, 18.7ms inference, 3.0ms postprocess per image at shape (1, 3, 640, 640)\n"
     ]
    },
    {
     "name": "stderr",
     "output_type": "stream",
     "text": [
      "Processing:   3%|██▎                                                                   | 6/180 [00:03<01:05,  2.65it/s]"
     ]
    },
    {
     "name": "stdout",
     "output_type": "stream",
     "text": [
      "\n",
      "0: 640x640 2 scratchess, 18.0ms\n",
      "Speed: 4.3ms preprocess, 18.0ms inference, 3.4ms postprocess per image at shape (1, 3, 640, 640)\n"
     ]
    },
    {
     "name": "stderr",
     "output_type": "stream",
     "text": [
      "Processing:   4%|██▋                                                                   | 7/180 [00:03<00:52,  3.30it/s]"
     ]
    },
    {
     "name": "stdout",
     "output_type": "stream",
     "text": [
      "\n",
      "0: 640x640 2 scratchess, 16.6ms\n",
      "Speed: 3.9ms preprocess, 16.6ms inference, 2.6ms postprocess per image at shape (1, 3, 640, 640)\n"
     ]
    },
    {
     "name": "stderr",
     "output_type": "stream",
     "text": [
      "Processing:   4%|███                                                                   | 8/180 [00:03<00:43,  3.97it/s]"
     ]
    },
    {
     "name": "stdout",
     "output_type": "stream",
     "text": [
      "\n",
      "0: 640x640 2 scratchess, 17.4ms\n",
      "Speed: 4.1ms preprocess, 17.4ms inference, 3.0ms postprocess per image at shape (1, 3, 640, 640)\n"
     ]
    },
    {
     "name": "stderr",
     "output_type": "stream",
     "text": [
      "Processing:   5%|███▌                                                                  | 9/180 [00:04<00:37,  4.57it/s]"
     ]
    },
    {
     "name": "stdout",
     "output_type": "stream",
     "text": [
      "\n",
      "0: 640x640 2 scratchess, 15.5ms\n",
      "Speed: 3.9ms preprocess, 15.5ms inference, 3.2ms postprocess per image at shape (1, 3, 640, 640)\n"
     ]
    },
    {
     "name": "stderr",
     "output_type": "stream",
     "text": [
      "Processing:   6%|███▊                                                                 | 10/180 [00:04<00:32,  5.21it/s]"
     ]
    },
    {
     "name": "stdout",
     "output_type": "stream",
     "text": [
      "\n",
      "0: 640x640 1 inculsion, 3 scratchess, 15.9ms\n",
      "Speed: 4.3ms preprocess, 15.9ms inference, 2.7ms postprocess per image at shape (1, 3, 640, 640)\n"
     ]
    },
    {
     "name": "stderr",
     "output_type": "stream",
     "text": [
      "Processing:   6%|████▏                                                                | 11/180 [00:04<00:34,  4.89it/s]"
     ]
    },
    {
     "name": "stdout",
     "output_type": "stream",
     "text": [
      "\n",
      "0: 640x640 3 scratchess, 16.4ms\n",
      "Speed: 4.6ms preprocess, 16.4ms inference, 3.4ms postprocess per image at shape (1, 3, 640, 640)\n"
     ]
    },
    {
     "name": "stderr",
     "output_type": "stream",
     "text": [
      "Processing:   7%|████▌                                                                | 12/180 [00:04<00:34,  4.84it/s]"
     ]
    },
    {
     "name": "stdout",
     "output_type": "stream",
     "text": [
      "\n",
      "0: 640x640 4 scratchess, 20.7ms\n",
      "Speed: 8.0ms preprocess, 20.7ms inference, 4.5ms postprocess per image at shape (1, 3, 640, 640)\n"
     ]
    },
    {
     "name": "stderr",
     "output_type": "stream",
     "text": [
      "Processing:   7%|████▉                                                                | 13/180 [00:04<00:37,  4.46it/s]"
     ]
    },
    {
     "name": "stdout",
     "output_type": "stream",
     "text": [
      "\n",
      "0: 640x640 4 scratchess, 15.7ms\n",
      "Speed: 5.0ms preprocess, 15.7ms inference, 2.7ms postprocess per image at shape (1, 3, 640, 640)\n"
     ]
    },
    {
     "name": "stderr",
     "output_type": "stream",
     "text": [
      "Processing:   8%|█████▎                                                               | 14/180 [00:05<00:38,  4.34it/s]"
     ]
    },
    {
     "name": "stdout",
     "output_type": "stream",
     "text": [
      "\n",
      "0: 640x640 2 scratchess, 14.8ms\n",
      "Speed: 5.0ms preprocess, 14.8ms inference, 3.1ms postprocess per image at shape (1, 3, 640, 640)\n"
     ]
    },
    {
     "name": "stderr",
     "output_type": "stream",
     "text": [
      "Processing:   8%|█████▊                                                               | 15/180 [00:05<00:33,  4.96it/s]"
     ]
    },
    {
     "name": "stdout",
     "output_type": "stream",
     "text": [
      "\n",
      "0: 640x640 3 scratchess, 13.5ms\n",
      "Speed: 4.7ms preprocess, 13.5ms inference, 2.5ms postprocess per image at shape (1, 3, 640, 640)\n"
     ]
    },
    {
     "name": "stderr",
     "output_type": "stream",
     "text": [
      "Processing:   9%|██████▏                                                              | 16/180 [00:05<00:32,  5.05it/s]"
     ]
    },
    {
     "name": "stdout",
     "output_type": "stream",
     "text": [
      "\n",
      "0: 640x640 3 scratchess, 14.9ms\n",
      "Speed: 5.0ms preprocess, 14.9ms inference, 3.1ms postprocess per image at shape (1, 3, 640, 640)\n"
     ]
    },
    {
     "name": "stderr",
     "output_type": "stream",
     "text": [
      "Processing:   9%|██████▌                                                              | 17/180 [00:05<00:31,  5.13it/s]"
     ]
    },
    {
     "name": "stdout",
     "output_type": "stream",
     "text": [
      "\n",
      "0: 640x640 1 inculsion, 2 scratchess, 14.4ms\n",
      "Speed: 4.8ms preprocess, 14.4ms inference, 2.1ms postprocess per image at shape (1, 3, 640, 640)\n"
     ]
    },
    {
     "name": "stderr",
     "output_type": "stream",
     "text": [
      "Processing:  10%|██████▉                                                              | 18/180 [00:05<00:31,  5.21it/s]"
     ]
    },
    {
     "name": "stdout",
     "output_type": "stream",
     "text": [
      "\n",
      "0: 640x640 2 scratchess, 15.1ms\n",
      "Speed: 5.3ms preprocess, 15.1ms inference, 2.4ms postprocess per image at shape (1, 3, 640, 640)\n"
     ]
    },
    {
     "name": "stderr",
     "output_type": "stream",
     "text": [
      "Processing:  11%|███████▎                                                             | 19/180 [00:06<00:28,  5.72it/s]"
     ]
    },
    {
     "name": "stdout",
     "output_type": "stream",
     "text": [
      "\n",
      "0: 640x640 3 scratchess, 15.3ms\n",
      "Speed: 4.4ms preprocess, 15.3ms inference, 2.3ms postprocess per image at shape (1, 3, 640, 640)\n"
     ]
    },
    {
     "name": "stderr",
     "output_type": "stream",
     "text": [
      "Processing:  11%|███████▋                                                             | 20/180 [00:06<00:28,  5.58it/s]"
     ]
    },
    {
     "name": "stdout",
     "output_type": "stream",
     "text": [
      "\n",
      "0: 640x640 2 scratchess, 15.1ms\n",
      "Speed: 4.5ms preprocess, 15.1ms inference, 2.9ms postprocess per image at shape (1, 3, 640, 640)\n"
     ]
    },
    {
     "name": "stderr",
     "output_type": "stream",
     "text": [
      "Processing:  12%|████████                                                             | 21/180 [00:06<00:26,  5.99it/s]"
     ]
    },
    {
     "name": "stdout",
     "output_type": "stream",
     "text": [
      "\n",
      "0: 640x640 1 inculsion, 2 scratchess, 15.5ms\n",
      "Speed: 4.7ms preprocess, 15.5ms inference, 2.8ms postprocess per image at shape (1, 3, 640, 640)\n"
     ]
    },
    {
     "name": "stderr",
     "output_type": "stream",
     "text": [
      "Processing:  12%|████████▍                                                            | 22/180 [00:06<00:27,  5.76it/s]"
     ]
    },
    {
     "name": "stdout",
     "output_type": "stream",
     "text": [
      "\n",
      "0: 640x640 2 scratchess, 16.4ms\n",
      "Speed: 4.5ms preprocess, 16.4ms inference, 2.4ms postprocess per image at shape (1, 3, 640, 640)\n"
     ]
    },
    {
     "name": "stderr",
     "output_type": "stream",
     "text": [
      "Processing:  13%|████████▊                                                            | 23/180 [00:06<00:25,  6.16it/s]"
     ]
    },
    {
     "name": "stdout",
     "output_type": "stream",
     "text": [
      "\n",
      "0: 640x640 1 scratches, 16.2ms\n",
      "Speed: 4.8ms preprocess, 16.2ms inference, 2.7ms postprocess per image at shape (1, 3, 640, 640)\n",
      "\n",
      "0: 640x640 1 inculsion, 1 scratches, 14.3ms\n",
      "Speed: 4.3ms preprocess, 14.3ms inference, 2.7ms postprocess per image at shape (1, 3, 640, 640)\n"
     ]
    },
    {
     "name": "stderr",
     "output_type": "stream",
     "text": [
      "Processing:  14%|█████████▌                                                           | 25/180 [00:06<00:21,  7.27it/s]"
     ]
    },
    {
     "name": "stdout",
     "output_type": "stream",
     "text": [
      "\n",
      "0: 640x640 3 scratchess, 16.4ms\n",
      "Speed: 4.3ms preprocess, 16.4ms inference, 2.5ms postprocess per image at shape (1, 3, 640, 640)\n"
     ]
    },
    {
     "name": "stderr",
     "output_type": "stream",
     "text": [
      "Processing:  14%|█████████▉                                                           | 26/180 [00:07<00:23,  6.61it/s]"
     ]
    },
    {
     "name": "stdout",
     "output_type": "stream",
     "text": [
      "\n",
      "0: 640x640 4 scratchess, 15.0ms\n",
      "Speed: 4.7ms preprocess, 15.0ms inference, 3.6ms postprocess per image at shape (1, 3, 640, 640)\n"
     ]
    },
    {
     "name": "stderr",
     "output_type": "stream",
     "text": [
      "Processing:  15%|██████████▎                                                          | 27/180 [00:07<00:26,  5.68it/s]"
     ]
    },
    {
     "name": "stdout",
     "output_type": "stream",
     "text": [
      "\n",
      "0: 640x640 3 scratchess, 14.0ms\n",
      "Speed: 4.7ms preprocess, 14.0ms inference, 3.1ms postprocess per image at shape (1, 3, 640, 640)\n"
     ]
    },
    {
     "name": "stderr",
     "output_type": "stream",
     "text": [
      "Processing:  16%|██████████▋                                                          | 28/180 [00:07<00:27,  5.53it/s]"
     ]
    },
    {
     "name": "stdout",
     "output_type": "stream",
     "text": [
      "\n",
      "0: 640x640 2 scratchess, 15.4ms\n",
      "Speed: 4.8ms preprocess, 15.4ms inference, 2.9ms postprocess per image at shape (1, 3, 640, 640)\n"
     ]
    },
    {
     "name": "stderr",
     "output_type": "stream",
     "text": [
      "Processing:  16%|███████████                                                          | 29/180 [00:07<00:25,  5.94it/s]"
     ]
    },
    {
     "name": "stdout",
     "output_type": "stream",
     "text": [
      "\n",
      "0: 640x640 1 inculsion, 3 scratchess, 15.7ms\n",
      "Speed: 4.9ms preprocess, 15.7ms inference, 2.4ms postprocess per image at shape (1, 3, 640, 640)\n"
     ]
    },
    {
     "name": "stderr",
     "output_type": "stream",
     "text": [
      "Processing:  17%|███████████▌                                                         | 30/180 [00:07<00:28,  5.28it/s]"
     ]
    },
    {
     "name": "stdout",
     "output_type": "stream",
     "text": [
      "\n",
      "0: 640x640 2 scratchess, 15.2ms\n",
      "Speed: 4.9ms preprocess, 15.2ms inference, 3.4ms postprocess per image at shape (1, 3, 640, 640)\n"
     ]
    },
    {
     "name": "stderr",
     "output_type": "stream",
     "text": [
      "Processing:  17%|███████████▉                                                         | 31/180 [00:08<00:25,  5.74it/s]"
     ]
    },
    {
     "name": "stdout",
     "output_type": "stream",
     "text": [
      "\n",
      "0: 640x640 4 scratchess, 15.9ms\n",
      "Speed: 4.8ms preprocess, 15.9ms inference, 3.3ms postprocess per image at shape (1, 3, 640, 640)\n"
     ]
    },
    {
     "name": "stderr",
     "output_type": "stream",
     "text": [
      "Processing:  18%|████████████▎                                                        | 32/180 [00:08<00:28,  5.15it/s]"
     ]
    },
    {
     "name": "stdout",
     "output_type": "stream",
     "text": [
      "\n",
      "0: 640x640 3 scratchess, 15.7ms\n",
      "Speed: 4.9ms preprocess, 15.7ms inference, 2.8ms postprocess per image at shape (1, 3, 640, 640)\n"
     ]
    },
    {
     "name": "stderr",
     "output_type": "stream",
     "text": [
      "Processing:  18%|████████████▋                                                        | 33/180 [00:08<00:28,  5.21it/s]"
     ]
    },
    {
     "name": "stdout",
     "output_type": "stream",
     "text": [
      "\n",
      "0: 640x640 3 scratchess, 15.3ms\n",
      "Speed: 4.8ms preprocess, 15.3ms inference, 3.9ms postprocess per image at shape (1, 3, 640, 640)\n"
     ]
    },
    {
     "name": "stderr",
     "output_type": "stream",
     "text": [
      "Processing:  19%|█████████████                                                        | 34/180 [00:08<00:27,  5.22it/s]"
     ]
    },
    {
     "name": "stdout",
     "output_type": "stream",
     "text": [
      "\n",
      "0: 640x640 3 scratchess, 15.0ms\n",
      "Speed: 4.7ms preprocess, 15.0ms inference, 3.0ms postprocess per image at shape (1, 3, 640, 640)\n"
     ]
    },
    {
     "name": "stderr",
     "output_type": "stream",
     "text": [
      "Processing:  19%|█████████████▍                                                       | 35/180 [00:08<00:27,  5.25it/s]"
     ]
    },
    {
     "name": "stdout",
     "output_type": "stream",
     "text": [
      "\n",
      "0: 640x640 5 scratchess, 14.8ms\n",
      "Speed: 4.9ms preprocess, 14.8ms inference, 3.0ms postprocess per image at shape (1, 3, 640, 640)\n"
     ]
    },
    {
     "name": "stderr",
     "output_type": "stream",
     "text": [
      "Processing:  20%|█████████████▊                                                       | 36/180 [00:09<00:31,  4.57it/s]"
     ]
    },
    {
     "name": "stdout",
     "output_type": "stream",
     "text": [
      "\n",
      "0: 640x640 1 scratches, 15.1ms\n",
      "Speed: 4.8ms preprocess, 15.1ms inference, 3.2ms postprocess per image at shape (1, 3, 640, 640)\n",
      "\n",
      "0: 640x640 3 scratchess, 13.4ms\n",
      "Speed: 4.7ms preprocess, 13.4ms inference, 3.0ms postprocess per image at shape (1, 3, 640, 640)\n"
     ]
    },
    {
     "name": "stderr",
     "output_type": "stream",
     "text": [
      "Processing:  21%|██████████████▌                                                      | 38/180 [00:09<00:25,  5.53it/s]"
     ]
    },
    {
     "name": "stdout",
     "output_type": "stream",
     "text": [
      "\n",
      "0: 640x640 2 scratchess, 12.4ms\n",
      "Speed: 4.7ms preprocess, 12.4ms inference, 2.1ms postprocess per image at shape (1, 3, 640, 640)\n"
     ]
    },
    {
     "name": "stderr",
     "output_type": "stream",
     "text": [
      "Processing:  22%|██████████████▉                                                      | 39/180 [00:09<00:23,  6.11it/s]"
     ]
    },
    {
     "name": "stdout",
     "output_type": "stream",
     "text": [
      "\n",
      "0: 640x640 2 scratchess, 12.6ms\n",
      "Speed: 5.0ms preprocess, 12.6ms inference, 2.1ms postprocess per image at shape (1, 3, 640, 640)\n"
     ]
    },
    {
     "name": "stderr",
     "output_type": "stream",
     "text": [
      "Processing:  22%|███████████████▎                                                     | 40/180 [00:09<00:21,  6.61it/s]"
     ]
    },
    {
     "name": "stdout",
     "output_type": "stream",
     "text": [
      "\n",
      "0: 640x640 4 scratchess, 13.3ms\n",
      "Speed: 4.7ms preprocess, 13.3ms inference, 2.0ms postprocess per image at shape (1, 3, 640, 640)\n"
     ]
    },
    {
     "name": "stderr",
     "output_type": "stream",
     "text": [
      "Processing:  23%|███████████████▋                                                     | 41/180 [00:09<00:23,  6.01it/s]"
     ]
    },
    {
     "name": "stdout",
     "output_type": "stream",
     "text": [
      "\n",
      "0: 640x640 2 scratchess, 15.1ms\n",
      "Speed: 4.8ms preprocess, 15.1ms inference, 2.4ms postprocess per image at shape (1, 3, 640, 640)\n"
     ]
    },
    {
     "name": "stderr",
     "output_type": "stream",
     "text": [
      "Processing:  23%|████████████████                                                     | 42/180 [00:09<00:21,  6.34it/s]"
     ]
    },
    {
     "name": "stdout",
     "output_type": "stream",
     "text": [
      "\n",
      "0: 640x640 3 scratchess, 14.6ms\n",
      "Speed: 5.4ms preprocess, 14.6ms inference, 4.0ms postprocess per image at shape (1, 3, 640, 640)\n"
     ]
    },
    {
     "name": "stderr",
     "output_type": "stream",
     "text": [
      "Processing:  24%|████████████████▍                                                    | 43/180 [00:10<00:22,  5.98it/s]"
     ]
    },
    {
     "name": "stdout",
     "output_type": "stream",
     "text": [
      "\n",
      "0: 640x640 1 scratches, 14.4ms\n",
      "Speed: 5.3ms preprocess, 14.4ms inference, 3.1ms postprocess per image at shape (1, 3, 640, 640)\n",
      "\n",
      "0: 640x640 2 scratchess, 14.8ms\n",
      "Speed: 5.6ms preprocess, 14.8ms inference, 4.3ms postprocess per image at shape (1, 3, 640, 640)\n"
     ]
    },
    {
     "name": "stderr",
     "output_type": "stream",
     "text": [
      "Processing:  25%|█████████████████▎                                                   | 45/180 [00:10<00:19,  7.04it/s]"
     ]
    },
    {
     "name": "stdout",
     "output_type": "stream",
     "text": [
      "\n",
      "0: 640x640 2 scratchess, 13.9ms\n",
      "Speed: 5.3ms preprocess, 13.9ms inference, 4.5ms postprocess per image at shape (1, 3, 640, 640)\n"
     ]
    },
    {
     "name": "stderr",
     "output_type": "stream",
     "text": [
      "Processing:  26%|█████████████████▋                                                   | 46/180 [00:10<00:18,  7.06it/s]"
     ]
    },
    {
     "name": "stdout",
     "output_type": "stream",
     "text": [
      "\n",
      "0: 640x640 2 scratchess, 15.0ms\n",
      "Speed: 4.8ms preprocess, 15.0ms inference, 3.9ms postprocess per image at shape (1, 3, 640, 640)\n"
     ]
    },
    {
     "name": "stderr",
     "output_type": "stream",
     "text": [
      "Processing:  26%|██████████████████                                                   | 47/180 [00:10<00:18,  7.11it/s]"
     ]
    },
    {
     "name": "stdout",
     "output_type": "stream",
     "text": [
      "\n",
      "0: 640x640 3 scratchess, 14.9ms\n",
      "Speed: 5.3ms preprocess, 14.9ms inference, 4.2ms postprocess per image at shape (1, 3, 640, 640)\n"
     ]
    },
    {
     "name": "stderr",
     "output_type": "stream",
     "text": [
      "Processing:  27%|██████████████████▍                                                  | 48/180 [00:10<00:20,  6.58it/s]"
     ]
    },
    {
     "name": "stdout",
     "output_type": "stream",
     "text": [
      "\n",
      "0: 640x640 2 scratchess, 15.9ms\n",
      "Speed: 4.4ms preprocess, 15.9ms inference, 3.4ms postprocess per image at shape (1, 3, 640, 640)\n"
     ]
    },
    {
     "name": "stderr",
     "output_type": "stream",
     "text": [
      "Processing:  27%|██████████████████▊                                                  | 49/180 [00:10<00:19,  6.79it/s]"
     ]
    },
    {
     "name": "stdout",
     "output_type": "stream",
     "text": [
      "\n",
      "0: 640x640 2 scratchess, 14.2ms\n",
      "Speed: 4.3ms preprocess, 14.2ms inference, 2.8ms postprocess per image at shape (1, 3, 640, 640)\n"
     ]
    },
    {
     "name": "stderr",
     "output_type": "stream",
     "text": [
      "Processing:  28%|███████████████████▏                                                 | 50/180 [00:11<00:18,  6.99it/s]"
     ]
    },
    {
     "name": "stdout",
     "output_type": "stream",
     "text": [
      "\n",
      "0: 640x640 1 scratches, 15.5ms\n",
      "Speed: 4.3ms preprocess, 15.5ms inference, 2.9ms postprocess per image at shape (1, 3, 640, 640)\n",
      "\n",
      "0: 640x640 1 scratches, 14.8ms\n",
      "Speed: 4.6ms preprocess, 14.8ms inference, 3.2ms postprocess per image at shape (1, 3, 640, 640)\n"
     ]
    },
    {
     "name": "stderr",
     "output_type": "stream",
     "text": [
      "Processing:  29%|███████████████████▉                                                 | 52/180 [00:11<00:14,  8.68it/s]"
     ]
    },
    {
     "name": "stdout",
     "output_type": "stream",
     "text": [
      "\n",
      "0: 640x640 1 scratches, 14.1ms\n",
      "Speed: 4.1ms preprocess, 14.1ms inference, 2.9ms postprocess per image at shape (1, 3, 640, 640)\n",
      "\n",
      "0: 640x640 1 scratches, 14.1ms\n",
      "Speed: 4.2ms preprocess, 14.1ms inference, 3.2ms postprocess per image at shape (1, 3, 640, 640)\n"
     ]
    },
    {
     "name": "stderr",
     "output_type": "stream",
     "text": [
      "Processing:  30%|████████████████████▋                                                | 54/180 [00:11<00:12,  9.84it/s]"
     ]
    },
    {
     "name": "stdout",
     "output_type": "stream",
     "text": [
      "\n",
      "0: 640x640 1 scratches, 15.0ms\n",
      "Speed: 4.0ms preprocess, 15.0ms inference, 3.0ms postprocess per image at shape (1, 3, 640, 640)\n",
      "\n",
      "0: 640x640 2 scratchess, 16.2ms\n",
      "Speed: 4.1ms preprocess, 16.2ms inference, 2.6ms postprocess per image at shape (1, 3, 640, 640)\n"
     ]
    },
    {
     "name": "stderr",
     "output_type": "stream",
     "text": [
      "Processing:  31%|█████████████████████▍                                               | 56/180 [00:11<00:12,  9.69it/s]"
     ]
    },
    {
     "name": "stdout",
     "output_type": "stream",
     "text": [
      "\n",
      "0: 640x640 1 scratches, 15.9ms\n",
      "Speed: 4.3ms preprocess, 15.9ms inference, 2.5ms postprocess per image at shape (1, 3, 640, 640)\n",
      "\n",
      "0: 640x640 1 scratches, 15.4ms\n",
      "Speed: 4.1ms preprocess, 15.4ms inference, 3.7ms postprocess per image at shape (1, 3, 640, 640)\n"
     ]
    },
    {
     "name": "stderr",
     "output_type": "stream",
     "text": [
      "Processing:  32%|██████████████████████▏                                              | 58/180 [00:11<00:11, 10.49it/s]"
     ]
    },
    {
     "name": "stdout",
     "output_type": "stream",
     "text": [
      "\n",
      "0: 640x640 2 scratchess, 15.4ms\n",
      "Speed: 4.0ms preprocess, 15.4ms inference, 3.5ms postprocess per image at shape (1, 3, 640, 640)\n",
      "\n",
      "0: 640x640 3 scratchess, 15.5ms\n",
      "Speed: 4.0ms preprocess, 15.5ms inference, 3.5ms postprocess per image at shape (1, 3, 640, 640)\n"
     ]
    },
    {
     "name": "stderr",
     "output_type": "stream",
     "text": [
      "Processing:  33%|███████████████████████                                              | 60/180 [00:12<00:13,  8.82it/s]"
     ]
    },
    {
     "name": "stdout",
     "output_type": "stream",
     "text": [
      "\n",
      "0: 640x640 1 scratches, 13.1ms\n",
      "Speed: 4.1ms preprocess, 13.1ms inference, 3.2ms postprocess per image at shape (1, 3, 640, 640)\n",
      "\n",
      "0: 640x640 3 scratchess, 13.7ms\n",
      "Speed: 4.9ms preprocess, 13.7ms inference, 3.7ms postprocess per image at shape (1, 3, 640, 640)\n"
     ]
    },
    {
     "name": "stderr",
     "output_type": "stream",
     "text": [
      "Processing:  34%|███████████████████████▊                                             | 62/180 [00:12<00:13,  8.47it/s]"
     ]
    },
    {
     "name": "stdout",
     "output_type": "stream",
     "text": [
      "\n",
      "0: 640x640 2 scratchess, 17.5ms\n",
      "Speed: 4.1ms preprocess, 17.5ms inference, 3.0ms postprocess per image at shape (1, 3, 640, 640)\n"
     ]
    },
    {
     "name": "stderr",
     "output_type": "stream",
     "text": [
      "Processing:  35%|████████████████████████▏                                            | 63/180 [00:12<00:14,  8.20it/s]"
     ]
    },
    {
     "name": "stdout",
     "output_type": "stream",
     "text": [
      "\n",
      "0: 640x640 3 scratchess, 14.6ms\n",
      "Speed: 4.4ms preprocess, 14.6ms inference, 2.9ms postprocess per image at shape (1, 3, 640, 640)\n"
     ]
    },
    {
     "name": "stderr",
     "output_type": "stream",
     "text": [
      "Processing:  36%|████████████████████████▌                                            | 64/180 [00:12<00:15,  7.43it/s]"
     ]
    },
    {
     "name": "stdout",
     "output_type": "stream",
     "text": [
      "\n",
      "0: 640x640 2 scratchess, 14.9ms\n",
      "Speed: 4.9ms preprocess, 14.9ms inference, 2.6ms postprocess per image at shape (1, 3, 640, 640)\n"
     ]
    },
    {
     "name": "stderr",
     "output_type": "stream",
     "text": [
      "Processing:  36%|████████████████████████▉                                            | 65/180 [00:12<00:15,  7.43it/s]"
     ]
    },
    {
     "name": "stdout",
     "output_type": "stream",
     "text": [
      "\n",
      "0: 640x640 2 scratchess, 15.9ms\n",
      "Speed: 4.3ms preprocess, 15.9ms inference, 4.2ms postprocess per image at shape (1, 3, 640, 640)\n"
     ]
    },
    {
     "name": "stderr",
     "output_type": "stream",
     "text": [
      "Processing:  37%|█████████████████████████▎                                           | 66/180 [00:12<00:15,  7.46it/s]"
     ]
    },
    {
     "name": "stdout",
     "output_type": "stream",
     "text": [
      "\n",
      "0: 640x640 2 scratchess, 14.5ms\n",
      "Speed: 4.2ms preprocess, 14.5ms inference, 3.9ms postprocess per image at shape (1, 3, 640, 640)\n"
     ]
    },
    {
     "name": "stderr",
     "output_type": "stream",
     "text": [
      "Processing:  37%|█████████████████████████▋                                           | 67/180 [00:13<00:15,  7.50it/s]"
     ]
    },
    {
     "name": "stdout",
     "output_type": "stream",
     "text": [
      "\n",
      "0: 640x640 3 scratchess, 15.8ms\n",
      "Speed: 4.8ms preprocess, 15.8ms inference, 2.6ms postprocess per image at shape (1, 3, 640, 640)\n"
     ]
    },
    {
     "name": "stderr",
     "output_type": "stream",
     "text": [
      "Processing:  38%|██████████████████████████                                           | 68/180 [00:13<00:16,  6.71it/s]"
     ]
    },
    {
     "name": "stdout",
     "output_type": "stream",
     "text": [
      "\n",
      "0: 640x640 3 scratchess, 16.6ms\n",
      "Speed: 4.2ms preprocess, 16.6ms inference, 3.2ms postprocess per image at shape (1, 3, 640, 640)\n"
     ]
    },
    {
     "name": "stderr",
     "output_type": "stream",
     "text": [
      "Processing:  38%|██████████████████████████▍                                          | 69/180 [00:13<00:17,  6.17it/s]"
     ]
    },
    {
     "name": "stdout",
     "output_type": "stream",
     "text": [
      "\n",
      "0: 640x640 4 scratchess, 16.8ms\n",
      "Speed: 4.5ms preprocess, 16.8ms inference, 3.5ms postprocess per image at shape (1, 3, 640, 640)\n"
     ]
    },
    {
     "name": "stderr",
     "output_type": "stream",
     "text": [
      "Processing:  39%|██████████████████████████▊                                          | 70/180 [00:13<00:20,  5.32it/s]"
     ]
    },
    {
     "name": "stdout",
     "output_type": "stream",
     "text": [
      "\n",
      "0: 640x640 2 scratchess, 14.8ms\n",
      "Speed: 4.3ms preprocess, 14.8ms inference, 3.4ms postprocess per image at shape (1, 3, 640, 640)\n"
     ]
    },
    {
     "name": "stderr",
     "output_type": "stream",
     "text": [
      "Processing:  39%|███████████████████████████▏                                         | 71/180 [00:13<00:18,  5.78it/s]"
     ]
    },
    {
     "name": "stdout",
     "output_type": "stream",
     "text": [
      "\n",
      "0: 640x640 6 scratchess, 15.0ms\n",
      "Speed: 5.7ms preprocess, 15.0ms inference, 4.3ms postprocess per image at shape (1, 3, 640, 640)\n"
     ]
    },
    {
     "name": "stderr",
     "output_type": "stream",
     "text": [
      "Processing:  40%|███████████████████████████▌                                         | 72/180 [00:14<00:24,  4.45it/s]"
     ]
    },
    {
     "name": "stdout",
     "output_type": "stream",
     "text": [
      "\n",
      "0: 640x640 3 scratchess, 14.0ms\n",
      "Speed: 5.0ms preprocess, 14.0ms inference, 2.7ms postprocess per image at shape (1, 3, 640, 640)\n"
     ]
    },
    {
     "name": "stderr",
     "output_type": "stream",
     "text": [
      "Processing:  41%|███████████████████████████▉                                         | 73/180 [00:14<00:23,  4.64it/s]"
     ]
    },
    {
     "name": "stdout",
     "output_type": "stream",
     "text": [
      "\n",
      "0: 640x640 4 scratchess, 13.5ms\n",
      "Speed: 5.1ms preprocess, 13.5ms inference, 2.7ms postprocess per image at shape (1, 3, 640, 640)\n"
     ]
    },
    {
     "name": "stderr",
     "output_type": "stream",
     "text": [
      "Processing:  41%|████████████████████████████▎                                        | 74/180 [00:14<00:23,  4.52it/s]"
     ]
    },
    {
     "name": "stdout",
     "output_type": "stream",
     "text": [
      "\n",
      "0: 640x640 2 scratchess, 14.7ms\n",
      "Speed: 4.7ms preprocess, 14.7ms inference, 2.9ms postprocess per image at shape (1, 3, 640, 640)\n"
     ]
    },
    {
     "name": "stderr",
     "output_type": "stream",
     "text": [
      "Processing:  42%|████████████████████████████▊                                        | 75/180 [00:14<00:20,  5.10it/s]"
     ]
    },
    {
     "name": "stdout",
     "output_type": "stream",
     "text": [
      "\n",
      "0: 640x640 5 scratchess, 16.2ms\n",
      "Speed: 4.9ms preprocess, 16.2ms inference, 2.6ms postprocess per image at shape (1, 3, 640, 640)\n"
     ]
    },
    {
     "name": "stderr",
     "output_type": "stream",
     "text": [
      "Processing:  42%|█████████████████████████████▏                                       | 76/180 [00:15<00:24,  4.27it/s]"
     ]
    },
    {
     "name": "stdout",
     "output_type": "stream",
     "text": [
      "\n",
      "0: 640x640 2 scratchess, 16.1ms\n",
      "Speed: 5.4ms preprocess, 16.1ms inference, 4.0ms postprocess per image at shape (1, 3, 640, 640)\n"
     ]
    },
    {
     "name": "stderr",
     "output_type": "stream",
     "text": [
      "Processing:  43%|█████████████████████████████▌                                       | 77/180 [00:15<00:21,  4.82it/s]"
     ]
    },
    {
     "name": "stdout",
     "output_type": "stream",
     "text": [
      "\n",
      "0: 640x640 1 scratches, 15.7ms\n",
      "Speed: 5.9ms preprocess, 15.7ms inference, 4.6ms postprocess per image at shape (1, 3, 640, 640)\n",
      "\n",
      "0: 640x640 3 scratchess, 15.9ms\n",
      "Speed: 5.3ms preprocess, 15.9ms inference, 4.2ms postprocess per image at shape (1, 3, 640, 640)\n"
     ]
    },
    {
     "name": "stderr",
     "output_type": "stream",
     "text": [
      "Processing:  44%|██████████████████████████████▎                                      | 79/180 [00:15<00:17,  5.62it/s]"
     ]
    },
    {
     "name": "stdout",
     "output_type": "stream",
     "text": [
      "\n",
      "0: 640x640 2 scratchess, 15.3ms\n",
      "Speed: 5.3ms preprocess, 15.3ms inference, 2.7ms postprocess per image at shape (1, 3, 640, 640)\n"
     ]
    },
    {
     "name": "stderr",
     "output_type": "stream",
     "text": [
      "Processing:  44%|██████████████████████████████▋                                      | 80/180 [00:15<00:16,  5.93it/s]"
     ]
    },
    {
     "name": "stdout",
     "output_type": "stream",
     "text": [
      "\n",
      "0: 640x640 2 scratchess, 15.8ms\n",
      "Speed: 5.4ms preprocess, 15.8ms inference, 3.8ms postprocess per image at shape (1, 3, 640, 640)\n"
     ]
    },
    {
     "name": "stderr",
     "output_type": "stream",
     "text": [
      "Processing:  45%|███████████████████████████████                                      | 81/180 [00:15<00:16,  6.17it/s]"
     ]
    },
    {
     "name": "stdout",
     "output_type": "stream",
     "text": [
      "\n",
      "0: 640x640 4 scratchess, 17.1ms\n",
      "Speed: 5.2ms preprocess, 17.1ms inference, 3.8ms postprocess per image at shape (1, 3, 640, 640)\n"
     ]
    },
    {
     "name": "stderr",
     "output_type": "stream",
     "text": [
      "Processing:  46%|███████████████████████████████▍                                     | 82/180 [00:16<00:18,  5.36it/s]"
     ]
    },
    {
     "name": "stdout",
     "output_type": "stream",
     "text": [
      "\n",
      "0: 640x640 1 scratches, 15.2ms\n",
      "Speed: 4.5ms preprocess, 15.2ms inference, 3.1ms postprocess per image at shape (1, 3, 640, 640)\n",
      "\n",
      "0: 640x640 1 scratches, 14.5ms\n",
      "Speed: 4.6ms preprocess, 14.5ms inference, 3.7ms postprocess per image at shape (1, 3, 640, 640)\n"
     ]
    },
    {
     "name": "stderr",
     "output_type": "stream",
     "text": [
      "Processing:  47%|████████████████████████████████▏                                    | 84/180 [00:16<00:13,  7.07it/s]"
     ]
    },
    {
     "name": "stdout",
     "output_type": "stream",
     "text": [
      "\n",
      "0: 640x640 2 scratchess, 13.9ms\n",
      "Speed: 5.1ms preprocess, 13.9ms inference, 2.9ms postprocess per image at shape (1, 3, 640, 640)\n"
     ]
    },
    {
     "name": "stderr",
     "output_type": "stream",
     "text": [
      "Processing:  47%|████████████████████████████████▌                                    | 85/180 [00:16<00:13,  7.14it/s]"
     ]
    },
    {
     "name": "stdout",
     "output_type": "stream",
     "text": [
      "\n",
      "0: 640x640 1 scratches, 15.5ms\n",
      "Speed: 5.6ms preprocess, 15.5ms inference, 2.3ms postprocess per image at shape (1, 3, 640, 640)\n",
      "\n",
      "0: 640x640 2 scratchess, 15.2ms\n",
      "Speed: 5.2ms preprocess, 15.2ms inference, 3.6ms postprocess per image at shape (1, 3, 640, 640)\n"
     ]
    },
    {
     "name": "stderr",
     "output_type": "stream",
     "text": [
      "Processing:  48%|█████████████████████████████████▎                                   | 87/180 [00:16<00:12,  7.75it/s]"
     ]
    },
    {
     "name": "stdout",
     "output_type": "stream",
     "text": [
      "\n",
      "0: 640x640 1 scratches, 14.5ms\n",
      "Speed: 5.2ms preprocess, 14.5ms inference, 3.2ms postprocess per image at shape (1, 3, 640, 640)\n",
      "\n",
      "0: 640x640 1 scratches, 16.3ms\n",
      "Speed: 5.2ms preprocess, 16.3ms inference, 2.7ms postprocess per image at shape (1, 3, 640, 640)\n"
     ]
    },
    {
     "name": "stderr",
     "output_type": "stream",
     "text": [
      "Processing:  49%|██████████████████████████████████                                   | 89/180 [00:16<00:10,  8.82it/s]"
     ]
    },
    {
     "name": "stdout",
     "output_type": "stream",
     "text": [
      "\n",
      "0: 640x640 1 scratches, 15.7ms\n",
      "Speed: 5.3ms preprocess, 15.7ms inference, 2.8ms postprocess per image at shape (1, 3, 640, 640)\n",
      "\n",
      "0: 640x640 1 scratches, 17.0ms\n",
      "Speed: 4.6ms preprocess, 17.0ms inference, 2.6ms postprocess per image at shape (1, 3, 640, 640)\n"
     ]
    },
    {
     "name": "stderr",
     "output_type": "stream",
     "text": [
      "Processing:  51%|██████████████████████████████████▉                                  | 91/180 [00:16<00:09,  9.60it/s]"
     ]
    },
    {
     "name": "stdout",
     "output_type": "stream",
     "text": [
      "\n",
      "0: 640x640 3 scratchess, 15.3ms\n",
      "Speed: 5.4ms preprocess, 15.3ms inference, 3.6ms postprocess per image at shape (1, 3, 640, 640)\n"
     ]
    },
    {
     "name": "stderr",
     "output_type": "stream",
     "text": [
      "Processing:  51%|███████████████████████████████████▎                                 | 92/180 [00:17<00:10,  8.19it/s]"
     ]
    },
    {
     "name": "stdout",
     "output_type": "stream",
     "text": [
      "\n",
      "0: 640x640 2 scratchess, 15.3ms\n",
      "Speed: 4.9ms preprocess, 15.3ms inference, 3.2ms postprocess per image at shape (1, 3, 640, 640)\n"
     ]
    },
    {
     "name": "stderr",
     "output_type": "stream",
     "text": [
      "Processing:  52%|███████████████████████████████████▋                                 | 93/180 [00:17<00:11,  7.89it/s]"
     ]
    },
    {
     "name": "stdout",
     "output_type": "stream",
     "text": [
      "\n",
      "0: 640x640 3 scratchess, 12.4ms\n",
      "Speed: 4.9ms preprocess, 12.4ms inference, 2.7ms postprocess per image at shape (1, 3, 640, 640)\n"
     ]
    },
    {
     "name": "stderr",
     "output_type": "stream",
     "text": [
      "Processing:  52%|████████████████████████████████████                                 | 94/180 [00:17<00:12,  6.82it/s]"
     ]
    },
    {
     "name": "stdout",
     "output_type": "stream",
     "text": [
      "\n",
      "0: 640x640 2 scratchess, 16.8ms\n",
      "Speed: 5.0ms preprocess, 16.8ms inference, 3.7ms postprocess per image at shape (1, 3, 640, 640)\n"
     ]
    },
    {
     "name": "stderr",
     "output_type": "stream",
     "text": [
      "Processing:  53%|████████████████████████████████████▍                                | 95/180 [00:17<00:12,  6.69it/s]"
     ]
    },
    {
     "name": "stdout",
     "output_type": "stream",
     "text": [
      "\n",
      "0: 640x640 1 scratches, 18.8ms\n",
      "Speed: 5.0ms preprocess, 18.8ms inference, 4.4ms postprocess per image at shape (1, 3, 640, 640)\n",
      "\n",
      "0: 640x640 4 scratchess, 17.1ms\n",
      "Speed: 4.7ms preprocess, 17.1ms inference, 3.4ms postprocess per image at shape (1, 3, 640, 640)\n"
     ]
    },
    {
     "name": "stderr",
     "output_type": "stream",
     "text": [
      "Processing:  54%|█████████████████████████████████████▏                               | 97/180 [00:18<00:13,  6.15it/s]"
     ]
    },
    {
     "name": "stdout",
     "output_type": "stream",
     "text": [
      "\n",
      "0: 640x640 4 scratchess, 18.0ms\n",
      "Speed: 4.8ms preprocess, 18.0ms inference, 3.2ms postprocess per image at shape (1, 3, 640, 640)\n"
     ]
    },
    {
     "name": "stderr",
     "output_type": "stream",
     "text": [
      "Processing:  54%|█████████████████████████████████████▌                               | 98/180 [00:18<00:15,  5.38it/s]"
     ]
    },
    {
     "name": "stdout",
     "output_type": "stream",
     "text": [
      "\n",
      "0: 640x640 6 scratchess, 15.1ms\n",
      "Speed: 4.6ms preprocess, 15.1ms inference, 3.6ms postprocess per image at shape (1, 3, 640, 640)\n"
     ]
    },
    {
     "name": "stderr",
     "output_type": "stream",
     "text": [
      "Processing:  55%|█████████████████████████████████████▉                               | 99/180 [00:18<00:18,  4.40it/s]"
     ]
    },
    {
     "name": "stdout",
     "output_type": "stream",
     "text": [
      "\n",
      "0: 640x640 2 scratchess, 15.4ms\n",
      "Speed: 4.5ms preprocess, 15.4ms inference, 2.7ms postprocess per image at shape (1, 3, 640, 640)\n"
     ]
    },
    {
     "name": "stderr",
     "output_type": "stream",
     "text": [
      "Processing:  56%|█████████████████████████████████████▊                              | 100/180 [00:18<00:16,  4.90it/s]"
     ]
    },
    {
     "name": "stdout",
     "output_type": "stream",
     "text": [
      "\n",
      "0: 640x640 1 scratches, 16.2ms\n",
      "Speed: 4.5ms preprocess, 16.2ms inference, 3.0ms postprocess per image at shape (1, 3, 640, 640)\n",
      "\n",
      "0: 640x640 1 scratches, 15.6ms\n",
      "Speed: 4.5ms preprocess, 15.6ms inference, 3.4ms postprocess per image at shape (1, 3, 640, 640)\n"
     ]
    },
    {
     "name": "stderr",
     "output_type": "stream",
     "text": [
      "Processing:  57%|██████████████████████████████████████▌                             | 102/180 [00:18<00:11,  6.55it/s]"
     ]
    },
    {
     "name": "stdout",
     "output_type": "stream",
     "text": [
      "\n",
      "0: 640x640 1 scratches, 15.8ms\n",
      "Speed: 4.5ms preprocess, 15.8ms inference, 3.6ms postprocess per image at shape (1, 3, 640, 640)\n",
      "\n",
      "0: 640x640 5 scratchess, 16.8ms\n",
      "Speed: 4.6ms preprocess, 16.8ms inference, 3.6ms postprocess per image at shape (1, 3, 640, 640)\n"
     ]
    },
    {
     "name": "stderr",
     "output_type": "stream",
     "text": [
      "Processing:  58%|███████████████████████████████████████▎                            | 104/180 [00:19<00:12,  6.02it/s]"
     ]
    },
    {
     "name": "stdout",
     "output_type": "stream",
     "text": [
      "\n",
      "0: 640x640 2 scratchess, 15.7ms\n",
      "Speed: 4.6ms preprocess, 15.7ms inference, 2.7ms postprocess per image at shape (1, 3, 640, 640)\n"
     ]
    },
    {
     "name": "stderr",
     "output_type": "stream",
     "text": [
      "Processing:  58%|███████████████████████████████████████▋                            | 105/180 [00:19<00:12,  6.25it/s]"
     ]
    },
    {
     "name": "stdout",
     "output_type": "stream",
     "text": [
      "\n",
      "0: 640x640 3 scratchess, 16.2ms\n",
      "Speed: 4.7ms preprocess, 16.2ms inference, 3.1ms postprocess per image at shape (1, 3, 640, 640)\n"
     ]
    },
    {
     "name": "stderr",
     "output_type": "stream",
     "text": [
      "Processing:  59%|████████████████████████████████████████                            | 106/180 [00:19<00:12,  5.99it/s]"
     ]
    },
    {
     "name": "stdout",
     "output_type": "stream",
     "text": [
      "\n",
      "0: 640x640 1 inculsion, 3 scratchess, 17.0ms\n",
      "Speed: 4.7ms preprocess, 17.0ms inference, 3.4ms postprocess per image at shape (1, 3, 640, 640)\n"
     ]
    },
    {
     "name": "stderr",
     "output_type": "stream",
     "text": [
      "Processing:  59%|████████████████████████████████████████▍                           | 107/180 [00:19<00:13,  5.40it/s]"
     ]
    },
    {
     "name": "stdout",
     "output_type": "stream",
     "text": [
      "\n",
      "0: 640x640 1 inculsion, 1 scratches, 16.3ms\n",
      "Speed: 4.4ms preprocess, 16.3ms inference, 3.1ms postprocess per image at shape (1, 3, 640, 640)\n"
     ]
    },
    {
     "name": "stderr",
     "output_type": "stream",
     "text": [
      "Processing:  60%|████████████████████████████████████████▊                           | 108/180 [00:20<00:12,  5.79it/s]"
     ]
    },
    {
     "name": "stdout",
     "output_type": "stream",
     "text": [
      "\n",
      "0: 640x640 1 scratches, 15.2ms\n",
      "Speed: 5.0ms preprocess, 15.2ms inference, 2.4ms postprocess per image at shape (1, 3, 640, 640)\n",
      "\n",
      "0: 640x640 1 scratches, 16.9ms\n",
      "Speed: 4.9ms preprocess, 16.9ms inference, 2.8ms postprocess per image at shape (1, 3, 640, 640)\n"
     ]
    },
    {
     "name": "stderr",
     "output_type": "stream",
     "text": [
      "Processing:  61%|█████████████████████████████████████████▌                          | 110/180 [00:20<00:09,  7.37it/s]"
     ]
    },
    {
     "name": "stdout",
     "output_type": "stream",
     "text": [
      "\n",
      "0: 640x640 1 scratches, 15.4ms\n",
      "Speed: 4.5ms preprocess, 15.4ms inference, 3.4ms postprocess per image at shape (1, 3, 640, 640)\n",
      "\n",
      "0: 640x640 1 scratches, 14.8ms\n",
      "Speed: 4.5ms preprocess, 14.8ms inference, 2.7ms postprocess per image at shape (1, 3, 640, 640)\n"
     ]
    },
    {
     "name": "stderr",
     "output_type": "stream",
     "text": [
      "Processing:  62%|██████████████████████████████████████████▎                         | 112/180 [00:20<00:07,  8.64it/s]"
     ]
    },
    {
     "name": "stdout",
     "output_type": "stream",
     "text": [
      "\n",
      "0: 640x640 1 scratches, 14.9ms\n",
      "Speed: 4.7ms preprocess, 14.9ms inference, 3.6ms postprocess per image at shape (1, 3, 640, 640)\n",
      "\n",
      "0: 640x640 1 scratches, 14.7ms\n",
      "Speed: 4.4ms preprocess, 14.7ms inference, 3.2ms postprocess per image at shape (1, 3, 640, 640)\n"
     ]
    },
    {
     "name": "stderr",
     "output_type": "stream",
     "text": [
      "Processing:  63%|███████████████████████████████████████████                         | 114/180 [00:20<00:06,  9.60it/s]"
     ]
    },
    {
     "name": "stdout",
     "output_type": "stream",
     "text": [
      "\n",
      "0: 640x640 1 scratches, 15.5ms\n",
      "Speed: 4.3ms preprocess, 15.5ms inference, 3.5ms postprocess per image at shape (1, 3, 640, 640)\n",
      "\n",
      "0: 640x640 1 scratches, 13.9ms\n",
      "Speed: 4.2ms preprocess, 13.9ms inference, 3.4ms postprocess per image at shape (1, 3, 640, 640)\n"
     ]
    },
    {
     "name": "stderr",
     "output_type": "stream",
     "text": [
      "Processing:  64%|███████████████████████████████████████████▊                        | 116/180 [00:20<00:06, 10.39it/s]"
     ]
    },
    {
     "name": "stdout",
     "output_type": "stream",
     "text": [
      "\n",
      "0: 640x640 1 scratches, 14.4ms\n",
      "Speed: 4.4ms preprocess, 14.4ms inference, 2.2ms postprocess per image at shape (1, 3, 640, 640)\n",
      "\n",
      "0: 640x640 1 scratches, 15.7ms\n",
      "Speed: 4.1ms preprocess, 15.7ms inference, 3.1ms postprocess per image at shape (1, 3, 640, 640)\n"
     ]
    },
    {
     "name": "stderr",
     "output_type": "stream",
     "text": [
      "Processing:  66%|████████████████████████████████████████████▌                       | 118/180 [00:20<00:05, 10.97it/s]"
     ]
    },
    {
     "name": "stdout",
     "output_type": "stream",
     "text": [
      "\n",
      "0: 640x640 1 scratches, 14.2ms\n",
      "Speed: 4.2ms preprocess, 14.2ms inference, 2.4ms postprocess per image at shape (1, 3, 640, 640)\n",
      "\n",
      "0: 640x640 1 inculsion, 1 scratches, 14.7ms\n",
      "Speed: 4.0ms preprocess, 14.7ms inference, 3.3ms postprocess per image at shape (1, 3, 640, 640)\n"
     ]
    },
    {
     "name": "stderr",
     "output_type": "stream",
     "text": [
      "Processing:  67%|█████████████████████████████████████████████▎                      | 120/180 [00:21<00:05, 10.42it/s]"
     ]
    },
    {
     "name": "stdout",
     "output_type": "stream",
     "text": [
      "\n",
      "0: 640x640 1 scratches, 15.5ms\n",
      "Speed: 4.8ms preprocess, 15.5ms inference, 3.2ms postprocess per image at shape (1, 3, 640, 640)\n",
      "\n",
      "0: 640x640 1 scratches, 12.7ms\n",
      "Speed: 3.7ms preprocess, 12.7ms inference, 2.9ms postprocess per image at shape (1, 3, 640, 640)\n"
     ]
    },
    {
     "name": "stderr",
     "output_type": "stream",
     "text": [
      "Processing:  68%|██████████████████████████████████████████████                      | 122/180 [00:21<00:05, 11.18it/s]"
     ]
    },
    {
     "name": "stdout",
     "output_type": "stream",
     "text": [
      "\n",
      "0: 640x640 1 scratches, 13.9ms\n",
      "Speed: 4.2ms preprocess, 13.9ms inference, 2.9ms postprocess per image at shape (1, 3, 640, 640)\n",
      "\n",
      "0: 640x640 1 inculsion, 1 scratches, 12.9ms\n",
      "Speed: 4.2ms preprocess, 12.9ms inference, 3.2ms postprocess per image at shape (1, 3, 640, 640)\n"
     ]
    },
    {
     "name": "stderr",
     "output_type": "stream",
     "text": [
      "Processing:  69%|██████████████████████████████████████████████▊                     | 124/180 [00:21<00:05, 10.75it/s]"
     ]
    },
    {
     "name": "stdout",
     "output_type": "stream",
     "text": [
      "\n",
      "0: 640x640 1 scratches, 13.4ms\n",
      "Speed: 4.6ms preprocess, 13.4ms inference, 3.5ms postprocess per image at shape (1, 3, 640, 640)\n",
      "\n",
      "0: 640x640 1 scratches, 13.4ms\n",
      "Speed: 5.1ms preprocess, 13.4ms inference, 2.9ms postprocess per image at shape (1, 3, 640, 640)\n"
     ]
    },
    {
     "name": "stderr",
     "output_type": "stream",
     "text": [
      "Processing:  70%|███████████████████████████████████████████████▌                    | 126/180 [00:21<00:04, 11.25it/s]"
     ]
    },
    {
     "name": "stdout",
     "output_type": "stream",
     "text": [
      "\n",
      "0: 640x640 1 scratches, 14.7ms\n",
      "Speed: 4.1ms preprocess, 14.7ms inference, 3.0ms postprocess per image at shape (1, 3, 640, 640)\n",
      "\n",
      "0: 640x640 1 scratches, 15.3ms\n",
      "Speed: 4.5ms preprocess, 15.3ms inference, 3.9ms postprocess per image at shape (1, 3, 640, 640)\n"
     ]
    },
    {
     "name": "stderr",
     "output_type": "stream",
     "text": [
      "Processing:  71%|████████████████████████████████████████████████▎                   | 128/180 [00:21<00:04, 11.63it/s]"
     ]
    },
    {
     "name": "stdout",
     "output_type": "stream",
     "text": [
      "\n",
      "0: 640x640 1 scratches, 15.4ms\n",
      "Speed: 4.4ms preprocess, 15.4ms inference, 3.5ms postprocess per image at shape (1, 3, 640, 640)\n",
      "\n",
      "0: 640x640 1 scratches, 14.1ms\n",
      "Speed: 4.9ms preprocess, 14.1ms inference, 2.1ms postprocess per image at shape (1, 3, 640, 640)\n"
     ]
    },
    {
     "name": "stderr",
     "output_type": "stream",
     "text": [
      "Processing:  72%|█████████████████████████████████████████████████                   | 130/180 [00:21<00:04, 11.89it/s]"
     ]
    },
    {
     "name": "stdout",
     "output_type": "stream",
     "text": [
      "\n",
      "0: 640x640 1 scratches, 13.1ms\n",
      "Speed: 4.5ms preprocess, 13.1ms inference, 3.1ms postprocess per image at shape (1, 3, 640, 640)\n",
      "\n",
      "0: 640x640 1 scratches, 14.9ms\n",
      "Speed: 3.9ms preprocess, 14.9ms inference, 2.4ms postprocess per image at shape (1, 3, 640, 640)\n"
     ]
    },
    {
     "name": "stderr",
     "output_type": "stream",
     "text": [
      "Processing:  73%|█████████████████████████████████████████████████▊                  | 132/180 [00:22<00:03, 12.16it/s]"
     ]
    },
    {
     "name": "stdout",
     "output_type": "stream",
     "text": [
      "\n",
      "0: 640x640 1 scratches, 15.1ms\n",
      "Speed: 4.6ms preprocess, 15.1ms inference, 2.8ms postprocess per image at shape (1, 3, 640, 640)\n",
      "\n",
      "0: 640x640 1 scratches, 14.2ms\n",
      "Speed: 4.2ms preprocess, 14.2ms inference, 2.8ms postprocess per image at shape (1, 3, 640, 640)\n"
     ]
    },
    {
     "name": "stderr",
     "output_type": "stream",
     "text": [
      "Processing:  74%|██████████████████████████████████████████████████▌                 | 134/180 [00:22<00:03, 12.18it/s]"
     ]
    },
    {
     "name": "stdout",
     "output_type": "stream",
     "text": [
      "\n",
      "0: 640x640 1 scratches, 15.0ms\n",
      "Speed: 4.3ms preprocess, 15.0ms inference, 3.4ms postprocess per image at shape (1, 3, 640, 640)\n",
      "\n",
      "0: 640x640 1 scratches, 14.4ms\n",
      "Speed: 4.4ms preprocess, 14.4ms inference, 2.9ms postprocess per image at shape (1, 3, 640, 640)\n"
     ]
    },
    {
     "name": "stderr",
     "output_type": "stream",
     "text": [
      "Processing:  76%|███████████████████████████████████████████████████▍                | 136/180 [00:22<00:03, 12.19it/s]"
     ]
    },
    {
     "name": "stdout",
     "output_type": "stream",
     "text": [
      "\n",
      "0: 640x640 2 scratchess, 15.5ms\n",
      "Speed: 5.3ms preprocess, 15.5ms inference, 2.9ms postprocess per image at shape (1, 3, 640, 640)\n",
      "\n",
      "0: 640x640 1 scratches, 15.5ms\n",
      "Speed: 4.9ms preprocess, 15.5ms inference, 3.1ms postprocess per image at shape (1, 3, 640, 640)\n"
     ]
    },
    {
     "name": "stderr",
     "output_type": "stream",
     "text": [
      "Processing:  77%|████████████████████████████████████████████████████▏               | 138/180 [00:22<00:03, 11.08it/s]"
     ]
    },
    {
     "name": "stdout",
     "output_type": "stream",
     "text": [
      "\n",
      "0: 640x640 1 scratches, 14.9ms\n",
      "Speed: 5.2ms preprocess, 14.9ms inference, 3.4ms postprocess per image at shape (1, 3, 640, 640)\n",
      "\n",
      "0: 640x640 1 scratches, 16.2ms\n",
      "Speed: 5.7ms preprocess, 16.2ms inference, 4.3ms postprocess per image at shape (1, 3, 640, 640)\n"
     ]
    },
    {
     "name": "stderr",
     "output_type": "stream",
     "text": [
      "Processing:  78%|████████████████████████████████████████████████████▉               | 140/180 [00:22<00:03, 11.37it/s]"
     ]
    },
    {
     "name": "stdout",
     "output_type": "stream",
     "text": [
      "\n",
      "0: 640x640 1 scratches, 15.1ms\n",
      "Speed: 4.5ms preprocess, 15.1ms inference, 3.4ms postprocess per image at shape (1, 3, 640, 640)\n",
      "\n",
      "0: 640x640 1 scratches, 17.1ms\n",
      "Speed: 4.6ms preprocess, 17.1ms inference, 3.4ms postprocess per image at shape (1, 3, 640, 640)\n"
     ]
    },
    {
     "name": "stderr",
     "output_type": "stream",
     "text": [
      "Processing:  79%|█████████████████████████████████████████████████████▋              | 142/180 [00:22<00:03, 11.36it/s]"
     ]
    },
    {
     "name": "stdout",
     "output_type": "stream",
     "text": [
      "\n",
      "0: 640x640 1 scratches, 18.0ms\n",
      "Speed: 4.8ms preprocess, 18.0ms inference, 3.1ms postprocess per image at shape (1, 3, 640, 640)\n",
      "\n",
      "0: 640x640 1 scratches, 18.4ms\n",
      "Speed: 4.4ms preprocess, 18.4ms inference, 3.9ms postprocess per image at shape (1, 3, 640, 640)\n"
     ]
    },
    {
     "name": "stderr",
     "output_type": "stream",
     "text": [
      "Processing:  80%|██████████████████████████████████████████████████████▍             | 144/180 [00:23<00:03, 11.16it/s]"
     ]
    },
    {
     "name": "stdout",
     "output_type": "stream",
     "text": [
      "\n",
      "0: 640x640 2 scratchess, 17.3ms\n",
      "Speed: 4.9ms preprocess, 17.3ms inference, 3.6ms postprocess per image at shape (1, 3, 640, 640)\n",
      "\n",
      "0: 640x640 2 scratchess, 15.4ms\n",
      "Speed: 5.5ms preprocess, 15.4ms inference, 2.9ms postprocess per image at shape (1, 3, 640, 640)\n"
     ]
    },
    {
     "name": "stderr",
     "output_type": "stream",
     "text": [
      "Processing:  81%|███████████████████████████████████████████████████████▏            | 146/180 [00:23<00:03,  9.46it/s]"
     ]
    },
    {
     "name": "stdout",
     "output_type": "stream",
     "text": [
      "\n",
      "0: 640x640 1 inculsion, 1 scratches, 15.0ms\n",
      "Speed: 5.1ms preprocess, 15.0ms inference, 2.6ms postprocess per image at shape (1, 3, 640, 640)\n"
     ]
    },
    {
     "name": "stderr",
     "output_type": "stream",
     "text": [
      "Processing:  82%|███████████████████████████████████████████████████████▌            | 147/180 [00:23<00:03,  9.01it/s]"
     ]
    },
    {
     "name": "stdout",
     "output_type": "stream",
     "text": [
      "\n",
      "0: 640x640 3 scratchess, 14.1ms\n",
      "Speed: 5.3ms preprocess, 14.1ms inference, 4.2ms postprocess per image at shape (1, 3, 640, 640)\n"
     ]
    },
    {
     "name": "stderr",
     "output_type": "stream",
     "text": [
      "Processing:  82%|███████████████████████████████████████████████████████▉            | 148/180 [00:23<00:04,  7.90it/s]"
     ]
    },
    {
     "name": "stdout",
     "output_type": "stream",
     "text": [
      "\n",
      "0: 640x640 1 inculsion, 2 scratchess, 14.0ms\n",
      "Speed: 5.2ms preprocess, 14.0ms inference, 3.6ms postprocess per image at shape (1, 3, 640, 640)\n"
     ]
    },
    {
     "name": "stderr",
     "output_type": "stream",
     "text": [
      "Processing:  83%|████████████████████████████████████████████████████████▎           | 149/180 [00:23<00:04,  7.14it/s]"
     ]
    },
    {
     "name": "stdout",
     "output_type": "stream",
     "text": [
      "\n",
      "0: 640x640 1 scratches, 13.4ms\n",
      "Speed: 5.2ms preprocess, 13.4ms inference, 3.1ms postprocess per image at shape (1, 3, 640, 640)\n",
      "\n",
      "0: 640x640 1 scratches, 13.6ms\n",
      "Speed: 4.8ms preprocess, 13.6ms inference, 3.5ms postprocess per image at shape (1, 3, 640, 640)\n"
     ]
    },
    {
     "name": "stderr",
     "output_type": "stream",
     "text": [
      "Processing:  84%|█████████████████████████████████████████████████████████           | 151/180 [00:24<00:03,  8.60it/s]"
     ]
    },
    {
     "name": "stdout",
     "output_type": "stream",
     "text": [
      "\n",
      "0: 640x640 1 scratches, 13.0ms\n",
      "Speed: 4.6ms preprocess, 13.0ms inference, 2.8ms postprocess per image at shape (1, 3, 640, 640)\n",
      "\n",
      "0: 640x640 1 scratches, 14.2ms\n",
      "Speed: 4.7ms preprocess, 14.2ms inference, 2.1ms postprocess per image at shape (1, 3, 640, 640)\n"
     ]
    },
    {
     "name": "stderr",
     "output_type": "stream",
     "text": [
      "Processing:  85%|█████████████████████████████████████████████████████████▊          | 153/180 [00:24<00:02,  9.68it/s]"
     ]
    },
    {
     "name": "stdout",
     "output_type": "stream",
     "text": [
      "\n",
      "0: 640x640 3 scratchess, 13.6ms\n",
      "Speed: 5.5ms preprocess, 13.6ms inference, 2.4ms postprocess per image at shape (1, 3, 640, 640)\n"
     ]
    },
    {
     "name": "stderr",
     "output_type": "stream",
     "text": [
      "Processing:  86%|██████████████████████████████████████████████████████████▏         | 154/180 [00:24<00:03,  8.31it/s]"
     ]
    },
    {
     "name": "stdout",
     "output_type": "stream",
     "text": [
      "\n",
      "0: 640x640 1 scratches, 13.9ms\n",
      "Speed: 5.0ms preprocess, 13.9ms inference, 3.5ms postprocess per image at shape (1, 3, 640, 640)\n",
      "\n",
      "0: 640x640 2 scratchess, 15.6ms\n",
      "Speed: 4.8ms preprocess, 15.6ms inference, 2.7ms postprocess per image at shape (1, 3, 640, 640)\n"
     ]
    },
    {
     "name": "stderr",
     "output_type": "stream",
     "text": [
      "Processing:  87%|██████████████████████████████████████████████████████████▉         | 156/180 [00:24<00:02,  8.60it/s]"
     ]
    },
    {
     "name": "stdout",
     "output_type": "stream",
     "text": [
      "\n",
      "0: 640x640 3 scratchess, 14.8ms\n",
      "Speed: 5.1ms preprocess, 14.8ms inference, 3.9ms postprocess per image at shape (1, 3, 640, 640)\n"
     ]
    },
    {
     "name": "stderr",
     "output_type": "stream",
     "text": [
      "Processing:  87%|███████████████████████████████████████████████████████████▎        | 157/180 [00:24<00:03,  7.55it/s]"
     ]
    },
    {
     "name": "stdout",
     "output_type": "stream",
     "text": [
      "\n",
      "0: 640x640 2 scratchess, 15.2ms\n",
      "Speed: 5.4ms preprocess, 15.2ms inference, 2.7ms postprocess per image at shape (1, 3, 640, 640)\n"
     ]
    },
    {
     "name": "stderr",
     "output_type": "stream",
     "text": [
      "Processing:  88%|███████████████████████████████████████████████████████████▋        | 158/180 [00:24<00:02,  7.47it/s]"
     ]
    },
    {
     "name": "stdout",
     "output_type": "stream",
     "text": [
      "\n",
      "0: 640x640 1 scratches, 15.1ms\n",
      "Speed: 5.1ms preprocess, 15.1ms inference, 2.6ms postprocess per image at shape (1, 3, 640, 640)\n",
      "\n",
      "0: 640x640 1 scratches, 14.8ms\n",
      "Speed: 4.8ms preprocess, 14.8ms inference, 2.5ms postprocess per image at shape (1, 3, 640, 640)\n"
     ]
    },
    {
     "name": "stderr",
     "output_type": "stream",
     "text": [
      "Processing:  89%|████████████████████████████████████████████████████████████▍       | 160/180 [00:25<00:02,  8.75it/s]"
     ]
    },
    {
     "name": "stdout",
     "output_type": "stream",
     "text": [
      "\n",
      "0: 640x640 3 scratchess, 14.8ms\n",
      "Speed: 5.2ms preprocess, 14.8ms inference, 3.7ms postprocess per image at shape (1, 3, 640, 640)\n"
     ]
    },
    {
     "name": "stderr",
     "output_type": "stream",
     "text": [
      "Processing:  89%|████████████████████████████████████████████████████████████▊       | 161/180 [00:25<00:02,  7.60it/s]"
     ]
    },
    {
     "name": "stdout",
     "output_type": "stream",
     "text": [
      "\n",
      "0: 640x640 3 scratchess, 14.5ms\n",
      "Speed: 4.9ms preprocess, 14.5ms inference, 4.2ms postprocess per image at shape (1, 3, 640, 640)\n"
     ]
    },
    {
     "name": "stderr",
     "output_type": "stream",
     "text": [
      "Processing:  90%|█████████████████████████████████████████████████████████████▏      | 162/180 [00:25<00:02,  6.81it/s]"
     ]
    },
    {
     "name": "stdout",
     "output_type": "stream",
     "text": [
      "\n",
      "0: 640x640 2 scratchess, 15.7ms\n",
      "Speed: 5.5ms preprocess, 15.7ms inference, 4.2ms postprocess per image at shape (1, 3, 640, 640)\n"
     ]
    },
    {
     "name": "stderr",
     "output_type": "stream",
     "text": [
      "Processing:  91%|█████████████████████████████████████████████████████████████▌      | 163/180 [00:25<00:02,  6.88it/s]"
     ]
    },
    {
     "name": "stdout",
     "output_type": "stream",
     "text": [
      "\n",
      "0: 640x640 1 scratches, 15.0ms\n",
      "Speed: 5.3ms preprocess, 15.0ms inference, 4.1ms postprocess per image at shape (1, 3, 640, 640)\n",
      "\n",
      "0: 640x640 2 scratchess, 14.1ms\n",
      "Speed: 5.0ms preprocess, 14.1ms inference, 3.1ms postprocess per image at shape (1, 3, 640, 640)\n"
     ]
    },
    {
     "name": "stderr",
     "output_type": "stream",
     "text": [
      "Processing:  92%|██████████████████████████████████████████████████████████████▎     | 165/180 [00:25<00:01,  7.64it/s]"
     ]
    },
    {
     "name": "stdout",
     "output_type": "stream",
     "text": [
      "\n",
      "0: 640x640 3 scratchess, 14.8ms\n",
      "Speed: 5.1ms preprocess, 14.8ms inference, 3.0ms postprocess per image at shape (1, 3, 640, 640)\n"
     ]
    },
    {
     "name": "stderr",
     "output_type": "stream",
     "text": [
      "Processing:  92%|██████████████████████████████████████████████████████████████▋     | 166/180 [00:26<00:02,  6.91it/s]"
     ]
    },
    {
     "name": "stdout",
     "output_type": "stream",
     "text": [
      "\n",
      "0: 640x640 1 scratches, 15.3ms\n",
      "Speed: 5.0ms preprocess, 15.3ms inference, 2.8ms postprocess per image at shape (1, 3, 640, 640)\n",
      "\n",
      "0: 640x640 2 scratchess, 14.2ms\n",
      "Speed: 5.5ms preprocess, 14.2ms inference, 3.9ms postprocess per image at shape (1, 3, 640, 640)\n"
     ]
    },
    {
     "name": "stderr",
     "output_type": "stream",
     "text": [
      "Processing:  93%|███████████████████████████████████████████████████████████████▍    | 168/180 [00:26<00:01,  7.61it/s]"
     ]
    },
    {
     "name": "stdout",
     "output_type": "stream",
     "text": [
      "\n",
      "0: 640x640 3 scratchess, 16.5ms\n",
      "Speed: 5.0ms preprocess, 16.5ms inference, 3.1ms postprocess per image at shape (1, 3, 640, 640)\n"
     ]
    },
    {
     "name": "stderr",
     "output_type": "stream",
     "text": [
      "Processing:  94%|███████████████████████████████████████████████████████████████▊    | 169/180 [00:26<00:01,  6.87it/s]"
     ]
    },
    {
     "name": "stdout",
     "output_type": "stream",
     "text": [
      "\n",
      "0: 640x640 1 scratches, 17.7ms\n",
      "Speed: 4.9ms preprocess, 17.7ms inference, 3.2ms postprocess per image at shape (1, 3, 640, 640)\n",
      "\n",
      "0: 640x640 1 inculsion, 2 scratchess, 15.5ms\n",
      "Speed: 5.1ms preprocess, 15.5ms inference, 2.5ms postprocess per image at shape (1, 3, 640, 640)\n"
     ]
    },
    {
     "name": "stderr",
     "output_type": "stream",
     "text": [
      "Processing:  95%|████████████████████████████████████████████████████████████████▌   | 171/180 [00:26<00:01,  7.01it/s]"
     ]
    },
    {
     "name": "stdout",
     "output_type": "stream",
     "text": [
      "\n",
      "0: 640x640 1 scratches, 15.3ms\n",
      "Speed: 5.1ms preprocess, 15.3ms inference, 3.1ms postprocess per image at shape (1, 3, 640, 640)\n",
      "\n",
      "0: 640x640 2 inculsions, 1 scratches, 15.9ms\n",
      "Speed: 5.0ms preprocess, 15.9ms inference, 3.7ms postprocess per image at shape (1, 3, 640, 640)\n"
     ]
    },
    {
     "name": "stderr",
     "output_type": "stream",
     "text": [
      "Processing:  96%|█████████████████████████████████████████████████████████████████▎  | 173/180 [00:27<00:00,  7.13it/s]"
     ]
    },
    {
     "name": "stdout",
     "output_type": "stream",
     "text": [
      "\n",
      "0: 640x640 2 scratchess, 14.2ms\n",
      "Speed: 5.3ms preprocess, 14.2ms inference, 2.5ms postprocess per image at shape (1, 3, 640, 640)\n"
     ]
    },
    {
     "name": "stderr",
     "output_type": "stream",
     "text": [
      "Processing:  97%|█████████████████████████████████████████████████████████████████▋  | 174/180 [00:27<00:00,  7.25it/s]"
     ]
    },
    {
     "name": "stdout",
     "output_type": "stream",
     "text": [
      "\n",
      "0: 640x640 2 scratchess, 15.0ms\n",
      "Speed: 5.2ms preprocess, 15.0ms inference, 2.4ms postprocess per image at shape (1, 3, 640, 640)\n"
     ]
    },
    {
     "name": "stderr",
     "output_type": "stream",
     "text": [
      "Processing:  97%|██████████████████████████████████████████████████████████████████  | 175/180 [00:27<00:00,  7.31it/s]"
     ]
    },
    {
     "name": "stdout",
     "output_type": "stream",
     "text": [
      "\n",
      "0: 640x640 1 inculsion, 1 scratches, 14.4ms\n",
      "Speed: 5.8ms preprocess, 14.4ms inference, 2.5ms postprocess per image at shape (1, 3, 640, 640)\n"
     ]
    },
    {
     "name": "stderr",
     "output_type": "stream",
     "text": [
      "Processing:  98%|██████████████████████████████████████████████████████████████████▍ | 176/180 [00:27<00:00,  7.31it/s]"
     ]
    },
    {
     "name": "stdout",
     "output_type": "stream",
     "text": [
      "\n",
      "0: 640x640 1 inculsion, 2 scratchess, 15.3ms\n",
      "Speed: 5.1ms preprocess, 15.3ms inference, 3.7ms postprocess per image at shape (1, 3, 640, 640)\n"
     ]
    },
    {
     "name": "stderr",
     "output_type": "stream",
     "text": [
      "Processing:  98%|██████████████████████████████████████████████████████████████████▊ | 177/180 [00:27<00:00,  6.70it/s]"
     ]
    },
    {
     "name": "stdout",
     "output_type": "stream",
     "text": [
      "\n",
      "0: 640x640 1 inculsion, 2 scratchess, 14.8ms\n",
      "Speed: 4.9ms preprocess, 14.8ms inference, 3.4ms postprocess per image at shape (1, 3, 640, 640)\n"
     ]
    },
    {
     "name": "stderr",
     "output_type": "stream",
     "text": [
      "Processing:  99%|███████████████████████████████████████████████████████████████████▏| 178/180 [00:27<00:00,  6.35it/s]"
     ]
    },
    {
     "name": "stdout",
     "output_type": "stream",
     "text": [
      "\n",
      "0: 640x640 1 scratches, 14.7ms\n",
      "Speed: 5.4ms preprocess, 14.7ms inference, 3.6ms postprocess per image at shape (1, 3, 640, 640)\n",
      "\n",
      "0: 640x640 1 scratches, 13.0ms\n",
      "Speed: 4.3ms preprocess, 13.0ms inference, 3.3ms postprocess per image at shape (1, 3, 640, 640)\n"
     ]
    },
    {
     "name": "stderr",
     "output_type": "stream",
     "text": [
      "Processing: 100%|████████████████████████████████████████████████████████████████████| 180/180 [00:27<00:00,  6.43it/s]"
     ]
    },
    {
     "name": "stdout",
     "output_type": "stream",
     "text": [
      "✅ Final feature matrix shape: (371, 271)\n"
     ]
    },
    {
     "name": "stderr",
     "output_type": "stream",
     "text": [
      "\n"
     ]
    }
   ],
   "source": [
    "\n",
    "\n",
    "# === Load YOLO model and setup hook ===\n",
    "model = YOLO(\"best_neu.pt\")\n",
    "features = []\n",
    "def hook(module, input, output):\n",
    "    features.append(output)\n",
    "hook_handle = model.model.model[-2].register_forward_hook(hook)  # Hook to last feature layer\n",
    "\n",
    "# === Class names (update to your own)\n",
    "CLASS_NAMES = [\"crazing\", \"inclusion\",\"patches\",\"pitted_surface\",\"rolled-in_scale\",\"scratches\"]\n",
    "\n",
    "# === IoU calculator ===\n",
    "def compute_iou(boxA, boxB):\n",
    "    xA = max(boxA[0], boxB[0])\n",
    "    yA = max(boxA[1], boxB[1])\n",
    "    xB = min(boxA[2], boxB[2])\n",
    "    yB = min(boxA[3], boxB[3])\n",
    "    interArea = max(0, xB - xA) * max(0, yB - yA)\n",
    "    boxAArea = max(1, (boxA[2] - boxA[0]) * (boxA[3] - boxA[1]))\n",
    "    boxBArea = max(1, (boxB[2] - boxB[0]) * (boxB[3] - boxB[1]))\n",
    "    return interArea / float(boxAArea + boxBArea - interArea + 1e-6)\n",
    "\n",
    "# === Parse YOLO TXT annotation ===\n",
    "def parse_yolo_txt_annotation(txt_path, img_width, img_height):\n",
    "    gt_boxes = []\n",
    "    gt_labels = []\n",
    "    if not os.path.exists(txt_path):\n",
    "        return gt_boxes, gt_labels\n",
    "    with open(txt_path, 'r') as f:\n",
    "        for line in f:\n",
    "            parts = line.strip().split()\n",
    "            class_id = int(parts[0])\n",
    "            x_center = float(parts[1]) * img_width\n",
    "            y_center = float(parts[2]) * img_height\n",
    "            w = float(parts[3]) * img_width\n",
    "            h = float(parts[4]) * img_height\n",
    "            x1 = int(x_center - w / 2)\n",
    "            y1 = int(y_center - h / 2)\n",
    "            x2 = int(x_center + w / 2)\n",
    "            y2 = int(y_center + h / 2)\n",
    "            gt_boxes.append([x1, y1, x2, y2])\n",
    "            gt_labels.append(CLASS_NAMES[class_id])\n",
    "    return gt_boxes, gt_labels\n",
    "\n",
    "# === GLCM feature extractor ===\n",
    "def extract_glcm_features(img):\n",
    "    img = cv2.cvtColor(img, cv2.COLOR_BGR2GRAY)\n",
    "    #img = np.array(img)\n",
    "\n",
    "    image_dataset = pd.DataFrame()\n",
    "\n",
    "    \n",
    "\n",
    "    df = pd.DataFrame()\n",
    "    GLCM = graycomatrix(img, [1], [0])       \n",
    "    GLCM_Energy = graycoprops(GLCM, 'energy')[0]\n",
    "    df['Energy'] = GLCM_Energy\n",
    "    GLCM_corr = graycoprops(GLCM, 'correlation')[0]\n",
    "    df['Corr'] = GLCM_corr       \n",
    "    GLCM_diss = graycoprops(GLCM, 'dissimilarity')[0]\n",
    "    df['Diss_sim'] = GLCM_diss       \n",
    "    GLCM_hom = graycoprops(GLCM, 'homogeneity')[0]\n",
    "    df['Homogen'] = GLCM_hom       \n",
    "    GLCM_contr = graycoprops(GLCM, 'contrast')[0]\n",
    "    df['Contrast'] = GLCM_contr\n",
    "\n",
    "\n",
    "    GLCM2 = graycomatrix(img, [3], [0])       \n",
    "    GLCM_Energy2 = graycoprops(GLCM2, 'energy')[0]\n",
    "    df['Energy2'] = GLCM_Energy2\n",
    "    GLCM_corr2 = graycoprops(GLCM2, 'correlation')[0]\n",
    "    df['Corr2'] = GLCM_corr2       \n",
    "    GLCM_diss2 = graycoprops(GLCM2, 'dissimilarity')[0]\n",
    "    df['Diss_sim2'] = GLCM_diss2       \n",
    "    GLCM_hom2 = graycoprops(GLCM2, 'homogeneity')[0]\n",
    "    df['Homogen2'] = GLCM_hom2       \n",
    "    GLCM_contr2 = graycoprops(GLCM2, 'contrast')[0]\n",
    "    df['Contrast2'] = GLCM_contr2\n",
    "\n",
    "    GLCM3 = graycomatrix(img, [5], [0])       \n",
    "    GLCM_Energy3 = graycoprops(GLCM3, 'energy')[0]\n",
    "    df['Energy3'] = GLCM_Energy3\n",
    "    GLCM_corr3 = graycoprops(GLCM3, 'correlation')[0]\n",
    "    df['Corr3'] = GLCM_corr3       \n",
    "    GLCM_diss3 = graycoprops(GLCM3, 'dissimilarity')[0]\n",
    "    df['Diss_sim3'] = GLCM_diss3       \n",
    "    GLCM_hom3 = graycoprops(GLCM3, 'homogeneity')[0]\n",
    "    df['Homogen3'] = GLCM_hom3       \n",
    "    GLCM_contr3 = graycoprops(GLCM3, 'contrast')[0]\n",
    "    df['Contrast3'] = GLCM_contr3\n",
    "\n",
    "    GLCM4 = graycomatrix(img, [0], [np.pi/4])       \n",
    "    GLCM_Energy4 = graycoprops(GLCM4, 'energy')[0]\n",
    "    df['Energy4'] = GLCM_Energy4\n",
    "    GLCM_corr4 = graycoprops(GLCM4, 'correlation')[0]\n",
    "    df['Corr4'] = GLCM_corr4       \n",
    "    GLCM_diss4 = graycoprops(GLCM4, 'dissimilarity')[0]\n",
    "    df['Diss_sim4'] = GLCM_diss4       \n",
    "    GLCM_hom4 = graycoprops(GLCM4, 'homogeneity')[0]\n",
    "    df['Homogen4'] = GLCM_hom4       \n",
    "    GLCM_contr4 = graycoprops(GLCM4, 'contrast')[0]\n",
    "    df['Contrast4'] = GLCM_contr4\n",
    "    \n",
    "    GLCM5 = graycomatrix(img, [0], [np.pi/2])       \n",
    "    GLCM_Energy5 = graycoprops(GLCM5, 'energy')[0]\n",
    "    df['Energy5'] = GLCM_Energy5\n",
    "    GLCM_corr5 = graycoprops(GLCM5, 'correlation')[0]\n",
    "    df['Corr5'] = GLCM_corr5       \n",
    "    GLCM_diss5 = graycoprops(GLCM5, 'dissimilarity')[0]\n",
    "    df['Diss_sim5'] = GLCM_diss5       \n",
    "    GLCM_hom5 = graycoprops(GLCM5, 'homogeneity')[0]\n",
    "    df['Homogen5'] = GLCM_hom5       \n",
    "    GLCM_contr5 = graycoprops(GLCM5, 'contrast')[0]\n",
    "    df['Contrast5'] = GLCM_contr5\n",
    "\n",
    "    df =df.drop([\"Corr4\",\"Diss_sim4\",\"Contrast4\",\"Corr5\",\"Diss_sim5\",\"Homogen3\",\"Homogen4\",\"Homogen5\",\"Contrast5\",\"Energy5\"],axis=1)\n",
    "    return df.values.flatten()\n",
    "\n",
    "\n",
    "# === YOLO feature extractor ===\n",
    "\n",
    "def extract_yolo_features(image):\n",
    "    im = cv2.resize(image, (640, 640))\n",
    "    im = im.astype(np.float32) / 255.0\n",
    "    im = torch.from_numpy(im.transpose(2, 0, 1)).unsqueeze(0)\n",
    "\n",
    "    # ✅ Match device with model (GPU or CPU)\n",
    "    device = next(model.model.parameters()).device\n",
    "    im = im.to(device)\n",
    "\n",
    "    features.clear()\n",
    "    with torch.no_grad():\n",
    "        _ = model.model(im)\n",
    "\n",
    "    feat_tensor = features[0].cpu()  # optionally move to CPU before converting to numpy\n",
    "    feat_vector = torch.nn.functional.adaptive_avg_pool2d(feat_tensor, 1).view(feat_tensor.shape[0], -1)\n",
    "    return feat_vector.squeeze().numpy()\n",
    "\n",
    "\n",
    "# === Thermal conversion ===\n",
    "def convert_to_thermal(img_gray):\n",
    "    return cv2.applyColorMap(img_gray, cv2.COLORMAP_INFERNO)\n",
    "\n",
    "# === Main pipeline ===\n",
    "def process_images(image_folder, annotation_folder):\n",
    "    all_data = []\n",
    "    all_targets = []\n",
    "\n",
    "    for file in tqdm(os.listdir(image_folder), desc=\"Processing\"):\n",
    "        if not file.lower().endswith((\".jpg\", \".jpeg\", \".png\")):\n",
    "            continue\n",
    "\n",
    "        filename = os.path.splitext(file)[0]\n",
    "        img_path = os.path.join(image_folder, file)\n",
    "        annot_path = os.path.join(annotation_folder, filename + \".txt\")\n",
    "\n",
    "        original = cv2.imread(img_path, cv2.IMREAD_GRAYSCALE)\n",
    "        if original is None:\n",
    "            continue\n",
    "\n",
    "        h, w = original.shape\n",
    "        thermal = convert_to_thermal(original)\n",
    "        original_color = cv2.cvtColor(original, cv2.COLOR_GRAY2BGR)\n",
    "\n",
    "        gt_boxes, gt_labels = parse_yolo_txt_annotation(annot_path, w, h)\n",
    "\n",
    "        results = model(original_color, conf=0.5)\n",
    "        det_boxes = results[0].boxes.xyxy.cpu().numpy().astype(int)\n",
    "\n",
    "        for x1, y1, x2, y2 in det_boxes:\n",
    "            norm_crop = original_color[y1:y2, x1:x2]\n",
    "            thermal_crop = thermal[y1:y2, x1:x2]\n",
    "            if norm_crop.size == 0 or thermal_crop.size == 0:\n",
    "                continue\n",
    "\n",
    "            try:\n",
    "                yolo_vec = extract_yolo_features(norm_crop)\n",
    "                glcm_vec = extract_glcm_features(thermal_crop)\n",
    "                row = list(yolo_vec) + list(glcm_vec)\n",
    "                all_data.append(row)\n",
    "\n",
    "                # Match with closest GT box\n",
    "                best_label = \"unknown\"\n",
    "                max_iou = 0\n",
    "                for gt_box, label in zip(gt_boxes, gt_labels):\n",
    "                    iou = compute_iou([x1, y1, x2, y2], gt_box)\n",
    "                    if iou > max_iou:\n",
    "                        max_iou = iou\n",
    "                        best_label = label\n",
    "                all_targets.append(best_label)\n",
    "\n",
    "            except Exception as e:\n",
    "                print(f\"⚠️ Error in {file}: {e}\")\n",
    "\n",
    "    # Build DataFrame\n",
    "    yolo_cols = [f\"{i}\" for i in range(len(yolo_vec))]\n",
    "    # Column names for GLCM features\n",
    "    glcm_cols = ['Energy', 'Corr', 'Diss_sim', 'Homogen', 'Contrast',\n",
    "             'Energy2', 'Corr2', 'Diss_sim2', 'Homogen2', 'Contrast2',\n",
    "             'Energy3', 'Corr3', 'Diss_sim3', 'Contrast3', 'Energy4']\n",
    "    df = pd.DataFrame(all_data, columns=yolo_cols + glcm_cols)\n",
    "\n",
    "    \n",
    "\n",
    "    # 2. Combine feature vectors into a row\n",
    "    #row = list(yolo_vec) + list(glcm_vec)\n",
    "\n",
    "# 3. When all rows are ready, construct DataFrame\n",
    "    df = pd.DataFrame(all_data, columns=yolo_cols + glcm_cols)\n",
    "    #df = pd.DataFrame(all_data)\n",
    "    print(\"✅ Final feature matrix shape:\", df.shape)\n",
    "    return df,all_targets\n",
    "\n",
    "# === Run pipeline ===\n",
    "df_combined,targets = process_images(\"images/Testing_data\",\"labels/Testing_data\")\n",
    "\n"
   ]
  },
  {
   "cell_type": "code",
   "execution_count": 3,
   "id": "e73fa61b-667b-4cc2-81d1-3b20d5b4d230",
   "metadata": {},
   "outputs": [
    {
     "data": {
      "text/html": [
       "<div>\n",
       "<style scoped>\n",
       "    .dataframe tbody tr th:only-of-type {\n",
       "        vertical-align: middle;\n",
       "    }\n",
       "\n",
       "    .dataframe tbody tr th {\n",
       "        vertical-align: top;\n",
       "    }\n",
       "\n",
       "    .dataframe thead th {\n",
       "        text-align: right;\n",
       "    }\n",
       "</style>\n",
       "<table border=\"1\" class=\"dataframe\">\n",
       "  <thead>\n",
       "    <tr style=\"text-align: right;\">\n",
       "      <th></th>\n",
       "      <th>0</th>\n",
       "      <th>1</th>\n",
       "      <th>2</th>\n",
       "      <th>3</th>\n",
       "      <th>4</th>\n",
       "      <th>5</th>\n",
       "      <th>6</th>\n",
       "      <th>7</th>\n",
       "      <th>8</th>\n",
       "      <th>9</th>\n",
       "      <th>...</th>\n",
       "      <th>Energy2</th>\n",
       "      <th>Corr2</th>\n",
       "      <th>Diss_sim2</th>\n",
       "      <th>Homogen2</th>\n",
       "      <th>Contrast2</th>\n",
       "      <th>Energy3</th>\n",
       "      <th>Corr3</th>\n",
       "      <th>Diss_sim3</th>\n",
       "      <th>Contrast3</th>\n",
       "      <th>Energy4</th>\n",
       "    </tr>\n",
       "  </thead>\n",
       "  <tbody>\n",
       "    <tr>\n",
       "      <th>0</th>\n",
       "      <td>-0.112531</td>\n",
       "      <td>0.153910</td>\n",
       "      <td>0.043503</td>\n",
       "      <td>-0.077240</td>\n",
       "      <td>0.092172</td>\n",
       "      <td>0.002211</td>\n",
       "      <td>0.304930</td>\n",
       "      <td>0.032772</td>\n",
       "      <td>0.151677</td>\n",
       "      <td>0.016948</td>\n",
       "      <td>...</td>\n",
       "      <td>0.040994</td>\n",
       "      <td>0.040522</td>\n",
       "      <td>18.382576</td>\n",
       "      <td>0.119646</td>\n",
       "      <td>893.611111</td>\n",
       "      <td>0.035261</td>\n",
       "      <td>-0.227564</td>\n",
       "      <td>23.914502</td>\n",
       "      <td>1257.465729</td>\n",
       "      <td>0.191874</td>\n",
       "    </tr>\n",
       "    <tr>\n",
       "      <th>1</th>\n",
       "      <td>-0.051448</td>\n",
       "      <td>0.040982</td>\n",
       "      <td>0.137438</td>\n",
       "      <td>-0.000993</td>\n",
       "      <td>-0.005521</td>\n",
       "      <td>0.075524</td>\n",
       "      <td>0.621741</td>\n",
       "      <td>0.116661</td>\n",
       "      <td>0.153873</td>\n",
       "      <td>0.024672</td>\n",
       "      <td>...</td>\n",
       "      <td>0.035695</td>\n",
       "      <td>0.313406</td>\n",
       "      <td>23.988194</td>\n",
       "      <td>0.091822</td>\n",
       "      <td>1319.103472</td>\n",
       "      <td>0.033802</td>\n",
       "      <td>0.120309</td>\n",
       "      <td>29.890625</td>\n",
       "      <td>1803.982812</td>\n",
       "      <td>0.143614</td>\n",
       "    </tr>\n",
       "    <tr>\n",
       "      <th>2</th>\n",
       "      <td>-0.142908</td>\n",
       "      <td>0.210903</td>\n",
       "      <td>0.078805</td>\n",
       "      <td>-0.153800</td>\n",
       "      <td>0.129768</td>\n",
       "      <td>-0.005610</td>\n",
       "      <td>0.230339</td>\n",
       "      <td>-0.046410</td>\n",
       "      <td>0.186263</td>\n",
       "      <td>0.007878</td>\n",
       "      <td>...</td>\n",
       "      <td>0.042258</td>\n",
       "      <td>0.081813</td>\n",
       "      <td>14.534596</td>\n",
       "      <td>0.135061</td>\n",
       "      <td>413.289911</td>\n",
       "      <td>0.039301</td>\n",
       "      <td>-0.175898</td>\n",
       "      <td>17.382823</td>\n",
       "      <td>546.638191</td>\n",
       "      <td>0.181162</td>\n",
       "    </tr>\n",
       "    <tr>\n",
       "      <th>3</th>\n",
       "      <td>-0.168631</td>\n",
       "      <td>0.051657</td>\n",
       "      <td>0.013357</td>\n",
       "      <td>-0.074684</td>\n",
       "      <td>0.256604</td>\n",
       "      <td>-0.061260</td>\n",
       "      <td>0.116432</td>\n",
       "      <td>-0.102369</td>\n",
       "      <td>0.179908</td>\n",
       "      <td>-0.000434</td>\n",
       "      <td>...</td>\n",
       "      <td>0.051234</td>\n",
       "      <td>0.179110</td>\n",
       "      <td>10.240205</td>\n",
       "      <td>0.164135</td>\n",
       "      <td>246.246735</td>\n",
       "      <td>0.044579</td>\n",
       "      <td>-0.035848</td>\n",
       "      <td>13.444030</td>\n",
       "      <td>338.694563</td>\n",
       "      <td>0.201294</td>\n",
       "    </tr>\n",
       "    <tr>\n",
       "      <th>4</th>\n",
       "      <td>-0.092821</td>\n",
       "      <td>0.104717</td>\n",
       "      <td>0.072597</td>\n",
       "      <td>0.000472</td>\n",
       "      <td>0.168390</td>\n",
       "      <td>0.033140</td>\n",
       "      <td>0.196826</td>\n",
       "      <td>0.163154</td>\n",
       "      <td>0.118357</td>\n",
       "      <td>0.081096</td>\n",
       "      <td>...</td>\n",
       "      <td>0.038488</td>\n",
       "      <td>0.401702</td>\n",
       "      <td>12.992790</td>\n",
       "      <td>0.141656</td>\n",
       "      <td>379.950157</td>\n",
       "      <td>0.035706</td>\n",
       "      <td>0.267316</td>\n",
       "      <td>15.211034</td>\n",
       "      <td>479.442759</td>\n",
       "      <td>0.163965</td>\n",
       "    </tr>\n",
       "    <tr>\n",
       "      <th>...</th>\n",
       "      <td>...</td>\n",
       "      <td>...</td>\n",
       "      <td>...</td>\n",
       "      <td>...</td>\n",
       "      <td>...</td>\n",
       "      <td>...</td>\n",
       "      <td>...</td>\n",
       "      <td>...</td>\n",
       "      <td>...</td>\n",
       "      <td>...</td>\n",
       "      <td>...</td>\n",
       "      <td>...</td>\n",
       "      <td>...</td>\n",
       "      <td>...</td>\n",
       "      <td>...</td>\n",
       "      <td>...</td>\n",
       "      <td>...</td>\n",
       "      <td>...</td>\n",
       "      <td>...</td>\n",
       "      <td>...</td>\n",
       "      <td>...</td>\n",
       "    </tr>\n",
       "    <tr>\n",
       "      <th>366</th>\n",
       "      <td>-0.073187</td>\n",
       "      <td>0.136348</td>\n",
       "      <td>0.273402</td>\n",
       "      <td>0.088446</td>\n",
       "      <td>0.474814</td>\n",
       "      <td>0.004685</td>\n",
       "      <td>0.092635</td>\n",
       "      <td>-0.011301</td>\n",
       "      <td>0.196753</td>\n",
       "      <td>0.470019</td>\n",
       "      <td>...</td>\n",
       "      <td>0.049447</td>\n",
       "      <td>0.066343</td>\n",
       "      <td>22.563241</td>\n",
       "      <td>0.072191</td>\n",
       "      <td>836.586957</td>\n",
       "      <td>0.053030</td>\n",
       "      <td>-0.148268</td>\n",
       "      <td>24.688406</td>\n",
       "      <td>913.359903</td>\n",
       "      <td>0.143531</td>\n",
       "    </tr>\n",
       "    <tr>\n",
       "      <th>367</th>\n",
       "      <td>0.041215</td>\n",
       "      <td>0.286292</td>\n",
       "      <td>0.079802</td>\n",
       "      <td>-0.153371</td>\n",
       "      <td>0.090923</td>\n",
       "      <td>0.244393</td>\n",
       "      <td>0.179788</td>\n",
       "      <td>0.071105</td>\n",
       "      <td>0.173398</td>\n",
       "      <td>-0.049650</td>\n",
       "      <td>...</td>\n",
       "      <td>0.029379</td>\n",
       "      <td>0.505342</td>\n",
       "      <td>23.421368</td>\n",
       "      <td>0.082767</td>\n",
       "      <td>1182.274359</td>\n",
       "      <td>0.028391</td>\n",
       "      <td>0.122907</td>\n",
       "      <td>34.859596</td>\n",
       "      <td>2171.983838</td>\n",
       "      <td>0.133294</td>\n",
       "    </tr>\n",
       "    <tr>\n",
       "      <th>368</th>\n",
       "      <td>-0.078939</td>\n",
       "      <td>0.329500</td>\n",
       "      <td>0.090674</td>\n",
       "      <td>-0.160737</td>\n",
       "      <td>0.213955</td>\n",
       "      <td>0.161361</td>\n",
       "      <td>0.270035</td>\n",
       "      <td>-0.012299</td>\n",
       "      <td>0.209257</td>\n",
       "      <td>0.051388</td>\n",
       "      <td>...</td>\n",
       "      <td>0.032800</td>\n",
       "      <td>0.320034</td>\n",
       "      <td>22.206169</td>\n",
       "      <td>0.071272</td>\n",
       "      <td>1033.092532</td>\n",
       "      <td>0.032506</td>\n",
       "      <td>0.052306</td>\n",
       "      <td>29.527922</td>\n",
       "      <td>1551.035714</td>\n",
       "      <td>0.141694</td>\n",
       "    </tr>\n",
       "    <tr>\n",
       "      <th>369</th>\n",
       "      <td>0.220264</td>\n",
       "      <td>0.052139</td>\n",
       "      <td>0.006646</td>\n",
       "      <td>0.188444</td>\n",
       "      <td>0.640382</td>\n",
       "      <td>0.829487</td>\n",
       "      <td>0.152037</td>\n",
       "      <td>0.584978</td>\n",
       "      <td>0.095894</td>\n",
       "      <td>0.307587</td>\n",
       "      <td>...</td>\n",
       "      <td>0.040919</td>\n",
       "      <td>0.953853</td>\n",
       "      <td>4.507772</td>\n",
       "      <td>0.237536</td>\n",
       "      <td>43.961375</td>\n",
       "      <td>0.039951</td>\n",
       "      <td>0.942762</td>\n",
       "      <td>5.076154</td>\n",
       "      <td>55.301761</td>\n",
       "      <td>0.135716</td>\n",
       "    </tr>\n",
       "    <tr>\n",
       "      <th>370</th>\n",
       "      <td>0.288372</td>\n",
       "      <td>0.160391</td>\n",
       "      <td>-0.019660</td>\n",
       "      <td>0.010557</td>\n",
       "      <td>0.477343</td>\n",
       "      <td>1.020186</td>\n",
       "      <td>0.129698</td>\n",
       "      <td>0.782644</td>\n",
       "      <td>0.077643</td>\n",
       "      <td>0.282655</td>\n",
       "      <td>...</td>\n",
       "      <td>0.030352</td>\n",
       "      <td>0.957295</td>\n",
       "      <td>8.557509</td>\n",
       "      <td>0.170437</td>\n",
       "      <td>179.976557</td>\n",
       "      <td>0.029358</td>\n",
       "      <td>0.945543</td>\n",
       "      <td>9.732235</td>\n",
       "      <td>230.621577</td>\n",
       "      <td>0.108031</td>\n",
       "    </tr>\n",
       "  </tbody>\n",
       "</table>\n",
       "<p>371 rows × 271 columns</p>\n",
       "</div>"
      ],
      "text/plain": [
       "            0         1         2         3         4         5         6  \\\n",
       "0   -0.112531  0.153910  0.043503 -0.077240  0.092172  0.002211  0.304930   \n",
       "1   -0.051448  0.040982  0.137438 -0.000993 -0.005521  0.075524  0.621741   \n",
       "2   -0.142908  0.210903  0.078805 -0.153800  0.129768 -0.005610  0.230339   \n",
       "3   -0.168631  0.051657  0.013357 -0.074684  0.256604 -0.061260  0.116432   \n",
       "4   -0.092821  0.104717  0.072597  0.000472  0.168390  0.033140  0.196826   \n",
       "..        ...       ...       ...       ...       ...       ...       ...   \n",
       "366 -0.073187  0.136348  0.273402  0.088446  0.474814  0.004685  0.092635   \n",
       "367  0.041215  0.286292  0.079802 -0.153371  0.090923  0.244393  0.179788   \n",
       "368 -0.078939  0.329500  0.090674 -0.160737  0.213955  0.161361  0.270035   \n",
       "369  0.220264  0.052139  0.006646  0.188444  0.640382  0.829487  0.152037   \n",
       "370  0.288372  0.160391 -0.019660  0.010557  0.477343  1.020186  0.129698   \n",
       "\n",
       "            7         8         9  ...   Energy2     Corr2  Diss_sim2  \\\n",
       "0    0.032772  0.151677  0.016948  ...  0.040994  0.040522  18.382576   \n",
       "1    0.116661  0.153873  0.024672  ...  0.035695  0.313406  23.988194   \n",
       "2   -0.046410  0.186263  0.007878  ...  0.042258  0.081813  14.534596   \n",
       "3   -0.102369  0.179908 -0.000434  ...  0.051234  0.179110  10.240205   \n",
       "4    0.163154  0.118357  0.081096  ...  0.038488  0.401702  12.992790   \n",
       "..        ...       ...       ...  ...       ...       ...        ...   \n",
       "366 -0.011301  0.196753  0.470019  ...  0.049447  0.066343  22.563241   \n",
       "367  0.071105  0.173398 -0.049650  ...  0.029379  0.505342  23.421368   \n",
       "368 -0.012299  0.209257  0.051388  ...  0.032800  0.320034  22.206169   \n",
       "369  0.584978  0.095894  0.307587  ...  0.040919  0.953853   4.507772   \n",
       "370  0.782644  0.077643  0.282655  ...  0.030352  0.957295   8.557509   \n",
       "\n",
       "     Homogen2    Contrast2   Energy3     Corr3  Diss_sim3    Contrast3  \\\n",
       "0    0.119646   893.611111  0.035261 -0.227564  23.914502  1257.465729   \n",
       "1    0.091822  1319.103472  0.033802  0.120309  29.890625  1803.982812   \n",
       "2    0.135061   413.289911  0.039301 -0.175898  17.382823   546.638191   \n",
       "3    0.164135   246.246735  0.044579 -0.035848  13.444030   338.694563   \n",
       "4    0.141656   379.950157  0.035706  0.267316  15.211034   479.442759   \n",
       "..        ...          ...       ...       ...        ...          ...   \n",
       "366  0.072191   836.586957  0.053030 -0.148268  24.688406   913.359903   \n",
       "367  0.082767  1182.274359  0.028391  0.122907  34.859596  2171.983838   \n",
       "368  0.071272  1033.092532  0.032506  0.052306  29.527922  1551.035714   \n",
       "369  0.237536    43.961375  0.039951  0.942762   5.076154    55.301761   \n",
       "370  0.170437   179.976557  0.029358  0.945543   9.732235   230.621577   \n",
       "\n",
       "      Energy4  \n",
       "0    0.191874  \n",
       "1    0.143614  \n",
       "2    0.181162  \n",
       "3    0.201294  \n",
       "4    0.163965  \n",
       "..        ...  \n",
       "366  0.143531  \n",
       "367  0.133294  \n",
       "368  0.141694  \n",
       "369  0.135716  \n",
       "370  0.108031  \n",
       "\n",
       "[371 rows x 271 columns]"
      ]
     },
     "execution_count": 3,
     "metadata": {},
     "output_type": "execute_result"
    }
   ],
   "source": [
    "df_combined"
   ]
  },
  {
   "cell_type": "code",
   "execution_count": 4,
   "id": "3dc05277-32cf-4b12-bac3-11b841c03f7b",
   "metadata": {},
   "outputs": [
    {
     "data": {
      "text/plain": [
       "371"
      ]
     },
     "execution_count": 4,
     "metadata": {},
     "output_type": "execute_result"
    }
   ],
   "source": [
    "len(targets)"
   ]
  },
  {
   "cell_type": "code",
   "execution_count": 5,
   "id": "094b04a9-2be5-4efe-b1b9-3fc4f9f4385d",
   "metadata": {},
   "outputs": [
    {
     "data": {
      "text/plain": [
       "['scratches',\n",
       " 'scratches',\n",
       " 'scratches',\n",
       " 'scratches',\n",
       " 'scratches',\n",
       " 'scratches',\n",
       " 'scratches',\n",
       " 'scratches',\n",
       " 'scratches',\n",
       " 'scratches',\n",
       " 'scratches',\n",
       " 'scratches',\n",
       " 'scratches',\n",
       " 'scratches',\n",
       " 'scratches',\n",
       " 'scratches',\n",
       " 'scratches',\n",
       " 'scratches',\n",
       " 'scratches',\n",
       " 'scratches',\n",
       " 'scratches',\n",
       " 'scratches',\n",
       " 'scratches',\n",
       " 'scratches',\n",
       " 'inclusion',\n",
       " 'scratches',\n",
       " 'scratches',\n",
       " 'scratches',\n",
       " 'scratches',\n",
       " 'scratches',\n",
       " 'scratches',\n",
       " 'scratches',\n",
       " 'scratches',\n",
       " 'scratches',\n",
       " 'scratches',\n",
       " 'scratches',\n",
       " 'scratches',\n",
       " 'scratches',\n",
       " 'scratches',\n",
       " 'scratches',\n",
       " 'scratches',\n",
       " 'scratches',\n",
       " 'scratches',\n",
       " 'scratches',\n",
       " 'scratches',\n",
       " 'scratches',\n",
       " 'inclusion',\n",
       " 'scratches',\n",
       " 'scratches',\n",
       " 'scratches',\n",
       " 'scratches',\n",
       " 'scratches',\n",
       " 'scratches',\n",
       " 'scratches',\n",
       " 'scratches',\n",
       " 'inclusion',\n",
       " 'scratches',\n",
       " 'scratches',\n",
       " 'unknown',\n",
       " 'scratches',\n",
       " 'scratches',\n",
       " 'inclusion',\n",
       " 'scratches',\n",
       " 'scratches',\n",
       " 'scratches',\n",
       " 'scratches',\n",
       " 'scratches',\n",
       " 'scratches',\n",
       " 'scratches',\n",
       " 'scratches',\n",
       " 'scratches',\n",
       " 'scratches',\n",
       " 'scratches',\n",
       " 'scratches',\n",
       " 'scratches',\n",
       " 'scratches',\n",
       " 'scratches',\n",
       " 'inclusion',\n",
       " 'scratches',\n",
       " 'scratches',\n",
       " 'scratches',\n",
       " 'scratches',\n",
       " 'unknown',\n",
       " 'unknown',\n",
       " 'scratches',\n",
       " 'scratches',\n",
       " 'scratches',\n",
       " 'scratches',\n",
       " 'scratches',\n",
       " 'scratches',\n",
       " 'scratches',\n",
       " 'scratches',\n",
       " 'unknown',\n",
       " 'scratches',\n",
       " 'scratches',\n",
       " 'scratches',\n",
       " 'unknown',\n",
       " 'unknown',\n",
       " 'scratches',\n",
       " 'scratches',\n",
       " 'scratches',\n",
       " 'scratches',\n",
       " 'scratches',\n",
       " 'scratches',\n",
       " 'scratches',\n",
       " 'scratches',\n",
       " 'scratches',\n",
       " 'scratches',\n",
       " 'scratches',\n",
       " 'scratches',\n",
       " 'scratches',\n",
       " 'scratches',\n",
       " 'scratches',\n",
       " 'scratches',\n",
       " 'scratches',\n",
       " 'scratches',\n",
       " 'scratches',\n",
       " 'scratches',\n",
       " 'scratches',\n",
       " 'scratches',\n",
       " 'scratches',\n",
       " 'unknown',\n",
       " 'scratches',\n",
       " 'scratches',\n",
       " 'scratches',\n",
       " 'scratches',\n",
       " 'scratches',\n",
       " 'scratches',\n",
       " 'scratches',\n",
       " 'scratches',\n",
       " 'scratches',\n",
       " 'scratches',\n",
       " 'scratches',\n",
       " 'scratches',\n",
       " 'scratches',\n",
       " 'unknown',\n",
       " 'scratches',\n",
       " 'scratches',\n",
       " 'scratches',\n",
       " 'scratches',\n",
       " 'scratches',\n",
       " 'scratches',\n",
       " 'scratches',\n",
       " 'scratches',\n",
       " 'scratches',\n",
       " 'scratches',\n",
       " 'scratches',\n",
       " 'scratches',\n",
       " 'scratches',\n",
       " 'scratches',\n",
       " 'scratches',\n",
       " 'scratches',\n",
       " 'scratches',\n",
       " 'scratches',\n",
       " 'scratches',\n",
       " 'scratches',\n",
       " 'scratches',\n",
       " 'scratches',\n",
       " 'scratches',\n",
       " 'scratches',\n",
       " 'scratches',\n",
       " 'scratches',\n",
       " 'scratches',\n",
       " 'scratches',\n",
       " 'scratches',\n",
       " 'scratches',\n",
       " 'scratches',\n",
       " 'scratches',\n",
       " 'scratches',\n",
       " 'scratches',\n",
       " 'scratches',\n",
       " 'unknown',\n",
       " 'scratches',\n",
       " 'scratches',\n",
       " 'scratches',\n",
       " 'scratches',\n",
       " 'scratches',\n",
       " 'scratches',\n",
       " 'unknown',\n",
       " 'scratches',\n",
       " 'scratches',\n",
       " 'scratches',\n",
       " 'scratches',\n",
       " 'scratches',\n",
       " 'scratches',\n",
       " 'scratches',\n",
       " 'scratches',\n",
       " 'scratches',\n",
       " 'scratches',\n",
       " 'scratches',\n",
       " 'scratches',\n",
       " 'scratches',\n",
       " 'scratches',\n",
       " 'scratches',\n",
       " 'scratches',\n",
       " 'scratches',\n",
       " 'scratches',\n",
       " 'scratches',\n",
       " 'scratches',\n",
       " 'scratches',\n",
       " 'scratches',\n",
       " 'scratches',\n",
       " 'unknown',\n",
       " 'unknown',\n",
       " 'scratches',\n",
       " 'scratches',\n",
       " 'scratches',\n",
       " 'scratches',\n",
       " 'scratches',\n",
       " 'scratches',\n",
       " 'scratches',\n",
       " 'scratches',\n",
       " 'scratches',\n",
       " 'scratches',\n",
       " 'scratches',\n",
       " 'scratches',\n",
       " 'scratches',\n",
       " 'scratches',\n",
       " 'scratches',\n",
       " 'scratches',\n",
       " 'scratches',\n",
       " 'unknown',\n",
       " 'unknown',\n",
       " 'scratches',\n",
       " 'scratches',\n",
       " 'scratches',\n",
       " 'scratches',\n",
       " 'scratches',\n",
       " 'scratches',\n",
       " 'scratches',\n",
       " 'scratches',\n",
       " 'scratches',\n",
       " 'scratches',\n",
       " 'scratches',\n",
       " 'scratches',\n",
       " 'scratches',\n",
       " 'scratches',\n",
       " 'scratches',\n",
       " 'scratches',\n",
       " 'scratches',\n",
       " 'scratches',\n",
       " 'scratches',\n",
       " 'scratches',\n",
       " 'scratches',\n",
       " 'scratches',\n",
       " 'scratches',\n",
       " 'scratches',\n",
       " 'scratches',\n",
       " 'scratches',\n",
       " 'scratches',\n",
       " 'scratches',\n",
       " 'scratches',\n",
       " 'scratches',\n",
       " 'scratches',\n",
       " 'unknown',\n",
       " 'scratches',\n",
       " 'scratches',\n",
       " 'scratches',\n",
       " 'inclusion',\n",
       " 'scratches',\n",
       " 'inclusion',\n",
       " 'scratches',\n",
       " 'scratches',\n",
       " 'scratches',\n",
       " 'scratches',\n",
       " 'scratches',\n",
       " 'scratches',\n",
       " 'scratches',\n",
       " 'scratches',\n",
       " 'scratches',\n",
       " 'scratches',\n",
       " 'scratches',\n",
       " 'scratches',\n",
       " 'unknown',\n",
       " 'scratches',\n",
       " 'scratches',\n",
       " 'scratches',\n",
       " 'scratches',\n",
       " 'inclusion',\n",
       " 'scratches',\n",
       " 'scratches',\n",
       " 'scratches',\n",
       " 'scratches',\n",
       " 'scratches',\n",
       " 'scratches',\n",
       " 'scratches',\n",
       " 'scratches',\n",
       " 'scratches',\n",
       " 'scratches',\n",
       " 'scratches',\n",
       " 'scratches',\n",
       " 'scratches',\n",
       " 'scratches',\n",
       " 'scratches',\n",
       " 'scratches',\n",
       " 'scratches',\n",
       " 'scratches',\n",
       " 'scratches',\n",
       " 'scratches',\n",
       " 'scratches',\n",
       " 'scratches',\n",
       " 'scratches',\n",
       " 'scratches',\n",
       " 'scratches',\n",
       " 'scratches',\n",
       " 'inclusion',\n",
       " 'scratches',\n",
       " 'scratches',\n",
       " 'scratches',\n",
       " 'scratches',\n",
       " 'scratches',\n",
       " 'unknown',\n",
       " 'scratches',\n",
       " 'scratches',\n",
       " 'scratches',\n",
       " 'scratches',\n",
       " 'scratches',\n",
       " 'scratches',\n",
       " 'unknown',\n",
       " 'scratches',\n",
       " 'scratches',\n",
       " 'scratches',\n",
       " 'scratches',\n",
       " 'scratches',\n",
       " 'scratches',\n",
       " 'scratches',\n",
       " 'scratches',\n",
       " 'scratches',\n",
       " 'scratches',\n",
       " 'scratches',\n",
       " 'scratches',\n",
       " 'unknown',\n",
       " 'scratches',\n",
       " 'scratches',\n",
       " 'scratches',\n",
       " 'scratches',\n",
       " 'scratches',\n",
       " 'scratches',\n",
       " 'scratches',\n",
       " 'scratches',\n",
       " 'scratches',\n",
       " 'scratches',\n",
       " 'scratches',\n",
       " 'scratches',\n",
       " 'scratches',\n",
       " 'scratches',\n",
       " 'scratches',\n",
       " 'scratches',\n",
       " 'unknown',\n",
       " 'scratches',\n",
       " 'scratches',\n",
       " 'unknown',\n",
       " 'scratches',\n",
       " 'scratches',\n",
       " 'scratches',\n",
       " 'inclusion',\n",
       " 'unknown',\n",
       " 'scratches',\n",
       " 'scratches',\n",
       " 'scratches',\n",
       " 'scratches',\n",
       " 'scratches',\n",
       " 'unknown',\n",
       " 'scratches',\n",
       " 'scratches',\n",
       " 'unknown',\n",
       " 'inclusion',\n",
       " 'scratches',\n",
       " 'scratches',\n",
       " 'scratches',\n",
       " 'scratches']"
      ]
     },
     "execution_count": 5,
     "metadata": {},
     "output_type": "execute_result"
    }
   ],
   "source": [
    "targets"
   ]
  },
  {
   "cell_type": "code",
   "execution_count": 6,
   "id": "ba497a23-a018-4f69-9bc4-3a3882a63f45",
   "metadata": {},
   "outputs": [],
   "source": [
    "scaler = joblib.load(\"scaler.pkl\")\n",
    "pca = joblib.load(\"pca.pkl\")\n",
    "svm_model = joblib.load(\"svm_model.pkl\")\n",
    "le = joblib.load(\"label_encoder.pkl\")\n"
   ]
  },
  {
   "cell_type": "code",
   "execution_count": 8,
   "id": "aa090ec6-5355-4269-9b92-204c7a3b095a",
   "metadata": {},
   "outputs": [
    {
     "name": "stdout",
     "output_type": "stream",
     "text": [
      "✅ Predictions added to dataframe!\n",
      "   svm_pred\n",
      "0         5\n",
      "1         5\n",
      "2         5\n",
      "3         5\n",
      "4         5\n"
     ]
    }
   ],
   "source": [
    "X_new = df_combined.drop(columns=[\"target\"], errors='ignore')\n",
    "\n",
    "# Scale and reduce dimensionality\n",
    "X_scaled = scaler.transform(X_new)\n",
    "X_pca = pca.transform(X_scaled)\n",
    "#print(X_pca.head())\n",
    "# Predict using the trained SVM model\n",
    "predicted_classes = svm_model.predict(X_pca)\n",
    "\n",
    "# Add to the dataframe\n",
    "df_combined[\"svm_pred\"] = predicted_classes\n",
    "df_combined[\"svm_pred_label\"] = le.inverse_transform(df_combined[\"svm_pred\"])\n",
    "\n",
    "print(\"✅ Predictions added to dataframe!\")\n",
    "print(df_combined[[\"svm_pred\"]].head())\n",
    "\n"
   ]
  },
  {
   "cell_type": "code",
   "execution_count": 9,
   "id": "56a80a46-f7d2-45ce-8988-d331ce2f5773",
   "metadata": {},
   "outputs": [
    {
     "data": {
      "text/html": [
       "<div>\n",
       "<style scoped>\n",
       "    .dataframe tbody tr th:only-of-type {\n",
       "        vertical-align: middle;\n",
       "    }\n",
       "\n",
       "    .dataframe tbody tr th {\n",
       "        vertical-align: top;\n",
       "    }\n",
       "\n",
       "    .dataframe thead th {\n",
       "        text-align: right;\n",
       "    }\n",
       "</style>\n",
       "<table border=\"1\" class=\"dataframe\">\n",
       "  <thead>\n",
       "    <tr style=\"text-align: right;\">\n",
       "      <th></th>\n",
       "      <th>0</th>\n",
       "      <th>1</th>\n",
       "      <th>2</th>\n",
       "      <th>3</th>\n",
       "      <th>4</th>\n",
       "      <th>5</th>\n",
       "      <th>6</th>\n",
       "      <th>7</th>\n",
       "      <th>8</th>\n",
       "      <th>9</th>\n",
       "      <th>...</th>\n",
       "      <th>Diss_sim2</th>\n",
       "      <th>Homogen2</th>\n",
       "      <th>Contrast2</th>\n",
       "      <th>Energy3</th>\n",
       "      <th>Corr3</th>\n",
       "      <th>Diss_sim3</th>\n",
       "      <th>Contrast3</th>\n",
       "      <th>Energy4</th>\n",
       "      <th>svm_pred</th>\n",
       "      <th>svm_pred_label</th>\n",
       "    </tr>\n",
       "  </thead>\n",
       "  <tbody>\n",
       "    <tr>\n",
       "      <th>0</th>\n",
       "      <td>-0.112531</td>\n",
       "      <td>0.153910</td>\n",
       "      <td>0.043503</td>\n",
       "      <td>-0.077240</td>\n",
       "      <td>0.092172</td>\n",
       "      <td>0.002211</td>\n",
       "      <td>0.304930</td>\n",
       "      <td>0.032772</td>\n",
       "      <td>0.151677</td>\n",
       "      <td>0.016948</td>\n",
       "      <td>...</td>\n",
       "      <td>18.382576</td>\n",
       "      <td>0.119646</td>\n",
       "      <td>893.611111</td>\n",
       "      <td>0.035261</td>\n",
       "      <td>-0.227564</td>\n",
       "      <td>23.914502</td>\n",
       "      <td>1257.465729</td>\n",
       "      <td>0.191874</td>\n",
       "      <td>5</td>\n",
       "      <td>scratches</td>\n",
       "    </tr>\n",
       "    <tr>\n",
       "      <th>1</th>\n",
       "      <td>-0.051448</td>\n",
       "      <td>0.040982</td>\n",
       "      <td>0.137438</td>\n",
       "      <td>-0.000993</td>\n",
       "      <td>-0.005521</td>\n",
       "      <td>0.075524</td>\n",
       "      <td>0.621741</td>\n",
       "      <td>0.116661</td>\n",
       "      <td>0.153873</td>\n",
       "      <td>0.024672</td>\n",
       "      <td>...</td>\n",
       "      <td>23.988194</td>\n",
       "      <td>0.091822</td>\n",
       "      <td>1319.103472</td>\n",
       "      <td>0.033802</td>\n",
       "      <td>0.120309</td>\n",
       "      <td>29.890625</td>\n",
       "      <td>1803.982812</td>\n",
       "      <td>0.143614</td>\n",
       "      <td>5</td>\n",
       "      <td>scratches</td>\n",
       "    </tr>\n",
       "    <tr>\n",
       "      <th>2</th>\n",
       "      <td>-0.142908</td>\n",
       "      <td>0.210903</td>\n",
       "      <td>0.078805</td>\n",
       "      <td>-0.153800</td>\n",
       "      <td>0.129768</td>\n",
       "      <td>-0.005610</td>\n",
       "      <td>0.230339</td>\n",
       "      <td>-0.046410</td>\n",
       "      <td>0.186263</td>\n",
       "      <td>0.007878</td>\n",
       "      <td>...</td>\n",
       "      <td>14.534596</td>\n",
       "      <td>0.135061</td>\n",
       "      <td>413.289911</td>\n",
       "      <td>0.039301</td>\n",
       "      <td>-0.175898</td>\n",
       "      <td>17.382823</td>\n",
       "      <td>546.638191</td>\n",
       "      <td>0.181162</td>\n",
       "      <td>5</td>\n",
       "      <td>scratches</td>\n",
       "    </tr>\n",
       "    <tr>\n",
       "      <th>3</th>\n",
       "      <td>-0.168631</td>\n",
       "      <td>0.051657</td>\n",
       "      <td>0.013357</td>\n",
       "      <td>-0.074684</td>\n",
       "      <td>0.256604</td>\n",
       "      <td>-0.061260</td>\n",
       "      <td>0.116432</td>\n",
       "      <td>-0.102369</td>\n",
       "      <td>0.179908</td>\n",
       "      <td>-0.000434</td>\n",
       "      <td>...</td>\n",
       "      <td>10.240205</td>\n",
       "      <td>0.164135</td>\n",
       "      <td>246.246735</td>\n",
       "      <td>0.044579</td>\n",
       "      <td>-0.035848</td>\n",
       "      <td>13.444030</td>\n",
       "      <td>338.694563</td>\n",
       "      <td>0.201294</td>\n",
       "      <td>5</td>\n",
       "      <td>scratches</td>\n",
       "    </tr>\n",
       "    <tr>\n",
       "      <th>4</th>\n",
       "      <td>-0.092821</td>\n",
       "      <td>0.104717</td>\n",
       "      <td>0.072597</td>\n",
       "      <td>0.000472</td>\n",
       "      <td>0.168390</td>\n",
       "      <td>0.033140</td>\n",
       "      <td>0.196826</td>\n",
       "      <td>0.163154</td>\n",
       "      <td>0.118357</td>\n",
       "      <td>0.081096</td>\n",
       "      <td>...</td>\n",
       "      <td>12.992790</td>\n",
       "      <td>0.141656</td>\n",
       "      <td>379.950157</td>\n",
       "      <td>0.035706</td>\n",
       "      <td>0.267316</td>\n",
       "      <td>15.211034</td>\n",
       "      <td>479.442759</td>\n",
       "      <td>0.163965</td>\n",
       "      <td>5</td>\n",
       "      <td>scratches</td>\n",
       "    </tr>\n",
       "    <tr>\n",
       "      <th>...</th>\n",
       "      <td>...</td>\n",
       "      <td>...</td>\n",
       "      <td>...</td>\n",
       "      <td>...</td>\n",
       "      <td>...</td>\n",
       "      <td>...</td>\n",
       "      <td>...</td>\n",
       "      <td>...</td>\n",
       "      <td>...</td>\n",
       "      <td>...</td>\n",
       "      <td>...</td>\n",
       "      <td>...</td>\n",
       "      <td>...</td>\n",
       "      <td>...</td>\n",
       "      <td>...</td>\n",
       "      <td>...</td>\n",
       "      <td>...</td>\n",
       "      <td>...</td>\n",
       "      <td>...</td>\n",
       "      <td>...</td>\n",
       "      <td>...</td>\n",
       "    </tr>\n",
       "    <tr>\n",
       "      <th>366</th>\n",
       "      <td>-0.073187</td>\n",
       "      <td>0.136348</td>\n",
       "      <td>0.273402</td>\n",
       "      <td>0.088446</td>\n",
       "      <td>0.474814</td>\n",
       "      <td>0.004685</td>\n",
       "      <td>0.092635</td>\n",
       "      <td>-0.011301</td>\n",
       "      <td>0.196753</td>\n",
       "      <td>0.470019</td>\n",
       "      <td>...</td>\n",
       "      <td>22.563241</td>\n",
       "      <td>0.072191</td>\n",
       "      <td>836.586957</td>\n",
       "      <td>0.053030</td>\n",
       "      <td>-0.148268</td>\n",
       "      <td>24.688406</td>\n",
       "      <td>913.359903</td>\n",
       "      <td>0.143531</td>\n",
       "      <td>5</td>\n",
       "      <td>scratches</td>\n",
       "    </tr>\n",
       "    <tr>\n",
       "      <th>367</th>\n",
       "      <td>0.041215</td>\n",
       "      <td>0.286292</td>\n",
       "      <td>0.079802</td>\n",
       "      <td>-0.153371</td>\n",
       "      <td>0.090923</td>\n",
       "      <td>0.244393</td>\n",
       "      <td>0.179788</td>\n",
       "      <td>0.071105</td>\n",
       "      <td>0.173398</td>\n",
       "      <td>-0.049650</td>\n",
       "      <td>...</td>\n",
       "      <td>23.421368</td>\n",
       "      <td>0.082767</td>\n",
       "      <td>1182.274359</td>\n",
       "      <td>0.028391</td>\n",
       "      <td>0.122907</td>\n",
       "      <td>34.859596</td>\n",
       "      <td>2171.983838</td>\n",
       "      <td>0.133294</td>\n",
       "      <td>5</td>\n",
       "      <td>scratches</td>\n",
       "    </tr>\n",
       "    <tr>\n",
       "      <th>368</th>\n",
       "      <td>-0.078939</td>\n",
       "      <td>0.329500</td>\n",
       "      <td>0.090674</td>\n",
       "      <td>-0.160737</td>\n",
       "      <td>0.213955</td>\n",
       "      <td>0.161361</td>\n",
       "      <td>0.270035</td>\n",
       "      <td>-0.012299</td>\n",
       "      <td>0.209257</td>\n",
       "      <td>0.051388</td>\n",
       "      <td>...</td>\n",
       "      <td>22.206169</td>\n",
       "      <td>0.071272</td>\n",
       "      <td>1033.092532</td>\n",
       "      <td>0.032506</td>\n",
       "      <td>0.052306</td>\n",
       "      <td>29.527922</td>\n",
       "      <td>1551.035714</td>\n",
       "      <td>0.141694</td>\n",
       "      <td>5</td>\n",
       "      <td>scratches</td>\n",
       "    </tr>\n",
       "    <tr>\n",
       "      <th>369</th>\n",
       "      <td>0.220264</td>\n",
       "      <td>0.052139</td>\n",
       "      <td>0.006646</td>\n",
       "      <td>0.188444</td>\n",
       "      <td>0.640382</td>\n",
       "      <td>0.829487</td>\n",
       "      <td>0.152037</td>\n",
       "      <td>0.584978</td>\n",
       "      <td>0.095894</td>\n",
       "      <td>0.307587</td>\n",
       "      <td>...</td>\n",
       "      <td>4.507772</td>\n",
       "      <td>0.237536</td>\n",
       "      <td>43.961375</td>\n",
       "      <td>0.039951</td>\n",
       "      <td>0.942762</td>\n",
       "      <td>5.076154</td>\n",
       "      <td>55.301761</td>\n",
       "      <td>0.135716</td>\n",
       "      <td>5</td>\n",
       "      <td>scratches</td>\n",
       "    </tr>\n",
       "    <tr>\n",
       "      <th>370</th>\n",
       "      <td>0.288372</td>\n",
       "      <td>0.160391</td>\n",
       "      <td>-0.019660</td>\n",
       "      <td>0.010557</td>\n",
       "      <td>0.477343</td>\n",
       "      <td>1.020186</td>\n",
       "      <td>0.129698</td>\n",
       "      <td>0.782644</td>\n",
       "      <td>0.077643</td>\n",
       "      <td>0.282655</td>\n",
       "      <td>...</td>\n",
       "      <td>8.557509</td>\n",
       "      <td>0.170437</td>\n",
       "      <td>179.976557</td>\n",
       "      <td>0.029358</td>\n",
       "      <td>0.945543</td>\n",
       "      <td>9.732235</td>\n",
       "      <td>230.621577</td>\n",
       "      <td>0.108031</td>\n",
       "      <td>5</td>\n",
       "      <td>scratches</td>\n",
       "    </tr>\n",
       "  </tbody>\n",
       "</table>\n",
       "<p>371 rows × 273 columns</p>\n",
       "</div>"
      ],
      "text/plain": [
       "            0         1         2         3         4         5         6  \\\n",
       "0   -0.112531  0.153910  0.043503 -0.077240  0.092172  0.002211  0.304930   \n",
       "1   -0.051448  0.040982  0.137438 -0.000993 -0.005521  0.075524  0.621741   \n",
       "2   -0.142908  0.210903  0.078805 -0.153800  0.129768 -0.005610  0.230339   \n",
       "3   -0.168631  0.051657  0.013357 -0.074684  0.256604 -0.061260  0.116432   \n",
       "4   -0.092821  0.104717  0.072597  0.000472  0.168390  0.033140  0.196826   \n",
       "..        ...       ...       ...       ...       ...       ...       ...   \n",
       "366 -0.073187  0.136348  0.273402  0.088446  0.474814  0.004685  0.092635   \n",
       "367  0.041215  0.286292  0.079802 -0.153371  0.090923  0.244393  0.179788   \n",
       "368 -0.078939  0.329500  0.090674 -0.160737  0.213955  0.161361  0.270035   \n",
       "369  0.220264  0.052139  0.006646  0.188444  0.640382  0.829487  0.152037   \n",
       "370  0.288372  0.160391 -0.019660  0.010557  0.477343  1.020186  0.129698   \n",
       "\n",
       "            7         8         9  ...  Diss_sim2  Homogen2    Contrast2  \\\n",
       "0    0.032772  0.151677  0.016948  ...  18.382576  0.119646   893.611111   \n",
       "1    0.116661  0.153873  0.024672  ...  23.988194  0.091822  1319.103472   \n",
       "2   -0.046410  0.186263  0.007878  ...  14.534596  0.135061   413.289911   \n",
       "3   -0.102369  0.179908 -0.000434  ...  10.240205  0.164135   246.246735   \n",
       "4    0.163154  0.118357  0.081096  ...  12.992790  0.141656   379.950157   \n",
       "..        ...       ...       ...  ...        ...       ...          ...   \n",
       "366 -0.011301  0.196753  0.470019  ...  22.563241  0.072191   836.586957   \n",
       "367  0.071105  0.173398 -0.049650  ...  23.421368  0.082767  1182.274359   \n",
       "368 -0.012299  0.209257  0.051388  ...  22.206169  0.071272  1033.092532   \n",
       "369  0.584978  0.095894  0.307587  ...   4.507772  0.237536    43.961375   \n",
       "370  0.782644  0.077643  0.282655  ...   8.557509  0.170437   179.976557   \n",
       "\n",
       "      Energy3     Corr3  Diss_sim3    Contrast3   Energy4  svm_pred  \\\n",
       "0    0.035261 -0.227564  23.914502  1257.465729  0.191874         5   \n",
       "1    0.033802  0.120309  29.890625  1803.982812  0.143614         5   \n",
       "2    0.039301 -0.175898  17.382823   546.638191  0.181162         5   \n",
       "3    0.044579 -0.035848  13.444030   338.694563  0.201294         5   \n",
       "4    0.035706  0.267316  15.211034   479.442759  0.163965         5   \n",
       "..        ...       ...        ...          ...       ...       ...   \n",
       "366  0.053030 -0.148268  24.688406   913.359903  0.143531         5   \n",
       "367  0.028391  0.122907  34.859596  2171.983838  0.133294         5   \n",
       "368  0.032506  0.052306  29.527922  1551.035714  0.141694         5   \n",
       "369  0.039951  0.942762   5.076154    55.301761  0.135716         5   \n",
       "370  0.029358  0.945543   9.732235   230.621577  0.108031         5   \n",
       "\n",
       "     svm_pred_label  \n",
       "0         scratches  \n",
       "1         scratches  \n",
       "2         scratches  \n",
       "3         scratches  \n",
       "4         scratches  \n",
       "..              ...  \n",
       "366       scratches  \n",
       "367       scratches  \n",
       "368       scratches  \n",
       "369       scratches  \n",
       "370       scratches  \n",
       "\n",
       "[371 rows x 273 columns]"
      ]
     },
     "execution_count": 9,
     "metadata": {},
     "output_type": "execute_result"
    }
   ],
   "source": [
    "df_combined"
   ]
  },
  {
   "cell_type": "code",
   "execution_count": 10,
   "id": "e1eea6f5-6448-4ce5-a5c4-6c002474eaac",
   "metadata": {},
   "outputs": [
    {
     "data": {
      "text/plain": [
       "array(['scratches', 'crazing', 'pitted', 'patches'], dtype=object)"
      ]
     },
     "execution_count": 10,
     "metadata": {},
     "output_type": "execute_result"
    }
   ],
   "source": [
    "df_combined[\"svm_pred_label\"].unique()\n"
   ]
  },
  {
   "cell_type": "code",
   "execution_count": null,
   "id": "64b26d16-ecd4-4f49-8dc5-202fceeb62b1",
   "metadata": {},
   "outputs": [],
   "source": []
  },
  {
   "cell_type": "code",
   "execution_count": null,
   "id": "b1f3bf54-ba26-46c6-80da-b244bb2d7db1",
   "metadata": {},
   "outputs": [],
   "source": []
  }
 ],
 "metadata": {
  "kernelspec": {
   "display_name": "Python 3 (ipykernel)",
   "language": "python",
   "name": "python3"
  },
  "language_info": {
   "codemirror_mode": {
    "name": "ipython",
    "version": 3
   },
   "file_extension": ".py",
   "mimetype": "text/x-python",
   "name": "python",
   "nbconvert_exporter": "python",
   "pygments_lexer": "ipython3",
   "version": "3.12.3"
  }
 },
 "nbformat": 4,
 "nbformat_minor": 5
}
