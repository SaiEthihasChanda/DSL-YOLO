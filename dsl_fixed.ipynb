{
 "cells": [
  {
   "cell_type": "code",
   "execution_count": 1,
   "id": "80b363f0",
   "metadata": {},
   "outputs": [
    {
     "name": "stdout",
     "output_type": "stream",
     "text": [
      "<class 'ultralytics.nn.modules.block.C2f'> <class 'ultralytics.nn.modules.block.C2f_DWRB'> <class 'ultralytics.nn.modules.block.SADown'> <class 'ultralytics.nn.modules.block.LASPPF'>\n"
     ]
    }
   ],
   "source": [
    "from ultralytics.nn.modules import C2f, C2f_DWRB, SADown, LASPPF\n",
    "print(C2f, C2f_DWRB, SADown, LASPPF)"
   ]
  },
  {
   "cell_type": "code",
   "execution_count": 8,
   "id": "7f4a9e9b",
   "metadata": {},
   "outputs": [
    {
     "name": "stdout",
     "output_type": "stream",
     "text": [
      "WARNING  no model scale passed. Assuming scale='n'.\n"
     ]
    },
    {
     "ename": "AttributeError",
     "evalue": "'C2f' object has no attribute 'c1'",
     "output_type": "error",
     "traceback": [
      "\u001b[1;31m---------------------------------------------------------------------------\u001b[0m",
      "\u001b[1;31mAttributeError\u001b[0m                            Traceback (most recent call last)",
      "Cell \u001b[1;32mIn[8], line 13\u001b[0m\n\u001b[0;32m     10\u001b[0m \u001b[38;5;28;01mfor\u001b[39;00m i, module \u001b[38;5;129;01min\u001b[39;00m \u001b[38;5;28menumerate\u001b[39m(model\u001b[38;5;241m.\u001b[39mmodel\u001b[38;5;241m.\u001b[39mmodel):\n\u001b[0;32m     11\u001b[0m     \u001b[38;5;28;01mif\u001b[39;00m \u001b[38;5;28misinstance\u001b[39m(module, C2f):  \n\u001b[0;32m     12\u001b[0m         \u001b[38;5;66;03m# Extract necessary parameters manually\u001b[39;00m\n\u001b[1;32m---> 13\u001b[0m         c1, c2, n, shortcut \u001b[38;5;241m=\u001b[39m module\u001b[38;5;241m.\u001b[39mc1, module\u001b[38;5;241m.\u001b[39mc2, module\u001b[38;5;241m.\u001b[39mn, module\u001b[38;5;241m.\u001b[39mshortcut\n\u001b[0;32m     14\u001b[0m         model\u001b[38;5;241m.\u001b[39mmodel\u001b[38;5;241m.\u001b[39mmodel[i] \u001b[38;5;241m=\u001b[39m C2f_DWRB()  \u001b[38;5;66;03m# Replace with custom block\u001b[39;00m\n\u001b[0;32m     16\u001b[0m     \u001b[38;5;28;01mif\u001b[39;00m \u001b[38;5;28misinstance\u001b[39m(module, SPPF):  \n\u001b[0;32m     17\u001b[0m         \u001b[38;5;66;03m# Extract SPPF parameters correctly\u001b[39;00m\n",
      "File \u001b[1;32m~\\anaconda3\\Lib\\site-packages\\torch\\nn\\modules\\module.py:1931\u001b[0m, in \u001b[0;36mModule.__getattr__\u001b[1;34m(self, name)\u001b[0m\n\u001b[0;32m   1929\u001b[0m     \u001b[38;5;28;01mif\u001b[39;00m name \u001b[38;5;129;01min\u001b[39;00m modules:\n\u001b[0;32m   1930\u001b[0m         \u001b[38;5;28;01mreturn\u001b[39;00m modules[name]\n\u001b[1;32m-> 1931\u001b[0m \u001b[38;5;28;01mraise\u001b[39;00m \u001b[38;5;167;01mAttributeError\u001b[39;00m(\n\u001b[0;32m   1932\u001b[0m     \u001b[38;5;124mf\u001b[39m\u001b[38;5;124m\"\u001b[39m\u001b[38;5;124m'\u001b[39m\u001b[38;5;132;01m{\u001b[39;00m\u001b[38;5;28mtype\u001b[39m(\u001b[38;5;28mself\u001b[39m)\u001b[38;5;241m.\u001b[39m\u001b[38;5;18m__name__\u001b[39m\u001b[38;5;132;01m}\u001b[39;00m\u001b[38;5;124m'\u001b[39m\u001b[38;5;124m object has no attribute \u001b[39m\u001b[38;5;124m'\u001b[39m\u001b[38;5;132;01m{\u001b[39;00mname\u001b[38;5;132;01m}\u001b[39;00m\u001b[38;5;124m'\u001b[39m\u001b[38;5;124m\"\u001b[39m\n\u001b[0;32m   1933\u001b[0m )\n",
      "\u001b[1;31mAttributeError\u001b[0m: 'C2f' object has no attribute 'c1'"
     ]
    }
   ],
   "source": [
    "from ultralytics import YOLO  # Import YOLO\n",
    "import ultralytics.nn.modules.block  # Ensure the module is accessible\n",
    "from ultralytics.nn.modules.block import SPPF, C2f  # Import existing YOLO blocks\n",
    "from ultralytics.nn.modules import C2f_DWRB, LASPPF  # Import custom blocks\n",
    "\n",
    "# Load YOLO model\n",
    "model = YOLO(\"yolov8.yaml\")\n",
    "\n",
    "# Iterate over model layers and replace specific blocks\n",
    "for i, module in enumerate(model.model.model):\n",
    "    if isinstance(module, C2f):  \n",
    "        # Extract necessary parameters manually\n",
    "        c1, c2, n, shortcut = module.c1, module.c2, module.n, module.shortcut\n",
    "        model.model.model[i] = C2f_DWRB()  # Replace with custom block\n",
    "\n",
    "    if isinstance(module, SPPF):  \n",
    "        # Extract SPPF parameters correctly\n",
    "        c1, c2, k = module.c1, module.c2, module.k\n",
    "        model.model.model[i] = LASPPF(c1, c2, k)  # Replace SPPF with LASPPF\n",
    "\n",
    "# Print model to verify changes\n",
    "print(model)\n",
    "\n"
   ]
  },
  {
   "cell_type": "code",
   "execution_count": null,
   "id": "687d363a-1a8e-4301-ac2d-36b0cd2c04ae",
   "metadata": {},
   "outputs": [],
   "source": [
    "import ultralytics\n",
    "print(ultralytics.__file__)\n"
   ]
  },
  {
   "cell_type": "code",
   "execution_count": null,
   "id": "66ba9786-15ab-4f13-b74e-db4cb4bfe3dc",
   "metadata": {},
   "outputs": [],
   "source": [
    "from ultralytics import YOLO\n",
    "\n",
    "model = YOLO(\"yolov8n.yaml\")  # Try loading the YAML config\n",
    "print(model)\n",
    "\n"
   ]
  },
  {
   "cell_type": "code",
   "execution_count": null,
   "id": "0ecff773-fbf1-4f56-b7dc-b820d1217f59",
   "metadata": {},
   "outputs": [],
   "source": [
    "!pip show YOLO"
   ]
  },
  {
   "cell_type": "code",
   "execution_count": null,
   "id": "e36f04c1-315d-4624-af22-a8d75348dbf2",
   "metadata": {},
   "outputs": [],
   "source": [
    "# Register custom modules explicitly\n",
    "from ultralytics.nn.modules import *\n",
    "\n",
    "# Ensure C2f_DWRB is recognized globally\n",
    "__all__ = __all__ + (\"C2f_DWRB\",)\n"
   ]
  },
  {
   "cell_type": "code",
   "execution_count": null,
   "id": "4f30c551-9c35-4811-a623-141f5a84facf",
   "metadata": {},
   "outputs": [],
   "source": [
    "from ultralytics import YOLO\n",
    "\n",
    "# Explicitly define task type\n",
    "model = YOLO(\"yolov8-custom.yaml\", task=\"detect\")"
   ]
  },
  {
   "cell_type": "code",
   "execution_count": null,
   "id": "6a35b96b-ba53-4923-a443-3b91e1cbbe4e",
   "metadata": {},
   "outputs": [],
   "source": [
    "from ultralytics.nn.modules.block import C2f_DWRB as C2f\n",
    "from ultralytics.nn.modules.block import C2f_DWRB\n",
    "print(C2f_DWRB)"
   ]
  },
  {
   "cell_type": "code",
   "execution_count": null,
   "id": "52299a7d-a1f0-4f6c-8252-7947a329d1ee",
   "metadata": {},
   "outputs": [],
   "source": [
    "from ultralytics.nn.modules.block import SADown as Downsample\n",
    "from ultralytics.nn.modules.block import SADown\n",
    "print(SADown)\n"
   ]
  },
  {
   "cell_type": "code",
   "execution_count": null,
   "id": "06fcdf60-7fc2-4071-af54-3e4413901057",
   "metadata": {},
   "outputs": [],
   "source": [
    "from ultralytics.nn.modules.block import LASPPF as SPPF\n",
    "from ultralytics.nn.modules.block import LASPPF\n",
    "print(LASPPF)"
   ]
  },
  {
   "cell_type": "code",
   "execution_count": null,
   "id": "8f4de764-ec8d-49cb-8edf-8fb02e34123c",
   "metadata": {},
   "outputs": [],
   "source": [
    "from ultralytics.models.yolo import YOLO\n",
    "\n",
    "# Load YOLO with your modified config\n",
    "model = YOLO(\"yolov8n.yaml\")  # Replace with your model config if needed\n",
    "print(model)"
   ]
  },
  {
   "cell_type": "code",
   "execution_count": null,
   "id": "151646d3-eb40-4f9e-bd1e-5cb981070ff4",
   "metadata": {},
   "outputs": [],
   "source": [
    "from ultralytics.models.yolo import YOLO\n",
    "from ultralytics.nn.modules.block import C2f, SPPF  # Import original YOLO blocks\n",
    "\n",
    "# Import your custom blocks\n",
    "from ultralytics.nn.modules.block import C2f_DWRB, SADown, LASPPF\n",
    "model = YOLO(\"yolov8n.yaml\")\n",
    "import torch.nn as nn\n",
    "\n",
    "# Loop through YOLO model layers and replace specific blocks\n",
    "for name, module in model.model.named_children():\n",
    "    if isinstance(module, C2f):\n",
    "        print(\"###########################################################\")\n",
    "        setattr(model.model, name, C2f_DWRB(module.cv1.conv.in_channels, module.cv2.conv.out_channels))\n",
    "    elif isinstance(module, SPPF):\n",
    "        setattr(model.model, name, LASPPF(module.cv1.conv.in_channels, module.cv2.conv.out_channels))\n",
    "    elif isinstance(module, nn.Conv2d) and module.kernel_size == (3, 3) and module.stride == (2, 2):\n",
    "        setattr(model.model, name, SADown(module.in_channels, module.out_channels))\n",
    "\n",
    "#print(model)"
   ]
  },
  {
   "cell_type": "code",
   "execution_count": null,
   "id": "b20fe4b5-3d76-47ec-bb68-fbc9375e6cf2",
   "metadata": {},
   "outputs": [],
   "source": [
    "print(model)\n"
   ]
  },
  {
   "cell_type": "code",
   "execution_count": null,
   "id": "08eeb07f-4679-44a2-b650-82ada1a1040b",
   "metadata": {},
   "outputs": [],
   "source": [
    "# Check if model contains custom blocks\n",
    "print(any(isinstance(m, C2f_DWRB) for m in model.model.modules()))  # Should print True\n",
    "print(any(isinstance(m, LASPPF) for m in model.model.modules()))  # Should print True\n",
    "print(any(isinstance(m, SADown) for m in model.model.modules()))  # Should print True\n"
   ]
  },
  {
   "cell_type": "code",
   "execution_count": null,
   "id": "9922cc88-3585-46ce-b039-6080772a3ca5",
   "metadata": {},
   "outputs": [],
   "source": []
  }
 ],
 "metadata": {
  "kernelspec": {
   "display_name": "Python 3 (ipykernel)",
   "language": "python",
   "name": "python3"
  },
  "language_info": {
   "codemirror_mode": {
    "name": "ipython",
    "version": 3
   },
   "file_extension": ".py",
   "mimetype": "text/x-python",
   "name": "python",
   "nbconvert_exporter": "python",
   "pygments_lexer": "ipython3",
   "version": "3.12.3"
  }
 },
 "nbformat": 4,
 "nbformat_minor": 5
}
